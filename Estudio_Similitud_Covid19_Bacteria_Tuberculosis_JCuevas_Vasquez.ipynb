{
  "nbformat": 4,
  "nbformat_minor": 0,
  "metadata": {
    "colab": {
      "name": "Estudio_Similitud_Covid19_Bacteria_Tuberculosis_JCuevas_Vasquez.ipynb",
      "provenance": [],
      "collapsed_sections": [],
      "authorship_tag": "ABX9TyNSLsGb7MzmBW13xfWUw5K9",
      "include_colab_link": true
    },
    "kernelspec": {
      "name": "python3",
      "display_name": "Python 3"
    },
    "language_info": {
      "name": "python"
    },
    "accelerator": "GPU"
  },
  "cells": [
    {
      "cell_type": "markdown",
      "metadata": {
        "id": "view-in-github",
        "colab_type": "text"
      },
      "source": [
        "<a href=\"https://colab.research.google.com/github/juancuevas-ops/analisis-molecular-covid19/blob/main/Estudio_Similitud_Covid19_Bacteria_Tuberculosis_JCuevas_Vasquez.ipynb\" target=\"_parent\"><img src=\"https://colab.research.google.com/assets/colab-badge.svg\" alt=\"Open In Colab\"/></a>"
      ]
    },
    {
      "cell_type": "code",
      "metadata": {
        "id": "OJ8exB283wDv",
        "colab": {
          "base_uri": "https://localhost:8080/"
        },
        "outputId": "f97334ef-9140-4dd2-c3c3-5530af959e3c"
      },
      "source": [
        "!pip install Bio\n",
        "from Bio import SeqIO"
      ],
      "execution_count": null,
      "outputs": [
        {
          "output_type": "stream",
          "text": [
            "Collecting Bio\n",
            "\u001b[?25l  Downloading https://files.pythonhosted.org/packages/85/84/13d3aa585fcaa010577cfdc40f3211933fa4468e98f8e63576066b2a7ad1/bio-0.4.1-py3-none-any.whl (73kB)\n",
            "\r\u001b[K     |████▌                           | 10kB 17.7MB/s eta 0:00:01\r\u001b[K     |█████████                       | 20kB 16.8MB/s eta 0:00:01\r\u001b[K     |█████████████▍                  | 30kB 13.8MB/s eta 0:00:01\r\u001b[K     |█████████████████▉              | 40kB 12.6MB/s eta 0:00:01\r\u001b[K     |██████████████████████▎         | 51kB 8.0MB/s eta 0:00:01\r\u001b[K     |██████████████████████████▊     | 61kB 8.8MB/s eta 0:00:01\r\u001b[K     |███████████████████████████████▏| 71kB 8.9MB/s eta 0:00:01\r\u001b[K     |████████████████████████████████| 81kB 5.9MB/s \n",
            "\u001b[?25hRequirement already satisfied: requests in /usr/local/lib/python3.7/dist-packages (from Bio) (2.23.0)\n",
            "Requirement already satisfied: numpy<1.20 in /usr/local/lib/python3.7/dist-packages (from Bio) (1.19.5)\n",
            "Collecting biopython>=1.78\n",
            "\u001b[?25l  Downloading https://files.pythonhosted.org/packages/3a/cd/0098eaff841850c01da928c7f509b72fd3e1f51d77b772e24de9e2312471/biopython-1.78-cp37-cp37m-manylinux1_x86_64.whl (2.3MB)\n",
            "\u001b[K     |████████████████████████████████| 2.3MB 12.6MB/s \n",
            "\u001b[?25hRequirement already satisfied: idna<3,>=2.5 in /usr/local/lib/python3.7/dist-packages (from requests->Bio) (2.10)\n",
            "Requirement already satisfied: urllib3!=1.25.0,!=1.25.1,<1.26,>=1.21.1 in /usr/local/lib/python3.7/dist-packages (from requests->Bio) (1.24.3)\n",
            "Requirement already satisfied: chardet<4,>=3.0.2 in /usr/local/lib/python3.7/dist-packages (from requests->Bio) (3.0.4)\n",
            "Requirement already satisfied: certifi>=2017.4.17 in /usr/local/lib/python3.7/dist-packages (from requests->Bio) (2020.12.5)\n",
            "Installing collected packages: biopython, Bio\n",
            "Successfully installed Bio-0.4.1 biopython-1.78\n"
          ],
          "name": "stdout"
        }
      ]
    },
    {
      "cell_type": "code",
      "metadata": {
        "id": "sbspgn575ZCQ"
      },
      "source": [
        "from Bio.Seq import Seq\n",
        "from Bio.SeqUtils import GC"
      ],
      "execution_count": null,
      "outputs": []
    },
    {
      "cell_type": "code",
      "metadata": {
        "id": "IZJARW535a0W",
        "colab": {
          "base_uri": "https://localhost:8080/"
        },
        "outputId": "76e0cd71-18fb-4609-b144-126ab05b152c"
      },
      "source": [
        "tuberculosis =  SeqIO.read(\"/content/tuberculosis.fasta\",\"fasta\")\n",
        "tuberculosis"
      ],
      "execution_count": null,
      "outputs": [
        {
          "output_type": "execute_result",
          "data": {
            "text/plain": [
              "SeqRecord(seq=Seq('TGTTTGGAGAGTTTGATCCTGGCTCAGGACGAACGCTGGCGGCGTGCTTAACAC...TTT'), id='NR_102810.2', name='NR_102810.2', description='NR_102810.2 Mycobacterium tuberculosis H37Rv 16S ribosomal RNA, complete sequence', dbxrefs=[])"
            ]
          },
          "metadata": {
            "tags": []
          },
          "execution_count": 4
        }
      ]
    },
    {
      "cell_type": "code",
      "metadata": {
        "id": "ipF8gvhT7Rxq",
        "colab": {
          "base_uri": "https://localhost:8080/"
        },
        "outputId": "d12242e7-112e-4d28-fb0f-6dbeea9e87b0"
      },
      "source": [
        "covid = SeqIO.read(\"/content/covid_19.fasta\",\"fasta\")\n",
        "covid"
      ],
      "execution_count": null,
      "outputs": [
        {
          "output_type": "execute_result",
          "data": {
            "text/plain": [
              "SeqRecord(seq=Seq('ATATTAGGTTTTTACCTACCCAGGAAAAGCCAACCAACCTCGATCTCTTGTAGA...AAA'), id='NC_004718.3', name='NC_004718.3', description='NC_004718.3 SARS coronavirus Tor2, complete genome', dbxrefs=[])"
            ]
          },
          "metadata": {
            "tags": []
          },
          "execution_count": 5
        }
      ]
    },
    {
      "cell_type": "markdown",
      "metadata": {
        "id": "7PG-kOYM8kpF"
      },
      "source": [
        "Contenido de GC en el ADN El contenido de GC (o contenido de guanina-citosina) es el porcentaje de bases nitrogenadas en una molécula de ADN o ARN que son guanina (G) o citosina (C) Utilidad En los experimentos de reacción en cadena de la polimerasa (PCR), el contenido de GC de oligonucleótidos cortos conocidos como cebadores se usa a menudo para predecir su temperatura de hibridación con el ADN molde. Un nivel de contenido de GC más alto indica una temperatura de fusión relativamente más alta. El ADN con bajo contenido de GC es menos estable que el ADN con alto contenido de GC"
      ]
    },
    {
      "cell_type": "code",
      "metadata": {
        "id": "2U_-sKjc8ju-"
      },
      "source": [
        "from Bio.SeqUtils import GC"
      ],
      "execution_count": null,
      "outputs": []
    },
    {
      "cell_type": "code",
      "metadata": {
        "id": "qE-a9FVZ9Hq0",
        "colab": {
          "base_uri": "https://localhost:8080/"
        },
        "outputId": "9f2f2cf2-4862-455e-a73d-241a4ee6e851"
      },
      "source": [
        "covid_seq = covid.seq\n",
        "covid_seq"
      ],
      "execution_count": null,
      "outputs": [
        {
          "output_type": "execute_result",
          "data": {
            "text/plain": [
              "Seq('ATATTAGGTTTTTACCTACCCAGGAAAAGCCAACCAACCTCGATCTCTTGTAGA...AAA')"
            ]
          },
          "metadata": {
            "tags": []
          },
          "execution_count": 7
        }
      ]
    },
    {
      "cell_type": "markdown",
      "metadata": {
        "id": "h4Egt1OYdmC2"
      },
      "source": [
        " temperatura de hibridación con el ADN molde del 40.76%"
      ]
    },
    {
      "cell_type": "code",
      "metadata": {
        "colab": {
          "base_uri": "https://localhost:8080/"
        },
        "id": "Ehosr5KMdUkD",
        "outputId": "3821a515-fddd-4694-a10a-ba94b1226301"
      },
      "source": [
        "GC(covid_seq)"
      ],
      "execution_count": 105,
      "outputs": [
        {
          "output_type": "execute_result",
          "data": {
            "text/plain": [
              "40.7616550704178"
            ]
          },
          "metadata": {
            "tags": []
          },
          "execution_count": 105
        }
      ]
    },
    {
      "cell_type": "code",
      "metadata": {
        "id": "1ewGmBKnB392",
        "colab": {
          "base_uri": "https://localhost:8080/"
        },
        "outputId": "d54b2c7e-f9e9-4e56-85dc-6a5afdf24a0e"
      },
      "source": [
        "tuberculosis_seq = tuberculosis.seq\n",
        "tuberculosis_seq"
      ],
      "execution_count": null,
      "outputs": [
        {
          "output_type": "execute_result",
          "data": {
            "text/plain": [
              "Seq('TGTTTGGAGAGTTTGATCCTGGCTCAGGACGAACGCTGGCGGCGTGCTTAACAC...TTT')"
            ]
          },
          "metadata": {
            "tags": []
          },
          "execution_count": 8
        }
      ]
    },
    {
      "cell_type": "markdown",
      "metadata": {
        "id": "a1NqTf8Vd6YS"
      },
      "source": [
        "temperatura de hibridación con el ADN molde del 57.96%"
      ]
    },
    {
      "cell_type": "code",
      "metadata": {
        "colab": {
          "base_uri": "https://localhost:8080/"
        },
        "id": "sfNdruNhdtKL",
        "outputId": "dbd5fb3b-3523-4b0b-9ea0-599008211b46"
      },
      "source": [
        "GC(tuberculosis_seq)"
      ],
      "execution_count": 106,
      "outputs": [
        {
          "output_type": "execute_result",
          "data": {
            "text/plain": [
              "57.96344647519582"
            ]
          },
          "metadata": {
            "tags": []
          },
          "execution_count": 106
        }
      ]
    },
    {
      "cell_type": "code",
      "metadata": {
        "id": "_BfFr1CJ-SNQ",
        "colab": {
          "base_uri": "https://localhost:8080/"
        },
        "outputId": "097492f5-d796-41b5-e89b-4315a030f32c"
      },
      "source": [
        "print(\"covid_seq ::\",len(covid_seq))"
      ],
      "execution_count": null,
      "outputs": [
        {
          "output_type": "stream",
          "text": [
            "covid_seq :: 29751\n"
          ],
          "name": "stdout"
        }
      ]
    },
    {
      "cell_type": "code",
      "metadata": {
        "id": "92u1GZHDCF6d",
        "colab": {
          "base_uri": "https://localhost:8080/"
        },
        "outputId": "e6f8b157-2350-4158-c8c9-fee90401a99e"
      },
      "source": [
        "print(\"tuberculosis_seq ::\",len(tuberculosis_seq))"
      ],
      "execution_count": null,
      "outputs": [
        {
          "output_type": "stream",
          "text": [
            "tuberculosis_seq :: 1532\n"
          ],
          "name": "stdout"
        }
      ]
    },
    {
      "cell_type": "code",
      "metadata": {
        "id": "w0tawyuT_ckg"
      },
      "source": [
        "from Bio.SeqUtils import GC\n"
      ],
      "execution_count": null,
      "outputs": []
    },
    {
      "cell_type": "code",
      "metadata": {
        "id": "I6ExfoS8CrA6",
        "colab": {
          "base_uri": "https://localhost:8080/"
        },
        "outputId": "fe32510f-c20b-4e21-b36b-e9ef1b3f1501"
      },
      "source": [
        "GC(covid_seq)"
      ],
      "execution_count": null,
      "outputs": [
        {
          "output_type": "execute_result",
          "data": {
            "text/plain": [
              "40.7616550704178"
            ]
          },
          "metadata": {
            "tags": []
          },
          "execution_count": 12
        }
      ]
    },
    {
      "cell_type": "code",
      "metadata": {
        "id": "gI0Tld3QCvoB",
        "colab": {
          "base_uri": "https://localhost:8080/"
        },
        "outputId": "dcca0df5-4fb4-4ebb-8378-db97e6882261"
      },
      "source": [
        "GC(tuberculosis_seq)"
      ],
      "execution_count": null,
      "outputs": [
        {
          "output_type": "execute_result",
          "data": {
            "text/plain": [
              "57.96344647519582"
            ]
          },
          "metadata": {
            "tags": []
          },
          "execution_count": 13
        }
      ]
    },
    {
      "cell_type": "markdown",
      "metadata": {
        "id": "Q-xEyLsmGyMn"
      },
      "source": [
        "Narativo tuberculosis  es el más estable con un GC de 57,96 seguido de covid"
      ]
    },
    {
      "cell_type": "code",
      "metadata": {
        "id": "dI-XaGqgDMhi"
      },
      "source": [
        "from Bio import pairwise2\n",
        "from Bio.pairwise2 import format_alignment"
      ],
      "execution_count": null,
      "outputs": []
    },
    {
      "cell_type": "code",
      "metadata": {
        "id": "fVccSSQuDO8x"
      },
      "source": [
        "alignments = pairwise2.align.globalxx(covid_seq,tuberculosis_seq)\n"
      ],
      "execution_count": null,
      "outputs": []
    },
    {
      "cell_type": "code",
      "metadata": {
        "colab": {
          "base_uri": "https://localhost:8080/"
        },
        "id": "S9ELLo2uE4QF",
        "outputId": "01f8bc75-5369-48e4-d5f3-1b3d049124c2"
      },
      "source": [
        "import tensorflow as tf\n",
        "device_name = tf.test.gpu_device_name()\n",
        "if device_name != '/device:GPU:0':\n",
        "  raise SystemError('GPU no encontrada')\n",
        "print('Encontrada GPU: {}'.format(device_name))"
      ],
      "execution_count": 21,
      "outputs": [
        {
          "output_type": "stream",
          "text": [
            "Encontrada GPU: /device:GPU:0\n"
          ],
          "name": "stdout"
        }
      ]
    },
    {
      "cell_type": "code",
      "metadata": {
        "id": "5HY281XdGOCD"
      },
      "source": [
        "from Bio.SeqUtils import GC"
      ],
      "execution_count": 23,
      "outputs": []
    },
    {
      "cell_type": "code",
      "metadata": {
        "id": "x5P1QFlgIa9C"
      },
      "source": [
        "from Bio.SeqUtils.ProtParam import ProteinAnalysis"
      ],
      "execution_count": 25,
      "outputs": []
    },
    {
      "cell_type": "code",
      "metadata": {
        "id": "ELqn5oOCHnGU"
      },
      "source": [
        "covid_protein = covid_seq.translate()"
      ],
      "execution_count": 30,
      "outputs": []
    },
    {
      "cell_type": "code",
      "metadata": {
        "colab": {
          "base_uri": "https://localhost:8080/"
        },
        "id": "ytHYL9Q9I4Qk",
        "outputId": "ac4bce26-bc8b-43df-ff41-1d03c6735bb4"
      },
      "source": [
        "print(\"covid_protein ::\",len(covid_protein))\n",
        "print(\"tuberculosis_protein ::\",len(tuberculosis_protein))"
      ],
      "execution_count": 33,
      "outputs": [
        {
          "output_type": "stream",
          "text": [
            "covid_protein :: 9917\n",
            "tuberculosis_protein :: 510\n"
          ],
          "name": "stdout"
        }
      ]
    },
    {
      "cell_type": "markdown",
      "metadata": {
        "id": "1md3N9XvJRX_"
      },
      "source": [
        " en este segmento de codigo Comprobamos el recuento de aminoácidos ProtParam.ProteinAnalysis Contador de colecciones"
      ]
    },
    {
      "cell_type": "code",
      "metadata": {
        "id": "C2dsvIdJJWYV"
      },
      "source": [
        "covid_analysed = ProteinAnalysis(str(covid_protein))\n"
      ],
      "execution_count": 37,
      "outputs": []
    },
    {
      "cell_type": "code",
      "metadata": {
        "colab": {
          "base_uri": "https://localhost:8080/"
        },
        "id": "FqJ5jkPOJu1X",
        "outputId": "d6517c70-53fe-4295-d9d3-0c662e7288d2"
      },
      "source": [
        "covid_analysed.count_amino_acids()"
      ],
      "execution_count": 35,
      "outputs": [
        {
          "output_type": "execute_result",
          "data": {
            "text/plain": [
              "{'A': 575,\n",
              " 'C': 313,\n",
              " 'D': 320,\n",
              " 'E': 365,\n",
              " 'F': 437,\n",
              " 'G': 438,\n",
              " 'H': 298,\n",
              " 'I': 566,\n",
              " 'K': 503,\n",
              " 'L': 1368,\n",
              " 'M': 365,\n",
              " 'N': 418,\n",
              " 'P': 314,\n",
              " 'Q': 388,\n",
              " 'R': 417,\n",
              " 'S': 737,\n",
              " 'T': 689,\n",
              " 'V': 683,\n",
              " 'W': 110,\n",
              " 'Y': 341}"
            ]
          },
          "metadata": {
            "tags": []
          },
          "execution_count": 35
        }
      ]
    },
    {
      "cell_type": "code",
      "metadata": {
        "colab": {
          "base_uri": "https://localhost:8080/"
        },
        "id": "K9IB2iY-JwtG",
        "outputId": "e8a8ca91-3b00-4aa9-d364-c9cf0ae739ed"
      },
      "source": [
        "tuberculosis_analysed = ProteinAnalysis(str(tuberculosis_protein))\n",
        "tuberculosis_analysed"
      ],
      "execution_count": 39,
      "outputs": [
        {
          "output_type": "execute_result",
          "data": {
            "text/plain": [
              "<Bio.SeqUtils.ProtParam.ProteinAnalysis at 0x7fa98ceeff90>"
            ]
          },
          "metadata": {
            "tags": []
          },
          "execution_count": 39
        }
      ]
    },
    {
      "cell_type": "code",
      "metadata": {
        "id": "EKSa1WMAKJLs"
      },
      "source": [
        "from collections import Counter"
      ],
      "execution_count": 40,
      "outputs": []
    },
    {
      "cell_type": "code",
      "metadata": {
        "id": "mS_rOcEgKNfE"
      },
      "source": [
        "covid_freq = Counter(covid_protein)\n"
      ],
      "execution_count": 41,
      "outputs": []
    },
    {
      "cell_type": "code",
      "metadata": {
        "colab": {
          "base_uri": "https://localhost:8080/"
        },
        "id": "oYxEgRHnKSt0",
        "outputId": "73019b51-adff-411e-9b2c-a0d887ebf21e"
      },
      "source": [
        "covid_freq"
      ],
      "execution_count": 42,
      "outputs": [
        {
          "output_type": "execute_result",
          "data": {
            "text/plain": [
              "Counter({'*': 272,\n",
              "         'A': 575,\n",
              "         'C': 313,\n",
              "         'D': 320,\n",
              "         'E': 365,\n",
              "         'F': 437,\n",
              "         'G': 438,\n",
              "         'H': 298,\n",
              "         'I': 566,\n",
              "         'K': 503,\n",
              "         'L': 1368,\n",
              "         'M': 365,\n",
              "         'N': 418,\n",
              "         'P': 314,\n",
              "         'Q': 388,\n",
              "         'R': 417,\n",
              "         'S': 737,\n",
              "         'T': 689,\n",
              "         'V': 683,\n",
              "         'W': 110,\n",
              "         'Y': 341})"
            ]
          },
          "metadata": {
            "tags": []
          },
          "execution_count": 42
        }
      ]
    },
    {
      "cell_type": "code",
      "metadata": {
        "id": "RnUYQCh5KeTq"
      },
      "source": [
        "tuberculosis_freq = Counter(tuberculosis_protein)"
      ],
      "execution_count": 43,
      "outputs": []
    },
    {
      "cell_type": "code",
      "metadata": {
        "colab": {
          "base_uri": "https://localhost:8080/"
        },
        "id": "fzNjInHYKYGk",
        "outputId": "d62469ef-7435-4ddd-f00a-dade4c85b92a"
      },
      "source": [
        "tuberculosis_freq"
      ],
      "execution_count": 44,
      "outputs": [
        {
          "output_type": "execute_result",
          "data": {
            "text/plain": [
              "Counter({'*': 18,\n",
              "         'A': 46,\n",
              "         'C': 15,\n",
              "         'D': 22,\n",
              "         'E': 17,\n",
              "         'F': 8,\n",
              "         'G': 60,\n",
              "         'H': 15,\n",
              "         'I': 11,\n",
              "         'K': 13,\n",
              "         'L': 33,\n",
              "         'M': 6,\n",
              "         'N': 12,\n",
              "         'P': 25,\n",
              "         'Q': 16,\n",
              "         'R': 61,\n",
              "         'S': 43,\n",
              "         'T': 25,\n",
              "         'V': 42,\n",
              "         'W': 13,\n",
              "         'Y': 9})"
            ]
          },
          "metadata": {
            "tags": []
          },
          "execution_count": 44
        }
      ]
    },
    {
      "cell_type": "code",
      "metadata": {
        "colab": {
          "base_uri": "https://localhost:8080/"
        },
        "id": "X8QGTjqqK97t",
        "outputId": "d7feee95-f801-4e36-bce3-7a95c095bdca"
      },
      "source": [
        "# aminoacidos mas comunes en covid\n",
        "Counter(covid_protein).most_common(10)"
      ],
      "execution_count": 45,
      "outputs": [
        {
          "output_type": "execute_result",
          "data": {
            "text/plain": [
              "[('L', 1368),\n",
              " ('S', 737),\n",
              " ('T', 689),\n",
              " ('V', 683),\n",
              " ('A', 575),\n",
              " ('I', 566),\n",
              " ('K', 503),\n",
              " ('G', 438),\n",
              " ('F', 437),\n",
              " ('N', 418)]"
            ]
          },
          "metadata": {
            "tags": []
          },
          "execution_count": 45
        }
      ]
    },
    {
      "cell_type": "code",
      "metadata": {
        "colab": {
          "base_uri": "https://localhost:8080/"
        },
        "id": "0p3jO9RdLFbw",
        "outputId": "47bc543d-29ac-4ac1-a49d-d386a4ad3e5c"
      },
      "source": [
        "Counter(tuberculosis_protein).most_common(10)"
      ],
      "execution_count": 46,
      "outputs": [
        {
          "output_type": "execute_result",
          "data": {
            "text/plain": [
              "[('R', 61),\n",
              " ('G', 60),\n",
              " ('A', 46),\n",
              " ('S', 43),\n",
              " ('V', 42),\n",
              " ('L', 33),\n",
              " ('T', 25),\n",
              " ('P', 25),\n",
              " ('D', 22),\n",
              " ('*', 18)]"
            ]
          },
          "metadata": {
            "tags": []
          },
          "execution_count": 46
        }
      ]
    },
    {
      "cell_type": "code",
      "metadata": {
        "id": "be4LUw_pLQXZ"
      },
      "source": [
        "from Bio.Seq import transcribe"
      ],
      "execution_count": 47,
      "outputs": []
    },
    {
      "cell_type": "code",
      "metadata": {
        "id": "erdIAZc5NpQ5"
      },
      "source": [
        "arn_seq_covid = transcribe(covid_seq)"
      ],
      "execution_count": 48,
      "outputs": []
    },
    {
      "cell_type": "code",
      "metadata": {
        "colab": {
          "base_uri": "https://localhost:8080/"
        },
        "id": "U_DGdAATRuiN",
        "outputId": "e88e9074-b130-4144-afca-a909c30c7efd"
      },
      "source": [
        "arn_seq_covid"
      ],
      "execution_count": 66,
      "outputs": [
        {
          "output_type": "execute_result",
          "data": {
            "text/plain": [
              "Seq('AUAUUAGGUUUUUACCUACCCAGGAAAAGCCAACCAACCUCGAUCUCUUGUAGA...AAA')"
            ]
          },
          "metadata": {
            "tags": []
          },
          "execution_count": 66
        }
      ]
    },
    {
      "cell_type": "code",
      "metadata": {
        "id": "Nb8al5JBN3Is"
      },
      "source": [
        "arn_seq_tuberculosis = transcribe(tuberculosis_seq)"
      ],
      "execution_count": 49,
      "outputs": []
    },
    {
      "cell_type": "code",
      "metadata": {
        "colab": {
          "base_uri": "https://localhost:8080/"
        },
        "id": "7qbRi29ERzjF",
        "outputId": "71d20e95-5532-4452-f07a-944984c90d50"
      },
      "source": [
        "arn_seq_tuberculosis"
      ],
      "execution_count": 67,
      "outputs": [
        {
          "output_type": "execute_result",
          "data": {
            "text/plain": [
              "Seq('UGUUUGGAGAGUUUGAUCCUGGCUCAGGACGAACGCUGGCGGCGUGCUUAACAC...UUU')"
            ]
          },
          "metadata": {
            "tags": []
          },
          "execution_count": 67
        }
      ]
    },
    {
      "cell_type": "code",
      "metadata": {
        "colab": {
          "base_uri": "https://localhost:8080/"
        },
        "id": "A2ABeXHGODjw",
        "outputId": "3041506c-2103-4321-ec5d-9f22ba0c46d2"
      },
      "source": [
        "arn_seq_covid.translate (to_stop = True)"
      ],
      "execution_count": 51,
      "outputs": [
        {
          "output_type": "execute_result",
          "data": {
            "text/plain": [
              "Seq('ILGFYLPRKSQPTSISCRSVL')"
            ]
          },
          "metadata": {
            "tags": []
          },
          "execution_count": 51
        }
      ]
    },
    {
      "cell_type": "code",
      "metadata": {
        "colab": {
          "base_uri": "https://localhost:8080/"
        },
        "id": "MEifpx_HOT5Y",
        "outputId": "b2de9b88-0b7b-4057-e17d-15231dc98886"
      },
      "source": [
        "arn_seq_tuberculosis.translate (to_stop = True)"
      ],
      "execution_count": 52,
      "outputs": [
        {
          "output_type": "stream",
          "text": [
            "/usr/local/lib/python3.7/dist-packages/Bio/Seq.py:2338: BiopythonWarning: Partial codon, len(sequence) not a multiple of three. Explicitly trim the sequence or add trailing N before translation. This may become an error in future.\n",
            "  BiopythonWarning,\n"
          ],
          "name": "stderr"
        },
        {
          "output_type": "execute_result",
          "data": {
            "text/plain": [
              "Seq('CLESLILAQDERWRRA')"
            ]
          },
          "metadata": {
            "tags": []
          },
          "execution_count": 52
        }
      ]
    },
    {
      "cell_type": "code",
      "metadata": {
        "colab": {
          "base_uri": "https://localhost:8080/",
          "height": 282
        },
        "id": "tco2PJxEP3rO",
        "outputId": "0b229cee-8965-4a21-efbd-fff6f4a4963d"
      },
      "source": [
        "import matplotlib.pyplot as plt#grafico de de fecuencia de aminoacidos derl covid\n",
        "\n",
        "\n",
        "plt.bar(covid_freq.keys(), covid_freq.values())"
      ],
      "execution_count": 60,
      "outputs": [
        {
          "output_type": "execute_result",
          "data": {
            "text/plain": [
              "<BarContainer object of 21 artists>"
            ]
          },
          "metadata": {
            "tags": []
          },
          "execution_count": 60
        },
        {
          "output_type": "display_data",
          "data": {
            "image/png": "[encoded data removed]",
            "text/plain": [
              "<Figure size 432x288 with 1 Axes>"
            ]
          },
          "metadata": {
            "tags": [],
            "needs_background": "light"
          }
        }
      ]
    },
    {
      "cell_type": "code",
      "metadata": {
        "colab": {
          "base_uri": "https://localhost:8080/",
          "height": 282
        },
        "id": "cre5hhBxQPOj",
        "outputId": "e6aa2ba9-76ca-4675-f79c-0d9938be874a"
      },
      "source": [
        "plt.bar(tuberculosis_freq.keys(), tuberculosis_freq.values())"
      ],
      "execution_count": 61,
      "outputs": [
        {
          "output_type": "execute_result",
          "data": {
            "text/plain": [
              "<BarContainer object of 21 artists>"
            ]
          },
          "metadata": {
            "tags": []
          },
          "execution_count": 61
        },
        {
          "output_type": "display_data",
          "data": {
            "image/png": "[encoded data removed]",
            "text/plain": [
              "<Figure size 432x288 with 1 Axes>"
            ]
          },
          "metadata": {
            "tags": [],
            "needs_background": "light"
          }
        }
      ]
    },
    {
      "cell_type": "code",
      "metadata": {
        "id": "eZ0B6fVzQ8dY"
      },
      "source": [
        "from Bio import pairwise2\n",
        "from Bio.pairwise2 import format_alignment\n"
      ],
      "execution_count": 63,
      "outputs": []
    },
    {
      "cell_type": "code",
      "metadata": {
        "id": "SniUafUXRh61"
      },
      "source": [
        "seq1 = Seq('ATATTAGGTTTTTACCTACCCAGGAAAAGCCAACCAACCTCGATCTCTTGTAGA')\n",
        "seq2 = Seq('TGTTTGGAGAGTTTGATCCTGGCTCAGGACGAACGCTGGCGGCGTGCTTAACAC')"
      ],
      "execution_count": 72,
      "outputs": []
    },
    {
      "cell_type": "code",
      "metadata": {
        "id": "mbykmkt1SdWH"
      },
      "source": [
        "from Bio.SeqUtils import GC"
      ],
      "execution_count": 73,
      "outputs": []
    },
    {
      "cell_type": "code",
      "metadata": {
        "colab": {
          "base_uri": "https://localhost:8080/"
        },
        "id": "CI158oeBSjO5",
        "outputId": "3f62ee11-233a-4741-da91-eeae63cd421a"
      },
      "source": [
        "GC(seq1)\n"
      ],
      "execution_count": 74,
      "outputs": [
        {
          "output_type": "execute_result",
          "data": {
            "text/plain": [
              "40.74074074074074"
            ]
          },
          "metadata": {
            "tags": []
          },
          "execution_count": 74
        }
      ]
    },
    {
      "cell_type": "code",
      "metadata": {
        "colab": {
          "base_uri": "https://localhost:8080/"
        },
        "id": "htnJSLiWTBsB",
        "outputId": "008d4ac3-f7e0-4b30-ca06-594b90b9f275"
      },
      "source": [
        "GC(seq2)"
      ],
      "execution_count": 75,
      "outputs": [
        {
          "output_type": "execute_result",
          "data": {
            "text/plain": [
              "55.55555555555556"
            ]
          },
          "metadata": {
            "tags": []
          },
          "execution_count": 75
        }
      ]
    },
    {
      "cell_type": "code",
      "metadata": {
        "id": "gEaWVQTKTJ9j"
      },
      "source": [
        "from Bio import pairwise2\n",
        "from Bio.pairwise2 import format_alignment"
      ],
      "execution_count": 76,
      "outputs": []
    },
    {
      "cell_type": "code",
      "metadata": {
        "id": "jVpQtlp9TTKB"
      },
      "source": [
        "alignments = pairwise2.align.globalxx(seq1,seq2)"
      ],
      "execution_count": 77,
      "outputs": []
    },
    {
      "cell_type": "code",
      "metadata": {
        "colab": {
          "base_uri": "https://localhost:8080/"
        },
        "id": "uFA8Eb-HTYQX",
        "outputId": "e5d14de8-d950-425f-e990-554722f05f39"
      },
      "source": [
        "print(alignments)"
      ],
      "execution_count": 78,
      "outputs": [
        {
          "output_type": "stream",
          "text": [
            "[Alignment(seqA='ATA-TT---AG-GTTTTT-ACCTACCCAG-GAAAAGC-CA--ACC-AAC-CT--CGAT-C-T-CTTGTAGA---', seqB='-T-GTTTGGAGAG--TTTGA--T--CC--TG----GCTCAGGA-CGAACGCTGGCG--GCGTGC-T-TA-ACAC', score=34.0, start=0, end=74), Alignment(seqA='ATATT---AG-GTTTTT-ACCTACCCAG-GAAAAGC-CA--ACC-AAC-CT--CGAT-C-T-CTTGTAGA---', seqB='-TGTTTGGAGAG--TTTGA--T--CC--TG----GCTCAGGA-CGAACGCTGGCG--GCGTGC-T-TA-ACAC', score=34.0, start=0, end=73), Alignment(seqA='ATA-T-T--AG-GTTTTT-ACCTACCCAG-GAAAAGC-CA--ACC-AAC-CT--CGAT-C-T-CTTGTAGA---', seqB='-T-GTTTGGAGAG--TTTGA--T--CC--TG----GCTCAGGA-CGAACGCTGGCG--GCGTGC-T-TA-ACAC', score=34.0, start=0, end=74), Alignment(seqA='ATAT-T--AG-GTTTTT-ACCTACCCAG-GAAAAGC-CA--ACC-AAC-CT--CGAT-C-T-CTTGTAGA---', seqB='-TGTTTGGAGAG--TTTGA--T--CC--TG----GCTCAGGA-CGAACGCTGGCG--GCGTGC-T-TA-ACAC', score=34.0, start=0, end=73), Alignment(seqA='ATA--TT--AG-GTTTTT-ACCTACCCAG-GAAAAGC-CA--ACC-AAC-CT--CGAT-C-T-CTTGTAGA---', seqB='-T-GTTTGGAGAG--TTTGA--T--CC--TG----GCTCAGGA-CGAACGCTGGCG--GCGTGC-T-TA-ACAC', score=34.0, start=0, end=74), Alignment(seqA='ATA-TT--AG-GTTTTT-ACCTACCCAG-GAAAAGC-CA--ACC-AAC-CT--CGAT-C-T-CTTGTAGA---', seqB='-TGTTTGGAGAG--TTTGA--T--CC--TG----GCTCAGGA-CGAACGCTGGCG--GCGTGC-T-TA-ACAC', score=34.0, start=0, end=73), Alignment(seqA='AT-ATT--AG-GTTTTT-ACCTACCCAG-GAAAAGC-CA--ACC-AAC-CT--CGAT-C-T-CTTGTAGA---', seqB='-TGTTTGGAGAG--TTTGA--T--CC--TG----GCTCAGGA-CGAACGCTGGCG--GCGTGC-T-TA-ACAC', score=34.0, start=0, end=73), Alignment(seqA='A--TATT--AG-GTTTTT-ACCTACCCAG-GAAAAGC-CA--ACC-AAC-CT--CGAT-C-T-CTTGTAGA---', seqB='-TGT-TTGGAGAG--TTTGA--T--CC--TG----GCTCAGGA-CGAACGCTGGCG--GCGTGC-T-TA-ACAC', score=34.0, start=0, end=74), Alignment(seqA='A-TATT--AG-GTTTTT-ACCTACCCAG-GAAAAGC-CA--ACC-AAC-CT--CGAT-C-T-CTTGTAGA---', seqB='TGT-TTGGAGAG--TTTGA--T--CC--TG----GCTCAGGA-CGAACGCTGGCG--GCGTGC-T-TA-ACAC', score=34.0, start=0, end=73), Alignment(seqA='-ATATT--AG-GTTTTT-ACCTACCCAG-GAAAAGC-CA--ACC-AAC-CT--CGAT-C-T-CTTGTAGA---', seqB='TGT-TTGGAGAG--TTTGA--T--CC--TG----GCTCAGGA-CGAACGCTGGCG--GCGTGC-T-TA-ACAC', score=34.0, start=0, end=73), Alignment(seqA='ATA-TT---AG-GTTTTT-ACCTACCCAG-GAAAAGC-CA--ACC-AAC-CT--CGAT-C-T-CTTGTAGA---', seqB='-T-GTTTGGAGAG-T-TTGA--T--CC--TG----GCTCAGGA-CGAACGCTGGCG--GCGTGC-T-TA-ACAC', score=34.0, start=0, end=74), Alignment(seqA='ATATT---AG-GTTTTT-ACCTACCCAG-GAAAAGC-CA--ACC-AAC-CT--CGAT-C-T-CTTGTAGA---', seqB='-TGTTTGGAGAG-T-TTGA--T--CC--TG----GCTCAGGA-CGAACGCTGGCG--GCGTGC-T-TA-ACAC', score=34.0, start=0, end=73), Alignment(seqA='ATA-T-T--AG-GTTTTT-ACCTACCCAG-GAAAAGC-CA--ACC-AAC-CT--CGAT-C-T-CTTGTAGA---', seqB='-T-GTTTGGAGAG-T-TTGA--T--CC--TG----GCTCAGGA-CGAACGCTGGCG--GCGTGC-T-TA-ACAC', score=34.0, start=0, end=74), Alignment(seqA='ATAT-T--AG-GTTTTT-ACCTACCCAG-GAAAAGC-CA--ACC-AAC-CT--CGAT-C-T-CTTGTAGA---', seqB='-TGTTTGGAGAG-T-TTGA--T--CC--TG----GCTCAGGA-CGAACGCTGGCG--GCGTGC-T-TA-ACAC', score=34.0, start=0, end=73), Alignment(seqA='ATA--TT--AG-GTTTTT-ACCTACCCAG-GAAAAGC-CA--ACC-AAC-CT--CGAT-C-T-CTTGTAGA---', seqB='-T-GTTTGGAGAG-T-TTGA--T--CC--TG----GCTCAGGA-CGAACGCTGGCG--GCGTGC-T-TA-ACAC', score=34.0, start=0, end=74), Alignment(seqA='ATA-TT--AG-GTTTTT-ACCTACCCAG-GAAAAGC-CA--ACC-AAC-CT--CGAT-C-T-CTTGTAGA---', seqB='-TGTTTGGAGAG-T-TTGA--T--CC--TG----GCTCAGGA-CGAACGCTGGCG--GCGTGC-T-TA-ACAC', score=34.0, start=0, end=73), Alignment(seqA='AT-ATT--AG-GTTTTT-ACCTACCCAG-GAAAAGC-CA--ACC-AAC-CT--CGAT-C-T-CTTGTAGA---', seqB='-TGTTTGGAGAG-T-TTGA--T--CC--TG----GCTCAGGA-CGAACGCTGGCG--GCGTGC-T-TA-ACAC', score=34.0, start=0, end=73), Alignment(seqA='A--TATT--AG-GTTTTT-ACCTACCCAG-GAAAAGC-CA--ACC-AAC-CT--CGAT-C-T-CTTGTAGA---', seqB='-TGT-TTGGAGAG-T-TTGA--T--CC--TG----GCTCAGGA-CGAACGCTGGCG--GCGTGC-T-TA-ACAC', score=34.0, start=0, end=74), Alignment(seqA='A-TATT--AG-GTTTTT-ACCTACCCAG-GAAAAGC-CA--ACC-AAC-CT--CGAT-C-T-CTTGTAGA---', seqB='TGT-TTGGAGAG-T-TTGA--T--CC--TG----GCTCAGGA-CGAACGCTGGCG--GCGTGC-T-TA-ACAC', score=34.0, start=0, end=73), Alignment(seqA='-ATATT--AG-GTTTTT-ACCTACCCAG-GAAAAGC-CA--ACC-AAC-CT--CGAT-C-T-CTTGTAGA---', seqB='TGT-TTGGAGAG-T-TTGA--T--CC--TG----GCTCAGGA-CGAACGCTGGCG--GCGTGC-T-TA-ACAC', score=34.0, start=0, end=73), Alignment(seqA='ATA-TT---AG-GTTTTT-ACCTACCCAG-GAAAAGC-CA--ACC-AAC-CT--CGAT-C-T-CTTGTAGA---', seqB='-T-GTTTGGAGAGT--TTGA--T--CC--TG----GCTCAGGA-CGAACGCTGGCG--GCGTGC-T-TA-ACAC', score=34.0, start=0, end=74), Alignment(seqA='ATATT---AG-GTTTTT-ACCTACCCAG-GAAAAGC-CA--ACC-AAC-CT--CGAT-C-T-CTTGTAGA---', seqB='-TGTTTGGAGAGT--TTGA--T--CC--TG----GCTCAGGA-CGAACGCTGGCG--GCGTGC-T-TA-ACAC', score=34.0, start=0, end=73), Alignment(seqA='ATA-T-T--AG-GTTTTT-ACCTACCCAG-GAAAAGC-CA--ACC-AAC-CT--CGAT-C-T-CTTGTAGA---', seqB='-T-GTTTGGAGAGT--TTGA--T--CC--TG----GCTCAGGA-CGAACGCTGGCG--GCGTGC-T-TA-ACAC', score=34.0, start=0, end=74), Alignment(seqA='ATAT-T--AG-GTTTTT-ACCTACCCAG-GAAAAGC-CA--ACC-AAC-CT--CGAT-C-T-CTTGTAGA---', seqB='-TGTTTGGAGAGT--TTGA--T--CC--TG----GCTCAGGA-CGAACGCTGGCG--GCGTGC-T-TA-ACAC', score=34.0, start=0, end=73), Alignment(seqA='ATA--TT--AG-GTTTTT-ACCTACCCAG-GAAAAGC-CA--ACC-AAC-CT--CGAT-C-T-CTTGTAGA---', seqB='-T-GTTTGGAGAGT--TTGA--T--CC--TG----GCTCAGGA-CGAACGCTGGCG--GCGTGC-T-TA-ACAC', score=34.0, start=0, end=74), Alignment(seqA='ATA-TT--AG-GTTTTT-ACCTACCCAG-GAAAAGC-CA--ACC-AAC-CT--CGAT-C-T-CTTGTAGA---', seqB='-TGTTTGGAGAGT--TTGA--T--CC--TG----GCTCAGGA-CGAACGCTGGCG--GCGTGC-T-TA-ACAC', score=34.0, start=0, end=73), Alignment(seqA='AT-ATT--AG-GTTTTT-ACCTACCCAG-GAAAAGC-CA--ACC-AAC-CT--CGAT-C-T-CTTGTAGA---', seqB='-TGTTTGGAGAGT--TTGA--T--CC--TG----GCTCAGGA-CGAACGCTGGCG--GCGTGC-T-TA-ACAC', score=34.0, start=0, end=73), Alignment(seqA='A--TATT--AG-GTTTTT-ACCTACCCAG-GAAAAGC-CA--ACC-AAC-CT--CGAT-C-T-CTTGTAGA---', seqB='-TGT-TTGGAGAGT--TTGA--T--CC--TG----GCTCAGGA-CGAACGCTGGCG--GCGTGC-T-TA-ACAC', score=34.0, start=0, end=74), Alignment(seqA='A-TATT--AG-GTTTTT-ACCTACCCAG-GAAAAGC-CA--ACC-AAC-CT--CGAT-C-T-CTTGTAGA---', seqB='TGT-TTGGAGAGT--TTGA--T--CC--TG----GCTCAGGA-CGAACGCTGGCG--GCGTGC-T-TA-ACAC', score=34.0, start=0, end=73), Alignment(seqA='-ATATT--AG-GTTTTT-ACCTACCCAG-GAAAAGC-CA--ACC-AAC-CT--CGAT-C-T-CTTGTAGA---', seqB='TGT-TTGGAGAGT--TTGA--T--CC--TG----GCTCAGGA-CGAACGCTGGCG--GCGTGC-T-TA-ACAC', score=34.0, start=0, end=73), Alignment(seqA='ATA-TT---AG-GTTTTT-ACCTACCCAG-GAAAAGC-CA--ACC-AAC-CT--CGAT-C-T-CTTGTAGA---', seqB='-T-GTTTGGAGAG-TT-TGA--T--CC--TG----GCTCAGGA-CGAACGCTGGCG--GCGTGC-T-TA-ACAC', score=34.0, start=0, end=74), Alignment(seqA='ATATT---AG-GTTTTT-ACCTACCCAG-GAAAAGC-CA--ACC-AAC-CT--CGAT-C-T-CTTGTAGA---', seqB='-TGTTTGGAGAG-TT-TGA--T--CC--TG----GCTCAGGA-CGAACGCTGGCG--GCGTGC-T-TA-ACAC', score=34.0, start=0, end=73), Alignment(seqA='ATA-T-T--AG-GTTTTT-ACCTACCCAG-GAAAAGC-CA--ACC-AAC-CT--CGAT-C-T-CTTGTAGA---', seqB='-T-GTTTGGAGAG-TT-TGA--T--CC--TG----GCTCAGGA-CGAACGCTGGCG--GCGTGC-T-TA-ACAC', score=34.0, start=0, end=74), Alignment(seqA='ATAT-T--AG-GTTTTT-ACCTACCCAG-GAAAAGC-CA--ACC-AAC-CT--CGAT-C-T-CTTGTAGA---', seqB='-TGTTTGGAGAG-TT-TGA--T--CC--TG----GCTCAGGA-CGAACGCTGGCG--GCGTGC-T-TA-ACAC', score=34.0, start=0, end=73), Alignment(seqA='ATA--TT--AG-GTTTTT-ACCTACCCAG-GAAAAGC-CA--ACC-AAC-CT--CGAT-C-T-CTTGTAGA---', seqB='-T-GTTTGGAGAG-TT-TGA--T--CC--TG----GCTCAGGA-CGAACGCTGGCG--GCGTGC-T-TA-ACAC', score=34.0, start=0, end=74), Alignment(seqA='ATA-TT--AG-GTTTTT-ACCTACCCAG-GAAAAGC-CA--ACC-AAC-CT--CGAT-C-T-CTTGTAGA---', seqB='-TGTTTGGAGAG-TT-TGA--T--CC--TG----GCTCAGGA-CGAACGCTGGCG--GCGTGC-T-TA-ACAC', score=34.0, start=0, end=73), Alignment(seqA='AT-ATT--AG-GTTTTT-ACCTACCCAG-GAAAAGC-CA--ACC-AAC-CT--CGAT-C-T-CTTGTAGA---', seqB='-TGTTTGGAGAG-TT-TGA--T--CC--TG----GCTCAGGA-CGAACGCTGGCG--GCGTGC-T-TA-ACAC', score=34.0, start=0, end=73), Alignment(seqA='A--TATT--AG-GTTTTT-ACCTACCCAG-GAAAAGC-CA--ACC-AAC-CT--CGAT-C-T-CTTGTAGA---', seqB='-TGT-TTGGAGAG-TT-TGA--T--CC--TG----GCTCAGGA-CGAACGCTGGCG--GCGTGC-T-TA-ACAC', score=34.0, start=0, end=74), Alignment(seqA='A-TATT--AG-GTTTTT-ACCTACCCAG-GAAAAGC-CA--ACC-AAC-CT--CGAT-C-T-CTTGTAGA---', seqB='TGT-TTGGAGAG-TT-TGA--T--CC--TG----GCTCAGGA-CGAACGCTGGCG--GCGTGC-T-TA-ACAC', score=34.0, start=0, end=73), Alignment(seqA='-ATATT--AG-GTTTTT-ACCTACCCAG-GAAAAGC-CA--ACC-AAC-CT--CGAT-C-T-CTTGTAGA---', seqB='TGT-TTGGAGAG-TT-TGA--T--CC--TG----GCTCAGGA-CGAACGCTGGCG--GCGTGC-T-TA-ACAC', score=34.0, start=0, end=73), Alignment(seqA='ATA-TT---AG-GTTTTT-ACCTACCCAG-GAAAAGC-CA--ACC-AAC-CT--CGAT-C-T-CTTGTAGA---', seqB='-T-GTTTGGAGAGT-T-TGA--T--CC--TG----GCTCAGGA-CGAACGCTGGCG--GCGTGC-T-TA-ACAC', score=34.0, start=0, end=74), Alignment(seqA='ATATT---AG-GTTTTT-ACCTACCCAG-GAAAAGC-CA--ACC-AAC-CT--CGAT-C-T-CTTGTAGA---', seqB='-TGTTTGGAGAGT-T-TGA--T--CC--TG----GCTCAGGA-CGAACGCTGGCG--GCGTGC-T-TA-ACAC', score=34.0, start=0, end=73), Alignment(seqA='ATA-T-T--AG-GTTTTT-ACCTACCCAG-GAAAAGC-CA--ACC-AAC-CT--CGAT-C-T-CTTGTAGA---', seqB='-T-GTTTGGAGAGT-T-TGA--T--CC--TG----GCTCAGGA-CGAACGCTGGCG--GCGTGC-T-TA-ACAC', score=34.0, start=0, end=74), Alignment(seqA='ATAT-T--AG-GTTTTT-ACCTACCCAG-GAAAAGC-CA--ACC-AAC-CT--CGAT-C-T-CTTGTAGA---', seqB='-TGTTTGGAGAGT-T-TGA--T--CC--TG----GCTCAGGA-CGAACGCTGGCG--GCGTGC-T-TA-ACAC', score=34.0, start=0, end=73), Alignment(seqA='ATA--TT--AG-GTTTTT-ACCTACCCAG-GAAAAGC-CA--ACC-AAC-CT--CGAT-C-T-CTTGTAGA---', seqB='-T-GTTTGGAGAGT-T-TGA--T--CC--TG----GCTCAGGA-CGAACGCTGGCG--GCGTGC-T-TA-ACAC', score=34.0, start=0, end=74), Alignment(seqA='ATA-TT--AG-GTTTTT-ACCTACCCAG-GAAAAGC-CA--ACC-AAC-CT--CGAT-C-T-CTTGTAGA---', seqB='-TGTTTGGAGAGT-T-TGA--T--CC--TG----GCTCAGGA-CGAACGCTGGCG--GCGTGC-T-TA-ACAC', score=34.0, start=0, end=73), Alignment(seqA='AT-ATT--AG-GTTTTT-ACCTACCCAG-GAAAAGC-CA--ACC-AAC-CT--CGAT-C-T-CTTGTAGA---', seqB='-TGTTTGGAGAGT-T-TGA--T--CC--TG----GCTCAGGA-CGAACGCTGGCG--GCGTGC-T-TA-ACAC', score=34.0, start=0, end=73), Alignment(seqA='A--TATT--AG-GTTTTT-ACCTACCCAG-GAAAAGC-CA--ACC-AAC-CT--CGAT-C-T-CTTGTAGA---', seqB='-TGT-TTGGAGAGT-T-TGA--T--CC--TG----GCTCAGGA-CGAACGCTGGCG--GCGTGC-T-TA-ACAC', score=34.0, start=0, end=74), Alignment(seqA='A-TATT--AG-GTTTTT-ACCTACCCAG-GAAAAGC-CA--ACC-AAC-CT--CGAT-C-T-CTTGTAGA---', seqB='TGT-TTGGAGAGT-T-TGA--T--CC--TG----GCTCAGGA-CGAACGCTGGCG--GCGTGC-T-TA-ACAC', score=34.0, start=0, end=73), Alignment(seqA='-ATATT--AG-GTTTTT-ACCTACCCAG-GAAAAGC-CA--ACC-AAC-CT--CGAT-C-T-CTTGTAGA---', seqB='TGT-TTGGAGAGT-T-TGA--T--CC--TG----GCTCAGGA-CGAACGCTGGCG--GCGTGC-T-TA-ACAC', score=34.0, start=0, end=73), Alignment(seqA='ATA-TT---AG-GTTTTT-ACCTACCCAG-GAAAAGC-CA--ACC-AAC-CT--CGAT-C-T-CTTGTAGA---', seqB='-T-GTTTGGAGAGTT--TGA--T--CC--TG----GCTCAGGA-CGAACGCTGGCG--GCGTGC-T-TA-ACAC', score=34.0, start=0, end=74), Alignment(seqA='ATATT---AG-GTTTTT-ACCTACCCAG-GAAAAGC-CA--ACC-AAC-CT--CGAT-C-T-CTTGTAGA---', seqB='-TGTTTGGAGAGTT--TGA--T--CC--TG----GCTCAGGA-CGAACGCTGGCG--GCGTGC-T-TA-ACAC', score=34.0, start=0, end=73), Alignment(seqA='ATA-T-T--AG-GTTTTT-ACCTACCCAG-GAAAAGC-CA--ACC-AAC-CT--CGAT-C-T-CTTGTAGA---', seqB='-T-GTTTGGAGAGTT--TGA--T--CC--TG----GCTCAGGA-CGAACGCTGGCG--GCGTGC-T-TA-ACAC', score=34.0, start=0, end=74), Alignment(seqA='ATAT-T--AG-GTTTTT-ACCTACCCAG-GAAAAGC-CA--ACC-AAC-CT--CGAT-C-T-CTTGTAGA---', seqB='-TGTTTGGAGAGTT--TGA--T--CC--TG----GCTCAGGA-CGAACGCTGGCG--GCGTGC-T-TA-ACAC', score=34.0, start=0, end=73), Alignment(seqA='ATA--TT--AG-GTTTTT-ACCTACCCAG-GAAAAGC-CA--ACC-AAC-CT--CGAT-C-T-CTTGTAGA---', seqB='-T-GTTTGGAGAGTT--TGA--T--CC--TG----GCTCAGGA-CGAACGCTGGCG--GCGTGC-T-TA-ACAC', score=34.0, start=0, end=74), Alignment(seqA='ATA-TT--AG-GTTTTT-ACCTACCCAG-GAAAAGC-CA--ACC-AAC-CT--CGAT-C-T-CTTGTAGA---', seqB='-TGTTTGGAGAGTT--TGA--T--CC--TG----GCTCAGGA-CGAACGCTGGCG--GCGTGC-T-TA-ACAC', score=34.0, start=0, end=73), Alignment(seqA='AT-ATT--AG-GTTTTT-ACCTACCCAG-GAAAAGC-CA--ACC-AAC-CT--CGAT-C-T-CTTGTAGA---', seqB='-TGTTTGGAGAGTT--TGA--T--CC--TG----GCTCAGGA-CGAACGCTGGCG--GCGTGC-T-TA-ACAC', score=34.0, start=0, end=73), Alignment(seqA='A--TATT--AG-GTTTTT-ACCTACCCAG-GAAAAGC-CA--ACC-AAC-CT--CGAT-C-T-CTTGTAGA---', seqB='-TGT-TTGGAGAGTT--TGA--T--CC--TG----GCTCAGGA-CGAACGCTGGCG--GCGTGC-T-TA-ACAC', score=34.0, start=0, end=74), Alignment(seqA='A-TATT--AG-GTTTTT-ACCTACCCAG-GAAAAGC-CA--ACC-AAC-CT--CGAT-C-T-CTTGTAGA---', seqB='TGT-TTGGAGAGTT--TGA--T--CC--TG----GCTCAGGA-CGAACGCTGGCG--GCGTGC-T-TA-ACAC', score=34.0, start=0, end=73), Alignment(seqA='-ATATT--AG-GTTTTT-ACCTACCCAG-GAAAAGC-CA--ACC-AAC-CT--CGAT-C-T-CTTGTAGA---', seqB='TGT-TTGGAGAGTT--TGA--T--CC--TG----GCTCAGGA-CGAACGCTGGCG--GCGTGC-T-TA-ACAC', score=34.0, start=0, end=73), Alignment(seqA='ATA-TT---AG-GTTTTT-ACCTACCCAG-GAAAAGC-CA--ACC-AAC-CT--CGAT-C-T-CTTGTAGA---', seqB='-T-GTTTGGAGAG-TTT-GA--T--CC--TG----GCTCAGGA-CGAACGCTGGCG--GCGTGC-T-TA-ACAC', score=34.0, start=0, end=74), Alignment(seqA='ATATT---AG-GTTTTT-ACCTACCCAG-GAAAAGC-CA--ACC-AAC-CT--CGAT-C-T-CTTGTAGA---', seqB='-TGTTTGGAGAG-TTT-GA--T--CC--TG----GCTCAGGA-CGAACGCTGGCG--GCGTGC-T-TA-ACAC', score=34.0, start=0, end=73), Alignment(seqA='ATA-T-T--AG-GTTTTT-ACCTACCCAG-GAAAAGC-CA--ACC-AAC-CT--CGAT-C-T-CTTGTAGA---', seqB='-T-GTTTGGAGAG-TTT-GA--T--CC--TG----GCTCAGGA-CGAACGCTGGCG--GCGTGC-T-TA-ACAC', score=34.0, start=0, end=74), Alignment(seqA='ATAT-T--AG-GTTTTT-ACCTACCCAG-GAAAAGC-CA--ACC-AAC-CT--CGAT-C-T-CTTGTAGA---', seqB='-TGTTTGGAGAG-TTT-GA--T--CC--TG----GCTCAGGA-CGAACGCTGGCG--GCGTGC-T-TA-ACAC', score=34.0, start=0, end=73), Alignment(seqA='ATA--TT--AG-GTTTTT-ACCTACCCAG-GAAAAGC-CA--ACC-AAC-CT--CGAT-C-T-CTTGTAGA---', seqB='-T-GTTTGGAGAG-TTT-GA--T--CC--TG----GCTCAGGA-CGAACGCTGGCG--GCGTGC-T-TA-ACAC', score=34.0, start=0, end=74), Alignment(seqA='ATA-TT--AG-GTTTTT-ACCTACCCAG-GAAAAGC-CA--ACC-AAC-CT--CGAT-C-T-CTTGTAGA---', seqB='-TGTTTGGAGAG-TTT-GA--T--CC--TG----GCTCAGGA-CGAACGCTGGCG--GCGTGC-T-TA-ACAC', score=34.0, start=0, end=73), Alignment(seqA='AT-ATT--AG-GTTTTT-ACCTACCCAG-GAAAAGC-CA--ACC-AAC-CT--CGAT-C-T-CTTGTAGA---', seqB='-TGTTTGGAGAG-TTT-GA--T--CC--TG----GCTCAGGA-CGAACGCTGGCG--GCGTGC-T-TA-ACAC', score=34.0, start=0, end=73), Alignment(seqA='A--TATT--AG-GTTTTT-ACCTACCCAG-GAAAAGC-CA--ACC-AAC-CT--CGAT-C-T-CTTGTAGA---', seqB='-TGT-TTGGAGAG-TTT-GA--T--CC--TG----GCTCAGGA-CGAACGCTGGCG--GCGTGC-T-TA-ACAC', score=34.0, start=0, end=74), Alignment(seqA='A-TATT--AG-GTTTTT-ACCTACCCAG-GAAAAGC-CA--ACC-AAC-CT--CGAT-C-T-CTTGTAGA---', seqB='TGT-TTGGAGAG-TTT-GA--T--CC--TG----GCTCAGGA-CGAACGCTGGCG--GCGTGC-T-TA-ACAC', score=34.0, start=0, end=73), Alignment(seqA='-ATATT--AG-GTTTTT-ACCTACCCAG-GAAAAGC-CA--ACC-AAC-CT--CGAT-C-T-CTTGTAGA---', seqB='TGT-TTGGAGAG-TTT-GA--T--CC--TG----GCTCAGGA-CGAACGCTGGCG--GCGTGC-T-TA-ACAC', score=34.0, start=0, end=73), Alignment(seqA='ATA-TT---AG-GTTTTT-ACCTACCCAG-GAAAAGC-CA--ACC-AAC-CT--CGAT-C-T-CTTGTAGA---', seqB='-T-GTTTGGAGAGT-TT-GA--T--CC--TG----GCTCAGGA-CGAACGCTGGCG--GCGTGC-T-TA-ACAC', score=34.0, start=0, end=74), Alignment(seqA='ATATT---AG-GTTTTT-ACCTACCCAG-GAAAAGC-CA--ACC-AAC-CT--CGAT-C-T-CTTGTAGA---', seqB='-TGTTTGGAGAGT-TT-GA--T--CC--TG----GCTCAGGA-CGAACGCTGGCG--GCGTGC-T-TA-ACAC', score=34.0, start=0, end=73), Alignment(seqA='ATA-T-T--AG-GTTTTT-ACCTACCCAG-GAAAAGC-CA--ACC-AAC-CT--CGAT-C-T-CTTGTAGA---', seqB='-T-GTTTGGAGAGT-TT-GA--T--CC--TG----GCTCAGGA-CGAACGCTGGCG--GCGTGC-T-TA-ACAC', score=34.0, start=0, end=74), Alignment(seqA='ATAT-T--AG-GTTTTT-ACCTACCCAG-GAAAAGC-CA--ACC-AAC-CT--CGAT-C-T-CTTGTAGA---', seqB='-TGTTTGGAGAGT-TT-GA--T--CC--TG----GCTCAGGA-CGAACGCTGGCG--GCGTGC-T-TA-ACAC', score=34.0, start=0, end=73), Alignment(seqA='ATA--TT--AG-GTTTTT-ACCTACCCAG-GAAAAGC-CA--ACC-AAC-CT--CGAT-C-T-CTTGTAGA---', seqB='-T-GTTTGGAGAGT-TT-GA--T--CC--TG----GCTCAGGA-CGAACGCTGGCG--GCGTGC-T-TA-ACAC', score=34.0, start=0, end=74), Alignment(seqA='ATA-TT--AG-GTTTTT-ACCTACCCAG-GAAAAGC-CA--ACC-AAC-CT--CGAT-C-T-CTTGTAGA---', seqB='-TGTTTGGAGAGT-TT-GA--T--CC--TG----GCTCAGGA-CGAACGCTGGCG--GCGTGC-T-TA-ACAC', score=34.0, start=0, end=73), Alignment(seqA='AT-ATT--AG-GTTTTT-ACCTACCCAG-GAAAAGC-CA--ACC-AAC-CT--CGAT-C-T-CTTGTAGA---', seqB='-TGTTTGGAGAGT-TT-GA--T--CC--TG----GCTCAGGA-CGAACGCTGGCG--GCGTGC-T-TA-ACAC', score=34.0, start=0, end=73), Alignment(seqA='A--TATT--AG-GTTTTT-ACCTACCCAG-GAAAAGC-CA--ACC-AAC-CT--CGAT-C-T-CTTGTAGA---', seqB='-TGT-TTGGAGAGT-TT-GA--T--CC--TG----GCTCAGGA-CGAACGCTGGCG--GCGTGC-T-TA-ACAC', score=34.0, start=0, end=74), Alignment(seqA='A-TATT--AG-GTTTTT-ACCTACCCAG-GAAAAGC-CA--ACC-AAC-CT--CGAT-C-T-CTTGTAGA---', seqB='TGT-TTGGAGAGT-TT-GA--T--CC--TG----GCTCAGGA-CGAACGCTGGCG--GCGTGC-T-TA-ACAC', score=34.0, start=0, end=73), Alignment(seqA='-ATATT--AG-GTTTTT-ACCTACCCAG-GAAAAGC-CA--ACC-AAC-CT--CGAT-C-T-CTTGTAGA---', seqB='TGT-TTGGAGAGT-TT-GA--T--CC--TG----GCTCAGGA-CGAACGCTGGCG--GCGTGC-T-TA-ACAC', score=34.0, start=0, end=73), Alignment(seqA='ATA-TT---AG-GTTTTT-ACCTACCCAG-GAAAAGC-CA--ACC-AAC-CT--CGAT-C-T-CTTGTAGA---', seqB='-T-GTTTGGAGAGTT-T-GA--T--CC--TG----GCTCAGGA-CGAACGCTGGCG--GCGTGC-T-TA-ACAC', score=34.0, start=0, end=74), Alignment(seqA='ATATT---AG-GTTTTT-ACCTACCCAG-GAAAAGC-CA--ACC-AAC-CT--CGAT-C-T-CTTGTAGA---', seqB='-TGTTTGGAGAGTT-T-GA--T--CC--TG----GCTCAGGA-CGAACGCTGGCG--GCGTGC-T-TA-ACAC', score=34.0, start=0, end=73), Alignment(seqA='ATA-T-T--AG-GTTTTT-ACCTACCCAG-GAAAAGC-CA--ACC-AAC-CT--CGAT-C-T-CTTGTAGA---', seqB='-T-GTTTGGAGAGTT-T-GA--T--CC--TG----GCTCAGGA-CGAACGCTGGCG--GCGTGC-T-TA-ACAC', score=34.0, start=0, end=74), Alignment(seqA='ATAT-T--AG-GTTTTT-ACCTACCCAG-GAAAAGC-CA--ACC-AAC-CT--CGAT-C-T-CTTGTAGA---', seqB='-TGTTTGGAGAGTT-T-GA--T--CC--TG----GCTCAGGA-CGAACGCTGGCG--GCGTGC-T-TA-ACAC', score=34.0, start=0, end=73), Alignment(seqA='ATA--TT--AG-GTTTTT-ACCTACCCAG-GAAAAGC-CA--ACC-AAC-CT--CGAT-C-T-CTTGTAGA---', seqB='-T-GTTTGGAGAGTT-T-GA--T--CC--TG----GCTCAGGA-CGAACGCTGGCG--GCGTGC-T-TA-ACAC', score=34.0, start=0, end=74), Alignment(seqA='ATA-TT--AG-GTTTTT-ACCTACCCAG-GAAAAGC-CA--ACC-AAC-CT--CGAT-C-T-CTTGTAGA---', seqB='-TGTTTGGAGAGTT-T-GA--T--CC--TG----GCTCAGGA-CGAACGCTGGCG--GCGTGC-T-TA-ACAC', score=34.0, start=0, end=73), Alignment(seqA='AT-ATT--AG-GTTTTT-ACCTACCCAG-GAAAAGC-CA--ACC-AAC-CT--CGAT-C-T-CTTGTAGA---', seqB='-TGTTTGGAGAGTT-T-GA--T--CC--TG----GCTCAGGA-CGAACGCTGGCG--GCGTGC-T-TA-ACAC', score=34.0, start=0, end=73), Alignment(seqA='A--TATT--AG-GTTTTT-ACCTACCCAG-GAAAAGC-CA--ACC-AAC-CT--CGAT-C-T-CTTGTAGA---', seqB='-TGT-TTGGAGAGTT-T-GA--T--CC--TG----GCTCAGGA-CGAACGCTGGCG--GCGTGC-T-TA-ACAC', score=34.0, start=0, end=74), Alignment(seqA='A-TATT--AG-GTTTTT-ACCTACCCAG-GAAAAGC-CA--ACC-AAC-CT--CGAT-C-T-CTTGTAGA---', seqB='TGT-TTGGAGAGTT-T-GA--T--CC--TG----GCTCAGGA-CGAACGCTGGCG--GCGTGC-T-TA-ACAC', score=34.0, start=0, end=73), Alignment(seqA='-ATATT--AG-GTTTTT-ACCTACCCAG-GAAAAGC-CA--ACC-AAC-CT--CGAT-C-T-CTTGTAGA---', seqB='TGT-TTGGAGAGTT-T-GA--T--CC--TG----GCTCAGGA-CGAACGCTGGCG--GCGTGC-T-TA-ACAC', score=34.0, start=0, end=73), Alignment(seqA='ATA-TT---AG-GTTTTT-ACCTACCCAG-GAAAAGC-CA--ACC-AAC-CT--CGAT-C-T-CTTGTAGA---', seqB='-T-GTTTGGAGAGTTT--GA--T--CC--TG----GCTCAGGA-CGAACGCTGGCG--GCGTGC-T-TA-ACAC', score=34.0, start=0, end=74), Alignment(seqA='ATATT---AG-GTTTTT-ACCTACCCAG-GAAAAGC-CA--ACC-AAC-CT--CGAT-C-T-CTTGTAGA---', seqB='-TGTTTGGAGAGTTT--GA--T--CC--TG----GCTCAGGA-CGAACGCTGGCG--GCGTGC-T-TA-ACAC', score=34.0, start=0, end=73), Alignment(seqA='ATA-T-T--AG-GTTTTT-ACCTACCCAG-GAAAAGC-CA--ACC-AAC-CT--CGAT-C-T-CTTGTAGA---', seqB='-T-GTTTGGAGAGTTT--GA--T--CC--TG----GCTCAGGA-CGAACGCTGGCG--GCGTGC-T-TA-ACAC', score=34.0, start=0, end=74), Alignment(seqA='ATAT-T--AG-GTTTTT-ACCTACCCAG-GAAAAGC-CA--ACC-AAC-CT--CGAT-C-T-CTTGTAGA---', seqB='-TGTTTGGAGAGTTT--GA--T--CC--TG----GCTCAGGA-CGAACGCTGGCG--GCGTGC-T-TA-ACAC', score=34.0, start=0, end=73), Alignment(seqA='ATA--TT--AG-GTTTTT-ACCTACCCAG-GAAAAGC-CA--ACC-AAC-CT--CGAT-C-T-CTTGTAGA---', seqB='-T-GTTTGGAGAGTTT--GA--T--CC--TG----GCTCAGGA-CGAACGCTGGCG--GCGTGC-T-TA-ACAC', score=34.0, start=0, end=74), Alignment(seqA='ATA-TT--AG-GTTTTT-ACCTACCCAG-GAAAAGC-CA--ACC-AAC-CT--CGAT-C-T-CTTGTAGA---', seqB='-TGTTTGGAGAGTTT--GA--T--CC--TG----GCTCAGGA-CGAACGCTGGCG--GCGTGC-T-TA-ACAC', score=34.0, start=0, end=73), Alignment(seqA='AT-ATT--AG-GTTTTT-ACCTACCCAG-GAAAAGC-CA--ACC-AAC-CT--CGAT-C-T-CTTGTAGA---', seqB='-TGTTTGGAGAGTTT--GA--T--CC--TG----GCTCAGGA-CGAACGCTGGCG--GCGTGC-T-TA-ACAC', score=34.0, start=0, end=73), Alignment(seqA='A--TATT--AG-GTTTTT-ACCTACCCAG-GAAAAGC-CA--ACC-AAC-CT--CGAT-C-T-CTTGTAGA---', seqB='-TGT-TTGGAGAGTTT--GA--T--CC--TG----GCTCAGGA-CGAACGCTGGCG--GCGTGC-T-TA-ACAC', score=34.0, start=0, end=74), Alignment(seqA='A-TATT--AG-GTTTTT-ACCTACCCAG-GAAAAGC-CA--ACC-AAC-CT--CGAT-C-T-CTTGTAGA---', seqB='TGT-TTGGAGAGTTT--GA--T--CC--TG----GCTCAGGA-CGAACGCTGGCG--GCGTGC-T-TA-ACAC', score=34.0, start=0, end=73), Alignment(seqA='-ATATT--AG-GTTTTT-ACCTACCCAG-GAAAAGC-CA--ACC-AAC-CT--CGAT-C-T-CTTGTAGA---', seqB='TGT-TTGGAGAGTTT--GA--T--CC--TG----GCTCAGGA-CGAACGCTGGCG--GCGTGC-T-TA-ACAC', score=34.0, start=0, end=73), Alignment(seqA='ATA-TT---AG-GTTTTTACCTACCCAG-GAAAAGC-CA--ACC-AAC-CT--CGAT-C-T-CTTGTAGA---', seqB='-T-GTTTGGAGAG-TTTGA--T--CC--TG----GCTCAGGA-CGAACGCTGGCG--GCGTGC-T-TA-ACAC', score=34.0, start=0, end=73), Alignment(seqA='ATATT---AG-GTTTTTACCTACCCAG-GAAAAGC-CA--ACC-AAC-CT--CGAT-C-T-CTTGTAGA---', seqB='-TGTTTGGAGAG-TTTGA--T--CC--TG----GCTCAGGA-CGAACGCTGGCG--GCGTGC-T-TA-ACAC', score=34.0, start=0, end=72), Alignment(seqA='ATA-T-T--AG-GTTTTTACCTACCCAG-GAAAAGC-CA--ACC-AAC-CT--CGAT-C-T-CTTGTAGA---', seqB='-T-GTTTGGAGAG-TTTGA--T--CC--TG----GCTCAGGA-CGAACGCTGGCG--GCGTGC-T-TA-ACAC', score=34.0, start=0, end=73), Alignment(seqA='ATAT-T--AG-GTTTTTACCTACCCAG-GAAAAGC-CA--ACC-AAC-CT--CGAT-C-T-CTTGTAGA---', seqB='-TGTTTGGAGAG-TTTGA--T--CC--TG----GCTCAGGA-CGAACGCTGGCG--GCGTGC-T-TA-ACAC', score=34.0, start=0, end=72), Alignment(seqA='ATA--TT--AG-GTTTTTACCTACCCAG-GAAAAGC-CA--ACC-AAC-CT--CGAT-C-T-CTTGTAGA---', seqB='-T-GTTTGGAGAG-TTTGA--T--CC--TG----GCTCAGGA-CGAACGCTGGCG--GCGTGC-T-TA-ACAC', score=34.0, start=0, end=73), Alignment(seqA='ATA-TT--AG-GTTTTTACCTACCCAG-GAAAAGC-CA--ACC-AAC-CT--CGAT-C-T-CTTGTAGA---', seqB='-TGTTTGGAGAG-TTTGA--T--CC--TG----GCTCAGGA-CGAACGCTGGCG--GCGTGC-T-TA-ACAC', score=34.0, start=0, end=72), Alignment(seqA='AT-ATT--AG-GTTTTTACCTACCCAG-GAAAAGC-CA--ACC-AAC-CT--CGAT-C-T-CTTGTAGA---', seqB='-TGTTTGGAGAG-TTTGA--T--CC--TG----GCTCAGGA-CGAACGCTGGCG--GCGTGC-T-TA-ACAC', score=34.0, start=0, end=72), Alignment(seqA='A--TATT--AG-GTTTTTACCTACCCAG-GAAAAGC-CA--ACC-AAC-CT--CGAT-C-T-CTTGTAGA---', seqB='-TGT-TTGGAGAG-TTTGA--T--CC--TG----GCTCAGGA-CGAACGCTGGCG--GCGTGC-T-TA-ACAC', score=34.0, start=0, end=73), Alignment(seqA='A-TATT--AG-GTTTTTACCTACCCAG-GAAAAGC-CA--ACC-AAC-CT--CGAT-C-T-CTTGTAGA---', seqB='TGT-TTGGAGAG-TTTGA--T--CC--TG----GCTCAGGA-CGAACGCTGGCG--GCGTGC-T-TA-ACAC', score=34.0, start=0, end=72), Alignment(seqA='-ATATT--AG-GTTTTTACCTACCCAG-GAAAAGC-CA--ACC-AAC-CT--CGAT-C-T-CTTGTAGA---', seqB='TGT-TTGGAGAG-TTTGA--T--CC--TG----GCTCAGGA-CGAACGCTGGCG--GCGTGC-T-TA-ACAC', score=34.0, start=0, end=72), Alignment(seqA='ATA-TT---AG-GTTTTTACCTACCCAG-GAAAAGC-CA--ACC-AAC-CT--CGAT-C-T-CTTGTAGA---', seqB='-T-GTTTGGAGAGT-TTGA--T--CC--TG----GCTCAGGA-CGAACGCTGGCG--GCGTGC-T-TA-ACAC', score=34.0, start=0, end=73), Alignment(seqA='ATATT---AG-GTTTTTACCTACCCAG-GAAAAGC-CA--ACC-AAC-CT--CGAT-C-T-CTTGTAGA---', seqB='-TGTTTGGAGAGT-TTGA--T--CC--TG----GCTCAGGA-CGAACGCTGGCG--GCGTGC-T-TA-ACAC', score=34.0, start=0, end=72), Alignment(seqA='ATA-T-T--AG-GTTTTTACCTACCCAG-GAAAAGC-CA--ACC-AAC-CT--CGAT-C-T-CTTGTAGA---', seqB='-T-GTTTGGAGAGT-TTGA--T--CC--TG----GCTCAGGA-CGAACGCTGGCG--GCGTGC-T-TA-ACAC', score=34.0, start=0, end=73), Alignment(seqA='ATAT-T--AG-GTTTTTACCTACCCAG-GAAAAGC-CA--ACC-AAC-CT--CGAT-C-T-CTTGTAGA---', seqB='-TGTTTGGAGAGT-TTGA--T--CC--TG----GCTCAGGA-CGAACGCTGGCG--GCGTGC-T-TA-ACAC', score=34.0, start=0, end=72), Alignment(seqA='ATA--TT--AG-GTTTTTACCTACCCAG-GAAAAGC-CA--ACC-AAC-CT--CGAT-C-T-CTTGTAGA---', seqB='-T-GTTTGGAGAGT-TTGA--T--CC--TG----GCTCAGGA-CGAACGCTGGCG--GCGTGC-T-TA-ACAC', score=34.0, start=0, end=73), Alignment(seqA='ATA-TT--AG-GTTTTTACCTACCCAG-GAAAAGC-CA--ACC-AAC-CT--CGAT-C-T-CTTGTAGA---', seqB='-TGTTTGGAGAGT-TTGA--T--CC--TG----GCTCAGGA-CGAACGCTGGCG--GCGTGC-T-TA-ACAC', score=34.0, start=0, end=72), Alignment(seqA='AT-ATT--AG-GTTTTTACCTACCCAG-GAAAAGC-CA--ACC-AAC-CT--CGAT-C-T-CTTGTAGA---', seqB='-TGTTTGGAGAGT-TTGA--T--CC--TG----GCTCAGGA-CGAACGCTGGCG--GCGTGC-T-TA-ACAC', score=34.0, start=0, end=72), Alignment(seqA='A--TATT--AG-GTTTTTACCTACCCAG-GAAAAGC-CA--ACC-AAC-CT--CGAT-C-T-CTTGTAGA---', seqB='-TGT-TTGGAGAGT-TTGA--T--CC--TG----GCTCAGGA-CGAACGCTGGCG--GCGTGC-T-TA-ACAC', score=34.0, start=0, end=73), Alignment(seqA='A-TATT--AG-GTTTTTACCTACCCAG-GAAAAGC-CA--ACC-AAC-CT--CGAT-C-T-CTTGTAGA---', seqB='TGT-TTGGAGAGT-TTGA--T--CC--TG----GCTCAGGA-CGAACGCTGGCG--GCGTGC-T-TA-ACAC', score=34.0, start=0, end=72), Alignment(seqA='-ATATT--AG-GTTTTTACCTACCCAG-GAAAAGC-CA--ACC-AAC-CT--CGAT-C-T-CTTGTAGA---', seqB='TGT-TTGGAGAGT-TTGA--T--CC--TG----GCTCAGGA-CGAACGCTGGCG--GCGTGC-T-TA-ACAC', score=34.0, start=0, end=72), Alignment(seqA='ATA-TT---AG-GTTTTTACCTACCCAG-GAAAAGC-CA--ACC-AAC-CT--CGAT-C-T-CTTGTAGA---', seqB='-T-GTTTGGAGAGTT-TGA--T--CC--TG----GCTCAGGA-CGAACGCTGGCG--GCGTGC-T-TA-ACAC', score=34.0, start=0, end=73), Alignment(seqA='ATATT---AG-GTTTTTACCTACCCAG-GAAAAGC-CA--ACC-AAC-CT--CGAT-C-T-CTTGTAGA---', seqB='-TGTTTGGAGAGTT-TGA--T--CC--TG----GCTCAGGA-CGAACGCTGGCG--GCGTGC-T-TA-ACAC', score=34.0, start=0, end=72), Alignment(seqA='ATA-T-T--AG-GTTTTTACCTACCCAG-GAAAAGC-CA--ACC-AAC-CT--CGAT-C-T-CTTGTAGA---', seqB='-T-GTTTGGAGAGTT-TGA--T--CC--TG----GCTCAGGA-CGAACGCTGGCG--GCGTGC-T-TA-ACAC', score=34.0, start=0, end=73), Alignment(seqA='ATAT-T--AG-GTTTTTACCTACCCAG-GAAAAGC-CA--ACC-AAC-CT--CGAT-C-T-CTTGTAGA---', seqB='-TGTTTGGAGAGTT-TGA--T--CC--TG----GCTCAGGA-CGAACGCTGGCG--GCGTGC-T-TA-ACAC', score=34.0, start=0, end=72), Alignment(seqA='ATA--TT--AG-GTTTTTACCTACCCAG-GAAAAGC-CA--ACC-AAC-CT--CGAT-C-T-CTTGTAGA---', seqB='-T-GTTTGGAGAGTT-TGA--T--CC--TG----GCTCAGGA-CGAACGCTGGCG--GCGTGC-T-TA-ACAC', score=34.0, start=0, end=73), Alignment(seqA='ATA-TT--AG-GTTTTTACCTACCCAG-GAAAAGC-CA--ACC-AAC-CT--CGAT-C-T-CTTGTAGA---', seqB='-TGTTTGGAGAGTT-TGA--T--CC--TG----GCTCAGGA-CGAACGCTGGCG--GCGTGC-T-TA-ACAC', score=34.0, start=0, end=72), Alignment(seqA='AT-ATT--AG-GTTTTTACCTACCCAG-GAAAAGC-CA--ACC-AAC-CT--CGAT-C-T-CTTGTAGA---', seqB='-TGTTTGGAGAGTT-TGA--T--CC--TG----GCTCAGGA-CGAACGCTGGCG--GCGTGC-T-TA-ACAC', score=34.0, start=0, end=72), Alignment(seqA='A--TATT--AG-GTTTTTACCTACCCAG-GAAAAGC-CA--ACC-AAC-CT--CGAT-C-T-CTTGTAGA---', seqB='-TGT-TTGGAGAGTT-TGA--T--CC--TG----GCTCAGGA-CGAACGCTGGCG--GCGTGC-T-TA-ACAC', score=34.0, start=0, end=73), Alignment(seqA='A-TATT--AG-GTTTTTACCTACCCAG-GAAAAGC-CA--ACC-AAC-CT--CGAT-C-T-CTTGTAGA---', seqB='TGT-TTGGAGAGTT-TGA--T--CC--TG----GCTCAGGA-CGAACGCTGGCG--GCGTGC-T-TA-ACAC', score=34.0, start=0, end=72), Alignment(seqA='-ATATT--AG-GTTTTTACCTACCCAG-GAAAAGC-CA--ACC-AAC-CT--CGAT-C-T-CTTGTAGA---', seqB='TGT-TTGGAGAGTT-TGA--T--CC--TG----GCTCAGGA-CGAACGCTGGCG--GCGTGC-T-TA-ACAC', score=34.0, start=0, end=72), Alignment(seqA='ATA-TT---AG-GTTTTTACCTACCCAG-GAAAAGC-CA--ACC-AAC-CT--CGAT-C-T-CTTGTAGA---', seqB='-T-GTTTGGAGAGTTT-GA--T--CC--TG----GCTCAGGA-CGAACGCTGGCG--GCGTGC-T-TA-ACAC', score=34.0, start=0, end=73), Alignment(seqA='ATATT---AG-GTTTTTACCTACCCAG-GAAAAGC-CA--ACC-AAC-CT--CGAT-C-T-CTTGTAGA---', seqB='-TGTTTGGAGAGTTT-GA--T--CC--TG----GCTCAGGA-CGAACGCTGGCG--GCGTGC-T-TA-ACAC', score=34.0, start=0, end=72), Alignment(seqA='ATA-T-T--AG-GTTTTTACCTACCCAG-GAAAAGC-CA--ACC-AAC-CT--CGAT-C-T-CTTGTAGA---', seqB='-T-GTTTGGAGAGTTT-GA--T--CC--TG----GCTCAGGA-CGAACGCTGGCG--GCGTGC-T-TA-ACAC', score=34.0, start=0, end=73), Alignment(seqA='ATAT-T--AG-GTTTTTACCTACCCAG-GAAAAGC-CA--ACC-AAC-CT--CGAT-C-T-CTTGTAGA---', seqB='-TGTTTGGAGAGTTT-GA--T--CC--TG----GCTCAGGA-CGAACGCTGGCG--GCGTGC-T-TA-ACAC', score=34.0, start=0, end=72), Alignment(seqA='ATA--TT--AG-GTTTTTACCTACCCAG-GAAAAGC-CA--ACC-AAC-CT--CGAT-C-T-CTTGTAGA---', seqB='-T-GTTTGGAGAGTTT-GA--T--CC--TG----GCTCAGGA-CGAACGCTGGCG--GCGTGC-T-TA-ACAC', score=34.0, start=0, end=73), Alignment(seqA='ATA-TT--AG-GTTTTTACCTACCCAG-GAAAAGC-CA--ACC-AAC-CT--CGAT-C-T-CTTGTAGA---', seqB='-TGTTTGGAGAGTTT-GA--T--CC--TG----GCTCAGGA-CGAACGCTGGCG--GCGTGC-T-TA-ACAC', score=34.0, start=0, end=72), Alignment(seqA='AT-ATT--AG-GTTTTTACCTACCCAG-GAAAAGC-CA--ACC-AAC-CT--CGAT-C-T-CTTGTAGA---', seqB='-TGTTTGGAGAGTTT-GA--T--CC--TG----GCTCAGGA-CGAACGCTGGCG--GCGTGC-T-TA-ACAC', score=34.0, start=0, end=72), Alignment(seqA='A--TATT--AG-GTTTTTACCTACCCAG-GAAAAGC-CA--ACC-AAC-CT--CGAT-C-T-CTTGTAGA---', seqB='-TGT-TTGGAGAGTTT-GA--T--CC--TG----GCTCAGGA-CGAACGCTGGCG--GCGTGC-T-TA-ACAC', score=34.0, start=0, end=73), Alignment(seqA='A-TATT--AG-GTTTTTACCTACCCAG-GAAAAGC-CA--ACC-AAC-CT--CGAT-C-T-CTTGTAGA---', seqB='TGT-TTGGAGAGTTT-GA--T--CC--TG----GCTCAGGA-CGAACGCTGGCG--GCGTGC-T-TA-ACAC', score=34.0, start=0, end=72), Alignment(seqA='-ATATT--AG-GTTTTTACCTACCCAG-GAAAAGC-CA--ACC-AAC-CT--CGAT-C-T-CTTGTAGA---', seqB='TGT-TTGGAGAGTTT-GA--T--CC--TG----GCTCAGGA-CGAACGCTGGCG--GCGTGC-T-TA-ACAC', score=34.0, start=0, end=72), Alignment(seqA='ATA-TT---AG-GTTTTTACCTACCCAG-GAAAAGC-CA--ACC-AAC-CT--CGAT-C-T-CTTGTAGA---', seqB='-T-GTTTGGAGAGTTTG-A--T--CC--TG----GCTCAGGA-CGAACGCTGGCG--GCGTGC-T-TA-ACAC', score=34.0, start=0, end=73), Alignment(seqA='ATATT---AG-GTTTTTACCTACCCAG-GAAAAGC-CA--ACC-AAC-CT--CGAT-C-T-CTTGTAGA---', seqB='-TGTTTGGAGAGTTTG-A--T--CC--TG----GCTCAGGA-CGAACGCTGGCG--GCGTGC-T-TA-ACAC', score=34.0, start=0, end=72), Alignment(seqA='ATA-T-T--AG-GTTTTTACCTACCCAG-GAAAAGC-CA--ACC-AAC-CT--CGAT-C-T-CTTGTAGA---', seqB='-T-GTTTGGAGAGTTTG-A--T--CC--TG----GCTCAGGA-CGAACGCTGGCG--GCGTGC-T-TA-ACAC', score=34.0, start=0, end=73), Alignment(seqA='ATAT-T--AG-GTTTTTACCTACCCAG-GAAAAGC-CA--ACC-AAC-CT--CGAT-C-T-CTTGTAGA---', seqB='-TGTTTGGAGAGTTTG-A--T--CC--TG----GCTCAGGA-CGAACGCTGGCG--GCGTGC-T-TA-ACAC', score=34.0, start=0, end=72), Alignment(seqA='ATA--TT--AG-GTTTTTACCTACCCAG-GAAAAGC-CA--ACC-AAC-CT--CGAT-C-T-CTTGTAGA---', seqB='-T-GTTTGGAGAGTTTG-A--T--CC--TG----GCTCAGGA-CGAACGCTGGCG--GCGTGC-T-TA-ACAC', score=34.0, start=0, end=73), Alignment(seqA='ATA-TT--AG-GTTTTTACCTACCCAG-GAAAAGC-CA--ACC-AAC-CT--CGAT-C-T-CTTGTAGA---', seqB='-TGTTTGGAGAGTTTG-A--T--CC--TG----GCTCAGGA-CGAACGCTGGCG--GCGTGC-T-TA-ACAC', score=34.0, start=0, end=72), Alignment(seqA='AT-ATT--AG-GTTTTTACCTACCCAG-GAAAAGC-CA--ACC-AAC-CT--CGAT-C-T-CTTGTAGA---', seqB='-TGTTTGGAGAGTTTG-A--T--CC--TG----GCTCAGGA-CGAACGCTGGCG--GCGTGC-T-TA-ACAC', score=34.0, start=0, end=72), Alignment(seqA='A--TATT--AG-GTTTTTACCTACCCAG-GAAAAGC-CA--ACC-AAC-CT--CGAT-C-T-CTTGTAGA---', seqB='-TGT-TTGGAGAGTTTG-A--T--CC--TG----GCTCAGGA-CGAACGCTGGCG--GCGTGC-T-TA-ACAC', score=34.0, start=0, end=73), Alignment(seqA='A-TATT--AG-GTTTTTACCTACCCAG-GAAAAGC-CA--ACC-AAC-CT--CGAT-C-T-CTTGTAGA---', seqB='TGT-TTGGAGAGTTTG-A--T--CC--TG----GCTCAGGA-CGAACGCTGGCG--GCGTGC-T-TA-ACAC', score=34.0, start=0, end=72), Alignment(seqA='-ATATT--AG-GTTTTTACCTACCCAG-GAAAAGC-CA--ACC-AAC-CT--CGAT-C-T-CTTGTAGA---', seqB='TGT-TTGGAGAGTTTG-A--T--CC--TG----GCTCAGGA-CGAACGCTGGCG--GCGTGC-T-TA-ACAC', score=34.0, start=0, end=72)]\n"
          ],
          "name": "stdout"
        }
      ]
    },
    {
      "cell_type": "code",
      "metadata": {
        "colab": {
          "base_uri": "https://localhost:8080/"
        },
        "id": "IcDEix3TTm0B",
        "outputId": "f283518f-3d9d-4266-9f00-0dcc6731b5f2"
      },
      "source": [
        "print(format_alignment(*alignments[0])) #aca tenemos una mejor visualizacion "
      ],
      "execution_count": 79,
      "outputs": [
        {
          "output_type": "stream",
          "text": [
            "ATA-TT---AG-GTTTTT-ACCTACCCAG-GAAAAGC-CA--ACC-AAC-CT--CGAT-C-T-CTTGTAGA---\n",
            " |  ||   || |  ||| |  |  ||   |    || ||  | | ||| ||  ||   | | | | || |   \n",
            "-T-GTTTGGAGAG--TTTGA--T--CC--TG----GCTCAGGA-CGAACGCTGGCG--GCGTGC-T-TA-ACAC\n",
            "  Score=34\n",
            "\n"
          ],
          "name": "stdout"
        }
      ]
    },
    {
      "cell_type": "markdown",
      "metadata": {
        "id": "jCA4TI-GUHJ0"
      },
      "source": [
        "Tipos de alineación Alineación global: encuentra la mejor concordancia / acuerdo entre todos los caracteres en dos secuencias Alineación local: encuentra solo las subsecuencias que se alinean mejor"
      ]
    },
    {
      "cell_type": "code",
      "metadata": {
        "colab": {
          "base_uri": "https://localhost:8080/"
        },
        "id": "caGbm7a5T2vn",
        "outputId": "5b378bbc-477c-47a8-be61-8c3a8c6bcf8d"
      },
      "source": [
        "print(format_alignment(*alignments[1]))#aca vemos la segunda parte"
      ],
      "execution_count": 80,
      "outputs": [
        {
          "output_type": "stream",
          "text": [
            "ATATT---AG-GTTTTT-ACCTACCCAG-GAAAAGC-CA--ACC-AAC-CT--CGAT-C-T-CTTGTAGA---\n",
            " |.||   || |  ||| |  |  ||   |    || ||  | | ||| ||  ||   | | | | || |   \n",
            "-TGTTTGGAGAG--TTTGA--T--CC--TG----GCTCAGGA-CGAACGCTGGCG--GCGTGC-T-TA-ACAC\n",
            "  Score=34\n",
            "\n"
          ],
          "name": "stdout"
        }
      ]
    },
    {
      "cell_type": "code",
      "metadata": {
        "colab": {
          "base_uri": "https://localhost:8080/"
        },
        "id": "u9ipSCcJUWJd",
        "outputId": "9a3cbeb0-a68b-45ad-ef96-3d80c5c22250"
      },
      "source": [
        "for a in alignments:\n",
        "    print(format_alignment(*a))#aca vemos la alineacion completa"
      ],
      "execution_count": 82,
      "outputs": [
        {
          "output_type": "stream",
          "text": [
            "ATA-TT---AG-GTTTTT-ACCTACCCAG-GAAAAGC-CA--ACC-AAC-CT--CGAT-C-T-CTTGTAGA---\n",
            " |  ||   || |  ||| |  |  ||   |    || ||  | | ||| ||  ||   | | | | || |   \n",
            "-T-GTTTGGAGAG--TTTGA--T--CC--TG----GCTCAGGA-CGAACGCTGGCG--GCGTGC-T-TA-ACAC\n",
            "  Score=34\n",
            "\n",
            "ATATT---AG-GTTTTT-ACCTACCCAG-GAAAAGC-CA--ACC-AAC-CT--CGAT-C-T-CTTGTAGA---\n",
            " |.||   || |  ||| |  |  ||   |    || ||  | | ||| ||  ||   | | | | || |   \n",
            "-TGTTTGGAGAG--TTTGA--T--CC--TG----GCTCAGGA-CGAACGCTGGCG--GCGTGC-T-TA-ACAC\n",
            "  Score=34\n",
            "\n",
            "ATA-T-T--AG-GTTTTT-ACCTACCCAG-GAAAAGC-CA--ACC-AAC-CT--CGAT-C-T-CTTGTAGA---\n",
            " |  | |  || |  ||| |  |  ||   |    || ||  | | ||| ||  ||   | | | | || |   \n",
            "-T-GTTTGGAGAG--TTTGA--T--CC--TG----GCTCAGGA-CGAACGCTGGCG--GCGTGC-T-TA-ACAC\n",
            "  Score=34\n",
            "\n",
            "ATAT-T--AG-GTTTTT-ACCTACCCAG-GAAAAGC-CA--ACC-AAC-CT--CGAT-C-T-CTTGTAGA---\n",
            " |.| |  || |  ||| |  |  ||   |    || ||  | | ||| ||  ||   | | | | || |   \n",
            "-TGTTTGGAGAG--TTTGA--T--CC--TG----GCTCAGGA-CGAACGCTGGCG--GCGTGC-T-TA-ACAC\n",
            "  Score=34\n",
            "\n",
            "ATA--TT--AG-GTTTTT-ACCTACCCAG-GAAAAGC-CA--ACC-AAC-CT--CGAT-C-T-CTTGTAGA---\n",
            " |   ||  || |  ||| |  |  ||   |    || ||  | | ||| ||  ||   | | | | || |   \n",
            "-T-GTTTGGAGAG--TTTGA--T--CC--TG----GCTCAGGA-CGAACGCTGGCG--GCGTGC-T-TA-ACAC\n",
            "  Score=34\n",
            "\n",
            "ATA-TT--AG-GTTTTT-ACCTACCCAG-GAAAAGC-CA--ACC-AAC-CT--CGAT-C-T-CTTGTAGA---\n",
            " |. ||  || |  ||| |  |  ||   |    || ||  | | ||| ||  ||   | | | | || |   \n",
            "-TGTTTGGAGAG--TTTGA--T--CC--TG----GCTCAGGA-CGAACGCTGGCG--GCGTGC-T-TA-ACAC\n",
            "  Score=34\n",
            "\n",
            "AT-ATT--AG-GTTTTT-ACCTACCCAG-GAAAAGC-CA--ACC-AAC-CT--CGAT-C-T-CTTGTAGA---\n",
            " | .||  || |  ||| |  |  ||   |    || ||  | | ||| ||  ||   | | | | || |   \n",
            "-TGTTTGGAGAG--TTTGA--T--CC--TG----GCTCAGGA-CGAACGCTGGCG--GCGTGC-T-TA-ACAC\n",
            "  Score=34\n",
            "\n",
            "A--TATT--AG-GTTTTT-ACCTACCCAG-GAAAAGC-CA--ACC-AAC-CT--CGAT-C-T-CTTGTAGA---\n",
            "   | ||  || |  ||| |  |  ||   |    || ||  | | ||| ||  ||   | | | | || |   \n",
            "-TGT-TTGGAGAG--TTTGA--T--CC--TG----GCTCAGGA-CGAACGCTGGCG--GCGTGC-T-TA-ACAC\n",
            "  Score=34\n",
            "\n",
            "A-TATT--AG-GTTTTT-ACCTACCCAG-GAAAAGC-CA--ACC-AAC-CT--CGAT-C-T-CTTGTAGA---\n",
            ". | ||  || |  ||| |  |  ||   |    || ||  | | ||| ||  ||   | | | | || |   \n",
            "TGT-TTGGAGAG--TTTGA--T--CC--TG----GCTCAGGA-CGAACGCTGGCG--GCGTGC-T-TA-ACAC\n",
            "  Score=34\n",
            "\n",
            "-ATATT--AG-GTTTTT-ACCTACCCAG-GAAAAGC-CA--ACC-AAC-CT--CGAT-C-T-CTTGTAGA---\n",
            " .| ||  || |  ||| |  |  ||   |    || ||  | | ||| ||  ||   | | | | || |   \n",
            "TGT-TTGGAGAG--TTTGA--T--CC--TG----GCTCAGGA-CGAACGCTGGCG--GCGTGC-T-TA-ACAC\n",
            "  Score=34\n",
            "\n",
            "ATA-TT---AG-GTTTTT-ACCTACCCAG-GAAAAGC-CA--ACC-AAC-CT--CGAT-C-T-CTTGTAGA---\n",
            " |  ||   || | | || |  |  ||   |    || ||  | | ||| ||  ||   | | | | || |   \n",
            "-T-GTTTGGAGAG-T-TTGA--T--CC--TG----GCTCAGGA-CGAACGCTGGCG--GCGTGC-T-TA-ACAC\n",
            "  Score=34\n",
            "\n",
            "ATATT---AG-GTTTTT-ACCTACCCAG-GAAAAGC-CA--ACC-AAC-CT--CGAT-C-T-CTTGTAGA---\n",
            " |.||   || | | || |  |  ||   |    || ||  | | ||| ||  ||   | | | | || |   \n",
            "-TGTTTGGAGAG-T-TTGA--T--CC--TG----GCTCAGGA-CGAACGCTGGCG--GCGTGC-T-TA-ACAC\n",
            "  Score=34\n",
            "\n",
            "ATA-T-T--AG-GTTTTT-ACCTACCCAG-GAAAAGC-CA--ACC-AAC-CT--CGAT-C-T-CTTGTAGA---\n",
            " |  | |  || | | || |  |  ||   |    || ||  | | ||| ||  ||   | | | | || |   \n",
            "-T-GTTTGGAGAG-T-TTGA--T--CC--TG----GCTCAGGA-CGAACGCTGGCG--GCGTGC-T-TA-ACAC\n",
            "  Score=34\n",
            "\n",
            "ATAT-T--AG-GTTTTT-ACCTACCCAG-GAAAAGC-CA--ACC-AAC-CT--CGAT-C-T-CTTGTAGA---\n",
            " |.| |  || | | || |  |  ||   |    || ||  | | ||| ||  ||   | | | | || |   \n",
            "-TGTTTGGAGAG-T-TTGA--T--CC--TG----GCTCAGGA-CGAACGCTGGCG--GCGTGC-T-TA-ACAC\n",
            "  Score=34\n",
            "\n",
            "ATA--TT--AG-GTTTTT-ACCTACCCAG-GAAAAGC-CA--ACC-AAC-CT--CGAT-C-T-CTTGTAGA---\n",
            " |   ||  || | | || |  |  ||   |    || ||  | | ||| ||  ||   | | | | || |   \n",
            "-T-GTTTGGAGAG-T-TTGA--T--CC--TG----GCTCAGGA-CGAACGCTGGCG--GCGTGC-T-TA-ACAC\n",
            "  Score=34\n",
            "\n",
            "ATA-TT--AG-GTTTTT-ACCTACCCAG-GAAAAGC-CA--ACC-AAC-CT--CGAT-C-T-CTTGTAGA---\n",
            " |. ||  || | | || |  |  ||   |    || ||  | | ||| ||  ||   | | | | || |   \n",
            "-TGTTTGGAGAG-T-TTGA--T--CC--TG----GCTCAGGA-CGAACGCTGGCG--GCGTGC-T-TA-ACAC\n",
            "  Score=34\n",
            "\n",
            "AT-ATT--AG-GTTTTT-ACCTACCCAG-GAAAAGC-CA--ACC-AAC-CT--CGAT-C-T-CTTGTAGA---\n",
            " | .||  || | | || |  |  ||   |    || ||  | | ||| ||  ||   | | | | || |   \n",
            "-TGTTTGGAGAG-T-TTGA--T--CC--TG----GCTCAGGA-CGAACGCTGGCG--GCGTGC-T-TA-ACAC\n",
            "  Score=34\n",
            "\n",
            "A--TATT--AG-GTTTTT-ACCTACCCAG-GAAAAGC-CA--ACC-AAC-CT--CGAT-C-T-CTTGTAGA---\n",
            "   | ||  || | | || |  |  ||   |    || ||  | | ||| ||  ||   | | | | || |   \n",
            "-TGT-TTGGAGAG-T-TTGA--T--CC--TG----GCTCAGGA-CGAACGCTGGCG--GCGTGC-T-TA-ACAC\n",
            "  Score=34\n",
            "\n",
            "A-TATT--AG-GTTTTT-ACCTACCCAG-GAAAAGC-CA--ACC-AAC-CT--CGAT-C-T-CTTGTAGA---\n",
            ". | ||  || | | || |  |  ||   |    || ||  | | ||| ||  ||   | | | | || |   \n",
            "TGT-TTGGAGAG-T-TTGA--T--CC--TG----GCTCAGGA-CGAACGCTGGCG--GCGTGC-T-TA-ACAC\n",
            "  Score=34\n",
            "\n",
            "-ATATT--AG-GTTTTT-ACCTACCCAG-GAAAAGC-CA--ACC-AAC-CT--CGAT-C-T-CTTGTAGA---\n",
            " .| ||  || | | || |  |  ||   |    || ||  | | ||| ||  ||   | | | | || |   \n",
            "TGT-TTGGAGAG-T-TTGA--T--CC--TG----GCTCAGGA-CGAACGCTGGCG--GCGTGC-T-TA-ACAC\n",
            "  Score=34\n",
            "\n",
            "ATA-TT---AG-GTTTTT-ACCTACCCAG-GAAAAGC-CA--ACC-AAC-CT--CGAT-C-T-CTTGTAGA---\n",
            " |  ||   || ||  || |  |  ||   |    || ||  | | ||| ||  ||   | | | | || |   \n",
            "-T-GTTTGGAGAGT--TTGA--T--CC--TG----GCTCAGGA-CGAACGCTGGCG--GCGTGC-T-TA-ACAC\n",
            "  Score=34\n",
            "\n",
            "ATATT---AG-GTTTTT-ACCTACCCAG-GAAAAGC-CA--ACC-AAC-CT--CGAT-C-T-CTTGTAGA---\n",
            " |.||   || ||  || |  |  ||   |    || ||  | | ||| ||  ||   | | | | || |   \n",
            "-TGTTTGGAGAGT--TTGA--T--CC--TG----GCTCAGGA-CGAACGCTGGCG--GCGTGC-T-TA-ACAC\n",
            "  Score=34\n",
            "\n",
            "ATA-T-T--AG-GTTTTT-ACCTACCCAG-GAAAAGC-CA--ACC-AAC-CT--CGAT-C-T-CTTGTAGA---\n",
            " |  | |  || ||  || |  |  ||   |    || ||  | | ||| ||  ||   | | | | || |   \n",
            "-T-GTTTGGAGAGT--TTGA--T--CC--TG----GCTCAGGA-CGAACGCTGGCG--GCGTGC-T-TA-ACAC\n",
            "  Score=34\n",
            "\n",
            "ATAT-T--AG-GTTTTT-ACCTACCCAG-GAAAAGC-CA--ACC-AAC-CT--CGAT-C-T-CTTGTAGA---\n",
            " |.| |  || ||  || |  |  ||   |    || ||  | | ||| ||  ||   | | | | || |   \n",
            "-TGTTTGGAGAGT--TTGA--T--CC--TG----GCTCAGGA-CGAACGCTGGCG--GCGTGC-T-TA-ACAC\n",
            "  Score=34\n",
            "\n",
            "ATA--TT--AG-GTTTTT-ACCTACCCAG-GAAAAGC-CA--ACC-AAC-CT--CGAT-C-T-CTTGTAGA---\n",
            " |   ||  || ||  || |  |  ||   |    || ||  | | ||| ||  ||   | | | | || |   \n",
            "-T-GTTTGGAGAGT--TTGA--T--CC--TG----GCTCAGGA-CGAACGCTGGCG--GCGTGC-T-TA-ACAC\n",
            "  Score=34\n",
            "\n",
            "ATA-TT--AG-GTTTTT-ACCTACCCAG-GAAAAGC-CA--ACC-AAC-CT--CGAT-C-T-CTTGTAGA---\n",
            " |. ||  || ||  || |  |  ||   |    || ||  | | ||| ||  ||   | | | | || |   \n",
            "-TGTTTGGAGAGT--TTGA--T--CC--TG----GCTCAGGA-CGAACGCTGGCG--GCGTGC-T-TA-ACAC\n",
            "  Score=34\n",
            "\n",
            "AT-ATT--AG-GTTTTT-ACCTACCCAG-GAAAAGC-CA--ACC-AAC-CT--CGAT-C-T-CTTGTAGA---\n",
            " | .||  || ||  || |  |  ||   |    || ||  | | ||| ||  ||   | | | | || |   \n",
            "-TGTTTGGAGAGT--TTGA--T--CC--TG----GCTCAGGA-CGAACGCTGGCG--GCGTGC-T-TA-ACAC\n",
            "  Score=34\n",
            "\n",
            "A--TATT--AG-GTTTTT-ACCTACCCAG-GAAAAGC-CA--ACC-AAC-CT--CGAT-C-T-CTTGTAGA---\n",
            "   | ||  || ||  || |  |  ||   |    || ||  | | ||| ||  ||   | | | | || |   \n",
            "-TGT-TTGGAGAGT--TTGA--T--CC--TG----GCTCAGGA-CGAACGCTGGCG--GCGTGC-T-TA-ACAC\n",
            "  Score=34\n",
            "\n",
            "A-TATT--AG-GTTTTT-ACCTACCCAG-GAAAAGC-CA--ACC-AAC-CT--CGAT-C-T-CTTGTAGA---\n",
            ". | ||  || ||  || |  |  ||   |    || ||  | | ||| ||  ||   | | | | || |   \n",
            "TGT-TTGGAGAGT--TTGA--T--CC--TG----GCTCAGGA-CGAACGCTGGCG--GCGTGC-T-TA-ACAC\n",
            "  Score=34\n",
            "\n",
            "-ATATT--AG-GTTTTT-ACCTACCCAG-GAAAAGC-CA--ACC-AAC-CT--CGAT-C-T-CTTGTAGA---\n",
            " .| ||  || ||  || |  |  ||   |    || ||  | | ||| ||  ||   | | | | || |   \n",
            "TGT-TTGGAGAGT--TTGA--T--CC--TG----GCTCAGGA-CGAACGCTGGCG--GCGTGC-T-TA-ACAC\n",
            "  Score=34\n",
            "\n",
            "ATA-TT---AG-GTTTTT-ACCTACCCAG-GAAAAGC-CA--ACC-AAC-CT--CGAT-C-T-CTTGTAGA---\n",
            " |  ||   || | || | |  |  ||   |    || ||  | | ||| ||  ||   | | | | || |   \n",
            "-T-GTTTGGAGAG-TT-TGA--T--CC--TG----GCTCAGGA-CGAACGCTGGCG--GCGTGC-T-TA-ACAC\n",
            "  Score=34\n",
            "\n",
            "ATATT---AG-GTTTTT-ACCTACCCAG-GAAAAGC-CA--ACC-AAC-CT--CGAT-C-T-CTTGTAGA---\n",
            " |.||   || | || | |  |  ||   |    || ||  | | ||| ||  ||   | | | | || |   \n",
            "-TGTTTGGAGAG-TT-TGA--T--CC--TG----GCTCAGGA-CGAACGCTGGCG--GCGTGC-T-TA-ACAC\n",
            "  Score=34\n",
            "\n",
            "ATA-T-T--AG-GTTTTT-ACCTACCCAG-GAAAAGC-CA--ACC-AAC-CT--CGAT-C-T-CTTGTAGA---\n",
            " |  | |  || | || | |  |  ||   |    || ||  | | ||| ||  ||   | | | | || |   \n",
            "-T-GTTTGGAGAG-TT-TGA--T--CC--TG----GCTCAGGA-CGAACGCTGGCG--GCGTGC-T-TA-ACAC\n",
            "  Score=34\n",
            "\n",
            "ATAT-T--AG-GTTTTT-ACCTACCCAG-GAAAAGC-CA--ACC-AAC-CT--CGAT-C-T-CTTGTAGA---\n",
            " |.| |  || | || | |  |  ||   |    || ||  | | ||| ||  ||   | | | | || |   \n",
            "-TGTTTGGAGAG-TT-TGA--T--CC--TG----GCTCAGGA-CGAACGCTGGCG--GCGTGC-T-TA-ACAC\n",
            "  Score=34\n",
            "\n",
            "ATA--TT--AG-GTTTTT-ACCTACCCAG-GAAAAGC-CA--ACC-AAC-CT--CGAT-C-T-CTTGTAGA---\n",
            " |   ||  || | || | |  |  ||   |    || ||  | | ||| ||  ||   | | | | || |   \n",
            "-T-GTTTGGAGAG-TT-TGA--T--CC--TG----GCTCAGGA-CGAACGCTGGCG--GCGTGC-T-TA-ACAC\n",
            "  Score=34\n",
            "\n",
            "ATA-TT--AG-GTTTTT-ACCTACCCAG-GAAAAGC-CA--ACC-AAC-CT--CGAT-C-T-CTTGTAGA---\n",
            " |. ||  || | || | |  |  ||   |    || ||  | | ||| ||  ||   | | | | || |   \n",
            "-TGTTTGGAGAG-TT-TGA--T--CC--TG----GCTCAGGA-CGAACGCTGGCG--GCGTGC-T-TA-ACAC\n",
            "  Score=34\n",
            "\n",
            "AT-ATT--AG-GTTTTT-ACCTACCCAG-GAAAAGC-CA--ACC-AAC-CT--CGAT-C-T-CTTGTAGA---\n",
            " | .||  || | || | |  |  ||   |    || ||  | | ||| ||  ||   | | | | || |   \n",
            "-TGTTTGGAGAG-TT-TGA--T--CC--TG----GCTCAGGA-CGAACGCTGGCG--GCGTGC-T-TA-ACAC\n",
            "  Score=34\n",
            "\n",
            "A--TATT--AG-GTTTTT-ACCTACCCAG-GAAAAGC-CA--ACC-AAC-CT--CGAT-C-T-CTTGTAGA---\n",
            "   | ||  || | || | |  |  ||   |    || ||  | | ||| ||  ||   | | | | || |   \n",
            "-TGT-TTGGAGAG-TT-TGA--T--CC--TG----GCTCAGGA-CGAACGCTGGCG--GCGTGC-T-TA-ACAC\n",
            "  Score=34\n",
            "\n",
            "A-TATT--AG-GTTTTT-ACCTACCCAG-GAAAAGC-CA--ACC-AAC-CT--CGAT-C-T-CTTGTAGA---\n",
            ". | ||  || | || | |  |  ||   |    || ||  | | ||| ||  ||   | | | | || |   \n",
            "TGT-TTGGAGAG-TT-TGA--T--CC--TG----GCTCAGGA-CGAACGCTGGCG--GCGTGC-T-TA-ACAC\n",
            "  Score=34\n",
            "\n",
            "-ATATT--AG-GTTTTT-ACCTACCCAG-GAAAAGC-CA--ACC-AAC-CT--CGAT-C-T-CTTGTAGA---\n",
            " .| ||  || | || | |  |  ||   |    || ||  | | ||| ||  ||   | | | | || |   \n",
            "TGT-TTGGAGAG-TT-TGA--T--CC--TG----GCTCAGGA-CGAACGCTGGCG--GCGTGC-T-TA-ACAC\n",
            "  Score=34\n",
            "\n",
            "ATA-TT---AG-GTTTTT-ACCTACCCAG-GAAAAGC-CA--ACC-AAC-CT--CGAT-C-T-CTTGTAGA---\n",
            " |  ||   || || | | |  |  ||   |    || ||  | | ||| ||  ||   | | | | || |   \n",
            "-T-GTTTGGAGAGT-T-TGA--T--CC--TG----GCTCAGGA-CGAACGCTGGCG--GCGTGC-T-TA-ACAC\n",
            "  Score=34\n",
            "\n",
            "ATATT---AG-GTTTTT-ACCTACCCAG-GAAAAGC-CA--ACC-AAC-CT--CGAT-C-T-CTTGTAGA---\n",
            " |.||   || || | | |  |  ||   |    || ||  | | ||| ||  ||   | | | | || |   \n",
            "-TGTTTGGAGAGT-T-TGA--T--CC--TG----GCTCAGGA-CGAACGCTGGCG--GCGTGC-T-TA-ACAC\n",
            "  Score=34\n",
            "\n",
            "ATA-T-T--AG-GTTTTT-ACCTACCCAG-GAAAAGC-CA--ACC-AAC-CT--CGAT-C-T-CTTGTAGA---\n",
            " |  | |  || || | | |  |  ||   |    || ||  | | ||| ||  ||   | | | | || |   \n",
            "-T-GTTTGGAGAGT-T-TGA--T--CC--TG----GCTCAGGA-CGAACGCTGGCG--GCGTGC-T-TA-ACAC\n",
            "  Score=34\n",
            "\n",
            "ATAT-T--AG-GTTTTT-ACCTACCCAG-GAAAAGC-CA--ACC-AAC-CT--CGAT-C-T-CTTGTAGA---\n",
            " |.| |  || || | | |  |  ||   |    || ||  | | ||| ||  ||   | | | | || |   \n",
            "-TGTTTGGAGAGT-T-TGA--T--CC--TG----GCTCAGGA-CGAACGCTGGCG--GCGTGC-T-TA-ACAC\n",
            "  Score=34\n",
            "\n",
            "ATA--TT--AG-GTTTTT-ACCTACCCAG-GAAAAGC-CA--ACC-AAC-CT--CGAT-C-T-CTTGTAGA---\n",
            " |   ||  || || | | |  |  ||   |    || ||  | | ||| ||  ||   | | | | || |   \n",
            "-T-GTTTGGAGAGT-T-TGA--T--CC--TG----GCTCAGGA-CGAACGCTGGCG--GCGTGC-T-TA-ACAC\n",
            "  Score=34\n",
            "\n",
            "ATA-TT--AG-GTTTTT-ACCTACCCAG-GAAAAGC-CA--ACC-AAC-CT--CGAT-C-T-CTTGTAGA---\n",
            " |. ||  || || | | |  |  ||   |    || ||  | | ||| ||  ||   | | | | || |   \n",
            "-TGTTTGGAGAGT-T-TGA--T--CC--TG----GCTCAGGA-CGAACGCTGGCG--GCGTGC-T-TA-ACAC\n",
            "  Score=34\n",
            "\n",
            "AT-ATT--AG-GTTTTT-ACCTACCCAG-GAAAAGC-CA--ACC-AAC-CT--CGAT-C-T-CTTGTAGA---\n",
            " | .||  || || | | |  |  ||   |    || ||  | | ||| ||  ||   | | | | || |   \n",
            "-TGTTTGGAGAGT-T-TGA--T--CC--TG----GCTCAGGA-CGAACGCTGGCG--GCGTGC-T-TA-ACAC\n",
            "  Score=34\n",
            "\n",
            "A--TATT--AG-GTTTTT-ACCTACCCAG-GAAAAGC-CA--ACC-AAC-CT--CGAT-C-T-CTTGTAGA---\n",
            "   | ||  || || | | |  |  ||   |    || ||  | | ||| ||  ||   | | | | || |   \n",
            "-TGT-TTGGAGAGT-T-TGA--T--CC--TG----GCTCAGGA-CGAACGCTGGCG--GCGTGC-T-TA-ACAC\n",
            "  Score=34\n",
            "\n",
            "A-TATT--AG-GTTTTT-ACCTACCCAG-GAAAAGC-CA--ACC-AAC-CT--CGAT-C-T-CTTGTAGA---\n",
            ". | ||  || || | | |  |  ||   |    || ||  | | ||| ||  ||   | | | | || |   \n",
            "TGT-TTGGAGAGT-T-TGA--T--CC--TG----GCTCAGGA-CGAACGCTGGCG--GCGTGC-T-TA-ACAC\n",
            "  Score=34\n",
            "\n",
            "-ATATT--AG-GTTTTT-ACCTACCCAG-GAAAAGC-CA--ACC-AAC-CT--CGAT-C-T-CTTGTAGA---\n",
            " .| ||  || || | | |  |  ||   |    || ||  | | ||| ||  ||   | | | | || |   \n",
            "TGT-TTGGAGAGT-T-TGA--T--CC--TG----GCTCAGGA-CGAACGCTGGCG--GCGTGC-T-TA-ACAC\n",
            "  Score=34\n",
            "\n",
            "ATA-TT---AG-GTTTTT-ACCTACCCAG-GAAAAGC-CA--ACC-AAC-CT--CGAT-C-T-CTTGTAGA---\n",
            " |  ||   || |||  | |  |  ||   |    || ||  | | ||| ||  ||   | | | | || |   \n",
            "-T-GTTTGGAGAGTT--TGA--T--CC--TG----GCTCAGGA-CGAACGCTGGCG--GCGTGC-T-TA-ACAC\n",
            "  Score=34\n",
            "\n",
            "ATATT---AG-GTTTTT-ACCTACCCAG-GAAAAGC-CA--ACC-AAC-CT--CGAT-C-T-CTTGTAGA---\n",
            " |.||   || |||  | |  |  ||   |    || ||  | | ||| ||  ||   | | | | || |   \n",
            "-TGTTTGGAGAGTT--TGA--T--CC--TG----GCTCAGGA-CGAACGCTGGCG--GCGTGC-T-TA-ACAC\n",
            "  Score=34\n",
            "\n",
            "ATA-T-T--AG-GTTTTT-ACCTACCCAG-GAAAAGC-CA--ACC-AAC-CT--CGAT-C-T-CTTGTAGA---\n",
            " |  | |  || |||  | |  |  ||   |    || ||  | | ||| ||  ||   | | | | || |   \n",
            "-T-GTTTGGAGAGTT--TGA--T--CC--TG----GCTCAGGA-CGAACGCTGGCG--GCGTGC-T-TA-ACAC\n",
            "  Score=34\n",
            "\n",
            "ATAT-T--AG-GTTTTT-ACCTACCCAG-GAAAAGC-CA--ACC-AAC-CT--CGAT-C-T-CTTGTAGA---\n",
            " |.| |  || |||  | |  |  ||   |    || ||  | | ||| ||  ||   | | | | || |   \n",
            "-TGTTTGGAGAGTT--TGA--T--CC--TG----GCTCAGGA-CGAACGCTGGCG--GCGTGC-T-TA-ACAC\n",
            "  Score=34\n",
            "\n",
            "ATA--TT--AG-GTTTTT-ACCTACCCAG-GAAAAGC-CA--ACC-AAC-CT--CGAT-C-T-CTTGTAGA---\n",
            " |   ||  || |||  | |  |  ||   |    || ||  | | ||| ||  ||   | | | | || |   \n",
            "-T-GTTTGGAGAGTT--TGA--T--CC--TG----GCTCAGGA-CGAACGCTGGCG--GCGTGC-T-TA-ACAC\n",
            "  Score=34\n",
            "\n",
            "ATA-TT--AG-GTTTTT-ACCTACCCAG-GAAAAGC-CA--ACC-AAC-CT--CGAT-C-T-CTTGTAGA---\n",
            " |. ||  || |||  | |  |  ||   |    || ||  | | ||| ||  ||   | | | | || |   \n",
            "-TGTTTGGAGAGTT--TGA--T--CC--TG----GCTCAGGA-CGAACGCTGGCG--GCGTGC-T-TA-ACAC\n",
            "  Score=34\n",
            "\n",
            "AT-ATT--AG-GTTTTT-ACCTACCCAG-GAAAAGC-CA--ACC-AAC-CT--CGAT-C-T-CTTGTAGA---\n",
            " | .||  || |||  | |  |  ||   |    || ||  | | ||| ||  ||   | | | | || |   \n",
            "-TGTTTGGAGAGTT--TGA--T--CC--TG----GCTCAGGA-CGAACGCTGGCG--GCGTGC-T-TA-ACAC\n",
            "  Score=34\n",
            "\n",
            "A--TATT--AG-GTTTTT-ACCTACCCAG-GAAAAGC-CA--ACC-AAC-CT--CGAT-C-T-CTTGTAGA---\n",
            "   | ||  || |||  | |  |  ||   |    || ||  | | ||| ||  ||   | | | | || |   \n",
            "-TGT-TTGGAGAGTT--TGA--T--CC--TG----GCTCAGGA-CGAACGCTGGCG--GCGTGC-T-TA-ACAC\n",
            "  Score=34\n",
            "\n",
            "A-TATT--AG-GTTTTT-ACCTACCCAG-GAAAAGC-CA--ACC-AAC-CT--CGAT-C-T-CTTGTAGA---\n",
            ". | ||  || |||  | |  |  ||   |    || ||  | | ||| ||  ||   | | | | || |   \n",
            "TGT-TTGGAGAGTT--TGA--T--CC--TG----GCTCAGGA-CGAACGCTGGCG--GCGTGC-T-TA-ACAC\n",
            "  Score=34\n",
            "\n",
            "-ATATT--AG-GTTTTT-ACCTACCCAG-GAAAAGC-CA--ACC-AAC-CT--CGAT-C-T-CTTGTAGA---\n",
            " .| ||  || |||  | |  |  ||   |    || ||  | | ||| ||  ||   | | | | || |   \n",
            "TGT-TTGGAGAGTT--TGA--T--CC--TG----GCTCAGGA-CGAACGCTGGCG--GCGTGC-T-TA-ACAC\n",
            "  Score=34\n",
            "\n",
            "ATA-TT---AG-GTTTTT-ACCTACCCAG-GAAAAGC-CA--ACC-AAC-CT--CGAT-C-T-CTTGTAGA---\n",
            " |  ||   || | |||  |  |  ||   |    || ||  | | ||| ||  ||   | | | | || |   \n",
            "-T-GTTTGGAGAG-TTT-GA--T--CC--TG----GCTCAGGA-CGAACGCTGGCG--GCGTGC-T-TA-ACAC\n",
            "  Score=34\n",
            "\n",
            "ATATT---AG-GTTTTT-ACCTACCCAG-GAAAAGC-CA--ACC-AAC-CT--CGAT-C-T-CTTGTAGA---\n",
            " |.||   || | |||  |  |  ||   |    || ||  | | ||| ||  ||   | | | | || |   \n",
            "-TGTTTGGAGAG-TTT-GA--T--CC--TG----GCTCAGGA-CGAACGCTGGCG--GCGTGC-T-TA-ACAC\n",
            "  Score=34\n",
            "\n",
            "ATA-T-T--AG-GTTTTT-ACCTACCCAG-GAAAAGC-CA--ACC-AAC-CT--CGAT-C-T-CTTGTAGA---\n",
            " |  | |  || | |||  |  |  ||   |    || ||  | | ||| ||  ||   | | | | || |   \n",
            "-T-GTTTGGAGAG-TTT-GA--T--CC--TG----GCTCAGGA-CGAACGCTGGCG--GCGTGC-T-TA-ACAC\n",
            "  Score=34\n",
            "\n",
            "ATAT-T--AG-GTTTTT-ACCTACCCAG-GAAAAGC-CA--ACC-AAC-CT--CGAT-C-T-CTTGTAGA---\n",
            " |.| |  || | |||  |  |  ||   |    || ||  | | ||| ||  ||   | | | | || |   \n",
            "-TGTTTGGAGAG-TTT-GA--T--CC--TG----GCTCAGGA-CGAACGCTGGCG--GCGTGC-T-TA-ACAC\n",
            "  Score=34\n",
            "\n",
            "ATA--TT--AG-GTTTTT-ACCTACCCAG-GAAAAGC-CA--ACC-AAC-CT--CGAT-C-T-CTTGTAGA---\n",
            " |   ||  || | |||  |  |  ||   |    || ||  | | ||| ||  ||   | | | | || |   \n",
            "-T-GTTTGGAGAG-TTT-GA--T--CC--TG----GCTCAGGA-CGAACGCTGGCG--GCGTGC-T-TA-ACAC\n",
            "  Score=34\n",
            "\n",
            "ATA-TT--AG-GTTTTT-ACCTACCCAG-GAAAAGC-CA--ACC-AAC-CT--CGAT-C-T-CTTGTAGA---\n",
            " |. ||  || | |||  |  |  ||   |    || ||  | | ||| ||  ||   | | | | || |   \n",
            "-TGTTTGGAGAG-TTT-GA--T--CC--TG----GCTCAGGA-CGAACGCTGGCG--GCGTGC-T-TA-ACAC\n",
            "  Score=34\n",
            "\n",
            "AT-ATT--AG-GTTTTT-ACCTACCCAG-GAAAAGC-CA--ACC-AAC-CT--CGAT-C-T-CTTGTAGA---\n",
            " | .||  || | |||  |  |  ||   |    || ||  | | ||| ||  ||   | | | | || |   \n",
            "-TGTTTGGAGAG-TTT-GA--T--CC--TG----GCTCAGGA-CGAACGCTGGCG--GCGTGC-T-TA-ACAC\n",
            "  Score=34\n",
            "\n",
            "A--TATT--AG-GTTTTT-ACCTACCCAG-GAAAAGC-CA--ACC-AAC-CT--CGAT-C-T-CTTGTAGA---\n",
            "   | ||  || | |||  |  |  ||   |    || ||  | | ||| ||  ||   | | | | || |   \n",
            "-TGT-TTGGAGAG-TTT-GA--T--CC--TG----GCTCAGGA-CGAACGCTGGCG--GCGTGC-T-TA-ACAC\n",
            "  Score=34\n",
            "\n",
            "A-TATT--AG-GTTTTT-ACCTACCCAG-GAAAAGC-CA--ACC-AAC-CT--CGAT-C-T-CTTGTAGA---\n",
            ". | ||  || | |||  |  |  ||   |    || ||  | | ||| ||  ||   | | | | || |   \n",
            "TGT-TTGGAGAG-TTT-GA--T--CC--TG----GCTCAGGA-CGAACGCTGGCG--GCGTGC-T-TA-ACAC\n",
            "  Score=34\n",
            "\n",
            "-ATATT--AG-GTTTTT-ACCTACCCAG-GAAAAGC-CA--ACC-AAC-CT--CGAT-C-T-CTTGTAGA---\n",
            " .| ||  || | |||  |  |  ||   |    || ||  | | ||| ||  ||   | | | | || |   \n",
            "TGT-TTGGAGAG-TTT-GA--T--CC--TG----GCTCAGGA-CGAACGCTGGCG--GCGTGC-T-TA-ACAC\n",
            "  Score=34\n",
            "\n",
            "ATA-TT---AG-GTTTTT-ACCTACCCAG-GAAAAGC-CA--ACC-AAC-CT--CGAT-C-T-CTTGTAGA---\n",
            " |  ||   || || ||  |  |  ||   |    || ||  | | ||| ||  ||   | | | | || |   \n",
            "-T-GTTTGGAGAGT-TT-GA--T--CC--TG----GCTCAGGA-CGAACGCTGGCG--GCGTGC-T-TA-ACAC\n",
            "  Score=34\n",
            "\n",
            "ATATT---AG-GTTTTT-ACCTACCCAG-GAAAAGC-CA--ACC-AAC-CT--CGAT-C-T-CTTGTAGA---\n",
            " |.||   || || ||  |  |  ||   |    || ||  | | ||| ||  ||   | | | | || |   \n",
            "-TGTTTGGAGAGT-TT-GA--T--CC--TG----GCTCAGGA-CGAACGCTGGCG--GCGTGC-T-TA-ACAC\n",
            "  Score=34\n",
            "\n",
            "ATA-T-T--AG-GTTTTT-ACCTACCCAG-GAAAAGC-CA--ACC-AAC-CT--CGAT-C-T-CTTGTAGA---\n",
            " |  | |  || || ||  |  |  ||   |    || ||  | | ||| ||  ||   | | | | || |   \n",
            "-T-GTTTGGAGAGT-TT-GA--T--CC--TG----GCTCAGGA-CGAACGCTGGCG--GCGTGC-T-TA-ACAC\n",
            "  Score=34\n",
            "\n",
            "ATAT-T--AG-GTTTTT-ACCTACCCAG-GAAAAGC-CA--ACC-AAC-CT--CGAT-C-T-CTTGTAGA---\n",
            " |.| |  || || ||  |  |  ||   |    || ||  | | ||| ||  ||   | | | | || |   \n",
            "-TGTTTGGAGAGT-TT-GA--T--CC--TG----GCTCAGGA-CGAACGCTGGCG--GCGTGC-T-TA-ACAC\n",
            "  Score=34\n",
            "\n",
            "ATA--TT--AG-GTTTTT-ACCTACCCAG-GAAAAGC-CA--ACC-AAC-CT--CGAT-C-T-CTTGTAGA---\n",
            " |   ||  || || ||  |  |  ||   |    || ||  | | ||| ||  ||   | | | | || |   \n",
            "-T-GTTTGGAGAGT-TT-GA--T--CC--TG----GCTCAGGA-CGAACGCTGGCG--GCGTGC-T-TA-ACAC\n",
            "  Score=34\n",
            "\n",
            "ATA-TT--AG-GTTTTT-ACCTACCCAG-GAAAAGC-CA--ACC-AAC-CT--CGAT-C-T-CTTGTAGA---\n",
            " |. ||  || || ||  |  |  ||   |    || ||  | | ||| ||  ||   | | | | || |   \n",
            "-TGTTTGGAGAGT-TT-GA--T--CC--TG----GCTCAGGA-CGAACGCTGGCG--GCGTGC-T-TA-ACAC\n",
            "  Score=34\n",
            "\n",
            "AT-ATT--AG-GTTTTT-ACCTACCCAG-GAAAAGC-CA--ACC-AAC-CT--CGAT-C-T-CTTGTAGA---\n",
            " | .||  || || ||  |  |  ||   |    || ||  | | ||| ||  ||   | | | | || |   \n",
            "-TGTTTGGAGAGT-TT-GA--T--CC--TG----GCTCAGGA-CGAACGCTGGCG--GCGTGC-T-TA-ACAC\n",
            "  Score=34\n",
            "\n",
            "A--TATT--AG-GTTTTT-ACCTACCCAG-GAAAAGC-CA--ACC-AAC-CT--CGAT-C-T-CTTGTAGA---\n",
            "   | ||  || || ||  |  |  ||   |    || ||  | | ||| ||  ||   | | | | || |   \n",
            "-TGT-TTGGAGAGT-TT-GA--T--CC--TG----GCTCAGGA-CGAACGCTGGCG--GCGTGC-T-TA-ACAC\n",
            "  Score=34\n",
            "\n",
            "A-TATT--AG-GTTTTT-ACCTACCCAG-GAAAAGC-CA--ACC-AAC-CT--CGAT-C-T-CTTGTAGA---\n",
            ". | ||  || || ||  |  |  ||   |    || ||  | | ||| ||  ||   | | | | || |   \n",
            "TGT-TTGGAGAGT-TT-GA--T--CC--TG----GCTCAGGA-CGAACGCTGGCG--GCGTGC-T-TA-ACAC\n",
            "  Score=34\n",
            "\n",
            "-ATATT--AG-GTTTTT-ACCTACCCAG-GAAAAGC-CA--ACC-AAC-CT--CGAT-C-T-CTTGTAGA---\n",
            " .| ||  || || ||  |  |  ||   |    || ||  | | ||| ||  ||   | | | | || |   \n",
            "TGT-TTGGAGAGT-TT-GA--T--CC--TG----GCTCAGGA-CGAACGCTGGCG--GCGTGC-T-TA-ACAC\n",
            "  Score=34\n",
            "\n",
            "ATA-TT---AG-GTTTTT-ACCTACCCAG-GAAAAGC-CA--ACC-AAC-CT--CGAT-C-T-CTTGTAGA---\n",
            " |  ||   || ||| |  |  |  ||   |    || ||  | | ||| ||  ||   | | | | || |   \n",
            "-T-GTTTGGAGAGTT-T-GA--T--CC--TG----GCTCAGGA-CGAACGCTGGCG--GCGTGC-T-TA-ACAC\n",
            "  Score=34\n",
            "\n",
            "ATATT---AG-GTTTTT-ACCTACCCAG-GAAAAGC-CA--ACC-AAC-CT--CGAT-C-T-CTTGTAGA---\n",
            " |.||   || ||| |  |  |  ||   |    || ||  | | ||| ||  ||   | | | | || |   \n",
            "-TGTTTGGAGAGTT-T-GA--T--CC--TG----GCTCAGGA-CGAACGCTGGCG--GCGTGC-T-TA-ACAC\n",
            "  Score=34\n",
            "\n",
            "ATA-T-T--AG-GTTTTT-ACCTACCCAG-GAAAAGC-CA--ACC-AAC-CT--CGAT-C-T-CTTGTAGA---\n",
            " |  | |  || ||| |  |  |  ||   |    || ||  | | ||| ||  ||   | | | | || |   \n",
            "-T-GTTTGGAGAGTT-T-GA--T--CC--TG----GCTCAGGA-CGAACGCTGGCG--GCGTGC-T-TA-ACAC\n",
            "  Score=34\n",
            "\n",
            "ATAT-T--AG-GTTTTT-ACCTACCCAG-GAAAAGC-CA--ACC-AAC-CT--CGAT-C-T-CTTGTAGA---\n",
            " |.| |  || ||| |  |  |  ||   |    || ||  | | ||| ||  ||   | | | | || |   \n",
            "-TGTTTGGAGAGTT-T-GA--T--CC--TG----GCTCAGGA-CGAACGCTGGCG--GCGTGC-T-TA-ACAC\n",
            "  Score=34\n",
            "\n",
            "ATA--TT--AG-GTTTTT-ACCTACCCAG-GAAAAGC-CA--ACC-AAC-CT--CGAT-C-T-CTTGTAGA---\n",
            " |   ||  || ||| |  |  |  ||   |    || ||  | | ||| ||  ||   | | | | || |   \n",
            "-T-GTTTGGAGAGTT-T-GA--T--CC--TG----GCTCAGGA-CGAACGCTGGCG--GCGTGC-T-TA-ACAC\n",
            "  Score=34\n",
            "\n",
            "ATA-TT--AG-GTTTTT-ACCTACCCAG-GAAAAGC-CA--ACC-AAC-CT--CGAT-C-T-CTTGTAGA---\n",
            " |. ||  || ||| |  |  |  ||   |    || ||  | | ||| ||  ||   | | | | || |   \n",
            "-TGTTTGGAGAGTT-T-GA--T--CC--TG----GCTCAGGA-CGAACGCTGGCG--GCGTGC-T-TA-ACAC\n",
            "  Score=34\n",
            "\n",
            "AT-ATT--AG-GTTTTT-ACCTACCCAG-GAAAAGC-CA--ACC-AAC-CT--CGAT-C-T-CTTGTAGA---\n",
            " | .||  || ||| |  |  |  ||   |    || ||  | | ||| ||  ||   | | | | || |   \n",
            "-TGTTTGGAGAGTT-T-GA--T--CC--TG----GCTCAGGA-CGAACGCTGGCG--GCGTGC-T-TA-ACAC\n",
            "  Score=34\n",
            "\n",
            "A--TATT--AG-GTTTTT-ACCTACCCAG-GAAAAGC-CA--ACC-AAC-CT--CGAT-C-T-CTTGTAGA---\n",
            "   | ||  || ||| |  |  |  ||   |    || ||  | | ||| ||  ||   | | | | || |   \n",
            "-TGT-TTGGAGAGTT-T-GA--T--CC--TG----GCTCAGGA-CGAACGCTGGCG--GCGTGC-T-TA-ACAC\n",
            "  Score=34\n",
            "\n",
            "A-TATT--AG-GTTTTT-ACCTACCCAG-GAAAAGC-CA--ACC-AAC-CT--CGAT-C-T-CTTGTAGA---\n",
            ". | ||  || ||| |  |  |  ||   |    || ||  | | ||| ||  ||   | | | | || |   \n",
            "TGT-TTGGAGAGTT-T-GA--T--CC--TG----GCTCAGGA-CGAACGCTGGCG--GCGTGC-T-TA-ACAC\n",
            "  Score=34\n",
            "\n",
            "-ATATT--AG-GTTTTT-ACCTACCCAG-GAAAAGC-CA--ACC-AAC-CT--CGAT-C-T-CTTGTAGA---\n",
            " .| ||  || ||| |  |  |  ||   |    || ||  | | ||| ||  ||   | | | | || |   \n",
            "TGT-TTGGAGAGTT-T-GA--T--CC--TG----GCTCAGGA-CGAACGCTGGCG--GCGTGC-T-TA-ACAC\n",
            "  Score=34\n",
            "\n",
            "ATA-TT---AG-GTTTTT-ACCTACCCAG-GAAAAGC-CA--ACC-AAC-CT--CGAT-C-T-CTTGTAGA---\n",
            " |  ||   || ||||   |  |  ||   |    || ||  | | ||| ||  ||   | | | | || |   \n",
            "-T-GTTTGGAGAGTTT--GA--T--CC--TG----GCTCAGGA-CGAACGCTGGCG--GCGTGC-T-TA-ACAC\n",
            "  Score=34\n",
            "\n",
            "ATATT---AG-GTTTTT-ACCTACCCAG-GAAAAGC-CA--ACC-AAC-CT--CGAT-C-T-CTTGTAGA---\n",
            " |.||   || ||||   |  |  ||   |    || ||  | | ||| ||  ||   | | | | || |   \n",
            "-TGTTTGGAGAGTTT--GA--T--CC--TG----GCTCAGGA-CGAACGCTGGCG--GCGTGC-T-TA-ACAC\n",
            "  Score=34\n",
            "\n",
            "ATA-T-T--AG-GTTTTT-ACCTACCCAG-GAAAAGC-CA--ACC-AAC-CT--CGAT-C-T-CTTGTAGA---\n",
            " |  | |  || ||||   |  |  ||   |    || ||  | | ||| ||  ||   | | | | || |   \n",
            "-T-GTTTGGAGAGTTT--GA--T--CC--TG----GCTCAGGA-CGAACGCTGGCG--GCGTGC-T-TA-ACAC\n",
            "  Score=34\n",
            "\n",
            "ATAT-T--AG-GTTTTT-ACCTACCCAG-GAAAAGC-CA--ACC-AAC-CT--CGAT-C-T-CTTGTAGA---\n",
            " |.| |  || ||||   |  |  ||   |    || ||  | | ||| ||  ||   | | | | || |   \n",
            "-TGTTTGGAGAGTTT--GA--T--CC--TG----GCTCAGGA-CGAACGCTGGCG--GCGTGC-T-TA-ACAC\n",
            "  Score=34\n",
            "\n",
            "ATA--TT--AG-GTTTTT-ACCTACCCAG-GAAAAGC-CA--ACC-AAC-CT--CGAT-C-T-CTTGTAGA---\n",
            " |   ||  || ||||   |  |  ||   |    || ||  | | ||| ||  ||   | | | | || |   \n",
            "-T-GTTTGGAGAGTTT--GA--T--CC--TG----GCTCAGGA-CGAACGCTGGCG--GCGTGC-T-TA-ACAC\n",
            "  Score=34\n",
            "\n",
            "ATA-TT--AG-GTTTTT-ACCTACCCAG-GAAAAGC-CA--ACC-AAC-CT--CGAT-C-T-CTTGTAGA---\n",
            " |. ||  || ||||   |  |  ||   |    || ||  | | ||| ||  ||   | | | | || |   \n",
            "-TGTTTGGAGAGTTT--GA--T--CC--TG----GCTCAGGA-CGAACGCTGGCG--GCGTGC-T-TA-ACAC\n",
            "  Score=34\n",
            "\n",
            "AT-ATT--AG-GTTTTT-ACCTACCCAG-GAAAAGC-CA--ACC-AAC-CT--CGAT-C-T-CTTGTAGA---\n",
            " | .||  || ||||   |  |  ||   |    || ||  | | ||| ||  ||   | | | | || |   \n",
            "-TGTTTGGAGAGTTT--GA--T--CC--TG----GCTCAGGA-CGAACGCTGGCG--GCGTGC-T-TA-ACAC\n",
            "  Score=34\n",
            "\n",
            "A--TATT--AG-GTTTTT-ACCTACCCAG-GAAAAGC-CA--ACC-AAC-CT--CGAT-C-T-CTTGTAGA---\n",
            "   | ||  || ||||   |  |  ||   |    || ||  | | ||| ||  ||   | | | | || |   \n",
            "-TGT-TTGGAGAGTTT--GA--T--CC--TG----GCTCAGGA-CGAACGCTGGCG--GCGTGC-T-TA-ACAC\n",
            "  Score=34\n",
            "\n",
            "A-TATT--AG-GTTTTT-ACCTACCCAG-GAAAAGC-CA--ACC-AAC-CT--CGAT-C-T-CTTGTAGA---\n",
            ". | ||  || ||||   |  |  ||   |    || ||  | | ||| ||  ||   | | | | || |   \n",
            "TGT-TTGGAGAGTTT--GA--T--CC--TG----GCTCAGGA-CGAACGCTGGCG--GCGTGC-T-TA-ACAC\n",
            "  Score=34\n",
            "\n",
            "-ATATT--AG-GTTTTT-ACCTACCCAG-GAAAAGC-CA--ACC-AAC-CT--CGAT-C-T-CTTGTAGA---\n",
            " .| ||  || ||||   |  |  ||   |    || ||  | | ||| ||  ||   | | | | || |   \n",
            "TGT-TTGGAGAGTTT--GA--T--CC--TG----GCTCAGGA-CGAACGCTGGCG--GCGTGC-T-TA-ACAC\n",
            "  Score=34\n",
            "\n",
            "ATA-TT---AG-GTTTTTACCTACCCAG-GAAAAGC-CA--ACC-AAC-CT--CGAT-C-T-CTTGTAGA---\n",
            " |  ||   || | |||.|  |  ||   |    || ||  | | ||| ||  ||   | | | | || |   \n",
            "-T-GTTTGGAGAG-TTTGA--T--CC--TG----GCTCAGGA-CGAACGCTGGCG--GCGTGC-T-TA-ACAC\n",
            "  Score=34\n",
            "\n",
            "ATATT---AG-GTTTTTACCTACCCAG-GAAAAGC-CA--ACC-AAC-CT--CGAT-C-T-CTTGTAGA---\n",
            " |.||   || | |||.|  |  ||   |    || ||  | | ||| ||  ||   | | | | || |   \n",
            "-TGTTTGGAGAG-TTTGA--T--CC--TG----GCTCAGGA-CGAACGCTGGCG--GCGTGC-T-TA-ACAC\n",
            "  Score=34\n",
            "\n",
            "ATA-T-T--AG-GTTTTTACCTACCCAG-GAAAAGC-CA--ACC-AAC-CT--CGAT-C-T-CTTGTAGA---\n",
            " |  | |  || | |||.|  |  ||   |    || ||  | | ||| ||  ||   | | | | || |   \n",
            "-T-GTTTGGAGAG-TTTGA--T--CC--TG----GCTCAGGA-CGAACGCTGGCG--GCGTGC-T-TA-ACAC\n",
            "  Score=34\n",
            "\n",
            "ATAT-T--AG-GTTTTTACCTACCCAG-GAAAAGC-CA--ACC-AAC-CT--CGAT-C-T-CTTGTAGA---\n",
            " |.| |  || | |||.|  |  ||   |    || ||  | | ||| ||  ||   | | | | || |   \n",
            "-TGTTTGGAGAG-TTTGA--T--CC--TG----GCTCAGGA-CGAACGCTGGCG--GCGTGC-T-TA-ACAC\n",
            "  Score=34\n",
            "\n",
            "ATA--TT--AG-GTTTTTACCTACCCAG-GAAAAGC-CA--ACC-AAC-CT--CGAT-C-T-CTTGTAGA---\n",
            " |   ||  || | |||.|  |  ||   |    || ||  | | ||| ||  ||   | | | | || |   \n",
            "-T-GTTTGGAGAG-TTTGA--T--CC--TG----GCTCAGGA-CGAACGCTGGCG--GCGTGC-T-TA-ACAC\n",
            "  Score=34\n",
            "\n",
            "ATA-TT--AG-GTTTTTACCTACCCAG-GAAAAGC-CA--ACC-AAC-CT--CGAT-C-T-CTTGTAGA---\n",
            " |. ||  || | |||.|  |  ||   |    || ||  | | ||| ||  ||   | | | | || |   \n",
            "-TGTTTGGAGAG-TTTGA--T--CC--TG----GCTCAGGA-CGAACGCTGGCG--GCGTGC-T-TA-ACAC\n",
            "  Score=34\n",
            "\n",
            "AT-ATT--AG-GTTTTTACCTACCCAG-GAAAAGC-CA--ACC-AAC-CT--CGAT-C-T-CTTGTAGA---\n",
            " | .||  || | |||.|  |  ||   |    || ||  | | ||| ||  ||   | | | | || |   \n",
            "-TGTTTGGAGAG-TTTGA--T--CC--TG----GCTCAGGA-CGAACGCTGGCG--GCGTGC-T-TA-ACAC\n",
            "  Score=34\n",
            "\n",
            "A--TATT--AG-GTTTTTACCTACCCAG-GAAAAGC-CA--ACC-AAC-CT--CGAT-C-T-CTTGTAGA---\n",
            "   | ||  || | |||.|  |  ||   |    || ||  | | ||| ||  ||   | | | | || |   \n",
            "-TGT-TTGGAGAG-TTTGA--T--CC--TG----GCTCAGGA-CGAACGCTGGCG--GCGTGC-T-TA-ACAC\n",
            "  Score=34\n",
            "\n",
            "A-TATT--AG-GTTTTTACCTACCCAG-GAAAAGC-CA--ACC-AAC-CT--CGAT-C-T-CTTGTAGA---\n",
            ". | ||  || | |||.|  |  ||   |    || ||  | | ||| ||  ||   | | | | || |   \n",
            "TGT-TTGGAGAG-TTTGA--T--CC--TG----GCTCAGGA-CGAACGCTGGCG--GCGTGC-T-TA-ACAC\n",
            "  Score=34\n",
            "\n",
            "-ATATT--AG-GTTTTTACCTACCCAG-GAAAAGC-CA--ACC-AAC-CT--CGAT-C-T-CTTGTAGA---\n",
            " .| ||  || | |||.|  |  ||   |    || ||  | | ||| ||  ||   | | | | || |   \n",
            "TGT-TTGGAGAG-TTTGA--T--CC--TG----GCTCAGGA-CGAACGCTGGCG--GCGTGC-T-TA-ACAC\n",
            "  Score=34\n",
            "\n",
            "ATA-TT---AG-GTTTTTACCTACCCAG-GAAAAGC-CA--ACC-AAC-CT--CGAT-C-T-CTTGTAGA---\n",
            " |  ||   || || ||.|  |  ||   |    || ||  | | ||| ||  ||   | | | | || |   \n",
            "-T-GTTTGGAGAGT-TTGA--T--CC--TG----GCTCAGGA-CGAACGCTGGCG--GCGTGC-T-TA-ACAC\n",
            "  Score=34\n",
            "\n",
            "ATATT---AG-GTTTTTACCTACCCAG-GAAAAGC-CA--ACC-AAC-CT--CGAT-C-T-CTTGTAGA---\n",
            " |.||   || || ||.|  |  ||   |    || ||  | | ||| ||  ||   | | | | || |   \n",
            "-TGTTTGGAGAGT-TTGA--T--CC--TG----GCTCAGGA-CGAACGCTGGCG--GCGTGC-T-TA-ACAC\n",
            "  Score=34\n",
            "\n",
            "ATA-T-T--AG-GTTTTTACCTACCCAG-GAAAAGC-CA--ACC-AAC-CT--CGAT-C-T-CTTGTAGA---\n",
            " |  | |  || || ||.|  |  ||   |    || ||  | | ||| ||  ||   | | | | || |   \n",
            "-T-GTTTGGAGAGT-TTGA--T--CC--TG----GCTCAGGA-CGAACGCTGGCG--GCGTGC-T-TA-ACAC\n",
            "  Score=34\n",
            "\n",
            "ATAT-T--AG-GTTTTTACCTACCCAG-GAAAAGC-CA--ACC-AAC-CT--CGAT-C-T-CTTGTAGA---\n",
            " |.| |  || || ||.|  |  ||   |    || ||  | | ||| ||  ||   | | | | || |   \n",
            "-TGTTTGGAGAGT-TTGA--T--CC--TG----GCTCAGGA-CGAACGCTGGCG--GCGTGC-T-TA-ACAC\n",
            "  Score=34\n",
            "\n",
            "ATA--TT--AG-GTTTTTACCTACCCAG-GAAAAGC-CA--ACC-AAC-CT--CGAT-C-T-CTTGTAGA---\n",
            " |   ||  || || ||.|  |  ||   |    || ||  | | ||| ||  ||   | | | | || |   \n",
            "-T-GTTTGGAGAGT-TTGA--T--CC--TG----GCTCAGGA-CGAACGCTGGCG--GCGTGC-T-TA-ACAC\n",
            "  Score=34\n",
            "\n",
            "ATA-TT--AG-GTTTTTACCTACCCAG-GAAAAGC-CA--ACC-AAC-CT--CGAT-C-T-CTTGTAGA---\n",
            " |. ||  || || ||.|  |  ||   |    || ||  | | ||| ||  ||   | | | | || |   \n",
            "-TGTTTGGAGAGT-TTGA--T--CC--TG----GCTCAGGA-CGAACGCTGGCG--GCGTGC-T-TA-ACAC\n",
            "  Score=34\n",
            "\n",
            "AT-ATT--AG-GTTTTTACCTACCCAG-GAAAAGC-CA--ACC-AAC-CT--CGAT-C-T-CTTGTAGA---\n",
            " | .||  || || ||.|  |  ||   |    || ||  | | ||| ||  ||   | | | | || |   \n",
            "-TGTTTGGAGAGT-TTGA--T--CC--TG----GCTCAGGA-CGAACGCTGGCG--GCGTGC-T-TA-ACAC\n",
            "  Score=34\n",
            "\n",
            "A--TATT--AG-GTTTTTACCTACCCAG-GAAAAGC-CA--ACC-AAC-CT--CGAT-C-T-CTTGTAGA---\n",
            "   | ||  || || ||.|  |  ||   |    || ||  | | ||| ||  ||   | | | | || |   \n",
            "-TGT-TTGGAGAGT-TTGA--T--CC--TG----GCTCAGGA-CGAACGCTGGCG--GCGTGC-T-TA-ACAC\n",
            "  Score=34\n",
            "\n",
            "A-TATT--AG-GTTTTTACCTACCCAG-GAAAAGC-CA--ACC-AAC-CT--CGAT-C-T-CTTGTAGA---\n",
            ". | ||  || || ||.|  |  ||   |    || ||  | | ||| ||  ||   | | | | || |   \n",
            "TGT-TTGGAGAGT-TTGA--T--CC--TG----GCTCAGGA-CGAACGCTGGCG--GCGTGC-T-TA-ACAC\n",
            "  Score=34\n",
            "\n",
            "-ATATT--AG-GTTTTTACCTACCCAG-GAAAAGC-CA--ACC-AAC-CT--CGAT-C-T-CTTGTAGA---\n",
            " .| ||  || || ||.|  |  ||   |    || ||  | | ||| ||  ||   | | | | || |   \n",
            "TGT-TTGGAGAGT-TTGA--T--CC--TG----GCTCAGGA-CGAACGCTGGCG--GCGTGC-T-TA-ACAC\n",
            "  Score=34\n",
            "\n",
            "ATA-TT---AG-GTTTTTACCTACCCAG-GAAAAGC-CA--ACC-AAC-CT--CGAT-C-T-CTTGTAGA---\n",
            " |  ||   || ||| |.|  |  ||   |    || ||  | | ||| ||  ||   | | | | || |   \n",
            "-T-GTTTGGAGAGTT-TGA--T--CC--TG----GCTCAGGA-CGAACGCTGGCG--GCGTGC-T-TA-ACAC\n",
            "  Score=34\n",
            "\n",
            "ATATT---AG-GTTTTTACCTACCCAG-GAAAAGC-CA--ACC-AAC-CT--CGAT-C-T-CTTGTAGA---\n",
            " |.||   || ||| |.|  |  ||   |    || ||  | | ||| ||  ||   | | | | || |   \n",
            "-TGTTTGGAGAGTT-TGA--T--CC--TG----GCTCAGGA-CGAACGCTGGCG--GCGTGC-T-TA-ACAC\n",
            "  Score=34\n",
            "\n",
            "ATA-T-T--AG-GTTTTTACCTACCCAG-GAAAAGC-CA--ACC-AAC-CT--CGAT-C-T-CTTGTAGA---\n",
            " |  | |  || ||| |.|  |  ||   |    || ||  | | ||| ||  ||   | | | | || |   \n",
            "-T-GTTTGGAGAGTT-TGA--T--CC--TG----GCTCAGGA-CGAACGCTGGCG--GCGTGC-T-TA-ACAC\n",
            "  Score=34\n",
            "\n",
            "ATAT-T--AG-GTTTTTACCTACCCAG-GAAAAGC-CA--ACC-AAC-CT--CGAT-C-T-CTTGTAGA---\n",
            " |.| |  || ||| |.|  |  ||   |    || ||  | | ||| ||  ||   | | | | || |   \n",
            "-TGTTTGGAGAGTT-TGA--T--CC--TG----GCTCAGGA-CGAACGCTGGCG--GCGTGC-T-TA-ACAC\n",
            "  Score=34\n",
            "\n",
            "ATA--TT--AG-GTTTTTACCTACCCAG-GAAAAGC-CA--ACC-AAC-CT--CGAT-C-T-CTTGTAGA---\n",
            " |   ||  || ||| |.|  |  ||   |    || ||  | | ||| ||  ||   | | | | || |   \n",
            "-T-GTTTGGAGAGTT-TGA--T--CC--TG----GCTCAGGA-CGAACGCTGGCG--GCGTGC-T-TA-ACAC\n",
            "  Score=34\n",
            "\n",
            "ATA-TT--AG-GTTTTTACCTACCCAG-GAAAAGC-CA--ACC-AAC-CT--CGAT-C-T-CTTGTAGA---\n",
            " |. ||  || ||| |.|  |  ||   |    || ||  | | ||| ||  ||   | | | | || |   \n",
            "-TGTTTGGAGAGTT-TGA--T--CC--TG----GCTCAGGA-CGAACGCTGGCG--GCGTGC-T-TA-ACAC\n",
            "  Score=34\n",
            "\n",
            "AT-ATT--AG-GTTTTTACCTACCCAG-GAAAAGC-CA--ACC-AAC-CT--CGAT-C-T-CTTGTAGA---\n",
            " | .||  || ||| |.|  |  ||   |    || ||  | | ||| ||  ||   | | | | || |   \n",
            "-TGTTTGGAGAGTT-TGA--T--CC--TG----GCTCAGGA-CGAACGCTGGCG--GCGTGC-T-TA-ACAC\n",
            "  Score=34\n",
            "\n",
            "A--TATT--AG-GTTTTTACCTACCCAG-GAAAAGC-CA--ACC-AAC-CT--CGAT-C-T-CTTGTAGA---\n",
            "   | ||  || ||| |.|  |  ||   |    || ||  | | ||| ||  ||   | | | | || |   \n",
            "-TGT-TTGGAGAGTT-TGA--T--CC--TG----GCTCAGGA-CGAACGCTGGCG--GCGTGC-T-TA-ACAC\n",
            "  Score=34\n",
            "\n",
            "A-TATT--AG-GTTTTTACCTACCCAG-GAAAAGC-CA--ACC-AAC-CT--CGAT-C-T-CTTGTAGA---\n",
            ". | ||  || ||| |.|  |  ||   |    || ||  | | ||| ||  ||   | | | | || |   \n",
            "TGT-TTGGAGAGTT-TGA--T--CC--TG----GCTCAGGA-CGAACGCTGGCG--GCGTGC-T-TA-ACAC\n",
            "  Score=34\n",
            "\n",
            "-ATATT--AG-GTTTTTACCTACCCAG-GAAAAGC-CA--ACC-AAC-CT--CGAT-C-T-CTTGTAGA---\n",
            " .| ||  || ||| |.|  |  ||   |    || ||  | | ||| ||  ||   | | | | || |   \n",
            "TGT-TTGGAGAGTT-TGA--T--CC--TG----GCTCAGGA-CGAACGCTGGCG--GCGTGC-T-TA-ACAC\n",
            "  Score=34\n",
            "\n",
            "ATA-TT---AG-GTTTTTACCTACCCAG-GAAAAGC-CA--ACC-AAC-CT--CGAT-C-T-CTTGTAGA---\n",
            " |  ||   || |||| .|  |  ||   |    || ||  | | ||| ||  ||   | | | | || |   \n",
            "-T-GTTTGGAGAGTTT-GA--T--CC--TG----GCTCAGGA-CGAACGCTGGCG--GCGTGC-T-TA-ACAC\n",
            "  Score=34\n",
            "\n",
            "ATATT---AG-GTTTTTACCTACCCAG-GAAAAGC-CA--ACC-AAC-CT--CGAT-C-T-CTTGTAGA---\n",
            " |.||   || |||| .|  |  ||   |    || ||  | | ||| ||  ||   | | | | || |   \n",
            "-TGTTTGGAGAGTTT-GA--T--CC--TG----GCTCAGGA-CGAACGCTGGCG--GCGTGC-T-TA-ACAC\n",
            "  Score=34\n",
            "\n",
            "ATA-T-T--AG-GTTTTTACCTACCCAG-GAAAAGC-CA--ACC-AAC-CT--CGAT-C-T-CTTGTAGA---\n",
            " |  | |  || |||| .|  |  ||   |    || ||  | | ||| ||  ||   | | | | || |   \n",
            "-T-GTTTGGAGAGTTT-GA--T--CC--TG----GCTCAGGA-CGAACGCTGGCG--GCGTGC-T-TA-ACAC\n",
            "  Score=34\n",
            "\n",
            "ATAT-T--AG-GTTTTTACCTACCCAG-GAAAAGC-CA--ACC-AAC-CT--CGAT-C-T-CTTGTAGA---\n",
            " |.| |  || |||| .|  |  ||   |    || ||  | | ||| ||  ||   | | | | || |   \n",
            "-TGTTTGGAGAGTTT-GA--T--CC--TG----GCTCAGGA-CGAACGCTGGCG--GCGTGC-T-TA-ACAC\n",
            "  Score=34\n",
            "\n",
            "ATA--TT--AG-GTTTTTACCTACCCAG-GAAAAGC-CA--ACC-AAC-CT--CGAT-C-T-CTTGTAGA---\n",
            " |   ||  || |||| .|  |  ||   |    || ||  | | ||| ||  ||   | | | | || |   \n",
            "-T-GTTTGGAGAGTTT-GA--T--CC--TG----GCTCAGGA-CGAACGCTGGCG--GCGTGC-T-TA-ACAC\n",
            "  Score=34\n",
            "\n",
            "ATA-TT--AG-GTTTTTACCTACCCAG-GAAAAGC-CA--ACC-AAC-CT--CGAT-C-T-CTTGTAGA---\n",
            " |. ||  || |||| .|  |  ||   |    || ||  | | ||| ||  ||   | | | | || |   \n",
            "-TGTTTGGAGAGTTT-GA--T--CC--TG----GCTCAGGA-CGAACGCTGGCG--GCGTGC-T-TA-ACAC\n",
            "  Score=34\n",
            "\n",
            "AT-ATT--AG-GTTTTTACCTACCCAG-GAAAAGC-CA--ACC-AAC-CT--CGAT-C-T-CTTGTAGA---\n",
            " | .||  || |||| .|  |  ||   |    || ||  | | ||| ||  ||   | | | | || |   \n",
            "-TGTTTGGAGAGTTT-GA--T--CC--TG----GCTCAGGA-CGAACGCTGGCG--GCGTGC-T-TA-ACAC\n",
            "  Score=34\n",
            "\n",
            "A--TATT--AG-GTTTTTACCTACCCAG-GAAAAGC-CA--ACC-AAC-CT--CGAT-C-T-CTTGTAGA---\n",
            "   | ||  || |||| .|  |  ||   |    || ||  | | ||| ||  ||   | | | | || |   \n",
            "-TGT-TTGGAGAGTTT-GA--T--CC--TG----GCTCAGGA-CGAACGCTGGCG--GCGTGC-T-TA-ACAC\n",
            "  Score=34\n",
            "\n",
            "A-TATT--AG-GTTTTTACCTACCCAG-GAAAAGC-CA--ACC-AAC-CT--CGAT-C-T-CTTGTAGA---\n",
            ". | ||  || |||| .|  |  ||   |    || ||  | | ||| ||  ||   | | | | || |   \n",
            "TGT-TTGGAGAGTTT-GA--T--CC--TG----GCTCAGGA-CGAACGCTGGCG--GCGTGC-T-TA-ACAC\n",
            "  Score=34\n",
            "\n",
            "-ATATT--AG-GTTTTTACCTACCCAG-GAAAAGC-CA--ACC-AAC-CT--CGAT-C-T-CTTGTAGA---\n",
            " .| ||  || |||| .|  |  ||   |    || ||  | | ||| ||  ||   | | | | || |   \n",
            "TGT-TTGGAGAGTTT-GA--T--CC--TG----GCTCAGGA-CGAACGCTGGCG--GCGTGC-T-TA-ACAC\n",
            "  Score=34\n",
            "\n",
            "ATA-TT---AG-GTTTTTACCTACCCAG-GAAAAGC-CA--ACC-AAC-CT--CGAT-C-T-CTTGTAGA---\n",
            " |  ||   || ||||. |  |  ||   |    || ||  | | ||| ||  ||   | | | | || |   \n",
            "-T-GTTTGGAGAGTTTG-A--T--CC--TG----GCTCAGGA-CGAACGCTGGCG--GCGTGC-T-TA-ACAC\n",
            "  Score=34\n",
            "\n",
            "ATATT---AG-GTTTTTACCTACCCAG-GAAAAGC-CA--ACC-AAC-CT--CGAT-C-T-CTTGTAGA---\n",
            " |.||   || ||||. |  |  ||   |    || ||  | | ||| ||  ||   | | | | || |   \n",
            "-TGTTTGGAGAGTTTG-A--T--CC--TG----GCTCAGGA-CGAACGCTGGCG--GCGTGC-T-TA-ACAC\n",
            "  Score=34\n",
            "\n",
            "ATA-T-T--AG-GTTTTTACCTACCCAG-GAAAAGC-CA--ACC-AAC-CT--CGAT-C-T-CTTGTAGA---\n",
            " |  | |  || ||||. |  |  ||   |    || ||  | | ||| ||  ||   | | | | || |   \n",
            "-T-GTTTGGAGAGTTTG-A--T--CC--TG----GCTCAGGA-CGAACGCTGGCG--GCGTGC-T-TA-ACAC\n",
            "  Score=34\n",
            "\n",
            "ATAT-T--AG-GTTTTTACCTACCCAG-GAAAAGC-CA--ACC-AAC-CT--CGAT-C-T-CTTGTAGA---\n",
            " |.| |  || ||||. |  |  ||   |    || ||  | | ||| ||  ||   | | | | || |   \n",
            "-TGTTTGGAGAGTTTG-A--T--CC--TG----GCTCAGGA-CGAACGCTGGCG--GCGTGC-T-TA-ACAC\n",
            "  Score=34\n",
            "\n",
            "ATA--TT--AG-GTTTTTACCTACCCAG-GAAAAGC-CA--ACC-AAC-CT--CGAT-C-T-CTTGTAGA---\n",
            " |   ||  || ||||. |  |  ||   |    || ||  | | ||| ||  ||   | | | | || |   \n",
            "-T-GTTTGGAGAGTTTG-A--T--CC--TG----GCTCAGGA-CGAACGCTGGCG--GCGTGC-T-TA-ACAC\n",
            "  Score=34\n",
            "\n",
            "ATA-TT--AG-GTTTTTACCTACCCAG-GAAAAGC-CA--ACC-AAC-CT--CGAT-C-T-CTTGTAGA---\n",
            " |. ||  || ||||. |  |  ||   |    || ||  | | ||| ||  ||   | | | | || |   \n",
            "-TGTTTGGAGAGTTTG-A--T--CC--TG----GCTCAGGA-CGAACGCTGGCG--GCGTGC-T-TA-ACAC\n",
            "  Score=34\n",
            "\n",
            "AT-ATT--AG-GTTTTTACCTACCCAG-GAAAAGC-CA--ACC-AAC-CT--CGAT-C-T-CTTGTAGA---\n",
            " | .||  || ||||. |  |  ||   |    || ||  | | ||| ||  ||   | | | | || |   \n",
            "-TGTTTGGAGAGTTTG-A--T--CC--TG----GCTCAGGA-CGAACGCTGGCG--GCGTGC-T-TA-ACAC\n",
            "  Score=34\n",
            "\n",
            "A--TATT--AG-GTTTTTACCTACCCAG-GAAAAGC-CA--ACC-AAC-CT--CGAT-C-T-CTTGTAGA---\n",
            "   | ||  || ||||. |  |  ||   |    || ||  | | ||| ||  ||   | | | | || |   \n",
            "-TGT-TTGGAGAGTTTG-A--T--CC--TG----GCTCAGGA-CGAACGCTGGCG--GCGTGC-T-TA-ACAC\n",
            "  Score=34\n",
            "\n",
            "A-TATT--AG-GTTTTTACCTACCCAG-GAAAAGC-CA--ACC-AAC-CT--CGAT-C-T-CTTGTAGA---\n",
            ". | ||  || ||||. |  |  ||   |    || ||  | | ||| ||  ||   | | | | || |   \n",
            "TGT-TTGGAGAGTTTG-A--T--CC--TG----GCTCAGGA-CGAACGCTGGCG--GCGTGC-T-TA-ACAC\n",
            "  Score=34\n",
            "\n",
            "-ATATT--AG-GTTTTTACCTACCCAG-GAAAAGC-CA--ACC-AAC-CT--CGAT-C-T-CTTGTAGA---\n",
            " .| ||  || ||||. |  |  ||   |    || ||  | | ||| ||  ||   | | | | || |   \n",
            "TGT-TTGGAGAGTTTG-A--T--CC--TG----GCTCAGGA-CGAACGCTGGCG--GCGTGC-T-TA-ACAC\n",
            "  Score=34\n",
            "\n"
          ],
          "name": "stdout"
        }
      ]
    },
    {
      "cell_type": "markdown",
      "metadata": {
        "id": "8etubMvVUvrA"
      },
      "source": [
        "Obtenemos solo la puntuación para una alineación"
      ]
    },
    {
      "cell_type": "code",
      "metadata": {
        "id": "lQw6fFN8Uz3M"
      },
      "source": [
        "alignments2 = pairwise2.align.globalxx(seq1,seq2,one_alignment_only=True,score_only=True)"
      ],
      "execution_count": 83,
      "outputs": []
    },
    {
      "cell_type": "code",
      "metadata": {
        "colab": {
          "base_uri": "https://localhost:8080/"
        },
        "id": "FYqPfcVVU94F",
        "outputId": "a33e6b6d-aba9-4b9f-b461-6a0a1c5a01ec"
      },
      "source": [
        "alignments2"
      ],
      "execution_count": 84,
      "outputs": [
        {
          "output_type": "execute_result",
          "data": {
            "text/plain": [
              "34.0"
            ]
          },
          "metadata": {
            "tags": []
          },
          "execution_count": 84
        }
      ]
    },
    {
      "cell_type": "code",
      "metadata": {
        "colab": {
          "base_uri": "https://localhost:8080/"
        },
        "id": "El9i_8lYVDH1",
        "outputId": "cc5e1ac0-b405-4f63-ac3e-7b0d1d2672aa"
      },
      "source": [
        "alignments2/len(seq1)*100"
      ],
      "execution_count": 85,
      "outputs": [
        {
          "output_type": "execute_result",
          "data": {
            "text/plain": [
              "62.96296296296296"
            ]
          },
          "metadata": {
            "tags": []
          },
          "execution_count": 85
        }
      ]
    },
    {
      "cell_type": "markdown",
      "metadata": {
        "id": "Wzm66AziVhnL"
      },
      "source": [
        "Distancia de Hamming: muestra en cuántos lugares difieren 2 cuerdas La distancia de Hamming entre dos cadenas de igual longitud es el número de posiciones en las que los símbolos correspondientes son diferentes. En otras palabras, mide el número mínimo de sustituciones necesarias para cambiar una cadena por otra, o la cantidad mínima de errores que podrían haber transformado una cadena en otra. Se utiliza para la detección o corrección de errores. Se utiliza para cuantificar la similitud de secuencias de ADN, Para comprobar la distancia de edición La distancia de edición es una forma de cuantificar qué tan diferentes son dos cadenas (por ejemplo, palabras) entre sí contando el número mínimo de operaciones necesarias para transformar una cadena en la otra. por ejemplo, distancia de Levenshtein"
      ]
    },
    {
      "cell_type": "code",
      "metadata": {
        "id": "xqjuozwwVi-S"
      },
      "source": [
        "def hamming_distance(lhs,rhs):\n",
        "    return len([(x,y) for x,y in zip(lhs,rhs) if x != y])"
      ],
      "execution_count": 86,
      "outputs": []
    },
    {
      "cell_type": "code",
      "metadata": {
        "colab": {
          "base_uri": "https://localhost:8080/"
        },
        "id": "UpeEsrU1Vtiq",
        "outputId": "083e5e4c-2248-4920-ecfe-54981f5c4e03"
      },
      "source": [
        "hamming_distance('ATATTAGGTTTTTACCTACCCAGGAAAAGCCAACCAACCTCGATCTCTTGTAGA','TGTTTGGAGAGTTTGATCCTGGCTCAGGACGAACGCTGGCGGCGTGCTTAACAC')"
      ],
      "execution_count": 87,
      "outputs": [
        {
          "output_type": "execute_result",
          "data": {
            "text/plain": [
              "38"
            ]
          },
          "metadata": {
            "tags": []
          },
          "execution_count": 87
        }
      ]
    },
    {
      "cell_type": "code",
      "metadata": {
        "colab": {
          "base_uri": "https://localhost:8080/"
        },
        "id": "zhnwzbvOWgr3",
        "outputId": "7a429ed9-653d-4e41-e64a-500fced042f0"
      },
      "source": [
        "hamming_distance(seq1,seq1[::-1])"
      ],
      "execution_count": 88,
      "outputs": [
        {
          "output_type": "execute_result",
          "data": {
            "text/plain": [
              "32"
            ]
          },
          "metadata": {
            "tags": []
          },
          "execution_count": 88
        }
      ]
    },
    {
      "cell_type": "markdown",
      "metadata": {
        "id": "qusBV2pWWv_3"
      },
      "source": [
        "Gráfica de puntos Un diagrama de puntos es un método gráfico que permite comparar dos secuencias biológicas e identificar regiones de gran similitud entre ellas. El método más simple: coloque un punto donde las secuencias sean idénticas Los gráficos de puntos comparan dos secuencias organizando una secuencia en el eje xy otra en el eje y de un gráfico. Cuando los residuos de ambas secuencias coinciden en la misma ubicación en el gráfico, se dibuja un punto en la posición correspondiente. utilidad Los gráficos de puntos también se pueden utilizar para inspeccionar visualmente secuencias\n",
        "\n",
        "repeticiones directas o invertidas regiones con baja complejidad de secuencia. Regiones similares Secuencias repetidas Reordenamientos de secuencia Estructuras de ARN Orden de genes Enlace: https: //stackoverflow.com/questions/40822400/how-to-create-a-dotplot-of-two-dna-sequence-in-python"
      ]
    },
    {
      "cell_type": "code",
      "metadata": {
        "id": "-QpjWDz0WxIQ"
      },
      "source": [
        "def delta(x,y):\n",
        "    return 0 if x == y else 1\n",
        "\n",
        "\n",
        "def M(seq1,seq2,i,j,k):\n",
        "    return sum(delta(x,y) for x,y in zip(seq1[i:i+k],seq2[j:j+k]))\n",
        "\n",
        "\n",
        "def makeMatrix(seq1,seq2,k):\n",
        "    n = len(seq1)\n",
        "    m = len(seq2)\n",
        "    return [[M(seq1,seq2,i,j,k) for j in range(m-k+1)] for i in range(n-k+1)]\n",
        "\n",
        "\n",
        "def plotMatrix(M,t, seq1, seq2, nonblank = chr(0x25A0), blank = ' '):\n",
        "    print(' |' + seq2)\n",
        "    print('-'*(2 + len(seq2)))\n",
        "    for label,row in zip(seq1,M):\n",
        "        line = ''.join(nonblank if s < t else blank for s in row)\n",
        "        print(label + '|' + line)\n",
        "\n",
        "\n",
        "def dotplot(seq1,seq2,k = 1,t = 1):\n",
        "    M = makeMatrix(seq1,seq2,k)\n",
        "    plotMatrix(M, t, seq1,seq2) #experiment with character choice"
      ],
      "execution_count": 89,
      "outputs": []
    },
    {
      "cell_type": "code",
      "metadata": {
        "colab": {
          "base_uri": "https://localhost:8080/"
        },
        "id": "lRjLB1DeW8R1",
        "outputId": "92672e65-5324-44b7-cf1f-78ac73f846b6"
      },
      "source": [
        "#Hacer un diagrama de puntos secuencia 1 = covid, secuencia 2 = tuberculosis\n",
        "dotplot(seq1,seq2)"
      ],
      "execution_count": 90,
      "outputs": [
        {
          "output_type": "stream",
          "text": [
            " |TGTTTGGAGAGTTTGATCCTGGCTCAGGACGAACGCTGGCGGCGTGCTTAACAC\n",
            "--------------------------------------------------------\n",
            "A|       ■ ■     ■         ■  ■  ■■                ■■ ■ \n",
            "T|■ ■■■      ■■■  ■  ■   ■            ■       ■  ■■     \n",
            "A|       ■ ■     ■         ■  ■  ■■                ■■ ■ \n",
            "T|■ ■■■      ■■■  ■  ■   ■            ■       ■  ■■     \n",
            "T|■ ■■■      ■■■  ■  ■   ■            ■       ■  ■■     \n",
            "A|       ■ ■     ■         ■  ■  ■■                ■■ ■ \n",
            "G| ■   ■■ ■ ■   ■     ■■    ■■  ■   ■  ■■ ■■ ■ ■        \n",
            "G| ■   ■■ ■ ■   ■     ■■    ■■  ■   ■  ■■ ■■ ■ ■        \n",
            "T|■ ■■■      ■■■  ■  ■   ■            ■       ■  ■■     \n",
            "T|■ ■■■      ■■■  ■  ■   ■            ■       ■  ■■     \n",
            "T|■ ■■■      ■■■  ■  ■   ■            ■       ■  ■■     \n",
            "T|■ ■■■      ■■■  ■  ■   ■            ■       ■  ■■     \n",
            "T|■ ■■■      ■■■  ■  ■   ■            ■       ■  ■■     \n",
            "A|       ■ ■     ■         ■  ■  ■■                ■■ ■ \n",
            "C|                 ■■   ■ ■    ■   ■ ■   ■  ■   ■    ■ ■\n",
            "C|                 ■■   ■ ■    ■   ■ ■   ■  ■   ■    ■ ■\n",
            "T|■ ■■■      ■■■  ■  ■   ■            ■       ■  ■■     \n",
            "A|       ■ ■     ■         ■  ■  ■■                ■■ ■ \n",
            "C|                 ■■   ■ ■    ■   ■ ■   ■  ■   ■    ■ ■\n",
            "C|                 ■■   ■ ■    ■   ■ ■   ■  ■   ■    ■ ■\n",
            "C|                 ■■   ■ ■    ■   ■ ■   ■  ■   ■    ■ ■\n",
            "A|       ■ ■     ■         ■  ■  ■■                ■■ ■ \n",
            "G| ■   ■■ ■ ■   ■     ■■    ■■  ■   ■  ■■ ■■ ■ ■        \n",
            "G| ■   ■■ ■ ■   ■     ■■    ■■  ■   ■  ■■ ■■ ■ ■        \n",
            "A|       ■ ■     ■         ■  ■  ■■                ■■ ■ \n",
            "A|       ■ ■     ■         ■  ■  ■■                ■■ ■ \n",
            "A|       ■ ■     ■         ■  ■  ■■                ■■ ■ \n",
            "A|       ■ ■     ■         ■  ■  ■■                ■■ ■ \n",
            "G| ■   ■■ ■ ■   ■     ■■    ■■  ■   ■  ■■ ■■ ■ ■        \n",
            "C|                 ■■   ■ ■    ■   ■ ■   ■  ■   ■    ■ ■\n",
            "C|                 ■■   ■ ■    ■   ■ ■   ■  ■   ■    ■ ■\n",
            "A|       ■ ■     ■         ■  ■  ■■                ■■ ■ \n",
            "A|       ■ ■     ■         ■  ■  ■■                ■■ ■ \n",
            "C|                 ■■   ■ ■    ■   ■ ■   ■  ■   ■    ■ ■\n",
            "C|                 ■■   ■ ■    ■   ■ ■   ■  ■   ■    ■ ■\n",
            "A|       ■ ■     ■         ■  ■  ■■                ■■ ■ \n",
            "A|       ■ ■     ■         ■  ■  ■■                ■■ ■ \n",
            "C|                 ■■   ■ ■    ■   ■ ■   ■  ■   ■    ■ ■\n",
            "C|                 ■■   ■ ■    ■   ■ ■   ■  ■   ■    ■ ■\n",
            "T|■ ■■■      ■■■  ■  ■   ■            ■       ■  ■■     \n",
            "C|                 ■■   ■ ■    ■   ■ ■   ■  ■   ■    ■ ■\n",
            "G| ■   ■■ ■ ■   ■     ■■    ■■  ■   ■  ■■ ■■ ■ ■        \n",
            "A|       ■ ■     ■         ■  ■  ■■                ■■ ■ \n",
            "T|■ ■■■      ■■■  ■  ■   ■            ■       ■  ■■     \n",
            "C|                 ■■   ■ ■    ■   ■ ■   ■  ■   ■    ■ ■\n",
            "T|■ ■■■      ■■■  ■  ■   ■            ■       ■  ■■     \n",
            "C|                 ■■   ■ ■    ■   ■ ■   ■  ■   ■    ■ ■\n",
            "T|■ ■■■      ■■■  ■  ■   ■            ■       ■  ■■     \n",
            "T|■ ■■■      ■■■  ■  ■   ■            ■       ■  ■■     \n",
            "G| ■   ■■ ■ ■   ■     ■■    ■■  ■   ■  ■■ ■■ ■ ■        \n",
            "T|■ ■■■      ■■■  ■  ■   ■            ■       ■  ■■     \n",
            "A|       ■ ■     ■         ■  ■  ■■                ■■ ■ \n",
            "G| ■   ■■ ■ ■   ■     ■■    ■■  ■   ■  ■■ ■■ ■ ■        \n",
            "A|       ■ ■     ■         ■  ■  ■■                ■■ ■ \n"
          ],
          "name": "stdout"
        }
      ]
    },
    {
      "cell_type": "markdown",
      "metadata": {
        "id": "EpZA9aU_XRW2"
      },
      "source": [
        "Las proteínas idénticas obviamente tendrán una línea diagonal en el centro de la matriz."
      ]
    },
    {
      "cell_type": "code",
      "metadata": {
        "colab": {
          "base_uri": "https://localhost:8080/"
        },
        "id": "PyRQVzNQXSYV",
        "outputId": "2d3928cf-62c5-4821-d6bb-452833ab5818"
      },
      "source": [
        "dotplot(Seq('ATATTAGGTTTTTACCTACCCAGGAAAAGCCAACCAACCTCGATCTCTTGTAGA'),Seq('TGTTTGGAGAGTTTGATCCTGGCTCAGGACGAACGCTGGCGGCGTGCTTAACAC'))"
      ],
      "execution_count": 91,
      "outputs": [
        {
          "output_type": "stream",
          "text": [
            " |TGTTTGGAGAGTTTGATCCTGGCTCAGGACGAACGCTGGCGGCGTGCTTAACAC\n",
            "--------------------------------------------------------\n",
            "A|       ■ ■     ■         ■  ■  ■■                ■■ ■ \n",
            "T|■ ■■■      ■■■  ■  ■   ■            ■       ■  ■■     \n",
            "A|       ■ ■     ■         ■  ■  ■■                ■■ ■ \n",
            "T|■ ■■■      ■■■  ■  ■   ■            ■       ■  ■■     \n",
            "T|■ ■■■      ■■■  ■  ■   ■            ■       ■  ■■     \n",
            "A|       ■ ■     ■         ■  ■  ■■                ■■ ■ \n",
            "G| ■   ■■ ■ ■   ■     ■■    ■■  ■   ■  ■■ ■■ ■ ■        \n",
            "G| ■   ■■ ■ ■   ■     ■■    ■■  ■   ■  ■■ ■■ ■ ■        \n",
            "T|■ ■■■      ■■■  ■  ■   ■            ■       ■  ■■     \n",
            "T|■ ■■■      ■■■  ■  ■   ■            ■       ■  ■■     \n",
            "T|■ ■■■      ■■■  ■  ■   ■            ■       ■  ■■     \n",
            "T|■ ■■■      ■■■  ■  ■   ■            ■       ■  ■■     \n",
            "T|■ ■■■      ■■■  ■  ■   ■            ■       ■  ■■     \n",
            "A|       ■ ■     ■         ■  ■  ■■                ■■ ■ \n",
            "C|                 ■■   ■ ■    ■   ■ ■   ■  ■   ■    ■ ■\n",
            "C|                 ■■   ■ ■    ■   ■ ■   ■  ■   ■    ■ ■\n",
            "T|■ ■■■      ■■■  ■  ■   ■            ■       ■  ■■     \n",
            "A|       ■ ■     ■         ■  ■  ■■                ■■ ■ \n",
            "C|                 ■■   ■ ■    ■   ■ ■   ■  ■   ■    ■ ■\n",
            "C|                 ■■   ■ ■    ■   ■ ■   ■  ■   ■    ■ ■\n",
            "C|                 ■■   ■ ■    ■   ■ ■   ■  ■   ■    ■ ■\n",
            "A|       ■ ■     ■         ■  ■  ■■                ■■ ■ \n",
            "G| ■   ■■ ■ ■   ■     ■■    ■■  ■   ■  ■■ ■■ ■ ■        \n",
            "G| ■   ■■ ■ ■   ■     ■■    ■■  ■   ■  ■■ ■■ ■ ■        \n",
            "A|       ■ ■     ■         ■  ■  ■■                ■■ ■ \n",
            "A|       ■ ■     ■         ■  ■  ■■                ■■ ■ \n",
            "A|       ■ ■     ■         ■  ■  ■■                ■■ ■ \n",
            "A|       ■ ■     ■         ■  ■  ■■                ■■ ■ \n",
            "G| ■   ■■ ■ ■   ■     ■■    ■■  ■   ■  ■■ ■■ ■ ■        \n",
            "C|                 ■■   ■ ■    ■   ■ ■   ■  ■   ■    ■ ■\n",
            "C|                 ■■   ■ ■    ■   ■ ■   ■  ■   ■    ■ ■\n",
            "A|       ■ ■     ■         ■  ■  ■■                ■■ ■ \n",
            "A|       ■ ■     ■         ■  ■  ■■                ■■ ■ \n",
            "C|                 ■■   ■ ■    ■   ■ ■   ■  ■   ■    ■ ■\n",
            "C|                 ■■   ■ ■    ■   ■ ■   ■  ■   ■    ■ ■\n",
            "A|       ■ ■     ■         ■  ■  ■■                ■■ ■ \n",
            "A|       ■ ■     ■         ■  ■  ■■                ■■ ■ \n",
            "C|                 ■■   ■ ■    ■   ■ ■   ■  ■   ■    ■ ■\n",
            "C|                 ■■   ■ ■    ■   ■ ■   ■  ■   ■    ■ ■\n",
            "T|■ ■■■      ■■■  ■  ■   ■            ■       ■  ■■     \n",
            "C|                 ■■   ■ ■    ■   ■ ■   ■  ■   ■    ■ ■\n",
            "G| ■   ■■ ■ ■   ■     ■■    ■■  ■   ■  ■■ ■■ ■ ■        \n",
            "A|       ■ ■     ■         ■  ■  ■■                ■■ ■ \n",
            "T|■ ■■■      ■■■  ■  ■   ■            ■       ■  ■■     \n",
            "C|                 ■■   ■ ■    ■   ■ ■   ■  ■   ■    ■ ■\n",
            "T|■ ■■■      ■■■  ■  ■   ■            ■       ■  ■■     \n",
            "C|                 ■■   ■ ■    ■   ■ ■   ■  ■   ■    ■ ■\n",
            "T|■ ■■■      ■■■  ■  ■   ■            ■       ■  ■■     \n",
            "T|■ ■■■      ■■■  ■  ■   ■            ■       ■  ■■     \n",
            "G| ■   ■■ ■ ■   ■     ■■    ■■  ■   ■  ■■ ■■ ■ ■        \n",
            "T|■ ■■■      ■■■  ■  ■   ■            ■       ■  ■■     \n",
            "A|       ■ ■     ■         ■  ■  ■■                ■■ ■ \n",
            "G| ■   ■■ ■ ■   ■     ■■    ■■  ■   ■  ■■ ■■ ■ ■        \n",
            "A|       ■ ■     ■         ■  ■  ■■                ■■ ■ \n"
          ],
          "name": "stdout"
        }
      ]
    },
    {
      "cell_type": "code",
      "metadata": {
        "id": "wnvx1Y2YYaMh"
      },
      "source": [
        "import numpy as np\n",
        "import matplotlib.pyplot as plt\n",
        "# aqui agregare colore pra mejor visualizacion pero las similitudes estan a ala vista"
      ],
      "execution_count": 92,
      "outputs": []
    },
    {
      "cell_type": "code",
      "metadata": {
        "colab": {
          "base_uri": "https://localhost:8080/",
          "height": 267
        },
        "id": "E9suflIbYo7J",
        "outputId": "94cd6844-c3f5-470e-c843-f69e42af0416"
      },
      "source": [
        "plt.imshow(np.array(makeMatrix(seq1,seq2,1)))\n",
        "xt=plt.xticks(np.arange(len(list(seq1))),list(seq1))\n",
        "yt=plt.yticks(np.arange(len(list(seq1))),list(seq1))\n",
        "plt.show()"
      ],
      "execution_count": 93,
      "outputs": [
        {
          "output_type": "display_data",
          "data": {
            "image/png": "[encoded data removed]",
            "text/plain": [
              "<Figure size 432x288 with 1 Axes>"
            ]
          },
          "metadata": {
            "tags": [],
            "needs_background": "light"
          }
        }
      ]
    },
    {
      "cell_type": "code",
      "metadata": {
        "colab": {
          "base_uri": "https://localhost:8080/",
          "height": 267
        },
        "id": "ImqYsCzUYwHv",
        "outputId": "13bb82f3-9ed8-471c-d01d-fc1d9cc1cc26"
      },
      "source": [
        "plt.imshow(np.array(makeMatrix(seq1,seq2,1)))\n",
        "xt=plt.xticks(np.arange(len(list(seq2))),list(seq2))\n",
        "yt=plt.yticks(np.arange(len(list(seq1))),list(seq1))\n",
        "plt.show()"
      ],
      "execution_count": 94,
      "outputs": [
        {
          "output_type": "display_data",
          "data": {
            "image/png": "[encoded data removed]",
            "text/plain": [
              "<Figure size 432x288 with 1 Axes>"
            ]
          },
          "metadata": {
            "tags": [],
            "needs_background": "light"
          }
        }
      ]
    },
    {
      "cell_type": "code",
      "metadata": {
        "id": "UpKRY2JbZEUA"
      },
      "source": [
        "covid_n_tuberculosis = pairwise2.align.globalxx(covid_seq[0:100],tuberculosis_seq[0:100],one_alignment_only=True,score_only=True)"
      ],
      "execution_count": 98,
      "outputs": []
    },
    {
      "cell_type": "code",
      "metadata": {
        "colab": {
          "base_uri": "https://localhost:8080/"
        },
        "id": "DQjEzszDZRBI",
        "outputId": "06ffab9b-6284-4991-a9dd-f3b777d740b0"
      },
      "source": [
        "# porcentaje de similitus entre covid y tuberculosis es de un 63.0 % \n",
        "covid_n_tuberculosis/len(covid_seq[0:100]) * 100"
      ],
      "execution_count": 99,
      "outputs": [
        {
          "output_type": "execute_result",
          "data": {
            "text/plain": [
              "63.0"
            ]
          },
          "metadata": {
            "tags": []
          },
          "execution_count": 99
        }
      ]
    },
    {
      "cell_type": "markdown",
      "metadata": {
        "id": "ZwIISHkia-gN"
      },
      "source": [
        "CONCLUSION:\n",
        "\n",
        "La teoria Alemana sobre la similitud del virus covid a una bacteria. esta comprobado en un 63 % en este caso con la bacteria de la tuberculosis.la base de datos de secuencia ha sido extraida del National Center for Biotechnology Information (NCBI) WWW.NCBI.CL\n",
        "Search database SE ADJUNTARA INFORMACION ADICIONAL.ESTE TRABAJO ES DE PROPIEDAD DE : JUAN ALEJANDRO CUEVAS VASQUEZ.CREADA SOBRE LA NUBE DE GOOGLE. LENGUAJE PYTHON....SALUDOS."
      ]
    },
    {
      "cell_type": "markdown",
      "metadata": {
        "id": "tpbyemLncZpp"
      },
      "source": [
        "INFORMACION ADICIONAL SOBRE LA BACTERIA\n",
        "\n",
        "\n",
        "LOCUS       NR_102810               1532 bp    rRNA    linear   BCT 12-MAR-2019\n",
        "DEFINITION  Mycobacterium tuberculosis H37Rv 16S ribosomal RNA, complete\n",
        "            sequence.\n",
        "ACCESSION   NR_102810\n",
        "VERSION     NR_102810.2\n",
        "DBLINK      Project: 33175\n",
        "            BioProject: PRJNA33175\n",
        "KEYWORDS    RefSeq.\n",
        "SOURCE      Mycobacterium tuberculosis H37Rv\n",
        "  ORGANISM  Mycobacterium tuberculosis H37Rv\n",
        "            Bacteria; Actinobacteria; Corynebacteriales; Mycobacteriaceae;\n",
        "            Mycobacterium; Mycobacterium tuberculosis complex.\n",
        "REFERENCE   1\n",
        "  AUTHORS   Lew,J.M., Kapopoulou,A., Jones,L.M. and Cole,S.T.\n",
        "  TITLE     TubercuList--10 years after\n",
        "  JOURNAL   Tuberculosis (Edinb) 91 (1), 1-7 (2011)\n",
        "   PUBMED   20980199\n",
        "REFERENCE   2\n",
        "  AUTHORS   Camus,J.C., Pryor,M.J., Medigue,C. and Cole,S.T.\n",
        "  TITLE     Re-annotation of the genome sequence of Mycobacterium tuberculosis\n",
        "            H37Rv\n",
        "  JOURNAL   Microbiology (Reading, Engl.) 148 (PT 10), 2967-2973 (2002)\n",
        "   PUBMED   12368430\n",
        "REFERENCE   3\n",
        "  AUTHORS   Cole,S.T., Brosch,R., Parkhill,J., Garnier,T., Churcher,C.,\n",
        "            Harris,D., Gordon,S.V., Eiglmeier,K., Gas,S., Barry,C.E. III,\n",
        "            Tekaia,F., Badcock,K., Basham,D., Brown,D., Chillingworth,T.,\n",
        "            Connor,R., Davies,R., Devlin,K., Feltwell,T., Gentles,S.,\n",
        "            Hamlin,N., Holroyd,S., Hornsby,T., Jagels,K., Krogh,A., McLean,J.,\n",
        "            Moule,S., Murphy,L., Oliver,K., Osborne,J., Quail,M.A.,\n",
        "            Rajandream,M.A., Rogers,J., Rutter,S., Seeger,K., Skelton,J.,\n",
        "            Squares,R., Squares,S., Sulston,J.E., Taylor,K., Whitehead,S. and\n",
        "            Barrell,B.G.\n",
        "  TITLE     Deciphering the biology of Mycobacterium tuberculosis from the\n",
        "            complete genome sequence\n",
        "  JOURNAL   Nature 393 (6685), 537-544 (1998)\n",
        "   PUBMED   9634230\n",
        "  REMARK    Erratum:[Nature 1998 Nov 12;396(6707):190]\n",
        "REFERENCE   4  (bases 1 to 1532)\n",
        "  CONSRTM   NCBI RefSeq Targeted Loci Project\n",
        "  TITLE     Direct Submission\n",
        "  JOURNAL   Submitted (09-MAY-2013) National Center for Biotechnology\n",
        "            Information, NIH, Bethesda, MD 20894, USA\n",
        "REFERENCE   5  (bases 1 to 1532)\n",
        "  AUTHORS   Lew,J.M.\n",
        "  TITLE     Direct Submission\n",
        "  JOURNAL   Submitted (18-DEC-2012) Lew J., Ecole Polytechnique Federale de\n",
        "            Lausanne, CH-1015, Lausanne, Switzerland, and the Swiss Institute\n",
        "            of Bioinformatics, CMU - Rue Michel-Servet 1, 1211 Geneva 4,\n",
        "            SWITZERLAND\n",
        "REFERENCE   6  (bases 1 to 1532)\n",
        "  AUTHORS   Parkhill,J.\n",
        "  TITLE     Direct Submission\n",
        "  JOURNAL   Submitted (11-JUN-1998) Submitted on behalf of the Mycobacterium\n",
        "            tuberculosis sequencing and mapping teams, Sanger Centre, Wellcome\n",
        "            Trust Genome Campus, Hinxton, Cambridge CB10 1SA Unite de Genetique\n",
        "            Moleculaire Bacterienne, Institut Pasteur, 28 rue du Docteur Roux,\n",
        "            75724 Paris Cedex 15, France E-mail: parkhill@sanger.ac.uk\n",
        "COMMENT     REVIEWED REFSEQ: This record has been curated by NCBI staff. The\n",
        "            reference sequence was derived from AL123456.\n",
        "            On Oct 25, 2017 this sequence version replaced NR_102810.1.\n",
        "FEATURES             Location/Qualifiers\n",
        "     source          1..1532\n",
        "                     /organism=\"Mycobacterium tuberculosis H37Rv\"\n",
        "                     /mol_type=\"rRNA\"\n",
        "                     /strain=\"H37Rv\"\n",
        "                     /culture_collection=\"ATCC:27294\"\n",
        "                     /type_material=\"type strain of Mycobacterium tuberculosis\"\n",
        "                     /db_xref=\"taxon:83332\"\n",
        "     rRNA            1..1532\n",
        "                     /product=\"16S ribosomal RNA\"\n",
        "ORIGIN      \n",
        "        1 tgtttggaga gtttgatcct ggctcaggac gaacgctggc ggcgtgctta acacatgcaa\n",
        "       61 gtcgaacgga aaggtctctt cggagatact cgagtggcga acgggtgagt aacacgtggg\n",
        "      121 tgatctgccc tgcacttcgg gataagcctg ggaaactggg tctaataccg gataggacca\n",
        "      181 cgggatgcat gtcttgtggt ggaaagcgct ttagcggtgt gggatgagcc cgcggcctat\n",
        "      241 cagcttgttg gtggggtgac ggcctaccaa ggcgacgacg ggtagccggc ctgagagggt\n",
        "      301 gtccggccac actgggactg agatacggcc cagactccta cgggaggcag cagtggggaa\n",
        "      361 tattgcacaa tgggcgcaag cctgatgcag cgacgccgcg tgggggatga cggccttcgg\n",
        "      421 gttgtaaacc tctttcacca tcgacgaagg tccgggttct ctcggattga cggtaggtgg\n",
        "      481 agaagaagca ccggccaact acgtgccagc agccgcggta atacgtaggg tgcgagcgtt\n",
        "      541 gtccggaatt actgggcgta aagagctcgt aggtggtttg tcgcgttgtt cgtgaaatct\n",
        "      601 cacggcttaa ctgtgagcgt gcgggcgata cgggcagact agagtactgc aggggagact\n",
        "      661 ggaattcctg gtgtagcggt ggaatgcgca gatatcagga ggaacaccgg tggcgaaggc\n",
        "      721 gggtctctgg gcagtaactg acgctgagga gcgaaagcgt ggggagcgaa caggattaga\n",
        "      781 taccctggta gtccacgccg taaacggtgg gtactaggtg tgggtttcct tccttgggat\n",
        "      841 ccgtgccgta gctaacgcat taagtacccc gcctggggag tacggccgca aggctaaaac\n",
        "      901 tcaaaggaat tgacgggggc ccgcacaagc ggcggagcat gtggattaat tcgatgcaac\n",
        "      961 gcgaagaacc ttacctgggt ttgacatgca caggacgcgt ctagagatag gcgttccctt\n",
        "     1021 gtggcctgtg tgcaggtggt gcatggctgt cgtcagctcg tgtcgtgaga tgttgggtta\n",
        "     1081 agtcccgcaa cgagcgcaac ccttgtctca tgttgccagc acgtaatggt ggggactcgt\n",
        "     1141 gagagactgc cggggtcaac tcggaggaag gtggggatga cgtcaagtca tcatgcccct\n",
        "     1201 tatgtccagg gcttcacaca tgctacaatg gccggtacaa agggctgcga tgccgcgagg\n",
        "     1261 ttaagcgaat ccttaaaagc cggtctcagt tcggatcggg gtctgcaact cgaccccgtg\n",
        "     1321 aagtcggagt cgctagtaat cgcagatcag caacgctgcg gtgaatacgt tcccgggcct\n",
        "     1381 tgtacacacc gcccgtcacg tcatgaaagt cggtaacacc cgaagccagt ggcctaaccc\n",
        "     1441 tcgggaggga gctgtcgaag gtgggatcgg cgattgggac gaagtcgtaa caaggtagcc\n",
        "     1501 gtaccggaag gtgcggctgg atcacctcct tt\n",
        "//"
      ]
    }
  ]
}