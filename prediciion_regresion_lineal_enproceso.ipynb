{
  "nbformat": 4,
  "nbformat_minor": 0,
  "metadata": {
    "colab": {
      "name": "prediciion_regresion_lineal_enproceso.ipynb",
      "provenance": [],
      "authorship_tag": "ABX9TyO+dOi9F511rFQLThyhfyBM",
      "include_colab_link": true
    },
    "kernelspec": {
      "name": "python3",
      "display_name": "Python 3"
    },
    "language_info": {
      "name": "python"
    }
  },
  "cells": [
    {
      "cell_type": "markdown",
      "metadata": {
        "id": "view-in-github",
        "colab_type": "text"
      },
      "source": [
        "<a href=\"https://colab.research.google.com/github/juancuevas-ops/analisis-molecular-covid19/blob/main/prediciion_regresion_lineal_enproceso.ipynb\" target=\"_parent\"><img src=\"https://colab.research.google.com/assets/colab-badge.svg\" alt=\"Open In Colab\"/></a>"
      ]
    },
    {
      "cell_type": "code",
      "metadata": {
        "id": "nCaKEkBin7nm"
      },
      "source": [
        "import numpy as np\n",
        "import pandas as pd\n",
        "import seaborn as sb\n",
        "import matplotlib.pyplot as plt\n",
        "%matplotlib inline\n",
        "from mpl_toolkits.mplot3d import Axes3D\n",
        "from matplotlib import cm\n",
        "plt.rcParams['figure.figsize'] = (16, 9)\n",
        "plt.style.use('ggplot')\n",
        "from sklearn import linear_model\n",
        "from sklearn.metrics import mean_squared_error, r2_score\n",
        "\n",
        "df =pd.read_csv(\"/content/articulos_ml.csv\")"
      ],
      "execution_count": 9,
      "outputs": []
    },
    {
      "cell_type": "code",
      "metadata": {
        "colab": {
          "base_uri": "https://localhost:8080/",
          "height": 657
        },
        "id": "9WAMQTrWpL0f",
        "outputId": "56b644cb-d753-42ff-c3e0-5908db6a96c8"
      },
      "source": [
        "df"
      ],
      "execution_count": 11,
      "outputs": [
        {
          "output_type": "execute_result",
          "data": {
            "text/html": [
              "<div>\n",
              "<style scoped>\n",
              "    .dataframe tbody tr th:only-of-type {\n",
              "        vertical-align: middle;\n",
              "    }\n",
              "\n",
              "    .dataframe tbody tr th {\n",
              "        vertical-align: top;\n",
              "    }\n",
              "\n",
              "    .dataframe thead th {\n",
              "        text-align: right;\n",
              "    }\n",
              "</style>\n",
              "<table border=\"1\" class=\"dataframe\">\n",
              "  <thead>\n",
              "    <tr style=\"text-align: right;\">\n",
              "      <th></th>\n",
              "      <th>Title</th>\n",
              "      <th>url</th>\n",
              "      <th>Word count</th>\n",
              "      <th># of Links</th>\n",
              "      <th># of comments</th>\n",
              "      <th># Images video</th>\n",
              "      <th>Elapsed days</th>\n",
              "      <th># Shares</th>\n",
              "    </tr>\n",
              "  </thead>\n",
              "  <tbody>\n",
              "    <tr>\n",
              "      <th>0</th>\n",
              "      <td>What is Machine Learning and how do we use it ...</td>\n",
              "      <td>https://blog.signals.network/what-is-machine-l...</td>\n",
              "      <td>1888</td>\n",
              "      <td>1</td>\n",
              "      <td>2.0</td>\n",
              "      <td>2</td>\n",
              "      <td>34</td>\n",
              "      <td>200000</td>\n",
              "    </tr>\n",
              "    <tr>\n",
              "      <th>1</th>\n",
              "      <td>10 Companies Using Machine Learning in Cool Ways</td>\n",
              "      <td>NaN</td>\n",
              "      <td>1742</td>\n",
              "      <td>9</td>\n",
              "      <td>NaN</td>\n",
              "      <td>9</td>\n",
              "      <td>5</td>\n",
              "      <td>25000</td>\n",
              "    </tr>\n",
              "    <tr>\n",
              "      <th>2</th>\n",
              "      <td>How Artificial Intelligence Is Revolutionizing...</td>\n",
              "      <td>NaN</td>\n",
              "      <td>962</td>\n",
              "      <td>6</td>\n",
              "      <td>0.0</td>\n",
              "      <td>1</td>\n",
              "      <td>10</td>\n",
              "      <td>42000</td>\n",
              "    </tr>\n",
              "    <tr>\n",
              "      <th>3</th>\n",
              "      <td>Dbrain and the Blockchain of Artificial Intell...</td>\n",
              "      <td>NaN</td>\n",
              "      <td>1221</td>\n",
              "      <td>3</td>\n",
              "      <td>NaN</td>\n",
              "      <td>2</td>\n",
              "      <td>68</td>\n",
              "      <td>200000</td>\n",
              "    </tr>\n",
              "    <tr>\n",
              "      <th>4</th>\n",
              "      <td>Nasa finds entire solar system filled with eig...</td>\n",
              "      <td>NaN</td>\n",
              "      <td>2039</td>\n",
              "      <td>1</td>\n",
              "      <td>104.0</td>\n",
              "      <td>4</td>\n",
              "      <td>131</td>\n",
              "      <td>200000</td>\n",
              "    </tr>\n",
              "    <tr>\n",
              "      <th>...</th>\n",
              "      <td>...</td>\n",
              "      <td>...</td>\n",
              "      <td>...</td>\n",
              "      <td>...</td>\n",
              "      <td>...</td>\n",
              "      <td>...</td>\n",
              "      <td>...</td>\n",
              "      <td>...</td>\n",
              "    </tr>\n",
              "    <tr>\n",
              "      <th>156</th>\n",
              "      <td>[Log] 83: How Google Uses Machine Learning And...</td>\n",
              "      <td>[Log] 83: http://feedproxy.google.com/~r/Techc...</td>\n",
              "      <td>3239</td>\n",
              "      <td>3</td>\n",
              "      <td>11.0</td>\n",
              "      <td>1</td>\n",
              "      <td>84</td>\n",
              "      <td>3239</td>\n",
              "    </tr>\n",
              "    <tr>\n",
              "      <th>157</th>\n",
              "      <td>[Log] 84: Zuck Knows If You've Been Bad Or Goo...</td>\n",
              "      <td>[Log] 84: http://feedproxy.google.com/~r/Techc...</td>\n",
              "      <td>2566</td>\n",
              "      <td>3</td>\n",
              "      <td>8.0</td>\n",
              "      <td>4</td>\n",
              "      <td>85</td>\n",
              "      <td>25019</td>\n",
              "    </tr>\n",
              "    <tr>\n",
              "      <th>158</th>\n",
              "      <td>[Log] 85: Microsoft Improves Windows Phone Voi...</td>\n",
              "      <td>[Log] 85: http://feedproxy.google.com/~r/Techc...</td>\n",
              "      <td>2089</td>\n",
              "      <td>4</td>\n",
              "      <td>4.0</td>\n",
              "      <td>1</td>\n",
              "      <td>86</td>\n",
              "      <td>49614</td>\n",
              "    </tr>\n",
              "    <tr>\n",
              "      <th>159</th>\n",
              "      <td>[Log] 86: How Google's Acquisition Of DNNresea...</td>\n",
              "      <td>[Log] 86: http://feedproxy.google.com/~r/Techc...</td>\n",
              "      <td>1530</td>\n",
              "      <td>4</td>\n",
              "      <td>12.0</td>\n",
              "      <td>3</td>\n",
              "      <td>87</td>\n",
              "      <td>33660</td>\n",
              "    </tr>\n",
              "    <tr>\n",
              "      <th>160</th>\n",
              "      <td>[Log] 87: Google's Cloud Is Eating Apple's Lunch</td>\n",
              "      <td>[Log] 87: http://feedproxy.google.com/~r/Techc...</td>\n",
              "      <td>953</td>\n",
              "      <td>6</td>\n",
              "      <td>13.0</td>\n",
              "      <td>2</td>\n",
              "      <td>88</td>\n",
              "      <td>5956</td>\n",
              "    </tr>\n",
              "  </tbody>\n",
              "</table>\n",
              "<p>161 rows × 8 columns</p>\n",
              "</div>"
            ],
            "text/plain": [
              "                                                 Title  ... # Shares\n",
              "0    What is Machine Learning and how do we use it ...  ...   200000\n",
              "1     10 Companies Using Machine Learning in Cool Ways  ...    25000\n",
              "2    How Artificial Intelligence Is Revolutionizing...  ...    42000\n",
              "3    Dbrain and the Blockchain of Artificial Intell...  ...   200000\n",
              "4    Nasa finds entire solar system filled with eig...  ...   200000\n",
              "..                                                 ...  ...      ...\n",
              "156  [Log] 83: How Google Uses Machine Learning And...  ...     3239\n",
              "157  [Log] 84: Zuck Knows If You've Been Bad Or Goo...  ...    25019\n",
              "158  [Log] 85: Microsoft Improves Windows Phone Voi...  ...    49614\n",
              "159  [Log] 86: How Google's Acquisition Of DNNresea...  ...    33660\n",
              "160   [Log] 87: Google's Cloud Is Eating Apple's Lunch  ...     5956\n",
              "\n",
              "[161 rows x 8 columns]"
            ]
          },
          "metadata": {
            "tags": []
          },
          "execution_count": 11
        }
      ]
    },
    {
      "cell_type": "code",
      "metadata": {
        "colab": {
          "base_uri": "https://localhost:8080/"
        },
        "id": "wRdFCpeHpHpQ",
        "outputId": "f5c3fb4c-26fa-4614-9931-9383e33613f8"
      },
      "source": [
        "dataX =df[[\"Word count\"]]\n",
        "X_train = np.array(dataX)\n",
        "y_train = df['# Shares'].values\n",
        " \n",
        "# Creamos el objeto de Regresión Linear\n",
        "regr = linear_model.LinearRegression()\n",
        " \n",
        "# Entrenamos nuestro modelo\n",
        "regr.fit(X_train, y_train)\n",
        " \n",
        "# Hacemos las predicciones que en definitiva una línea (en este caso, al ser 2D)\n",
        "y_pred = regr.predict(X_train)\n",
        " \n",
        "# Veamos los coeficienetes obtenidos, En nuestro caso, serán la Tangente\n",
        "print('Coefficients: \\n', regr.coef_)\n",
        "# Este es el valor donde corta el eje Y (en X=0)\n",
        "print('Independent term: \\n', regr.intercept_)\n",
        "# Error Cuadrado Medio\n",
        "print(\"Mean squared error: %.2f\" % mean_squared_error(y_train, y_pred))\n",
        "# Puntaje de Varianza. El mejor puntaje es un 1.0\n",
        "print('Variance score: %.2f' % r2_score(y_train, y_pred))"
      ],
      "execution_count": 14,
      "outputs": [
        {
          "output_type": "stream",
          "text": [
            "Coefficients: \n",
            " [5.38782563]\n",
            "Independent term: \n",
            " 18205.753574904906\n",
            "Mean squared error: 1834933925.55\n",
            "Variance score: 0.02\n"
          ],
          "name": "stdout"
        }
      ]
    },
    {
      "cell_type": "code",
      "metadata": {
        "colab": {
          "base_uri": "https://localhost:8080/"
        },
        "id": "LRGjaD9on-Yj",
        "outputId": "09e9aef0-fd8a-4216-881e-75bb6217423b"
      },
      "source": [
        "\n",
        "\n",
        "y_Dosmil = regr.predict([[2000]])\n",
        "print(int(y_Dosmil))"
      ],
      "execution_count": 15,
      "outputs": [
        {
          "output_type": "stream",
          "text": [
            "28981\n"
          ],
          "name": "stdout"
        }
      ]
    },
    {
      "cell_type": "code",
      "metadata": {
        "colab": {
          "base_uri": "https://localhost:8080/"
        },
        "id": "9Kcjjy9Pp1l-",
        "outputId": "cc29d274-948d-4882-b0ce-adaf06b369c2"
      },
      "source": [
        "dataX =df[[\"Word count\"]]\n",
        "X_train = np.array(dataX)\n",
        "y_train = df['# Shares'].values\n",
        " \n",
        "# Creamos el objeto de Regresión Linear\n",
        "regr = linear_model.LinearRegression()\n",
        " \n",
        "# Entrenamos nuestro modelo\n",
        "regr.fit(X_train, y_train)\n",
        " \n",
        "# Hacemos las predicciones que en definitiva una línea (en este caso, al ser 2D)\n",
        "y_pred = regr.predict(X_train)\n",
        " \n",
        "# Veamos los coeficienetes obtenidos, En nuestro caso, serán la Tangente\n",
        "print('Coefficients: \\n', regr.coef_)\n",
        "# Este es el valor donde corta el eje Y (en X=0)\n",
        "print('Independent term: \\n', regr.intercept_)\n",
        "# Error Cuadrado Medio\n",
        "print(\"Mean squared error: %.2f\" % mean_squared_error(y_train, y_pred))\n",
        "# Puntaje de Varianza. El mejor puntaje es un 1.0\n",
        "print('Variance score: %.2f' % r2_score(y_train, y_pred))"
      ],
      "execution_count": 17,
      "outputs": [
        {
          "output_type": "stream",
          "text": [
            "Coefficients: \n",
            " [5.38782563]\n",
            "Independent term: \n",
            " 18205.753574904906\n",
            "Mean squared error: 1834933925.55\n",
            "Variance score: 0.02\n"
          ],
          "name": "stdout"
        }
      ]
    },
    {
      "cell_type": "code",
      "metadata": {
        "colab": {
          "base_uri": "https://localhost:8080/",
          "height": 274
        },
        "id": "zcbgxarIrw8K",
        "outputId": "44ab9649-2d39-4f3c-d64a-77faaf80260e"
      },
      "source": [
        "from sklearn.datasets import make_blobs\n",
        "X, y = make_blobs(\n",
        "        n_samples    = 1100, \n",
        "        n_features   = 2, \n",
        "        centers      = 2, \n",
        "        cluster_std  = 0.60, \n",
        "        shuffle      = True, \n",
        "        random_state = 1\n",
        "       )\n",
        "\n",
        "fig, ax = plt.subplots(1, 1, figsize=(6, 3.84))\n",
        "ax.scatter(\n",
        "    x = X[:, 0],\n",
        "    y = X[:, 1], \n",
        "    c = 'red',\n",
        "    marker    = 'o',\n",
        "    edgecolor = 'green', \n",
        ")\n",
        "ax.set_title('Datos simulados');"
      ],
      "execution_count": 28,
      "outputs": [
        {
          "output_type": "display_data",
          "data": {
            "image/png": "[encoded data removed]",
            "text/plain": [
              "<Figure size 432x276.48 with 1 Axes>"
            ]
          },
          "metadata": {
            "tags": []
          }
        }
      ]
    }
  ]
}