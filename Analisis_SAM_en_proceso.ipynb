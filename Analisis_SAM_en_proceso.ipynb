{
  "nbformat": 4,
  "nbformat_minor": 0,
  "metadata": {
    "colab": {
      "provenance": [],
      "authorship_tag": "ABX9TyO1Wy0k7lxLtOdk9jV1T1pz",
      "include_colab_link": true
    },
    "kernelspec": {
      "name": "python3",
      "display_name": "Python 3"
    },
    "language_info": {
      "name": "python"
    }
  },
  "cells": [
    {
      "cell_type": "markdown",
      "metadata": {
        "id": "view-in-github",
        "colab_type": "text"
      },
      "source": [
        "<a href=\"https://colab.research.google.com/github/juancuevas-ops/analisis-molecular-covid19/blob/main/Analisis_SAM_en_proceso.ipynb\" target=\"_parent\"><img src=\"https://colab.research.google.com/assets/colab-badge.svg\" alt=\"Open In Colab\"/></a>"
      ]
    },
    {
      "cell_type": "code",
      "source": [
        "!pip install Bio"
      ],
      "metadata": {
        "colab": {
          "base_uri": "https://localhost:8080/"
        },
        "id": "ACAEw5mf0ddp",
        "outputId": "4aee014c-a346-49b1-af05-0e2e05c8a3f9"
      },
      "execution_count": 24,
      "outputs": [
        {
          "output_type": "stream",
          "name": "stdout",
          "text": [
            "Requirement already satisfied: Bio in /usr/local/lib/python3.10/dist-packages (1.7.1)\n",
            "Requirement already satisfied: biopython>=1.80 in /usr/local/lib/python3.10/dist-packages (from Bio) (1.83)\n",
            "Requirement already satisfied: gprofiler-official in /usr/local/lib/python3.10/dist-packages (from Bio) (1.0.0)\n",
            "Requirement already satisfied: mygene in /usr/local/lib/python3.10/dist-packages (from Bio) (3.2.2)\n",
            "Requirement already satisfied: pandas in /usr/local/lib/python3.10/dist-packages (from Bio) (2.0.3)\n",
            "Requirement already satisfied: pooch in /usr/local/lib/python3.10/dist-packages (from Bio) (1.8.1)\n",
            "Requirement already satisfied: requests in /usr/local/lib/python3.10/dist-packages (from Bio) (2.31.0)\n",
            "Requirement already satisfied: tqdm in /usr/local/lib/python3.10/dist-packages (from Bio) (4.66.4)\n",
            "Requirement already satisfied: numpy in /usr/local/lib/python3.10/dist-packages (from biopython>=1.80->Bio) (1.25.2)\n",
            "Requirement already satisfied: biothings-client>=0.2.6 in /usr/local/lib/python3.10/dist-packages (from mygene->Bio) (0.3.1)\n",
            "Requirement already satisfied: python-dateutil>=2.8.2 in /usr/local/lib/python3.10/dist-packages (from pandas->Bio) (2.8.2)\n",
            "Requirement already satisfied: pytz>=2020.1 in /usr/local/lib/python3.10/dist-packages (from pandas->Bio) (2023.4)\n",
            "Requirement already satisfied: tzdata>=2022.1 in /usr/local/lib/python3.10/dist-packages (from pandas->Bio) (2024.1)\n",
            "Requirement already satisfied: platformdirs>=2.5.0 in /usr/local/lib/python3.10/dist-packages (from pooch->Bio) (4.2.2)\n",
            "Requirement already satisfied: packaging>=20.0 in /usr/local/lib/python3.10/dist-packages (from pooch->Bio) (24.0)\n",
            "Requirement already satisfied: charset-normalizer<4,>=2 in /usr/local/lib/python3.10/dist-packages (from requests->Bio) (3.3.2)\n",
            "Requirement already satisfied: idna<4,>=2.5 in /usr/local/lib/python3.10/dist-packages (from requests->Bio) (3.7)\n",
            "Requirement already satisfied: urllib3<3,>=1.21.1 in /usr/local/lib/python3.10/dist-packages (from requests->Bio) (2.0.7)\n",
            "Requirement already satisfied: certifi>=2017.4.17 in /usr/local/lib/python3.10/dist-packages (from requests->Bio) (2024.6.2)\n",
            "Requirement already satisfied: six>=1.5 in /usr/local/lib/python3.10/dist-packages (from python-dateutil>=2.8.2->pandas->Bio) (1.16.0)\n"
          ]
        }
      ]
    },
    {
      "cell_type": "markdown",
      "source": [
        "BWA (Burrows-Wheeler Aligner): una herramienta rápida y precisa para la alineación de secuencias\n",
        "¿Qué es BWA?\n",
        "\n",
        "BWA (Burrows-Wheeler Aligner) es un algoritmo popular y eficiente que se utiliza para alinear lecturas de secuencias cortas (como las generadas por la secuenciación de próxima generación) con un genoma de referencia. Es conocida por su velocidad y precisión en la alineación de lecturas cortas, lo que la convierte en una herramienta ampliamente utilizada en los flujos de trabajo bioinformáticos.\n",
        "\n",
        "¿Cómo funciona BWA?\n",
        "\n",
        "BWA emplea un enfoque de dos pasos para la alineación de lectura:\n",
        "\n",
        "Indexación: BWA primero construye un índice del genoma de referencia utilizando la transformada de Burrows-Wheeler (BWT) y sus derivados. Este índice sirve como una representación comprimida de la referencia, lo que permite búsquedas más rápidas de posibles ubicaciones de alineación.\n",
        "\n",
        "Alineación: Una vez que se crea el índice, BWA busca las lecturas en la referencia utilizando los datos indexados. Emplea varias estrategias, como el retroceso y la siembra, para encontrar de manera eficiente las mejores alineaciones posibles.\n",
        "\n",
        "Ventajas de BWA:\n",
        "\n",
        "Velocidad: BWA es conocido por su alta velocidad, lo que lo hace adecuado para analizar grandes conjuntos de datos NGS donde los tiempos de alineación más rápidos son cruciales.\n",
        "Precisión: BWA mantiene un buen equilibrio entre velocidad y precisión, produciendo alineaciones confiables para lecturas cortas.\n",
        "Flexibilidad: BWA ofrece diferentes modos de alineación (por ejemplo, BWA-MEM para alineaciones separadas, BWA-ALN para alineaciones locales) para satisfacer diversas necesidades de análisis.\n",
        "Tiempo empleado en la producción:\n",
        "\n",
        "El tiempo exacto que tarda BWA en alinearse en la producción puede variar significativamente en función de varios factores:\n",
        "\n",
        "Tamaño del genoma: Los genomas más grandes naturalmente requieren más tiempo para ser indexados y buscados.\n",
        "Longitud y número de lectura: Las lecturas más largas y el mayor número de lecturas tardarán más en alinearse.\n",
        "Recursos de hardware: La potencia informática disponible (núcleos de CPU, memoria) afecta a la velocidad de los pasos de indexación y alineación de BWA.\n",
        "Modo de alineación: Los diferentes modos BWA (por ejemplo, BWA-MEM para alineaciones separadas) tienen diferentes tiempos de procesamiento.\n",
        "Si bien las estimaciones de tiempo específicas son difíciles sin conocer el tamaño y el hardware de los datos, BWA generalmente se considera una herramienta de alineación rápida. En el caso de los conjuntos de datos típicos de lectura corta y el hardware moderno, los tiempos de alineación pueden ser del orden de minutos a horas.\n",
        "\n",
        "Aquí hay una guía aproximada:\n",
        "\n",
        "Genomas pequeños (p. ej., bacterias): minutos\n",
        "Genomas medianos (p. ej., mamíferos): de decenas de minutos a horas (dependiendo del recuento de lecturas)\n",
        "Genomas grandes (p. ej., genomas de plantas): horas o más\n",
        "Notas adicionales:\n",
        "\n",
        "BWA es una herramienta de código abierto, Disponible gratuitamente para su uso y modificación.\n",
        "Varias herramientas y canalizaciones integran BWA para la alineación de lectura dentro de sus flujos de trabajo.\n",
        "Al aprovechar la velocidad y la precisión de BWA, los investigadores en bioinformática pueden analizar de manera eficiente grandes volúmenes de datos de secuenciación y obtener información valiosa sobre la variación y la función genómicas.\n",
        "\n",
        "\n",
        "\n",
        "\n",
        "tune\n",
        "\n",
        "share\n",
        "\n",
        "\n",
        "more_vert\n"
      ],
      "metadata": {
        "id": "CPXM9oHRwEVU"
      }
    },
    {
      "cell_type": "code",
      "source": [
        "!pip install bwa"
      ],
      "metadata": {
        "colab": {
          "base_uri": "https://localhost:8080/"
        },
        "id": "wrI64WCw0vXw",
        "outputId": "a7401cd1-a491-4294-e781-62c12e71fd5d"
      },
      "execution_count": 25,
      "outputs": [
        {
          "output_type": "stream",
          "name": "stdout",
          "text": [
            "Requirement already satisfied: bwa in /usr/local/lib/python3.10/dist-packages (1.1.1)\n",
            "Requirement already satisfied: python-telegram-bot in /usr/local/lib/python3.10/dist-packages (from bwa) (21.3)\n",
            "Requirement already satisfied: requests in /usr/local/lib/python3.10/dist-packages (from bwa) (2.31.0)\n",
            "Requirement already satisfied: yagmail>=0.11.214 in /usr/local/lib/python3.10/dist-packages (from bwa) (0.15.293)\n",
            "Requirement already satisfied: premailer in /usr/local/lib/python3.10/dist-packages (from yagmail>=0.11.214->bwa) (3.10.0)\n",
            "Requirement already satisfied: httpx~=0.27 in /usr/local/lib/python3.10/dist-packages (from python-telegram-bot->bwa) (0.27.0)\n",
            "Requirement already satisfied: charset-normalizer<4,>=2 in /usr/local/lib/python3.10/dist-packages (from requests->bwa) (3.3.2)\n",
            "Requirement already satisfied: idna<4,>=2.5 in /usr/local/lib/python3.10/dist-packages (from requests->bwa) (3.7)\n",
            "Requirement already satisfied: urllib3<3,>=1.21.1 in /usr/local/lib/python3.10/dist-packages (from requests->bwa) (2.0.7)\n",
            "Requirement already satisfied: certifi>=2017.4.17 in /usr/local/lib/python3.10/dist-packages (from requests->bwa) (2024.6.2)\n",
            "Requirement already satisfied: anyio in /usr/local/lib/python3.10/dist-packages (from httpx~=0.27->python-telegram-bot->bwa) (3.7.1)\n",
            "Requirement already satisfied: httpcore==1.* in /usr/local/lib/python3.10/dist-packages (from httpx~=0.27->python-telegram-bot->bwa) (1.0.5)\n",
            "Requirement already satisfied: sniffio in /usr/local/lib/python3.10/dist-packages (from httpx~=0.27->python-telegram-bot->bwa) (1.3.1)\n",
            "Requirement already satisfied: h11<0.15,>=0.13 in /usr/local/lib/python3.10/dist-packages (from httpcore==1.*->httpx~=0.27->python-telegram-bot->bwa) (0.14.0)\n",
            "Requirement already satisfied: lxml in /usr/local/lib/python3.10/dist-packages (from premailer->yagmail>=0.11.214->bwa) (4.9.4)\n",
            "Requirement already satisfied: cssselect in /usr/local/lib/python3.10/dist-packages (from premailer->yagmail>=0.11.214->bwa) (1.2.0)\n",
            "Requirement already satisfied: cssutils in /usr/local/lib/python3.10/dist-packages (from premailer->yagmail>=0.11.214->bwa) (2.11.1)\n",
            "Requirement already satisfied: cachetools in /usr/local/lib/python3.10/dist-packages (from premailer->yagmail>=0.11.214->bwa) (5.3.3)\n",
            "Requirement already satisfied: exceptiongroup in /usr/local/lib/python3.10/dist-packages (from anyio->httpx~=0.27->python-telegram-bot->bwa) (1.2.1)\n",
            "Requirement already satisfied: more-itertools in /usr/local/lib/python3.10/dist-packages (from cssutils->premailer->yagmail>=0.11.214->bwa) (10.1.0)\n"
          ]
        }
      ]
    },
    {
      "cell_type": "code",
      "source": [
        "!pip install pysam\n"
      ],
      "metadata": {
        "colab": {
          "base_uri": "https://localhost:8080/"
        },
        "id": "tGjd55EO1aLJ",
        "outputId": "ae8b8baa-3567-4b61-b26b-a171db998a43"
      },
      "execution_count": 26,
      "outputs": [
        {
          "output_type": "stream",
          "name": "stdout",
          "text": [
            "Requirement already satisfied: pysam in /usr/local/lib/python3.10/dist-packages (0.22.1)\n"
          ]
        }
      ]
    },
    {
      "cell_type": "markdown",
      "source": [
        "# prompt: necesito transformar a fastq esta arcivo ar506.fna\n",
        "\n",
        "\n",
        "#!seqtk seq -a arg506.fna > arg506.fastq"
      ],
      "metadata": {
        "id": "tRGXCQ-mJtpT"
      }
    },
    {
      "cell_type": "code",
      "source": [
        "!sudo apt install bwa"
      ],
      "metadata": {
        "colab": {
          "base_uri": "https://localhost:8080/"
        },
        "id": "eYDRqkVIYMKB",
        "outputId": "b13e0e1c-1673-4c50-c150-71dcb51bb7a9"
      },
      "execution_count": 29,
      "outputs": [
        {
          "output_type": "stream",
          "name": "stdout",
          "text": [
            "Reading package lists... Done\n",
            "Building dependency tree... Done\n",
            "Reading state information... Done\n",
            "Suggested packages:\n",
            "  samtools\n",
            "The following NEW packages will be installed:\n",
            "  bwa\n",
            "0 upgraded, 1 newly installed, 0 to remove and 45 not upgraded.\n",
            "Need to get 195 kB of archives.\n",
            "After this operation, 466 kB of additional disk space will be used.\n",
            "Get:1 http://archive.ubuntu.com/ubuntu jammy/universe amd64 bwa amd64 0.7.17-6 [195 kB]\n",
            "Fetched 195 kB in 1s (236 kB/s)\n",
            "debconf: unable to initialize frontend: Dialog\n",
            "debconf: (No usable dialog-like program is installed, so the dialog based frontend cannot be used. at /usr/share/perl5/Debconf/FrontEnd/Dialog.pm line 78, <> line 1.)\n",
            "debconf: falling back to frontend: Readline\n",
            "debconf: unable to initialize frontend: Readline\n",
            "debconf: (This frontend requires a controlling tty.)\n",
            "debconf: falling back to frontend: Teletype\n",
            "dpkg-preconfigure: unable to re-open stdin: \n",
            "Selecting previously unselected package bwa.\n",
            "(Reading database ... 121913 files and directories currently installed.)\n",
            "Preparing to unpack .../bwa_0.7.17-6_amd64.deb ...\n",
            "Unpacking bwa (0.7.17-6) ...\n",
            "Setting up bwa (0.7.17-6) ...\n",
            "Processing triggers for man-db (2.10.2-1) ...\n"
          ]
        }
      ]
    },
    {
      "cell_type": "markdown",
      "source": [
        "Declaraciones de importación:\n",
        "\n",
        "subprocess: Este módulo le permite ejecutar comandos externos (como ) desde su script de Python.bwa\n",
        "from Bio import SeqIO: Importa la función de la biblioteca Biopython, que se utiliza para leer y escribir datos de secuencia en varios formatos.SeqIO\n",
        "import pysam: Importa la biblioteca, que proporciona funcionalidad para trabajar con archivos SAM/BAM, un formato común para almacenar alineaciones de secuencia.pysam\n",
        "Definiciones de variables:\n",
        "\n",
        "reference_genome (str): Esta variable almacena la ruta al archivo del genoma de referencia, que normalmente está en formato FASTA (). Los archivos FASTA contienen secuencias de nucleótidos, una secuencia por línea, precedidas por una línea de encabezado que describe la secuencia..fna\n",
        "fastq_file (str): Esta variable almacena la ruta al archivo FASTQ que contiene las lecturas cortas que se van a alinear con el genoma de referencia. Los archivos FASTQ tienen un formato específico con cuatro líneas por lectura:\n",
        "Línea de encabezado (que comienza con @)\n",
        "Línea de secuencia\n",
        "Línea opcional que indica puntuaciones de calidad (+ o números)\n",
        "Línea opcional con información adicional (a partir de @)\n",
        "output_sam (str): Esta variable almacena el nombre de archivo deseado (incluida la ruta) para el archivo SAM de salida que contiene los resultados de la alineación. Los archivos SAM son archivos de texto con un formato específico que captura información sobre cada alineación de lectura, incluida su posición, puntuación y otros detalles.\n",
        "Desglose del código:\n",
        "\n",
        "Indexación del genoma de referencia (índice bwa):\n",
        "\n",
        "subprocess.run([\"bwa\", \"index\", reference_genome])\n",
        "Esta línea ejecuta el comando, que crea un índice para el genoma de referencia. Este índice acelera significativamente el proceso de alineación.bwa index\n",
        "Alineación de lecturas mediante BWA-MEM:\n",
        "\n",
        "subprocess.run([\"bwa\", \"mem\", reference_genome, fastq_file, \"-o\", output_sam])\n",
        "Esta línea ejecuta el comando, que realiza la alineación de las lecturas con el genoma de referencia indexado ().bwa memfastq_filereference_genome\n",
        "-o: Esta opción especifica el nombre de archivo de salida () para los resultados de alineación en formato SAM.output_sam\n",
        "Lectura del archivo SAM (pysam):\n",
        "\n",
        "samfile = pysam.AlignmentFile(output_sam, \"r\")\n",
        "Esta línea abre el archivo SAM generado () en modo de lectura () utilizando la biblioteca.output_sam\"r\"pysam\n",
        "for read in samfile:\n",
        "Este bucle recorre en iteración cada entrada de lectura en el archivo SAM.\n",
        "print(read)\n",
        "Esta línea imprime los detalles de cada objeto leído, que incluye diversa información de alineación.\n",
        "Nota: La instrucción no se incluye explícitamente aquí, pero debe agregarse al final del bucle o en un punto adecuado para cerrar correctamente el archivo y liberar recursos.samfile.close()\n",
        "Resumen:\n",
        "\n",
        "Este código Python alinea de manera eficiente las lecturas cortas de un archivo FASTQ con un genoma de referencia utilizando el algoritmo BWA-MEM. A continuación, lee el archivo SAM generado para su posterior análisis."
      ],
      "metadata": {
        "id": "sLv4gJjUa2aW"
      }
    },
    {
      "cell_type": "code",
      "source": [
        "import subprocess\n",
        "from Bio import SeqIO\n",
        "import bwa"
      ],
      "metadata": {
        "id": "LzAzX338YPcA"
      },
      "execution_count": 48,
      "outputs": []
    },
    {
      "cell_type": "code",
      "source": [
        "!seqtk seq -a arg506.fna > arg506.fastq"
      ],
      "metadata": {
        "colab": {
          "base_uri": "https://localhost:8080/"
        },
        "id": "tNNjbRmcXcsR",
        "outputId": "a2ce0cb0-8f7b-4c3c-9aeb-46a0f840ce6f"
      },
      "execution_count": 14,
      "outputs": [
        {
          "output_type": "stream",
          "name": "stdout",
          "text": [
            "/bin/bash: line 1: seqtk: command not found\n"
          ]
        }
      ]
    },
    {
      "cell_type": "code",
      "source": [
        "\n",
        "import subprocess\n",
        "from Bio import SeqIO\n",
        "import pysam\n",
        "\n",
        "# Definir los archivos\n",
        "reference_genome = \"/content/adn_covid.fasta\"\n",
        "fastq_file =  \"/rna_arg.fasta\"\n",
        "output_sam = \"aligned_reads.sam\"\n",
        "\n"
      ],
      "metadata": {
        "id": "L79yqR0D6Y2m"
      },
      "execution_count": 65,
      "outputs": []
    },
    {
      "cell_type": "code",
      "source": [
        "# prompt: quiero saber la cantidada de caracteres de los archvivos\n",
        "\n",
        "!wc -c /content/adn_covid.fasta\n",
        "!wc -c /rna_arg.fasta\n"
      ],
      "metadata": {
        "colab": {
          "base_uri": "https://localhost:8080/"
        },
        "id": "Oo6SOz4etCct",
        "outputId": "b512dc23-6689-425a-9d62-fd4be560da4c"
      },
      "execution_count": 66,
      "outputs": [
        {
          "output_type": "stream",
          "name": "stdout",
          "text": [
            "9449 /content/adn_covid.fasta\n",
            "9449 /rna_arg.fasta\n"
          ]
        }
      ]
    },
    {
      "cell_type": "code",
      "source": [
        "subprocess.run([\"bwa\", \"index\", reference_genome])\n",
        "\n",
        "# Alinear las secuencias usando BWA-MEM\n",
        "subprocess.run([\"bwa\", \"mem\", reference_genome, fastq_file, \"-o\", output_sam])\n",
        "\n",
        "# Leer el archivo SAM alineado con pysam\n",
        "samfile = pysam.AlignmentFile(output_sam, \"r\")\n",
        "for read in samfile:\n",
        "  print(read)"
      ],
      "metadata": {
        "colab": {
          "base_uri": "https://localhost:8080/"
        },
        "id": "a1dI2M8ScGux",
        "outputId": "418ad360-e3cb-45f7-eeef-bbd365e9fe04"
      },
      "execution_count": 50,
      "outputs": [
        {
          "output_type": "stream",
          "name": "stdout",
          "text": [
            "NM_000130.5\t0\t#0\t1\t60\t9132M\t*\t0\t0\tATTGCAGCTGGGACAGCCCGGAGTGTGGTTAGCAGCTCGGCAAGCGCTGCCCAGGTCCTGGGGTGGTGGCAGCCAGCGGGAGCAGGAAAGGAAGCATGTTCCCAGGCTGCCCACGCCTCTGGGTCCTGGTGGTCTTGGGCACCAGCTGGGTAGGCTGGGGGAGCCAAGGGACAGAAGCGGCACAGCTAAGGCAGTTCTACGTGGCTGCTCAGGGCATCAGTTGGAGCTACCGACCTGAGCCCACAAACTCAAGTTTGAATCTTTCTGTAACTTCCTTTAAGAAAATTGTCTACAGAGAGTATGAACCATATTTTAAGAAAGAAAAACCACAATCTACCATTTCAGGACTTCTTGGGCCTACTTTATATGCTGAAGTCGGAGACATCATAAAAGTTCACTTTAAAAATAAGGCAGATAAGCCCTTGAGCATCCATCCTCAAGGAATTAGGTACAGTAAATTATCAGAAGGTGCTTCTTACCTTGACCACACATTCCCTGCGGAGAAGATGGACGACGCTGTGGCTCCAGGCCGAGAATACACCTATGAATGGAGTATCAGTGAGGACAGTGGACCCACCCATGATGACCCTCCATGCCTCACACACATCTATTACTCCCATGAAAATCTGATCGAGGATTTCAACTCGGGGCTGATTGGGCCCCTGCTTATCTGTAAAAAAGGGACCCTAACTGAGGGTGGGACACAGAAGACGTTTGACAAGCAAATCGTGCTACTATTTGCTGTGTTTGATGAAAGCAAGAGCTGGAGCCAGTCATCATCCCTAATGTACACAGTCAATGGATATGTGAATGGGACAATGCCAGATATAACAGTTTGTGCCCATGACCACATCAGCTGGCATCTGCTGGGAATGAGCTCGGGGCCAGAATTATTCTCCATTCATTTCAACGGCCAGGTCCTGGAGCAGAACCATCATAAGGTCTCAGCCATCACCCTTGTCAGTGCTACATCCACTACCGCAAATATGACTGTGGGCCCAGAGGGAAAGTGGATCATATCTTCTCTCACCCCAAAACATTTGCAAGCTGGGATGCAGGCTTACATTGACATTAAAAACTGCCCAAAGAAAACCAGGAATCTTAAGAAAATAACTCGTGAGCAGAGGCGGCACATGAAGAGGTGGGAATACTTCATTGCTGCAGAGGAAGTCATTTGGGACTATGCACCTGTAATACCAGCGAATATGGACAAAAAATACAGGTCTCAGCATTTGGATAATTTCTCAAACCAAATTGGAAAACATTATAAGAAAGTTATGTACACACAGTACGAAGATGAGTCCTTCACCAAACATACAGTGAATCCCAATATGAAAGAAGATGGGATTTTGGGTCCTATTATCAGAGCCCAGGTCAGAGACACACTCAAAATCGTGTTCAAAAATATGGCCAGCCGCCCCTATAGCATTTACCCTCATGGAGTGACCTTCTCGCCTTATGAAGATGAAGTCAACTCTTCTTTCACCTCAGGCAGGAACAACACCATGATCAGAGCAGTTCAACCAGGGGAAACCTATACTTATAAGTGGAACATCTTAGAGTTTGATGAACCCACAGAAAATGATGCCCAGTGCTTAACAAGACCATACTACAGTGACGTGGACATCATGAGAGACATCGCCTCTGGGCTAATAGGACTACTTCTAATCTGTAAGAGCAGATCCCTGGACAGGCGAGGAATACAGAGGGCAGCAGACATCGAACAGCAGGCTGTGTTTGCTGTGTTTGATGAGAACAAAAGCTGGTACCTTGAGGACAACATCAACAAGTTTTGTGAAAATCCTGATGAGGTGAAACGTGATGACCCCAAGTTTTATGAATCAAACATCATGAGCACTATCAATGGCTATGTGCCTGAGAGCATAACTACTCTTGGATTCTGCTTTGATGACACTGTCCAGTGGCACTTCTGTAGTGTGGGGACCCAGAATGAAATTTTGACCATCCACTTCACTGGGCACTCATTCATCTATGGAAAGAGGCATGAGGACACCTTGACCCTCTTCCCCATGCGTGGAGAATCTGTGACGGTCACAATGGATAATGTTGGAACTTGGATGTTAACTTCCATGAATTCTAGTCCAAGAAGCAAAAAGCTGAGGCTGAAATTCAGGGATGTTAAATGTATCCCAGATGATGATGAAGACTCATATGAGATTTTTGAACCTCCAGAATCTACAGTCATGGCTACACGGAAAATGCATGATCGTTTAGAACCTGAAGATGAAGAGAGTGATGCTGACTATGATTACCAGAACAGACTGGCTGCAGCATTAGGAATCAGGTCATTCCGAAACTCATCATTGAATCAGGAAGAAGAAGAGTTCAATCTTACTGCCCTAGCTCTGGAGAATGGCACTGAATTCGTTTCTTCAAACACAGATATAATTGTTGGTTCAAATTATTCTTCCCCAAGTAATATTAGTAAGTTCACTGTCAATAACCTTGCAGAACCTCAGAAAGCCCCTTCTCACCAACAAGCCACCACAGCTGGTTCCCCACTGAGACACCTCATTGGCAAGAACTCAGTTCTCAATTCTTCCACAGCAGAGCATTCCAGCCCATATTCTGAAGACCCTATAGAGGATCCTCTACAGCCAGATGTCACAGGGATACGTCTACTTTCACTTGGTGCTGGAGAATTCAAAAGTCAAGAACATGCTAAGCATAAGGGACCCAAGGTAGAAAGAGATCAAGCAGCAAAGCACAGGTTCTCCTGGATGAAATTACTAGCACATAAAGTTGGGAGACACCTAAGCCAAGACACTGGTTCTCCTTCCGGAATGAGGCCCTGGGAGGACCTTCCTAGCCAAGACACTGGTTCTCCTTCCAGAATGAGGCCCTGGAAGGACCCTCCTAGTGATCTGTTACTCTTAAAACAAAGTAACTCATCTAAGATTTTGGTTGGGAGATGGCATTTGGCTTCTGAGAAAGGTAGCTATGAAATAATCCAAGATACTGATGAAGACACAGCTGTTAACAATTGGCTGATCAGCCCCCAGAATGCCTCACGTGCTTGGGGAGAAAGCACCCCTCTTGCCAACAAGCCTGGAAAGCAGAGTGGCCACCCAAAGTTTCCTAGAGTTAGACATAAATCTCTACAAGTAAGACAGGATGGAGGAAAGAGTAGACTGAAGAAAAGCCAGTTTCTCATTAAGACACGAAAAAAGAAAAAAGAGAAGCACACACACCATGCTCCTTTATCTCCGAGGACCTTTCACCCTCTAAGAAGTGAAGCCTACAACACATTTTCAGAAAGAAGACTTAAGCATTCGTTGGTGCTTCATAAATCCAATGAAACATCTCTTCCCACAGACCTCAATCAGACATTGCCCTCTATGGATTTTGGCTGGATAGCCTCACTTCCTGACCATAATCAGAATTCCTCAAATGACACTGGTCAGGCAAGCTGTCCTCCAGGTCTTTATCAGACAGTGCCCCCAGAGGAACACTATCAAACATTCCCCATTCAAGACCCTGATCAAATGCACTCTACTTCAGACCCCAGTCACAGATCCTCTTCTCCAGAGCTCAGTGAAATGCTTGAGTATGACCGAAGTCACAAGTCCTTCCCCACAGATATAAGTCAAATGTCCCCTTCCTCAGAACATGAAGTCTGGCAGACAGTCATCTCTCCAGACCTCAGCCAGGTGACCCTCTCTCCAGAACTCAGCCAGACAAACCTCTCTCCAGACCTCAGCCACACGACTCTCTCTCCAGAACTCATTCAGAGAAACCTTTCCCCAGCCCTCGGTCAGATGCCCATTTCTCCAGACCTCAGCCATACAACCCTTTCTCCAGACCTCAGCCATACAACCCTTTCTTTAGACCTCAGCCAGACAAACCTCTCTCCAGAACTCAGTCAGACAAACCTTTCTCCAGCCCTCGGTCAGATGCCCCTTTCTCCAGACCTCAGCCATACAACCCTTTCTCTAGACTTCAGCCAGACAAACCTCTCTCCAGAACTCAGCCATATGACTCTCTCTCCAGAACTCAGTCAGACAAACCTTTCCCCAGCCCTCGGTCAGATGCCCATTTCTCCAGACCTCAGCCATACAACCCTTTCTCTAGACTTCAGCCAGACAAACCTCTCTCCAGAACTCAGTCAAACAAACCTTTCCCCAGCCCTCGGTCAGATGCCCCTTTCTCCAGACCCCAGCCATACAACCCTTTCTCTAGACCTCAGCCAGACAAACCTCTCTCCAGAACTCAGTCAGACAAACCTTTCCCCAGACCTCAGTGAGATGCCCCTCTTTGCAGATCTCAGTCAAATTCCCCTTACCCCAGACCTCGACCAGATGACACTTTCTCCAGACCTTGGTGAGACAGATCTTTCCCCAAACTTTGGTCAGATGTCCCTTTCCCCAGACCTCAGCCAGGTGACTCTCTCTCCAGACATCAGTGACACCACCCTTCTCCCGGATCTCAGCCAGATATCACCTCCTCCAGACCTTGATCAGATATTCTACCCTTCTGAATCTAGTCAGTCATTGCTTCTTCAAGAATTTAATGAGTCTTTTCCTTATCCAGACCTTGGTCAGATGCCATCTCCTTCATCTCCTACTCTCAATGATACTTTTCTATCAAAGGAATTTAATCCACTGGTTATAGTGGGCCTCAGTAAAGATGGTACAGATTACATTGAGATCATTCCAAAGGAAGAGGTCCAGAGCAGTGAAGATGACTATGCTGAAATTGATTATGTGCCCTATGATGACCCCTACAAAACTGATGTTAGGACAAACATCAACTCCTCCAGAGATCCTGACAACATTGCAGCATGGTACCTCCGCAGCAACAATGGAAACAGAAGAAATTATTACATTGCTGCTGAAGAAATATCCTGGGATTATTCAGAATTTGTACAAAGGGAAACAGATATTGAAGACTCTGATGATATTCCAGAAGATACCACATATAAGAAAGTAGTTTTTCGAAAGTACCTCGACAGCACTTTTACCAAACGTGATCCTCGAGGGGAGTATGAAGAGCATCTCGGAATTCTTGGTCCTATTATCAGAGCTGAAGTGGATGATGTTATCCAAGTTCGTTTTAAAAATTTAGCATCCAGACCGTATTCTCTACATGCCCATGGACTTTCCTATGAAAAATCATCAGAGGGAAAGACTTATGAAGATGACTCTCCTGAATGGTTTAAGGAAGATAATGCTGTTCAGCCAAATAGCAGTTATACCTACGTATGGCATGCCACTGAGCGATCAGGGCCAGAAAGTCCTGGCTCTGCCTGTCGGGCTTGGGCCTACTACTCAGCTGTGAACCCAGAAAAAGATATTCACTCAGGCTTGATAGGTCCCCTCCTAATCTGCCAAAAAGGAATACTACATAAGGACAGCAACATGCCTATGGACATGAGAGAATTTGTCTTACTATTTATGACCTTTGATGAAAAGAAGAGCTGGTACTATGAAAAGAAGTCCCGAAGTTCTTGGAGACTCACATCCTCAGAAATGAAAAAATCCCATGAGTTTCACGCCATTAATGGGATGATCTACAGCTTGCCTGGCCTGAAAATGTATGAGCAAGAGTGGGTGAGGTTACACCTGCTGAACATAGGCGGCTCCCAAGACATTCACGTGGTTCACTTTCACGGCCAGACCTTGCTGGAAAATGGCAATAAACAGCACCAGTTAGGGGTCTGGCCCCTTCTGCCTGGTTCATTTAAAACTCTTGAAATGAAGGCATCAAAACCTGGCTGGTGGCTCCTAAACACAGAGGTTGGAGAAAACCAGAGAGCAGGGATGCAAACGCCATTTCTTATCATGGACAGAGACTGTAGGATGCCAATGGGACTAAGCACTGGTATCATATCTGATTCACAGATCAAGGCTTCAGAGTTTCTGGGTTACTGGGAGCCCAGATTAGCAAGATTAAACAATGGTGGATCTTATAATGCTTGGAGTGTAGAAAAACTTGCAGCAGAATTTGCCTCTAAACCTTGGATCCAGGTGGACATGCAAAAGGAAGTCATAATCACAGGGATCCAGACCCAAGGTGCCAAACACTACCTGAAGTCCTGCTATACCACAGAGTTCTATGTAGCTTACAGTTCCAACCAGATCAACTGGCAGATCTTCAAAGGGAACAGCACAAGGAATGTGATGTATTTTAATGGCAATTCAGATGCCTCTACAATAAAAGAGAATCAGTTTGACCCACCTATTGTGGCTAGATATATTAGGATCTCTCCAACTCGAGCCTATAACAGACCTACCCTTCGATTGGAACTGCAAGGTTGTGAGGTAAATGGATGTTCCACACCCCTGGGTATGGAAAATGGAAAGATAGAAAACAAGCAAATCACAGCTTCTTCGTTTAAGAAATCTTGGTGGGGAGATTACTGGGAACCCTTCCGTGCCCGTCTGAATGCCCAGGGACGTGTGAATGCCTGGCAAGCCAAGGCAAACAACAATAAGCAGTGGCTAGAAATTGATCTACTCAAGATCAAGAAGATAACGGCAATTATAACACAGGGCTGCAAGTCTCTGTCCTCTGAAATGTATGTAAAGAGCTATACCATCCACTACAGTGAGCAGGGAGTGGAATGGAAACCATACAGGCTGAAATCCTCCATGGTGGACAAGATTTTTGAAGGAAATACTAATACCAAAGGACATGTGAAGAACTTTTTCAACCCCCCAATCATTTCCAGGTTTATCCGTGTCATTCCTAAAACATGGAATCAAAGTATTGCACTTCGCCTGGAACTCTTTGGCTGTGATATTTACTAGAATTGAACATTCAAAAACCCCTGGAAGAGACTCTTTAAGACCTCAAACCATTTAGAATGGGCAATGTATTTTACGCTGTGTTAAATGTTAACAGTTTTCCACTATTTCTCTTTCTTTTCTATTAGTGAATAAAATTTTATACAAGAAGCTTTTATAATGTAACTCCTTGCTACCAGTAAGTAAGATAATGGCTATTACTTCTGCATTAATTTGAATACAGGTAGGAAAATATCAAGAACCAACAAGAAAAGGGCTTATCTTTCTTAATGATTGAAAATGCTATGAAGTAATATTTATGTAGTTAAAATGCTTCATTATAACTCTTTTAAATCCTTTACACACTAGTAAAACAGATATTACTTTAAATAATAATTGATAGACCTGGATAACTTTCACAAACACATGATTTTTTAATGGTTTTTCTTGAGTGAAGAGAAAAACAATATTATCAAATGAAATAAGTACTTAAAATATCCTGTCTTTCCCATATAACAATGATTTTTCTGACTTTCCATGAGTAAAAAAACAGCCAAGCATCTTTCCAGTAGCCCCATTGAAATTGTGAATCCGTCCTGGTCTCCCTAAGGACTGCACACATTGATATTCAAGGTTGGTGGTCATTAGATATGGAACAGAACTGAAATAACCATGGTAGAACTGAATGTGTAATGTTGGCTTTATTCTAGCTGGTACTACATGGCACACAGTTTCAAAACATAATTTCACCTACTGGAAAGCTCAGACCTGTAAAACAGAGCATGGGAACTGCTGGTCTAAATGCAGTTGTTCCTGCTCAAAGAGACCTCTGGCCAAACTGGCAAGCAGTTAAAGTTTTCTTTCAGGGCCTTCCTCTCTATGGCCTCAACTTCCTCCTCTCTCTTCTTCCAGCAACTTCCCCTTTCATCATTCCTTTCCCTGGGGACTTGGCATTCAGTGATCCTGTAGATATTGCACAACTGGGGAACCTTTAGACATCCTTAAAATCACATGAGATAGACAGTCATTTGGGGTGTCTGAAATAAACCACCCCAAAACTTAGTGTTAAAAGAGCAACCAAAAAAAATTTATGTGAGATTATGGATTTGTTACTTAGCTTGATTTAATCATCCTGTAACGTGTACATATATCAAAATGTTATGTATACCATAAATATATAAAATTTTATCAACGAAATTCATAACAATCTCTCAGACCACAGAGAAATCAAATTAGAACTGAGGACTAAGAAACTCACTCGAAACCACACAACTACATGGAAACTGAACAACCTGCTCCTGAATGACTACTGGGTAAATAATGAAATTAAGGCAGAAATAAATAAGTTCCTTAAAACCAATGAGAACAAAGAGACAACATACCAGAATCTCTAGGAGACAGGGCTTTGCTTTTGCTGCATTCTATTCGTTGTGAACACAAATTACAGGCCAGTCTCGATTCAGTGTAGAAGGGAACTGCATAAGGACCACATACCAGGAGGCATAATTCACTGGGAGCATCTTTAGAAACTACCAGAGTTACCTGTTGCCCATACCAGTGGGGTAAGCCCTATGAATGTATATGAGAGTTTCAAACATCCACAAAACATTGGCTTTCTAATATTCGTATTCCCACTATTCCTTTCTTTTCATGATTCATGTCATTGTCCCATCAACATTTCTAAGATTTCCATTCCGTTAAGAGCAAAAGAGAATGTTGGAAGGTGGGGGAAAACATTTCTTTGTTTTCTACAGGGCCAGCTTCTTGGATGTGTGTGATCTGTTCAGTTGCAAAGGGTCACATGCTCAGAAGGACCGCATGCTAAATTTAATGCTTTGCAGTTACCCTCTTGAAATCCTTTATTTTTTAAGAAGGAATTCGACATTTCCATTTTTCAATGAGCCCCACAAATTACGCAGCTAGTCCTGGGCTTCTCTACTCTGAAATTGGGCAGGATCTCTCTTGATCTAGAATTTACTAAGGCATAATAGGGGCAAGAAAATCTTATGAAATAATGGGGGGTAGGGAAGAGATGGGAATGGAGCATGAGATCCAGCTTCGTTATTCTCTACTTGAGAAAAATAAGGCCCCAAAGATTAAACAACTTGCCCAAGGATATTGCTTGTTAGTGTCAGAACTGAAACCAGAAACCAAATGATCATATCCCTAGACTTTTAGTCTGCTTTCTCTTCCATAAAATGAAACTTATAATGTTTCTAATCCATTGCTCAGACAGGTAGACATGAATATTAATTGATAATGACTATTAATTGATCTGGAAAATACTTGTTTGGGGATCAATAATATGTTTGGGCTATTATCTAATGCTGTGTAGAAATATTAAAACCCCTGTTATTTTGAAATAAAAAAGATACCCACTTTTTAT\tNone\t[('NM', 0), ('MD', '9132'), ('AS', 9132), ('XS', 0)]\n"
          ]
        }
      ]
    },
    {
      "cell_type": "markdown",
      "source": [
        "# Desglose de la información:\n",
        "\n",
        "# Campos de registro SAM:\n",
        "\n",
        "NM_000130.5: Este es el nombre de lectura, que es un identificador único para la lectura.\n",
        "0: Este es el nombre de referencia, que indica el cromosoma o contig con el que se alineó la lectura. En este caso, se alinea con la secuencia de referencia \"0\".\n",
        "#0: Este es el valor de la bandera, que proporciona información sobre la alineación y la calidad de lectura. No es visible en la información proporcionada.\n",
        "1: Esta es la calidad de mapeo, que representa la confianza en la alineación. Un valor más alto indica una mayor confianza.\n",
        "60: Esta es la posición inicial de la alineación en la secuencia de referencia. La lectura se alinea a partir de la base 60 de la referencia.\n",
        "9132M: Esta es la cadena CIGAR, que describe la alineación en términos de operaciones como coincidencias (M), inserciones (I) y eliminaciones (D). En este caso, \"9132M\" indica que hay 9132 coincidencias consecutivas entre la lectura y la referencia.\n",
        "*: Este es el cigarro mate, que es relevante para las lecturas de extremos emparejados y no es aplicable en este caso.\n",
        "0: Este es el nombre de referencia de la relación de posición, que tampoco se aplica a las lecturas de extremo emparejado.\n",
        "0: Esta es la posición de relación de posición, no aplicable a las lecturas de extremo emparejado.\n",
        "** Línea de nucleótidos...:** Representa la secuencia de nucleótidos real de la lectura. Desafortunadamente, esta parte no se proporciona en la información proporcionada.\n",
        "Análisis de cadenas CIGAR:\n",
        "\n",
        "9132M: Esta cadena CIGAR indica que hay 9132 coincidencias consecutivas entre la secuencia de lectura y la secuencia de referencia. Esto significa que la lectura es muy similar a la secuencia de referencia en estas posiciones.\n",
        "Etiquetas adicionales:\n",
        "\n",
        "AS:9132: Esta etiqueta indica la puntuación de alineación, que es una medida numérica de la bondad de la alineación. En este caso, la puntuación es 9132, que es alta y apoya el alto grado de similitud observado en la cadena CIGAR.\n",
        "XS:0: Esta etiqueta indica el número de bases que se recortaron suavemente. El recorte suave se refiere al recorte de bases de los extremos de la lectura que no se alinean bien con la referencia. En este caso, no hay bases recortadas suavemente, lo que sugiere que toda la lectura está bien alineada.\n",
        "En general, la información proporcionada indica que la lectura \"NM_000130.5\" es muy similar a la secuencia de referencia \"0\". La cadena CIGAR muestra 9132 coincidencias consecutivas, y la puntuación de alineación y la falta de clips blandos respaldan aún más este alto grado de similitud."
      ],
      "metadata": {
        "id": "DkOe7j3Xsp6U"
      }
    },
    {
      "cell_type": "code",
      "source": [
        "import pysam\n",
        "import matplotlib.pyplot as plt\n"
      ],
      "metadata": {
        "id": "vH368nAlmY89"
      },
      "execution_count": 54,
      "outputs": []
    },
    {
      "cell_type": "code",
      "source": [
        "samfile = pysam.AlignmentFile(\"aligned_reads.sam\", \"r\")\n"
      ],
      "metadata": {
        "id": "arxEvSwgmflN"
      },
      "execution_count": 55,
      "outputs": []
    },
    {
      "cell_type": "code",
      "source": [
        "def visualize_alignment(read_name, reference_name, alignment_position, cigar_string):\n",
        "  # Create Figure and Axes\n",
        "  fig, ax = plt.subplots()\n",
        "\n",
        "  # Plot Reference Sequence\n",
        "  reference_length = len(read.get_reference_sequence())\n",
        "  x_values = range(reference_length)\n",
        "  y_values = [0] * reference_length\n",
        "  ax.plot(x_values, y_values, label=\"Reference Sequence\", color=\"blue\")\n",
        "\n",
        "  # Parse CIGAR String\n",
        "  cigar_operations = []\n",
        "  for op, length in cigar_string:\n",
        "    cigar_operations.append((op, int(length)))\n",
        "\n",
        "  # Plot Read Alignment\n",
        "  read_start = alignment_position\n",
        "  for op, length in cigar_operations:\n",
        "    if op == \"M\":  # Match\n",
        "      x_values = range(read_start, read_start + length)\n",
        "      y_values = [1] * length\n",
        "      ax.plot(x_values, y_values, label=\"Read Alignment\", color=\"green\")\n",
        "      read_start += length\n",
        "    elif op == \"I\":  # Insertion\n",
        "      read_start += length\n",
        "    elif op == \"D\":  # Deletion\n",
        "      x_values = range(read_start, read_start + length)\n",
        "      y_values = [-1] * length\n",
        "      ax.plot(x_values, y_values, label=\"Read Alignment\", color=\"red\")\n",
        "      read_start += length\n",
        "\n",
        "  # Set Labels and Title\n",
        "  ax.set_xlabel(\"Position in Reference Sequence\")\n",
        "  ax.set_ylabel(\"Alignment Status\")\n",
        "  ax.set_title(f\"Alignment of Read {read_name} to Reference {reference_name}\")\n",
        "\n",
        "  # Add Legend\n",
        "  ax.legend()\n",
        "\n",
        "  # Show Plot\n",
        "  plt.show()\n"
      ],
      "metadata": {
        "id": "FjAjdx31m7h_"
      },
      "execution_count": 57,
      "outputs": []
    },
    {
      "cell_type": "code",
      "source": [
        "# Visualize Alignment\n",
        "visualize_alignment(read_name, reference_name, alignment_position, cigar_string);"
      ],
      "metadata": {
        "colab": {
          "base_uri": "https://localhost:8080/",
          "height": 472
        },
        "id": "h96KVzp6mqjg",
        "outputId": "9d0a660b-68f4-45c0-a3a2-c25e20c21c85"
      },
      "execution_count": 58,
      "outputs": [
        {
          "output_type": "display_data",
          "data": {
            "text/plain": [
              "<Figure size 640x480 with 1 Axes>"
            ],
            "image/png": "[encoded data removed]"
          },
          "metadata": {}
        }
      ]
    },
    {
      "cell_type": "code",
      "source": [
        "for read in samfile:\n",
        "  # Extract Alignment Information\n",
        "  read_name = read.qname\n",
        "  reference_name = read.rname\n",
        "  alignment_position = read.pos\n",
        "  cigar_string = read.cigar"
      ],
      "metadata": {
        "id": "UWeD7fL2mldR"
      },
      "execution_count": 61,
      "outputs": []
    },
    {
      "cell_type": "code",
      "source": [
        "print(read.pos)"
      ],
      "metadata": {
        "colab": {
          "base_uri": "https://localhost:8080/"
        },
        "id": "vPDxtkiXph_A",
        "outputId": "c1f1b1d0-388d-4f8b-ae3d-2fcdae233a4e"
      },
      "execution_count": 64,
      "outputs": [
        {
          "output_type": "stream",
          "name": "stdout",
          "text": [
            "0\n"
          ]
        }
      ]
    },
    {
      "cell_type": "code",
      "source": [
        "print(read.rname)"
      ],
      "metadata": {
        "colab": {
          "base_uri": "https://localhost:8080/"
        },
        "id": "iibyb_7_pdSV",
        "outputId": "2e7de92d-c803-428f-f9f8-1a3b9e4adc27"
      },
      "execution_count": 63,
      "outputs": [
        {
          "output_type": "stream",
          "name": "stdout",
          "text": [
            "0\n"
          ]
        }
      ]
    },
    {
      "cell_type": "code",
      "source": [
        "print(f\"Read name: {read.qname}\")"
      ],
      "metadata": {
        "colab": {
          "base_uri": "https://localhost:8080/"
        },
        "id": "qVPq7MrlpI7Y",
        "outputId": "44c5cd98-3c20-41d0-bbf6-85f342ede3c2"
      },
      "execution_count": 62,
      "outputs": [
        {
          "output_type": "stream",
          "name": "stdout",
          "text": [
            "Read name: NM_000130.5\n"
          ]
        }
      ]
    },
    {
      "cell_type": "code",
      "source": [
        "for read in samfile:\n",
        "  print(f\"Read name: {read.qname}\")\n",
        "  print(f\"Reference sequence: {read.rname}\")\n",
        "  print(f\"Alignment position: {read.pos}\")\n",
        "  print(f\"CIGAR string: {read.cigar}\")\n",
        "  20)  # Optional separator betwprint(\"-\" * een reads"
      ],
      "metadata": {
        "id": "OxWCY_YRivwV"
      },
      "execution_count": 53,
      "outputs": []
    },
    {
      "cell_type": "code",
      "source": [
        "print(samfile.header)"
      ],
      "metadata": {
        "colab": {
          "base_uri": "https://localhost:8080/"
        },
        "id": "7gIGR7mSKLPi",
        "outputId": "90f60459-d408-4fb8-9a33-0a0a77218d61"
      },
      "execution_count": 67,
      "outputs": [
        {
          "output_type": "stream",
          "name": "stdout",
          "text": [
            "@SQ\tSN:NM_000130.5\tLN:9132\n",
            "@PG\tID:bwa\tPN:bwa\tVN:0.7.17-r1188\tCL:bwa mem /content/adn_covid.fasta /rna_arg.fasta -o aligned_reads.sam\n",
            "\n"
          ]
        }
      ]
    },
    {
      "source": [
        "import pysam\n",
        "\n",
        "samfile = pysam.AlignmentFile(output_sam, \"r\")\n",
        "for read in samfile:\n",
        "    print(read.mapping_quality) # Changed 'alignment_quality' to 'mapping_quality'"
      ],
      "cell_type": "code",
      "metadata": {
        "id": "k-biMhOxNTg5",
        "colab": {
          "base_uri": "https://localhost:8080/"
        },
        "outputId": "8a0a5503-986e-48e1-f25b-088452df666b"
      },
      "execution_count": 69,
      "outputs": [
        {
          "output_type": "stream",
          "name": "stdout",
          "text": [
            "60\n"
          ]
        }
      ]
    },
    {
      "cell_type": "code",
      "source": [
        "print(read.mapping_quality)  # Changed 'alignment_quality' to 'mapping_quality'\n"
      ],
      "metadata": {
        "colab": {
          "base_uri": "https://localhost:8080/"
        },
        "id": "WO8wJiD-unMb",
        "outputId": "4a51aad5-6130-42ae-8234-1e795a4d3318"
      },
      "execution_count": 71,
      "outputs": [
        {
          "output_type": "stream",
          "name": "stdout",
          "text": [
            "60\n"
          ]
        }
      ]
    },
    {
      "cell_type": "markdown",
      "source": [
        " Esta línea recupera la calidad de asignación de la lectura actual\n",
        "  y  la imprime. La calidad de la representación cartográfica es una puntuación numérica asignada durante el proceso de alineación. Refleja la confianza o probabilidad de que la lectura se alinee realmente con la posición indicada en el archivo SAM. Las puntuaciones más altas indican una mayor confianza en la alineación.read.mapping_quality\n",
        "\n",
        "# Explicación de la salida: 60\n",
        "\n",
        "En su caso, el código imprimió el valor . Esto indica que la calidad de asignación para la lectura actual que se está procesando es 60. Si bien la interpretación específica de las puntuaciones de calidad de mapeo puede variar según el software de alineación utilizado, en general, una puntuación de 60 se considera una alineación de buena calidad. Sugiere que existe un alto grado de confianza en que la lectura se alinea con precisión con la secuencia de referencia en la posición especificada en el archivo SAM.60\n",
        "\n",
        "# Notas adicionales:\n",
        "\n",
        "El fragmento de código original tenía un error tipográfico, usando en lugar del atributo correcto . Esto se ha corregido en la explicación.alignment_qualitymapping_quality\n",
        "El código solo imprime la calidad de la asignación. Puede modificar el bucle para acceder e imprimir otra información disponible en el objeto, como el nombre de lectura, la secuencia de referencia con la que se alineó, la cadena CIGAR (que indica las operaciones de alineación) y mucho más. Consulte la documentación para obtener una lista completa de los atributos a los que se puede acceder a través del objeto.readpysamread"
      ],
      "metadata": {
        "id": "71KiH17Xuxdp"
      }
    },
    {
      "source": [
        "!head aligned_reads.sam"
      ],
      "cell_type": "code",
      "metadata": {
        "colab": {
          "base_uri": "https://localhost:8080/"
        },
        "id": "DUFWryFPAkZf",
        "outputId": "e996af4f-ffb6-4f6a-8500-66213ada33bd"
      },
      "execution_count": 70,
      "outputs": [
        {
          "output_type": "stream",
          "name": "stdout",
          "text": [
            "@SQ\tSN:NM_000130.5\tLN:9132\n",
            "@PG\tID:bwa\tPN:bwa\tVN:0.7.17-r1188\tCL:bwa mem /content/adn_covid.fasta /rna_arg.fasta -o aligned_reads.sam\n",
            "NM_000130.5\t0\tNM_000130.5\t1\t60\t9132M\t*\t0\t0\tATTGCAGCTGGGACAGCCCGGAGTGTGGTTAGCAGCTCGGCAAGCGCTGCCCAGGTCCTGGGGTGGTGGCAGCCAGCGGGAGCAGGAAAGGAAGCATGTTCCCAGGCTGCCCACGCCTCTGGGTCCTGGTGGTCTTGGGCACCAGCTGGGTAGGCTGGGGGAGCCAAGGGACAGAAGCGGCACAGCTAAGGCAGTTCTACGTGGCTGCTCAGGGCATCAGTTGGAGCTACCGACCTGAGCCCACAAACTCAAGTTTGAATCTTTCTGTAACTTCCTTTAAGAAAATTGTCTACAGAGAGTATGAACCATATTTTAAGAAAGAAAAACCACAATCTACCATTTCAGGACTTCTTGGGCCTACTTTATATGCTGAAGTCGGAGACATCATAAAAGTTCACTTTAAAAATAAGGCAGATAAGCCCTTGAGCATCCATCCTCAAGGAATTAGGTACAGTAAATTATCAGAAGGTGCTTCTTACCTTGACCACACATTCCCTGCGGAGAAGATGGACGACGCTGTGGCTCCAGGCCGAGAATACACCTATGAATGGAGTATCAGTGAGGACAGTGGACCCACCCATGATGACCCTCCATGCCTCACACACATCTATTACTCCCATGAAAATCTGATCGAGGATTTCAACTCGGGGCTGATTGGGCCCCTGCTTATCTGTAAAAAAGGGACCCTAACTGAGGGTGGGACACAGAAGACGTTTGACAAGCAAATCGTGCTACTATTTGCTGTGTTTGATGAAAGCAAGAGCTGGAGCCAGTCATCATCCCTAATGTACACAGTCAATGGATATGTGAATGGGACAATGCCAGATATAACAGTTTGTGCCCATGACCACATCAGCTGGCATCTGCTGGGAATGAGCTCGGGGCCAGAATTATTCTCCATTCATTTCAACGGCCAGGTCCTGGAGCAGAACCATCATAAGGTCTCAGCCATCACCCTTGTCAGTGCTACATCCACTACCGCAAATATGACTGTGGGCCCAGAGGGAAAGTGGATCATATCTTCTCTCACCCCAAAACATTTGCAAGCTGGGATGCAGGCTTACATTGACATTAAAAACTGCCCAAAGAAAACCAGGAATCTTAAGAAAATAACTCGTGAGCAGAGGCGGCACATGAAGAGGTGGGAATACTTCATTGCTGCAGAGGAAGTCATTTGGGACTATGCACCTGTAATACCAGCGAATATGGACAAAAAATACAGGTCTCAGCATTTGGATAATTTCTCAAACCAAATTGGAAAACATTATAAGAAAGTTATGTACACACAGTACGAAGATGAGTCCTTCACCAAACATACAGTGAATCCCAATATGAAAGAAGATGGGATTTTGGGTCCTATTATCAGAGCCCAGGTCAGAGACACACTCAAAATCGTGTTCAAAAATATGGCCAGCCGCCCCTATAGCATTTACCCTCATGGAGTGACCTTCTCGCCTTATGAAGATGAAGTCAACTCTTCTTTCACCTCAGGCAGGAACAACACCATGATCAGAGCAGTTCAACCAGGGGAAACCTATACTTATAAGTGGAACATCTTAGAGTTTGATGAACCCACAGAAAATGATGCCCAGTGCTTAACAAGACCATACTACAGTGACGTGGACATCATGAGAGACATCGCCTCTGGGCTAATAGGACTACTTCTAATCTGTAAGAGCAGATCCCTGGACAGGCGAGGAATACAGAGGGCAGCAGACATCGAACAGCAGGCTGTGTTTGCTGTGTTTGATGAGAACAAAAGCTGGTACCTTGAGGACAACATCAACAAGTTTTGTGAAAATCCTGATGAGGTGAAACGTGATGACCCCAAGTTTTATGAATCAAACATCATGAGCACTATCAATGGCTATGTGCCTGAGAGCATAACTACTCTTGGATTCTGCTTTGATGACACTGTCCAGTGGCACTTCTGTAGTGTGGGGACCCAGAATGAAATTTTGACCATCCACTTCACTGGGCACTCATTCATCTATGGAAAGAGGCATGAGGACACCTTGACCCTCTTCCCCATGCGTGGAGAATCTGTGACGGTCACAATGGATAATGTTGGAACTTGGATGTTAACTTCCATGAATTCTAGTCCAAGAAGCAAAAAGCTGAGGCTGAAATTCAGGGATGTTAAATGTATCCCAGATGATGATGAAGACTCATATGAGATTTTTGAACCTCCAGAATCTACAGTCATGGCTACACGGAAAATGCATGATCGTTTAGAACCTGAAGATGAAGAGAGTGATGCTGACTATGATTACCAGAACAGACTGGCTGCAGCATTAGGAATCAGGTCATTCCGAAACTCATCATTGAATCAGGAAGAAGAAGAGTTCAATCTTACTGCCCTAGCTCTGGAGAATGGCACTGAATTCGTTTCTTCAAACACAGATATAATTGTTGGTTCAAATTATTCTTCCCCAAGTAATATTAGTAAGTTCACTGTCAATAACCTTGCAGAACCTCAGAAAGCCCCTTCTCACCAACAAGCCACCACAGCTGGTTCCCCACTGAGACACCTCATTGGCAAGAACTCAGTTCTCAATTCTTCCACAGCAGAGCATTCCAGCCCATATTCTGAAGACCCTATAGAGGATCCTCTACAGCCAGATGTCACAGGGATACGTCTACTTTCACTTGGTGCTGGAGAATTCAAAAGTCAAGAACATGCTAAGCATAAGGGACCCAAGGTAGAAAGAGATCAAGCAGCAAAGCACAGGTTCTCCTGGATGAAATTACTAGCACATAAAGTTGGGAGACACCTAAGCCAAGACACTGGTTCTCCTTCCGGAATGAGGCCCTGGGAGGACCTTCCTAGCCAAGACACTGGTTCTCCTTCCAGAATGAGGCCCTGGAAGGACCCTCCTAGTGATCTGTTACTCTTAAAACAAAGTAACTCATCTAAGATTTTGGTTGGGAGATGGCATTTGGCTTCTGAGAAAGGTAGCTATGAAATAATCCAAGATACTGATGAAGACACAGCTGTTAACAATTGGCTGATCAGCCCCCAGAATGCCTCACGTGCTTGGGGAGAAAGCACCCCTCTTGCCAACAAGCCTGGAAAGCAGAGTGGCCACCCAAAGTTTCCTAGAGTTAGACATAAATCTCTACAAGTAAGACAGGATGGAGGAAAGAGTAGACTGAAGAAAAGCCAGTTTCTCATTAAGACACGAAAAAAGAAAAAAGAGAAGCACACACACCATGCTCCTTTATCTCCGAGGACCTTTCACCCTCTAAGAAGTGAAGCCTACAACACATTTTCAGAAAGAAGACTTAAGCATTCGTTGGTGCTTCATAAATCCAATGAAACATCTCTTCCCACAGACCTCAATCAGACATTGCCCTCTATGGATTTTGGCTGGATAGCCTCACTTCCTGACCATAATCAGAATTCCTCAAATGACACTGGTCAGGCAAGCTGTCCTCCAGGTCTTTATCAGACAGTGCCCCCAGAGGAACACTATCAAACATTCCCCATTCAAGACCCTGATCAAATGCACTCTACTTCAGACCCCAGTCACAGATCCTCTTCTCCAGAGCTCAGTGAAATGCTTGAGTATGACCGAAGTCACAAGTCCTTCCCCACAGATATAAGTCAAATGTCCCCTTCCTCAGAACATGAAGTCTGGCAGACAGTCATCTCTCCAGACCTCAGCCAGGTGACCCTCTCTCCAGAACTCAGCCAGACAAACCTCTCTCCAGACCTCAGCCACACGACTCTCTCTCCAGAACTCATTCAGAGAAACCTTTCCCCAGCCCTCGGTCAGATGCCCATTTCTCCAGACCTCAGCCATACAACCCTTTCTCCAGACCTCAGCCATACAACCCTTTCTTTAGACCTCAGCCAGACAAACCTCTCTCCAGAACTCAGTCAGACAAACCTTTCTCCAGCCCTCGGTCAGATGCCCCTTTCTCCAGACCTCAGCCATACAACCCTTTCTCTAGACTTCAGCCAGACAAACCTCTCTCCAGAACTCAGCCATATGACTCTCTCTCCAGAACTCAGTCAGACAAACCTTTCCCCAGCCCTCGGTCAGATGCCCATTTCTCCAGACCTCAGCCATACAACCCTTTCTCTAGACTTCAGCCAGACAAACCTCTCTCCAGAACTCAGTCAAACAAACCTTTCCCCAGCCCTCGGTCAGATGCCCCTTTCTCCAGACCCCAGCCATACAACCCTTTCTCTAGACCTCAGCCAGACAAACCTCTCTCCAGAACTCAGTCAGACAAACCTTTCCCCAGACCTCAGTGAGATGCCCCTCTTTGCAGATCTCAGTCAAATTCCCCTTACCCCAGACCTCGACCAGATGACACTTTCTCCAGACCTTGGTGAGACAGATCTTTCCCCAAACTTTGGTCAGATGTCCCTTTCCCCAGACCTCAGCCAGGTGACTCTCTCTCCAGACATCAGTGACACCACCCTTCTCCCGGATCTCAGCCAGATATCACCTCCTCCAGACCTTGATCAGATATTCTACCCTTCTGAATCTAGTCAGTCATTGCTTCTTCAAGAATTTAATGAGTCTTTTCCTTATCCAGACCTTGGTCAGATGCCATCTCCTTCATCTCCTACTCTCAATGATACTTTTCTATCAAAGGAATTTAATCCACTGGTTATAGTGGGCCTCAGTAAAGATGGTACAGATTACATTGAGATCATTCCAAAGGAAGAGGTCCAGAGCAGTGAAGATGACTATGCTGAAATTGATTATGTGCCCTATGATGACCCCTACAAAACTGATGTTAGGACAAACATCAACTCCTCCAGAGATCCTGACAACATTGCAGCATGGTACCTCCGCAGCAACAATGGAAACAGAAGAAATTATTACATTGCTGCTGAAGAAATATCCTGGGATTATTCAGAATTTGTACAAAGGGAAACAGATATTGAAGACTCTGATGATATTCCAGAAGATACCACATATAAGAAAGTAGTTTTTCGAAAGTACCTCGACAGCACTTTTACCAAACGTGATCCTCGAGGGGAGTATGAAGAGCATCTCGGAATTCTTGGTCCTATTATCAGAGCTGAAGTGGATGATGTTATCCAAGTTCGTTTTAAAAATTTAGCATCCAGACCGTATTCTCTACATGCCCATGGACTTTCCTATGAAAAATCATCAGAGGGAAAGACTTATGAAGATGACTCTCCTGAATGGTTTAAGGAAGATAATGCTGTTCAGCCAAATAGCAGTTATACCTACGTATGGCATGCCACTGAGCGATCAGGGCCAGAAAGTCCTGGCTCTGCCTGTCGGGCTTGGGCCTACTACTCAGCTGTGAACCCAGAAAAAGATATTCACTCAGGCTTGATAGGTCCCCTCCTAATCTGCCAAAAAGGAATACTACATAAGGACAGCAACATGCCTATGGACATGAGAGAATTTGTCTTACTATTTATGACCTTTGATGAAAAGAAGAGCTGGTACTATGAAAAGAAGTCCCGAAGTTCTTGGAGACTCACATCCTCAGAAATGAAAAAATCCCATGAGTTTCACGCCATTAATGGGATGATCTACAGCTTGCCTGGCCTGAAAATGTATGAGCAAGAGTGGGTGAGGTTACACCTGCTGAACATAGGCGGCTCCCAAGACATTCACGTGGTTCACTTTCACGGCCAGACCTTGCTGGAAAATGGCAATAAACAGCACCAGTTAGGGGTCTGGCCCCTTCTGCCTGGTTCATTTAAAACTCTTGAAATGAAGGCATCAAAACCTGGCTGGTGGCTCCTAAACACAGAGGTTGGAGAAAACCAGAGAGCAGGGATGCAAACGCCATTTCTTATCATGGACAGAGACTGTAGGATGCCAATGGGACTAAGCACTGGTATCATATCTGATTCACAGATCAAGGCTTCAGAGTTTCTGGGTTACTGGGAGCCCAGATTAGCAAGATTAAACAATGGTGGATCTTATAATGCTTGGAGTGTAGAAAAACTTGCAGCAGAATTTGCCTCTAAACCTTGGATCCAGGTGGACATGCAAAAGGAAGTCATAATCACAGGGATCCAGACCCAAGGTGCCAAACACTACCTGAAGTCCTGCTATACCACAGAGTTCTATGTAGCTTACAGTTCCAACCAGATCAACTGGCAGATCTTCAAAGGGAACAGCACAAGGAATGTGATGTATTTTAATGGCAATTCAGATGCCTCTACAATAAAAGAGAATCAGTTTGACCCACCTATTGTGGCTAGATATATTAGGATCTCTCCAACTCGAGCCTATAACAGACCTACCCTTCGATTGGAACTGCAAGGTTGTGAGGTAAATGGATGTTCCACACCCCTGGGTATGGAAAATGGAAAGATAGAAAACAAGCAAATCACAGCTTCTTCGTTTAAGAAATCTTGGTGGGGAGATTACTGGGAACCCTTCCGTGCCCGTCTGAATGCCCAGGGACGTGTGAATGCCTGGCAAGCCAAGGCAAACAACAATAAGCAGTGGCTAGAAATTGATCTACTCAAGATCAAGAAGATAACGGCAATTATAACACAGGGCTGCAAGTCTCTGTCCTCTGAAATGTATGTAAAGAGCTATACCATCCACTACAGTGAGCAGGGAGTGGAATGGAAACCATACAGGCTGAAATCCTCCATGGTGGACAAGATTTTTGAAGGAAATACTAATACCAAAGGACATGTGAAGAACTTTTTCAACCCCCCAATCATTTCCAGGTTTATCCGTGTCATTCCTAAAACATGGAATCAAAGTATTGCACTTCGCCTGGAACTCTTTGGCTGTGATATTTACTAGAATTGAACATTCAAAAACCCCTGGAAGAGACTCTTTAAGACCTCAAACCATTTAGAATGGGCAATGTATTTTACGCTGTGTTAAATGTTAACAGTTTTCCACTATTTCTCTTTCTTTTCTATTAGTGAATAAAATTTTATACAAGAAGCTTTTATAATGTAACTCCTTGCTACCAGTAAGTAAGATAATGGCTATTACTTCTGCATTAATTTGAATACAGGTAGGAAAATATCAAGAACCAACAAGAAAAGGGCTTATCTTTCTTAATGATTGAAAATGCTATGAAGTAATATTTATGTAGTTAAAATGCTTCATTATAACTCTTTTAAATCCTTTACACACTAGTAAAACAGATATTACTTTAAATAATAATTGATAGACCTGGATAACTTTCACAAACACATGATTTTTTAATGGTTTTTCTTGAGTGAAGAGAAAAACAATATTATCAAATGAAATAAGTACTTAAAATATCCTGTCTTTCCCATATAACAATGATTTTTCTGACTTTCCATGAGTAAAAAAACAGCCAAGCATCTTTCCAGTAGCCCCATTGAAATTGTGAATCCGTCCTGGTCTCCCTAAGGACTGCACACATTGATATTCAAGGTTGGTGGTCATTAGATATGGAACAGAACTGAAATAACCATGGTAGAACTGAATGTGTAATGTTGGCTTTATTCTAGCTGGTACTACATGGCACACAGTTTCAAAACATAATTTCACCTACTGGAAAGCTCAGACCTGTAAAACAGAGCATGGGAACTGCTGGTCTAAATGCAGTTGTTCCTGCTCAAAGAGACCTCTGGCCAAACTGGCAAGCAGTTAAAGTTTTCTTTCAGGGCCTTCCTCTCTATGGCCTCAACTTCCTCCTCTCTCTTCTTCCAGCAACTTCCCCTTTCATCATTCCTTTCCCTGGGGACTTGGCATTCAGTGATCCTGTAGATATTGCACAACTGGGGAACCTTTAGACATCCTTAAAATCACATGAGATAGACAGTCATTTGGGGTGTCTGAAATAAACCACCCCAAAACTTAGTGTTAAAAGAGCAACCAAAAAAAATTTATGTGAGATTATGGATTTGTTACTTAGCTTGATTTAATCATCCTGTAACGTGTACATATATCAAAATGTTATGTATACCATAAATATATAAAATTTTATCAACGAAATTCATAACAATCTCTCAGACCACAGAGAAATCAAATTAGAACTGAGGACTAAGAAACTCACTCGAAACCACACAACTACATGGAAACTGAACAACCTGCTCCTGAATGACTACTGGGTAAATAATGAAATTAAGGCAGAAATAAATAAGTTCCTTAAAACCAATGAGAACAAAGAGACAACATACCAGAATCTCTAGGAGACAGGGCTTTGCTTTTGCTGCATTCTATTCGTTGTGAACACAAATTACAGGCCAGTCTCGATTCAGTGTAGAAGGGAACTGCATAAGGACCACATACCAGGAGGCATAATTCACTGGGAGCATCTTTAGAAACTACCAGAGTTACCTGTTGCCCATACCAGTGGGGTAAGCCCTATGAATGTATATGAGAGTTTCAAACATCCACAAAACATTGGCTTTCTAATATTCGTATTCCCACTATTCCTTTCTTTTCATGATTCATGTCATTGTCCCATCAACATTTCTAAGATTTCCATTCCGTTAAGAGCAAAAGAGAATGTTGGAAGGTGGGGGAAAACATTTCTTTGTTTTCTACAGGGCCAGCTTCTTGGATGTGTGTGATCTGTTCAGTTGCAAAGGGTCACATGCTCAGAAGGACCGCATGCTAAATTTAATGCTTTGCAGTTACCCTCTTGAAATCCTTTATTTTTTAAGAAGGAATTCGACATTTCCATTTTTCAATGAGCCCCACAAATTACGCAGCTAGTCCTGGGCTTCTCTACTCTGAAATTGGGCAGGATCTCTCTTGATCTAGAATTTACTAAGGCATAATAGGGGCAAGAAAATCTTATGAAATAATGGGGGGTAGGGAAGAGATGGGAATGGAGCATGAGATCCAGCTTCGTTATTCTCTACTTGAGAAAAATAAGGCCCCAAAGATTAAACAACTTGCCCAAGGATATTGCTTGTTAGTGTCAGAACTGAAACCAGAAACCAAATGATCATATCCCTAGACTTTTAGTCTGCTTTCTCTTCCATAAAATGAAACTTATAATGTTTCTAATCCATTGCTCAGACAGGTAGACATGAATATTAATTGATAATGACTATTAATTGATCTGGAAAATACTTGTTTGGGGATCAATAATATGTTTGGGCTATTATCTAATGCTGTGTAGAAATATTAAAACCCCTGTTATTTTGAAATAAAAAAGATACCCACTTTTTAT\t*\tNM:i:0\tMD:Z:9132\tAS:i:9132\tXS:i:0\n"
          ]
        }
      ]
    },
    {
      "cell_type": "code",
      "source": [
        "samfile.close()"
      ],
      "metadata": {
        "id": "_0Vr7_7QNn7q"
      },
      "execution_count": 76,
      "outputs": []
    },
    {
      "source": [
        "import pysam\n",
        "\n",
        "samfile = pysam.AlignmentFile(output_sam, \"r\")\n",
        "for read in samfile:\n",
        "    print(read.mapping_quality) # Use mapping_quality instead of alignment_quality\n",
        "samfile.close()"
      ],
      "cell_type": "code",
      "metadata": {
        "id": "aR5igVBm9QA2",
        "colab": {
          "base_uri": "https://localhost:8080/"
        },
        "outputId": "c64e9f3d-318e-46c6-8018-201ae2f0d1df"
      },
      "execution_count": 77,
      "outputs": [
        {
          "output_type": "stream",
          "name": "stdout",
          "text": [
            "60\n"
          ]
        }
      ]
    }
  ]
}