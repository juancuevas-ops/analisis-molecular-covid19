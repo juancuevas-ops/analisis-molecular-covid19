{
  "nbformat": 4,
  "nbformat_minor": 0,
  "metadata": {
    "colab": {
      "provenance": [],
      "authorship_tag": "ABX9TyPcEWz7DbqN5MIzQ7OBpqv3",
      "include_colab_link": true
    },
    "kernelspec": {
      "name": "python3",
      "display_name": "Python 3"
    },
    "language_info": {
      "name": "python"
    }
  },
  "cells": [
    {
      "cell_type": "markdown",
      "metadata": {
        "id": "view-in-github",
        "colab_type": "text"
      },
      "source": [
        "<a href=\"https://colab.research.google.com/github/juancuevas-ops/analisis-molecular-covid19/blob/main/matriz_putuacion_s_itpr.ipynb\" target=\"_parent\"><img src=\"https://colab.research.google.com/assets/colab-badge.svg\" alt=\"Open In Colab\"/></a>"
      ]
    },
    {
      "cell_type": "markdown",
      "source": [
        "#INGENIERIA INVERSA A PROTEINAS ITRP1 Y PROTEINA DE SUPERFICIE (S)"
      ],
      "metadata": {
        "id": "iJoUZXiN5Uvl"
      }
    },
    {
      "cell_type": "code",
      "source": [
        "import Bio\n",
        "print(Bio.__version__)"
      ],
      "metadata": {
        "colab": {
          "base_uri": "https://localhost:8080/"
        },
        "id": "lVUmf7rEkqGu",
        "outputId": "e2aaadc4-d088-4846-c2e9-382cf7b573d8"
      },
      "execution_count": 30,
      "outputs": [
        {
          "output_type": "stream",
          "name": "stdout",
          "text": [
            "1.85\n"
          ]
        }
      ]
    },
    {
      "cell_type": "code",
      "source": [
        "!pip install Bio\n",
        "!pip install --upgrade biopython\n",
        "from Bio import pairwise2\n",
        "from Bio.Align import substitution_matrices\n",
        "#from Bio.Align import format_alignment\n",
        "\n",
        "# Secuencias de ejemplo\n",
        "seq1 = \"ATGTTTGTTTTTCTTGTTTTATTGCCACTAGTCT\"\n",
        "seq2 = \"GCAGTAACCATGTGGATGTGCTGCTGAAGCGTTT\"\n",
        "\n",
        "# Matriz de puntuación (BLOSUM62)\n",
        "try:\n",
        "    matrix = substitution_matrices.load(\"BLOSUM62\")\n",
        "except ValueError:\n",
        "    print(\"La matriz BLOSUM62 no se encontró. Asegúrate de que BioPython esté instalado correctamente.\")\n",
        "    exit()\n",
        "\n",
        "# Alineamiento global con puntuación\n",
        "alignments = pairwise2.align.globalds(seq1, seq2, matrix, -10, -0.5)\n",
        "\n",
        "# Imprimir el mejor alineamiento\n",
        "top_alignment = alignments[0]\n",
        "print(format_alignment(*top_alignment))\n",
        "\n",
        "# Matriz de similitud (simple: coincidencias y diferencias)\n",
        "def simple_similarity_matrix(seq1, seq2):\n",
        "    matrix = [[0 for j in range(len(seq2))] for i in range(len(seq1))]\n",
        "    for i in range(len(seq1)):\n",
        "        for j in range(len(seq2)):\n",
        "            if seq1[i] == seq2[j]:\n",
        "                matrix[i][j] = 1\n",
        "    return matrix\n",
        "\n",
        "similarity_matrix = simple_similarity_matrix(seq1, seq2)\n",
        "\n",
        "# Imprimir la matriz de similitud\n",
        "print(\"Matriz de similitud:\")\n",
        "for row in similarity_matrix:\n",
        "    print(row)"
      ],
      "metadata": {
        "colab": {
          "base_uri": "https://localhost:8080/"
        },
        "id": "fmI3TzvWrsdq",
        "outputId": "66cc5572-7c75-4520-f075-5d709f34215d"
      },
      "execution_count": 31,
      "outputs": [
        {
          "output_type": "stream",
          "name": "stdout",
          "text": [
            "Requirement already satisfied: Bio in /usr/local/lib/python3.11/dist-packages (1.7.1)\n",
            "Requirement already satisfied: biopython>=1.80 in /usr/local/lib/python3.11/dist-packages (from Bio) (1.85)\n",
            "Requirement already satisfied: gprofiler-official in /usr/local/lib/python3.11/dist-packages (from Bio) (1.0.0)\n",
            "Requirement already satisfied: mygene in /usr/local/lib/python3.11/dist-packages (from Bio) (3.2.2)\n",
            "Requirement already satisfied: pandas in /usr/local/lib/python3.11/dist-packages (from Bio) (2.2.2)\n",
            "Requirement already satisfied: pooch in /usr/local/lib/python3.11/dist-packages (from Bio) (1.8.2)\n",
            "Requirement already satisfied: requests in /usr/local/lib/python3.11/dist-packages (from Bio) (2.32.3)\n",
            "Requirement already satisfied: tqdm in /usr/local/lib/python3.11/dist-packages (from Bio) (4.67.1)\n",
            "Requirement already satisfied: numpy in /usr/local/lib/python3.11/dist-packages (from biopython>=1.80->Bio) (1.26.4)\n",
            "Requirement already satisfied: biothings-client>=0.2.6 in /usr/local/lib/python3.11/dist-packages (from mygene->Bio) (0.4.1)\n",
            "Requirement already satisfied: python-dateutil>=2.8.2 in /usr/local/lib/python3.11/dist-packages (from pandas->Bio) (2.8.2)\n",
            "Requirement already satisfied: pytz>=2020.1 in /usr/local/lib/python3.11/dist-packages (from pandas->Bio) (2025.1)\n",
            "Requirement already satisfied: tzdata>=2022.7 in /usr/local/lib/python3.11/dist-packages (from pandas->Bio) (2025.1)\n",
            "Requirement already satisfied: platformdirs>=2.5.0 in /usr/local/lib/python3.11/dist-packages (from pooch->Bio) (4.3.6)\n",
            "Requirement already satisfied: packaging>=20.0 in /usr/local/lib/python3.11/dist-packages (from pooch->Bio) (24.2)\n",
            "Requirement already satisfied: charset-normalizer<4,>=2 in /usr/local/lib/python3.11/dist-packages (from requests->Bio) (3.4.1)\n",
            "Requirement already satisfied: idna<4,>=2.5 in /usr/local/lib/python3.11/dist-packages (from requests->Bio) (3.10)\n",
            "Requirement already satisfied: urllib3<3,>=1.21.1 in /usr/local/lib/python3.11/dist-packages (from requests->Bio) (2.3.0)\n",
            "Requirement already satisfied: certifi>=2017.4.17 in /usr/local/lib/python3.11/dist-packages (from requests->Bio) (2025.1.31)\n",
            "Requirement already satisfied: httpx>=0.22.0 in /usr/local/lib/python3.11/dist-packages (from biothings-client>=0.2.6->mygene->Bio) (0.28.1)\n",
            "Requirement already satisfied: six>=1.5 in /usr/local/lib/python3.11/dist-packages (from python-dateutil>=2.8.2->pandas->Bio) (1.17.0)\n",
            "Requirement already satisfied: anyio in /usr/local/lib/python3.11/dist-packages (from httpx>=0.22.0->biothings-client>=0.2.6->mygene->Bio) (3.7.1)\n",
            "Requirement already satisfied: httpcore==1.* in /usr/local/lib/python3.11/dist-packages (from httpx>=0.22.0->biothings-client>=0.2.6->mygene->Bio) (1.0.7)\n",
            "Requirement already satisfied: h11<0.15,>=0.13 in /usr/local/lib/python3.11/dist-packages (from httpcore==1.*->httpx>=0.22.0->biothings-client>=0.2.6->mygene->Bio) (0.14.0)\n",
            "Requirement already satisfied: sniffio>=1.1 in /usr/local/lib/python3.11/dist-packages (from anyio->httpx>=0.22.0->biothings-client>=0.2.6->mygene->Bio) (1.3.1)\n",
            "Requirement already satisfied: biopython in /usr/local/lib/python3.11/dist-packages (1.85)\n",
            "Requirement already satisfied: numpy in /usr/local/lib/python3.11/dist-packages (from biopython) (1.26.4)\n",
            "ATGTTTGTTTTTCTTGTTTTATTGCCACT----AGTCT\n",
            ".    ...|...|.|||.....|||..||    .||.|\n",
            "G----CAGTAACCATGTGGATGTGCTGCTGAAGCGTTT\n",
            "  Score=45\n",
            "\n",
            "Matriz de similitud:\n",
            "[0, 0, 1, 0, 0, 1, 1, 0, 0, 1, 0, 0, 0, 0, 0, 1, 0, 0, 0, 0, 0, 0, 0, 0, 0, 0, 1, 1, 0, 0, 0, 0, 0, 0]\n",
            "[0, 0, 0, 0, 1, 0, 0, 0, 0, 0, 1, 0, 1, 0, 0, 0, 1, 0, 1, 0, 0, 1, 0, 0, 1, 0, 0, 0, 0, 0, 0, 1, 1, 1]\n",
            "[1, 0, 0, 1, 0, 0, 0, 0, 0, 0, 0, 1, 0, 1, 1, 0, 0, 1, 0, 1, 0, 0, 1, 0, 0, 1, 0, 0, 1, 0, 1, 0, 0, 0]\n",
            "[0, 0, 0, 0, 1, 0, 0, 0, 0, 0, 1, 0, 1, 0, 0, 0, 1, 0, 1, 0, 0, 1, 0, 0, 1, 0, 0, 0, 0, 0, 0, 1, 1, 1]\n",
            "[0, 0, 0, 0, 1, 0, 0, 0, 0, 0, 1, 0, 1, 0, 0, 0, 1, 0, 1, 0, 0, 1, 0, 0, 1, 0, 0, 0, 0, 0, 0, 1, 1, 1]\n",
            "[0, 0, 0, 0, 1, 0, 0, 0, 0, 0, 1, 0, 1, 0, 0, 0, 1, 0, 1, 0, 0, 1, 0, 0, 1, 0, 0, 0, 0, 0, 0, 1, 1, 1]\n",
            "[1, 0, 0, 1, 0, 0, 0, 0, 0, 0, 0, 1, 0, 1, 1, 0, 0, 1, 0, 1, 0, 0, 1, 0, 0, 1, 0, 0, 1, 0, 1, 0, 0, 0]\n",
            "[0, 0, 0, 0, 1, 0, 0, 0, 0, 0, 1, 0, 1, 0, 0, 0, 1, 0, 1, 0, 0, 1, 0, 0, 1, 0, 0, 0, 0, 0, 0, 1, 1, 1]\n",
            "[0, 0, 0, 0, 1, 0, 0, 0, 0, 0, 1, 0, 1, 0, 0, 0, 1, 0, 1, 0, 0, 1, 0, 0, 1, 0, 0, 0, 0, 0, 0, 1, 1, 1]\n",
            "[0, 0, 0, 0, 1, 0, 0, 0, 0, 0, 1, 0, 1, 0, 0, 0, 1, 0, 1, 0, 0, 1, 0, 0, 1, 0, 0, 0, 0, 0, 0, 1, 1, 1]\n",
            "[0, 0, 0, 0, 1, 0, 0, 0, 0, 0, 1, 0, 1, 0, 0, 0, 1, 0, 1, 0, 0, 1, 0, 0, 1, 0, 0, 0, 0, 0, 0, 1, 1, 1]\n",
            "[0, 0, 0, 0, 1, 0, 0, 0, 0, 0, 1, 0, 1, 0, 0, 0, 1, 0, 1, 0, 0, 1, 0, 0, 1, 0, 0, 0, 0, 0, 0, 1, 1, 1]\n",
            "[0, 1, 0, 0, 0, 0, 0, 1, 1, 0, 0, 0, 0, 0, 0, 0, 0, 0, 0, 0, 1, 0, 0, 1, 0, 0, 0, 0, 0, 1, 0, 0, 0, 0]\n",
            "[0, 0, 0, 0, 1, 0, 0, 0, 0, 0, 1, 0, 1, 0, 0, 0, 1, 0, 1, 0, 0, 1, 0, 0, 1, 0, 0, 0, 0, 0, 0, 1, 1, 1]\n",
            "[0, 0, 0, 0, 1, 0, 0, 0, 0, 0, 1, 0, 1, 0, 0, 0, 1, 0, 1, 0, 0, 1, 0, 0, 1, 0, 0, 0, 0, 0, 0, 1, 1, 1]\n",
            "[1, 0, 0, 1, 0, 0, 0, 0, 0, 0, 0, 1, 0, 1, 1, 0, 0, 1, 0, 1, 0, 0, 1, 0, 0, 1, 0, 0, 1, 0, 1, 0, 0, 0]\n",
            "[0, 0, 0, 0, 1, 0, 0, 0, 0, 0, 1, 0, 1, 0, 0, 0, 1, 0, 1, 0, 0, 1, 0, 0, 1, 0, 0, 0, 0, 0, 0, 1, 1, 1]\n",
            "[0, 0, 0, 0, 1, 0, 0, 0, 0, 0, 1, 0, 1, 0, 0, 0, 1, 0, 1, 0, 0, 1, 0, 0, 1, 0, 0, 0, 0, 0, 0, 1, 1, 1]\n",
            "[0, 0, 0, 0, 1, 0, 0, 0, 0, 0, 1, 0, 1, 0, 0, 0, 1, 0, 1, 0, 0, 1, 0, 0, 1, 0, 0, 0, 0, 0, 0, 1, 1, 1]\n",
            "[0, 0, 0, 0, 1, 0, 0, 0, 0, 0, 1, 0, 1, 0, 0, 0, 1, 0, 1, 0, 0, 1, 0, 0, 1, 0, 0, 0, 0, 0, 0, 1, 1, 1]\n",
            "[0, 0, 1, 0, 0, 1, 1, 0, 0, 1, 0, 0, 0, 0, 0, 1, 0, 0, 0, 0, 0, 0, 0, 0, 0, 0, 1, 1, 0, 0, 0, 0, 0, 0]\n",
            "[0, 0, 0, 0, 1, 0, 0, 0, 0, 0, 1, 0, 1, 0, 0, 0, 1, 0, 1, 0, 0, 1, 0, 0, 1, 0, 0, 0, 0, 0, 0, 1, 1, 1]\n",
            "[0, 0, 0, 0, 1, 0, 0, 0, 0, 0, 1, 0, 1, 0, 0, 0, 1, 0, 1, 0, 0, 1, 0, 0, 1, 0, 0, 0, 0, 0, 0, 1, 1, 1]\n",
            "[1, 0, 0, 1, 0, 0, 0, 0, 0, 0, 0, 1, 0, 1, 1, 0, 0, 1, 0, 1, 0, 0, 1, 0, 0, 1, 0, 0, 1, 0, 1, 0, 0, 0]\n",
            "[0, 1, 0, 0, 0, 0, 0, 1, 1, 0, 0, 0, 0, 0, 0, 0, 0, 0, 0, 0, 1, 0, 0, 1, 0, 0, 0, 0, 0, 1, 0, 0, 0, 0]\n",
            "[0, 1, 0, 0, 0, 0, 0, 1, 1, 0, 0, 0, 0, 0, 0, 0, 0, 0, 0, 0, 1, 0, 0, 1, 0, 0, 0, 0, 0, 1, 0, 0, 0, 0]\n",
            "[0, 0, 1, 0, 0, 1, 1, 0, 0, 1, 0, 0, 0, 0, 0, 1, 0, 0, 0, 0, 0, 0, 0, 0, 0, 0, 1, 1, 0, 0, 0, 0, 0, 0]\n",
            "[0, 1, 0, 0, 0, 0, 0, 1, 1, 0, 0, 0, 0, 0, 0, 0, 0, 0, 0, 0, 1, 0, 0, 1, 0, 0, 0, 0, 0, 1, 0, 0, 0, 0]\n",
            "[0, 0, 0, 0, 1, 0, 0, 0, 0, 0, 1, 0, 1, 0, 0, 0, 1, 0, 1, 0, 0, 1, 0, 0, 1, 0, 0, 0, 0, 0, 0, 1, 1, 1]\n",
            "[0, 0, 1, 0, 0, 1, 1, 0, 0, 1, 0, 0, 0, 0, 0, 1, 0, 0, 0, 0, 0, 0, 0, 0, 0, 0, 1, 1, 0, 0, 0, 0, 0, 0]\n",
            "[1, 0, 0, 1, 0, 0, 0, 0, 0, 0, 0, 1, 0, 1, 1, 0, 0, 1, 0, 1, 0, 0, 1, 0, 0, 1, 0, 0, 1, 0, 1, 0, 0, 0]\n",
            "[0, 0, 0, 0, 1, 0, 0, 0, 0, 0, 1, 0, 1, 0, 0, 0, 1, 0, 1, 0, 0, 1, 0, 0, 1, 0, 0, 0, 0, 0, 0, 1, 1, 1]\n",
            "[0, 1, 0, 0, 0, 0, 0, 1, 1, 0, 0, 0, 0, 0, 0, 0, 0, 0, 0, 0, 1, 0, 0, 1, 0, 0, 0, 0, 0, 1, 0, 0, 0, 0]\n",
            "[0, 0, 0, 0, 1, 0, 0, 0, 0, 0, 1, 0, 1, 0, 0, 0, 1, 0, 1, 0, 0, 1, 0, 0, 1, 0, 0, 0, 0, 0, 0, 1, 1, 1]\n"
          ]
        }
      ]
    },
    {
      "cell_type": "markdown",
      "source": [
        "en el alineamiento se encuentran genes identicos tales como TIMINA,GUANINA Y CITOCINA."
      ],
      "metadata": {
        "id": "Y6FYhMiL25CD"
      }
    },
    {
      "cell_type": "markdown",
      "source": [
        "Dicho esto, algunos de los codones que mencione codifican aminoácidos que forman parte de proteínas que están involucradas en la regulación del calcio intracelular. Aquí hay algunos ejemplos:\n",
        "\n",
        "Codones que codifican para aminoácidos en canales de calcio:\n",
        "Los canales de calcio son proteínas que controlan el flujo de iones de calcio a través de las membranas celulares. Mutaciones en los genes que codifican para estos canales pueden alterar la función del canal y afectar los niveles de calcio intracelular.\n",
        "Por ejemplo, los codones que codifican para aminoácidos en los canales de calcio dependientes de voltaje son cruciales para su correcto funcionamiento.\n",
        "Codones que codifican para aminoácidos en proteínas de unión a calcio:\n",
        "Las proteínas de unión a calcio, como la calmodulina, juegan un papel importante en la regulación de la señalización del calcio. Mutaciones en los genes que codifican para estas proteínas pueden alterar su capacidad de unirse al calcio y afectar las vías de señalización dependientes del calcio.\n",
        "Los codones que codifican la Cisteína, pueden ser relevantes, debido a que esta forma parte de proteinas que regulan el calcio.\n",
        "Codones que codifican para aminoácidos en receptores de membrana:\n",
        "Los receptores de membrana, como los GPCRs y los RTKs, pueden activar vías de señalización que aumentan o disminuyen los niveles de calcio intracelular. Mutaciones en los genes que codifican para estos receptores pueden alterar su capacidad de responder a los ligandos y afectar la señalización del calcio."
      ],
      "metadata": {
        "id": "QbsNv6up12-P"
      }
    },
    {
      "cell_type": "markdown",
      "source": [
        "La calmodulina es una proteína, y como tal, está codificada por genes en el ADN. Por lo tanto, no pertenece a un único nucleótido, sino a una secuencia de nucleótidos que forman un gen.\n",
        "\n",
        "Aquí hay algunos puntos clave sobre la calmodulina y su codificación genética:\n",
        "\n",
        "Genes de la calmodulina:\n",
        "Existen varios genes que codifican la calmodulina en los humanos, incluyendo CALM1, CALM2 y CALM3. Estos genes se encuentran en diferentes cromosomas.\n",
        "Estos genes contienen secuencias de nucleótidos (adenina, guanina, citosina y timina) que, a través del proceso de transcripción y traducción, dan lugar a la proteína calmodulina.\n",
        "Función de la calmodulina:\n",
        "La calmodulina es una proteína de unión al calcio que desempeña un papel crucial en la señalización del calcio intracelular.\n",
        "Participa en una amplia variedad de procesos celulares, incluyendo la contracción muscular, la señalización nerviosa y la regulación enzimática.\n",
        "Importancia clínica:\n",
        "Mutaciones en los genes de la calmodulina se han asociado con diversas enfermedades, particularmente arritmias cardíacas.\n",
        "En resumen, la calmodulina está codificada por múltiples genes en el ADN, y estos genes están compuestos por secuencias de nucleótidos"
      ],
      "metadata": {
        "id": "q-XX21IA6d9t"
      }
    },
    {
      "cell_type": "code",
      "source": [
        "# prompt: solo necesito el porcentaje de similitud recuerda las variables\n",
        "!pip install Bio\n",
        "from Bio import pairwise2\n",
        "#from Bio.Align import substitution_matrices, format_alignment\n",
        "\n",
        "# Secuencias de ejemplo\n",
        "seq1 = \"ATGTTTGTTTTTCTTGTTTTATTGCCACTAGTCT\"\n",
        "seq2 = \"GCAGTAACCATGTGGATGTGCTGCTGAAGCGTTT\"\n",
        "\n",
        "# Matriz de puntuación (BLOSUM62)\n",
        "matrix = substitution_matrices.load(\"BLOSUM62\")\n",
        "\n",
        "# Alineamiento global con puntuación\n",
        "alignments = pairwise2.align.globalds(seq1, seq2, matrix, -10, -0.5)\n",
        "\n",
        "# Obtener el mejor alineamiento\n",
        "top_alignment = alignments[0]\n",
        "\n",
        "# Calcular el porcentaje de similitud\n",
        "identical_matches = sum(1 for a, b in zip(top_alignment[0], top_alignment[1]) if a == b)\n",
        "alignment_length = len(top_alignment[0])  # o len(top_alignment[1])\n",
        "similarity_percentage = (identical_matches / alignment_length) * 100\n",
        "\n",
        "print(f\"Porcentaje de similitud: {similarity_percentage:.2f}%\")\n"
      ],
      "metadata": {
        "colab": {
          "base_uri": "https://localhost:8080/"
        },
        "id": "7KHSQJ2wtzZo",
        "outputId": "c6e8ce55-4b3f-4882-c147-1f83d33392ef"
      },
      "execution_count": 28,
      "outputs": [
        {
          "output_type": "stream",
          "name": "stdout",
          "text": [
            "Requirement already satisfied: Bio in /usr/local/lib/python3.11/dist-packages (1.7.1)\n",
            "Requirement already satisfied: biopython>=1.80 in /usr/local/lib/python3.11/dist-packages (from Bio) (1.85)\n",
            "Requirement already satisfied: gprofiler-official in /usr/local/lib/python3.11/dist-packages (from Bio) (1.0.0)\n",
            "Requirement already satisfied: mygene in /usr/local/lib/python3.11/dist-packages (from Bio) (3.2.2)\n",
            "Requirement already satisfied: pandas in /usr/local/lib/python3.11/dist-packages (from Bio) (2.2.2)\n",
            "Requirement already satisfied: pooch in /usr/local/lib/python3.11/dist-packages (from Bio) (1.8.2)\n",
            "Requirement already satisfied: requests in /usr/local/lib/python3.11/dist-packages (from Bio) (2.32.3)\n",
            "Requirement already satisfied: tqdm in /usr/local/lib/python3.11/dist-packages (from Bio) (4.67.1)\n",
            "Requirement already satisfied: numpy in /usr/local/lib/python3.11/dist-packages (from biopython>=1.80->Bio) (1.26.4)\n",
            "Requirement already satisfied: biothings-client>=0.2.6 in /usr/local/lib/python3.11/dist-packages (from mygene->Bio) (0.4.1)\n",
            "Requirement already satisfied: python-dateutil>=2.8.2 in /usr/local/lib/python3.11/dist-packages (from pandas->Bio) (2.8.2)\n",
            "Requirement already satisfied: pytz>=2020.1 in /usr/local/lib/python3.11/dist-packages (from pandas->Bio) (2025.1)\n",
            "Requirement already satisfied: tzdata>=2022.7 in /usr/local/lib/python3.11/dist-packages (from pandas->Bio) (2025.1)\n",
            "Requirement already satisfied: platformdirs>=2.5.0 in /usr/local/lib/python3.11/dist-packages (from pooch->Bio) (4.3.6)\n",
            "Requirement already satisfied: packaging>=20.0 in /usr/local/lib/python3.11/dist-packages (from pooch->Bio) (24.2)\n",
            "Requirement already satisfied: charset-normalizer<4,>=2 in /usr/local/lib/python3.11/dist-packages (from requests->Bio) (3.4.1)\n",
            "Requirement already satisfied: idna<4,>=2.5 in /usr/local/lib/python3.11/dist-packages (from requests->Bio) (3.10)\n",
            "Requirement already satisfied: urllib3<3,>=1.21.1 in /usr/local/lib/python3.11/dist-packages (from requests->Bio) (2.3.0)\n",
            "Requirement already satisfied: certifi>=2017.4.17 in /usr/local/lib/python3.11/dist-packages (from requests->Bio) (2025.1.31)\n",
            "Requirement already satisfied: httpx>=0.22.0 in /usr/local/lib/python3.11/dist-packages (from biothings-client>=0.2.6->mygene->Bio) (0.28.1)\n",
            "Requirement already satisfied: six>=1.5 in /usr/local/lib/python3.11/dist-packages (from python-dateutil>=2.8.2->pandas->Bio) (1.17.0)\n",
            "Requirement already satisfied: anyio in /usr/local/lib/python3.11/dist-packages (from httpx>=0.22.0->biothings-client>=0.2.6->mygene->Bio) (3.7.1)\n",
            "Requirement already satisfied: httpcore==1.* in /usr/local/lib/python3.11/dist-packages (from httpx>=0.22.0->biothings-client>=0.2.6->mygene->Bio) (1.0.7)\n",
            "Requirement already satisfied: h11<0.15,>=0.13 in /usr/local/lib/python3.11/dist-packages (from httpcore==1.*->httpx>=0.22.0->biothings-client>=0.2.6->mygene->Bio) (0.14.0)\n",
            "Requirement already satisfied: sniffio>=1.1 in /usr/local/lib/python3.11/dist-packages (from anyio->httpx>=0.22.0->biothings-client>=0.2.6->mygene->Bio) (1.3.1)\n",
            "Porcentaje de similitud: 34.21%\n"
          ]
        }
      ]
    }
  ]
}