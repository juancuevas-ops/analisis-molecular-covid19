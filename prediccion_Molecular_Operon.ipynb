{
  "nbformat": 4,
  "nbformat_minor": 0,
  "metadata": {
    "colab": {
      "name": "prediccion_Molecular_Operon.ipynb",
      "provenance": [],
      "authorship_tag": "ABX9TyNboCnySbH0wrOCFZDPAVw1",
      "include_colab_link": true
    },
    "kernelspec": {
      "name": "python3",
      "display_name": "Python 3"
    },
    "language_info": {
      "name": "python"
    }
  },
  "cells": [
    {
      "cell_type": "markdown",
      "metadata": {
        "id": "view-in-github",
        "colab_type": "text"
      },
      "source": [
        "<a href=\"https://colab.research.google.com/github/juancuevas-ops/analisis-molecular-covid19/blob/main/prediccion_Molecular_Operon.ipynb\" target=\"_parent\"><img src=\"https://colab.research.google.com/assets/colab-badge.svg\" alt=\"Open In Colab\"/></a>"
      ]
    },
    {
      "cell_type": "code",
      "execution_count": 1,
      "metadata": {
        "id": "5fDsOJn9pUR2",
        "outputId": "e112f91d-8f1a-4aaa-f22b-7bbb62d78c14",
        "colab": {
          "base_uri": "https://localhost:8080/"
        }
      },
      "outputs": [
        {
          "output_type": "stream",
          "name": "stdout",
          "text": [
            "Collecting Bio\n",
            "  Downloading bio-1.3.3-py3-none-any.whl (271 kB)\n",
            "\u001b[K     |████████████████████████████████| 271 kB 6.1 MB/s \n",
            "\u001b[?25hCollecting biopython>=1.79\n",
            "  Downloading biopython-1.79-cp37-cp37m-manylinux_2_5_x86_64.manylinux1_x86_64.whl (2.3 MB)\n",
            "\u001b[K     |████████████████████████████████| 2.3 MB 28.6 MB/s \n",
            "\u001b[?25hRequirement already satisfied: tqdm in /usr/local/lib/python3.7/dist-packages (from Bio) (4.63.0)\n",
            "Requirement already satisfied: requests in /usr/local/lib/python3.7/dist-packages (from Bio) (2.23.0)\n",
            "Collecting mygene\n",
            "  Downloading mygene-3.2.2-py2.py3-none-any.whl (5.4 kB)\n",
            "Requirement already satisfied: numpy in /usr/local/lib/python3.7/dist-packages (from biopython>=1.79->Bio) (1.21.5)\n",
            "Collecting biothings-client>=0.2.6\n",
            "  Downloading biothings_client-0.2.6-py2.py3-none-any.whl (37 kB)\n",
            "Requirement already satisfied: urllib3!=1.25.0,!=1.25.1,<1.26,>=1.21.1 in /usr/local/lib/python3.7/dist-packages (from requests->Bio) (1.24.3)\n",
            "Requirement already satisfied: idna<3,>=2.5 in /usr/local/lib/python3.7/dist-packages (from requests->Bio) (2.10)\n",
            "Requirement already satisfied: chardet<4,>=3.0.2 in /usr/local/lib/python3.7/dist-packages (from requests->Bio) (3.0.4)\n",
            "Requirement already satisfied: certifi>=2017.4.17 in /usr/local/lib/python3.7/dist-packages (from requests->Bio) (2021.10.8)\n",
            "Installing collected packages: biothings-client, mygene, biopython, Bio\n",
            "Successfully installed Bio-1.3.3 biopython-1.79 biothings-client-0.2.6 mygene-3.2.2\n"
          ]
        }
      ],
      "source": [
        "!pip install Bio"
      ]
    },
    {
      "cell_type": "markdown",
      "source": [
        "**La regresión logística es un enfoque de aprendizaje supervisado que intenta distinguir K clases entre sí utilizando una suma ponderada de algunas variables predictoras x i . El modelo de regresión logística se utiliza para calcular los pesos β i de las variables predictoras. En Biopython, el modelo de regresión logística se implementa actualmente solo para dos clases ( K = 2); el número de variables predictoras no tiene un límite predefinido.\n",
        "\n",
        "Como ejemplo, intentemos predecir la estructura del operón en bacterias. Un operón es un conjunto de genes adyacentes en la misma hebra de ADN que se transcriben en una sola molécula de ARNm. La traducción de la única molécula de mRNA luego produce las proteínas individuales. Para Bacillus subtilis , cuyos datos usaremos, el número promedio de genes en un operón es de aproximadamente 2,4.\n",
        "\n",
        "Como primer paso para comprender la regulación génica en bacterias, necesitamos conocer la estructura del operón. Para alrededor del 10% de los genes en Bacillus subtilis , la estructura del operón se conoce a partir de experimentos. Se puede utilizar un método de aprendizaje supervisado para predecir la estructura del operón para el 90% restante de los genes.\n",
        "\n",
        "Para tal enfoque de aprendizaje supervisado, necesitamos elegir algunas variables predictoras x ique se pueden medir fácilmente y están relacionados de alguna manera con la estructura del operón. Una variable predictora podría ser la distancia en pares de bases entre genes. Los genes adyacentes que pertenecen al mismo operón tienden a estar separados por una distancia relativamente corta, mientras que los genes adyacentes en diferentes operones tienden a tener un espacio más grande entre ellos para permitir secuencias promotoras y terminadoras. Otra variable predictora se basa en mediciones de expresión génica. Por definición, los genes que pertenecen al mismo operón tienen perfiles de expresión de genes iguales, mientras que se espera que los genes en diferentes operones tengan diferentes perfiles de expresión. En la práctica, los perfiles de expresión medidos de genes en el mismo operón no son del todo idénticos debido a la presencia de errores de medición. Para evaluar la similitud en los perfiles de expresión génica,\n",
        "\n",
        "Ahora tenemos dos variables predictoras que podemos usar para predecir si dos genes adyacentes en la misma hebra de ADN pertenecen al mismo operón:\n",
        "\n",
        "x 1 : el número de pares de bases entre ellos;\n",
        "x 2 : su similitud en el perfil de expresión.\n",
        "En un modelo de regresión logística, usamos una suma ponderada de estos dos predictores para calcular una puntuación conjunta S :\n",
        "\n",
        "S  = β 0  + β 1  X 1  + β 2  X 2 .(16.1)\n",
        "El modelo de regresión logística nos da valores apropiados para los parámetros β 0 , β 1 , β 2 utilizando dos conjuntos de genes de ejemplo:\n",
        "\n",
        "OP: genes adyacentes, en la misma hebra de ADN, que se sabe que pertenecen al mismo operón;\n",
        "NOP: genes adyacentes, en la misma hebra de ADN, que se sabe que pertenecen a diferentes operones.\n",
        "En el modelo de regresión logística, la probabilidad de pertenecer a una clase depende de la puntuación a través de la función logística. Para las dos clases OP y NOP, podemos escribir esto como\n",
        "\n",
        "     \t\n",
        "Pr( PO | x 1 ,  x 2 )\t =\t\n",
        " \t\n",
        "Exp(β 0  + β 1  x 1  + β 2  x 2 )\n",
        "1+exp(β 0  + β 1  x 1  + β 2  x 2 )\n",
        "  ‍ \n",
        "(16.2)\n",
        "Pr( NOP | x 1 ,  x 2 )\t =\t\n",
        " \t\n",
        "1\n",
        "1+exp(β 0  + β 1  x 1  + β 2  x 2 )\n",
        "  ‍\n",
        "(16.3)\n",
        "Utilizando un conjunto de pares de genes para los que se sabe si pertenecen al mismo operón (clase OP) o a diferentes operones (clase NOP), podemos calcular los pesos β 0 , β 1 , β 2 maximizando el log-verosimilitud correspondientes a las funciones de probabilidad ( 16.2 ) y ( 16.3 ).\n",
        "\n",
        "16.1.2 Entrenamiento del modelo de regresión logística\n",
        "\n",
        "Tabla 16.1: Pares de genes adyacentes que se sabe que pertenecen al mismo operón (clase OP) oa diferentes operones (clase NOP). Las distancias entre genes son negativas si los dos genes se superponen.\n",
        "par de genes\tDistancia entre genes ( x 1 )\tPuntuación de expresión génica ( x 2 )\tClase\n",
        "cotJA — cotJB\t-53\t-200.78\tOP\n",
        "síK — síL\t117\t-267.14\tOP\n",
        "lplA — lplB\t57\t-163.47\tOP\n",
        "lplB — lplC\tdieciséis\t-190.30\tOP\n",
        "lplC — lplD\t11\t-220.94\tOP\n",
        "lplD — todavíaF\t85\t-193.94\tOP\n",
        "yfmt — yfmS\tdieciséis\t-182.71\tOP\n",
        "yfmf — yfmE\t15\t-180.41\tOP\n",
        "citS — citT\t-26\t-181.73\tOP\n",
        "citM — yflN\t58\t-259.87\tOP\n",
        "yfiI — yfiJ\t126\t-414.53\tNOP\n",
        "lipB — yfiQ\t191\t-249.57\tNOP\n",
        "yfiU — yfiV\t113\t-265.28\tNOP\n",
        "yfhH — yfhI\t145\t-312.99\tNOP\n",
        "cotY — cotX\t154\t-213.83\tNOP\n",
        "yjoB — rapA\t147\t-380.85\tNOP\n",
        "ptsI — splA\t93\t-291.13\tNOP\n",
        "**"
      ],
      "metadata": {
        "id": "eTAeW020QGp3"
      }
    },
    {
      "cell_type": "code",
      "source": [
        "from Bio import LogisticRegression"
      ],
      "metadata": {
        "id": "GVEBJ-1uL9Cn"
      },
      "execution_count": 2,
      "outputs": []
    },
    {
      "cell_type": "code",
      "source": [
        "x = [[-53, -200.78],\n",
        "[117, -267.14],\n",
        "[57, -163.47],\n",
        "[16, -190.30],\n",
        "[11, -220.94],\n",
        "[85, -193.94],\n",
        "[16, -182.71],\n",
        "[15, -180.41],\n",
        "[-26, -181.73],\n",
        "[58, -259.87],\n",
        "[126, -414.53],\n",
        "[191, -249.57],\n",
        "[113, -265.28],\n",
        "[145, -312.99],\n",
        "[154, -213.83],\n",
        "[147, -380.85],\n",
        "[93, -291.13]]"
      ],
      "metadata": {
        "id": "SQ03_F0DMHEs"
      },
      "execution_count": 3,
      "outputs": []
    },
    {
      "cell_type": "code",
      "source": [
        "y = [1,\n",
        "1,\n",
        "1,\n",
        "1,\n",
        "1,\n",
        "1,\n",
        "1,\n",
        "1,\n",
        "1,\n",
        "1,\n",
        "0,\n",
        "0,\n",
        "0,\n",
        "0,\n",
        "0,\n",
        "0,\n",
        "0]\n",
        "\n"
      ],
      "metadata": {
        "id": "L79TE104MrdA"
      },
      "execution_count": 4,
      "outputs": []
    },
    {
      "cell_type": "code",
      "source": [
        "modelo = LogisticRegression.train(x, y)"
      ],
      "metadata": {
        "id": "m6llfLzUNMSh"
      },
      "execution_count": 6,
      "outputs": []
    },
    {
      "cell_type": "code",
      "source": [
        "modelo.beta\n",
        "[8.9830290157144681, -0.035968960444850887, 0.02181395662983519]"
      ],
      "metadata": {
        "colab": {
          "base_uri": "https://localhost:8080/"
        },
        "id": "oJk9oMjbN6eh",
        "outputId": "d7b0f2e4-8425-4a15-d6a6-1e7e4c6bb95d"
      },
      "execution_count": 7,
      "outputs": [
        {
          "output_type": "execute_result",
          "data": {
            "text/plain": [
              "[8.983029015714468, -0.035968960444850887, 0.02181395662983519]"
            ]
          },
          "metadata": {},
          "execution_count": 7
        }
      ]
    },
    {
      "cell_type": "code",
      "source": [
        "def show_progress(iteration, loglikelihood):\n",
        "        print(\"Iteration:\", iteration, \"Log-likelihood function:\", loglikelihood)"
      ],
      "metadata": {
        "id": "kMzDvaLQOIzI"
      },
      "execution_count": 8,
      "outputs": []
    },
    {
      "cell_type": "code",
      "source": [
        "model = LogisticRegression.train(x, y, update_fn=show_progress)"
      ],
      "metadata": {
        "colab": {
          "base_uri": "https://localhost:8080/"
        },
        "id": "OP_qywKTOflI",
        "outputId": "b3c3366d-979a-414d-f954-45580e12cf87"
      },
      "execution_count": 9,
      "outputs": [
        {
          "output_type": "stream",
          "name": "stdout",
          "text": [
            "Iteration: <built-in function iter> Log-likelihood function: -11.78350206951907\n",
            "Iteration: <built-in function iter> Log-likelihood function: -7.158867676721056\n",
            "Iteration: <built-in function iter> Log-likelihood function: -5.768772098679432\n",
            "Iteration: <built-in function iter> Log-likelihood function: -5.113622943382592\n",
            "Iteration: <built-in function iter> Log-likelihood function: -4.748706424325652\n",
            "Iteration: <built-in function iter> Log-likelihood function: -4.50026077146048\n",
            "Iteration: <built-in function iter> Log-likelihood function: -4.311277737371034\n",
            "Iteration: <built-in function iter> Log-likelihood function: -4.1601504339559465\n",
            "Iteration: <built-in function iter> Log-likelihood function: -4.035617197847367\n",
            "Iteration: <built-in function iter> Log-likelihood function: -3.93073282192017\n",
            "Iteration: <built-in function iter> Log-likelihood function: -3.8408766092914273\n",
            "Iteration: <built-in function iter> Log-likelihood function: -3.762825606050504\n",
            "Iteration: <built-in function iter> Log-likelihood function: -3.69425027154435\n",
            "Iteration: <built-in function iter> Log-likelihood function: -3.63341786019592\n",
            "Iteration: <built-in function iter> Log-likelihood function: -3.579008558366153\n",
            "Iteration: <built-in function iter> Log-likelihood function: -3.529996713864589\n",
            "Iteration: <built-in function iter> Log-likelihood function: -3.4855714516343337\n",
            "Iteration: <built-in function iter> Log-likelihood function: -3.4450820613930997\n",
            "Iteration: <built-in function iter> Log-likelihood function: -3.4079994844651083\n",
            "Iteration: <built-in function iter> Log-likelihood function: -3.3738885623997366\n",
            "Iteration: <built-in function iter> Log-likelihood function: -3.3423876581020284\n",
            "Iteration: <built-in function iter> Log-likelihood function: -3.3131934376911234\n",
            "Iteration: <built-in function iter> Log-likelihood function: -3.286049334600595\n",
            "Iteration: <built-in function iter> Log-likelihood function: -3.2607366863005254\n",
            "Iteration: <built-in function iter> Log-likelihood function: -3.2370678409148406\n",
            "Iteration: <built-in function iter> Log-likelihood function: -3.214880736138568\n",
            "Iteration: <built-in function iter> Log-likelihood function: -3.194034592585724\n",
            "Iteration: <built-in function iter> Log-likelihood function: -3.1744064605163884\n",
            "Iteration: <built-in function iter> Log-likelihood function: -3.1558884270318726\n",
            "Iteration: <built-in function iter> Log-likelihood function: -3.138385339473235\n",
            "Iteration: <built-in function iter> Log-likelihood function: -3.121812935946028\n",
            "Iteration: <built-in function iter> Log-likelihood function: -3.1060962996567087\n",
            "Iteration: <built-in function iter> Log-likelihood function: -3.0911685728203993\n",
            "Iteration: <built-in function iter> Log-likelihood function: -3.076969880170042\n",
            "Iteration: <built-in function iter> Log-likelihood function: -3.0634464228770586\n",
            "Iteration: <built-in function iter> Log-likelihood function: -3.050549711911315\n",
            "Iteration: <built-in function iter> Log-likelihood function: -3.0382359161858656\n",
            "Iteration: <built-in function iter> Log-likelihood function: -3.026465305727712\n",
            "Iteration: <built-in function iter> Log-likelihood function: -3.015201773938085\n",
            "Iteration: <built-in function iter> Log-likelihood function: -3.0044124260112417\n",
            "Iteration: <built-in function iter> Log-likelihood function: -2.994067222959573\n",
            "Iteration: <built-in function iter> Log-likelihood function: -2.9841386725875947\n"
          ]
        }
      ]
    },
    {
      "cell_type": "markdown",
      "source": [
        "funciones registradas en Documentacion Biopython.\n",
        "algoritmo ejecutado por el BioInformatico Juan Cuevas Vasquez"
      ],
      "metadata": {
        "id": "oVXyx53nR-Kh"
      }
    },
    {
      "cell_type": "code",
      "source": [
        ""
      ],
      "metadata": {
        "id": "Z61qrNqwSfi0"
      },
      "execution_count": null,
      "outputs": []
    }
  ]
}