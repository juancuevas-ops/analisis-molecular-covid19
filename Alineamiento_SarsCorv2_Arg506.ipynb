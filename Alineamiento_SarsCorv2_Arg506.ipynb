{
  "nbformat": 4,
  "nbformat_minor": 0,
  "metadata": {
    "colab": {
      "provenance": [],
      "authorship_tag": "ABX9TyNVQFnNrMJOJ1qbaeZYmNDw",
      "include_colab_link": true
    },
    "kernelspec": {
      "name": "python3",
      "display_name": "Python 3"
    },
    "language_info": {
      "name": "python"
    }
  },
  "cells": [
    {
      "cell_type": "markdown",
      "metadata": {
        "id": "view-in-github",
        "colab_type": "text"
      },
      "source": [
        "<a href=\"https://colab.research.google.com/github/juancuevas-ops/analisis-molecular-covid19/blob/main/Alineamiento_SarsCorv2_Arg506.ipynb\" target=\"_parent\"><img src=\"https://colab.research.google.com/assets/colab-badge.svg\" alt=\"Open In Colab\"/></a>"
      ]
    },
    {
      "cell_type": "code",
      "execution_count": 1,
      "metadata": {
        "colab": {
          "base_uri": "https://localhost:8080/"
        },
        "id": "DCk8rZYBS0TQ",
        "outputId": "651a5cc7-4300-4d78-a050-f301269ed711"
      },
      "outputs": [
        {
          "output_type": "stream",
          "name": "stdout",
          "text": [
            "Collecting Bio\n",
            "  Downloading bio-1.7.1-py3-none-any.whl (280 kB)\n",
            "\u001b[2K     \u001b[90m━━━━━━━━━━━━━━━━━━━━━━━━━━━━━━━━━━━━━━━━\u001b[0m \u001b[32m281.0/281.0 kB\u001b[0m \u001b[31m5.7 MB/s\u001b[0m eta \u001b[36m0:00:00\u001b[0m\n",
            "\u001b[?25hCollecting biopython>=1.80 (from Bio)\n",
            "  Downloading biopython-1.83-cp310-cp310-manylinux_2_17_x86_64.manylinux2014_x86_64.whl (3.1 MB)\n",
            "\u001b[2K     \u001b[90m━━━━━━━━━━━━━━━━━━━━━━━━━━━━━━━━━━━━━━━━\u001b[0m \u001b[32m3.1/3.1 MB\u001b[0m \u001b[31m42.6 MB/s\u001b[0m eta \u001b[36m0:00:00\u001b[0m\n",
            "\u001b[?25hCollecting gprofiler-official (from Bio)\n",
            "  Downloading gprofiler_official-1.0.0-py3-none-any.whl (9.3 kB)\n",
            "Collecting mygene (from Bio)\n",
            "  Downloading mygene-3.2.2-py2.py3-none-any.whl (5.4 kB)\n",
            "Requirement already satisfied: pandas in /usr/local/lib/python3.10/dist-packages (from Bio) (2.0.3)\n",
            "Requirement already satisfied: pooch in /usr/local/lib/python3.10/dist-packages (from Bio) (1.8.1)\n",
            "Requirement already satisfied: requests in /usr/local/lib/python3.10/dist-packages (from Bio) (2.31.0)\n",
            "Requirement already satisfied: tqdm in /usr/local/lib/python3.10/dist-packages (from Bio) (4.66.4)\n",
            "Requirement already satisfied: numpy in /usr/local/lib/python3.10/dist-packages (from biopython>=1.80->Bio) (1.25.2)\n",
            "Collecting biothings-client>=0.2.6 (from mygene->Bio)\n",
            "  Downloading biothings_client-0.3.1-py2.py3-none-any.whl (29 kB)\n",
            "Requirement already satisfied: python-dateutil>=2.8.2 in /usr/local/lib/python3.10/dist-packages (from pandas->Bio) (2.8.2)\n",
            "Requirement already satisfied: pytz>=2020.1 in /usr/local/lib/python3.10/dist-packages (from pandas->Bio) (2023.4)\n",
            "Requirement already satisfied: tzdata>=2022.1 in /usr/local/lib/python3.10/dist-packages (from pandas->Bio) (2024.1)\n",
            "Requirement already satisfied: platformdirs>=2.5.0 in /usr/local/lib/python3.10/dist-packages (from pooch->Bio) (4.2.2)\n",
            "Requirement already satisfied: packaging>=20.0 in /usr/local/lib/python3.10/dist-packages (from pooch->Bio) (24.0)\n",
            "Requirement already satisfied: charset-normalizer<4,>=2 in /usr/local/lib/python3.10/dist-packages (from requests->Bio) (3.3.2)\n",
            "Requirement already satisfied: idna<4,>=2.5 in /usr/local/lib/python3.10/dist-packages (from requests->Bio) (3.7)\n",
            "Requirement already satisfied: urllib3<3,>=1.21.1 in /usr/local/lib/python3.10/dist-packages (from requests->Bio) (2.0.7)\n",
            "Requirement already satisfied: certifi>=2017.4.17 in /usr/local/lib/python3.10/dist-packages (from requests->Bio) (2024.2.2)\n",
            "Requirement already satisfied: six>=1.5 in /usr/local/lib/python3.10/dist-packages (from python-dateutil>=2.8.2->pandas->Bio) (1.16.0)\n",
            "Installing collected packages: biopython, gprofiler-official, biothings-client, mygene, Bio\n",
            "Successfully installed Bio-1.7.1 biopython-1.83 biothings-client-0.3.1 gprofiler-official-1.0.0 mygene-3.2.2\n"
          ]
        }
      ],
      "source": [
        "!pip install Bio\n",
        "\n",
        "\n"
      ]
    },
    {
      "cell_type": "code",
      "source": [
        "!python --version\n",
        "!pip show Bio"
      ],
      "metadata": {
        "colab": {
          "base_uri": "https://localhost:8080/"
        },
        "id": "ym6qjX4LV0jD",
        "outputId": "a4d8a88e-6882-4f62-d0fb-2c90f266b793"
      },
      "execution_count": 2,
      "outputs": [
        {
          "output_type": "stream",
          "name": "stdout",
          "text": [
            "Python 3.10.12\n",
            "Name: bio\n",
            "Version: 1.7.1\n",
            "Summary: \n",
            "Home-page: \n",
            "Author: \n",
            "Author-email: Istvan Albert <istvan.albert@gmail.com>\n",
            "License: \n",
            "Location: /usr/local/lib/python3.10/dist-packages\n",
            "Requires: biopython, gprofiler-official, mygene, pandas, pooch, requests, tqdm\n",
            "Required-by: \n"
          ]
        }
      ]
    },
    {
      "cell_type": "markdown",
      "source": [
        "# PROYECTO SIMILITUD ENTRE SARSCORV2 Y Arg506Gln del gen FV.\n",
        "\n",
        "\n",
        "Fase 1: Recopilación de datos\n",
        "\n",
        "Obtención de secuencias: Recopilar las secuencias de aminoácidos de la proteína SARS-CoV-2 y del residuo Arg506Gln del gen FV.\n",
        "\n",
        "Fuentes de datos: Bases de datos públicas como NCBI RefSeq, UniProtKB o bases de datos especializadas en CoV.\n",
        "Consideraciones: Asegurar la calidad y confiabilidad de las secuencias.\n",
        "Análisis de frecuencia de aminoácidos: Calcular la frecuencia de cada aminoácido en las secuencias de SARS-CoV-2 y Arg506Gln del gen FV.\n",
        "\n",
        "# Herramientas:\n",
        " Programas bioinformáticos Python  para análisis de secuencias.\n",
        "Interpretación: Comparar las frecuencias de aminoácidos para identificar similitudes o diferencias entre las proteínas.\n",
        "Fase 2: Análisis de alineación de secuencias\n",
        "\n",
        "# Alineación de secuencias:\n",
        "\n",
        " Alinear las secuencias de SARS-CoV-2 y Arg506Gln del gen FV utilizando herramientas bioinformáticas como BIOPYTHON EN LA NUBE DE GOOGLE.\n",
        "\n",
        "# Parámetros:\n",
        " Ajustar los parámetros de alineación según la longitud y complejidad de las secuencias.\n",
        "# Visualización:\n",
        "Visualizar la alineación para identificar regiones de similitud o identidad entre las proteínas.\n",
        "Análisis de conservación de residuos: Analizar la conservación de los residuos de aminoácidos en las posiciones alineadas.\n",
        "\n",
        "# Herramientas:\n",
        "Programas como ConSurf o WebLogo para visualizar la conservación de residuos.\n",
        "Interpretación: Identificar regiones con alta conservación de residuos que podrían indicar similitudes funcionales o estructurales.\n",
        "# Fase 3: Análisis estructural\n",
        "\n",
        "# Trabajo a Futuro o largo plazo:\n",
        "Modelado 3D de proteínas: Generar modelos 3D de la proteína SARS-CoV-2 y del residuo Arg506Gln del gen FV utilizando herramientas como Modeller, I-TASSER o AlphaFold.\n",
        "\n",
        "# Consideraciones:\n",
        "Seleccionar la herramienta adecuada en función de la complejidad de las proteínas.\n",
        "Evaluación: Evaluar la calidad de los modelos 3D utilizando herramientas como Ramachandran plot o GDT-score.\n",
        "Análisis de superposición estructural: Superponer los modelos 3D de SARS-CoV-2 y Arg506Gln del gen FV para identificar similitudes estructurales.\n",
        "\n",
        "\n",
        "\n",
        "Interpretación: Comparar la función predicha del residuo Arg506Gln con la función conocida de la proteína SARS-CoV-2.\n",
        "Análisis de interacción proteína-proteína: Analizar las potenciales interacciones entre el residuo Arg506Gln del gen FV.\n",
        "\n",
        "Consideraciones: Seleccionar las herramientas adecuadas en función del tipo de interacción esperada.\n",
        "Interpretación: Identificar proteínas que interactúan con el residuo Arg506Gln y evaluar su relevancia en la función de la proteína.\n",
        "# Fase 5: Discusión y conclusiones\n",
        "\n",
        "Integración de resultados: Integrar los resultados de las diferentes fases del análisis para obtener una comprensión global de las similitudes entre SARS-CoV-2 y Arg506Gln del gen FV.\n",
        "\n",
        "Consideraciones: Evaluar la consistencia de los resultados:\n",
        "Se Encontraron una alta frecuencia de aminocidos en proteinas que afectan gravemente a los regulagadores de los sistemas vasculares a continuacion dejo la descripsion del hallazgo.\n",
        "La serina (S) tiene una relación más directa con las trombosis a través de las serina proteasas, que son enzimas implicadas en la coagulación de la sangre. Las serina proteasas, como la trombina, juegan un papel crucial en el proceso de coagulación. Estas enzimas cortan proteínas específicas en la cascada de coagulación, llevando a la formación de un coágulo de fibrina, que es esencial para detener el sangrado.En el contexto de trombosis, una coagulación excesiva o inapropiada puede llevar a la formación de coágulos sanguíneos en los vasos sanguíneos, lo que puede causar problemas serios como ataques cardíacos, accidentes cerebrovasculares o embolias pulmonares.Por otro lado, aunque la leucina (L) no está directamente relacionada con la coagulación de la sangre o la trombosis, es importante en el metabolismo y la síntesis de proteínas en general.En resumen, la serina está más estrechamente relacionada con las trombosis debido a su papel en la formación y regulación de coágulos de sangre a través de las serina proteasas.\n",
        "\n"
      ],
      "metadata": {
        "id": "LEJsmp4FZ6TK"
      }
    },
    {
      "cell_type": "markdown",
      "source": [
        "#  nombre de  variante y la similitud con el sarscorv2\n",
        "Arg506Gln del gen FV que interviene en la formación del coágulo a través de la activación de la trombina. El resultado de esta variante es que el factor V activado se inactiva unas 10 veces más lentamente de lo normal, por lo que aumenta la trombina. y lo podemos Visualizar en la frecuncia del amninoacido (S)SERINA en la proteina de los de ambos genes genfv y sarscorv2.\n",
        "\n",
        "descripsion de los datos de Arg506Gln del gen FV:\n",
        "\n",
        "Oficial Símbolo\n",
        "F5proporcionado por HGNC\n",
        "Oficial Nombre completo\n",
        "factor V de coagulaciónproporcionado por HGNC\n",
        "Fuente primaria\n",
        "HGNC:HGNC:3542\n",
        "Ver relacionado\n",
        "Ensembl:ENSG00000198734 MIM:612309; Genoma de la alianza:HGNC:3542\n",
        "Tipo de gen\n",
        "Codificación de proteínas\n",
        "Estado de RefSeq\n",
        "REVISADO\n",
        "Organismo\n",
        "Género humano\n",
        "Linaje\n",
        "Eucariota; Metazoa; Chordata; Craniata; Vertebrata; Euteleóstomo; Mammalia; Eutheria; Euarchontoglires; Primates; Haplorrhini; Catarrhini; Hominidae; Homo\n",
        "También conocido como\n",
        "FVL; PCCF; THPH2; RPRGL1\n",
        "Resumen\n",
        "Este gen codifica un cofactor esencial de la cascada de coagulación sanguínea. Este factor circula en el plasma y se convierte en la forma activa por la liberación del péptido de activación por la trombina durante la coagulación. Esto genera una cadena pesada y una cadena ligera que se mantienen unidas por iones de calcio. La proteína activada es un cofactor que participa con el factor X de coagulación activado para activar la protrombina a la trombina. Los defectos en este gen dan lugar a una diátesis hemorrágica autosómica recesiva o a una forma autosómica dominante de trombofilia, que se conoce como resistencia a la proteína C activada. [proporcionado por RefSeq, octubre de 2008]\n",
        "Expresión\n",
        "Expresión sesgada en hígado (RPKM 48.1), placenta (RPKM 23.5) y otros 2 tejidos Ver más\n",
        "Ortólogos\n",
        "Ratón todo\n",
        "NUEVO\n",
        "Pruebe la nueva tabla\n",
        "de genes Pruebe la nueva tabla de transcripciones"
      ],
      "metadata": {
        "id": "vWQ_vgF0vV7d"
      }
    },
    {
      "cell_type": "code",
      "source": [
        "from Bio import pairwise2\n",
        "from Bio.Seq import Seq\n",
        "from Bio.SeqRecord import SeqRecord\n",
        "from Bio import SeqIO"
      ],
      "metadata": {
        "colab": {
          "base_uri": "https://localhost:8080/"
        },
        "id": "jj4VjKaTdQju",
        "outputId": "320172fc-f760-46bf-cd03-d118a67d71de"
      },
      "execution_count": 3,
      "outputs": [
        {
          "output_type": "stream",
          "name": "stderr",
          "text": [
            "/usr/local/lib/python3.10/dist-packages/Bio/pairwise2.py:278: BiopythonDeprecationWarning: Bio.pairwise2 has been deprecated, and we intend to remove it in a future release of Biopython. As an alternative, please consider using Bio.Align.PairwiseAligner as a replacement, and contact the Biopython developers if you still need the Bio.pairwise2 module.\n",
            "  warnings.warn(\n"
          ]
        }
      ]
    },
    {
      "cell_type": "code",
      "source": [
        "# Cargar los archivos .fasta\n",
        "archivo1 = '/content/proteinarg.faa'\n",
        "archivo2 = '/content/proteinsar.faa'\n"
      ],
      "metadata": {
        "id": "dZXa3LpmUsnE"
      },
      "execution_count": 4,
      "outputs": []
    },
    {
      "cell_type": "code",
      "source": [
        "import os"
      ],
      "metadata": {
        "id": "iocFxaEqd4TK"
      },
      "execution_count": 5,
      "outputs": []
    },
    {
      "cell_type": "code",
      "source": [
        "from Bio import SeqIO"
      ],
      "metadata": {
        "id": "jTjpcsQ6eDSY"
      },
      "execution_count": 6,
      "outputs": []
    },
    {
      "cell_type": "code",
      "source": [
        "secuencias1 = SeqIO.parse(archivo1, 'fasta')\n",
        "\n",
        "secuencias2 = SeqIO.parse(archivo2, 'fasta')"
      ],
      "metadata": {
        "id": "l7EssM-EfLiJ"
      },
      "execution_count": 7,
      "outputs": []
    },
    {
      "source": [
        "#num_secuencias_min = min(len(list(secuencias1)), len(list(secuencias2)))"
      ],
      "cell_type": "code",
      "metadata": {
        "id": "LdxjlOUSf0vQ"
      },
      "execution_count": 8,
      "outputs": []
    },
    {
      "cell_type": "code",
      "source": [
        "#Escribir las secuencias recortadas en nuevos archivos\n",
        "#SeqIO.write(secuencias1, 'archivo1_recortado.fasta', 'fasta')\n",
        "#SeqIO.write(secuencias2, 'archivo2_recortado.fasta', 'fasta')"
      ],
      "metadata": {
        "id": "5wEeDlN1e163"
      },
      "execution_count": 9,
      "outputs": []
    },
    {
      "cell_type": "code",
      "source": [
        "# Contar los caracteres en cada archivo\n",
        "conteo_caracteres1 = sum(1 for line in open(archivo1) if line.strip())\n",
        "conteo_caracteres2 = sum(1 for line in open(archivo2) if line.strip())\n",
        "\n",
        "# Comprobar si la cantidad de caracteres es la misma\n",
        "if conteo_caracteres1 == conteo_caracteres2:\n",
        "    print(\"Los archivos tienen la misma cantidad de caracteres.\")\n",
        "else:\n",
        "    print(\"Los archivos tienen cantidades de caracteres diferentes.\")"
      ],
      "metadata": {
        "colab": {
          "base_uri": "https://localhost:8080/"
        },
        "id": "ennQVYCMbSXQ",
        "outputId": "96097162-bbb5-45cf-8d9a-b7d133090218"
      },
      "execution_count": 10,
      "outputs": [
        {
          "output_type": "stream",
          "name": "stdout",
          "text": [
            "Los archivos tienen cantidades de caracteres diferentes.\n"
          ]
        }
      ]
    },
    {
      "cell_type": "code",
      "source": [
        "# Convertir las secuencias en objetos Seq\n",
        "secuencia1 = list(secuencias1)[0].seq\n",
        "\n",
        "secuencia2 = list(secuencias2)[0].seq\n"
      ],
      "metadata": {
        "id": "Kj1WgX3wVuRF"
      },
      "execution_count": 11,
      "outputs": []
    },
    {
      "cell_type": "code",
      "source": [
        "# Realizar la alineación global\n",
        "alineacion = pairwise2.align.globalxx(secuencia1, secuencia2)"
      ],
      "metadata": {
        "id": "2ro3bZbcWEPP"
      },
      "execution_count": 12,
      "outputs": []
    },
    {
      "cell_type": "code",
      "source": [
        "# prompt: ahora necesito ver el porcentaje de similitud\n",
        "\n",
        "# Calcular el porcentaje de similitud\n",
        "identidad = pairwise2.align.globalxx(secuencia1, secuencia2)[0][2]\n",
        "similitud = identidad / len(secuencia1) * 100\n",
        "\n",
        "# Imprimir el porcentaje de similitud\n",
        "print(f\"El porcentaje de similitud entre las secuencias es: {similitud:.2f}%\")\n"
      ],
      "metadata": {
        "colab": {
          "base_uri": "https://localhost:8080/"
        },
        "id": "zzWAyI-jjVCL",
        "outputId": "32fd6496-8e4a-497f-93ff-167b87e509ac"
      },
      "execution_count": 13,
      "outputs": [
        {
          "output_type": "stream",
          "name": "stdout",
          "text": [
            "El porcentaje de similitud entre las secuencias es: 27.29%\n"
          ]
        }
      ]
    },
    {
      "cell_type": "code",
      "source": [
        "# prompt: necesito saber cuáles son los caracteres que se asimilan que se impriman\n",
        "\n",
        "alineamiento = pairwise2.align.globalxx(secuencia1, secuencia2)\n",
        "\n",
        "# Obtener los caracteres que se asimilan\n",
        "secuencias_alineadas = [alineacion[0][0], alineacion[0][1]]\n",
        "\n",
        "# Imprimir los caracteres que se asimilan\n",
        "for i in range(len(secuencias_alineadas[0])):\n",
        "  if secuencias_alineadas[0][i] == secuencias_alineadas[1][i]:\n",
        "    print(secuencias_alineadas[0][i], end='')\n"
      ],
      "metadata": {
        "colab": {
          "base_uri": "https://localhost:8080/"
        },
        "id": "97jIzGR0lxjd",
        "outputId": "a06d46e5-a61a-43d3-8deb-e5f3975f6ef9"
      },
      "execution_count": 14,
      "outputs": [
        {
          "output_type": "stream",
          "name": "stdout",
          "text": [
            "MFVLVLVSQLRQPPTNSFRYYPDKVFRSSLHTFPVTWISGTDPLYSENIIGIGTTLDSKQSLVNNTIVCEFFNGVHKSVSSANTESPLMDKNKNLREFVFNIGYKYSKHTPNDLGPIIRQTLARSYTPDSSSGTAGYYLPTENTDVDALLCKSFVEKINFRPESIVPITLCFVFNTFSYRRSVDVLNSSSKKLLFVDSFVRDEPADYNLGINSNNLDVGNYNFNLKPSTAGSPNVEYPLQSGFQPVQRVLSELPTGPKSLKNKVGLTTVLESNKKFLQQGRITTARPTLELDTPSFGSPNSNQALYQVTPIDQTPRYSSFTIEHVSDSQTQTNSPRASSSTSLNSSNSAPTFTSELSMTTSMIDSTSNLLQTLALGQDTQEQTPPDSQILPDPSPSSDLVTLDIDLDIDLIQFNGLTLPLLTDEIQYAITTIPAAYRNGIVTVLYELIAQFNSAGKSSTSKDNAQNTVSSGASVNDILLKIDRLTRSLTESANLKMEVLGQVFGKGLSFSPGLTVAQTPICDKAFPRGVFSWVQEIITTTFVSNIGVNNTVYPLELENTPLGGINASKERLNVAKNLEIDLLKIKIIGLMVTISLKSSKFEVKVKLY"
          ]
        }
      ]
    },
    {
      "cell_type": "code",
      "source": [
        "# prompt: las secuencias_alineadas divididelas en secuencias de proteinas La unión de varios aminoácidos\n",
        "\n",
        "# Dividir las secuencias alineadas en secuencias de proteínas\n",
        "secuencias_proteinas = []\n",
        "secuencia_proteina = ''\n",
        "for i in range(len(secuencias_alineadas[0])):\n",
        "  if secuencias_alineadas[0][i] != '-' and secuencias_alineadas[1][i] != '-':\n",
        "    secuencia_proteina += secuencias_alineadas[0][i]\n",
        "  elif secuencia_proteina:\n",
        "    secuencias_proteinas.append(secuencia_proteina)\n",
        "    secuencia_proteina = ''\n",
        "if secuencia_proteina:\n",
        "  secuencias_proteinas.append(secuencia_proteina)\n",
        "\n",
        "# Imprimir las secuencias de proteínas\n",
        "for secuencia in secuencias_proteinas:\n",
        "  print(secuencia)\n"
      ],
      "metadata": {
        "colab": {
          "base_uri": "https://localhost:8080/"
        },
        "id": "3EhURGx6mlTA",
        "outputId": "e437bd87-9dc2-4b2f-80ea-97798cc413b2"
      },
      "execution_count": 15,
      "outputs": [
        {
          "output_type": "stream",
          "name": "stdout",
          "text": [
            "MF\n",
            "V\n",
            "L\n",
            "VL\n",
            "V\n",
            "S\n",
            "Q\n",
            "L\n",
            "R\n",
            "Q\n",
            "P\n",
            "P\n",
            "T\n",
            "N\n",
            "SF\n",
            "R\n",
            "Y\n",
            "Y\n",
            "P\n",
            "D\n",
            "KV\n",
            "F\n",
            "R\n",
            "S\n",
            "S\n",
            "L\n",
            "H\n",
            "T\n",
            "F\n",
            "P\n",
            "V\n",
            "T\n",
            "W\n",
            "I\n",
            "SG\n",
            "T\n",
            "D\n",
            "P\n",
            "L\n",
            "Y\n",
            "S\n",
            "E\n",
            "N\n",
            "I\n",
            "I\n",
            "G\n",
            "I\n",
            "GT\n",
            "T\n",
            "L\n",
            "D\n",
            "SK\n",
            "Q\n",
            "SL\n",
            "VN\n",
            "N\n",
            "T\n",
            "I\n",
            "VC\n",
            "E\n",
            "F\n",
            "F\n",
            "N\n",
            "G\n",
            "V\n",
            "HK\n",
            "S\n",
            "V\n",
            "S\n",
            "S\n",
            "AN\n",
            "T\n",
            "E\n",
            "S\n",
            "P\n",
            "L\n",
            "M\n",
            "D\n",
            "K\n",
            "N\n",
            "K\n",
            "NL\n",
            "R\n",
            "E\n",
            "F\n",
            "V\n",
            "F\n",
            "N\n",
            "I\n",
            "G\n",
            "Y\n",
            "K\n",
            "Y\n",
            "S\n",
            "KHT\n",
            "P\n",
            "N\n",
            "D\n",
            "L\n",
            "G\n",
            "P\n",
            "I\n",
            "I\n",
            "R\n",
            "Q\n",
            "TL\n",
            "A\n",
            "R\n",
            "S\n",
            "Y\n",
            "T\n",
            "P\n",
            "D\n",
            "SS\n",
            "SG\n",
            "T\n",
            "A\n",
            "G\n",
            "Y\n",
            "Y\n",
            "L\n",
            "P\n",
            "T\n",
            "EN\n",
            "T\n",
            "D\n",
            "V\n",
            "D\n",
            "A\n",
            "L\n",
            "L\n",
            "C\n",
            "K\n",
            "S\n",
            "F\n",
            "V\n",
            "E\n",
            "K\n",
            "I\n",
            "N\n",
            "F\n",
            "R\n",
            "P\n",
            "E\n",
            "S\n",
            "I\n",
            "V\n",
            "P\n",
            "I\n",
            "T\n",
            "L\n",
            "C\n",
            "F\n",
            "V\n",
            "F\n",
            "N\n",
            "T\n",
            "F\n",
            "S\n",
            "Y\n",
            "R\n",
            "R\n",
            "S\n",
            "V\n",
            "D\n",
            "V\n",
            "L\n",
            "NS\n",
            "S\n",
            "S\n",
            "K\n",
            "KL\n",
            "L\n",
            "F\n",
            "V\n",
            "DS\n",
            "F\n",
            "V\n",
            "R\n",
            "D\n",
            "E\n",
            "P\n",
            "A\n",
            "DY\n",
            "N\n",
            "L\n",
            "G\n",
            "I\n",
            "N\n",
            "S\n",
            "N\n",
            "N\n",
            "L\n",
            "D\n",
            "VG\n",
            "NY\n",
            "N\n",
            "F\n",
            "NL\n",
            "K\n",
            "P\n",
            "S\n",
            "T\n",
            "AGS\n",
            "P\n",
            "N\n",
            "V\n",
            "E\n",
            "Y\n",
            "PLQ\n",
            "S\n",
            "G\n",
            "F\n",
            "Q\n",
            "P\n",
            "V\n",
            "Q\n",
            "R\n",
            "V\n",
            "L\n",
            "S\n",
            "E\n",
            "L\n",
            "P\n",
            "T\n",
            "G\n",
            "P\n",
            "K\n",
            "S\n",
            "L\n",
            "K\n",
            "N\n",
            "K\n",
            "V\n",
            "G\n",
            "L\n",
            "T\n",
            "T\n",
            "V\n",
            "L\n",
            "ES\n",
            "N\n",
            "K\n",
            "KF\n",
            "L\n",
            "Q\n",
            "Q\n",
            "G\n",
            "R\n",
            "I\n",
            "T\n",
            "T\n",
            "A\n",
            "R\n",
            "P\n",
            "T\n",
            "L\n",
            "E\n",
            "L\n",
            "D\n",
            "T\n",
            "P\n",
            "S\n",
            "FG\n",
            "S\n",
            "P\n",
            "N\n",
            "SN\n",
            "Q\n",
            "A\n",
            "LYQ\n",
            "V\n",
            "T\n",
            "P\n",
            "I\n",
            "DQ\n",
            "T\n",
            "P\n",
            "R\n",
            "Y\n",
            "S\n",
            "S\n",
            "F\n",
            "T\n",
            "I\n",
            "EH\n",
            "V\n",
            "S\n",
            "D\n",
            "S\n",
            "Q\n",
            "T\n",
            "QTN\n",
            "SP\n",
            "R\n",
            "A\n",
            "S\n",
            "S\n",
            "S\n",
            "T\n",
            "S\n",
            "L\n",
            "N\n",
            "S\n",
            "S\n",
            "N\n",
            "S\n",
            "A\n",
            "P\n",
            "T\n",
            "F\n",
            "T\n",
            "S\n",
            "E\n",
            "L\n",
            "S\n",
            "MT\n",
            "T\n",
            "S\n",
            "M\n",
            "I\n",
            "D\n",
            "S\n",
            "T\n",
            "S\n",
            "NL\n",
            "L\n",
            "Q\n",
            "T\n",
            "L\n",
            "AL\n",
            "G\n",
            "Q\n",
            "D\n",
            "T\n",
            "Q\n",
            "E\n",
            "Q\n",
            "T\n",
            "P\n",
            "P\n",
            "D\n",
            "SQI\n",
            "L\n",
            "P\n",
            "D\n",
            "P\n",
            "S\n",
            "P\n",
            "S\n",
            "S\n",
            "DL\n",
            "VTL\n",
            "D\n",
            "I\n",
            "D\n",
            "L\n",
            "D\n",
            "I\n",
            "DL\n",
            "I\n",
            "Q\n",
            "FN\n",
            "G\n",
            "L\n",
            "T\n",
            "L\n",
            "P\n",
            "L\n",
            "L\n",
            "TD\n",
            "E\n",
            "I\n",
            "Q\n",
            "Y\n",
            "A\n",
            "I\n",
            "T\n",
            "T\n",
            "I\n",
            "P\n",
            "A\n",
            "A\n",
            "Y\n",
            "R\n",
            "NG\n",
            "I\n",
            "V\n",
            "T\n",
            "V\n",
            "L\n",
            "Y\n",
            "E\n",
            "L\n",
            "I\n",
            "A\n",
            "Q\n",
            "F\n",
            "N\n",
            "S\n",
            "A\n",
            "G\n",
            "K\n",
            "S\n",
            "S\n",
            "T\n",
            "S\n",
            "K\n",
            "D\n",
            "N\n",
            "A\n",
            "Q\n",
            "N\n",
            "T\n",
            "V\n",
            "S\n",
            "S\n",
            "G\n",
            "A\n",
            "S\n",
            "V\n",
            "N\n",
            "D\n",
            "I\n",
            "L\n",
            "L\n",
            "K\n",
            "I\n",
            "D\n",
            "R\n",
            "L\n",
            "T\n",
            "R\n",
            "S\n",
            "L\n",
            "T\n",
            "E\n",
            "S\n",
            "A\n",
            "N\n",
            "L\n",
            "KM\n",
            "E\n",
            "V\n",
            "L\n",
            "G\n",
            "Q\n",
            "V\n",
            "F\n",
            "G\n",
            "K\n",
            "G\n",
            "L\n",
            "SF\n",
            "S\n",
            "P\n",
            "G\n",
            "L\n",
            "T\n",
            "V\n",
            "A\n",
            "Q\n",
            "T\n",
            "P\n",
            "I\n",
            "C\n",
            "D\n",
            "KA\n",
            "F\n",
            "P\n",
            "R\n",
            "G\n",
            "V\n",
            "F\n",
            "S\n",
            "W\n",
            "V\n",
            "Q\n",
            "E\n",
            "I\n",
            "I\n",
            "T\n",
            "T\n",
            "T\n",
            "F\n",
            "V\n",
            "S\n",
            "N\n",
            "I\n",
            "G\n",
            "V\n",
            "N\n",
            "N\n",
            "T\n",
            "V\n",
            "Y\n",
            "P\n",
            "L\n",
            "EL\n",
            "E\n",
            "N\n",
            "T\n",
            "P\n",
            "LG\n",
            "G\n",
            "I\n",
            "N\n",
            "A\n",
            "S\n",
            "K\n",
            "E\n",
            "RLN\n",
            "V\n",
            "AK\n",
            "N\n",
            "L\n",
            "E\n",
            "IDL\n",
            "L\n",
            "K\n",
            "I\n",
            "K\n",
            "I\n",
            "I\n",
            "G\n",
            "L\n",
            "M\n",
            "V\n",
            "TI\n",
            "S\n",
            "LK\n",
            "S\n",
            "S\n",
            "K\n",
            "F\n",
            "E\n",
            "V\n",
            "K\n",
            "V\n",
            "K\n",
            "L\n",
            "Y\n"
          ]
        }
      ]
    },
    {
      "cell_type": "code",
      "source": [
        "from Bio import pairwise2\n",
        "from Bio.Seq import Seq\n",
        "from Bio.SeqRecord import SeqRecord\n",
        "\n",
        "# Definir las secuencias de proteína\n",
        "secuencia1 = Seq(\"MFPGCPRLWVLVVLGTSWVGWGSQGTEAAQLRQFYVAAQGISWSYRPEPTNSSLNLSVTSFKKIVYREYE\")\n",
        "secuencia2 = Seq(\"MFVFLVLLPLVSSQCVNLTTRTQLPPAYTNSFTRGVYYPDKVFRSSVLHSTQDLFLPFFSNVTWFHAIHV\")\n",
        "\n",
        "# Crear registros de secuencia\n",
        "registro1 = SeqRecord(secuencia1, id=\"Proteína 1\")\n",
        "registro2 = SeqRecord(secuencia2, id=\"Proteína 2\")\n",
        "\n",
        "# Realizar la alineación de secuencias\n",
        "alineacion = pairwise2.align.globalxx(registro1.seq, registro2.seq)\n",
        "\n",
        "# Imprimir la alineación\n",
        "print(alineacion)\n",
        "\n",
        "# Calcular el porcentaje de similitud\n"
      ],
      "metadata": {
        "colab": {
          "base_uri": "https://localhost:8080/"
        },
        "id": "Ti5eMxrMp5dj",
        "outputId": "460f1a5c-3309-4925-8b1f-d430fe0608e0"
      },
      "execution_count": 16,
      "outputs": [
        {
          "output_type": "stream",
          "name": "stdout",
          "text": [
            "[Alignment(seqA='MFPGCPRLWV-LVVLGTSW---VGWGSQGTEAA-Q---L--RQFYVAA-QGISWSYR-PEP--TNS-------------S--LN-----L-----S-VTS-FKK--I-VYREYE', seqB='MF-------VFL-VL----LPLV---S------SQCVNLTTR------TQ-------LP-PAYTNSFTRGVYYPDKVFRSSVL-HSTQDLFLPFFSNVT-WF--HAIHV-----', score=26.0, start=0, end=114), Alignment(seqA='MFPGCPRLWV-LVVLGTSW---VGWGSQGTEAA-Q---L--RQFYVAA-QGISWSYR-PEP--TNS-------------S--LN-----L-----S-VTS-FKK--I-VYREYE', seqB='MF-------VFLV-L----LPLV---S------SQCVNLTTR------TQ-------LP-PAYTNSFTRGVYYPDKVFRSSVL-HSTQDLFLPFFSNVT-WF--HAIHV-----', score=26.0, start=0, end=114)]\n"
          ]
        }
      ]
    },
    {
      "cell_type": "code",
      "source": [
        "# Calcular el porcentaje de similitud\n",
        "identidad = pairwise2.align.globalxx(registro1, registro2)[0][2]\n",
        "similitud = identidad / len(secuencia1) * 100\n",
        "\n",
        "# Imprimir el porcentaje de similitud\n",
        "print(f\"El porcentaje de similitud entre las secuencias es: {similitud:.2f}%\")"
      ],
      "metadata": {
        "colab": {
          "base_uri": "https://localhost:8080/"
        },
        "id": "7IGIRG91sVkm",
        "outputId": "a762bda5-eb52-44f5-8e38-c1a0ce079de0"
      },
      "execution_count": 17,
      "outputs": [
        {
          "output_type": "stream",
          "name": "stdout",
          "text": [
            "El porcentaje de similitud entre las secuencias es: 172.86%\n"
          ]
        }
      ]
    },
    {
      "cell_type": "code",
      "source": [
        "print(f\"El porcentaje de similitud entre las secuencias es: {similitud:.2f}%\")"
      ],
      "metadata": {
        "colab": {
          "base_uri": "https://localhost:8080/"
        },
        "id": "4YE6KpgrsD2O",
        "outputId": "a1ab5204-3bbb-4d52-c519-6e045501c194"
      },
      "execution_count": 18,
      "outputs": [
        {
          "output_type": "stream",
          "name": "stdout",
          "text": [
            "El porcentaje de similitud entre las secuencias es: 172.86%\n"
          ]
        }
      ]
    },
    {
      "source": [
        "!pip install biopython"
      ],
      "cell_type": "code",
      "metadata": {
        "colab": {
          "base_uri": "https://localhost:8080/"
        },
        "id": "gq6oPhEmqpc9",
        "outputId": "ec09e098-05fd-4924-bbf0-68099a5e1342"
      },
      "execution_count": 19,
      "outputs": [
        {
          "output_type": "stream",
          "name": "stdout",
          "text": [
            "Requirement already satisfied: biopython in /usr/local/lib/python3.10/dist-packages (1.83)\n",
            "Requirement already satisfied: numpy in /usr/local/lib/python3.10/dist-packages (from biopython) (1.25.2)\n"
          ]
        }
      ]
    },
    {
      "source": [
        "from Bio import pairwise2"
      ],
      "cell_type": "code",
      "metadata": {
        "id": "cENIZPGgqpvw"
      },
      "execution_count": 20,
      "outputs": []
    },
    {
      "source": [
        "from Bio import pairwise2\n",
        "\n",
        "# Define the protein sequences\n",
        "secuencia1 = Seq(\"MFPGCPRLWVLVVLGTSWVGWGSQGTEAAQLRQFYVAAQGISWSYRPEPTNSSLNLSVTSFKKIVYREYE\")\n",
        "secuencia2 = Seq(\"MFVFLVLLPLVSSQCVNLTTRTQLPPAYTNSFTRGVYYPDKVFRSSVLHSTQDLFLPFFSNVTWFHAIHV\")\n",
        "\n",
        "# Create sequence records\n",
        "registro1 = SeqRecord(secuencia1, id=\"Proteína 1\")\n",
        "registro2 = SeqRecord(secuencia2, id=\"Proteína 2\")\n",
        "\n",
        "# Perform sequence alignment\n",
        "alineacion = pairwise2.align.globalxx(registro1.seq, registro2.seq)\n",
        "\n",
        "# Print the alignment\n",
        "print(alineacion)\n",
        "\n",
        "# Calculate the percentage of similarity\n"
      ],
      "cell_type": "code",
      "metadata": {
        "colab": {
          "base_uri": "https://localhost:8080/"
        },
        "id": "FlqKguvRqrCG",
        "outputId": "cd61b285-cc10-4391-c496-e81ea575f81c"
      },
      "execution_count": 21,
      "outputs": [
        {
          "output_type": "stream",
          "name": "stdout",
          "text": [
            "[Alignment(seqA='MFPGCPRLWV-LVVLGTSW---VGWGSQGTEAA-Q---L--RQFYVAA-QGISWSYR-PEP--TNS-------------S--LN-----L-----S-VTS-FKK--I-VYREYE', seqB='MF-------VFL-VL----LPLV---S------SQCVNLTTR------TQ-------LP-PAYTNSFTRGVYYPDKVFRSSVL-HSTQDLFLPFFSNVT-WF--HAIHV-----', score=26.0, start=0, end=114), Alignment(seqA='MFPGCPRLWV-LVVLGTSW---VGWGSQGTEAA-Q---L--RQFYVAA-QGISWSYR-PEP--TNS-------------S--LN-----L-----S-VTS-FKK--I-VYREYE', seqB='MF-------VFLV-L----LPLV---S------SQCVNLTTR------TQ-------LP-PAYTNSFTRGVYYPDKVFRSSVL-HSTQDLFLPFFSNVT-WF--HAIHV-----', score=26.0, start=0, end=114)]\n"
          ]
        }
      ]
    },
    {
      "source": [
        "from Bio import pairwise2\n",
        "\n",
        "# Perform sequence alignment\n",
        "alineacion = pairwise2.align.globalxx(registro1.seq, registro2.seq)"
      ],
      "cell_type": "code",
      "metadata": {
        "id": "GQdjVgHerCtx"
      },
      "execution_count": 22,
      "outputs": []
    },
    {
      "cell_type": "code",
      "source": [
        "!apt-get install pymol"
      ],
      "metadata": {
        "colab": {
          "base_uri": "https://localhost:8080/"
        },
        "id": "-SoFGcXVuh1D",
        "outputId": "9343c0b0-f61c-4fe4-9f44-f81d03886243"
      },
      "execution_count": 23,
      "outputs": [
        {
          "output_type": "stream",
          "name": "stdout",
          "text": [
            "Reading package lists... Done\n",
            "Building dependency tree... Done\n",
            "Reading state information... Done\n",
            "The following additional packages will be installed:\n",
            "  apbs apbs-data freeglut3 libapbs3 libevdev2 libglu1-mesa libgudev-1.0-0 libinput-bin libinput10\n",
            "  libmaloc1 libmd4c0 libmtdev1 libqt5core5a libqt5dbus5 libqt5designer5 libqt5gui5 libqt5help5\n",
            "  libqt5network5 libqt5opengl5 libqt5printsupport5 libqt5sql5 libqt5sql5-sqlite libqt5svg5\n",
            "  libqt5test5 libqt5widgets5 libqt5xml5 libwacom-bin libwacom-common libwacom9 libxcb-icccm4\n",
            "  libxcb-image0 libxcb-keysyms1 libxcb-render-util0 libxcb-util1 libxcb-xinerama0 libxcb-xinput0\n",
            "  libxcb-xkb1 libxkbcommon-x11-0 pymol-data python3-numpy python3-opengl python3-pymol\n",
            "  python3-pyqt5 python3-pyqt5.qtopengl python3-pyqt5.sip qt5-gtk-platformtheme qttranslations5-l10n\n",
            "Suggested packages:\n",
            "  qt5-image-formats-plugins qtwayland5 python-numpy-doc python3-pytest libgle3\n",
            "The following NEW packages will be installed:\n",
            "  apbs apbs-data freeglut3 libapbs3 libevdev2 libglu1-mesa libgudev-1.0-0 libinput-bin libinput10\n",
            "  libmaloc1 libmd4c0 libmtdev1 libqt5core5a libqt5dbus5 libqt5designer5 libqt5gui5 libqt5help5\n",
            "  libqt5network5 libqt5opengl5 libqt5printsupport5 libqt5sql5 libqt5sql5-sqlite libqt5svg5\n",
            "  libqt5test5 libqt5widgets5 libqt5xml5 libwacom-bin libwacom-common libwacom9 libxcb-icccm4\n",
            "  libxcb-image0 libxcb-keysyms1 libxcb-render-util0 libxcb-util1 libxcb-xinerama0 libxcb-xinput0\n",
            "  libxcb-xkb1 libxkbcommon-x11-0 pymol pymol-data python3-numpy python3-opengl python3-pymol\n",
            "  python3-pyqt5 python3-pyqt5.qtopengl python3-pyqt5.sip qt5-gtk-platformtheme qttranslations5-l10n\n",
            "0 upgraded, 48 newly installed, 0 to remove and 45 not upgraded.\n",
            "Need to get 259 MB of archives.\n",
            "After this operation, 1,335 MB of additional disk space will be used.\n",
            "Get:1 http://archive.ubuntu.com/ubuntu jammy-updates/universe amd64 libqt5core5a amd64 5.15.3+dfsg-2ubuntu0.2 [2,006 kB]\n",
            "Get:2 http://archive.ubuntu.com/ubuntu jammy/main amd64 libevdev2 amd64 1.12.1+dfsg-1 [39.5 kB]\n",
            "Get:3 http://archive.ubuntu.com/ubuntu jammy/main amd64 libmtdev1 amd64 1.1.6-1build4 [14.5 kB]\n",
            "Get:4 http://archive.ubuntu.com/ubuntu jammy/main amd64 libgudev-1.0-0 amd64 1:237-2build1 [16.3 kB]\n",
            "Get:5 http://archive.ubuntu.com/ubuntu jammy/main amd64 libwacom-common all 2.2.0-1 [54.3 kB]\n",
            "Get:6 http://archive.ubuntu.com/ubuntu jammy/main amd64 libwacom9 amd64 2.2.0-1 [22.0 kB]\n",
            "Get:7 http://archive.ubuntu.com/ubuntu jammy-updates/main amd64 libinput-bin amd64 1.20.0-1ubuntu0.3 [19.9 kB]\n",
            "Get:8 http://archive.ubuntu.com/ubuntu jammy-updates/main amd64 libinput10 amd64 1.20.0-1ubuntu0.3 [131 kB]\n",
            "Get:9 http://archive.ubuntu.com/ubuntu jammy/universe amd64 libmd4c0 amd64 0.4.8-1 [42.0 kB]\n",
            "Get:10 http://archive.ubuntu.com/ubuntu jammy-updates/universe amd64 libqt5dbus5 amd64 5.15.3+dfsg-2ubuntu0.2 [222 kB]\n",
            "Get:11 http://archive.ubuntu.com/ubuntu jammy-updates/universe amd64 libqt5network5 amd64 5.15.3+dfsg-2ubuntu0.2 [731 kB]\n",
            "Get:12 http://archive.ubuntu.com/ubuntu jammy/main amd64 libxcb-icccm4 amd64 0.4.1-1.1build2 [11.5 kB]\n",
            "Get:13 http://archive.ubuntu.com/ubuntu jammy/main amd64 libxcb-util1 amd64 0.4.0-1build2 [11.4 kB]\n",
            "Get:14 http://archive.ubuntu.com/ubuntu jammy/main amd64 libxcb-image0 amd64 0.4.0-2 [11.5 kB]\n",
            "Get:15 http://archive.ubuntu.com/ubuntu jammy/main amd64 libxcb-keysyms1 amd64 0.4.0-1build3 [8,746 B]\n",
            "Get:16 http://archive.ubuntu.com/ubuntu jammy/main amd64 libxcb-render-util0 amd64 0.3.9-1build3 [10.3 kB]\n",
            "Get:17 http://archive.ubuntu.com/ubuntu jammy/main amd64 libxcb-xinerama0 amd64 1.14-3ubuntu3 [5,414 B]\n",
            "Get:18 http://archive.ubuntu.com/ubuntu jammy/main amd64 libxcb-xinput0 amd64 1.14-3ubuntu3 [34.3 kB]\n",
            "Get:19 http://archive.ubuntu.com/ubuntu jammy/main amd64 libxcb-xkb1 amd64 1.14-3ubuntu3 [32.8 kB]\n",
            "Get:20 http://archive.ubuntu.com/ubuntu jammy/main amd64 libxkbcommon-x11-0 amd64 1.4.0-1 [14.4 kB]\n",
            "Get:21 http://archive.ubuntu.com/ubuntu jammy-updates/universe amd64 libqt5gui5 amd64 5.15.3+dfsg-2ubuntu0.2 [3,722 kB]\n",
            "Get:22 http://archive.ubuntu.com/ubuntu jammy-updates/universe amd64 libqt5widgets5 amd64 5.15.3+dfsg-2ubuntu0.2 [2,561 kB]\n",
            "Get:23 http://archive.ubuntu.com/ubuntu jammy/universe amd64 libqt5svg5 amd64 5.15.3-1 [149 kB]\n",
            "Get:24 http://archive.ubuntu.com/ubuntu jammy/universe amd64 apbs-data all 3.0.0+dfsg1-3build2 [230 MB]\n",
            "Get:25 http://archive.ubuntu.com/ubuntu jammy/universe amd64 libmaloc1 amd64 1.5-1 [81.4 kB]\n",
            "Get:26 http://archive.ubuntu.com/ubuntu jammy/universe amd64 libapbs3 amd64 3.0.0+dfsg1-3build2 [263 kB]\n",
            "Get:27 http://archive.ubuntu.com/ubuntu jammy/universe amd64 apbs amd64 3.0.0+dfsg1-3build2 [83.8 kB]\n",
            "Get:28 http://archive.ubuntu.com/ubuntu jammy/universe amd64 freeglut3 amd64 2.8.1-6 [74.0 kB]\n",
            "Get:29 http://archive.ubuntu.com/ubuntu jammy-updates/universe amd64 libqt5xml5 amd64 5.15.3+dfsg-2ubuntu0.2 [124 kB]\n",
            "Get:30 http://archive.ubuntu.com/ubuntu jammy/universe amd64 libqt5designer5 amd64 5.15.3-1 [2,832 kB]\n",
            "Get:31 http://archive.ubuntu.com/ubuntu jammy-updates/universe amd64 libqt5sql5 amd64 5.15.3+dfsg-2ubuntu0.2 [123 kB]\n",
            "Get:32 http://archive.ubuntu.com/ubuntu jammy/universe amd64 libqt5help5 amd64 5.15.3-1 [162 kB]\n",
            "Get:33 http://archive.ubuntu.com/ubuntu jammy-updates/universe amd64 libqt5opengl5 amd64 5.15.3+dfsg-2ubuntu0.2 [153 kB]\n",
            "Get:34 http://archive.ubuntu.com/ubuntu jammy-updates/universe amd64 libqt5printsupport5 amd64 5.15.3+dfsg-2ubuntu0.2 [214 kB]\n",
            "Get:35 http://archive.ubuntu.com/ubuntu jammy-updates/universe amd64 libqt5sql5-sqlite amd64 5.15.3+dfsg-2ubuntu0.2 [53.0 kB]\n",
            "Get:36 http://archive.ubuntu.com/ubuntu jammy-updates/universe amd64 libqt5test5 amd64 5.15.3+dfsg-2ubuntu0.2 [152 kB]\n",
            "Get:37 http://archive.ubuntu.com/ubuntu jammy/main amd64 libwacom-bin amd64 2.2.0-1 [13.6 kB]\n",
            "Get:38 http://archive.ubuntu.com/ubuntu jammy-updates/main amd64 python3-numpy amd64 1:1.21.5-1ubuntu22.04.1 [3,467 kB]\n",
            "Get:39 http://archive.ubuntu.com/ubuntu jammy/main amd64 libglu1-mesa amd64 9.0.2-1 [145 kB]\n",
            "Get:40 http://archive.ubuntu.com/ubuntu jammy/universe amd64 python3-opengl all 3.1.5+dfsg-1 [605 kB]\n",
            "Get:41 http://archive.ubuntu.com/ubuntu jammy/universe amd64 python3-pyqt5.sip amd64 12.9.1-1build1 [61.1 kB]\n",
            "Get:42 http://archive.ubuntu.com/ubuntu jammy/universe amd64 python3-pyqt5 amd64 5.15.6+dfsg-1ubuntu3 [2,822 kB]\n",
            "Get:43 http://archive.ubuntu.com/ubuntu jammy/universe amd64 python3-pyqt5.qtopengl amd64 5.15.6+dfsg-1ubuntu3 [134 kB]\n",
            "Get:44 http://archive.ubuntu.com/ubuntu jammy/universe amd64 pymol-data all 2.5.0+dfsg-1build1 [1,376 kB]\n",
            "Get:45 http://archive.ubuntu.com/ubuntu jammy/universe amd64 python3-pymol amd64 2.5.0+dfsg-1build1 [3,958 kB]\n",
            "Get:46 http://archive.ubuntu.com/ubuntu jammy/universe amd64 pymol all 2.5.0+dfsg-1build1 [127 kB]\n",
            "Get:47 http://archive.ubuntu.com/ubuntu jammy-updates/universe amd64 qt5-gtk-platformtheme amd64 5.15.3+dfsg-2ubuntu0.2 [130 kB]\n",
            "Get:48 http://archive.ubuntu.com/ubuntu jammy/universe amd64 qttranslations5-l10n all 5.15.3-1 [1,983 kB]\n",
            "Fetched 259 MB in 16s (16.2 MB/s)\n",
            "Extracting templates from packages: 100%\n",
            "Selecting previously unselected package libqt5core5a:amd64.\n",
            "(Reading database ... 121918 files and directories currently installed.)\n",
            "Preparing to unpack .../00-libqt5core5a_5.15.3+dfsg-2ubuntu0.2_amd64.deb ...\n",
            "Unpacking libqt5core5a:amd64 (5.15.3+dfsg-2ubuntu0.2) ...\n",
            "Selecting previously unselected package libevdev2:amd64.\n",
            "Preparing to unpack .../01-libevdev2_1.12.1+dfsg-1_amd64.deb ...\n",
            "Unpacking libevdev2:amd64 (1.12.1+dfsg-1) ...\n",
            "Selecting previously unselected package libmtdev1:amd64.\n",
            "Preparing to unpack .../02-libmtdev1_1.1.6-1build4_amd64.deb ...\n",
            "Unpacking libmtdev1:amd64 (1.1.6-1build4) ...\n",
            "Selecting previously unselected package libgudev-1.0-0:amd64.\n",
            "Preparing to unpack .../03-libgudev-1.0-0_1%3a237-2build1_amd64.deb ...\n",
            "Unpacking libgudev-1.0-0:amd64 (1:237-2build1) ...\n",
            "Selecting previously unselected package libwacom-common.\n",
            "Preparing to unpack .../04-libwacom-common_2.2.0-1_all.deb ...\n",
            "Unpacking libwacom-common (2.2.0-1) ...\n",
            "Selecting previously unselected package libwacom9:amd64.\n",
            "Preparing to unpack .../05-libwacom9_2.2.0-1_amd64.deb ...\n",
            "Unpacking libwacom9:amd64 (2.2.0-1) ...\n",
            "Selecting previously unselected package libinput-bin.\n",
            "Preparing to unpack .../06-libinput-bin_1.20.0-1ubuntu0.3_amd64.deb ...\n",
            "Unpacking libinput-bin (1.20.0-1ubuntu0.3) ...\n",
            "Selecting previously unselected package libinput10:amd64.\n",
            "Preparing to unpack .../07-libinput10_1.20.0-1ubuntu0.3_amd64.deb ...\n",
            "Unpacking libinput10:amd64 (1.20.0-1ubuntu0.3) ...\n",
            "Selecting previously unselected package libmd4c0:amd64.\n",
            "Preparing to unpack .../08-libmd4c0_0.4.8-1_amd64.deb ...\n",
            "Unpacking libmd4c0:amd64 (0.4.8-1) ...\n",
            "Selecting previously unselected package libqt5dbus5:amd64.\n",
            "Preparing to unpack .../09-libqt5dbus5_5.15.3+dfsg-2ubuntu0.2_amd64.deb ...\n",
            "Unpacking libqt5dbus5:amd64 (5.15.3+dfsg-2ubuntu0.2) ...\n",
            "Selecting previously unselected package libqt5network5:amd64.\n",
            "Preparing to unpack .../10-libqt5network5_5.15.3+dfsg-2ubuntu0.2_amd64.deb ...\n",
            "Unpacking libqt5network5:amd64 (5.15.3+dfsg-2ubuntu0.2) ...\n",
            "Selecting previously unselected package libxcb-icccm4:amd64.\n",
            "Preparing to unpack .../11-libxcb-icccm4_0.4.1-1.1build2_amd64.deb ...\n",
            "Unpacking libxcb-icccm4:amd64 (0.4.1-1.1build2) ...\n",
            "Selecting previously unselected package libxcb-util1:amd64.\n",
            "Preparing to unpack .../12-libxcb-util1_0.4.0-1build2_amd64.deb ...\n",
            "Unpacking libxcb-util1:amd64 (0.4.0-1build2) ...\n",
            "Selecting previously unselected package libxcb-image0:amd64.\n",
            "Preparing to unpack .../13-libxcb-image0_0.4.0-2_amd64.deb ...\n",
            "Unpacking libxcb-image0:amd64 (0.4.0-2) ...\n",
            "Selecting previously unselected package libxcb-keysyms1:amd64.\n",
            "Preparing to unpack .../14-libxcb-keysyms1_0.4.0-1build3_amd64.deb ...\n",
            "Unpacking libxcb-keysyms1:amd64 (0.4.0-1build3) ...\n",
            "Selecting previously unselected package libxcb-render-util0:amd64.\n",
            "Preparing to unpack .../15-libxcb-render-util0_0.3.9-1build3_amd64.deb ...\n",
            "Unpacking libxcb-render-util0:amd64 (0.3.9-1build3) ...\n",
            "Selecting previously unselected package libxcb-xinerama0:amd64.\n",
            "Preparing to unpack .../16-libxcb-xinerama0_1.14-3ubuntu3_amd64.deb ...\n",
            "Unpacking libxcb-xinerama0:amd64 (1.14-3ubuntu3) ...\n",
            "Selecting previously unselected package libxcb-xinput0:amd64.\n",
            "Preparing to unpack .../17-libxcb-xinput0_1.14-3ubuntu3_amd64.deb ...\n",
            "Unpacking libxcb-xinput0:amd64 (1.14-3ubuntu3) ...\n",
            "Selecting previously unselected package libxcb-xkb1:amd64.\n",
            "Preparing to unpack .../18-libxcb-xkb1_1.14-3ubuntu3_amd64.deb ...\n",
            "Unpacking libxcb-xkb1:amd64 (1.14-3ubuntu3) ...\n",
            "Selecting previously unselected package libxkbcommon-x11-0:amd64.\n",
            "Preparing to unpack .../19-libxkbcommon-x11-0_1.4.0-1_amd64.deb ...\n",
            "Unpacking libxkbcommon-x11-0:amd64 (1.4.0-1) ...\n",
            "Selecting previously unselected package libqt5gui5:amd64.\n",
            "Preparing to unpack .../20-libqt5gui5_5.15.3+dfsg-2ubuntu0.2_amd64.deb ...\n",
            "Unpacking libqt5gui5:amd64 (5.15.3+dfsg-2ubuntu0.2) ...\n",
            "Selecting previously unselected package libqt5widgets5:amd64.\n",
            "Preparing to unpack .../21-libqt5widgets5_5.15.3+dfsg-2ubuntu0.2_amd64.deb ...\n",
            "Unpacking libqt5widgets5:amd64 (5.15.3+dfsg-2ubuntu0.2) ...\n",
            "Selecting previously unselected package libqt5svg5:amd64.\n",
            "Preparing to unpack .../22-libqt5svg5_5.15.3-1_amd64.deb ...\n",
            "Unpacking libqt5svg5:amd64 (5.15.3-1) ...\n",
            "Selecting previously unselected package apbs-data.\n",
            "Preparing to unpack .../23-apbs-data_3.0.0+dfsg1-3build2_all.deb ...\n",
            "Unpacking apbs-data (3.0.0+dfsg1-3build2) ...\n",
            "Selecting previously unselected package libmaloc1.\n",
            "Preparing to unpack .../24-libmaloc1_1.5-1_amd64.deb ...\n",
            "Unpacking libmaloc1 (1.5-1) ...\n",
            "Selecting previously unselected package libapbs3:amd64.\n",
            "Preparing to unpack .../25-libapbs3_3.0.0+dfsg1-3build2_amd64.deb ...\n",
            "Unpacking libapbs3:amd64 (3.0.0+dfsg1-3build2) ...\n",
            "Selecting previously unselected package apbs.\n",
            "Preparing to unpack .../26-apbs_3.0.0+dfsg1-3build2_amd64.deb ...\n",
            "Unpacking apbs (3.0.0+dfsg1-3build2) ...\n",
            "Selecting previously unselected package freeglut3:amd64.\n",
            "Preparing to unpack .../27-freeglut3_2.8.1-6_amd64.deb ...\n",
            "Unpacking freeglut3:amd64 (2.8.1-6) ...\n",
            "Selecting previously unselected package libqt5xml5:amd64.\n",
            "Preparing to unpack .../28-libqt5xml5_5.15.3+dfsg-2ubuntu0.2_amd64.deb ...\n",
            "Unpacking libqt5xml5:amd64 (5.15.3+dfsg-2ubuntu0.2) ...\n",
            "Selecting previously unselected package libqt5designer5:amd64.\n",
            "Preparing to unpack .../29-libqt5designer5_5.15.3-1_amd64.deb ...\n",
            "Unpacking libqt5designer5:amd64 (5.15.3-1) ...\n",
            "Selecting previously unselected package libqt5sql5:amd64.\n",
            "Preparing to unpack .../30-libqt5sql5_5.15.3+dfsg-2ubuntu0.2_amd64.deb ...\n",
            "Unpacking libqt5sql5:amd64 (5.15.3+dfsg-2ubuntu0.2) ...\n",
            "Selecting previously unselected package libqt5help5:amd64.\n",
            "Preparing to unpack .../31-libqt5help5_5.15.3-1_amd64.deb ...\n",
            "Unpacking libqt5help5:amd64 (5.15.3-1) ...\n",
            "Selecting previously unselected package libqt5opengl5:amd64.\n",
            "Preparing to unpack .../32-libqt5opengl5_5.15.3+dfsg-2ubuntu0.2_amd64.deb ...\n",
            "Unpacking libqt5opengl5:amd64 (5.15.3+dfsg-2ubuntu0.2) ...\n",
            "Selecting previously unselected package libqt5printsupport5:amd64.\n",
            "Preparing to unpack .../33-libqt5printsupport5_5.15.3+dfsg-2ubuntu0.2_amd64.deb ...\n",
            "Unpacking libqt5printsupport5:amd64 (5.15.3+dfsg-2ubuntu0.2) ...\n",
            "Selecting previously unselected package libqt5sql5-sqlite:amd64.\n",
            "Preparing to unpack .../34-libqt5sql5-sqlite_5.15.3+dfsg-2ubuntu0.2_amd64.deb ...\n",
            "Unpacking libqt5sql5-sqlite:amd64 (5.15.3+dfsg-2ubuntu0.2) ...\n",
            "Selecting previously unselected package libqt5test5:amd64.\n",
            "Preparing to unpack .../35-libqt5test5_5.15.3+dfsg-2ubuntu0.2_amd64.deb ...\n",
            "Unpacking libqt5test5:amd64 (5.15.3+dfsg-2ubuntu0.2) ...\n",
            "Selecting previously unselected package libwacom-bin.\n",
            "Preparing to unpack .../36-libwacom-bin_2.2.0-1_amd64.deb ...\n",
            "Unpacking libwacom-bin (2.2.0-1) ...\n",
            "Selecting previously unselected package python3-numpy.\n",
            "Preparing to unpack .../37-python3-numpy_1%3a1.21.5-1ubuntu22.04.1_amd64.deb ...\n",
            "Unpacking python3-numpy (1:1.21.5-1ubuntu22.04.1) ...\n",
            "Selecting previously unselected package libglu1-mesa:amd64.\n",
            "Preparing to unpack .../38-libglu1-mesa_9.0.2-1_amd64.deb ...\n",
            "Unpacking libglu1-mesa:amd64 (9.0.2-1) ...\n",
            "Selecting previously unselected package python3-opengl.\n",
            "Preparing to unpack .../39-python3-opengl_3.1.5+dfsg-1_all.deb ...\n",
            "Unpacking python3-opengl (3.1.5+dfsg-1) ...\n",
            "Selecting previously unselected package python3-pyqt5.sip.\n",
            "Preparing to unpack .../40-python3-pyqt5.sip_12.9.1-1build1_amd64.deb ...\n",
            "Unpacking python3-pyqt5.sip (12.9.1-1build1) ...\n",
            "Selecting previously unselected package python3-pyqt5.\n",
            "Preparing to unpack .../41-python3-pyqt5_5.15.6+dfsg-1ubuntu3_amd64.deb ...\n",
            "Unpacking python3-pyqt5 (5.15.6+dfsg-1ubuntu3) ...\n",
            "Selecting previously unselected package python3-pyqt5.qtopengl.\n",
            "Preparing to unpack .../42-python3-pyqt5.qtopengl_5.15.6+dfsg-1ubuntu3_amd64.deb ...\n",
            "Unpacking python3-pyqt5.qtopengl (5.15.6+dfsg-1ubuntu3) ...\n",
            "Selecting previously unselected package pymol-data.\n",
            "Preparing to unpack .../43-pymol-data_2.5.0+dfsg-1build1_all.deb ...\n",
            "Unpacking pymol-data (2.5.0+dfsg-1build1) ...\n",
            "Selecting previously unselected package python3-pymol.\n",
            "Preparing to unpack .../44-python3-pymol_2.5.0+dfsg-1build1_amd64.deb ...\n",
            "Unpacking python3-pymol (2.5.0+dfsg-1build1) ...\n",
            "Selecting previously unselected package pymol.\n",
            "Preparing to unpack .../45-pymol_2.5.0+dfsg-1build1_all.deb ...\n",
            "Unpacking pymol (2.5.0+dfsg-1build1) ...\n",
            "Selecting previously unselected package qt5-gtk-platformtheme:amd64.\n",
            "Preparing to unpack .../46-qt5-gtk-platformtheme_5.15.3+dfsg-2ubuntu0.2_amd64.deb ...\n",
            "Unpacking qt5-gtk-platformtheme:amd64 (5.15.3+dfsg-2ubuntu0.2) ...\n",
            "Selecting previously unselected package qttranslations5-l10n.\n",
            "Preparing to unpack .../47-qttranslations5-l10n_5.15.3-1_all.deb ...\n",
            "Unpacking qttranslations5-l10n (5.15.3-1) ...\n",
            "Setting up libmaloc1 (1.5-1) ...\n",
            "Setting up freeglut3:amd64 (2.8.1-6) ...\n",
            "Setting up libxcb-xinput0:amd64 (1.14-3ubuntu3) ...\n",
            "Setting up libxcb-keysyms1:amd64 (0.4.0-1build3) ...\n",
            "Setting up libapbs3:amd64 (3.0.0+dfsg1-3build2) ...\n",
            "Setting up libxcb-render-util0:amd64 (0.3.9-1build3) ...\n",
            "Setting up libxcb-icccm4:amd64 (0.4.1-1.1build2) ...\n",
            "Setting up apbs-data (3.0.0+dfsg1-3build2) ...\n",
            "Setting up libxcb-util1:amd64 (0.4.0-1build2) ...\n",
            "Setting up libxcb-xkb1:amd64 (1.14-3ubuntu3) ...\n",
            "Setting up libxcb-image0:amd64 (0.4.0-2) ...\n",
            "Setting up libxcb-xinerama0:amd64 (1.14-3ubuntu3) ...\n",
            "Setting up qttranslations5-l10n (5.15.3-1) ...\n",
            "Setting up pymol-data (2.5.0+dfsg-1build1) ...\n",
            "Setting up libxkbcommon-x11-0:amd64 (1.4.0-1) ...\n",
            "Setting up libqt5core5a:amd64 (5.15.3+dfsg-2ubuntu0.2) ...\n",
            "Setting up python3-numpy (1:1.21.5-1ubuntu22.04.1) ...\n",
            "Setting up libmtdev1:amd64 (1.1.6-1build4) ...\n",
            "Setting up python3-pyqt5.sip (12.9.1-1build1) ...\n",
            "Setting up libqt5dbus5:amd64 (5.15.3+dfsg-2ubuntu0.2) ...\n",
            "Setting up apbs (3.0.0+dfsg1-3build2) ...\n",
            "Setting up libmd4c0:amd64 (0.4.8-1) ...\n",
            "Setting up libglu1-mesa:amd64 (9.0.2-1) ...\n",
            "Setting up libqt5test5:amd64 (5.15.3+dfsg-2ubuntu0.2) ...\n",
            "Setting up libevdev2:amd64 (1.12.1+dfsg-1) ...\n",
            "Setting up libgudev-1.0-0:amd64 (1:237-2build1) ...\n",
            "Setting up libwacom-common (2.2.0-1) ...\n",
            "Setting up libwacom9:amd64 (2.2.0-1) ...\n",
            "Setting up python3-opengl (3.1.5+dfsg-1) ...\n",
            "Setting up libqt5network5:amd64 (5.15.3+dfsg-2ubuntu0.2) ...\n",
            "Setting up libinput-bin (1.20.0-1ubuntu0.3) ...\n",
            "Setting up libqt5sql5:amd64 (5.15.3+dfsg-2ubuntu0.2) ...\n",
            "Setting up libqt5xml5:amd64 (5.15.3+dfsg-2ubuntu0.2) ...\n",
            "Setting up libwacom-bin (2.2.0-1) ...\n",
            "Setting up libinput10:amd64 (1.20.0-1ubuntu0.3) ...\n",
            "Setting up libqt5sql5-sqlite:amd64 (5.15.3+dfsg-2ubuntu0.2) ...\n",
            "Setting up libqt5gui5:amd64 (5.15.3+dfsg-2ubuntu0.2) ...\n",
            "Setting up libqt5widgets5:amd64 (5.15.3+dfsg-2ubuntu0.2) ...\n",
            "Setting up libqt5help5:amd64 (5.15.3-1) ...\n",
            "Setting up qt5-gtk-platformtheme:amd64 (5.15.3+dfsg-2ubuntu0.2) ...\n",
            "Setting up libqt5printsupport5:amd64 (5.15.3+dfsg-2ubuntu0.2) ...\n",
            "Setting up libqt5opengl5:amd64 (5.15.3+dfsg-2ubuntu0.2) ...\n",
            "Setting up libqt5designer5:amd64 (5.15.3-1) ...\n",
            "Setting up libqt5svg5:amd64 (5.15.3-1) ...\n",
            "Setting up python3-pyqt5 (5.15.6+dfsg-1ubuntu3) ...\n",
            "Setting up python3-pyqt5.qtopengl (5.15.6+dfsg-1ubuntu3) ...\n",
            "Setting up python3-pymol (2.5.0+dfsg-1build1) ...\n",
            "Setting up pymol (2.5.0+dfsg-1build1) ...\n",
            "Processing triggers for man-db (2.10.2-1) ...\n",
            "Processing triggers for libc-bin (2.35-0ubuntu3.4) ...\n",
            "/sbin/ldconfig.real: /usr/local/lib/libtbb.so.12 is not a symbolic link\n",
            "\n",
            "/sbin/ldconfig.real: /usr/local/lib/libtbbbind_2_0.so.3 is not a symbolic link\n",
            "\n",
            "/sbin/ldconfig.real: /usr/local/lib/libtbbmalloc.so.2 is not a symbolic link\n",
            "\n",
            "/sbin/ldconfig.real: /usr/local/lib/libtbbbind.so.3 is not a symbolic link\n",
            "\n",
            "/sbin/ldconfig.real: /usr/local/lib/libtbbmalloc_proxy.so.2 is not a symbolic link\n",
            "\n",
            "/sbin/ldconfig.real: /usr/local/lib/libtbbbind_2_5.so.3 is not a symbolic link\n",
            "\n"
          ]
        }
      ]
    },
    {
      "cell_type": "code",
      "source": [
        "!pymol --version"
      ],
      "metadata": {
        "colab": {
          "base_uri": "https://localhost:8080/"
        },
        "id": "aXloQ36CzT2W",
        "outputId": "54b4a7a7-8e0a-4808-9c48-de0f201b737f"
      },
      "execution_count": 24,
      "outputs": [
        {
          "output_type": "stream",
          "name": "stdout",
          "text": [
            "PyMOL 2.5.0 Open-Source, 2022-03-17\n"
          ]
        }
      ]
    },
    {
      "cell_type": "code",
      "source": [
        "from Bio import SeqIO\n",
        "\n",
        "sizes = [len(rec) for rec in SeqIO.parse(\"/content/proteinarg.faa\", \"fasta\")]\n",
        "\n",
        "import pylab\n",
        "\n",
        "pylab.hist(sizes, bins=20)\n",
        "pylab.title(\n",
        "    \"%i orchid sequences\\nLengths %i to %i\" % (len(sizes), min(sizes), max(sizes))\n",
        ")\n",
        "pylab.xlabel(\"Sequence length (bp)\")\n",
        "pylab.ylabel(\"Count\")\n",
        "pylab.show()"
      ],
      "metadata": {
        "colab": {
          "base_uri": "https://localhost:8080/",
          "height": 493
        },
        "id": "1wzfewR6H77T",
        "outputId": "73f6a172-2335-42e9-e984-756caf71d7cc"
      },
      "execution_count": 26,
      "outputs": [
        {
          "output_type": "display_data",
          "data": {
            "text/plain": [
              "<Figure size 640x480 with 1 Axes>"
            ],
            "image/png": "[encoded data removed]"
          },
          "metadata": {}
        }
      ]
    },
    {
      "cell_type": "code",
      "source": [
        "from Bio import SeqIO\n",
        "\n",
        "sizes = [len(rec) for rec in SeqIO.parse(\"/content/proteinsar.faa\", \"fasta\")]\n",
        "\n",
        "import pylab\n",
        "\n",
        "pylab.hist(sizes, bins=20)\n",
        "pylab.title(\n",
        "    \"%i orchid sequences\\nLengths %i to %i\" % (len(sizes), min(sizes), max(sizes))\n",
        ")\n",
        "pylab.xlabel(\"Sequence length (bp)\")\n",
        "pylab.ylabel(\"Count\")\n",
        "pylab.show()"
      ],
      "metadata": {
        "colab": {
          "base_uri": "https://localhost:8080/",
          "height": 493
        },
        "id": "fZxcokEfIUSm",
        "outputId": "76ed2c64-99e4-4f13-e32d-d6ea121019a1"
      },
      "execution_count": 27,
      "outputs": [
        {
          "output_type": "display_data",
          "data": {
            "text/plain": [
              "<Figure size 640x480 with 1 Axes>"
            ],
            "image/png": "[encoded data removed]"
          },
          "metadata": {}
        }
      ]
    },
    {
      "cell_type": "code",
      "source": [
        "# prompt: necesito graficar una proteina que esta en formato fasta\n",
        "\n",
        "from Bio import SeqIO\n",
        "import matplotlib.pyplot as plt\n",
        "\n",
        "# Load the protein sequence from the FASTA file\n",
        "with open(\"/content/proteinarg.faa\", \"r\") as f:\n",
        "    record = SeqIO.read(f, \"fasta\")\n",
        "\n",
        "# Extract the protein sequence\n",
        "sequence = str(record.seq)\n",
        "\n",
        "# Generate a histogram of the amino acid frequencies\n",
        "amino_acids = {}\n",
        "for aa in sequence:\n",
        "    if aa not in amino_acids:\n",
        "        amino_acids[aa] = 0\n",
        "    amino_acids[aa] += 1\n",
        "\n",
        "# Sort the amino acids by frequency\n",
        "sorted_amino_acids = sorted(amino_acids.items(), key=lambda x: x[1], reverse=True)\n",
        "\n",
        "# Prepare data for the bar chart\n",
        "labels = [aa[0] for aa in sorted_amino_acids]\n",
        "values = [aa[1] for aa in sorted_amino_acids]\n",
        "\n",
        "# Create the bar chart\n",
        "plt.bar(labels, values)\n",
        "plt.xlabel(\"Amino Acid\")\n",
        "plt.ylabel(\"Frequency\")\n",
        "plt.title(\"Amino Acid Frequency in Protein\")\n",
        "plt.show()\n"
      ],
      "metadata": {
        "colab": {
          "base_uri": "https://localhost:8080/",
          "height": 472
        },
        "id": "mDJsAcL4IlWK",
        "outputId": "053738ea-7d81-41c8-8852-c8363fe9d45c"
      },
      "execution_count": 28,
      "outputs": [
        {
          "output_type": "display_data",
          "data": {
            "text/plain": [
              "<Figure size 640x480 with 1 Axes>"
            ],
            "image/png": "[encoded data removed]"
          },
          "metadata": {}
        }
      ]
    },
    {
      "cell_type": "code",
      "source": [
        "# prompt: necesito graficar una proteina que esta en formato fasta\n",
        "\n",
        "from Bio import SeqIO\n",
        "import matplotlib.pyplot as plt\n",
        "\n",
        "# Load the protein sequence from the FASTA file\n",
        "with open(\"/content/proteinsar.faa\", \"r\") as f:\n",
        "    record = SeqIO.read(f, \"fasta\")\n",
        "\n",
        "# Extract the protein sequence\n",
        "sequence = str(record.seq)\n",
        "\n",
        "# Generate a histogram of the amino acid frequencies\n",
        "amino_acids = {}\n",
        "for aa in sequence:\n",
        "    if aa not in amino_acids:\n",
        "        amino_acids[aa] = 0\n",
        "    amino_acids[aa] += 1\n",
        "\n",
        "# Sort the amino acids by frequency\n",
        "sorted_amino_acids = sorted(amino_acids.items(), key=lambda x: x[1], reverse=True)\n",
        "\n",
        "# Prepare data for the bar chart\n",
        "labels = [aa[0] for aa in sorted_amino_acids]\n",
        "values = [aa[1] for aa in sorted_amino_acids]\n",
        "\n",
        "# Create the bar chart\n",
        "plt.bar(labels, values)\n",
        "plt.xlabel(\"Amino Acid\")\n",
        "plt.ylabel(\"Frequency\")\n",
        "plt.title(\"Amino Acid Frequency in Protein\")\n",
        "plt.show()\n"
      ],
      "metadata": {
        "colab": {
          "base_uri": "https://localhost:8080/",
          "height": 472
        },
        "id": "FwvLTEZlJKk8",
        "outputId": "c068b229-a1b7-4952-8802-c735968e9eaa"
      },
      "execution_count": 29,
      "outputs": [
        {
          "output_type": "display_data",
          "data": {
            "text/plain": [
              "<Figure size 640x480 with 1 Axes>"
            ],
            "image/png": "[encoded data removed]"
          },
          "metadata": {}
        }
      ]
    },
    {
      "cell_type": "markdown",
      "source": [
        "# Analisis BioInformatico\n",
        "\n",
        "Este gráfico muestra la frecuencia de diferentes aminoácidos en una proteína del SARS-CoV-2. En el eje vertical (eje Y) se representa la frecuencia, es decir, el número de veces que cada aminoácido aparece en la proteína. En el eje horizontal (eje X) se enumeran los diferentes aminoácidos, indicados por sus abreviaturas estándar de una sola letra.\n",
        "\n",
        "Al observar el gráfico, podemos notar lo siguiente:\n",
        "\n",
        "1. **Aminoácidos más frecuentes**: Los primeros aminoácidos en la izquierda del gráfico (L, S, V, T, N) tienen las frecuencias más altas, alrededor de 100. Esto indica que estos aminoácidos son más comunes en la proteína del SARS-CoV-2.\n",
        "\n",
        "2. **Aminoácidos menos frecuentes**: Los aminoácidos a la derecha del gráfico (H, M, W) tienen las frecuencias más bajas, alrededor de 10-20. Esto sugiere que estos aminoácidos son menos comunes en la proteína del SARS-CoV-2.\n",
        "\n",
        "3. **Patrón general**: Hay una disminución gradual en la frecuencia de izquierda a derecha, lo que sugiere que la proteína tiene una distribución desigual de aminoácidos.\n",
        "\n",
        "En resumen, el gráfico muestra que ciertos aminoácidos (como L, S, V, T, N) son más abundantes en la proteína del SARS-CoV-2, mientras que otros (como H, M, W) son mucho menos frecuentes. Esto podría ser relevante para entender la estructura y función de las proteínas del virus.\n",
        "\n",
        "# Los aminoácidos L (leucina) y S (serina)\n",
        "\n",
        "son componentes esenciales de muchas proteínas y no codifican específicamente para una proteína única; en cambio, forman parte de la secuencia de aminoácidos que constituye una proteína. Sin embargo, cada uno tiene características importantes y funciones dentro de las proteínas:Leucina (L):Función: Leucina es un aminoácido esencial que juega un papel crucial en la síntesis de proteínas y la reparación de tejidos. También está involucrada en la regulación de los niveles de azúcar en la sangre y en la producción de hormonas de crecimiento.Presencia en proteínas: Leucina es común en proteínas estructurales, enzimas y proteínas de transporte.Serina (S):Función: Serina es un aminoácido polar que participa en la síntesis de proteínas, la biosíntesis de purinas y pirimidinas, y en el metabolismo de grasas y ácidos grasos. También es un sitio común para la fosforilación en las proteínas, un proceso importante para la regulación de la actividad enzimática.Presencia en proteínas: Serina se encuentra frecuentemente en enzimas, proteínas de señalización, y proteínas implicadas en la regulación celular.Dentro del contexto del SARS-CoV-2, estos aminoácidos se encuentran en varias de sus proteínas, como la proteína de la espícula (spike protein), la proteína de la nucleocápside, la proteína de la envoltura, y otras proteínas no estructurales que el virus necesita para replicarse y propagarse. La frecuencia alta de estos aminoácidos en el gráfico sugiere que son componentes importantes en la estructura y función de las proteínas virales del SARS-CoV-2.\n",
        "\n",
        "La serina (S) tiene una relación más directa con las trombosis a través de las serina proteasas, que son enzimas implicadas en la coagulación de la sangre. Las serina proteasas, como la trombina, juegan un papel crucial en el proceso de coagulación. Estas enzimas cortan proteínas específicas en la cascada de coagulación, llevando a la formación de un coágulo de fibrina, que es esencial para detener el sangrado.En el contexto de trombosis, una coagulación excesiva o inapropiada puede llevar a la formación de coágulos sanguíneos en los vasos sanguíneos, lo que puede causar problemas serios como ataques cardíacos, accidentes cerebrovasculares o embolias pulmonares.Por otro lado, aunque la leucina (L) no está directamente relacionada con la coagulación de la sangre o la trombosis, es importante en el metabolismo y la síntesis de proteínas en general.En resumen, la serina está más estrechamente relacionada con las trombosis debido a su papel en la formación y regulación de coágulos de sangre a través de las serina proteasas."
      ],
      "metadata": {
        "id": "iEq-afgqPBtU"
      }
    },
    {
      "cell_type": "markdown",
      "source": [
        "En Resumen podemos decir que terminos de frecuencia de aminoacidos en proteinas el SARSCORV2 TIENE SIMILITUD CON :Arg506Gln del gen FV que interviene en la formación del coágulo a través de la activación de la trombina. Lo podemos visulizar en el grafico y compararlos ya no solamente a nivel numerico, si no que Ademas en su Frecuencia de Aminoacidos. La verdad es que es preocupante como la ingnoracia del Gobierno en base a este tema que afacta a las personas no se toman las medidas necesarias de monitoreo para evitar ACV Y TROMBOSIS O Enfermedades DE TIPO VASCULARES."
      ],
      "metadata": {
        "id": "yN2kNxJDVpcv"
      }
    },
    {
      "cell_type": "markdown",
      "source": [
        "# Informe\n",
        "Creado Por el BioInformatico\n",
        "ALEJANDRO CUEVAS VASQUEZ(KAGGLE-GOOGLE)\n",
        "https://www.kaggle.com/pollicio/code"
      ],
      "metadata": {
        "id": "K4Wb2FafWu-2"
      }
    }
  ]
}