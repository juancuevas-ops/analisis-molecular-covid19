{
  "nbformat": 4,
  "nbformat_minor": 0,
  "metadata": {
    "colab": {
      "name": "analisis molecular del cancer_byjuancuevas.ipynb",
      "provenance": [],
      "authorship_tag": "ABX9TyM7VRd4z5R3xg2Qncmt3Ml6"
    },
    "kernelspec": {
      "name": "python3",
      "display_name": "Python 3"
    }
  },
  "cells": [
    {
      "cell_type": "code",
      "metadata": {
        "colab": {
          "base_uri": "https://localhost:8080/",
          "height": 0
        },
        "id": "NleFSl8cWW-U",
        "outputId": "bd75f520-a872-4215-ef3d-16b6d7e9311a"
      },
      "source": [
        "!pip install Bio "
      ],
      "execution_count": 1,
      "outputs": [
        {
          "output_type": "stream",
          "text": [
            "Collecting Bio\n",
            "\u001b[?25l  Downloading https://files.pythonhosted.org/packages/83/ec/efbae4632107776961f4a1d3607117a4412b9e798609956c664e9c0157f4/bio-0.3.0-py3-none-any.whl (70kB)\n",
            "\u001b[K     |████████████████████████████████| 71kB 4.9MB/s \n",
            "\u001b[?25hRequirement already satisfied: pytest in /usr/local/lib/python3.7/dist-packages (from Bio) (3.6.4)\n",
            "Requirement already satisfied: requests in /usr/local/lib/python3.7/dist-packages (from Bio) (2.23.0)\n",
            "Collecting biopython>=1.78\n",
            "\u001b[?25l  Downloading https://files.pythonhosted.org/packages/3a/cd/0098eaff841850c01da928c7f509b72fd3e1f51d77b772e24de9e2312471/biopython-1.78-cp37-cp37m-manylinux1_x86_64.whl (2.3MB)\n",
            "\u001b[K     |████████████████████████████████| 2.3MB 11.3MB/s \n",
            "\u001b[?25hRequirement already satisfied: py>=1.5.0 in /usr/local/lib/python3.7/dist-packages (from pytest->Bio) (1.10.0)\n",
            "Requirement already satisfied: attrs>=17.4.0 in /usr/local/lib/python3.7/dist-packages (from pytest->Bio) (20.3.0)\n",
            "Requirement already satisfied: setuptools in /usr/local/lib/python3.7/dist-packages (from pytest->Bio) (54.0.0)\n",
            "Requirement already satisfied: atomicwrites>=1.0 in /usr/local/lib/python3.7/dist-packages (from pytest->Bio) (1.4.0)\n",
            "Requirement already satisfied: pluggy<0.8,>=0.5 in /usr/local/lib/python3.7/dist-packages (from pytest->Bio) (0.7.1)\n",
            "Requirement already satisfied: more-itertools>=4.0.0 in /usr/local/lib/python3.7/dist-packages (from pytest->Bio) (8.7.0)\n",
            "Requirement already satisfied: six>=1.10.0 in /usr/local/lib/python3.7/dist-packages (from pytest->Bio) (1.15.0)\n",
            "Requirement already satisfied: idna<3,>=2.5 in /usr/local/lib/python3.7/dist-packages (from requests->Bio) (2.10)\n",
            "Requirement already satisfied: urllib3!=1.25.0,!=1.25.1,<1.26,>=1.21.1 in /usr/local/lib/python3.7/dist-packages (from requests->Bio) (1.24.3)\n",
            "Requirement already satisfied: chardet<4,>=3.0.2 in /usr/local/lib/python3.7/dist-packages (from requests->Bio) (3.0.4)\n",
            "Requirement already satisfied: certifi>=2017.4.17 in /usr/local/lib/python3.7/dist-packages (from requests->Bio) (2020.12.5)\n",
            "Requirement already satisfied: numpy in /usr/local/lib/python3.7/dist-packages (from biopython>=1.78->Bio) (1.19.5)\n",
            "Installing collected packages: biopython, Bio\n",
            "Successfully installed Bio-0.3.0 biopython-1.78\n"
          ],
          "name": "stdout"
        }
      ]
    },
    {
      "cell_type": "code",
      "metadata": {
        "id": "nKuoO4pdWda5"
      },
      "source": [
        "from Bio import SeqIO\r\n",
        "cancer = SeqIO.read(\"/content/cancer_analisis.fasta\",\"fasta\")"
      ],
      "execution_count": 2,
      "outputs": []
    },
    {
      "cell_type": "code",
      "metadata": {
        "colab": {
          "base_uri": "https://localhost:8080/",
          "height": 0
        },
        "id": "Ffw6G_dVWdgw",
        "outputId": "71b898bd-2968-4ea8-c490-9f2da67e7650"
      },
      "source": [
        "cancer"
      ],
      "execution_count": 3,
      "outputs": [
        {
          "output_type": "execute_result",
          "data": {
            "text/plain": [
              "SeqRecord(seq=Seq('MEEPQSDPSVEPPLSQETFSDLWKLLPENNVLSPLPSQAMDDLMLSPDDIEQWF...DSD'), id='sp|P04637.4|P53_HUMAN', name='sp|P04637.4|P53_HUMAN', description='sp|P04637.4|P53_HUMAN RecName: Full=Cellular tumor antigen p53; AltName: Full=Antigen NY-CO-13; AltName: Full=Phosphoprotein p53; AltName: Full=Tumor suppressor p53', dbxrefs=[])"
            ]
          },
          "metadata": {
            "tags": []
          },
          "execution_count": 3
        }
      ]
    },
    {
      "cell_type": "code",
      "metadata": {
        "id": "0nHElZtCWdmA"
      },
      "source": [
        "cancer_seq = cancer.seq"
      ],
      "execution_count": 4,
      "outputs": []
    },
    {
      "cell_type": "code",
      "metadata": {
        "colab": {
          "base_uri": "https://localhost:8080/",
          "height": 0
        },
        "id": "LRXIwe_bWdr5",
        "outputId": "50a51b29-e87e-4e58-c8a5-77d9bacd3f97"
      },
      "source": [
        "print(\"cancer_seq ::\",len(cancer_seq))"
      ],
      "execution_count": 5,
      "outputs": [
        {
          "output_type": "stream",
          "text": [
            "cancer_seq :: 393\n"
          ],
          "name": "stdout"
        }
      ]
    },
    {
      "cell_type": "code",
      "metadata": {
        "id": "fUqLFoHhXvE3"
      },
      "source": [
        "#Compruebe el contenido de GC / cuál de ellos es más estable al calor"
      ],
      "execution_count": null,
      "outputs": []
    },
    {
      "cell_type": "code",
      "metadata": {
        "id": "K5gYr-jEX2Rd"
      },
      "source": [
        "from Bio.SeqUtils import GC"
      ],
      "execution_count": 6,
      "outputs": []
    },
    {
      "cell_type": "code",
      "metadata": {
        "colab": {
          "base_uri": "https://localhost:8080/",
          "height": 0
        },
        "id": "x-zptOZaX6x8",
        "outputId": "3ba96fcc-8b1b-4501-cb7d-040756c8b252"
      },
      "source": [
        "print(\"GC contenido de cancer_seq ::\",GC(cancer_seq))"
      ],
      "execution_count": 9,
      "outputs": [
        {
          "output_type": "stream",
          "text": [
            "GC contenido de cancer_seq :: 18.06615776081425\n"
          ],
          "name": "stdout"
        }
      ]
    },
    {
      "cell_type": "code",
      "metadata": {
        "id": "JDwPjndlYq7x"
      },
      "source": [
        "#recuento de aminoacidos\r\n",
        "from Bio.SeqUtils.ProtParam import ProteinAnalysis"
      ],
      "execution_count": 12,
      "outputs": []
    },
    {
      "cell_type": "code",
      "metadata": {
        "id": "obdEnFoUZCUR"
      },
      "source": [
        "cancer_protein = SeqIO.read(\"/content/cancer_analisis.fasta\",\"fasta\") "
      ],
      "execution_count": 14,
      "outputs": []
    },
    {
      "cell_type": "code",
      "metadata": {
        "id": "4Stk0sC6Yz06"
      },
      "source": [
        "cancer_analysed = ProteinAnalysis(str(cancer_protein))"
      ],
      "execution_count": 15,
      "outputs": []
    },
    {
      "cell_type": "code",
      "metadata": {
        "colab": {
          "base_uri": "https://localhost:8080/",
          "height": 0
        },
        "id": "3NgcLFBHZPev",
        "outputId": "4064c789-6296-473e-af92-6464dd2d9fdb"
      },
      "source": [
        "print(cancer_analysed)\r\n",
        "cancer_analysed = ProteinAnalysis(str(cancer_protein))"
      ],
      "execution_count": 19,
      "outputs": [
        {
          "output_type": "stream",
          "text": [
            "<Bio.SeqUtils.ProtParam.ProteinAnalysis object at 0x7f1cd02af6d0>\n"
          ],
          "name": "stdout"
        }
      ]
    },
    {
      "cell_type": "code",
      "metadata": {
        "colab": {
          "base_uri": "https://localhost:8080/",
          "height": 0
        },
        "id": "kaDlfqk6Zpi5",
        "outputId": "df2f7590-f21e-41d7-f1dc-0f1ce9868735"
      },
      "source": [
        "cancer_analysed.count_amino_acids()"
      ],
      "execution_count": 24,
      "outputs": [
        {
          "output_type": "execute_result",
          "data": {
            "text/plain": [
              "{'A': 8,\n",
              " 'C': 2,\n",
              " 'D': 10,\n",
              " 'E': 6,\n",
              " 'F': 6,\n",
              " 'G': 0,\n",
              " 'H': 3,\n",
              " 'I': 2,\n",
              " 'K': 1,\n",
              " 'L': 8,\n",
              " 'M': 6,\n",
              " 'N': 12,\n",
              " 'P': 15,\n",
              " 'Q': 4,\n",
              " 'R': 1,\n",
              " 'S': 9,\n",
              " 'T': 2,\n",
              " 'V': 2,\n",
              " 'W': 2,\n",
              " 'Y': 1}"
            ]
          },
          "metadata": {
            "tags": []
          },
          "execution_count": 24
        }
      ]
    },
    {
      "cell_type": "code",
      "metadata": {
        "id": "IZbI1ZfAZ64V"
      },
      "source": [
        "#frecuencia de aminoacidos\r\n",
        "from collections import Counter"
      ],
      "execution_count": 26,
      "outputs": []
    },
    {
      "cell_type": "code",
      "metadata": {
        "id": "_maXKO7XaHEd"
      },
      "source": [
        "cancer_freq = Counter(cancer_protein)"
      ],
      "execution_count": 27,
      "outputs": []
    },
    {
      "cell_type": "code",
      "metadata": {
        "colab": {
          "base_uri": "https://localhost:8080/",
          "height": 0
        },
        "id": "VRUdW-qFaPVf",
        "outputId": "8a71cb15-a405-414c-d509-318375906b1b"
      },
      "source": [
        "cancer_freq"
      ],
      "execution_count": 28,
      "outputs": [
        {
          "output_type": "execute_result",
          "data": {
            "text/plain": [
              "Counter({'A': 24,\n",
              "         'C': 10,\n",
              "         'D': 20,\n",
              "         'E': 30,\n",
              "         'F': 11,\n",
              "         'G': 23,\n",
              "         'H': 12,\n",
              "         'I': 8,\n",
              "         'K': 20,\n",
              "         'L': 32,\n",
              "         'M': 12,\n",
              "         'N': 14,\n",
              "         'P': 45,\n",
              "         'Q': 15,\n",
              "         'R': 26,\n",
              "         'S': 38,\n",
              "         'T': 22,\n",
              "         'V': 18,\n",
              "         'W': 4,\n",
              "         'Y': 9})"
            ]
          },
          "metadata": {
            "tags": []
          },
          "execution_count": 28
        }
      ]
    },
    {
      "cell_type": "code",
      "metadata": {
        "colab": {
          "base_uri": "https://localhost:8080/",
          "height": 0
        },
        "id": "nnihXVVoafts",
        "outputId": "c072807d-34c5-49a8-8fca-93e3539b12dc"
      },
      "source": [
        "Counter(cancer_protein).most_common(10)\r\n",
        "#Aminoácido más común en Cancer"
      ],
      "execution_count": 30,
      "outputs": [
        {
          "output_type": "execute_result",
          "data": {
            "text/plain": [
              "[('P', 45),\n",
              " ('S', 38),\n",
              " ('L', 32),\n",
              " ('E', 30),\n",
              " ('R', 26),\n",
              " ('A', 24),\n",
              " ('G', 23),\n",
              " ('T', 22),\n",
              " ('D', 20),\n",
              " ('K', 20)]"
            ]
          },
          "metadata": {
            "tags": []
          },
          "execution_count": 30
        }
      ]
    },
    {
      "cell_type": "code",
      "metadata": {
        "id": "FP4TUVT7a1s7"
      },
      "source": [
        "import numpy as np\r\n",
        "import matplotlib.pyplot as plt"
      ],
      "execution_count": 31,
      "outputs": []
    },
    {
      "cell_type": "code",
      "metadata": {
        "colab": {
          "base_uri": "https://localhost:8080/",
          "height": 282
        },
        "id": "-i1m9DJpa2Nz",
        "outputId": "4a547798-0b03-4915-cab7-81580c301910"
      },
      "source": [
        "plt.bar(cancer_freq.keys(), cancer_freq.values())\r\n",
        "#grafico de aminoacidos del cancer"
      ],
      "execution_count": 33,
      "outputs": [
        {
          "output_type": "execute_result",
          "data": {
            "text/plain": [
              "<BarContainer object of 20 artists>"
            ]
          },
          "metadata": {
            "tags": []
          },
          "execution_count": 33
        },
        {
          "output_type": "display_data",
          "data": {
            "image/png": "[encoded data removed]",
            "text/plain": [
              "<Figure size 432x288 with 1 Axes>"
            ]
          },
          "metadata": {
            "tags": [],
            "needs_background": "light"
          }
        }
      ]
    },
    {
      "cell_type": "code",
      "metadata": {
        "colab": {
          "base_uri": "https://localhost:8080/",
          "height": 0
        },
        "id": "-VX0QYBAds5K",
        "outputId": "e52d90ab-f18b-4321-db7f-d205e07df648"
      },
      "source": [
        "from Bio import pairwise2\r\n",
        "from Bio.pairwise2 import format_alignment\r\n",
        "\r\n",
        "alignments = pairwise2.align.globalxx(cancer_seq,cancer_protein)\r\n",
        "\r\n",
        "print(alignments)\r\n",
        "[('ACTCGA', 'A--C--', 2.0, 0, 6), ('ACTCGA', 'AC----', 2.0, 0, 6)]\r\n",
        "\r\n",
        "# To See it well\r\n",
        "print(format_alignment(*alignments[0]))\r\n",
        "#podemos identificar el antigen tumor en p53"
      ],
      "execution_count": 42,
      "outputs": [
        {
          "output_type": "stream",
          "text": [
            "[Alignment(seqA='MEEPQS-DPSVEP-----PLSQETFSDLWKLL--------PE-------N-NVLS--------PL--------PSQAMDDL-----MLSPDDIEQWFTE---DPG---------------PDEA--------PR-----MPEAAPPVAPAPAAPTPAAPAPAPSWPLSSSVPSQKTYQGSYGF--RLG--------FLHSGTAKSVT----CTYSP---------------------------AL--NKM-----FCQL----AKT----------CPVQLWVDSTPPPGTRVR------AM---------------------------------AIYKQ--------------------------------------------------------SQH----MTEVVRRCPHHERCSDSDGLAPPQHLIRVEGNLRVEYLD-DRNTFRH-SVVVPYEPPEVG-SDCT--TIHYNYMCNS-SCMGGMNRRPILTIITLEDSSGNL--LGRNSFEVRVCACPGRDRRTEEENLRKKGEPHHE---LPPGSTKRA-LPNNTSSSPQPKKKPL--DGEYFT-LQIRGRERFEMFRELNEALELK--DAQAGK--EPGGSRAHSSHLKSKKGQSTSRHKKLM-FKTEGP---DSD--', seqB=\"------ID-----: sp|P-------------04637.4|P-53_HUMAN\\nN---ame: sp|P-04637.4|P-------53_HUM------------AN\\nD--escription: sp|P---04637.4|P-53_HUM---------------------A---------------------N R--ecName: F----------ull=C----ellular tumor antigen p53; A-ltN--ame: F---ull=A--ntigen NY-C-----------------O-13; A-ltName: Full=Phosphoprotein p53; A----ltName: Full=Tumor suppressor p53\\nNumber of features: 0\\nS--eq('M-E--------E----------PQ---------------SD------PS--V--EPP---LS---QET---------FS-----------------D----LWKL-----------------------L-----P--ENNVL---S----PLP-----S-Q------AMD-----DL---------M---------L-SPD-----DIE----------------Q---------WF-----...DSD')\", score=61.0, start=0, end=653), Alignment(seqA='MEEPQSDPSVEP-----PLSQETFSDLWKLL--------PE-------N-NVLS--------PL--------PSQAMDDL-----MLSPDDIEQWFTE---DPG---------------PDEA--------PR-----MPEAAPPVAPAPAAPTPAAPAPAPSWPLSSSVPSQKTYQGSYGF--RLG--------FLHSGTAKSVT----CTYSP---------------------------AL--NKM-----FCQL----AKT----------CPVQLWVDSTPPPGTRVR------AM---------------------------------AIYKQ--------------------------------------------------------SQH----MTEVVRRCPHHERCSDSDGLAPPQHLIRVEGNLRVEYLD-DRNTFRH-SVVVPYEPPEVG-SDCT--TIHYNYMCNS-SCMGGMNRRPILTIITLEDSSGNL--LGRNSFEVRVCACPGRDRRTEEENLRKKGEPHHE---LPPGSTKRA-LPNNTSSSPQPKKKPL--DGEYFT-LQIRGRERFEMFRELNEALELK--DAQAGK--EPGGSRAHSSHLKSKKGQSTSRHKKLM-FKTEGP---DSD--', seqB=\"-----ID-----: sp|P-------------04637.4|P-53_HUMAN\\nN---ame: sp|P-04637.4|P-------53_HUM------------AN\\nD--escription: sp|P---04637.4|P-53_HUM---------------------A---------------------N R--ecName: F----------ull=C----ellular tumor antigen p53; A-ltN--ame: F---ull=A--ntigen NY-C-----------------O-13; A-ltName: Full=Phosphoprotein p53; A----ltName: Full=Tumor suppressor p53\\nNumber of features: 0\\nS--eq('M-E--------E----------PQ---------------SD------PS--V--EPP---LS---QET---------FS-----------------D----LWKL-----------------------L-----P--ENNVL---S----PLP-----S-Q------AMD-----DL---------M---------L-SPD-----DIE----------------Q---------WF-----...DSD')\", score=61.0, start=0, end=652), Alignment(seqA='MEEPQSDPSVEP-----PLSQETFSDLWKLL--------PE-------N-NVLS--------PL--------PSQAMDDL-----MLSPDDIEQWFTE---DPG---------------PDEA--------PR-----MPEAAPPVAPAPAAPTPAAPAPAPSWPLSSSVPSQKTYQGSYGF--RLG--------FLHSGTAKSVT----CTYSP---------------------------AL--NKM-----FCQL----AKT----------CPVQLWVDSTPPPGTRVR------AM---------------------------------AIYKQ--------------------------------------------------------SQH----MTEVVRRCPHHERCSDSDGLAPPQHLIRVEGNLRVEYLD-DRNTFRH-SVVVPYEPPEVG-SDCT--TIHYNYMCNS-SCMGGMNRRPILTIITLEDSSGNL--LGRNSFEVRVCACPGRDRRTEEENLRKKGEPHHE---LPPGSTKRA-LPNNTSSSPQPKKKPL--DGEYFT-LQIRGRERFEMFRELNEALELK--DAQAGK--EPGGSRAHSSHLKSKKGQSTSRHKKLM-FKTEGP---DSD--', seqB=\"----I-D-----: sp|P-------------04637.4|P-53_HUMAN\\nN---ame: sp|P-04637.4|P-------53_HUM------------AN\\nD--escription: sp|P---04637.4|P-53_HUM---------------------A---------------------N R--ecName: F----------ull=C----ellular tumor antigen p53; A-ltN--ame: F---ull=A--ntigen NY-C-----------------O-13; A-ltName: Full=Phosphoprotein p53; A----ltName: Full=Tumor suppressor p53\\nNumber of features: 0\\nS--eq('M-E--------E----------PQ---------------SD------PS--V--EPP---LS---QET---------FS-----------------D----LWKL-----------------------L-----P--ENNVL---S----PLP-----S-Q------AMD-----DL---------M---------L-SPD-----DIE----------------Q---------WF-----...DSD')\", score=61.0, start=0, end=652), Alignment(seqA='MEEPQSDPSVEP-----PLSQETFSDLWKLL--------PE-------N-NVLS--------PL--------PSQAMDDL-----MLSPDDIEQWFTE---DPG---------------PDEA--------PR-----MPEAAPPVAPAPAAPTPAAPAPAPSWPLSSSVPSQKTYQGSYGF--RLG--------FLHSGTAKSVT----CTYSP---------------------------AL--NKM-----FCQL----AKT----------CPVQLWVDSTPPPGTRVR------AM---------------------------------AIYKQ--------------------------------------------------------SQH----MTEVVRRCPHHERCSDSDGLAPPQHLIRVEGNLRVEYLD-DRNTFRH-SVVVPYEPPEVG-SDCT--TIHYNYMCNS-SCMGGMNRRPILTIITLEDSSGNL--LGRNSFEVRVCACPGRDRRTEEENLRKKGEPHHE---LPPGSTKRA-LPNNTSSSPQPKKKPL--DGEYFT-LQIRGRERFEMFRELNEALELK--DAQAGK--EPGGSRAHSSHLKSKKGQSTSRHKKLM-FKTEGP---DSD--', seqB=\"---I--D-----: sp|P-------------04637.4|P-53_HUMAN\\nN---ame: sp|P-04637.4|P-------53_HUM------------AN\\nD--escription: sp|P---04637.4|P-53_HUM---------------------A---------------------N R--ecName: F----------ull=C----ellular tumor antigen p53; A-ltN--ame: F---ull=A--ntigen NY-C-----------------O-13; A-ltName: Full=Phosphoprotein p53; A----ltName: Full=Tumor suppressor p53\\nNumber of features: 0\\nS--eq('M-E--------E----------PQ---------------SD------PS--V--EPP---LS---QET---------FS-----------------D----LWKL-----------------------L-----P--ENNVL---S----PLP-----S-Q------AMD-----DL---------M---------L-SPD-----DIE----------------Q---------WF-----...DSD')\", score=61.0, start=0, end=652), Alignment(seqA='MEEPQSDPSVEP-----PLSQETFSDLWKLL--------PE-------N-NVLS--------PL--------PSQAMDDL-----MLSPDDIEQWFTE---DPG---------------PDEA--------PR-----MPEAAPPVAPAPAAPTPAAPAPAPSWPLSSSVPSQKTYQGSYGF--RLG--------FLHSGTAKSVT----CTYSP---------------------------AL--NKM-----FCQL----AKT----------CPVQLWVDSTPPPGTRVR------AM---------------------------------AIYKQ--------------------------------------------------------SQH----MTEVVRRCPHHERCSDSDGLAPPQHLIRVEGNLRVEYLD-DRNTFRH-SVVVPYEPPEVG-SDCT--TIHYNYMCNS-SCMGGMNRRPILTIITLEDSSGNL--LGRNSFEVRVCACPGRDRRTEEENLRKKGEPHHE---LPPGSTKRA-LPNNTSSSPQPKKKPL--DGEYFT-LQIRGRERFEMFRELNEALELK--DAQAGK--EPGGSRAHSSHLKSKKGQSTSRHKKLM-FKTEGP---DSD--', seqB=\"--I---D-----: sp|P-------------04637.4|P-53_HUMAN\\nN---ame: sp|P-04637.4|P-------53_HUM------------AN\\nD--escription: sp|P---04637.4|P-53_HUM---------------------A---------------------N R--ecName: F----------ull=C----ellular tumor antigen p53; A-ltN--ame: F---ull=A--ntigen NY-C-----------------O-13; A-ltName: Full=Phosphoprotein p53; A----ltName: Full=Tumor suppressor p53\\nNumber of features: 0\\nS--eq('M-E--------E----------PQ---------------SD------PS--V--EPP---LS---QET---------FS-----------------D----LWKL-----------------------L-----P--ENNVL---S----PLP-----S-Q------AMD-----DL---------M---------L-SPD-----DIE----------------Q---------WF-----...DSD')\", score=61.0, start=0, end=652), Alignment(seqA='MEEPQSDPSVEP-----PLSQETFSDLWKLL--------PE-------N-NVLS--------PL--------PSQAMDDL-----MLSPDDIEQWFTE---DPG---------------PDEA--------PR-----MPEAAPPVAPAPAAPTPAAPAPAPSWPLSSSVPSQKTYQGSYGF--RLG--------FLHSGTAKSVT----CTYSP---------------------------AL--NKM-----FCQL----AKT----------CPVQLWVDSTPPPGTRVR------AM---------------------------------AIYKQ--------------------------------------------------------SQH----MTEVVRRCPHHERCSDSDGLAPPQHLIRVEGNLRVEYLD-DRNTFRH-SVVVPYEPPEVG-SDCT--TIHYNYMCNS-SCMGGMNRRPILTIITLEDSSGNL--LGRNSFEVRVCACPGRDRRTEEENLRKKGEPHHE---LPPGSTKRA-LPNNTSSSPQPKKKPL--DGEYFT-LQIRGRERFEMFRELNEALELK--DAQAGK--EPGGSRAHSSHLKSKKGQSTSRHKKLM-FKTEGP---DSD--', seqB=\"-I----D-----: sp|P-------------04637.4|P-53_HUMAN\\nN---ame: sp|P-04637.4|P-------53_HUM------------AN\\nD--escription: sp|P---04637.4|P-53_HUM---------------------A---------------------N R--ecName: F----------ull=C----ellular tumor antigen p53; A-ltN--ame: F---ull=A--ntigen NY-C-----------------O-13; A-ltName: Full=Phosphoprotein p53; A----ltName: Full=Tumor suppressor p53\\nNumber of features: 0\\nS--eq('M-E--------E----------PQ---------------SD------PS--V--EPP---LS---QET---------FS-----------------D----LWKL-----------------------L-----P--ENNVL---S----PLP-----S-Q------AMD-----DL---------M---------L-SPD-----DIE----------------Q---------WF-----...DSD')\", score=61.0, start=0, end=652), Alignment(seqA='MEEPQSDPSVEP-----PLSQETFSDLWKLL--------PE-------N-NVLS--------PL--------PSQAMDDL-----MLSPDDIEQWFTE---DPG---------------PDEA--------PR-----MPEAAPPVAPAPAAPTPAAPAPAPSWPLSSSVPSQKTYQGSYGF--RLG--------FLHSGTAKSVT----CTYSP---------------------------AL--NKM-----FCQL----AKT----------CPVQLWVDSTPPPGTRVR------AM---------------------------------AIYKQ--------------------------------------------------------SQH----MTEVVRRCPHHERCSDSDGLAPPQHLIRVEGNLRVEYLD-DRNTFRH-SVVVPYEPPEVG-SDCT--TIHYNYMCNS-SCMGGMNRRPILTIITLEDSSGNL--LGRNSFEVRVCACPGRDRRTEEENLRKKGEPHHE---LPPGSTKRA-LPNNTSSSPQPKKKPL--DGEYFT-LQIRGRERFEMFRELNEALELK--DAQAGK--EPGGSRAHSSHLKSKKGQSTSRHKKLM-FKTEGP---DSD--', seqB=\"I-----D-----: sp|P-------------04637.4|P-53_HUMAN\\nN---ame: sp|P-04637.4|P-------53_HUM------------AN\\nD--escription: sp|P---04637.4|P-53_HUM---------------------A---------------------N R--ecName: F----------ull=C----ellular tumor antigen p53; A-ltN--ame: F---ull=A--ntigen NY-C-----------------O-13; A-ltName: Full=Phosphoprotein p53; A----ltName: Full=Tumor suppressor p53\\nNumber of features: 0\\nS--eq('M-E--------E----------PQ---------------SD------PS--V--EPP---LS---QET---------FS-----------------D----LWKL-----------------------L-----P--ENNVL---S----PLP-----S-Q------AMD-----DL---------M---------L-SPD-----DIE----------------Q---------WF-----...DSD')\", score=61.0, start=0, end=652), Alignment(seqA='MEEPQS-DPSVEP----PLSQETFSDLWKLL--------PE-------N-NVLS--------PL--------PSQAMDDL-----MLSPDDIEQWFTE---DPG---------------PDEA--------PR-----MPEAAPPVAPAPAAPTPAAPAPAPSWPLSSSVPSQKTYQGSYGF--RLG--------FLHSGTAKSVT----CTYSP---------------------------AL--NKM-----FCQL----AKT----------CPVQLWVDSTPPPGTRVR------AM---------------------------------AIYKQ--------------------------------------------------------SQH----MTEVVRRCPHHERCSDSDGLAPPQHLIRVEGNLRVEYLD-DRNTFRH-SVVVPYEPPEVG-SDCT--TIHYNYMCNS-SCMGGMNRRPILTIITLEDSSGNL--LGRNSFEVRVCACPGRDRRTEEENLRKKGEPHHE---LPPGSTKRA-LPNNTSSSPQPKKKPL--DGEYFT-LQIRGRERFEMFRELNEALELK--DAQAGK--EPGGSRAHSSHLKSKKGQSTSRHKKLM-FKTEGP---DSD--', seqB=\"------ID----: sp|P-------------04637.4|P-53_HUMAN\\nN---ame: sp|P-04637.4|P-------53_HUM------------AN\\nD--escription: sp|P---04637.4|P-53_HUM---------------------A---------------------N R--ecName: F----------ull=C----ellular tumor antigen p53; A-ltN--ame: F---ull=A--ntigen NY-C-----------------O-13; A-ltName: Full=Phosphoprotein p53; A----ltName: Full=Tumor suppressor p53\\nNumber of features: 0\\nS--eq('M-E--------E----------PQ---------------SD------PS--V--EPP---LS---QET---------FS-----------------D----LWKL-----------------------L-----P--ENNVL---S----PLP-----S-Q------AMD-----DL---------M---------L-SPD-----DIE----------------Q---------WF-----...DSD')\", score=61.0, start=0, end=652), Alignment(seqA='MEEPQSDPSVEP----PLSQETFSDLWKLL--------PE-------N-NVLS--------PL--------PSQAMDDL-----MLSPDDIEQWFTE---DPG---------------PDEA--------PR-----MPEAAPPVAPAPAAPTPAAPAPAPSWPLSSSVPSQKTYQGSYGF--RLG--------FLHSGTAKSVT----CTYSP---------------------------AL--NKM-----FCQL----AKT----------CPVQLWVDSTPPPGTRVR------AM---------------------------------AIYKQ--------------------------------------------------------SQH----MTEVVRRCPHHERCSDSDGLAPPQHLIRVEGNLRVEYLD-DRNTFRH-SVVVPYEPPEVG-SDCT--TIHYNYMCNS-SCMGGMNRRPILTIITLEDSSGNL--LGRNSFEVRVCACPGRDRRTEEENLRKKGEPHHE---LPPGSTKRA-LPNNTSSSPQPKKKPL--DGEYFT-LQIRGRERFEMFRELNEALELK--DAQAGK--EPGGSRAHSSHLKSKKGQSTSRHKKLM-FKTEGP---DSD--', seqB=\"-----ID----: sp|P-------------04637.4|P-53_HUMAN\\nN---ame: sp|P-04637.4|P-------53_HUM------------AN\\nD--escription: sp|P---04637.4|P-53_HUM---------------------A---------------------N R--ecName: F----------ull=C----ellular tumor antigen p53; A-ltN--ame: F---ull=A--ntigen NY-C-----------------O-13; A-ltName: Full=Phosphoprotein p53; A----ltName: Full=Tumor suppressor p53\\nNumber of features: 0\\nS--eq('M-E--------E----------PQ---------------SD------PS--V--EPP---LS---QET---------FS-----------------D----LWKL-----------------------L-----P--ENNVL---S----PLP-----S-Q------AMD-----DL---------M---------L-SPD-----DIE----------------Q---------WF-----...DSD')\", score=61.0, start=0, end=651), Alignment(seqA='MEEPQSDPSVEP----PLSQETFSDLWKLL--------PE-------N-NVLS--------PL--------PSQAMDDL-----MLSPDDIEQWFTE---DPG---------------PDEA--------PR-----MPEAAPPVAPAPAAPTPAAPAPAPSWPLSSSVPSQKTYQGSYGF--RLG--------FLHSGTAKSVT----CTYSP---------------------------AL--NKM-----FCQL----AKT----------CPVQLWVDSTPPPGTRVR------AM---------------------------------AIYKQ--------------------------------------------------------SQH----MTEVVRRCPHHERCSDSDGLAPPQHLIRVEGNLRVEYLD-DRNTFRH-SVVVPYEPPEVG-SDCT--TIHYNYMCNS-SCMGGMNRRPILTIITLEDSSGNL--LGRNSFEVRVCACPGRDRRTEEENLRKKGEPHHE---LPPGSTKRA-LPNNTSSSPQPKKKPL--DGEYFT-LQIRGRERFEMFRELNEALELK--DAQAGK--EPGGSRAHSSHLKSKKGQSTSRHKKLM-FKTEGP---DSD--', seqB=\"----I-D----: sp|P-------------04637.4|P-53_HUMAN\\nN---ame: sp|P-04637.4|P-------53_HUM------------AN\\nD--escription: sp|P---04637.4|P-53_HUM---------------------A---------------------N R--ecName: F----------ull=C----ellular tumor antigen p53; A-ltN--ame: F---ull=A--ntigen NY-C-----------------O-13; A-ltName: Full=Phosphoprotein p53; A----ltName: Full=Tumor suppressor p53\\nNumber of features: 0\\nS--eq('M-E--------E----------PQ---------------SD------PS--V--EPP---LS---QET---------FS-----------------D----LWKL-----------------------L-----P--ENNVL---S----PLP-----S-Q------AMD-----DL---------M---------L-SPD-----DIE----------------Q---------WF-----...DSD')\", score=61.0, start=0, end=651), Alignment(seqA='MEEPQSDPSVEP----PLSQETFSDLWKLL--------PE-------N-NVLS--------PL--------PSQAMDDL-----MLSPDDIEQWFTE---DPG---------------PDEA--------PR-----MPEAAPPVAPAPAAPTPAAPAPAPSWPLSSSVPSQKTYQGSYGF--RLG--------FLHSGTAKSVT----CTYSP---------------------------AL--NKM-----FCQL----AKT----------CPVQLWVDSTPPPGTRVR------AM---------------------------------AIYKQ--------------------------------------------------------SQH----MTEVVRRCPHHERCSDSDGLAPPQHLIRVEGNLRVEYLD-DRNTFRH-SVVVPYEPPEVG-SDCT--TIHYNYMCNS-SCMGGMNRRPILTIITLEDSSGNL--LGRNSFEVRVCACPGRDRRTEEENLRKKGEPHHE---LPPGSTKRA-LPNNTSSSPQPKKKPL--DGEYFT-LQIRGRERFEMFRELNEALELK--DAQAGK--EPGGSRAHSSHLKSKKGQSTSRHKKLM-FKTEGP---DSD--', seqB=\"---I--D----: sp|P-------------04637.4|P-53_HUMAN\\nN---ame: sp|P-04637.4|P-------53_HUM------------AN\\nD--escription: sp|P---04637.4|P-53_HUM---------------------A---------------------N R--ecName: F----------ull=C----ellular tumor antigen p53; A-ltN--ame: F---ull=A--ntigen NY-C-----------------O-13; A-ltName: Full=Phosphoprotein p53; A----ltName: Full=Tumor suppressor p53\\nNumber of features: 0\\nS--eq('M-E--------E----------PQ---------------SD------PS--V--EPP---LS---QET---------FS-----------------D----LWKL-----------------------L-----P--ENNVL---S----PLP-----S-Q------AMD-----DL---------M---------L-SPD-----DIE----------------Q---------WF-----...DSD')\", score=61.0, start=0, end=651), Alignment(seqA='MEEPQSDPSVEP----PLSQETFSDLWKLL--------PE-------N-NVLS--------PL--------PSQAMDDL-----MLSPDDIEQWFTE---DPG---------------PDEA--------PR-----MPEAAPPVAPAPAAPTPAAPAPAPSWPLSSSVPSQKTYQGSYGF--RLG--------FLHSGTAKSVT----CTYSP---------------------------AL--NKM-----FCQL----AKT----------CPVQLWVDSTPPPGTRVR------AM---------------------------------AIYKQ--------------------------------------------------------SQH----MTEVVRRCPHHERCSDSDGLAPPQHLIRVEGNLRVEYLD-DRNTFRH-SVVVPYEPPEVG-SDCT--TIHYNYMCNS-SCMGGMNRRPILTIITLEDSSGNL--LGRNSFEVRVCACPGRDRRTEEENLRKKGEPHHE---LPPGSTKRA-LPNNTSSSPQPKKKPL--DGEYFT-LQIRGRERFEMFRELNEALELK--DAQAGK--EPGGSRAHSSHLKSKKGQSTSRHKKLM-FKTEGP---DSD--', seqB=\"--I---D----: sp|P-------------04637.4|P-53_HUMAN\\nN---ame: sp|P-04637.4|P-------53_HUM------------AN\\nD--escription: sp|P---04637.4|P-53_HUM---------------------A---------------------N R--ecName: F----------ull=C----ellular tumor antigen p53; A-ltN--ame: F---ull=A--ntigen NY-C-----------------O-13; A-ltName: Full=Phosphoprotein p53; A----ltName: Full=Tumor suppressor p53\\nNumber of features: 0\\nS--eq('M-E--------E----------PQ---------------SD------PS--V--EPP---LS---QET---------FS-----------------D----LWKL-----------------------L-----P--ENNVL---S----PLP-----S-Q------AMD-----DL---------M---------L-SPD-----DIE----------------Q---------WF-----...DSD')\", score=61.0, start=0, end=651), Alignment(seqA='MEEPQSDPSVEP----PLSQETFSDLWKLL--------PE-------N-NVLS--------PL--------PSQAMDDL-----MLSPDDIEQWFTE---DPG---------------PDEA--------PR-----MPEAAPPVAPAPAAPTPAAPAPAPSWPLSSSVPSQKTYQGSYGF--RLG--------FLHSGTAKSVT----CTYSP---------------------------AL--NKM-----FCQL----AKT----------CPVQLWVDSTPPPGTRVR------AM---------------------------------AIYKQ--------------------------------------------------------SQH----MTEVVRRCPHHERCSDSDGLAPPQHLIRVEGNLRVEYLD-DRNTFRH-SVVVPYEPPEVG-SDCT--TIHYNYMCNS-SCMGGMNRRPILTIITLEDSSGNL--LGRNSFEVRVCACPGRDRRTEEENLRKKGEPHHE---LPPGSTKRA-LPNNTSSSPQPKKKPL--DGEYFT-LQIRGRERFEMFRELNEALELK--DAQAGK--EPGGSRAHSSHLKSKKGQSTSRHKKLM-FKTEGP---DSD--', seqB=\"-I----D----: sp|P-------------04637.4|P-53_HUMAN\\nN---ame: sp|P-04637.4|P-------53_HUM------------AN\\nD--escription: sp|P---04637.4|P-53_HUM---------------------A---------------------N R--ecName: F----------ull=C----ellular tumor antigen p53; A-ltN--ame: F---ull=A--ntigen NY-C-----------------O-13; A-ltName: Full=Phosphoprotein p53; A----ltName: Full=Tumor suppressor p53\\nNumber of features: 0\\nS--eq('M-E--------E----------PQ---------------SD------PS--V--EPP---LS---QET---------FS-----------------D----LWKL-----------------------L-----P--ENNVL---S----PLP-----S-Q------AMD-----DL---------M---------L-SPD-----DIE----------------Q---------WF-----...DSD')\", score=61.0, start=0, end=651), Alignment(seqA='MEEPQSDPSVEP----PLSQETFSDLWKLL--------PE-------N-NVLS--------PL--------PSQAMDDL-----MLSPDDIEQWFTE---DPG---------------PDEA--------PR-----MPEAAPPVAPAPAAPTPAAPAPAPSWPLSSSVPSQKTYQGSYGF--RLG--------FLHSGTAKSVT----CTYSP---------------------------AL--NKM-----FCQL----AKT----------CPVQLWVDSTPPPGTRVR------AM---------------------------------AIYKQ--------------------------------------------------------SQH----MTEVVRRCPHHERCSDSDGLAPPQHLIRVEGNLRVEYLD-DRNTFRH-SVVVPYEPPEVG-SDCT--TIHYNYMCNS-SCMGGMNRRPILTIITLEDSSGNL--LGRNSFEVRVCACPGRDRRTEEENLRKKGEPHHE---LPPGSTKRA-LPNNTSSSPQPKKKPL--DGEYFT-LQIRGRERFEMFRELNEALELK--DAQAGK--EPGGSRAHSSHLKSKKGQSTSRHKKLM-FKTEGP---DSD--', seqB=\"I-----D----: sp|P-------------04637.4|P-53_HUMAN\\nN---ame: sp|P-04637.4|P-------53_HUM------------AN\\nD--escription: sp|P---04637.4|P-53_HUM---------------------A---------------------N R--ecName: F----------ull=C----ellular tumor antigen p53; A-ltN--ame: F---ull=A--ntigen NY-C-----------------O-13; A-ltName: Full=Phosphoprotein p53; A----ltName: Full=Tumor suppressor p53\\nNumber of features: 0\\nS--eq('M-E--------E----------PQ---------------SD------PS--V--EPP---LS---QET---------FS-----------------D----LWKL-----------------------L-----P--ENNVL---S----PLP-----S-Q------AMD-----DL---------M---------L-SPD-----DIE----------------Q---------WF-----...DSD')\", score=61.0, start=0, end=651), Alignment(seqA='MEEPQS-DPSVEP----PLSQETFSDLWKLL--------PE-------N-NVLS--------PL--------PSQAMDDL-----MLSPDDIEQWFTE---DPG---------------PDEA--------PR-----MPEAAPPVAPAPAAPTPAAPAPAPSWPLSSSVPSQKTYQGSYGF--RLG--------FLHSGTAKSVT----CTYSP---------------------------AL--NKM-----FCQL----AKT----------CPVQLWVDSTPPPGTRVR------AM---------------------------------AIYKQ--------------------------------------------------------SQH----MTEVVRRCPHHERCSDSDGLAPPQHLIRVEGNLRVEYLD-DRNTFRH-SVVVPYEPPEVG-SDCT--TIHYNYMCNS-SCMGGMNRRPILTIITLEDSSGNL--LGRNSFEVRVCACPGRDRRTEEENLRKKGEPHHE---LPPGSTKRA-LPNNTSSSPQPKKKPL--DGEYFT-LQIRGRERFEMFRELNEALELK--DAQAGK--EPGGSRAHSSHLKSKKGQSTSRHKKLM-FKTEGP---DSD--', seqB=\"------ID---:- sp|P-------------04637.4|P-53_HUMAN\\nN---ame: sp|P-04637.4|P-------53_HUM------------AN\\nD--escription: sp|P---04637.4|P-53_HUM---------------------A---------------------N R--ecName: F----------ull=C----ellular tumor antigen p53; A-ltN--ame: F---ull=A--ntigen NY-C-----------------O-13; A-ltName: Full=Phosphoprotein p53; A----ltName: Full=Tumor suppressor p53\\nNumber of features: 0\\nS--eq('M-E--------E----------PQ---------------SD------PS--V--EPP---LS---QET---------FS-----------------D----LWKL-----------------------L-----P--ENNVL---S----PLP-----S-Q------AMD-----DL---------M---------L-SPD-----DIE----------------Q---------WF-----...DSD')\", score=61.0, start=0, end=652), Alignment(seqA='MEEPQSDPSVEP----PLSQETFSDLWKLL--------PE-------N-NVLS--------PL--------PSQAMDDL-----MLSPDDIEQWFTE---DPG---------------PDEA--------PR-----MPEAAPPVAPAPAAPTPAAPAPAPSWPLSSSVPSQKTYQGSYGF--RLG--------FLHSGTAKSVT----CTYSP---------------------------AL--NKM-----FCQL----AKT----------CPVQLWVDSTPPPGTRVR------AM---------------------------------AIYKQ--------------------------------------------------------SQH----MTEVVRRCPHHERCSDSDGLAPPQHLIRVEGNLRVEYLD-DRNTFRH-SVVVPYEPPEVG-SDCT--TIHYNYMCNS-SCMGGMNRRPILTIITLEDSSGNL--LGRNSFEVRVCACPGRDRRTEEENLRKKGEPHHE---LPPGSTKRA-LPNNTSSSPQPKKKPL--DGEYFT-LQIRGRERFEMFRELNEALELK--DAQAGK--EPGGSRAHSSHLKSKKGQSTSRHKKLM-FKTEGP---DSD--', seqB=\"-----ID---:- sp|P-------------04637.4|P-53_HUMAN\\nN---ame: sp|P-04637.4|P-------53_HUM------------AN\\nD--escription: sp|P---04637.4|P-53_HUM---------------------A---------------------N R--ecName: F----------ull=C----ellular tumor antigen p53; A-ltN--ame: F---ull=A--ntigen NY-C-----------------O-13; A-ltName: Full=Phosphoprotein p53; A----ltName: Full=Tumor suppressor p53\\nNumber of features: 0\\nS--eq('M-E--------E----------PQ---------------SD------PS--V--EPP---LS---QET---------FS-----------------D----LWKL-----------------------L-----P--ENNVL---S----PLP-----S-Q------AMD-----DL---------M---------L-SPD-----DIE----------------Q---------WF-----...DSD')\", score=61.0, start=0, end=651), Alignment(seqA='MEEPQSDPSVEP----PLSQETFSDLWKLL--------PE-------N-NVLS--------PL--------PSQAMDDL-----MLSPDDIEQWFTE---DPG---------------PDEA--------PR-----MPEAAPPVAPAPAAPTPAAPAPAPSWPLSSSVPSQKTYQGSYGF--RLG--------FLHSGTAKSVT----CTYSP---------------------------AL--NKM-----FCQL----AKT----------CPVQLWVDSTPPPGTRVR------AM---------------------------------AIYKQ--------------------------------------------------------SQH----MTEVVRRCPHHERCSDSDGLAPPQHLIRVEGNLRVEYLD-DRNTFRH-SVVVPYEPPEVG-SDCT--TIHYNYMCNS-SCMGGMNRRPILTIITLEDSSGNL--LGRNSFEVRVCACPGRDRRTEEENLRKKGEPHHE---LPPGSTKRA-LPNNTSSSPQPKKKPL--DGEYFT-LQIRGRERFEMFRELNEALELK--DAQAGK--EPGGSRAHSSHLKSKKGQSTSRHKKLM-FKTEGP---DSD--', seqB=\"----I-D---:- sp|P-------------04637.4|P-53_HUMAN\\nN---ame: sp|P-04637.4|P-------53_HUM------------AN\\nD--escription: sp|P---04637.4|P-53_HUM---------------------A---------------------N R--ecName: F----------ull=C----ellular tumor antigen p53; A-ltN--ame: F---ull=A--ntigen NY-C-----------------O-13; A-ltName: Full=Phosphoprotein p53; A----ltName: Full=Tumor suppressor p53\\nNumber of features: 0\\nS--eq('M-E--------E----------PQ---------------SD------PS--V--EPP---LS---QET---------FS-----------------D----LWKL-----------------------L-----P--ENNVL---S----PLP-----S-Q------AMD-----DL---------M---------L-SPD-----DIE----------------Q---------WF-----...DSD')\", score=61.0, start=0, end=651), Alignment(seqA='MEEPQSDPSVEP----PLSQETFSDLWKLL--------PE-------N-NVLS--------PL--------PSQAMDDL-----MLSPDDIEQWFTE---DPG---------------PDEA--------PR-----MPEAAPPVAPAPAAPTPAAPAPAPSWPLSSSVPSQKTYQGSYGF--RLG--------FLHSGTAKSVT----CTYSP---------------------------AL--NKM-----FCQL----AKT----------CPVQLWVDSTPPPGTRVR------AM---------------------------------AIYKQ--------------------------------------------------------SQH----MTEVVRRCPHHERCSDSDGLAPPQHLIRVEGNLRVEYLD-DRNTFRH-SVVVPYEPPEVG-SDCT--TIHYNYMCNS-SCMGGMNRRPILTIITLEDSSGNL--LGRNSFEVRVCACPGRDRRTEEENLRKKGEPHHE---LPPGSTKRA-LPNNTSSSPQPKKKPL--DGEYFT-LQIRGRERFEMFRELNEALELK--DAQAGK--EPGGSRAHSSHLKSKKGQSTSRHKKLM-FKTEGP---DSD--', seqB=\"---I--D---:- sp|P-------------04637.4|P-53_HUMAN\\nN---ame: sp|P-04637.4|P-------53_HUM------------AN\\nD--escription: sp|P---04637.4|P-53_HUM---------------------A---------------------N R--ecName: F----------ull=C----ellular tumor antigen p53; A-ltN--ame: F---ull=A--ntigen NY-C-----------------O-13; A-ltName: Full=Phosphoprotein p53; A----ltName: Full=Tumor suppressor p53\\nNumber of features: 0\\nS--eq('M-E--------E----------PQ---------------SD------PS--V--EPP---LS---QET---------FS-----------------D----LWKL-----------------------L-----P--ENNVL---S----PLP-----S-Q------AMD-----DL---------M---------L-SPD-----DIE----------------Q---------WF-----...DSD')\", score=61.0, start=0, end=651), Alignment(seqA='MEEPQSDPSVEP----PLSQETFSDLWKLL--------PE-------N-NVLS--------PL--------PSQAMDDL-----MLSPDDIEQWFTE---DPG---------------PDEA--------PR-----MPEAAPPVAPAPAAPTPAAPAPAPSWPLSSSVPSQKTYQGSYGF--RLG--------FLHSGTAKSVT----CTYSP---------------------------AL--NKM-----FCQL----AKT----------CPVQLWVDSTPPPGTRVR------AM---------------------------------AIYKQ--------------------------------------------------------SQH----MTEVVRRCPHHERCSDSDGLAPPQHLIRVEGNLRVEYLD-DRNTFRH-SVVVPYEPPEVG-SDCT--TIHYNYMCNS-SCMGGMNRRPILTIITLEDSSGNL--LGRNSFEVRVCACPGRDRRTEEENLRKKGEPHHE---LPPGSTKRA-LPNNTSSSPQPKKKPL--DGEYFT-LQIRGRERFEMFRELNEALELK--DAQAGK--EPGGSRAHSSHLKSKKGQSTSRHKKLM-FKTEGP---DSD--', seqB=\"--I---D---:- sp|P-------------04637.4|P-53_HUMAN\\nN---ame: sp|P-04637.4|P-------53_HUM------------AN\\nD--escription: sp|P---04637.4|P-53_HUM---------------------A---------------------N R--ecName: F----------ull=C----ellular tumor antigen p53; A-ltN--ame: F---ull=A--ntigen NY-C-----------------O-13; A-ltName: Full=Phosphoprotein p53; A----ltName: Full=Tumor suppressor p53\\nNumber of features: 0\\nS--eq('M-E--------E----------PQ---------------SD------PS--V--EPP---LS---QET---------FS-----------------D----LWKL-----------------------L-----P--ENNVL---S----PLP-----S-Q------AMD-----DL---------M---------L-SPD-----DIE----------------Q---------WF-----...DSD')\", score=61.0, start=0, end=651), Alignment(seqA='MEEPQSDPSVEP----PLSQETFSDLWKLL--------PE-------N-NVLS--------PL--------PSQAMDDL-----MLSPDDIEQWFTE---DPG---------------PDEA--------PR-----MPEAAPPVAPAPAAPTPAAPAPAPSWPLSSSVPSQKTYQGSYGF--RLG--------FLHSGTAKSVT----CTYSP---------------------------AL--NKM-----FCQL----AKT----------CPVQLWVDSTPPPGTRVR------AM---------------------------------AIYKQ--------------------------------------------------------SQH----MTEVVRRCPHHERCSDSDGLAPPQHLIRVEGNLRVEYLD-DRNTFRH-SVVVPYEPPEVG-SDCT--TIHYNYMCNS-SCMGGMNRRPILTIITLEDSSGNL--LGRNSFEVRVCACPGRDRRTEEENLRKKGEPHHE---LPPGSTKRA-LPNNTSSSPQPKKKPL--DGEYFT-LQIRGRERFEMFRELNEALELK--DAQAGK--EPGGSRAHSSHLKSKKGQSTSRHKKLM-FKTEGP---DSD--', seqB=\"-I----D---:- sp|P-------------04637.4|P-53_HUMAN\\nN---ame: sp|P-04637.4|P-------53_HUM------------AN\\nD--escription: sp|P---04637.4|P-53_HUM---------------------A---------------------N R--ecName: F----------ull=C----ellular tumor antigen p53; A-ltN--ame: F---ull=A--ntigen NY-C-----------------O-13; A-ltName: Full=Phosphoprotein p53; A----ltName: Full=Tumor suppressor p53\\nNumber of features: 0\\nS--eq('M-E--------E----------PQ---------------SD------PS--V--EPP---LS---QET---------FS-----------------D----LWKL-----------------------L-----P--ENNVL---S----PLP-----S-Q------AMD-----DL---------M---------L-SPD-----DIE----------------Q---------WF-----...DSD')\", score=61.0, start=0, end=651), Alignment(seqA='MEEPQSDPSVEP----PLSQETFSDLWKLL--------PE-------N-NVLS--------PL--------PSQAMDDL-----MLSPDDIEQWFTE---DPG---------------PDEA--------PR-----MPEAAPPVAPAPAAPTPAAPAPAPSWPLSSSVPSQKTYQGSYGF--RLG--------FLHSGTAKSVT----CTYSP---------------------------AL--NKM-----FCQL----AKT----------CPVQLWVDSTPPPGTRVR------AM---------------------------------AIYKQ--------------------------------------------------------SQH----MTEVVRRCPHHERCSDSDGLAPPQHLIRVEGNLRVEYLD-DRNTFRH-SVVVPYEPPEVG-SDCT--TIHYNYMCNS-SCMGGMNRRPILTIITLEDSSGNL--LGRNSFEVRVCACPGRDRRTEEENLRKKGEPHHE---LPPGSTKRA-LPNNTSSSPQPKKKPL--DGEYFT-LQIRGRERFEMFRELNEALELK--DAQAGK--EPGGSRAHSSHLKSKKGQSTSRHKKLM-FKTEGP---DSD--', seqB=\"I-----D---:- sp|P-------------04637.4|P-53_HUMAN\\nN---ame: sp|P-04637.4|P-------53_HUM------------AN\\nD--escription: sp|P---04637.4|P-53_HUM---------------------A---------------------N R--ecName: F----------ull=C----ellular tumor antigen p53; A-ltN--ame: F---ull=A--ntigen NY-C-----------------O-13; A-ltName: Full=Phosphoprotein p53; A----ltName: Full=Tumor suppressor p53\\nNumber of features: 0\\nS--eq('M-E--------E----------PQ---------------SD------PS--V--EPP---LS---QET---------FS-----------------D----LWKL-----------------------L-----P--ENNVL---S----PLP-----S-Q------AMD-----DL---------M---------L-SPD-----DIE----------------Q---------WF-----...DSD')\", score=61.0, start=0, end=651), Alignment(seqA='MEEPQS-DPSVEP----PLSQETFSDLWKLL--------PE-------N-NVLS--------PL--------PSQAMDDL-----MLSPDDIEQWFTE---DPG---------------PDEA--------PR-----MPEAAPPVAPAPAAPTPAAPAPAPSWPLSSSVPSQKTYQGSYGF--RLG--------FLHSGTAKSVT----CTYSP---------------------------AL--NKM-----FCQL----AKT----------CPVQLWVDSTPPPGTRVR------AM---------------------------------AIYKQ--------------------------------------------------------SQH----MTEVVRRCPHHERCSDSDGLAPPQHLIRVEGNLRVEYLD-DRNTFRH-SVVVPYEPPEVG-SDCT--TIHYNYMCNS-SCMGGMNRRPILTIITLEDSSGNL--LGRNSFEVRVCACPGRDRRTEEENLRKKGEPHHE---LPPGSTKRA-LPNNTSSSPQPKKKPL--DGEYFT-LQIRGRERFEMFRELNEALELK--DAQAGK--EPGGSRAHSSHLKSKKGQSTSRHKKLM-FKTEGP---DSD--', seqB=\"------ID--:-- sp|P-------------04637.4|P-53_HUMAN\\nN---ame: sp|P-04637.4|P-------53_HUM------------AN\\nD--escription: sp|P---04637.4|P-53_HUM---------------------A---------------------N R--ecName: F----------ull=C----ellular tumor antigen p53; A-ltN--ame: F---ull=A--ntigen NY-C-----------------O-13; A-ltName: Full=Phosphoprotein p53; A----ltName: Full=Tumor suppressor p53\\nNumber of features: 0\\nS--eq('M-E--------E----------PQ---------------SD------PS--V--EPP---LS---QET---------FS-----------------D----LWKL-----------------------L-----P--ENNVL---S----PLP-----S-Q------AMD-----DL---------M---------L-SPD-----DIE----------------Q---------WF-----...DSD')\", score=61.0, start=0, end=652), Alignment(seqA='MEEPQSDPSVEP----PLSQETFSDLWKLL--------PE-------N-NVLS--------PL--------PSQAMDDL-----MLSPDDIEQWFTE---DPG---------------PDEA--------PR-----MPEAAPPVAPAPAAPTPAAPAPAPSWPLSSSVPSQKTYQGSYGF--RLG--------FLHSGTAKSVT----CTYSP---------------------------AL--NKM-----FCQL----AKT----------CPVQLWVDSTPPPGTRVR------AM---------------------------------AIYKQ--------------------------------------------------------SQH----MTEVVRRCPHHERCSDSDGLAPPQHLIRVEGNLRVEYLD-DRNTFRH-SVVVPYEPPEVG-SDCT--TIHYNYMCNS-SCMGGMNRRPILTIITLEDSSGNL--LGRNSFEVRVCACPGRDRRTEEENLRKKGEPHHE---LPPGSTKRA-LPNNTSSSPQPKKKPL--DGEYFT-LQIRGRERFEMFRELNEALELK--DAQAGK--EPGGSRAHSSHLKSKKGQSTSRHKKLM-FKTEGP---DSD--', seqB=\"-----ID--:-- sp|P-------------04637.4|P-53_HUMAN\\nN---ame: sp|P-04637.4|P-------53_HUM------------AN\\nD--escription: sp|P---04637.4|P-53_HUM---------------------A---------------------N R--ecName: F----------ull=C----ellular tumor antigen p53; A-ltN--ame: F---ull=A--ntigen NY-C-----------------O-13; A-ltName: Full=Phosphoprotein p53; A----ltName: Full=Tumor suppressor p53\\nNumber of features: 0\\nS--eq('M-E--------E----------PQ---------------SD------PS--V--EPP---LS---QET---------FS-----------------D----LWKL-----------------------L-----P--ENNVL---S----PLP-----S-Q------AMD-----DL---------M---------L-SPD-----DIE----------------Q---------WF-----...DSD')\", score=61.0, start=0, end=651), Alignment(seqA='MEEPQSDPSVEP----PLSQETFSDLWKLL--------PE-------N-NVLS--------PL--------PSQAMDDL-----MLSPDDIEQWFTE---DPG---------------PDEA--------PR-----MPEAAPPVAPAPAAPTPAAPAPAPSWPLSSSVPSQKTYQGSYGF--RLG--------FLHSGTAKSVT----CTYSP---------------------------AL--NKM-----FCQL----AKT----------CPVQLWVDSTPPPGTRVR------AM---------------------------------AIYKQ--------------------------------------------------------SQH----MTEVVRRCPHHERCSDSDGLAPPQHLIRVEGNLRVEYLD-DRNTFRH-SVVVPYEPPEVG-SDCT--TIHYNYMCNS-SCMGGMNRRPILTIITLEDSSGNL--LGRNSFEVRVCACPGRDRRTEEENLRKKGEPHHE---LPPGSTKRA-LPNNTSSSPQPKKKPL--DGEYFT-LQIRGRERFEMFRELNEALELK--DAQAGK--EPGGSRAHSSHLKSKKGQSTSRHKKLM-FKTEGP---DSD--', seqB=\"----I-D--:-- sp|P-------------04637.4|P-53_HUMAN\\nN---ame: sp|P-04637.4|P-------53_HUM------------AN\\nD--escription: sp|P---04637.4|P-53_HUM---------------------A---------------------N R--ecName: F----------ull=C----ellular tumor antigen p53; A-ltN--ame: F---ull=A--ntigen NY-C-----------------O-13; A-ltName: Full=Phosphoprotein p53; A----ltName: Full=Tumor suppressor p53\\nNumber of features: 0\\nS--eq('M-E--------E----------PQ---------------SD------PS--V--EPP---LS---QET---------FS-----------------D----LWKL-----------------------L-----P--ENNVL---S----PLP-----S-Q------AMD-----DL---------M---------L-SPD-----DIE----------------Q---------WF-----...DSD')\", score=61.0, start=0, end=651), Alignment(seqA='MEEPQSDPSVEP----PLSQETFSDLWKLL--------PE-------N-NVLS--------PL--------PSQAMDDL-----MLSPDDIEQWFTE---DPG---------------PDEA--------PR-----MPEAAPPVAPAPAAPTPAAPAPAPSWPLSSSVPSQKTYQGSYGF--RLG--------FLHSGTAKSVT----CTYSP---------------------------AL--NKM-----FCQL----AKT----------CPVQLWVDSTPPPGTRVR------AM---------------------------------AIYKQ--------------------------------------------------------SQH----MTEVVRRCPHHERCSDSDGLAPPQHLIRVEGNLRVEYLD-DRNTFRH-SVVVPYEPPEVG-SDCT--TIHYNYMCNS-SCMGGMNRRPILTIITLEDSSGNL--LGRNSFEVRVCACPGRDRRTEEENLRKKGEPHHE---LPPGSTKRA-LPNNTSSSPQPKKKPL--DGEYFT-LQIRGRERFEMFRELNEALELK--DAQAGK--EPGGSRAHSSHLKSKKGQSTSRHKKLM-FKTEGP---DSD--', seqB=\"---I--D--:-- sp|P-------------04637.4|P-53_HUMAN\\nN---ame: sp|P-04637.4|P-------53_HUM------------AN\\nD--escription: sp|P---04637.4|P-53_HUM---------------------A---------------------N R--ecName: F----------ull=C----ellular tumor antigen p53; A-ltN--ame: F---ull=A--ntigen NY-C-----------------O-13; A-ltName: Full=Phosphoprotein p53; A----ltName: Full=Tumor suppressor p53\\nNumber of features: 0\\nS--eq('M-E--------E----------PQ---------------SD------PS--V--EPP---LS---QET---------FS-----------------D----LWKL-----------------------L-----P--ENNVL---S----PLP-----S-Q------AMD-----DL---------M---------L-SPD-----DIE----------------Q---------WF-----...DSD')\", score=61.0, start=0, end=651), Alignment(seqA='MEEPQSDPSVEP----PLSQETFSDLWKLL--------PE-------N-NVLS--------PL--------PSQAMDDL-----MLSPDDIEQWFTE---DPG---------------PDEA--------PR-----MPEAAPPVAPAPAAPTPAAPAPAPSWPLSSSVPSQKTYQGSYGF--RLG--------FLHSGTAKSVT----CTYSP---------------------------AL--NKM-----FCQL----AKT----------CPVQLWVDSTPPPGTRVR------AM---------------------------------AIYKQ--------------------------------------------------------SQH----MTEVVRRCPHHERCSDSDGLAPPQHLIRVEGNLRVEYLD-DRNTFRH-SVVVPYEPPEVG-SDCT--TIHYNYMCNS-SCMGGMNRRPILTIITLEDSSGNL--LGRNSFEVRVCACPGRDRRTEEENLRKKGEPHHE---LPPGSTKRA-LPNNTSSSPQPKKKPL--DGEYFT-LQIRGRERFEMFRELNEALELK--DAQAGK--EPGGSRAHSSHLKSKKGQSTSRHKKLM-FKTEGP---DSD--', seqB=\"--I---D--:-- sp|P-------------04637.4|P-53_HUMAN\\nN---ame: sp|P-04637.4|P-------53_HUM------------AN\\nD--escription: sp|P---04637.4|P-53_HUM---------------------A---------------------N R--ecName: F----------ull=C----ellular tumor antigen p53; A-ltN--ame: F---ull=A--ntigen NY-C-----------------O-13; A-ltName: Full=Phosphoprotein p53; A----ltName: Full=Tumor suppressor p53\\nNumber of features: 0\\nS--eq('M-E--------E----------PQ---------------SD------PS--V--EPP---LS---QET---------FS-----------------D----LWKL-----------------------L-----P--ENNVL---S----PLP-----S-Q------AMD-----DL---------M---------L-SPD-----DIE----------------Q---------WF-----...DSD')\", score=61.0, start=0, end=651), Alignment(seqA='MEEPQSDPSVEP----PLSQETFSDLWKLL--------PE-------N-NVLS--------PL--------PSQAMDDL-----MLSPDDIEQWFTE---DPG---------------PDEA--------PR-----MPEAAPPVAPAPAAPTPAAPAPAPSWPLSSSVPSQKTYQGSYGF--RLG--------FLHSGTAKSVT----CTYSP---------------------------AL--NKM-----FCQL----AKT----------CPVQLWVDSTPPPGTRVR------AM---------------------------------AIYKQ--------------------------------------------------------SQH----MTEVVRRCPHHERCSDSDGLAPPQHLIRVEGNLRVEYLD-DRNTFRH-SVVVPYEPPEVG-SDCT--TIHYNYMCNS-SCMGGMNRRPILTIITLEDSSGNL--LGRNSFEVRVCACPGRDRRTEEENLRKKGEPHHE---LPPGSTKRA-LPNNTSSSPQPKKKPL--DGEYFT-LQIRGRERFEMFRELNEALELK--DAQAGK--EPGGSRAHSSHLKSKKGQSTSRHKKLM-FKTEGP---DSD--', seqB=\"-I----D--:-- sp|P-------------04637.4|P-53_HUMAN\\nN---ame: sp|P-04637.4|P-------53_HUM------------AN\\nD--escription: sp|P---04637.4|P-53_HUM---------------------A---------------------N R--ecName: F----------ull=C----ellular tumor antigen p53; A-ltN--ame: F---ull=A--ntigen NY-C-----------------O-13; A-ltName: Full=Phosphoprotein p53; A----ltName: Full=Tumor suppressor p53\\nNumber of features: 0\\nS--eq('M-E--------E----------PQ---------------SD------PS--V--EPP---LS---QET---------FS-----------------D----LWKL-----------------------L-----P--ENNVL---S----PLP-----S-Q------AMD-----DL---------M---------L-SPD-----DIE----------------Q---------WF-----...DSD')\", score=61.0, start=0, end=651), Alignment(seqA='MEEPQSDPSVEP----PLSQETFSDLWKLL--------PE-------N-NVLS--------PL--------PSQAMDDL-----MLSPDDIEQWFTE---DPG---------------PDEA--------PR-----MPEAAPPVAPAPAAPTPAAPAPAPSWPLSSSVPSQKTYQGSYGF--RLG--------FLHSGTAKSVT----CTYSP---------------------------AL--NKM-----FCQL----AKT----------CPVQLWVDSTPPPGTRVR------AM---------------------------------AIYKQ--------------------------------------------------------SQH----MTEVVRRCPHHERCSDSDGLAPPQHLIRVEGNLRVEYLD-DRNTFRH-SVVVPYEPPEVG-SDCT--TIHYNYMCNS-SCMGGMNRRPILTIITLEDSSGNL--LGRNSFEVRVCACPGRDRRTEEENLRKKGEPHHE---LPPGSTKRA-LPNNTSSSPQPKKKPL--DGEYFT-LQIRGRERFEMFRELNEALELK--DAQAGK--EPGGSRAHSSHLKSKKGQSTSRHKKLM-FKTEGP---DSD--', seqB=\"I-----D--:-- sp|P-------------04637.4|P-53_HUMAN\\nN---ame: sp|P-04637.4|P-------53_HUM------------AN\\nD--escription: sp|P---04637.4|P-53_HUM---------------------A---------------------N R--ecName: F----------ull=C----ellular tumor antigen p53; A-ltN--ame: F---ull=A--ntigen NY-C-----------------O-13; A-ltName: Full=Phosphoprotein p53; A----ltName: Full=Tumor suppressor p53\\nNumber of features: 0\\nS--eq('M-E--------E----------PQ---------------SD------PS--V--EPP---LS---QET---------FS-----------------D----LWKL-----------------------L-----P--ENNVL---S----PLP-----S-Q------AMD-----DL---------M---------L-SPD-----DIE----------------Q---------WF-----...DSD')\", score=61.0, start=0, end=651), Alignment(seqA='MEEPQS-DPSVEP----PLSQETFSDLWKLL--------PE-------N-NVLS--------PL--------PSQAMDDL-----MLSPDDIEQWFTE---DPG---------------PDEA--------PR-----MPEAAPPVAPAPAAPTPAAPAPAPSWPLSSSVPSQKTYQGSYGF--RLG--------FLHSGTAKSVT----CTYSP---------------------------AL--NKM-----FCQL----AKT----------CPVQLWVDSTPPPGTRVR------AM---------------------------------AIYKQ--------------------------------------------------------SQH----MTEVVRRCPHHERCSDSDGLAPPQHLIRVEGNLRVEYLD-DRNTFRH-SVVVPYEPPEVG-SDCT--TIHYNYMCNS-SCMGGMNRRPILTIITLEDSSGNL--LGRNSFEVRVCACPGRDRRTEEENLRKKGEPHHE---LPPGSTKRA-LPNNTSSSPQPKKKPL--DGEYFT-LQIRGRERFEMFRELNEALELK--DAQAGK--EPGGSRAHSSHLKSKKGQSTSRHKKLM-FKTEGP---DSD--', seqB=\"------ID-:--- sp|P-------------04637.4|P-53_HUMAN\\nN---ame: sp|P-04637.4|P-------53_HUM------------AN\\nD--escription: sp|P---04637.4|P-53_HUM---------------------A---------------------N R--ecName: F----------ull=C----ellular tumor antigen p53; A-ltN--ame: F---ull=A--ntigen NY-C-----------------O-13; A-ltName: Full=Phosphoprotein p53; A----ltName: Full=Tumor suppressor p53\\nNumber of features: 0\\nS--eq('M-E--------E----------PQ---------------SD------PS--V--EPP---LS---QET---------FS-----------------D----LWKL-----------------------L-----P--ENNVL---S----PLP-----S-Q------AMD-----DL---------M---------L-SPD-----DIE----------------Q---------WF-----...DSD')\", score=61.0, start=0, end=652), Alignment(seqA='MEEPQSDPSVEP----PLSQETFSDLWKLL--------PE-------N-NVLS--------PL--------PSQAMDDL-----MLSPDDIEQWFTE---DPG---------------PDEA--------PR-----MPEAAPPVAPAPAAPTPAAPAPAPSWPLSSSVPSQKTYQGSYGF--RLG--------FLHSGTAKSVT----CTYSP---------------------------AL--NKM-----FCQL----AKT----------CPVQLWVDSTPPPGTRVR------AM---------------------------------AIYKQ--------------------------------------------------------SQH----MTEVVRRCPHHERCSDSDGLAPPQHLIRVEGNLRVEYLD-DRNTFRH-SVVVPYEPPEVG-SDCT--TIHYNYMCNS-SCMGGMNRRPILTIITLEDSSGNL--LGRNSFEVRVCACPGRDRRTEEENLRKKGEPHHE---LPPGSTKRA-LPNNTSSSPQPKKKPL--DGEYFT-LQIRGRERFEMFRELNEALELK--DAQAGK--EPGGSRAHSSHLKSKKGQSTSRHKKLM-FKTEGP---DSD--', seqB=\"-----ID-:--- sp|P-------------04637.4|P-53_HUMAN\\nN---ame: sp|P-04637.4|P-------53_HUM------------AN\\nD--escription: sp|P---04637.4|P-53_HUM---------------------A---------------------N R--ecName: F----------ull=C----ellular tumor antigen p53; A-ltN--ame: F---ull=A--ntigen NY-C-----------------O-13; A-ltName: Full=Phosphoprotein p53; A----ltName: Full=Tumor suppressor p53\\nNumber of features: 0\\nS--eq('M-E--------E----------PQ---------------SD------PS--V--EPP---LS---QET---------FS-----------------D----LWKL-----------------------L-----P--ENNVL---S----PLP-----S-Q------AMD-----DL---------M---------L-SPD-----DIE----------------Q---------WF-----...DSD')\", score=61.0, start=0, end=651), Alignment(seqA='MEEPQSDPSVEP----PLSQETFSDLWKLL--------PE-------N-NVLS--------PL--------PSQAMDDL-----MLSPDDIEQWFTE---DPG---------------PDEA--------PR-----MPEAAPPVAPAPAAPTPAAPAPAPSWPLSSSVPSQKTYQGSYGF--RLG--------FLHSGTAKSVT----CTYSP---------------------------AL--NKM-----FCQL----AKT----------CPVQLWVDSTPPPGTRVR------AM---------------------------------AIYKQ--------------------------------------------------------SQH----MTEVVRRCPHHERCSDSDGLAPPQHLIRVEGNLRVEYLD-DRNTFRH-SVVVPYEPPEVG-SDCT--TIHYNYMCNS-SCMGGMNRRPILTIITLEDSSGNL--LGRNSFEVRVCACPGRDRRTEEENLRKKGEPHHE---LPPGSTKRA-LPNNTSSSPQPKKKPL--DGEYFT-LQIRGRERFEMFRELNEALELK--DAQAGK--EPGGSRAHSSHLKSKKGQSTSRHKKLM-FKTEGP---DSD--', seqB=\"----I-D-:--- sp|P-------------04637.4|P-53_HUMAN\\nN---ame: sp|P-04637.4|P-------53_HUM------------AN\\nD--escription: sp|P---04637.4|P-53_HUM---------------------A---------------------N R--ecName: F----------ull=C----ellular tumor antigen p53; A-ltN--ame: F---ull=A--ntigen NY-C-----------------O-13; A-ltName: Full=Phosphoprotein p53; A----ltName: Full=Tumor suppressor p53\\nNumber of features: 0\\nS--eq('M-E--------E----------PQ---------------SD------PS--V--EPP---LS---QET---------FS-----------------D----LWKL-----------------------L-----P--ENNVL---S----PLP-----S-Q------AMD-----DL---------M---------L-SPD-----DIE----------------Q---------WF-----...DSD')\", score=61.0, start=0, end=651), Alignment(seqA='MEEPQSDPSVEP----PLSQETFSDLWKLL--------PE-------N-NVLS--------PL--------PSQAMDDL-----MLSPDDIEQWFTE---DPG---------------PDEA--------PR-----MPEAAPPVAPAPAAPTPAAPAPAPSWPLSSSVPSQKTYQGSYGF--RLG--------FLHSGTAKSVT----CTYSP---------------------------AL--NKM-----FCQL----AKT----------CPVQLWVDSTPPPGTRVR------AM---------------------------------AIYKQ--------------------------------------------------------SQH----MTEVVRRCPHHERCSDSDGLAPPQHLIRVEGNLRVEYLD-DRNTFRH-SVVVPYEPPEVG-SDCT--TIHYNYMCNS-SCMGGMNRRPILTIITLEDSSGNL--LGRNSFEVRVCACPGRDRRTEEENLRKKGEPHHE---LPPGSTKRA-LPNNTSSSPQPKKKPL--DGEYFT-LQIRGRERFEMFRELNEALELK--DAQAGK--EPGGSRAHSSHLKSKKGQSTSRHKKLM-FKTEGP---DSD--', seqB=\"---I--D-:--- sp|P-------------04637.4|P-53_HUMAN\\nN---ame: sp|P-04637.4|P-------53_HUM------------AN\\nD--escription: sp|P---04637.4|P-53_HUM---------------------A---------------------N R--ecName: F----------ull=C----ellular tumor antigen p53; A-ltN--ame: F---ull=A--ntigen NY-C-----------------O-13; A-ltName: Full=Phosphoprotein p53; A----ltName: Full=Tumor suppressor p53\\nNumber of features: 0\\nS--eq('M-E--------E----------PQ---------------SD------PS--V--EPP---LS---QET---------FS-----------------D----LWKL-----------------------L-----P--ENNVL---S----PLP-----S-Q------AMD-----DL---------M---------L-SPD-----DIE----------------Q---------WF-----...DSD')\", score=61.0, start=0, end=651), Alignment(seqA='MEEPQSDPSVEP----PLSQETFSDLWKLL--------PE-------N-NVLS--------PL--------PSQAMDDL-----MLSPDDIEQWFTE---DPG---------------PDEA--------PR-----MPEAAPPVAPAPAAPTPAAPAPAPSWPLSSSVPSQKTYQGSYGF--RLG--------FLHSGTAKSVT----CTYSP---------------------------AL--NKM-----FCQL----AKT----------CPVQLWVDSTPPPGTRVR------AM---------------------------------AIYKQ--------------------------------------------------------SQH----MTEVVRRCPHHERCSDSDGLAPPQHLIRVEGNLRVEYLD-DRNTFRH-SVVVPYEPPEVG-SDCT--TIHYNYMCNS-SCMGGMNRRPILTIITLEDSSGNL--LGRNSFEVRVCACPGRDRRTEEENLRKKGEPHHE---LPPGSTKRA-LPNNTSSSPQPKKKPL--DGEYFT-LQIRGRERFEMFRELNEALELK--DAQAGK--EPGGSRAHSSHLKSKKGQSTSRHKKLM-FKTEGP---DSD--', seqB=\"--I---D-:--- sp|P-------------04637.4|P-53_HUMAN\\nN---ame: sp|P-04637.4|P-------53_HUM------------AN\\nD--escription: sp|P---04637.4|P-53_HUM---------------------A---------------------N R--ecName: F----------ull=C----ellular tumor antigen p53; A-ltN--ame: F---ull=A--ntigen NY-C-----------------O-13; A-ltName: Full=Phosphoprotein p53; A----ltName: Full=Tumor suppressor p53\\nNumber of features: 0\\nS--eq('M-E--------E----------PQ---------------SD------PS--V--EPP---LS---QET---------FS-----------------D----LWKL-----------------------L-----P--ENNVL---S----PLP-----S-Q------AMD-----DL---------M---------L-SPD-----DIE----------------Q---------WF-----...DSD')\", score=61.0, start=0, end=651), Alignment(seqA='MEEPQSDPSVEP----PLSQETFSDLWKLL--------PE-------N-NVLS--------PL--------PSQAMDDL-----MLSPDDIEQWFTE---DPG---------------PDEA--------PR-----MPEAAPPVAPAPAAPTPAAPAPAPSWPLSSSVPSQKTYQGSYGF--RLG--------FLHSGTAKSVT----CTYSP---------------------------AL--NKM-----FCQL----AKT----------CPVQLWVDSTPPPGTRVR------AM---------------------------------AIYKQ--------------------------------------------------------SQH----MTEVVRRCPHHERCSDSDGLAPPQHLIRVEGNLRVEYLD-DRNTFRH-SVVVPYEPPEVG-SDCT--TIHYNYMCNS-SCMGGMNRRPILTIITLEDSSGNL--LGRNSFEVRVCACPGRDRRTEEENLRKKGEPHHE---LPPGSTKRA-LPNNTSSSPQPKKKPL--DGEYFT-LQIRGRERFEMFRELNEALELK--DAQAGK--EPGGSRAHSSHLKSKKGQSTSRHKKLM-FKTEGP---DSD--', seqB=\"-I----D-:--- sp|P-------------04637.4|P-53_HUMAN\\nN---ame: sp|P-04637.4|P-------53_HUM------------AN\\nD--escription: sp|P---04637.4|P-53_HUM---------------------A---------------------N R--ecName: F----------ull=C----ellular tumor antigen p53; A-ltN--ame: F---ull=A--ntigen NY-C-----------------O-13; A-ltName: Full=Phosphoprotein p53; A----ltName: Full=Tumor suppressor p53\\nNumber of features: 0\\nS--eq('M-E--------E----------PQ---------------SD------PS--V--EPP---LS---QET---------FS-----------------D----LWKL-----------------------L-----P--ENNVL---S----PLP-----S-Q------AMD-----DL---------M---------L-SPD-----DIE----------------Q---------WF-----...DSD')\", score=61.0, start=0, end=651), Alignment(seqA='MEEPQSDPSVEP----PLSQETFSDLWKLL--------PE-------N-NVLS--------PL--------PSQAMDDL-----MLSPDDIEQWFTE---DPG---------------PDEA--------PR-----MPEAAPPVAPAPAAPTPAAPAPAPSWPLSSSVPSQKTYQGSYGF--RLG--------FLHSGTAKSVT----CTYSP---------------------------AL--NKM-----FCQL----AKT----------CPVQLWVDSTPPPGTRVR------AM---------------------------------AIYKQ--------------------------------------------------------SQH----MTEVVRRCPHHERCSDSDGLAPPQHLIRVEGNLRVEYLD-DRNTFRH-SVVVPYEPPEVG-SDCT--TIHYNYMCNS-SCMGGMNRRPILTIITLEDSSGNL--LGRNSFEVRVCACPGRDRRTEEENLRKKGEPHHE---LPPGSTKRA-LPNNTSSSPQPKKKPL--DGEYFT-LQIRGRERFEMFRELNEALELK--DAQAGK--EPGGSRAHSSHLKSKKGQSTSRHKKLM-FKTEGP---DSD--', seqB=\"I-----D-:--- sp|P-------------04637.4|P-53_HUMAN\\nN---ame: sp|P-04637.4|P-------53_HUM------------AN\\nD--escription: sp|P---04637.4|P-53_HUM---------------------A---------------------N R--ecName: F----------ull=C----ellular tumor antigen p53; A-ltN--ame: F---ull=A--ntigen NY-C-----------------O-13; A-ltName: Full=Phosphoprotein p53; A----ltName: Full=Tumor suppressor p53\\nNumber of features: 0\\nS--eq('M-E--------E----------PQ---------------SD------PS--V--EPP---LS---QET---------FS-----------------D----LWKL-----------------------L-----P--ENNVL---S----PLP-----S-Q------AMD-----DL---------M---------L-SPD-----DIE----------------Q---------WF-----...DSD')\", score=61.0, start=0, end=651)]\n",
            "MEEPQS-DPSVEP-----PLSQETFSDLWKLL--------PE-------N-NVLS--------PL--------PSQAMDDL-----MLSPDDIEQWFTE---DPG---------------PDEA--------PR-----MPEAAPPVAPAPAAPTPAAPAPAPSWPLSSSVPSQKTYQGSYGF--RLG--------FLHSGTAKSVT----CTYSP---------------------------AL--NKM-----FCQL----AKT----------CPVQLWVDSTPPPGTRVR------AM---------------------------------AIYKQ--------------------------------------------------------SQH----MTEVVRRCPHHERCSDSDGLAPPQHLIRVEGNLRVEYLD-DRNTFRH-SVVVPYEPPEVG-SDCT--TIHYNYMCNS-SCMGGMNRRPILTIITLEDSSGNL--LGRNSFEVRVCACPGRDRRTEEENLRKKGEPHHE---LPPGSTKRA-LPNNTSSSPQPKKKPL--DGEYFT-LQIRGRERFEMFRELNEALELK--DAQAGK--EPGGSRAHSSHLKSKKGQSTSRHKKLM-FKTEGP---DSD--\n",
            "       |          |                     |        | |           |         |            |               |                 |           |      |                     |                       |          |              |                               |   |       |       |           ||                  |    |                                  |                                                            |      | |        |          ||                |       |  |  |||    |     |          |                 |    |  |                       |     |  |   |   |     ||     | |        |      |         |         |   |       |                |          |        |||  \n",
            "------ID-----: sp|P-------------04637.4|P-53_HUMAN\n",
            "N---ame: sp|P-04637.4|P-------53_HUM------------AN\n",
            "D--escription: sp|P---04637.4|P-53_HUM---------------------A---------------------N R--ecName: F----------ull=C----ellular tumor antigen p53; A-ltN--ame: F---ull=A--ntigen NY-C-----------------O-13; A-ltName: Full=Phosphoprotein p53; A----ltName: Full=Tumor suppressor p53\n",
            "Number of features: 0\n",
            "S--eq('M-E--------E----------PQ---------------SD------PS--V--EPP---LS---QET---------FS-----------------D----LWKL-----------------------L-----P--ENNVL---S----PLP-----S-Q------AMD-----DL---------M---------L-SPD-----DIE----------------Q---------WF-----...DSD')\n",
            "  Score=61\n",
            "\n"
          ],
          "name": "stdout"
        }
      ]
    },
    {
      "cell_type": "code",
      "metadata": {
        "colab": {
          "base_uri": "https://localhost:8080/",
          "height": 0
        },
        "id": "WATjtCVhehOs",
        "outputId": "44e6a9ee-9fd1-451c-e011-c684b96c1b13"
      },
      "source": [
        "print(format_alignment(*alignments[2]))"
      ],
      "execution_count": 44,
      "outputs": [
        {
          "output_type": "stream",
          "text": [
            "MEEPQSDPSVEP-----PLSQETFSDLWKLL--------PE-------N-NVLS--------PL--------PSQAMDDL-----MLSPDDIEQWFTE---DPG---------------PDEA--------PR-----MPEAAPPVAPAPAAPTPAAPAPAPSWPLSSSVPSQKTYQGSYGF--RLG--------FLHSGTAKSVT----CTYSP---------------------------AL--NKM-----FCQL----AKT----------CPVQLWVDSTPPPGTRVR------AM---------------------------------AIYKQ--------------------------------------------------------SQH----MTEVVRRCPHHERCSDSDGLAPPQHLIRVEGNLRVEYLD-DRNTFRH-SVVVPYEPPEVG-SDCT--TIHYNYMCNS-SCMGGMNRRPILTIITLEDSSGNL--LGRNSFEVRVCACPGRDRRTEEENLRKKGEPHHE---LPPGSTKRA-LPNNTSSSPQPKKKPL--DGEYFT-LQIRGRERFEMFRELNEALELK--DAQAGK--EPGGSRAHSSHLKSKKGQSTSRHKKLM-FKTEGP---DSD--\n",
            "    . |          |                     |        | |           |         |            |               |                 |           |      |                     |                       |          |              |                               |   |       |       |           ||                  |    |                                  |                                                            |      | |        |          ||                |       |  |  |||    |     |          |                 |    |  |                       |     |  |   |   |     ||     | |        |      |         |         |   |       |                |          |        |||  \n",
            "----I-D-----: sp|P-------------04637.4|P-53_HUMAN\n",
            "N---ame: sp|P-04637.4|P-------53_HUM------------AN\n",
            "D--escription: sp|P---04637.4|P-53_HUM---------------------A---------------------N R--ecName: F----------ull=C----ellular tumor antigen p53; A-ltN--ame: F---ull=A--ntigen NY-C-----------------O-13; A-ltName: Full=Phosphoprotein p53; A----ltName: Full=Tumor suppressor p53\n",
            "Number of features: 0\n",
            "S--eq('M-E--------E----------PQ---------------SD------PS--V--EPP---LS---QET---------FS-----------------D----LWKL-----------------------L-----P--ENNVL---S----PLP-----S-Q------AMD-----DL---------M---------L-SPD-----DIE----------------Q---------WF-----...DSD')\n",
            "  Score=61\n",
            "\n"
          ],
          "name": "stdout"
        }
      ]
    },
    {
      "cell_type": "code",
      "metadata": {
        "colab": {
          "base_uri": "https://localhost:8080/",
          "height": 0
        },
        "id": "-Yug_OvKe_mm",
        "outputId": "2f4a902b-048f-4bbc-ef75-e50789f3b74d"
      },
      "source": [
        "for a in alignments:\r\n",
        "    print(format_alignment(*a))\r\n",
        "    #usamos un loop para visualizr todos los datos"
      ],
      "execution_count": 45,
      "outputs": [
        {
          "output_type": "stream",
          "text": [
            "MEEPQS-DPSVEP-----PLSQETFSDLWKLL--------PE-------N-NVLS--------PL--------PSQAMDDL-----MLSPDDIEQWFTE---DPG---------------PDEA--------PR-----MPEAAPPVAPAPAAPTPAAPAPAPSWPLSSSVPSQKTYQGSYGF--RLG--------FLHSGTAKSVT----CTYSP---------------------------AL--NKM-----FCQL----AKT----------CPVQLWVDSTPPPGTRVR------AM---------------------------------AIYKQ--------------------------------------------------------SQH----MTEVVRRCPHHERCSDSDGLAPPQHLIRVEGNLRVEYLD-DRNTFRH-SVVVPYEPPEVG-SDCT--TIHYNYMCNS-SCMGGMNRRPILTIITLEDSSGNL--LGRNSFEVRVCACPGRDRRTEEENLRKKGEPHHE---LPPGSTKRA-LPNNTSSSPQPKKKPL--DGEYFT-LQIRGRERFEMFRELNEALELK--DAQAGK--EPGGSRAHSSHLKSKKGQSTSRHKKLM-FKTEGP---DSD--\n",
            "       |          |                     |        | |           |         |            |               |                 |           |      |                     |                       |          |              |                               |   |       |       |           ||                  |    |                                  |                                                            |      | |        |          ||                |       |  |  |||    |     |          |                 |    |  |                       |     |  |   |   |     ||     | |        |      |         |         |   |       |                |          |        |||  \n",
            "------ID-----: sp|P-------------04637.4|P-53_HUMAN\n",
            "N---ame: sp|P-04637.4|P-------53_HUM------------AN\n",
            "D--escription: sp|P---04637.4|P-53_HUM---------------------A---------------------N R--ecName: F----------ull=C----ellular tumor antigen p53; A-ltN--ame: F---ull=A--ntigen NY-C-----------------O-13; A-ltName: Full=Phosphoprotein p53; A----ltName: Full=Tumor suppressor p53\n",
            "Number of features: 0\n",
            "S--eq('M-E--------E----------PQ---------------SD------PS--V--EPP---LS---QET---------FS-----------------D----LWKL-----------------------L-----P--ENNVL---S----PLP-----S-Q------AMD-----DL---------M---------L-SPD-----DIE----------------Q---------WF-----...DSD')\n",
            "  Score=61\n",
            "\n",
            "MEEPQSDPSVEP-----PLSQETFSDLWKLL--------PE-------N-NVLS--------PL--------PSQAMDDL-----MLSPDDIEQWFTE---DPG---------------PDEA--------PR-----MPEAAPPVAPAPAAPTPAAPAPAPSWPLSSSVPSQKTYQGSYGF--RLG--------FLHSGTAKSVT----CTYSP---------------------------AL--NKM-----FCQL----AKT----------CPVQLWVDSTPPPGTRVR------AM---------------------------------AIYKQ--------------------------------------------------------SQH----MTEVVRRCPHHERCSDSDGLAPPQHLIRVEGNLRVEYLD-DRNTFRH-SVVVPYEPPEVG-SDCT--TIHYNYMCNS-SCMGGMNRRPILTIITLEDSSGNL--LGRNSFEVRVCACPGRDRRTEEENLRKKGEPHHE---LPPGSTKRA-LPNNTSSSPQPKKKPL--DGEYFT-LQIRGRERFEMFRELNEALELK--DAQAGK--EPGGSRAHSSHLKSKKGQSTSRHKKLM-FKTEGP---DSD--\n",
            "     .|          |                     |        | |           |         |            |               |                 |           |      |                     |                       |          |              |                               |   |       |       |           ||                  |    |                                  |                                                            |      | |        |          ||                |       |  |  |||    |     |          |                 |    |  |                       |     |  |   |   |     ||     | |        |      |         |         |   |       |                |          |        |||  \n",
            "-----ID-----: sp|P-------------04637.4|P-53_HUMAN\n",
            "N---ame: sp|P-04637.4|P-------53_HUM------------AN\n",
            "D--escription: sp|P---04637.4|P-53_HUM---------------------A---------------------N R--ecName: F----------ull=C----ellular tumor antigen p53; A-ltN--ame: F---ull=A--ntigen NY-C-----------------O-13; A-ltName: Full=Phosphoprotein p53; A----ltName: Full=Tumor suppressor p53\n",
            "Number of features: 0\n",
            "S--eq('M-E--------E----------PQ---------------SD------PS--V--EPP---LS---QET---------FS-----------------D----LWKL-----------------------L-----P--ENNVL---S----PLP-----S-Q------AMD-----DL---------M---------L-SPD-----DIE----------------Q---------WF-----...DSD')\n",
            "  Score=61\n",
            "\n",
            "MEEPQSDPSVEP-----PLSQETFSDLWKLL--------PE-------N-NVLS--------PL--------PSQAMDDL-----MLSPDDIEQWFTE---DPG---------------PDEA--------PR-----MPEAAPPVAPAPAAPTPAAPAPAPSWPLSSSVPSQKTYQGSYGF--RLG--------FLHSGTAKSVT----CTYSP---------------------------AL--NKM-----FCQL----AKT----------CPVQLWVDSTPPPGTRVR------AM---------------------------------AIYKQ--------------------------------------------------------SQH----MTEVVRRCPHHERCSDSDGLAPPQHLIRVEGNLRVEYLD-DRNTFRH-SVVVPYEPPEVG-SDCT--TIHYNYMCNS-SCMGGMNRRPILTIITLEDSSGNL--LGRNSFEVRVCACPGRDRRTEEENLRKKGEPHHE---LPPGSTKRA-LPNNTSSSPQPKKKPL--DGEYFT-LQIRGRERFEMFRELNEALELK--DAQAGK--EPGGSRAHSSHLKSKKGQSTSRHKKLM-FKTEGP---DSD--\n",
            "    . |          |                     |        | |           |         |            |               |                 |           |      |                     |                       |          |              |                               |   |       |       |           ||                  |    |                                  |                                                            |      | |        |          ||                |       |  |  |||    |     |          |                 |    |  |                       |     |  |   |   |     ||     | |        |      |         |         |   |       |                |          |        |||  \n",
            "----I-D-----: sp|P-------------04637.4|P-53_HUMAN\n",
            "N---ame: sp|P-04637.4|P-------53_HUM------------AN\n",
            "D--escription: sp|P---04637.4|P-53_HUM---------------------A---------------------N R--ecName: F----------ull=C----ellular tumor antigen p53; A-ltN--ame: F---ull=A--ntigen NY-C-----------------O-13; A-ltName: Full=Phosphoprotein p53; A----ltName: Full=Tumor suppressor p53\n",
            "Number of features: 0\n",
            "S--eq('M-E--------E----------PQ---------------SD------PS--V--EPP---LS---QET---------FS-----------------D----LWKL-----------------------L-----P--ENNVL---S----PLP-----S-Q------AMD-----DL---------M---------L-SPD-----DIE----------------Q---------WF-----...DSD')\n",
            "  Score=61\n",
            "\n",
            "MEEPQSDPSVEP-----PLSQETFSDLWKLL--------PE-------N-NVLS--------PL--------PSQAMDDL-----MLSPDDIEQWFTE---DPG---------------PDEA--------PR-----MPEAAPPVAPAPAAPTPAAPAPAPSWPLSSSVPSQKTYQGSYGF--RLG--------FLHSGTAKSVT----CTYSP---------------------------AL--NKM-----FCQL----AKT----------CPVQLWVDSTPPPGTRVR------AM---------------------------------AIYKQ--------------------------------------------------------SQH----MTEVVRRCPHHERCSDSDGLAPPQHLIRVEGNLRVEYLD-DRNTFRH-SVVVPYEPPEVG-SDCT--TIHYNYMCNS-SCMGGMNRRPILTIITLEDSSGNL--LGRNSFEVRVCACPGRDRRTEEENLRKKGEPHHE---LPPGSTKRA-LPNNTSSSPQPKKKPL--DGEYFT-LQIRGRERFEMFRELNEALELK--DAQAGK--EPGGSRAHSSHLKSKKGQSTSRHKKLM-FKTEGP---DSD--\n",
            "   .  |          |                     |        | |           |         |            |               |                 |           |      |                     |                       |          |              |                               |   |       |       |           ||                  |    |                                  |                                                            |      | |        |          ||                |       |  |  |||    |     |          |                 |    |  |                       |     |  |   |   |     ||     | |        |      |         |         |   |       |                |          |        |||  \n",
            "---I--D-----: sp|P-------------04637.4|P-53_HUMAN\n",
            "N---ame: sp|P-04637.4|P-------53_HUM------------AN\n",
            "D--escription: sp|P---04637.4|P-53_HUM---------------------A---------------------N R--ecName: F----------ull=C----ellular tumor antigen p53; A-ltN--ame: F---ull=A--ntigen NY-C-----------------O-13; A-ltName: Full=Phosphoprotein p53; A----ltName: Full=Tumor suppressor p53\n",
            "Number of features: 0\n",
            "S--eq('M-E--------E----------PQ---------------SD------PS--V--EPP---LS---QET---------FS-----------------D----LWKL-----------------------L-----P--ENNVL---S----PLP-----S-Q------AMD-----DL---------M---------L-SPD-----DIE----------------Q---------WF-----...DSD')\n",
            "  Score=61\n",
            "\n",
            "MEEPQSDPSVEP-----PLSQETFSDLWKLL--------PE-------N-NVLS--------PL--------PSQAMDDL-----MLSPDDIEQWFTE---DPG---------------PDEA--------PR-----MPEAAPPVAPAPAAPTPAAPAPAPSWPLSSSVPSQKTYQGSYGF--RLG--------FLHSGTAKSVT----CTYSP---------------------------AL--NKM-----FCQL----AKT----------CPVQLWVDSTPPPGTRVR------AM---------------------------------AIYKQ--------------------------------------------------------SQH----MTEVVRRCPHHERCSDSDGLAPPQHLIRVEGNLRVEYLD-DRNTFRH-SVVVPYEPPEVG-SDCT--TIHYNYMCNS-SCMGGMNRRPILTIITLEDSSGNL--LGRNSFEVRVCACPGRDRRTEEENLRKKGEPHHE---LPPGSTKRA-LPNNTSSSPQPKKKPL--DGEYFT-LQIRGRERFEMFRELNEALELK--DAQAGK--EPGGSRAHSSHLKSKKGQSTSRHKKLM-FKTEGP---DSD--\n",
            "  .   |          |                     |        | |           |         |            |               |                 |           |      |                     |                       |          |              |                               |   |       |       |           ||                  |    |                                  |                                                            |      | |        |          ||                |       |  |  |||    |     |          |                 |    |  |                       |     |  |   |   |     ||     | |        |      |         |         |   |       |                |          |        |||  \n",
            "--I---D-----: sp|P-------------04637.4|P-53_HUMAN\n",
            "N---ame: sp|P-04637.4|P-------53_HUM------------AN\n",
            "D--escription: sp|P---04637.4|P-53_HUM---------------------A---------------------N R--ecName: F----------ull=C----ellular tumor antigen p53; A-ltN--ame: F---ull=A--ntigen NY-C-----------------O-13; A-ltName: Full=Phosphoprotein p53; A----ltName: Full=Tumor suppressor p53\n",
            "Number of features: 0\n",
            "S--eq('M-E--------E----------PQ---------------SD------PS--V--EPP---LS---QET---------FS-----------------D----LWKL-----------------------L-----P--ENNVL---S----PLP-----S-Q------AMD-----DL---------M---------L-SPD-----DIE----------------Q---------WF-----...DSD')\n",
            "  Score=61\n",
            "\n",
            "MEEPQSDPSVEP-----PLSQETFSDLWKLL--------PE-------N-NVLS--------PL--------PSQAMDDL-----MLSPDDIEQWFTE---DPG---------------PDEA--------PR-----MPEAAPPVAPAPAAPTPAAPAPAPSWPLSSSVPSQKTYQGSYGF--RLG--------FLHSGTAKSVT----CTYSP---------------------------AL--NKM-----FCQL----AKT----------CPVQLWVDSTPPPGTRVR------AM---------------------------------AIYKQ--------------------------------------------------------SQH----MTEVVRRCPHHERCSDSDGLAPPQHLIRVEGNLRVEYLD-DRNTFRH-SVVVPYEPPEVG-SDCT--TIHYNYMCNS-SCMGGMNRRPILTIITLEDSSGNL--LGRNSFEVRVCACPGRDRRTEEENLRKKGEPHHE---LPPGSTKRA-LPNNTSSSPQPKKKPL--DGEYFT-LQIRGRERFEMFRELNEALELK--DAQAGK--EPGGSRAHSSHLKSKKGQSTSRHKKLM-FKTEGP---DSD--\n",
            " .    |          |                     |        | |           |         |            |               |                 |           |      |                     |                       |          |              |                               |   |       |       |           ||                  |    |                                  |                                                            |      | |        |          ||                |       |  |  |||    |     |          |                 |    |  |                       |     |  |   |   |     ||     | |        |      |         |         |   |       |                |          |        |||  \n",
            "-I----D-----: sp|P-------------04637.4|P-53_HUMAN\n",
            "N---ame: sp|P-04637.4|P-------53_HUM------------AN\n",
            "D--escription: sp|P---04637.4|P-53_HUM---------------------A---------------------N R--ecName: F----------ull=C----ellular tumor antigen p53; A-ltN--ame: F---ull=A--ntigen NY-C-----------------O-13; A-ltName: Full=Phosphoprotein p53; A----ltName: Full=Tumor suppressor p53\n",
            "Number of features: 0\n",
            "S--eq('M-E--------E----------PQ---------------SD------PS--V--EPP---LS---QET---------FS-----------------D----LWKL-----------------------L-----P--ENNVL---S----PLP-----S-Q------AMD-----DL---------M---------L-SPD-----DIE----------------Q---------WF-----...DSD')\n",
            "  Score=61\n",
            "\n",
            "MEEPQSDPSVEP-----PLSQETFSDLWKLL--------PE-------N-NVLS--------PL--------PSQAMDDL-----MLSPDDIEQWFTE---DPG---------------PDEA--------PR-----MPEAAPPVAPAPAAPTPAAPAPAPSWPLSSSVPSQKTYQGSYGF--RLG--------FLHSGTAKSVT----CTYSP---------------------------AL--NKM-----FCQL----AKT----------CPVQLWVDSTPPPGTRVR------AM---------------------------------AIYKQ--------------------------------------------------------SQH----MTEVVRRCPHHERCSDSDGLAPPQHLIRVEGNLRVEYLD-DRNTFRH-SVVVPYEPPEVG-SDCT--TIHYNYMCNS-SCMGGMNRRPILTIITLEDSSGNL--LGRNSFEVRVCACPGRDRRTEEENLRKKGEPHHE---LPPGSTKRA-LPNNTSSSPQPKKKPL--DGEYFT-LQIRGRERFEMFRELNEALELK--DAQAGK--EPGGSRAHSSHLKSKKGQSTSRHKKLM-FKTEGP---DSD--\n",
            ".     |          |                     |        | |           |         |            |               |                 |           |      |                     |                       |          |              |                               |   |       |       |           ||                  |    |                                  |                                                            |      | |        |          ||                |       |  |  |||    |     |          |                 |    |  |                       |     |  |   |   |     ||     | |        |      |         |         |   |       |                |          |        |||  \n",
            "I-----D-----: sp|P-------------04637.4|P-53_HUMAN\n",
            "N---ame: sp|P-04637.4|P-------53_HUM------------AN\n",
            "D--escription: sp|P---04637.4|P-53_HUM---------------------A---------------------N R--ecName: F----------ull=C----ellular tumor antigen p53; A-ltN--ame: F---ull=A--ntigen NY-C-----------------O-13; A-ltName: Full=Phosphoprotein p53; A----ltName: Full=Tumor suppressor p53\n",
            "Number of features: 0\n",
            "S--eq('M-E--------E----------PQ---------------SD------PS--V--EPP---LS---QET---------FS-----------------D----LWKL-----------------------L-----P--ENNVL---S----PLP-----S-Q------AMD-----DL---------M---------L-SPD-----DIE----------------Q---------WF-----...DSD')\n",
            "  Score=61\n",
            "\n",
            "MEEPQS-DPSVEP----PLSQETFSDLWKLL--------PE-------N-NVLS--------PL--------PSQAMDDL-----MLSPDDIEQWFTE---DPG---------------PDEA--------PR-----MPEAAPPVAPAPAAPTPAAPAPAPSWPLSSSVPSQKTYQGSYGF--RLG--------FLHSGTAKSVT----CTYSP---------------------------AL--NKM-----FCQL----AKT----------CPVQLWVDSTPPPGTRVR------AM---------------------------------AIYKQ--------------------------------------------------------SQH----MTEVVRRCPHHERCSDSDGLAPPQHLIRVEGNLRVEYLD-DRNTFRH-SVVVPYEPPEVG-SDCT--TIHYNYMCNS-SCMGGMNRRPILTIITLEDSSGNL--LGRNSFEVRVCACPGRDRRTEEENLRKKGEPHHE---LPPGSTKRA-LPNNTSSSPQPKKKPL--DGEYFT-LQIRGRERFEMFRELNEALELK--DAQAGK--EPGGSRAHSSHLKSKKGQSTSRHKKLM-FKTEGP---DSD--\n",
            "       |    .    |                     |        | |           |         |            |               |                 |           |      |                     |                       |          |              |                               |   |       |       |           ||                  |    |                                  |                                                            |      | |        |          ||                |       |  |  |||    |     |          |                 |    |  |                       |     |  |   |   |     ||     | |        |      |         |         |   |       |                |          |        |||  \n",
            "------ID----: sp|P-------------04637.4|P-53_HUMAN\n",
            "N---ame: sp|P-04637.4|P-------53_HUM------------AN\n",
            "D--escription: sp|P---04637.4|P-53_HUM---------------------A---------------------N R--ecName: F----------ull=C----ellular tumor antigen p53; A-ltN--ame: F---ull=A--ntigen NY-C-----------------O-13; A-ltName: Full=Phosphoprotein p53; A----ltName: Full=Tumor suppressor p53\n",
            "Number of features: 0\n",
            "S--eq('M-E--------E----------PQ---------------SD------PS--V--EPP---LS---QET---------FS-----------------D----LWKL-----------------------L-----P--ENNVL---S----PLP-----S-Q------AMD-----DL---------M---------L-SPD-----DIE----------------Q---------WF-----...DSD')\n",
            "  Score=61\n",
            "\n",
            "MEEPQSDPSVEP----PLSQETFSDLWKLL--------PE-------N-NVLS--------PL--------PSQAMDDL-----MLSPDDIEQWFTE---DPG---------------PDEA--------PR-----MPEAAPPVAPAPAAPTPAAPAPAPSWPLSSSVPSQKTYQGSYGF--RLG--------FLHSGTAKSVT----CTYSP---------------------------AL--NKM-----FCQL----AKT----------CPVQLWVDSTPPPGTRVR------AM---------------------------------AIYKQ--------------------------------------------------------SQH----MTEVVRRCPHHERCSDSDGLAPPQHLIRVEGNLRVEYLD-DRNTFRH-SVVVPYEPPEVG-SDCT--TIHYNYMCNS-SCMGGMNRRPILTIITLEDSSGNL--LGRNSFEVRVCACPGRDRRTEEENLRKKGEPHHE---LPPGSTKRA-LPNNTSSSPQPKKKPL--DGEYFT-LQIRGRERFEMFRELNEALELK--DAQAGK--EPGGSRAHSSHLKSKKGQSTSRHKKLM-FKTEGP---DSD--\n",
            "     .|    .    |                     |        | |           |         |            |               |                 |           |      |                     |                       |          |              |                               |   |       |       |           ||                  |    |                                  |                                                            |      | |        |          ||                |       |  |  |||    |     |          |                 |    |  |                       |     |  |   |   |     ||     | |        |      |         |         |   |       |                |          |        |||  \n",
            "-----ID----: sp|P-------------04637.4|P-53_HUMAN\n",
            "N---ame: sp|P-04637.4|P-------53_HUM------------AN\n",
            "D--escription: sp|P---04637.4|P-53_HUM---------------------A---------------------N R--ecName: F----------ull=C----ellular tumor antigen p53; A-ltN--ame: F---ull=A--ntigen NY-C-----------------O-13; A-ltName: Full=Phosphoprotein p53; A----ltName: Full=Tumor suppressor p53\n",
            "Number of features: 0\n",
            "S--eq('M-E--------E----------PQ---------------SD------PS--V--EPP---LS---QET---------FS-----------------D----LWKL-----------------------L-----P--ENNVL---S----PLP-----S-Q------AMD-----DL---------M---------L-SPD-----DIE----------------Q---------WF-----...DSD')\n",
            "  Score=61\n",
            "\n",
            "MEEPQSDPSVEP----PLSQETFSDLWKLL--------PE-------N-NVLS--------PL--------PSQAMDDL-----MLSPDDIEQWFTE---DPG---------------PDEA--------PR-----MPEAAPPVAPAPAAPTPAAPAPAPSWPLSSSVPSQKTYQGSYGF--RLG--------FLHSGTAKSVT----CTYSP---------------------------AL--NKM-----FCQL----AKT----------CPVQLWVDSTPPPGTRVR------AM---------------------------------AIYKQ--------------------------------------------------------SQH----MTEVVRRCPHHERCSDSDGLAPPQHLIRVEGNLRVEYLD-DRNTFRH-SVVVPYEPPEVG-SDCT--TIHYNYMCNS-SCMGGMNRRPILTIITLEDSSGNL--LGRNSFEVRVCACPGRDRRTEEENLRKKGEPHHE---LPPGSTKRA-LPNNTSSSPQPKKKPL--DGEYFT-LQIRGRERFEMFRELNEALELK--DAQAGK--EPGGSRAHSSHLKSKKGQSTSRHKKLM-FKTEGP---DSD--\n",
            "    . |    .    |                     |        | |           |         |            |               |                 |           |      |                     |                       |          |              |                               |   |       |       |           ||                  |    |                                  |                                                            |      | |        |          ||                |       |  |  |||    |     |          |                 |    |  |                       |     |  |   |   |     ||     | |        |      |         |         |   |       |                |          |        |||  \n",
            "----I-D----: sp|P-------------04637.4|P-53_HUMAN\n",
            "N---ame: sp|P-04637.4|P-------53_HUM------------AN\n",
            "D--escription: sp|P---04637.4|P-53_HUM---------------------A---------------------N R--ecName: F----------ull=C----ellular tumor antigen p53; A-ltN--ame: F---ull=A--ntigen NY-C-----------------O-13; A-ltName: Full=Phosphoprotein p53; A----ltName: Full=Tumor suppressor p53\n",
            "Number of features: 0\n",
            "S--eq('M-E--------E----------PQ---------------SD------PS--V--EPP---LS---QET---------FS-----------------D----LWKL-----------------------L-----P--ENNVL---S----PLP-----S-Q------AMD-----DL---------M---------L-SPD-----DIE----------------Q---------WF-----...DSD')\n",
            "  Score=61\n",
            "\n",
            "MEEPQSDPSVEP----PLSQETFSDLWKLL--------PE-------N-NVLS--------PL--------PSQAMDDL-----MLSPDDIEQWFTE---DPG---------------PDEA--------PR-----MPEAAPPVAPAPAAPTPAAPAPAPSWPLSSSVPSQKTYQGSYGF--RLG--------FLHSGTAKSVT----CTYSP---------------------------AL--NKM-----FCQL----AKT----------CPVQLWVDSTPPPGTRVR------AM---------------------------------AIYKQ--------------------------------------------------------SQH----MTEVVRRCPHHERCSDSDGLAPPQHLIRVEGNLRVEYLD-DRNTFRH-SVVVPYEPPEVG-SDCT--TIHYNYMCNS-SCMGGMNRRPILTIITLEDSSGNL--LGRNSFEVRVCACPGRDRRTEEENLRKKGEPHHE---LPPGSTKRA-LPNNTSSSPQPKKKPL--DGEYFT-LQIRGRERFEMFRELNEALELK--DAQAGK--EPGGSRAHSSHLKSKKGQSTSRHKKLM-FKTEGP---DSD--\n",
            "   .  |    .    |                     |        | |           |         |            |               |                 |           |      |                     |                       |          |              |                               |   |       |       |           ||                  |    |                                  |                                                            |      | |        |          ||                |       |  |  |||    |     |          |                 |    |  |                       |     |  |   |   |     ||     | |        |      |         |         |   |       |                |          |        |||  \n",
            "---I--D----: sp|P-------------04637.4|P-53_HUMAN\n",
            "N---ame: sp|P-04637.4|P-------53_HUM------------AN\n",
            "D--escription: sp|P---04637.4|P-53_HUM---------------------A---------------------N R--ecName: F----------ull=C----ellular tumor antigen p53; A-ltN--ame: F---ull=A--ntigen NY-C-----------------O-13; A-ltName: Full=Phosphoprotein p53; A----ltName: Full=Tumor suppressor p53\n",
            "Number of features: 0\n",
            "S--eq('M-E--------E----------PQ---------------SD------PS--V--EPP---LS---QET---------FS-----------------D----LWKL-----------------------L-----P--ENNVL---S----PLP-----S-Q------AMD-----DL---------M---------L-SPD-----DIE----------------Q---------WF-----...DSD')\n",
            "  Score=61\n",
            "\n",
            "MEEPQSDPSVEP----PLSQETFSDLWKLL--------PE-------N-NVLS--------PL--------PSQAMDDL-----MLSPDDIEQWFTE---DPG---------------PDEA--------PR-----MPEAAPPVAPAPAAPTPAAPAPAPSWPLSSSVPSQKTYQGSYGF--RLG--------FLHSGTAKSVT----CTYSP---------------------------AL--NKM-----FCQL----AKT----------CPVQLWVDSTPPPGTRVR------AM---------------------------------AIYKQ--------------------------------------------------------SQH----MTEVVRRCPHHERCSDSDGLAPPQHLIRVEGNLRVEYLD-DRNTFRH-SVVVPYEPPEVG-SDCT--TIHYNYMCNS-SCMGGMNRRPILTIITLEDSSGNL--LGRNSFEVRVCACPGRDRRTEEENLRKKGEPHHE---LPPGSTKRA-LPNNTSSSPQPKKKPL--DGEYFT-LQIRGRERFEMFRELNEALELK--DAQAGK--EPGGSRAHSSHLKSKKGQSTSRHKKLM-FKTEGP---DSD--\n",
            "  .   |    .    |                     |        | |           |         |            |               |                 |           |      |                     |                       |          |              |                               |   |       |       |           ||                  |    |                                  |                                                            |      | |        |          ||                |       |  |  |||    |     |          |                 |    |  |                       |     |  |   |   |     ||     | |        |      |         |         |   |       |                |          |        |||  \n",
            "--I---D----: sp|P-------------04637.4|P-53_HUMAN\n",
            "N---ame: sp|P-04637.4|P-------53_HUM------------AN\n",
            "D--escription: sp|P---04637.4|P-53_HUM---------------------A---------------------N R--ecName: F----------ull=C----ellular tumor antigen p53; A-ltN--ame: F---ull=A--ntigen NY-C-----------------O-13; A-ltName: Full=Phosphoprotein p53; A----ltName: Full=Tumor suppressor p53\n",
            "Number of features: 0\n",
            "S--eq('M-E--------E----------PQ---------------SD------PS--V--EPP---LS---QET---------FS-----------------D----LWKL-----------------------L-----P--ENNVL---S----PLP-----S-Q------AMD-----DL---------M---------L-SPD-----DIE----------------Q---------WF-----...DSD')\n",
            "  Score=61\n",
            "\n",
            "MEEPQSDPSVEP----PLSQETFSDLWKLL--------PE-------N-NVLS--------PL--------PSQAMDDL-----MLSPDDIEQWFTE---DPG---------------PDEA--------PR-----MPEAAPPVAPAPAAPTPAAPAPAPSWPLSSSVPSQKTYQGSYGF--RLG--------FLHSGTAKSVT----CTYSP---------------------------AL--NKM-----FCQL----AKT----------CPVQLWVDSTPPPGTRVR------AM---------------------------------AIYKQ--------------------------------------------------------SQH----MTEVVRRCPHHERCSDSDGLAPPQHLIRVEGNLRVEYLD-DRNTFRH-SVVVPYEPPEVG-SDCT--TIHYNYMCNS-SCMGGMNRRPILTIITLEDSSGNL--LGRNSFEVRVCACPGRDRRTEEENLRKKGEPHHE---LPPGSTKRA-LPNNTSSSPQPKKKPL--DGEYFT-LQIRGRERFEMFRELNEALELK--DAQAGK--EPGGSRAHSSHLKSKKGQSTSRHKKLM-FKTEGP---DSD--\n",
            " .    |    .    |                     |        | |           |         |            |               |                 |           |      |                     |                       |          |              |                               |   |       |       |           ||                  |    |                                  |                                                            |      | |        |          ||                |       |  |  |||    |     |          |                 |    |  |                       |     |  |   |   |     ||     | |        |      |         |         |   |       |                |          |        |||  \n",
            "-I----D----: sp|P-------------04637.4|P-53_HUMAN\n",
            "N---ame: sp|P-04637.4|P-------53_HUM------------AN\n",
            "D--escription: sp|P---04637.4|P-53_HUM---------------------A---------------------N R--ecName: F----------ull=C----ellular tumor antigen p53; A-ltN--ame: F---ull=A--ntigen NY-C-----------------O-13; A-ltName: Full=Phosphoprotein p53; A----ltName: Full=Tumor suppressor p53\n",
            "Number of features: 0\n",
            "S--eq('M-E--------E----------PQ---------------SD------PS--V--EPP---LS---QET---------FS-----------------D----LWKL-----------------------L-----P--ENNVL---S----PLP-----S-Q------AMD-----DL---------M---------L-SPD-----DIE----------------Q---------WF-----...DSD')\n",
            "  Score=61\n",
            "\n",
            "MEEPQSDPSVEP----PLSQETFSDLWKLL--------PE-------N-NVLS--------PL--------PSQAMDDL-----MLSPDDIEQWFTE---DPG---------------PDEA--------PR-----MPEAAPPVAPAPAAPTPAAPAPAPSWPLSSSVPSQKTYQGSYGF--RLG--------FLHSGTAKSVT----CTYSP---------------------------AL--NKM-----FCQL----AKT----------CPVQLWVDSTPPPGTRVR------AM---------------------------------AIYKQ--------------------------------------------------------SQH----MTEVVRRCPHHERCSDSDGLAPPQHLIRVEGNLRVEYLD-DRNTFRH-SVVVPYEPPEVG-SDCT--TIHYNYMCNS-SCMGGMNRRPILTIITLEDSSGNL--LGRNSFEVRVCACPGRDRRTEEENLRKKGEPHHE---LPPGSTKRA-LPNNTSSSPQPKKKPL--DGEYFT-LQIRGRERFEMFRELNEALELK--DAQAGK--EPGGSRAHSSHLKSKKGQSTSRHKKLM-FKTEGP---DSD--\n",
            ".     |    .    |                     |        | |           |         |            |               |                 |           |      |                     |                       |          |              |                               |   |       |       |           ||                  |    |                                  |                                                            |      | |        |          ||                |       |  |  |||    |     |          |                 |    |  |                       |     |  |   |   |     ||     | |        |      |         |         |   |       |                |          |        |||  \n",
            "I-----D----: sp|P-------------04637.4|P-53_HUMAN\n",
            "N---ame: sp|P-04637.4|P-------53_HUM------------AN\n",
            "D--escription: sp|P---04637.4|P-53_HUM---------------------A---------------------N R--ecName: F----------ull=C----ellular tumor antigen p53; A-ltN--ame: F---ull=A--ntigen NY-C-----------------O-13; A-ltName: Full=Phosphoprotein p53; A----ltName: Full=Tumor suppressor p53\n",
            "Number of features: 0\n",
            "S--eq('M-E--------E----------PQ---------------SD------PS--V--EPP---LS---QET---------FS-----------------D----LWKL-----------------------L-----P--ENNVL---S----PLP-----S-Q------AMD-----DL---------M---------L-SPD-----DIE----------------Q---------WF-----...DSD')\n",
            "  Score=61\n",
            "\n",
            "MEEPQS-DPSVEP----PLSQETFSDLWKLL--------PE-------N-NVLS--------PL--------PSQAMDDL-----MLSPDDIEQWFTE---DPG---------------PDEA--------PR-----MPEAAPPVAPAPAAPTPAAPAPAPSWPLSSSVPSQKTYQGSYGF--RLG--------FLHSGTAKSVT----CTYSP---------------------------AL--NKM-----FCQL----AKT----------CPVQLWVDSTPPPGTRVR------AM---------------------------------AIYKQ--------------------------------------------------------SQH----MTEVVRRCPHHERCSDSDGLAPPQHLIRVEGNLRVEYLD-DRNTFRH-SVVVPYEPPEVG-SDCT--TIHYNYMCNS-SCMGGMNRRPILTIITLEDSSGNL--LGRNSFEVRVCACPGRDRRTEEENLRKKGEPHHE---LPPGSTKRA-LPNNTSSSPQPKKKPL--DGEYFT-LQIRGRERFEMFRELNEALELK--DAQAGK--EPGGSRAHSSHLKSKKGQSTSRHKKLM-FKTEGP---DSD--\n",
            "       |   .     |                     |        | |           |         |            |               |                 |           |      |                     |                       |          |              |                               |   |       |       |           ||                  |    |                                  |                                                            |      | |        |          ||                |       |  |  |||    |     |          |                 |    |  |                       |     |  |   |   |     ||     | |        |      |         |         |   |       |                |          |        |||  \n",
            "------ID---:- sp|P-------------04637.4|P-53_HUMAN\n",
            "N---ame: sp|P-04637.4|P-------53_HUM------------AN\n",
            "D--escription: sp|P---04637.4|P-53_HUM---------------------A---------------------N R--ecName: F----------ull=C----ellular tumor antigen p53; A-ltN--ame: F---ull=A--ntigen NY-C-----------------O-13; A-ltName: Full=Phosphoprotein p53; A----ltName: Full=Tumor suppressor p53\n",
            "Number of features: 0\n",
            "S--eq('M-E--------E----------PQ---------------SD------PS--V--EPP---LS---QET---------FS-----------------D----LWKL-----------------------L-----P--ENNVL---S----PLP-----S-Q------AMD-----DL---------M---------L-SPD-----DIE----------------Q---------WF-----...DSD')\n",
            "  Score=61\n",
            "\n",
            "MEEPQSDPSVEP----PLSQETFSDLWKLL--------PE-------N-NVLS--------PL--------PSQAMDDL-----MLSPDDIEQWFTE---DPG---------------PDEA--------PR-----MPEAAPPVAPAPAAPTPAAPAPAPSWPLSSSVPSQKTYQGSYGF--RLG--------FLHSGTAKSVT----CTYSP---------------------------AL--NKM-----FCQL----AKT----------CPVQLWVDSTPPPGTRVR------AM---------------------------------AIYKQ--------------------------------------------------------SQH----MTEVVRRCPHHERCSDSDGLAPPQHLIRVEGNLRVEYLD-DRNTFRH-SVVVPYEPPEVG-SDCT--TIHYNYMCNS-SCMGGMNRRPILTIITLEDSSGNL--LGRNSFEVRVCACPGRDRRTEEENLRKKGEPHHE---LPPGSTKRA-LPNNTSSSPQPKKKPL--DGEYFT-LQIRGRERFEMFRELNEALELK--DAQAGK--EPGGSRAHSSHLKSKKGQSTSRHKKLM-FKTEGP---DSD--\n",
            "     .|   .     |                     |        | |           |         |            |               |                 |           |      |                     |                       |          |              |                               |   |       |       |           ||                  |    |                                  |                                                            |      | |        |          ||                |       |  |  |||    |     |          |                 |    |  |                       |     |  |   |   |     ||     | |        |      |         |         |   |       |                |          |        |||  \n",
            "-----ID---:- sp|P-------------04637.4|P-53_HUMAN\n",
            "N---ame: sp|P-04637.4|P-------53_HUM------------AN\n",
            "D--escription: sp|P---04637.4|P-53_HUM---------------------A---------------------N R--ecName: F----------ull=C----ellular tumor antigen p53; A-ltN--ame: F---ull=A--ntigen NY-C-----------------O-13; A-ltName: Full=Phosphoprotein p53; A----ltName: Full=Tumor suppressor p53\n",
            "Number of features: 0\n",
            "S--eq('M-E--------E----------PQ---------------SD------PS--V--EPP---LS---QET---------FS-----------------D----LWKL-----------------------L-----P--ENNVL---S----PLP-----S-Q------AMD-----DL---------M---------L-SPD-----DIE----------------Q---------WF-----...DSD')\n",
            "  Score=61\n",
            "\n",
            "MEEPQSDPSVEP----PLSQETFSDLWKLL--------PE-------N-NVLS--------PL--------PSQAMDDL-----MLSPDDIEQWFTE---DPG---------------PDEA--------PR-----MPEAAPPVAPAPAAPTPAAPAPAPSWPLSSSVPSQKTYQGSYGF--RLG--------FLHSGTAKSVT----CTYSP---------------------------AL--NKM-----FCQL----AKT----------CPVQLWVDSTPPPGTRVR------AM---------------------------------AIYKQ--------------------------------------------------------SQH----MTEVVRRCPHHERCSDSDGLAPPQHLIRVEGNLRVEYLD-DRNTFRH-SVVVPYEPPEVG-SDCT--TIHYNYMCNS-SCMGGMNRRPILTIITLEDSSGNL--LGRNSFEVRVCACPGRDRRTEEENLRKKGEPHHE---LPPGSTKRA-LPNNTSSSPQPKKKPL--DGEYFT-LQIRGRERFEMFRELNEALELK--DAQAGK--EPGGSRAHSSHLKSKKGQSTSRHKKLM-FKTEGP---DSD--\n",
            "    . |   .     |                     |        | |           |         |            |               |                 |           |      |                     |                       |          |              |                               |   |       |       |           ||                  |    |                                  |                                                            |      | |        |          ||                |       |  |  |||    |     |          |                 |    |  |                       |     |  |   |   |     ||     | |        |      |         |         |   |       |                |          |        |||  \n",
            "----I-D---:- sp|P-------------04637.4|P-53_HUMAN\n",
            "N---ame: sp|P-04637.4|P-------53_HUM------------AN\n",
            "D--escription: sp|P---04637.4|P-53_HUM---------------------A---------------------N R--ecName: F----------ull=C----ellular tumor antigen p53; A-ltN--ame: F---ull=A--ntigen NY-C-----------------O-13; A-ltName: Full=Phosphoprotein p53; A----ltName: Full=Tumor suppressor p53\n",
            "Number of features: 0\n",
            "S--eq('M-E--------E----------PQ---------------SD------PS--V--EPP---LS---QET---------FS-----------------D----LWKL-----------------------L-----P--ENNVL---S----PLP-----S-Q------AMD-----DL---------M---------L-SPD-----DIE----------------Q---------WF-----...DSD')\n",
            "  Score=61\n",
            "\n",
            "MEEPQSDPSVEP----PLSQETFSDLWKLL--------PE-------N-NVLS--------PL--------PSQAMDDL-----MLSPDDIEQWFTE---DPG---------------PDEA--------PR-----MPEAAPPVAPAPAAPTPAAPAPAPSWPLSSSVPSQKTYQGSYGF--RLG--------FLHSGTAKSVT----CTYSP---------------------------AL--NKM-----FCQL----AKT----------CPVQLWVDSTPPPGTRVR------AM---------------------------------AIYKQ--------------------------------------------------------SQH----MTEVVRRCPHHERCSDSDGLAPPQHLIRVEGNLRVEYLD-DRNTFRH-SVVVPYEPPEVG-SDCT--TIHYNYMCNS-SCMGGMNRRPILTIITLEDSSGNL--LGRNSFEVRVCACPGRDRRTEEENLRKKGEPHHE---LPPGSTKRA-LPNNTSSSPQPKKKPL--DGEYFT-LQIRGRERFEMFRELNEALELK--DAQAGK--EPGGSRAHSSHLKSKKGQSTSRHKKLM-FKTEGP---DSD--\n",
            "   .  |   .     |                     |        | |           |         |            |               |                 |           |      |                     |                       |          |              |                               |   |       |       |           ||                  |    |                                  |                                                            |      | |        |          ||                |       |  |  |||    |     |          |                 |    |  |                       |     |  |   |   |     ||     | |        |      |         |         |   |       |                |          |        |||  \n",
            "---I--D---:- sp|P-------------04637.4|P-53_HUMAN\n",
            "N---ame: sp|P-04637.4|P-------53_HUM------------AN\n",
            "D--escription: sp|P---04637.4|P-53_HUM---------------------A---------------------N R--ecName: F----------ull=C----ellular tumor antigen p53; A-ltN--ame: F---ull=A--ntigen NY-C-----------------O-13; A-ltName: Full=Phosphoprotein p53; A----ltName: Full=Tumor suppressor p53\n",
            "Number of features: 0\n",
            "S--eq('M-E--------E----------PQ---------------SD------PS--V--EPP---LS---QET---------FS-----------------D----LWKL-----------------------L-----P--ENNVL---S----PLP-----S-Q------AMD-----DL---------M---------L-SPD-----DIE----------------Q---------WF-----...DSD')\n",
            "  Score=61\n",
            "\n",
            "MEEPQSDPSVEP----PLSQETFSDLWKLL--------PE-------N-NVLS--------PL--------PSQAMDDL-----MLSPDDIEQWFTE---DPG---------------PDEA--------PR-----MPEAAPPVAPAPAAPTPAAPAPAPSWPLSSSVPSQKTYQGSYGF--RLG--------FLHSGTAKSVT----CTYSP---------------------------AL--NKM-----FCQL----AKT----------CPVQLWVDSTPPPGTRVR------AM---------------------------------AIYKQ--------------------------------------------------------SQH----MTEVVRRCPHHERCSDSDGLAPPQHLIRVEGNLRVEYLD-DRNTFRH-SVVVPYEPPEVG-SDCT--TIHYNYMCNS-SCMGGMNRRPILTIITLEDSSGNL--LGRNSFEVRVCACPGRDRRTEEENLRKKGEPHHE---LPPGSTKRA-LPNNTSSSPQPKKKPL--DGEYFT-LQIRGRERFEMFRELNEALELK--DAQAGK--EPGGSRAHSSHLKSKKGQSTSRHKKLM-FKTEGP---DSD--\n",
            "  .   |   .     |                     |        | |           |         |            |               |                 |           |      |                     |                       |          |              |                               |   |       |       |           ||                  |    |                                  |                                                            |      | |        |          ||                |       |  |  |||    |     |          |                 |    |  |                       |     |  |   |   |     ||     | |        |      |         |         |   |       |                |          |        |||  \n",
            "--I---D---:- sp|P-------------04637.4|P-53_HUMAN\n",
            "N---ame: sp|P-04637.4|P-------53_HUM------------AN\n",
            "D--escription: sp|P---04637.4|P-53_HUM---------------------A---------------------N R--ecName: F----------ull=C----ellular tumor antigen p53; A-ltN--ame: F---ull=A--ntigen NY-C-----------------O-13; A-ltName: Full=Phosphoprotein p53; A----ltName: Full=Tumor suppressor p53\n",
            "Number of features: 0\n",
            "S--eq('M-E--------E----------PQ---------------SD------PS--V--EPP---LS---QET---------FS-----------------D----LWKL-----------------------L-----P--ENNVL---S----PLP-----S-Q------AMD-----DL---------M---------L-SPD-----DIE----------------Q---------WF-----...DSD')\n",
            "  Score=61\n",
            "\n",
            "MEEPQSDPSVEP----PLSQETFSDLWKLL--------PE-------N-NVLS--------PL--------PSQAMDDL-----MLSPDDIEQWFTE---DPG---------------PDEA--------PR-----MPEAAPPVAPAPAAPTPAAPAPAPSWPLSSSVPSQKTYQGSYGF--RLG--------FLHSGTAKSVT----CTYSP---------------------------AL--NKM-----FCQL----AKT----------CPVQLWVDSTPPPGTRVR------AM---------------------------------AIYKQ--------------------------------------------------------SQH----MTEVVRRCPHHERCSDSDGLAPPQHLIRVEGNLRVEYLD-DRNTFRH-SVVVPYEPPEVG-SDCT--TIHYNYMCNS-SCMGGMNRRPILTIITLEDSSGNL--LGRNSFEVRVCACPGRDRRTEEENLRKKGEPHHE---LPPGSTKRA-LPNNTSSSPQPKKKPL--DGEYFT-LQIRGRERFEMFRELNEALELK--DAQAGK--EPGGSRAHSSHLKSKKGQSTSRHKKLM-FKTEGP---DSD--\n",
            " .    |   .     |                     |        | |           |         |            |               |                 |           |      |                     |                       |          |              |                               |   |       |       |           ||                  |    |                                  |                                                            |      | |        |          ||                |       |  |  |||    |     |          |                 |    |  |                       |     |  |   |   |     ||     | |        |      |         |         |   |       |                |          |        |||  \n",
            "-I----D---:- sp|P-------------04637.4|P-53_HUMAN\n",
            "N---ame: sp|P-04637.4|P-------53_HUM------------AN\n",
            "D--escription: sp|P---04637.4|P-53_HUM---------------------A---------------------N R--ecName: F----------ull=C----ellular tumor antigen p53; A-ltN--ame: F---ull=A--ntigen NY-C-----------------O-13; A-ltName: Full=Phosphoprotein p53; A----ltName: Full=Tumor suppressor p53\n",
            "Number of features: 0\n",
            "S--eq('M-E--------E----------PQ---------------SD------PS--V--EPP---LS---QET---------FS-----------------D----LWKL-----------------------L-----P--ENNVL---S----PLP-----S-Q------AMD-----DL---------M---------L-SPD-----DIE----------------Q---------WF-----...DSD')\n",
            "  Score=61\n",
            "\n",
            "MEEPQSDPSVEP----PLSQETFSDLWKLL--------PE-------N-NVLS--------PL--------PSQAMDDL-----MLSPDDIEQWFTE---DPG---------------PDEA--------PR-----MPEAAPPVAPAPAAPTPAAPAPAPSWPLSSSVPSQKTYQGSYGF--RLG--------FLHSGTAKSVT----CTYSP---------------------------AL--NKM-----FCQL----AKT----------CPVQLWVDSTPPPGTRVR------AM---------------------------------AIYKQ--------------------------------------------------------SQH----MTEVVRRCPHHERCSDSDGLAPPQHLIRVEGNLRVEYLD-DRNTFRH-SVVVPYEPPEVG-SDCT--TIHYNYMCNS-SCMGGMNRRPILTIITLEDSSGNL--LGRNSFEVRVCACPGRDRRTEEENLRKKGEPHHE---LPPGSTKRA-LPNNTSSSPQPKKKPL--DGEYFT-LQIRGRERFEMFRELNEALELK--DAQAGK--EPGGSRAHSSHLKSKKGQSTSRHKKLM-FKTEGP---DSD--\n",
            ".     |   .     |                     |        | |           |         |            |               |                 |           |      |                     |                       |          |              |                               |   |       |       |           ||                  |    |                                  |                                                            |      | |        |          ||                |       |  |  |||    |     |          |                 |    |  |                       |     |  |   |   |     ||     | |        |      |         |         |   |       |                |          |        |||  \n",
            "I-----D---:- sp|P-------------04637.4|P-53_HUMAN\n",
            "N---ame: sp|P-04637.4|P-------53_HUM------------AN\n",
            "D--escription: sp|P---04637.4|P-53_HUM---------------------A---------------------N R--ecName: F----------ull=C----ellular tumor antigen p53; A-ltN--ame: F---ull=A--ntigen NY-C-----------------O-13; A-ltName: Full=Phosphoprotein p53; A----ltName: Full=Tumor suppressor p53\n",
            "Number of features: 0\n",
            "S--eq('M-E--------E----------PQ---------------SD------PS--V--EPP---LS---QET---------FS-----------------D----LWKL-----------------------L-----P--ENNVL---S----PLP-----S-Q------AMD-----DL---------M---------L-SPD-----DIE----------------Q---------WF-----...DSD')\n",
            "  Score=61\n",
            "\n",
            "MEEPQS-DPSVEP----PLSQETFSDLWKLL--------PE-------N-NVLS--------PL--------PSQAMDDL-----MLSPDDIEQWFTE---DPG---------------PDEA--------PR-----MPEAAPPVAPAPAAPTPAAPAPAPSWPLSSSVPSQKTYQGSYGF--RLG--------FLHSGTAKSVT----CTYSP---------------------------AL--NKM-----FCQL----AKT----------CPVQLWVDSTPPPGTRVR------AM---------------------------------AIYKQ--------------------------------------------------------SQH----MTEVVRRCPHHERCSDSDGLAPPQHLIRVEGNLRVEYLD-DRNTFRH-SVVVPYEPPEVG-SDCT--TIHYNYMCNS-SCMGGMNRRPILTIITLEDSSGNL--LGRNSFEVRVCACPGRDRRTEEENLRKKGEPHHE---LPPGSTKRA-LPNNTSSSPQPKKKPL--DGEYFT-LQIRGRERFEMFRELNEALELK--DAQAGK--EPGGSRAHSSHLKSKKGQSTSRHKKLM-FKTEGP---DSD--\n",
            "       |  .      |                     |        | |           |         |            |               |                 |           |      |                     |                       |          |              |                               |   |       |       |           ||                  |    |                                  |                                                            |      | |        |          ||                |       |  |  |||    |     |          |                 |    |  |                       |     |  |   |   |     ||     | |        |      |         |         |   |       |                |          |        |||  \n",
            "------ID--:-- sp|P-------------04637.4|P-53_HUMAN\n",
            "N---ame: sp|P-04637.4|P-------53_HUM------------AN\n",
            "D--escription: sp|P---04637.4|P-53_HUM---------------------A---------------------N R--ecName: F----------ull=C----ellular tumor antigen p53; A-ltN--ame: F---ull=A--ntigen NY-C-----------------O-13; A-ltName: Full=Phosphoprotein p53; A----ltName: Full=Tumor suppressor p53\n",
            "Number of features: 0\n",
            "S--eq('M-E--------E----------PQ---------------SD------PS--V--EPP---LS---QET---------FS-----------------D----LWKL-----------------------L-----P--ENNVL---S----PLP-----S-Q------AMD-----DL---------M---------L-SPD-----DIE----------------Q---------WF-----...DSD')\n",
            "  Score=61\n",
            "\n",
            "MEEPQSDPSVEP----PLSQETFSDLWKLL--------PE-------N-NVLS--------PL--------PSQAMDDL-----MLSPDDIEQWFTE---DPG---------------PDEA--------PR-----MPEAAPPVAPAPAAPTPAAPAPAPSWPLSSSVPSQKTYQGSYGF--RLG--------FLHSGTAKSVT----CTYSP---------------------------AL--NKM-----FCQL----AKT----------CPVQLWVDSTPPPGTRVR------AM---------------------------------AIYKQ--------------------------------------------------------SQH----MTEVVRRCPHHERCSDSDGLAPPQHLIRVEGNLRVEYLD-DRNTFRH-SVVVPYEPPEVG-SDCT--TIHYNYMCNS-SCMGGMNRRPILTIITLEDSSGNL--LGRNSFEVRVCACPGRDRRTEEENLRKKGEPHHE---LPPGSTKRA-LPNNTSSSPQPKKKPL--DGEYFT-LQIRGRERFEMFRELNEALELK--DAQAGK--EPGGSRAHSSHLKSKKGQSTSRHKKLM-FKTEGP---DSD--\n",
            "     .|  .      |                     |        | |           |         |            |               |                 |           |      |                     |                       |          |              |                               |   |       |       |           ||                  |    |                                  |                                                            |      | |        |          ||                |       |  |  |||    |     |          |                 |    |  |                       |     |  |   |   |     ||     | |        |      |         |         |   |       |                |          |        |||  \n",
            "-----ID--:-- sp|P-------------04637.4|P-53_HUMAN\n",
            "N---ame: sp|P-04637.4|P-------53_HUM------------AN\n",
            "D--escription: sp|P---04637.4|P-53_HUM---------------------A---------------------N R--ecName: F----------ull=C----ellular tumor antigen p53; A-ltN--ame: F---ull=A--ntigen NY-C-----------------O-13; A-ltName: Full=Phosphoprotein p53; A----ltName: Full=Tumor suppressor p53\n",
            "Number of features: 0\n",
            "S--eq('M-E--------E----------PQ---------------SD------PS--V--EPP---LS---QET---------FS-----------------D----LWKL-----------------------L-----P--ENNVL---S----PLP-----S-Q------AMD-----DL---------M---------L-SPD-----DIE----------------Q---------WF-----...DSD')\n",
            "  Score=61\n",
            "\n",
            "MEEPQSDPSVEP----PLSQETFSDLWKLL--------PE-------N-NVLS--------PL--------PSQAMDDL-----MLSPDDIEQWFTE---DPG---------------PDEA--------PR-----MPEAAPPVAPAPAAPTPAAPAPAPSWPLSSSVPSQKTYQGSYGF--RLG--------FLHSGTAKSVT----CTYSP---------------------------AL--NKM-----FCQL----AKT----------CPVQLWVDSTPPPGTRVR------AM---------------------------------AIYKQ--------------------------------------------------------SQH----MTEVVRRCPHHERCSDSDGLAPPQHLIRVEGNLRVEYLD-DRNTFRH-SVVVPYEPPEVG-SDCT--TIHYNYMCNS-SCMGGMNRRPILTIITLEDSSGNL--LGRNSFEVRVCACPGRDRRTEEENLRKKGEPHHE---LPPGSTKRA-LPNNTSSSPQPKKKPL--DGEYFT-LQIRGRERFEMFRELNEALELK--DAQAGK--EPGGSRAHSSHLKSKKGQSTSRHKKLM-FKTEGP---DSD--\n",
            "    . |  .      |                     |        | |           |         |            |               |                 |           |      |                     |                       |          |              |                               |   |       |       |           ||                  |    |                                  |                                                            |      | |        |          ||                |       |  |  |||    |     |          |                 |    |  |                       |     |  |   |   |     ||     | |        |      |         |         |   |       |                |          |        |||  \n",
            "----I-D--:-- sp|P-------------04637.4|P-53_HUMAN\n",
            "N---ame: sp|P-04637.4|P-------53_HUM------------AN\n",
            "D--escription: sp|P---04637.4|P-53_HUM---------------------A---------------------N R--ecName: F----------ull=C----ellular tumor antigen p53; A-ltN--ame: F---ull=A--ntigen NY-C-----------------O-13; A-ltName: Full=Phosphoprotein p53; A----ltName: Full=Tumor suppressor p53\n",
            "Number of features: 0\n",
            "S--eq('M-E--------E----------PQ---------------SD------PS--V--EPP---LS---QET---------FS-----------------D----LWKL-----------------------L-----P--ENNVL---S----PLP-----S-Q------AMD-----DL---------M---------L-SPD-----DIE----------------Q---------WF-----...DSD')\n",
            "  Score=61\n",
            "\n",
            "MEEPQSDPSVEP----PLSQETFSDLWKLL--------PE-------N-NVLS--------PL--------PSQAMDDL-----MLSPDDIEQWFTE---DPG---------------PDEA--------PR-----MPEAAPPVAPAPAAPTPAAPAPAPSWPLSSSVPSQKTYQGSYGF--RLG--------FLHSGTAKSVT----CTYSP---------------------------AL--NKM-----FCQL----AKT----------CPVQLWVDSTPPPGTRVR------AM---------------------------------AIYKQ--------------------------------------------------------SQH----MTEVVRRCPHHERCSDSDGLAPPQHLIRVEGNLRVEYLD-DRNTFRH-SVVVPYEPPEVG-SDCT--TIHYNYMCNS-SCMGGMNRRPILTIITLEDSSGNL--LGRNSFEVRVCACPGRDRRTEEENLRKKGEPHHE---LPPGSTKRA-LPNNTSSSPQPKKKPL--DGEYFT-LQIRGRERFEMFRELNEALELK--DAQAGK--EPGGSRAHSSHLKSKKGQSTSRHKKLM-FKTEGP---DSD--\n",
            "   .  |  .      |                     |        | |           |         |            |               |                 |           |      |                     |                       |          |              |                               |   |       |       |           ||                  |    |                                  |                                                            |      | |        |          ||                |       |  |  |||    |     |          |                 |    |  |                       |     |  |   |   |     ||     | |        |      |         |         |   |       |                |          |        |||  \n",
            "---I--D--:-- sp|P-------------04637.4|P-53_HUMAN\n",
            "N---ame: sp|P-04637.4|P-------53_HUM------------AN\n",
            "D--escription: sp|P---04637.4|P-53_HUM---------------------A---------------------N R--ecName: F----------ull=C----ellular tumor antigen p53; A-ltN--ame: F---ull=A--ntigen NY-C-----------------O-13; A-ltName: Full=Phosphoprotein p53; A----ltName: Full=Tumor suppressor p53\n",
            "Number of features: 0\n",
            "S--eq('M-E--------E----------PQ---------------SD------PS--V--EPP---LS---QET---------FS-----------------D----LWKL-----------------------L-----P--ENNVL---S----PLP-----S-Q------AMD-----DL---------M---------L-SPD-----DIE----------------Q---------WF-----...DSD')\n",
            "  Score=61\n",
            "\n",
            "MEEPQSDPSVEP----PLSQETFSDLWKLL--------PE-------N-NVLS--------PL--------PSQAMDDL-----MLSPDDIEQWFTE---DPG---------------PDEA--------PR-----MPEAAPPVAPAPAAPTPAAPAPAPSWPLSSSVPSQKTYQGSYGF--RLG--------FLHSGTAKSVT----CTYSP---------------------------AL--NKM-----FCQL----AKT----------CPVQLWVDSTPPPGTRVR------AM---------------------------------AIYKQ--------------------------------------------------------SQH----MTEVVRRCPHHERCSDSDGLAPPQHLIRVEGNLRVEYLD-DRNTFRH-SVVVPYEPPEVG-SDCT--TIHYNYMCNS-SCMGGMNRRPILTIITLEDSSGNL--LGRNSFEVRVCACPGRDRRTEEENLRKKGEPHHE---LPPGSTKRA-LPNNTSSSPQPKKKPL--DGEYFT-LQIRGRERFEMFRELNEALELK--DAQAGK--EPGGSRAHSSHLKSKKGQSTSRHKKLM-FKTEGP---DSD--\n",
            "  .   |  .      |                     |        | |           |         |            |               |                 |           |      |                     |                       |          |              |                               |   |       |       |           ||                  |    |                                  |                                                            |      | |        |          ||                |       |  |  |||    |     |          |                 |    |  |                       |     |  |   |   |     ||     | |        |      |         |         |   |       |                |          |        |||  \n",
            "--I---D--:-- sp|P-------------04637.4|P-53_HUMAN\n",
            "N---ame: sp|P-04637.4|P-------53_HUM------------AN\n",
            "D--escription: sp|P---04637.4|P-53_HUM---------------------A---------------------N R--ecName: F----------ull=C----ellular tumor antigen p53; A-ltN--ame: F---ull=A--ntigen NY-C-----------------O-13; A-ltName: Full=Phosphoprotein p53; A----ltName: Full=Tumor suppressor p53\n",
            "Number of features: 0\n",
            "S--eq('M-E--------E----------PQ---------------SD------PS--V--EPP---LS---QET---------FS-----------------D----LWKL-----------------------L-----P--ENNVL---S----PLP-----S-Q------AMD-----DL---------M---------L-SPD-----DIE----------------Q---------WF-----...DSD')\n",
            "  Score=61\n",
            "\n",
            "MEEPQSDPSVEP----PLSQETFSDLWKLL--------PE-------N-NVLS--------PL--------PSQAMDDL-----MLSPDDIEQWFTE---DPG---------------PDEA--------PR-----MPEAAPPVAPAPAAPTPAAPAPAPSWPLSSSVPSQKTYQGSYGF--RLG--------FLHSGTAKSVT----CTYSP---------------------------AL--NKM-----FCQL----AKT----------CPVQLWVDSTPPPGTRVR------AM---------------------------------AIYKQ--------------------------------------------------------SQH----MTEVVRRCPHHERCSDSDGLAPPQHLIRVEGNLRVEYLD-DRNTFRH-SVVVPYEPPEVG-SDCT--TIHYNYMCNS-SCMGGMNRRPILTIITLEDSSGNL--LGRNSFEVRVCACPGRDRRTEEENLRKKGEPHHE---LPPGSTKRA-LPNNTSSSPQPKKKPL--DGEYFT-LQIRGRERFEMFRELNEALELK--DAQAGK--EPGGSRAHSSHLKSKKGQSTSRHKKLM-FKTEGP---DSD--\n",
            " .    |  .      |                     |        | |           |         |            |               |                 |           |      |                     |                       |          |              |                               |   |       |       |           ||                  |    |                                  |                                                            |      | |        |          ||                |       |  |  |||    |     |          |                 |    |  |                       |     |  |   |   |     ||     | |        |      |         |         |   |       |                |          |        |||  \n",
            "-I----D--:-- sp|P-------------04637.4|P-53_HUMAN\n",
            "N---ame: sp|P-04637.4|P-------53_HUM------------AN\n",
            "D--escription: sp|P---04637.4|P-53_HUM---------------------A---------------------N R--ecName: F----------ull=C----ellular tumor antigen p53; A-ltN--ame: F---ull=A--ntigen NY-C-----------------O-13; A-ltName: Full=Phosphoprotein p53; A----ltName: Full=Tumor suppressor p53\n",
            "Number of features: 0\n",
            "S--eq('M-E--------E----------PQ---------------SD------PS--V--EPP---LS---QET---------FS-----------------D----LWKL-----------------------L-----P--ENNVL---S----PLP-----S-Q------AMD-----DL---------M---------L-SPD-----DIE----------------Q---------WF-----...DSD')\n",
            "  Score=61\n",
            "\n",
            "MEEPQSDPSVEP----PLSQETFSDLWKLL--------PE-------N-NVLS--------PL--------PSQAMDDL-----MLSPDDIEQWFTE---DPG---------------PDEA--------PR-----MPEAAPPVAPAPAAPTPAAPAPAPSWPLSSSVPSQKTYQGSYGF--RLG--------FLHSGTAKSVT----CTYSP---------------------------AL--NKM-----FCQL----AKT----------CPVQLWVDSTPPPGTRVR------AM---------------------------------AIYKQ--------------------------------------------------------SQH----MTEVVRRCPHHERCSDSDGLAPPQHLIRVEGNLRVEYLD-DRNTFRH-SVVVPYEPPEVG-SDCT--TIHYNYMCNS-SCMGGMNRRPILTIITLEDSSGNL--LGRNSFEVRVCACPGRDRRTEEENLRKKGEPHHE---LPPGSTKRA-LPNNTSSSPQPKKKPL--DGEYFT-LQIRGRERFEMFRELNEALELK--DAQAGK--EPGGSRAHSSHLKSKKGQSTSRHKKLM-FKTEGP---DSD--\n",
            ".     |  .      |                     |        | |           |         |            |               |                 |           |      |                     |                       |          |              |                               |   |       |       |           ||                  |    |                                  |                                                            |      | |        |          ||                |       |  |  |||    |     |          |                 |    |  |                       |     |  |   |   |     ||     | |        |      |         |         |   |       |                |          |        |||  \n",
            "I-----D--:-- sp|P-------------04637.4|P-53_HUMAN\n",
            "N---ame: sp|P-04637.4|P-------53_HUM------------AN\n",
            "D--escription: sp|P---04637.4|P-53_HUM---------------------A---------------------N R--ecName: F----------ull=C----ellular tumor antigen p53; A-ltN--ame: F---ull=A--ntigen NY-C-----------------O-13; A-ltName: Full=Phosphoprotein p53; A----ltName: Full=Tumor suppressor p53\n",
            "Number of features: 0\n",
            "S--eq('M-E--------E----------PQ---------------SD------PS--V--EPP---LS---QET---------FS-----------------D----LWKL-----------------------L-----P--ENNVL---S----PLP-----S-Q------AMD-----DL---------M---------L-SPD-----DIE----------------Q---------WF-----...DSD')\n",
            "  Score=61\n",
            "\n",
            "MEEPQS-DPSVEP----PLSQETFSDLWKLL--------PE-------N-NVLS--------PL--------PSQAMDDL-----MLSPDDIEQWFTE---DPG---------------PDEA--------PR-----MPEAAPPVAPAPAAPTPAAPAPAPSWPLSSSVPSQKTYQGSYGF--RLG--------FLHSGTAKSVT----CTYSP---------------------------AL--NKM-----FCQL----AKT----------CPVQLWVDSTPPPGTRVR------AM---------------------------------AIYKQ--------------------------------------------------------SQH----MTEVVRRCPHHERCSDSDGLAPPQHLIRVEGNLRVEYLD-DRNTFRH-SVVVPYEPPEVG-SDCT--TIHYNYMCNS-SCMGGMNRRPILTIITLEDSSGNL--LGRNSFEVRVCACPGRDRRTEEENLRKKGEPHHE---LPPGSTKRA-LPNNTSSSPQPKKKPL--DGEYFT-LQIRGRERFEMFRELNEALELK--DAQAGK--EPGGSRAHSSHLKSKKGQSTSRHKKLM-FKTEGP---DSD--\n",
            "       | .       |                     |        | |           |         |            |               |                 |           |      |                     |                       |          |              |                               |   |       |       |           ||                  |    |                                  |                                                            |      | |        |          ||                |       |  |  |||    |     |          |                 |    |  |                       |     |  |   |   |     ||     | |        |      |         |         |   |       |                |          |        |||  \n",
            "------ID-:--- sp|P-------------04637.4|P-53_HUMAN\n",
            "N---ame: sp|P-04637.4|P-------53_HUM------------AN\n",
            "D--escription: sp|P---04637.4|P-53_HUM---------------------A---------------------N R--ecName: F----------ull=C----ellular tumor antigen p53; A-ltN--ame: F---ull=A--ntigen NY-C-----------------O-13; A-ltName: Full=Phosphoprotein p53; A----ltName: Full=Tumor suppressor p53\n",
            "Number of features: 0\n",
            "S--eq('M-E--------E----------PQ---------------SD------PS--V--EPP---LS---QET---------FS-----------------D----LWKL-----------------------L-----P--ENNVL---S----PLP-----S-Q------AMD-----DL---------M---------L-SPD-----DIE----------------Q---------WF-----...DSD')\n",
            "  Score=61\n",
            "\n",
            "MEEPQSDPSVEP----PLSQETFSDLWKLL--------PE-------N-NVLS--------PL--------PSQAMDDL-----MLSPDDIEQWFTE---DPG---------------PDEA--------PR-----MPEAAPPVAPAPAAPTPAAPAPAPSWPLSSSVPSQKTYQGSYGF--RLG--------FLHSGTAKSVT----CTYSP---------------------------AL--NKM-----FCQL----AKT----------CPVQLWVDSTPPPGTRVR------AM---------------------------------AIYKQ--------------------------------------------------------SQH----MTEVVRRCPHHERCSDSDGLAPPQHLIRVEGNLRVEYLD-DRNTFRH-SVVVPYEPPEVG-SDCT--TIHYNYMCNS-SCMGGMNRRPILTIITLEDSSGNL--LGRNSFEVRVCACPGRDRRTEEENLRKKGEPHHE---LPPGSTKRA-LPNNTSSSPQPKKKPL--DGEYFT-LQIRGRERFEMFRELNEALELK--DAQAGK--EPGGSRAHSSHLKSKKGQSTSRHKKLM-FKTEGP---DSD--\n",
            "     .| .       |                     |        | |           |         |            |               |                 |           |      |                     |                       |          |              |                               |   |       |       |           ||                  |    |                                  |                                                            |      | |        |          ||                |       |  |  |||    |     |          |                 |    |  |                       |     |  |   |   |     ||     | |        |      |         |         |   |       |                |          |        |||  \n",
            "-----ID-:--- sp|P-------------04637.4|P-53_HUMAN\n",
            "N---ame: sp|P-04637.4|P-------53_HUM------------AN\n",
            "D--escription: sp|P---04637.4|P-53_HUM---------------------A---------------------N R--ecName: F----------ull=C----ellular tumor antigen p53; A-ltN--ame: F---ull=A--ntigen NY-C-----------------O-13; A-ltName: Full=Phosphoprotein p53; A----ltName: Full=Tumor suppressor p53\n",
            "Number of features: 0\n",
            "S--eq('M-E--------E----------PQ---------------SD------PS--V--EPP---LS---QET---------FS-----------------D----LWKL-----------------------L-----P--ENNVL---S----PLP-----S-Q------AMD-----DL---------M---------L-SPD-----DIE----------------Q---------WF-----...DSD')\n",
            "  Score=61\n",
            "\n",
            "MEEPQSDPSVEP----PLSQETFSDLWKLL--------PE-------N-NVLS--------PL--------PSQAMDDL-----MLSPDDIEQWFTE---DPG---------------PDEA--------PR-----MPEAAPPVAPAPAAPTPAAPAPAPSWPLSSSVPSQKTYQGSYGF--RLG--------FLHSGTAKSVT----CTYSP---------------------------AL--NKM-----FCQL----AKT----------CPVQLWVDSTPPPGTRVR------AM---------------------------------AIYKQ--------------------------------------------------------SQH----MTEVVRRCPHHERCSDSDGLAPPQHLIRVEGNLRVEYLD-DRNTFRH-SVVVPYEPPEVG-SDCT--TIHYNYMCNS-SCMGGMNRRPILTIITLEDSSGNL--LGRNSFEVRVCACPGRDRRTEEENLRKKGEPHHE---LPPGSTKRA-LPNNTSSSPQPKKKPL--DGEYFT-LQIRGRERFEMFRELNEALELK--DAQAGK--EPGGSRAHSSHLKSKKGQSTSRHKKLM-FKTEGP---DSD--\n",
            "    . | .       |                     |        | |           |         |            |               |                 |           |      |                     |                       |          |              |                               |   |       |       |           ||                  |    |                                  |                                                            |      | |        |          ||                |       |  |  |||    |     |          |                 |    |  |                       |     |  |   |   |     ||     | |        |      |         |         |   |       |                |          |        |||  \n",
            "----I-D-:--- sp|P-------------04637.4|P-53_HUMAN\n",
            "N---ame: sp|P-04637.4|P-------53_HUM------------AN\n",
            "D--escription: sp|P---04637.4|P-53_HUM---------------------A---------------------N R--ecName: F----------ull=C----ellular tumor antigen p53; A-ltN--ame: F---ull=A--ntigen NY-C-----------------O-13; A-ltName: Full=Phosphoprotein p53; A----ltName: Full=Tumor suppressor p53\n",
            "Number of features: 0\n",
            "S--eq('M-E--------E----------PQ---------------SD------PS--V--EPP---LS---QET---------FS-----------------D----LWKL-----------------------L-----P--ENNVL---S----PLP-----S-Q------AMD-----DL---------M---------L-SPD-----DIE----------------Q---------WF-----...DSD')\n",
            "  Score=61\n",
            "\n",
            "MEEPQSDPSVEP----PLSQETFSDLWKLL--------PE-------N-NVLS--------PL--------PSQAMDDL-----MLSPDDIEQWFTE---DPG---------------PDEA--------PR-----MPEAAPPVAPAPAAPTPAAPAPAPSWPLSSSVPSQKTYQGSYGF--RLG--------FLHSGTAKSVT----CTYSP---------------------------AL--NKM-----FCQL----AKT----------CPVQLWVDSTPPPGTRVR------AM---------------------------------AIYKQ--------------------------------------------------------SQH----MTEVVRRCPHHERCSDSDGLAPPQHLIRVEGNLRVEYLD-DRNTFRH-SVVVPYEPPEVG-SDCT--TIHYNYMCNS-SCMGGMNRRPILTIITLEDSSGNL--LGRNSFEVRVCACPGRDRRTEEENLRKKGEPHHE---LPPGSTKRA-LPNNTSSSPQPKKKPL--DGEYFT-LQIRGRERFEMFRELNEALELK--DAQAGK--EPGGSRAHSSHLKSKKGQSTSRHKKLM-FKTEGP---DSD--\n",
            "   .  | .       |                     |        | |           |         |            |               |                 |           |      |                     |                       |          |              |                               |   |       |       |           ||                  |    |                                  |                                                            |      | |        |          ||                |       |  |  |||    |     |          |                 |    |  |                       |     |  |   |   |     ||     | |        |      |         |         |   |       |                |          |        |||  \n",
            "---I--D-:--- sp|P-------------04637.4|P-53_HUMAN\n",
            "N---ame: sp|P-04637.4|P-------53_HUM------------AN\n",
            "D--escription: sp|P---04637.4|P-53_HUM---------------------A---------------------N R--ecName: F----------ull=C----ellular tumor antigen p53; A-ltN--ame: F---ull=A--ntigen NY-C-----------------O-13; A-ltName: Full=Phosphoprotein p53; A----ltName: Full=Tumor suppressor p53\n",
            "Number of features: 0\n",
            "S--eq('M-E--------E----------PQ---------------SD------PS--V--EPP---LS---QET---------FS-----------------D----LWKL-----------------------L-----P--ENNVL---S----PLP-----S-Q------AMD-----DL---------M---------L-SPD-----DIE----------------Q---------WF-----...DSD')\n",
            "  Score=61\n",
            "\n",
            "MEEPQSDPSVEP----PLSQETFSDLWKLL--------PE-------N-NVLS--------PL--------PSQAMDDL-----MLSPDDIEQWFTE---DPG---------------PDEA--------PR-----MPEAAPPVAPAPAAPTPAAPAPAPSWPLSSSVPSQKTYQGSYGF--RLG--------FLHSGTAKSVT----CTYSP---------------------------AL--NKM-----FCQL----AKT----------CPVQLWVDSTPPPGTRVR------AM---------------------------------AIYKQ--------------------------------------------------------SQH----MTEVVRRCPHHERCSDSDGLAPPQHLIRVEGNLRVEYLD-DRNTFRH-SVVVPYEPPEVG-SDCT--TIHYNYMCNS-SCMGGMNRRPILTIITLEDSSGNL--LGRNSFEVRVCACPGRDRRTEEENLRKKGEPHHE---LPPGSTKRA-LPNNTSSSPQPKKKPL--DGEYFT-LQIRGRERFEMFRELNEALELK--DAQAGK--EPGGSRAHSSHLKSKKGQSTSRHKKLM-FKTEGP---DSD--\n",
            "  .   | .       |                     |        | |           |         |            |               |                 |           |      |                     |                       |          |              |                               |   |       |       |           ||                  |    |                                  |                                                            |      | |        |          ||                |       |  |  |||    |     |          |                 |    |  |                       |     |  |   |   |     ||     | |        |      |         |         |   |       |                |          |        |||  \n",
            "--I---D-:--- sp|P-------------04637.4|P-53_HUMAN\n",
            "N---ame: sp|P-04637.4|P-------53_HUM------------AN\n",
            "D--escription: sp|P---04637.4|P-53_HUM---------------------A---------------------N R--ecName: F----------ull=C----ellular tumor antigen p53; A-ltN--ame: F---ull=A--ntigen NY-C-----------------O-13; A-ltName: Full=Phosphoprotein p53; A----ltName: Full=Tumor suppressor p53\n",
            "Number of features: 0\n",
            "S--eq('M-E--------E----------PQ---------------SD------PS--V--EPP---LS---QET---------FS-----------------D----LWKL-----------------------L-----P--ENNVL---S----PLP-----S-Q------AMD-----DL---------M---------L-SPD-----DIE----------------Q---------WF-----...DSD')\n",
            "  Score=61\n",
            "\n",
            "MEEPQSDPSVEP----PLSQETFSDLWKLL--------PE-------N-NVLS--------PL--------PSQAMDDL-----MLSPDDIEQWFTE---DPG---------------PDEA--------PR-----MPEAAPPVAPAPAAPTPAAPAPAPSWPLSSSVPSQKTYQGSYGF--RLG--------FLHSGTAKSVT----CTYSP---------------------------AL--NKM-----FCQL----AKT----------CPVQLWVDSTPPPGTRVR------AM---------------------------------AIYKQ--------------------------------------------------------SQH----MTEVVRRCPHHERCSDSDGLAPPQHLIRVEGNLRVEYLD-DRNTFRH-SVVVPYEPPEVG-SDCT--TIHYNYMCNS-SCMGGMNRRPILTIITLEDSSGNL--LGRNSFEVRVCACPGRDRRTEEENLRKKGEPHHE---LPPGSTKRA-LPNNTSSSPQPKKKPL--DGEYFT-LQIRGRERFEMFRELNEALELK--DAQAGK--EPGGSRAHSSHLKSKKGQSTSRHKKLM-FKTEGP---DSD--\n",
            " .    | .       |                     |        | |           |         |            |               |                 |           |      |                     |                       |          |              |                               |   |       |       |           ||                  |    |                                  |                                                            |      | |        |          ||                |       |  |  |||    |     |          |                 |    |  |                       |     |  |   |   |     ||     | |        |      |         |         |   |       |                |          |        |||  \n",
            "-I----D-:--- sp|P-------------04637.4|P-53_HUMAN\n",
            "N---ame: sp|P-04637.4|P-------53_HUM------------AN\n",
            "D--escription: sp|P---04637.4|P-53_HUM---------------------A---------------------N R--ecName: F----------ull=C----ellular tumor antigen p53; A-ltN--ame: F---ull=A--ntigen NY-C-----------------O-13; A-ltName: Full=Phosphoprotein p53; A----ltName: Full=Tumor suppressor p53\n",
            "Number of features: 0\n",
            "S--eq('M-E--------E----------PQ---------------SD------PS--V--EPP---LS---QET---------FS-----------------D----LWKL-----------------------L-----P--ENNVL---S----PLP-----S-Q------AMD-----DL---------M---------L-SPD-----DIE----------------Q---------WF-----...DSD')\n",
            "  Score=61\n",
            "\n",
            "MEEPQSDPSVEP----PLSQETFSDLWKLL--------PE-------N-NVLS--------PL--------PSQAMDDL-----MLSPDDIEQWFTE---DPG---------------PDEA--------PR-----MPEAAPPVAPAPAAPTPAAPAPAPSWPLSSSVPSQKTYQGSYGF--RLG--------FLHSGTAKSVT----CTYSP---------------------------AL--NKM-----FCQL----AKT----------CPVQLWVDSTPPPGTRVR------AM---------------------------------AIYKQ--------------------------------------------------------SQH----MTEVVRRCPHHERCSDSDGLAPPQHLIRVEGNLRVEYLD-DRNTFRH-SVVVPYEPPEVG-SDCT--TIHYNYMCNS-SCMGGMNRRPILTIITLEDSSGNL--LGRNSFEVRVCACPGRDRRTEEENLRKKGEPHHE---LPPGSTKRA-LPNNTSSSPQPKKKPL--DGEYFT-LQIRGRERFEMFRELNEALELK--DAQAGK--EPGGSRAHSSHLKSKKGQSTSRHKKLM-FKTEGP---DSD--\n",
            ".     | .       |                     |        | |           |         |            |               |                 |           |      |                     |                       |          |              |                               |   |       |       |           ||                  |    |                                  |                                                            |      | |        |          ||                |       |  |  |||    |     |          |                 |    |  |                       |     |  |   |   |     ||     | |        |      |         |         |   |       |                |          |        |||  \n",
            "I-----D-:--- sp|P-------------04637.4|P-53_HUMAN\n",
            "N---ame: sp|P-04637.4|P-------53_HUM------------AN\n",
            "D--escription: sp|P---04637.4|P-53_HUM---------------------A---------------------N R--ecName: F----------ull=C----ellular tumor antigen p53; A-ltN--ame: F---ull=A--ntigen NY-C-----------------O-13; A-ltName: Full=Phosphoprotein p53; A----ltName: Full=Tumor suppressor p53\n",
            "Number of features: 0\n",
            "S--eq('M-E--------E----------PQ---------------SD------PS--V--EPP---LS---QET---------FS-----------------D----LWKL-----------------------L-----P--ENNVL---S----PLP-----S-Q------AMD-----DL---------M---------L-SPD-----DIE----------------Q---------WF-----...DSD')\n",
            "  Score=61\n",
            "\n"
          ],
          "name": "stdout"
        }
      ]
    },
    {
      "cell_type": "code",
      "metadata": {
        "id": "xfFB9UCXfSft"
      },
      "source": [
        "alignments2 = pairwise2.align.globalxx(cancer_seq,cancer_protein,one_alignment_only=True,score_only=True)"
      ],
      "execution_count": 47,
      "outputs": []
    },
    {
      "cell_type": "code",
      "metadata": {
        "colab": {
          "base_uri": "https://localhost:8080/",
          "height": 0
        },
        "id": "08ZsDq6KfdD2",
        "outputId": "bee15e16-2078-4253-950f-5b39ac0b5a4b"
      },
      "source": [
        "alignments2\r\n",
        "#El escore de una proteína refleja su contenido en aminoácidos (AA) en comparación con la proteína ideal.\r\n",
        "# Sin embargo, cuando se necesita conocer la utilización de los AA en el organismo es necesario realizar \r\n",
        "#la corrección del valor de escore según la digestibilidad proteica (PDCAAS).\r\n",
        "#en este caso el score es de 61"
      ],
      "execution_count": 49,
      "outputs": [
        {
          "output_type": "execute_result",
          "data": {
            "text/plain": [
              "61.0"
            ]
          },
          "metadata": {
            "tags": []
          },
          "execution_count": 49
        }
      ]
    },
    {
      "cell_type": "code",
      "metadata": {
        "colab": {
          "base_uri": "https://localhost:8080/",
          "height": 0
        },
        "id": "LY9s-qiIgLwD",
        "outputId": "b5f9a368-9e80-4970-f788-e23a2b3a8929"
      },
      "source": [
        "alignments2/len(cancer_seq)*100\r\n",
        "#porcentaje de similitud fracción de nucleótidos del cancer"
      ],
      "execution_count": 53,
      "outputs": [
        {
          "output_type": "execute_result",
          "data": {
            "text/plain": [
              "15.521628498727736"
            ]
          },
          "metadata": {
            "tags": []
          },
          "execution_count": 53
        }
      ]
    },
    {
      "cell_type": "code",
      "metadata": {
        "id": "G3taxnBPg1dy"
      },
      "source": [
        "def delta(x,y):\r\n",
        "    return 0 if x == y else 1\r\n",
        "\r\n",
        "\r\n",
        "def M(cancer_seq,cancer_protein,i,j,k):\r\n",
        "    return sum(delta(x,y) for x,y in zip(cancer_seq[i:i+k],seq2[j:j+k]))\r\n",
        "\r\n",
        "\r\n",
        "def makeMatrix(cancer_seq,cancer_protein,k):\r\n",
        "    n = len(cancer_seq)\r\n",
        "    m = len(cancer_protein)\r\n",
        "    return [[M(cancer_seq,cancer_protein,i,j,k) for j in range(m-k+1)] for i in range(n-k+1)]\r\n",
        "\r\n",
        "\r\n",
        "def plotMatrix(M,t, cancer_seq, cancer_protein, nonblank = chr(0x25A0), blank = ' '):\r\n",
        "    print(' |' + cancer_protein)\r\n",
        "    print('-'*(2 + len(cancer_protein)))\r\n",
        "    for label,row in zip(cancer_seq,M):\r\n",
        "        line = ''.join(nonblank if s < t else blank for s in row)\r\n",
        "        print(label + '|' + line)\r\n",
        "\r\n",
        "\r\n",
        "def dotplot(cancer_seq,cancer_protein,k=1,t=1):\r\n",
        "    M = makeMatrix(cancer_seq,cancer_protein,k)\r\n",
        "    plotMatrix(M, t, cancer_seq,cancer_protein) #experiment with character choice"
      ],
      "execution_count": 64,
      "outputs": []
    },
    {
      "cell_type": "code",
      "metadata": {
        "colab": {
          "base_uri": "https://localhost:8080/",
          "height": 0
        },
        "id": "k2l07BgYg9Wo",
        "outputId": "e5a2ef48-aecd-446f-d95b-04163bb43c3b"
      },
      "source": [
        "print(dotplot)"
      ],
      "execution_count": 66,
      "outputs": [
        {
          "output_type": "stream",
          "text": [
            "<function dotplot at 0x7f1ccf3f3830>\n"
          ],
          "name": "stdout"
        }
      ]
    }
  ]
}