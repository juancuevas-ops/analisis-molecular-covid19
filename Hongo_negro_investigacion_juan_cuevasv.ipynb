{
  "nbformat": 4,
  "nbformat_minor": 0,
  "metadata": {
    "colab": {
      "name": "Hongo_negro_investigacion_juan_cuevasv.ipynb",
      "provenance": [],
      "authorship_tag": "ABX9TyODJDGDdm4/3H0M9ZTRDnjY",
      "include_colab_link": true
    },
    "kernelspec": {
      "name": "python3",
      "display_name": "Python 3"
    },
    "language_info": {
      "name": "python"
    }
  },
  "cells": [
    {
      "cell_type": "markdown",
      "metadata": {
        "id": "view-in-github",
        "colab_type": "text"
      },
      "source": [
        "<a href=\"https://colab.research.google.com/github/juancuevas-ops/analisis-molecular-covid19/blob/main/Hongo_negro_investigacion_juan_cuevasv.ipynb\" target=\"_parent\"><img src=\"https://colab.research.google.com/assets/colab-badge.svg\" alt=\"Open In Colab\"/></a>"
      ]
    },
    {
      "cell_type": "code",
      "metadata": {
        "colab": {
          "base_uri": "https://localhost:8080/"
        },
        "id": "p_HWfYd0FfQ-",
        "outputId": "9fc1ed33-6190-4ab5-f620-8cc23218d65c"
      },
      "source": [
        "!pip install Bio"
      ],
      "execution_count": 1,
      "outputs": [
        {
          "output_type": "stream",
          "text": [
            "Collecting Bio\n",
            "\u001b[?25l  Downloading https://files.pythonhosted.org/packages/43/f1/34f9d2f010be943b1884005ed0ef344f571876d0eb0a55cb4f00e39d2f0f/bio-0.5.0-py3-none-any.whl (94kB)\n",
            "\u001b[K     |████████████████████████████████| 102kB 4.4MB/s \n",
            "\u001b[?25hRequirement already satisfied: plac in /usr/local/lib/python3.7/dist-packages (from Bio) (1.1.3)\n",
            "Requirement already satisfied: numpy<1.20 in /usr/local/lib/python3.7/dist-packages (from Bio) (1.19.5)\n",
            "Requirement already satisfied: requests in /usr/local/lib/python3.7/dist-packages (from Bio) (2.23.0)\n",
            "Collecting biopython>=1.78\n",
            "\u001b[?25l  Downloading https://files.pythonhosted.org/packages/5a/42/de1ed545df624180b84c613e5e4de4848f72989ce5846a74af6baa0737b9/biopython-1.79-cp37-cp37m-manylinux_2_5_x86_64.manylinux1_x86_64.whl (2.3MB)\n",
            "\u001b[K     |████████████████████████████████| 2.3MB 8.4MB/s \n",
            "\u001b[?25hRequirement already satisfied: chardet<4,>=3.0.2 in /usr/local/lib/python3.7/dist-packages (from requests->Bio) (3.0.4)\n",
            "Requirement already satisfied: idna<3,>=2.5 in /usr/local/lib/python3.7/dist-packages (from requests->Bio) (2.10)\n",
            "Requirement already satisfied: certifi>=2017.4.17 in /usr/local/lib/python3.7/dist-packages (from requests->Bio) (2020.12.5)\n",
            "Requirement already satisfied: urllib3!=1.25.0,!=1.25.1,<1.26,>=1.21.1 in /usr/local/lib/python3.7/dist-packages (from requests->Bio) (1.24.3)\n",
            "Installing collected packages: biopython, Bio\n",
            "Successfully installed Bio-0.5.0 biopython-1.79\n"
          ],
          "name": "stdout"
        }
      ]
    },
    {
      "cell_type": "code",
      "metadata": {
        "id": "tMFtIOqVFp6u"
      },
      "source": [
        "from Bio import SeqIO\n",
        "hongo_negro = SeqIO.read(\"/content/mucor_circinelloides.fasta\",\"fasta\")"
      ],
      "execution_count": 6,
      "outputs": []
    },
    {
      "cell_type": "code",
      "metadata": {
        "colab": {
          "base_uri": "https://localhost:8080/"
        },
        "id": "VwH-U2MCRUy1",
        "outputId": "49a3bac1-70fc-4fb7-fce0-3c930fb66634"
      },
      "source": [
        "from Bio import SeqIO\n",
        "covid = SeqIO.read(\"/content/sequencewa.fasta\",\"fasta\")\n",
        "covid"
      ],
      "execution_count": 40,
      "outputs": [
        {
          "output_type": "execute_result",
          "data": {
            "text/plain": [
              "SeqRecord(seq=Seq('AACCTTTAAACTTTCGATCTCTTGTAGATCTGTTCTCTAAACGAACTTTAAAAT...AAA'), id='MT293201.1', name='MT293201.1', description='MT293201.1 Severe acute respiratory syndrome coronavirus 2 isolate SARS-CoV-2/human/USA/WA-UW-1611/2020, complete genome', dbxrefs=[])"
            ]
          },
          "metadata": {
            "tags": []
          },
          "execution_count": 40
        }
      ]
    },
    {
      "cell_type": "code",
      "metadata": {
        "colab": {
          "base_uri": "https://localhost:8080/"
        },
        "id": "y-nzuZ9bRqCr",
        "outputId": "98846350-da71-44a9-d0da-e66fcb2bd968"
      },
      "source": [
        "hongo_adn = hongo_negro.seq\n",
        "print( hongo_adn[:21])\n"
      ],
      "execution_count": 91,
      "outputs": [
        {
          "output_type": "stream",
          "text": [
            "GGCGATATTGAGCTTATGGTT\n"
          ],
          "name": "stdout"
        }
      ]
    },
    {
      "cell_type": "code",
      "metadata": {
        "colab": {
          "base_uri": "https://localhost:8080/"
        },
        "id": "CkNMM1zPGdSt",
        "outputId": "aeafa11e-5372-4767-8bd7-7e44db866cdd"
      },
      "source": [
        "hongo_negro"
      ],
      "execution_count": 7,
      "outputs": [
        {
          "output_type": "execute_result",
          "data": {
            "text/plain": [
              "SeqRecord(seq=Seq('GGCGATATTGAGCTTATGGTTGTGCATAAAAGATTGAGGATTAGTATCATAAAT...AGT'), id='KE123896.1', name='KE123896.1', description='KE123896.1 Mucor circinelloides f. circinelloides 1006PhL unplaced genomic scaffold supercont1.1, whole genome shotgun sequence', dbxrefs=[])"
            ]
          },
          "metadata": {
            "tags": []
          },
          "execution_count": 7
        }
      ]
    },
    {
      "cell_type": "code",
      "metadata": {
        "colab": {
          "base_uri": "https://localhost:8080/",
          "height": 185
        },
        "id": "rWL1Uu_FG7C5",
        "outputId": "226e966c-7d5f-4838-8948-d2bc9907aa40"
      },
      "source": [
        "from PIL import Image\n",
        "img=Image.open(\"/content/imagen_hongo.jpg\")\n",
        "img\n"
      ],
      "execution_count": 8,
      "outputs": [
        {
          "output_type": "execute_result",
          "data": {
            "image/png": "[encoded data removed]",
            "text/plain": [
              "<PIL.JpegImagePlugin.JpegImageFile image mode=RGB size=300x168 at 0x7F922A8CFA50>"
            ]
          },
          "metadata": {
            "tags": []
          },
          "execution_count": 8
        }
      ]
    },
    {
      "cell_type": "code",
      "metadata": {
        "colab": {
          "base_uri": "https://localhost:8080/"
        },
        "id": "vTvsimLBIcCe",
        "outputId": "55393744-3f56-485e-da83-c2ffe98ce78e"
      },
      "source": [
        "hongo_adn = hongo_negro.seq\n",
        "print( hongo_adn[:21])\n"
      ],
      "execution_count": 92,
      "outputs": [
        {
          "output_type": "stream",
          "text": [
            "GGCGATATTGAGCTTATGGTT\n"
          ],
          "name": "stdout"
        }
      ]
    },
    {
      "cell_type": "markdown",
      "metadata": {
        "id": "t6bZHt3-NN9F"
      },
      "source": [
        "temperatura de hibridación con el ADN molde del 37%"
      ]
    },
    {
      "cell_type": "code",
      "metadata": {
        "colab": {
          "base_uri": "https://localhost:8080/"
        },
        "id": "PrH0YONIM4zn",
        "outputId": "fe49a791-1fcd-4415-915a-4bed8632da61"
      },
      "source": [
        "from Bio.SeqUtils import GC\n",
        "GC(hongo_adn)"
      ],
      "execution_count": 93,
      "outputs": [
        {
          "output_type": "execute_result",
          "data": {
            "text/plain": [
              "37.053100315985496"
            ]
          },
          "metadata": {
            "tags": []
          },
          "execution_count": 93
        }
      ]
    },
    {
      "cell_type": "code",
      "metadata": {
        "colab": {
          "base_uri": "https://localhost:8080/"
        },
        "id": "5_35k_C7IFjH",
        "outputId": "59bd3958-6ba8-4d52-bf7f-3551e43502db"
      },
      "source": [
        "hongo_trancripcion = hongo_adn.transcibe()\n",
        "hongo_trancripcion"
      ],
      "execution_count": 79,
      "outputs": [
        {
          "output_type": "execute_result",
          "data": {
            "text/plain": [
              "Seq('GGCGAUAUUGAGCUUAUGGUUGUGCAUAAAAGAUUGAGGAUUAGUAUCAUAAAU...AGU')"
            ]
          },
          "metadata": {
            "tags": []
          },
          "execution_count": 79
        }
      ]
    },
    {
      "cell_type": "code",
      "metadata": {
        "colab": {
          "base_uri": "https://localhost:8080/"
        },
        "id": "KMAD2QrmKiMT",
        "outputId": "5d82543b-aaaa-4e4a-a62d-a833481af9cc"
      },
      "source": [
        "from Bio import Seq\n",
        "hongo_traduccion = hongo_trancripcion.translate()\n",
        "hongo_traduccion"
      ],
      "execution_count": 22,
      "outputs": [
        {
          "output_type": "stream",
          "text": [
            "/usr/local/lib/python3.7/dist-packages/Bio/Seq.py:2983: BiopythonWarning: Partial codon, len(sequence) not a multiple of three. Explicitly trim the sequence or add trailing N before translation. This may become an error in future.\n",
            "  BiopythonWarning,\n"
          ],
          "name": "stderr"
        },
        {
          "output_type": "execute_result",
          "data": {
            "text/plain": [
              "Seq('GDIELMVVHKRLRISIINWHIIGIGGLCNGRNTH*TKGAETPSAGLVEFKEAAG...IKI')"
            ]
          },
          "metadata": {
            "tags": []
          },
          "execution_count": 22
        }
      ]
    },
    {
      "cell_type": "code",
      "metadata": {
        "colab": {
          "base_uri": "https://localhost:8080/"
        },
        "id": "M31TtCn-Obez",
        "outputId": "67119144-580c-44a1-e832-02a995dc725e"
      },
      "source": [
        "hongo_analysed = ProteinAnalysis(str(hongo_traduccion))\n",
        "hongo_analysed.count_amino_acids()"
      ],
      "execution_count": 29,
      "outputs": [
        {
          "output_type": "execute_result",
          "data": {
            "text/plain": [
              "{'A': 9509,\n",
              " 'C': 7627,\n",
              " 'D': 6217,\n",
              " 'E': 6851,\n",
              " 'F': 10736,\n",
              " 'G': 7419,\n",
              " 'H': 6908,\n",
              " 'I': 13944,\n",
              " 'K': 11396,\n",
              " 'L': 21311,\n",
              " 'M': 4415,\n",
              " 'N': 8825,\n",
              " 'P': 7419,\n",
              " 'Q': 8530,\n",
              " 'R': 12028,\n",
              " 'S': 19093,\n",
              " 'T': 11288,\n",
              " 'V': 11057,\n",
              " 'W': 3062,\n",
              " 'Y': 7580}"
            ]
          },
          "metadata": {
            "tags": []
          },
          "execution_count": 29
        }
      ]
    },
    {
      "cell_type": "markdown",
      "metadata": {
        "id": "xCeOcRQ3gUnk"
      },
      "source": [
        "La enolasa tiene un peso molecular de 82.000 hasta 100.000 Daltons aproximadamente, dependiendo de la isoforma de la enzima. Está formada por dos subunidades orientadas de forma anti paralela, de manera que el aminoácido Glu20  representado en la lista con una letra \"Q\" de una subunidad forma un enlace iónico con Arg414 REPRESENTADO CON LA LETRA \"R\" de la otra subunidad.EN LA LISTA DE AMINOACIDOS MOSTRADA ARRIBA."
      ]
    },
    {
      "cell_type": "code",
      "metadata": {
        "colab": {
          "base_uri": "https://localhost:8080/"
        },
        "id": "jtYEVSjPhnGq",
        "outputId": "57625ce3-b1bf-4b2b-e98c-fd4e1ca2b085"
      },
      "source": [
        "proteinas = hongo_traduccion.split(\"*\")\n",
        "proteinas[:4]"
      ],
      "execution_count": 107,
      "outputs": [
        {
          "output_type": "execute_result",
          "data": {
            "text/plain": [
              "[Seq('GDIELMVVHKRLRISIINWHIIGIGGLCNGRNTH'),\n",
              " Seq('TKGAETPSAGLVEFKEAAGGIVGFWESVSSILTSSLAKGGSDL'),\n",
              " Seq('AFSG'),\n",
              " Seq('TH')]"
            ]
          },
          "metadata": {
            "tags": []
          },
          "execution_count": 107
        }
      ]
    },
    {
      "cell_type": "markdown",
      "metadata": {
        "id": "cY56RDPpka9e"
      },
      "source": [
        "La tirosina hidroxilasa o tirosina 3-monooxigenasa (EC 1.14.16.2) es la enzima responsable de catalizar la conversión del aminoácido L-tirosina a dihidroxifenilalanina (DOPA). La DOPA es el precursor de la dopamina, que a su vez es también el precursor de la noradrenalina y la adrenalina. En humanos, la tirosina hidroxilasa es codificada por el gen TH.1​"
      ]
    },
    {
      "cell_type": "markdown",
      "metadata": {
        "id": "mqjO9JH0lIxj"
      },
      "source": [
        "dopamina\n",
        "Cómo se pronuncia\n",
        "nombre femenino\n",
        "BIOLOGÍA\n",
        "Neurotransmisor que está presente en diversas áreas del cerebro y que es especialmente importante para la función motora del organismo."
      ]
    },
    {
      "cell_type": "markdown",
      "metadata": {
        "id": "gtYgMqfxgMEH"
      },
      "source": [
        ""
      ]
    },
    {
      "cell_type": "code",
      "metadata": {
        "colab": {
          "base_uri": "https://localhost:8080/"
        },
        "id": "vL-7XwhpO5fJ",
        "outputId": "08b971cb-04d5-4553-f789-4f60fac3b9ce"
      },
      "source": [
        "\n",
        "from collections import Counter\n",
        "Counter(hongo_traduccion).most_common(10)"
      ],
      "execution_count": 32,
      "outputs": [
        {
          "output_type": "execute_result",
          "data": {
            "text/plain": [
              "[('L', 21311),\n",
              " ('S', 19093),\n",
              " ('X', 15607),\n",
              " ('I', 13944),\n",
              " ('R', 12028),\n",
              " ('K', 11396),\n",
              " ('T', 11288),\n",
              " ('V', 11057),\n",
              " ('F', 10736),\n",
              " ('*', 10601)]"
            ]
          },
          "metadata": {
            "tags": []
          },
          "execution_count": 32
        }
      ]
    },
    {
      "cell_type": "code",
      "metadata": {
        "colab": {
          "base_uri": "https://localhost:8080/"
        },
        "id": "nRmRoRP0Nls8",
        "outputId": "4242361e-4118-49c1-ca84-6de7c24bf5aa"
      },
      "source": [
        "from Bio.SeqUtils.ProtParam import ProteinAnalysis\n",
        "print(\"cantidad_proteinas_hongo ::\",len(hongo_traduccion))"
      ],
      "execution_count": 27,
      "outputs": [
        {
          "output_type": "stream",
          "text": [
            "cantidad_proteinas_hongo :: 221423\n"
          ],
          "name": "stdout"
        }
      ]
    },
    {
      "cell_type": "code",
      "metadata": {
        "id": "AHJ_h8VVR7s0"
      },
      "source": [
        "from Bio import pairwise2\n",
        "from Bio.pairwise2 import format_alignment"
      ],
      "execution_count": 80,
      "outputs": []
    },
    {
      "cell_type": "code",
      "metadata": {
        "colab": {
          "base_uri": "https://localhost:8080/"
        },
        "id": "ldGJaFAmSVn6",
        "outputId": "42e9b8a1-1135-452c-9e73-a25490725e95"
      },
      "source": [
        "covid_adn = covid.seq\n",
        "print( covid_adn[:21])"
      ],
      "execution_count": 94,
      "outputs": [
        {
          "output_type": "stream",
          "text": [
            "AACCTTTAAACTTTCGATCTC\n"
          ],
          "name": "stdout"
        }
      ]
    },
    {
      "cell_type": "code",
      "metadata": {
        "colab": {
          "base_uri": "https://localhost:8080/"
        },
        "id": "vkSLaYhmSFrB",
        "outputId": "933320ed-5add-4baa-ac43-d59a1a39a0cf"
      },
      "source": [
        "from Bio.SeqUtils import GC\n",
        "GC(covid_adn)"
      ],
      "execution_count": 95,
      "outputs": [
        {
          "output_type": "execute_result",
          "data": {
            "text/plain": [
              "37.99169067881793"
            ]
          },
          "metadata": {
            "tags": []
          },
          "execution_count": 95
        }
      ]
    },
    {
      "cell_type": "markdown",
      "metadata": {
        "id": "Kk-0vlnuS6UI"
      },
      "source": [
        "EXISTE UNA SIMILITUD MUY ESTRECHA ENTRE EL HONGO NEGRO Y EL ADN DEL SARSCORV2 temperatura de hibridación con el ADN molde del 37%. AMBOS SON DE UN 37 %"
      ]
    },
    {
      "cell_type": "code",
      "metadata": {
        "colab": {
          "base_uri": "https://localhost:8080/"
        },
        "id": "f-sDEKeES1OO",
        "outputId": "2184e607-e5db-4f15-a9d4-cca5d8f3a84d"
      },
      "source": [
        "from Bio.SeqUtils import GC\n",
        "GC(hongo_adn)"
      ],
      "execution_count": 96,
      "outputs": [
        {
          "output_type": "execute_result",
          "data": {
            "text/plain": [
              "37.053100315985496"
            ]
          },
          "metadata": {
            "tags": []
          },
          "execution_count": 96
        }
      ]
    },
    {
      "cell_type": "code",
      "metadata": {
        "id": "_fowGRLQTlFQ"
      },
      "source": [
        "from Bio import pairwise2\n",
        "from Bio.pairwise2 import format_alignment"
      ],
      "execution_count": 97,
      "outputs": []
    },
    {
      "cell_type": "code",
      "metadata": {
        "id": "OlR6p_4bWnay"
      },
      "source": [
        "seq1 = (\"GGCGATATTGAGCTTATGGTT\")\n",
        "seq2 = (\"AACCTTTAAACTTTCGATCTC\")"
      ],
      "execution_count": 99,
      "outputs": []
    },
    {
      "cell_type": "code",
      "metadata": {
        "id": "lL-qzpGbTnTe"
      },
      "source": [
        "alignments2 = pairwise2.align.globalxx(seq1,seq2,one_alignment_only=True,score_only=True)"
      ],
      "execution_count": 100,
      "outputs": []
    },
    {
      "cell_type": "code",
      "metadata": {
        "colab": {
          "base_uri": "https://localhost:8080/"
        },
        "id": "tOaGw4fWXKgK",
        "outputId": "0c91bc9f-6b4e-46fb-9b59-a03e2e6b03a5"
      },
      "source": [
        "alignments2"
      ],
      "execution_count": 101,
      "outputs": [
        {
          "output_type": "execute_result",
          "data": {
            "text/plain": [
              "12.0"
            ]
          },
          "metadata": {
            "tags": []
          },
          "execution_count": 101
        }
      ]
    },
    {
      "cell_type": "code",
      "metadata": {
        "colab": {
          "base_uri": "https://localhost:8080/"
        },
        "id": "ItW-MoecXMvv",
        "outputId": "71555eae-d4e7-4ec4-c4fa-7bf57fd87b54"
      },
      "source": [
        "alignments2/len(seq1)*100"
      ],
      "execution_count": 102,
      "outputs": [
        {
          "output_type": "execute_result",
          "data": {
            "text/plain": [
              "57.14285714285714"
            ]
          },
          "metadata": {
            "tags": []
          },
          "execution_count": 102
        }
      ]
    },
    {
      "cell_type": "markdown",
      "metadata": {
        "id": "U3e0NQX1b5yW"
      },
      "source": [
        "# EL RESULTADO DEL ANALISIS ARROJA UN 57.14% DE SIMILITUD ENTRE MUCOR_CIRCINELOIDES Y SARSCORV2.EN TERMINOS GENETICOS.\n"
      ]
    },
    {
      "cell_type": "code",
      "metadata": {
        "id": "uj4GkLBjZ6vc"
      },
      "source": [
        "def hamming_distance(lhs,rhs):\n",
        "    return len([(x,y) for x,y in zip(lhs,rhs) if x != y])"
      ],
      "execution_count": 103,
      "outputs": []
    },
    {
      "cell_type": "markdown",
      "metadata": {
        "id": "mVWhtc4EcmLo"
      },
      "source": [
        "# Distancia de Hamming: muestra en cuántos lugares difieren 2 cuerdas La distancia de Hamming entre dos cadenas de igual longitud es el número de posiciones en las que los símbolos correspondientes son diferentes. En otras palabras, mide el número mínimo de sustituciones necesarias para cambiar una cadena por otra, o la cantidad mínima de errores que podrían haber transformado una cadena en otra. Se utiliza para la detección o corrección de errores. Se utiliza para cuantificar la similitud de secuencias de ADN, Para comprobar la distancia de edición La distancia de edición es una forma de cuantificar qué tan diferentes son dos cadenas (por ejemplo, palabras) entre sí contando el número mínimo de operaciones necesarias para transformar una cadena en la otra. por ejemplo, distancia de Levenshtein"
      ]
    },
    {
      "cell_type": "code",
      "metadata": {
        "id": "WPYmXKT8Z8eg"
      },
      "source": [
        "def delta(x,y):\n",
        "    return 0 if x == y else 1\n",
        "\n",
        "\n",
        "def M(seq1,seq2,i,,k):\n",
        "    return sum(delta(x,y) for x,y in zip(seq1[i:i+k],seq2[j:j+k]))\n",
        "\n",
        "\n",
        "def makeMatrix(seq1,seq2,k):\n",
        "    n = len(seq1)\n",
        "    m = len(seq2)\n",
        "    return [[M(seq1,seq2,i,j,k) for j in range(m-k+1)] for i in range(n-k+1)]\n",
        "\n",
        "\n",
        "def plotMatrix(M,t, seq1, seq2, nonblank = chr(0x25A0), blank = ' '):\n",
        "    print(' |' + seq2)\n",
        "    print('-'*(2 + len(seq2)))\n",
        "    for label,row in zip(seq1,M):\n",
        "        line = ''.join(nonblank if s < t else blank for s in row)\n",
        "        print(label + '|' + line)\n",
        "\n",
        "\n",
        "def dotplot(seq1,seq2,k = 1,t = 1):\n",
        "    M = makeMatrix(seq1,seq2,k)\n",
        "    plotMatrix(M, t, seq1,seq2)"
      ],
      "execution_count": 104,
      "outputs": []
    },
    {
      "cell_type": "markdown",
      "metadata": {
        "id": "4hHm97EaaPKR"
      },
      "source": [
        "# EN LA SIMILITUD DEL GRAFICO,MUESTRA QUE LOS PUNTOS MAS CERCANOS ES DECIR JUNTOS REPRESENTAN LOS COMPONENTES DE MAYOR SIMILITUD."
      ]
    },
    {
      "cell_type": "code",
      "metadata": {
        "colab": {
          "base_uri": "https://localhost:8080/"
        },
        "id": "SE8U3hAmaHR4",
        "outputId": "6dfb556d-b3ad-4186-d169-418ee2f6785e"
      },
      "source": [
        "dotplot(seq1,seq2)"
      ],
      "execution_count": 105,
      "outputs": [
        {
          "output_type": "stream",
          "text": [
            " |AACCTTTAAACTTTCGATCTC\n",
            "-----------------------\n",
            "G|               ■     \n",
            "G|               ■     \n",
            "C|  ■■      ■   ■   ■ ■\n",
            "G|               ■     \n",
            "A|■■     ■■■      ■    \n",
            "T|    ■■■    ■■■   ■ ■ \n",
            "A|■■     ■■■      ■    \n",
            "T|    ■■■    ■■■   ■ ■ \n",
            "T|    ■■■    ■■■   ■ ■ \n",
            "G|               ■     \n",
            "A|■■     ■■■      ■    \n",
            "G|               ■     \n",
            "C|  ■■      ■   ■   ■ ■\n",
            "T|    ■■■    ■■■   ■ ■ \n",
            "T|    ■■■    ■■■   ■ ■ \n",
            "A|■■     ■■■      ■    \n",
            "T|    ■■■    ■■■   ■ ■ \n",
            "G|               ■     \n",
            "G|               ■     \n",
            "T|    ■■■    ■■■   ■ ■ \n",
            "T|    ■■■    ■■■   ■ ■ \n"
          ],
          "name": "stdout"
        }
      ]
    },
    {
      "cell_type": "markdown",
      "metadata": {
        "id": "Vbe8qsfcbvI5"
      },
      "source": [
        "# Este hongo tiene una alta incidencia entre pacientes enfermos y recuperados de covid-19. Al menos 19 regiones de la India ya han elevado en los últimos dos meses a categoría de epidemia el avance de esta enfermedad, que cuenta con más de 14.000 diagnósticos en ese país, y zonas del mundo como América ya reportan, aunque limitados, varios casos de infecciones"
      ]
    },
    {
      "cell_type": "markdown",
      "metadata": {
        "id": "v6eJCojkfWDY"
      },
      "source": [
        "La enolasa tiene un peso molecular de 82.000 hasta 100.000 Daltons aproximadamente, dependiendo de la isoforma de la enzima. Está formada por dos subunidades orientadas de forma anti paralela, de manera que el aminoácido Glu20 de una subunidad forma un enlace iónico con Arg414 de la otra subunidad."
      ]
    },
    {
      "cell_type": "markdown",
      "metadata": {
        "id": "lTBOc8ConrvE"
      },
      "source": [
        "TRABAJO CREADO POR EL CIENTIFICO DE DATOS JUAN CUEVAS VASQUEZ.ANALISIS DE BACTERIA MUCOR CIRCINELOIDES \"HONGO NEGRO\" EL CUAL ESTA AFECTANDO A MUCHAS PAISES Y YA ESTA EN LAINOAMERICA AFECTANDO AL PAIS DE URUGUAY.\n",
        "ADEMAS SE HA HECHO UN ANALISIS COMPARATIVO EN SUS BASES NITROGENADAS DE \"CGTA\" CON EL VIRUS SARSCORV2 ENCONTARNDO SIMILITUD DE UN 57%."
      ]
    }
  ]
}