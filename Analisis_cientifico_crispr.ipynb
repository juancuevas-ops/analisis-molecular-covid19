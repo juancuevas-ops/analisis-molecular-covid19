{
  "nbformat": 4,
  "nbformat_minor": 0,
  "metadata": {
    "colab": {
      "provenance": [],
      "include_colab_link": true
    },
    "kernelspec": {
      "name": "python3",
      "display_name": "Python 3"
    },
    "language_info": {
      "name": "python"
    }
  },
  "cells": [
    {
      "cell_type": "markdown",
      "metadata": {
        "id": "view-in-github",
        "colab_type": "text"
      },
      "source": [
        "<a href=\"https://colab.research.google.com/github/juancuevas-ops/analisis-molecular-covid19/blob/main/Analisis_cientifico_crispr.ipynb\" target=\"_parent\"><img src=\"https://colab.research.google.com/assets/colab-badge.svg\" alt=\"Open In Colab\"/></a>"
      ]
    },
    {
      "cell_type": "code",
      "execution_count": null,
      "metadata": {
        "colab": {
          "base_uri": "https://localhost:8080/"
        },
        "id": "SBZ4bIX57jZb",
        "outputId": "54d3ef4d-ba1e-45b4-bc8b-b490b28daf62"
      },
      "outputs": [
        {
          "output_type": "stream",
          "name": "stdout",
          "text": [
            "Requirement already satisfied: Bio in /usr/local/lib/python3.10/dist-packages (1.6.2)\n",
            "Requirement already satisfied: biopython>=1.80 in /usr/local/lib/python3.10/dist-packages (from Bio) (1.83)\n",
            "Requirement already satisfied: requests in /usr/local/lib/python3.10/dist-packages (from Bio) (2.31.0)\n",
            "Requirement already satisfied: tqdm in /usr/local/lib/python3.10/dist-packages (from Bio) (4.66.2)\n",
            "Requirement already satisfied: mygene in /usr/local/lib/python3.10/dist-packages (from Bio) (3.2.2)\n",
            "Requirement already satisfied: pandas in /usr/local/lib/python3.10/dist-packages (from Bio) (1.5.3)\n",
            "Requirement already satisfied: pooch in /usr/local/lib/python3.10/dist-packages (from Bio) (1.8.0)\n",
            "Requirement already satisfied: gprofiler-official in /usr/local/lib/python3.10/dist-packages (from Bio) (1.0.0)\n",
            "Requirement already satisfied: numpy in /usr/local/lib/python3.10/dist-packages (from biopython>=1.80->Bio) (1.25.2)\n",
            "Requirement already satisfied: biothings-client>=0.2.6 in /usr/local/lib/python3.10/dist-packages (from mygene->Bio) (0.3.1)\n",
            "Requirement already satisfied: python-dateutil>=2.8.1 in /usr/local/lib/python3.10/dist-packages (from pandas->Bio) (2.8.2)\n",
            "Requirement already satisfied: pytz>=2020.1 in /usr/local/lib/python3.10/dist-packages (from pandas->Bio) (2023.4)\n",
            "Requirement already satisfied: platformdirs>=2.5.0 in /usr/local/lib/python3.10/dist-packages (from pooch->Bio) (4.2.0)\n",
            "Requirement already satisfied: packaging>=20.0 in /usr/local/lib/python3.10/dist-packages (from pooch->Bio) (23.2)\n",
            "Requirement already satisfied: charset-normalizer<4,>=2 in /usr/local/lib/python3.10/dist-packages (from requests->Bio) (3.3.2)\n",
            "Requirement already satisfied: idna<4,>=2.5 in /usr/local/lib/python3.10/dist-packages (from requests->Bio) (3.6)\n",
            "Requirement already satisfied: urllib3<3,>=1.21.1 in /usr/local/lib/python3.10/dist-packages (from requests->Bio) (2.0.7)\n",
            "Requirement already satisfied: certifi>=2017.4.17 in /usr/local/lib/python3.10/dist-packages (from requests->Bio) (2024.2.2)\n",
            "Requirement already satisfied: six>=1.5 in /usr/local/lib/python3.10/dist-packages (from python-dateutil>=2.8.1->pandas->Bio) (1.16.0)\n"
          ]
        }
      ],
      "source": [
        "!pip install Bio\n",
        "from Bio.Seq import Seq"
      ]
    },
    {
      "cell_type": "code",
      "source": [
        "# Secuencia de ADN\n",
        "secuencia_adn = \"GTTCCATCCTCTACCGAGCGCGCGCGAAGACTACGGAGGTCGACTCGGGAGCGCGCACGCAGCTCCGCCCCGCGTCCGACCCGCGGATCCCGCGGCGTCCGGCCCGGGTGGTCTGGATCGCGGAGGGAATGCCCCGGAGGGCGGAGAACTGGGACGAGGCCGAGGTAGGCGCGGAGGAGGCAGGCGTCGAAGAGTACGGCCCTGAAGAAGACGGCGGGGAGGAGTCGGGCGCCGAGGAGTCCGGCCCGGAAGAGTCCGGCCCGGAGGAACTGGGCGCCGAGGAGGAGATGGAGGCCG\""
      ],
      "metadata": {
        "id": "VOWh5u6b78k_"
      },
      "execution_count": null,
      "outputs": []
    },
    {
      "cell_type": "code",
      "source": [],
      "metadata": {
        "id": "exoPBdey_vJv"
      },
      "execution_count": null,
      "outputs": []
    },
    {
      "cell_type": "code",
      "source": [
        "# Crear un objeto Seq\n",
        "secuencia = Seq(secuencia_adn)"
      ],
      "metadata": {
        "id": "zXSW3fhv8ESv"
      },
      "execution_count": null,
      "outputs": []
    },
    {
      "cell_type": "code",
      "source": [
        "# Transcripción\n",
        "secuencia_arnt = secuencia.transcribe()\n"
      ],
      "metadata": {
        "id": "Y89ba7qa8ITw"
      },
      "execution_count": null,
      "outputs": []
    },
    {
      "cell_type": "code",
      "source": [
        "# Transcripción\n",
        "secuencia_arnt = secuencia.transcribe()"
      ],
      "metadata": {
        "id": "5rRTY-Hi8KKX"
      },
      "execution_count": null,
      "outputs": []
    },
    {
      "cell_type": "code",
      "source": [
        "# Traducción\n",
        "secuencia_proteina = secuencia_arnt.translate()"
      ],
      "metadata": {
        "id": "WVXOJgMe8Ojw"
      },
      "execution_count": null,
      "outputs": []
    },
    {
      "cell_type": "code",
      "source": [
        "# Imprimir resultados\n",
        "print(\"Secuencia de ARN:\", secuencia_arnt)\n",
        "print(\"Secuencia de proteína:\", secuencia_proteina)"
      ],
      "metadata": {
        "colab": {
          "base_uri": "https://localhost:8080/"
        },
        "id": "sO3JEvIJ8XaG",
        "outputId": "db084029-6134-418a-e232-547e6ad571c5"
      },
      "execution_count": null,
      "outputs": [
        {
          "output_type": "stream",
          "name": "stdout",
          "text": [
            "Secuencia de ARN: GUUCCAUCCUCUACCGAGCGCGCGCGAAGACUACGGAGGUCGACUCGGGAGCGCGCACGCAGCUCCGCCCCGCGUCCGACCCGCGGAUCCCGCGGCGUCCGGCCCGGGUGGUCUGGAUCGCGGAGGGAAUGCCCCGGAGGGCGGAGAACUGGGACGAGGCCGAGGUAGGCGCGGAGGAGGCAGGCGUCGAAGAGUACGGCCCUGAAGAAGACGGCGGGGAGGAGUCGGGCGCCGAGGAGUCCGGCCCGGAAGAGUCCGGCCCGGAGGAACUGGGCGCCGAGGAGGAGAUGGAGGCCG\n",
            "Secuencia de proteína: VPSSTERARRLRRSTRERARSSAPRPTRGSRGVRPGWSGSRRECPGGRRTGTRPR*ARRRQASKSTALKKTAGRSRAPRSPARKSPARRNWAPRRRWRP\n"
          ]
        }
      ]
    },
    {
      "cell_type": "markdown",
      "source": [
        "# **SIMILUTUD** DE ACTIVIDAD CRISPER\n",
        "\n",
        "1.   Elemento de la lista\n",
        "2.   Elemento de la lista\n",
        "\n"
      ],
      "metadata": {
        "id": "Cd0Zthvl_xXl"
      }
    },
    {
      "cell_type": "code",
      "source": [
        "!pip install Bio\n",
        "from Bio import pairwise2\n",
        "from Bio.Seq import Seq\n",
        "\n",
        "# Secuencia original\n",
        "secuencia_original = Seq(\"GTCGACAGTCTCAGCGATGCTAGTCGACATCGTACTGCAATGGCGTCGAC\")\n",
        "\n",
        "# Otra secuencia para comparar (sustituye esto con la secuencia que quieras comparar)\n",
        "otra_secuencia = Seq(\"AGCTTTTCATTCTGACTGCAACGGGCAATATGTCTCTGTGTGGATTAAAAAAAGAGTGTCTGATAGCAGCTTCTGAACTG\")\n",
        "\n",
        "# Realizar el alineamiento\n",
        "alineamientos = pairwise2.align.globalxx(secuencia_original, otra_secuencia, one_alignment_only=True)\n",
        "\n",
        "# Obtener el mejor alineamiento\n",
        "mejor_alineamiento = alineamientos[0]\n",
        "\n",
        "\n",
        "\n"
      ],
      "metadata": {
        "colab": {
          "base_uri": "https://localhost:8080/"
        },
        "id": "jq6eFnor_wM1",
        "outputId": "169d376c-502a-4a9f-dcdb-74b307f57a29"
      },
      "execution_count": null,
      "outputs": [
        {
          "output_type": "stream",
          "name": "stdout",
          "text": [
            "Requirement already satisfied: Bio in /usr/local/lib/python3.10/dist-packages (1.6.2)\n",
            "Requirement already satisfied: biopython>=1.80 in /usr/local/lib/python3.10/dist-packages (from Bio) (1.83)\n",
            "Requirement already satisfied: requests in /usr/local/lib/python3.10/dist-packages (from Bio) (2.31.0)\n",
            "Requirement already satisfied: tqdm in /usr/local/lib/python3.10/dist-packages (from Bio) (4.66.2)\n",
            "Requirement already satisfied: mygene in /usr/local/lib/python3.10/dist-packages (from Bio) (3.2.2)\n",
            "Requirement already satisfied: pandas in /usr/local/lib/python3.10/dist-packages (from Bio) (1.5.3)\n",
            "Requirement already satisfied: pooch in /usr/local/lib/python3.10/dist-packages (from Bio) (1.8.0)\n",
            "Requirement already satisfied: gprofiler-official in /usr/local/lib/python3.10/dist-packages (from Bio) (1.0.0)\n",
            "Requirement already satisfied: numpy in /usr/local/lib/python3.10/dist-packages (from biopython>=1.80->Bio) (1.25.2)\n",
            "Requirement already satisfied: biothings-client>=0.2.6 in /usr/local/lib/python3.10/dist-packages (from mygene->Bio) (0.3.1)\n",
            "Requirement already satisfied: python-dateutil>=2.8.1 in /usr/local/lib/python3.10/dist-packages (from pandas->Bio) (2.8.2)\n",
            "Requirement already satisfied: pytz>=2020.1 in /usr/local/lib/python3.10/dist-packages (from pandas->Bio) (2023.4)\n",
            "Requirement already satisfied: platformdirs>=2.5.0 in /usr/local/lib/python3.10/dist-packages (from pooch->Bio) (4.2.0)\n",
            "Requirement already satisfied: packaging>=20.0 in /usr/local/lib/python3.10/dist-packages (from pooch->Bio) (23.2)\n",
            "Requirement already satisfied: charset-normalizer<4,>=2 in /usr/local/lib/python3.10/dist-packages (from requests->Bio) (3.3.2)\n",
            "Requirement already satisfied: idna<4,>=2.5 in /usr/local/lib/python3.10/dist-packages (from requests->Bio) (3.6)\n",
            "Requirement already satisfied: urllib3<3,>=1.21.1 in /usr/local/lib/python3.10/dist-packages (from requests->Bio) (2.0.7)\n",
            "Requirement already satisfied: certifi>=2017.4.17 in /usr/local/lib/python3.10/dist-packages (from requests->Bio) (2024.2.2)\n",
            "Requirement already satisfied: six>=1.5 in /usr/local/lib/python3.10/dist-packages (from python-dateutil>=2.8.1->pandas->Bio) (1.16.0)\n"
          ]
        }
      ]
    },
    {
      "cell_type": "code",
      "source": [
        "longitud_secuencia_original = len(secuencia_original)\n",
        "otra_secuencia_regularizada = otra_secuencia[:longitud_secuencia_original]"
      ],
      "metadata": {
        "id": "HWldSdrNmGc8"
      },
      "execution_count": null,
      "outputs": []
    },
    {
      "cell_type": "code",
      "source": [
        "# Imprimir las longitudes regularizadas\n",
        "print(\"Longitud de la Secuencia Original:\", longitud_secuencia_original)\n",
        "print(\"Longitud de la Otra Secuencia (Regularizada):\", len(otra_secuencia_regularizada))"
      ],
      "metadata": {
        "colab": {
          "base_uri": "https://localhost:8080/"
        },
        "id": "fDdMZHAsnH-H",
        "outputId": "fecc5f01-cb8f-47de-f1d7-f3a42b7a6678"
      },
      "execution_count": null,
      "outputs": [
        {
          "output_type": "stream",
          "name": "stdout",
          "text": [
            "Longitud de la Secuencia Original: 50\n",
            "Longitud de la Otra Secuencia (Regularizada): 50\n"
          ]
        }
      ]
    },
    {
      "cell_type": "code",
      "source": [
        "print(\"Similitud:\", mejor_alineamiento.score)"
      ],
      "metadata": {
        "colab": {
          "base_uri": "https://localhost:8080/"
        },
        "id": "RMZCpULkApT0",
        "outputId": "3c253c84-574b-483e-d8aa-e1054ead9ebb"
      },
      "execution_count": null,
      "outputs": [
        {
          "output_type": "stream",
          "name": "stdout",
          "text": [
            "Similitud: 38.0\n"
          ]
        }
      ]
    },
    {
      "cell_type": "code",
      "source": [
        "print(\"Secuencia Original:\", mejor_alineamiento.seqA)"
      ],
      "metadata": {
        "colab": {
          "base_uri": "https://localhost:8080/"
        },
        "id": "_BTHn_KvAwHs",
        "outputId": "5d7dfee2-c2dd-4beb-fa7a-1bdc329f54c5"
      },
      "execution_count": null,
      "outputs": [
        {
          "output_type": "stream",
          "name": "stdout",
          "text": [
            "Secuencia Original: -G-T---CGA--CAGT--CT-CAG-CGATG-C--TA-GTC---G-----AC--A---------TCGTACTGCAATG-GC-G-T-C-GA-C--\n"
          ]
        }
      ]
    },
    {
      "cell_type": "code",
      "source": [
        "print(\"Otra Secuencia:\", mejor_alineamiento.seqB)"
      ],
      "metadata": {
        "colab": {
          "base_uri": "https://localhost:8080/"
        },
        "id": "BeuezEn7A04h",
        "outputId": "43c02842-e05e-4153-d227-e0ff038a475b"
      },
      "execution_count": null,
      "outputs": [
        {
          "output_type": "stream",
          "name": "stdout",
          "text": [
            "Otra Secuencia: AGCTTTTC-ATTC--TGACTGCA-ACG--GGCAATATGTCTCTGTGTGGA-TTAAAAAAAGAGT-GT-CTG--AT-AGCAGCTTCTGAACTG\n"
          ]
        }
      ]
    },
    {
      "cell_type": "code",
      "source": [
        "porcentaje_similitud = (mejor_alineamiento.score / len(secuencia_original)) * 100\n",
        "print(\"Porcentaje de Similitud:\", porcentaje_similitud)\n"
      ],
      "metadata": {
        "colab": {
          "base_uri": "https://localhost:8080/"
        },
        "id": "CMZhxDxWBLPX",
        "outputId": "fcfb2845-7096-4b51-ada1-4d8a4342c679"
      },
      "execution_count": null,
      "outputs": [
        {
          "output_type": "stream",
          "name": "stdout",
          "text": [
            "Porcentaje de Similitud: 76.0\n"
          ]
        }
      ]
    },
    {
      "cell_type": "code",
      "source": [
        "# Longitud de cada secuencia\n",
        "longitud_secuencia_original = len(secuencia_original)\n",
        "longitud_otra_secuencia = len(otra_secuencia)\n",
        "\n",
        "# Imprimir las longitudes\n",
        "print(\"Longitud de la Secuencia Original:\", longitud_secuencia_original)\n",
        "print(\"Longitud de la Otra Secuencia:\", longitud_otra_secuencia)"
      ],
      "metadata": {
        "colab": {
          "base_uri": "https://localhost:8080/"
        },
        "id": "Zk-gUmAWmK4M",
        "outputId": "1bf0c482-d877-4c63-94fc-9688fa525ea6"
      },
      "execution_count": null,
      "outputs": [
        {
          "output_type": "stream",
          "name": "stdout",
          "text": [
            "Longitud de la Secuencia Original: 50\n",
            "Longitud de la Otra Secuencia: 80\n"
          ]
        }
      ]
    },
    {
      "cell_type": "markdown",
      "source": [
        "Repetición Palindrómica: GTCGAC\n",
        "Secuencia Espaciadora: AGTCTCAGCGATGCTA\n",
        "Repetición Palindrómica: GTCGAC\n",
        "Secuencia Espaciadora: ATCGTACTGCAATGGC\n",
        "Repetición Palindrómica: GTCGAC"
      ],
      "metadata": {
        "id": "1phALGFHEM8C"
      }
    },
    {
      "cell_type": "markdown",
      "source": [
        "Las secuencias espaciadoras, como \"AGTCTCAGCGATGCTA\" y \"ATCGTACTGCAATGGC\", son regiones entre las repeticiones palindrómicas y son características de sistemas de defensa bacteriana llamados CRISPR-Cas. Estos sistemas permiten a las bacterias recordar e inmunizarse contra virus que han infectado previamente."
      ],
      "metadata": {
        "id": "RKZA5PDbj355"
      }
    },
    {
      "cell_type": "code",
      "source": [
        "from Bio import pairwise2\n",
        "from Bio.Seq import Seq\n",
        "\n",
        "def generar_informe(alineamientos, secuencia_original, otra_secuencia, nombre_archivo=\"informe_resultados.txt\"):\n",
        "    with open(nombre_archivo, \"w\") as archivo:\n",
        "        archivo.write(\"Información de Alineamiento:\\n\\n\")\n",
        "        for i, alineamiento in enumerate(alineamientos, 1):\n",
        "            archivo.write(f\"Alineamiento {i}:\\n\")\n",
        "            archivo.write(f\"Secuencia Original: {alineamiento.seqA}\\n\")\n",
        "            archivo.write(f\"Otra Secuencia:      {alineamiento.seqB}\\n\")\n",
        "            archivo.write(f\"Puntuación:          {alineamiento.score}\\n\")\n",
        "            archivo.write(f\"\\n\")\n",
        "\n",
        "def comparar_secuencias(secuencia_original, otra_secuencia):\n",
        "    alineamientos = pairwise2.align.globalxx(secuencia_original, otra_secuencia, one_alignment_only=True)\n",
        "    mejor_alineamiento = alineamientos[0]\n",
        "\n",
        "    print(\"Alineamiento:\")\n",
        "    print(\"Secuencia Original:\", mejor_alineamiento.seqA)\n",
        "    print(\"Otra Secuencia:     \", mejor_alineamiento.seqB)\n",
        "    print(\"Puntuación:         \", mejor_alineamiento.score)\n",
        "\n",
        "    # Generar informe y guardar en un archivo\n",
        "    generar_informe(alineamientos, secuencia_original, otra_secuencia)\n",
        "\n",
        "# Definir las secuencias (puedes cambiarlas según sea necesario)\n",
        "secuencia_original = Seq(\"GTCGACAGTCTCAGCGATGCTAGTCGACATCGTACTGCAATGGCGTCGAC\")\n",
        "otra_secuencia = Seq(\"AGCTTTTCATTCTGACTGCAACGGGCAATATGTCTCTGTGTGGATTAAAAA\")\n",
        "\n",
        "# Comparar y generar informe\n",
        "comparar_secuencias(secuencia_original, otra_secuencia)\n"
      ],
      "metadata": {
        "id": "SCHE8BXtor33",
        "outputId": "7a343751-97a4-47f9-ba2a-d9ef4ff049c7",
        "colab": {
          "base_uri": "https://localhost:8080/"
        }
      },
      "execution_count": null,
      "outputs": [
        {
          "output_type": "stream",
          "name": "stdout",
          "text": [
            "Alineamiento:\n",
            "Secuencia Original: -G-T---CGA--CAGT--CT-CAG-CGATG-C--TAGTCGACATCGTACTGCAATG-GCG-TCG-AC----\n",
            "Otra Secuencia:      AGCTTTTC-ATTC--TGACTGCA-ACG--GGCAATA-T-G---TC-T-CTG---TGTG-GAT--TA-AAAA\n",
            "Puntuación:          30.0\n"
          ]
        }
      ]
    },
    {
      "cell_type": "code",
      "source": [
        "from Bio import pairwise2\n",
        "from Bio.Seq import Seq\n",
        "\n",
        "# ... (código anterior)\n",
        "\n",
        "# Obtener las secuencias alineadas\n",
        "seq_original_alineada = str(alineamientos[0].seqA)\n",
        "otra_secuencia_alineada = str(alineamientos[0].seqB)\n",
        "\n",
        "# Crear una línea de coincidencias y diferencias\n",
        "linea_coincidencias = ''.join('|' if a == b else ' ' for a, b in zip(seq_original_alineada, otra_secuencia_alineada))\n",
        "linea_diferencias = ''.join('.' if a == b else ' ' for a, b in zip(seq_original_alineada, otra_secuencia_alineada))\n",
        "\n",
        "# Imprimir la línea de coincidencias y diferencias en el archivo de salida\n",
        "with open('informe_alineamiento.txt', 'w') as f:\n",
        "    f.write(f\"Secuencia Original: {seq_original_alineada}\\n\")\n",
        "    f.write(f\"Otra Secuencia:      {otra_secuencia_alineada}\\n\")\n",
        "    f.write(f\"Coincidencias:       {linea_coincidencias}\\n\")\n",
        "    f.write(f\"Diferencias:         {linea_diferencias}\\n\")\n",
        "    f.write(f\"Puntuación:          {mejor_alineamiento.score}\\n\")\n"
      ],
      "metadata": {
        "id": "2322XJjOrojq"
      },
      "execution_count": null,
      "outputs": []
    },
    {
      "cell_type": "markdown",
      "source": [
        "En biología molecular, la repetición palindrómica se refiere a secuencias de nucleótidos que leen igual en ambas direcciones."
      ],
      "metadata": {
        "id": "JQDqamQZj6Nx"
      }
    },
    {
      "cell_type": "markdown",
      "source": [
        "Una similitud del 38.0% entre una secuencia asociada a CRISPR y una secuencia de E. coli indica que hay cierta homología o similitud estructural y de secuencia entre las dos. Analicemos esto desde una perspectiva científica:\n",
        "\n",
        "Homología Molecular: La homología molecular se refiere a la similitud en la secuencia de nucleótidos o aminoácidos entre dos moléculas biológicas. Una similitud del 38.0% sugiere que aproximadamente el 38.0% de las posiciones en las secuencias son idénticas o tienen similitudes.\n",
        "\n",
        "Conservación Evolutiva: La similitud entre CRISPR y una secuencia de E. coli puede tener implicaciones evolutivas. Una homología significativa podría indicar una relación evolutiva entre las dos secuencias. Es posible que compartan un ancestro común o que hayan experimentado eventos evolutivos similares.\n",
        "\n",
        "Función Potencial: La similitud en la secuencia podría sugerir que ciertas regiones de las secuencias desempeñan funciones similares. En el contexto de E. coli, que es una bacteria común del tracto intestinal, la secuencia similar podría estar relacionada con funciones específicas en la bacteria, como la defensa contra elementos genéticos móviles o interacciones con virus.\n",
        "\n",
        "Importancia Biológica: La variabilidad del 38.0% también indica que hay diferencias sustanciales entre las secuencias. Estas diferencias podrían tener implicaciones funcionales significativas y podrían estar asociadas con las características únicas de cada secuencia en términos de regulación génica, interacción con otros componentes celulares o adaptaciones específicas al entorno.\n",
        "\n",
        "Investigación Adicional: Para comprender completamente las implicaciones biológicas de esta similitud, se requeriría una investigación más detallada. Podría ser útil examinar las regiones conservadas y variables, así como investigar la función de estas secuencias en el contexto específico de E. coli.\n",
        "\n",
        "En resumen, una similitud del 38.0% sugiere que hay aspectos compartidos entre la secuencia asociada a CRISPR y la secuencia de E. coli, pero también hay diferencias sustanciales. La interpretación precisa de esta similitud dependerá de la función biológica específica de las secuencias y del contexto evolutivo en el que se encuentran."
      ],
      "metadata": {
        "id": "KMEebmJmBVmo"
      }
    }
  ]
}