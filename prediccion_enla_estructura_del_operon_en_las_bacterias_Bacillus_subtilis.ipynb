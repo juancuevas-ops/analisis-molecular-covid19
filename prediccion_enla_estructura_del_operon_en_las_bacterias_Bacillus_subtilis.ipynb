{
  "nbformat": 4,
  "nbformat_minor": 0,
  "metadata": {
    "colab": {
      "name": "prediccion_enla_estructura_del_operon_en las_bacterias_Bacillus subtilis",
      "provenance": [],
      "collapsed_sections": [],
      "authorship_tag": "ABX9TyPAbaMhtF65y6N9giwrgcVN",
      "include_colab_link": true
    },
    "kernelspec": {
      "name": "python3",
      "display_name": "Python 3"
    },
    "language_info": {
      "name": "python"
    }
  },
  "cells": [
    {
      "cell_type": "markdown",
      "metadata": {
        "id": "view-in-github",
        "colab_type": "text"
      },
      "source": [
        "<a href=\"https://colab.research.google.com/github/juancuevas-ops/analisis-molecular-covid19/blob/main/prediccion_enla_estructura_del_operon_en_las_bacterias_Bacillus_subtilis.ipynb\" target=\"_parent\"><img src=\"https://colab.research.google.com/assets/colab-badge.svg\" alt=\"Open In Colab\"/></a>"
      ]
    },
    {
      "cell_type": "code",
      "metadata": {
        "colab": {
          "base_uri": "https://localhost:8080/"
        },
        "id": "4ni30JhI2qpt",
        "outputId": "07e20fb5-b5e8-49fd-a576-12927e4ff1c0"
      },
      "source": [
        "!pip install Bio\n",
        "from Bio import LogisticRegression\n",
        "xs =    [[-53, -200.78],\n",
        "          [117, -267.14],\n",
        "          [57, -163.47],\n",
        "          [16, -190.30],\n",
        "          [11, -220.94],\n",
        "          [85, -193.94],\n",
        "          [16, -182.71],\n",
        "          [15, -180.41],\n",
        "          [-26, -181.73],\n",
        "          [58, -259.87],\n",
        "          [126, -414.53],\n",
        "          [191, -249.57],\n",
        "          [113, -265.28],\n",
        "          [145, -312.99],\n",
        "          [154, -213.83],\n",
        "          [147, -380.85],\n",
        "          [93, -291.13]]"
      ],
      "execution_count": 1,
      "outputs": [
        {
          "output_type": "stream",
          "text": [
            "Collecting Bio\n",
            "\u001b[?25l  Downloading https://files.pythonhosted.org/packages/43/f1/34f9d2f010be943b1884005ed0ef344f571876d0eb0a55cb4f00e39d2f0f/bio-0.5.0-py3-none-any.whl (94kB)\n",
            "\u001b[K     |████████████████████████████████| 102kB 4.4MB/s \n",
            "\u001b[?25hRequirement already satisfied: plac in /usr/local/lib/python3.7/dist-packages (from Bio) (1.1.3)\n",
            "Requirement already satisfied: numpy<1.20 in /usr/local/lib/python3.7/dist-packages (from Bio) (1.19.5)\n",
            "Requirement already satisfied: requests in /usr/local/lib/python3.7/dist-packages (from Bio) (2.23.0)\n",
            "Collecting biopython>=1.78\n",
            "\u001b[?25l  Downloading https://files.pythonhosted.org/packages/3a/cd/0098eaff841850c01da928c7f509b72fd3e1f51d77b772e24de9e2312471/biopython-1.78-cp37-cp37m-manylinux1_x86_64.whl (2.3MB)\n",
            "\u001b[K     |████████████████████████████████| 2.3MB 8.0MB/s \n",
            "\u001b[?25hRequirement already satisfied: idna<3,>=2.5 in /usr/local/lib/python3.7/dist-packages (from requests->Bio) (2.10)\n",
            "Requirement already satisfied: certifi>=2017.4.17 in /usr/local/lib/python3.7/dist-packages (from requests->Bio) (2020.12.5)\n",
            "Requirement already satisfied: urllib3!=1.25.0,!=1.25.1,<1.26,>=1.21.1 in /usr/local/lib/python3.7/dist-packages (from requests->Bio) (1.24.3)\n",
            "Requirement already satisfied: chardet<4,>=3.0.2 in /usr/local/lib/python3.7/dist-packages (from requests->Bio) (3.0.4)\n",
            "Installing collected packages: biopython, Bio\n",
            "Successfully installed Bio-0.5.0 biopython-1.78\n"
          ],
          "name": "stdout"
        }
      ]
    },
    {
      "cell_type": "markdown",
      "metadata": {
        "id": "2U3Qc06OnhLj"
      },
      "source": [
        "# Nueva sección"
      ]
    },
    {
      "cell_type": "markdown",
      "metadata": {
        "id": "By4TbwtUniAW"
      },
      "source": [
        " El modelo de regresión logística\n",
        "\n",
        "16.1.1 Antecedentes y propósitos\n",
        "La regresión logística es un enfoque de aprendizaje supervisado que intenta distinguir las clases K entre sí utilizando una suma ponderada de algunas variables predictoras xi. El modelo de regresión logística se utiliza para calcular las ponderaciones βi de las variables predictoras. En Biopython, el modelo de regresión logística se implementa actualmente solo para dos clases (K = 2); el número de variables predictoras no tiene límite predefinido.\n",
        "\n",
        "Como ejemplo, tratemos de predecir la estructura del operon en las bacterias. Un operon es un conjunto de genes adyacentes en la misma hebra de ADN que se transcriben en una sola molécula de ARNm. La traducción de la molécula de ARNM único produce las proteínas individuales. Para Bacillus subtilis, cuyos datos vamos a utilizar, el número promedio de genes en un operon es de aproximadamente 2,4.\n",
        "\n",
        "Como primer paso para entender la regulación genética en las bacterias, necesitamos conocer la estructura del operon. Para aproximadamente el 10% de los genes en Bacillus subtilis,la estructura de operon se conoce a partir de experimentos. Se puede utilizar un método de aprendizaje supervisado para predecir la estructura del operon para el 90% restante de los genes.\n",
        "\n",
        "Para un enfoque de aprendizaje supervisado, necesitamos elegir algunas variables predictoras xi que se pueden medir fácilmente y están de alguna manera relacionadas con la estructura operon. Una variable predictora podría ser la distancia en pares base entre genes. Los genes adyacentes pertenecientes al mismo operon tienden a estar separados por una distancia relativamente corta, mientras que los genes adyacentes en diferentes operons tienden a tener un espacio más grande entre ellos para permitir secuencias de promotores y terminadores. Otra variable predictora se basa en mediciones de expresión génica. Por definición, los genes pertenecientes al mismo operon tienen perfiles de expresión génica iguales, mientras que se espera que los genes de diferentes operons tengan perfiles de expresión diferentes. En la práctica, los perfiles de expresión medidos de genes en el mismo operon no son del todo idénticos debido a la presencia de errores de medición. Para evaluar la similitud en los perfiles de expresión génica, suponemos que los errores de medición siguen una distribución normal y calculamos la puntuación de probabilidad de registro correspondiente.\n",
        "\n",
        "Ahora tenemos dos variables predictoras que podemos utilizar para predecir si dos genes adyacentes en la misma hebra de ADN pertenecen al mismo operon:\n",
        "\n",
        "x1: el número de pares base entre ellos;\n",
        "x2: su similitud en el perfil de expresión.\n",
        "En un modelo de regresión logística, utilizamos una suma ponderada de estos dos predictores para calcular una puntuación conjunta S:\n",
        "\n",
        "S = β0 + β1 x1 + β2 x2.     (16.1)\n",
        "El modelo de regresión logística nos da los valores adecuados para los parámetros β0, β1, β2 utilizando dos conjuntos de genes de ejemplo:\n",
        "\n",
        "OP: Genes adyacentes, en la misma hebra de ADN, conocidos por pertenecer al mismo operon;\n",
        "NOP: Genes adyacentes, en la misma hebra de ADN, conocidos por pertenecer a diferentes operons.\n",
        "En el modelo de regresión logística, la probabilidad de pertenecer a una clase depende de la puntuación a través de la función logística. Para las dos clases OP y NOP, podemos escribir esto como\n",
        "\n",
        "     \t\n",
        "Pr(OP| x1, x2)\t =\t\n",
        " \t\n",
        "exp(β0 + β1 x1 + β2 x2)\n",
        "1+exp(β0 + β1 x1 + β2 x2)\n",
        "   \n",
        "    (16.2)\n",
        "Pr(NOP| x1, x2)\t =\t\n",
        " \t\n",
        "1\n",
        "1+exp(β0 + β1 x1 + β2 x2)\n",
        "  \n",
        "    (16.3)\n",
        "Utilizando un conjunto de pares genéticos para los que se sabe si pertenecen al mismo operon (clase OP) o a diferentes operons (clase NOP), podemos calcular los pesos β0,β1,β2 maximizando la probabilidad de registro correspondiente a las funciones de probabilidad (16.2) y (16.3).\n",
        "\n",
        "16.1.2 Formación del modelo de regresión logística\n",
        "\n",
        "Tabla 16.1: Pares genéticos adyacentes conocidos por pertenecer al mismo operon (clase OP) o a diferentes operons (clase NOP). Las distancias intergéneros son negativas si los dos genes se superponen.\n",
        "Par genético\tDistancia intergénero (x1)\tPuntuación de expresión génica (x2)\tclase\n",
        "cotJA — cotJB\t-53\t-200.78\tOp\n",
        "yesK — yesL\t117\t-267.14\tOp\n",
        "lplA — lplB\t57\t-163.47\tOp\n",
        "lplB — lplC\t16\t-190.30\tOp\n",
        "lplC — lplD\t11\t-220.94\tOp\n",
        "lplD — yetF\t85\t-193.94\tOp\n",
        "yfmT — yfmS\t16\t-182.71\tOp\n",
        "yfmF — yfmE\t15\t-180.41\tOp\n",
        "citS — citT\t-26\t-181.73\tOp\n",
        "citM — yflN\t58\t-259.87\tOp\n",
        "yfiI — yfiJ\t126\t-414.53\tNop\n",
        "lipB — yfiQ\t191\t-249.57\tNop\n",
        "yfiU — yfiV\t113\t-265.28\tNop\n",
        "yfhH — yfhI\t145\t-312.99\tNop\n",
        "cotY — cotX\t154\t-213.83\tNop\n",
        "yjoB — rapA\t147\t-380.85\tNop\n",
        "ptsI — splA\t93\t-291.13\tNop\n",
        "En el Cuadro 16.1 se enumeran algunos de los pares genéticos bacillus subtilis para los que se conoce la estructura del operon. Vamos a calcular el modelo de regresión logística a partir de estos datos:"
      ]
    },
    {
      "cell_type": "code",
      "metadata": {
        "colab": {
          "base_uri": "https://localhost:8080/"
        },
        "id": "eE4XD98Q27j1",
        "outputId": "113b25fd-9477-414c-9fb7-45b25938778c"
      },
      "source": [
        "xs"
      ],
      "execution_count": 2,
      "outputs": [
        {
          "output_type": "execute_result",
          "data": {
            "text/plain": [
              "[[-53, -200.78],\n",
              " [117, -267.14],\n",
              " [57, -163.47],\n",
              " [16, -190.3],\n",
              " [11, -220.94],\n",
              " [85, -193.94],\n",
              " [16, -182.71],\n",
              " [15, -180.41],\n",
              " [-26, -181.73],\n",
              " [58, -259.87],\n",
              " [126, -414.53],\n",
              " [191, -249.57],\n",
              " [113, -265.28],\n",
              " [145, -312.99],\n",
              " [154, -213.83],\n",
              " [147, -380.85],\n",
              " [93, -291.13]]"
            ]
          },
          "metadata": {
            "tags": []
          },
          "execution_count": 2
        }
      ]
    },
    {
      "cell_type": "code",
      "metadata": {
        "id": "lpDACTma3Eti"
      },
      "source": [
        " ys = [1,1,1,1,1,1,1,1,1,1,0,0,0,0,0,0,0]\n"
      ],
      "execution_count": 3,
      "outputs": []
    },
    {
      "cell_type": "code",
      "metadata": {
        "colab": {
          "base_uri": "https://localhost:8080/"
        },
        "id": "FQjzg1XF3ZxJ",
        "outputId": "b0b2179f-2d23-44b9-9373-8c4adc4c158e"
      },
      "source": [
        "ys"
      ],
      "execution_count": 4,
      "outputs": [
        {
          "output_type": "execute_result",
          "data": {
            "text/plain": [
              "[1, 1, 1, 1, 1, 1, 1, 1, 1, 1, 0, 0, 0, 0, 0, 0, 0]"
            ]
          },
          "metadata": {
            "tags": []
          },
          "execution_count": 4
        }
      ]
    },
    {
      "cell_type": "code",
      "metadata": {
        "id": "_1tw9kuN3WQr"
      },
      "source": [
        "modelo =  LogisticRegression.train(xs, ys)"
      ],
      "execution_count": 5,
      "outputs": []
    },
    {
      "cell_type": "markdown",
      "metadata": {
        "id": "uxZhyu8f6Sqx"
      },
      "source": [
        "Aquí, (xs ) y (ys) están los datos de entrenamiento: xs contiene las variables predictoras para cada par de genes y (ys) especifica si el par de genes pertenece al mismo operón ( 1, clase OP) oa diferentes operones ( 0, clase NOP). El modelo de regresión logística resultante se almacena en model, que contiene los pesos β 0 , β 1 y β 2 :"
      ]
    },
    {
      "cell_type": "code",
      "metadata": {
        "colab": {
          "base_uri": "https://localhost:8080/"
        },
        "id": "vTYBqOfk6Gmb",
        "outputId": "c9875dad-e45a-4686-c3ad-4e57078bde6e"
      },
      "source": [
        "modelo.beta"
      ],
      "execution_count": 6,
      "outputs": [
        {
          "output_type": "execute_result",
          "data": {
            "text/plain": [
              "[8.98302901571447, -0.03596896044485089, 0.021813956629835193]"
            ]
          },
          "metadata": {
            "tags": []
          },
          "execution_count": 6
        }
      ]
    },
    {
      "cell_type": "markdown",
      "metadata": {
        "id": "V7QJOWiR64qe"
      },
      "source": [
        "Tenga en cuenta que β 1 es negativo, ya que los pares de genes con una distancia entre genes más corta tienen una mayor probabilidad de pertenecer al mismo operón (clase OP). Por otro lado, β 2 es positivo, ya que los pares de genes que pertenecen al mismo operón suelen tener una puntuación de similitud más alta de sus perfiles de expresión génica. El parámetro β 0 es positivo debido a la mayor prevalencia de pares de genes de operón que de pares de genes sin operón en los datos de entrenamiento.\n",
        "\n",
        "La función traintiene dos argumentos opcionales: update_fny typecode. Laupdate_fn puede usar para especificar una función de devolución de llamada, tomando como argumentos el número de iteración y la probabilidad de registro. Con la función de devolución de llamada, podemos, por ejemplo, realizar un seguimiento del progreso del cálculo del modelo (que utiliza una iteración de Newton-Raphson para maximizar la función de probabilidad logarítmica del modelo de regresión logística):"
      ]
    },
    {
      "cell_type": "code",
      "metadata": {
        "id": "PRbbxOON66Df"
      },
      "source": [
        "def show_progress (iteración, loglikelihood):\n",
        "        print (\"Iteración:\", iteración, \"Función de probabilidad logarítmica:\",loglikelihood)"
      ],
      "execution_count": 7,
      "outputs": []
    },
    {
      "cell_type": "code",
      "metadata": {
        "colab": {
          "base_uri": "https://localhost:8080/"
        },
        "id": "E33Hja3372iV",
        "outputId": "01a5330f-c761-4dc6-c3a8-c9ab12308cd2"
      },
      "source": [
        "modelo = LogisticRegression.train (xs, ys, update_fn = show_progress)"
      ],
      "execution_count": 8,
      "outputs": [
        {
          "output_type": "stream",
          "text": [
            "Iteración: <built-in function iter> Función de probabilidad logarítmica: -11.78350206951907\n",
            "Iteración: <built-in function iter> Función de probabilidad logarítmica: -7.158867676721056\n",
            "Iteración: <built-in function iter> Función de probabilidad logarítmica: -5.76877209867943\n",
            "Iteración: <built-in function iter> Función de probabilidad logarítmica: -5.113622943382592\n",
            "Iteración: <built-in function iter> Función de probabilidad logarítmica: -4.748706424325651\n",
            "Iteración: <built-in function iter> Función de probabilidad logarítmica: -4.5002607714604785\n",
            "Iteración: <built-in function iter> Función de probabilidad logarítmica: -4.311277737371034\n",
            "Iteración: <built-in function iter> Función de probabilidad logarítmica: -4.160150433955946\n",
            "Iteración: <built-in function iter> Función de probabilidad logarítmica: -4.035617197847365\n",
            "Iteración: <built-in function iter> Función de probabilidad logarítmica: -3.93073282192017\n",
            "Iteración: <built-in function iter> Función de probabilidad logarítmica: -3.8408766092914277\n",
            "Iteración: <built-in function iter> Función de probabilidad logarítmica: -3.7628256060505034\n",
            "Iteración: <built-in function iter> Función de probabilidad logarítmica: -3.6942502715443513\n",
            "Iteración: <built-in function iter> Función de probabilidad logarítmica: -3.6334178601959204\n",
            "Iteración: <built-in function iter> Función de probabilidad logarítmica: -3.5790085583661533\n",
            "Iteración: <built-in function iter> Función de probabilidad logarítmica: -3.529996713864591\n",
            "Iteración: <built-in function iter> Función de probabilidad logarítmica: -3.4855714516343355\n",
            "Iteración: <built-in function iter> Función de probabilidad logarítmica: -3.4450820613931006\n",
            "Iteración: <built-in function iter> Función de probabilidad logarítmica: -3.4079994844651087\n",
            "Iteración: <built-in function iter> Función de probabilidad logarítmica: -3.373888562399737\n",
            "Iteración: <built-in function iter> Función de probabilidad logarítmica: -3.34238765810203\n",
            "Iteración: <built-in function iter> Función de probabilidad logarítmica: -3.3131934376911234\n",
            "Iteración: <built-in function iter> Función de probabilidad logarítmica: -3.286049334600596\n",
            "Iteración: <built-in function iter> Función de probabilidad logarítmica: -3.2607366863005263\n",
            "Iteración: <built-in function iter> Función de probabilidad logarítmica: -3.2370678409148415\n",
            "Iteración: <built-in function iter> Función de probabilidad logarítmica: -3.214880736138567\n",
            "Iteración: <built-in function iter> Función de probabilidad logarítmica: -3.1940345925857243\n",
            "Iteración: <built-in function iter> Función de probabilidad logarítmica: -3.1744064605163893\n",
            "Iteración: <built-in function iter> Función de probabilidad logarítmica: -3.155888427031874\n",
            "Iteración: <built-in function iter> Función de probabilidad logarítmica: -3.1383853394732353\n",
            "Iteración: <built-in function iter> Función de probabilidad logarítmica: -3.12181293594603\n",
            "Iteración: <built-in function iter> Función de probabilidad logarítmica: -3.10609629965671\n",
            "Iteración: <built-in function iter> Función de probabilidad logarítmica: -3.0911685728203997\n",
            "Iteración: <built-in function iter> Función de probabilidad logarítmica: -3.0769698801700422\n",
            "Iteración: <built-in function iter> Función de probabilidad logarítmica: -3.0634464228770595\n",
            "Iteración: <built-in function iter> Función de probabilidad logarítmica: -3.050549711911315\n",
            "Iteración: <built-in function iter> Función de probabilidad logarítmica: -3.0382359161858665\n",
            "Iteración: <built-in function iter> Función de probabilidad logarítmica: -3.0264653057277124\n",
            "Iteración: <built-in function iter> Función de probabilidad logarítmica: -3.015201773938085\n",
            "Iteración: <built-in function iter> Función de probabilidad logarítmica: -3.0044124260112413\n",
            "Iteración: <built-in function iter> Función de probabilidad logarítmica: -2.9940672229595724\n",
            "Iteración: <built-in function iter> Función de probabilidad logarítmica: -2.9841386725875942\n"
          ],
          "name": "stdout"
        }
      ]
    },
    {
      "cell_type": "markdown",
      "metadata": {
        "id": "4nB_RAk0985c"
      },
      "source": [
        "El modelo de regresión logística clasifica yxcE , yxcD como pertenecientes al mismo operón (clase OP), mientras que se predice que yxiB , yxiA pertenecen a diferentes operones:"
      ]
    },
    {
      "cell_type": "code",
      "metadata": {
        "colab": {
          "base_uri": "https://localhost:8080/"
        },
        "id": "T2QspCe59PY2",
        "outputId": "805dda17-ae11-405d-ea0b-caa9525eef3b"
      },
      "source": [
        "print (\"yxcE, yxcD:\", LogisticRegression.classify (modelo, [6, -173.143442352])) "
      ],
      "execution_count": 9,
      "outputs": [
        {
          "output_type": "stream",
          "text": [
            "yxcE, yxcD: 1\n"
          ],
          "name": "stdout"
        }
      ]
    },
    {
      "cell_type": "code",
      "metadata": {
        "colab": {
          "base_uri": "https://localhost:8080/"
        },
        "id": "54nnE6Od9Xcp",
        "outputId": "0861b4cf-4b0e-4305-e069-686590bc84c7"
      },
      "source": [
        "print (\"yxiB, yxiA:\", LogisticRegression.classify (modelo, [ 309, -271.005880394])) "
      ],
      "execution_count": 10,
      "outputs": [
        {
          "output_type": "stream",
          "text": [
            "yxiB, yxiA: 0\n"
          ],
          "name": "stdout"
        }
      ]
    },
    {
      "cell_type": "markdown",
      "metadata": {
        "id": "j-xyCF-89q6G"
      },
      "source": [
        "abla 16.2: Pares de genes adyacentes de estado de operón desconocido.\n",
        "Par de genes\tDistancia intergene x 1\tPuntuación de expresión genética x 2\n",
        "yxcE - yxcD\t6\t-173.143442352\n",
        "yxiB - yxiA\t309\t-271.005880394"
      ]
    },
    {
      "cell_type": "markdown",
      "metadata": {
        "id": "V5n_37An-Pyy"
      },
      "source": [
        "que, por cierto, concuerda con la literatura biológica).\n",
        "\n",
        "Para averiguar qué tan seguros podemos estar en estas predicciones, podemos llamar a la calculatefunción para obtener las probabilidades (ecuaciones ( 16.2 ) y 16.3 ) para las clases OP y NOP. Para yxcE , yxcD encontramos"
      ]
    },
    {
      "cell_type": "code",
      "metadata": {
        "colab": {
          "base_uri": "https://localhost:8080/"
        },
        "id": "gZ-MKsvN9sou",
        "outputId": "c5c30e80-a6da-4030-898d-a67851946e6d"
      },
      "source": [
        "q, p = LogisticRegression.calculate (modelo, [6, -173.143442352]) \n",
        "print (\"clase OP: probabilidad =\", p, \"clase NOP: probabilidad =\", q) "
      ],
      "execution_count": 11,
      "outputs": [
        {
          "output_type": "stream",
          "text": [
            "clase OP: probabilidad = 0.9932421635025626 clase NOP: probabilidad = 0.006757836497437442\n"
          ],
          "name": "stdout"
        }
      ]
    },
    {
      "cell_type": "markdown",
      "metadata": {
        "id": "IBm3PkgQ-3Qg"
      },
      "source": [
        "y para yxiB , yxiA"
      ]
    },
    {
      "cell_type": "code",
      "metadata": {
        "colab": {
          "base_uri": "https://localhost:8080/"
        },
        "id": "-HQ4_e7A-4U5",
        "outputId": "da457ee4-9aab-448e-cfc4-3ba787613c7c"
      },
      "source": [
        "q, p = LogisticRegression.calculate (modelo, [309, -271.005880394]) \n",
        "print (\"clase OP: probabilidad =\", p, \"clase NOP: probabilidad =\", q) "
      ],
      "execution_count": 12,
      "outputs": [
        {
          "output_type": "stream",
          "text": [
            "clase OP: probabilidad = 0.00032121125181733257 clase NOP: probabilidad = 0.9996787887481827\n"
          ],
          "name": "stdout"
        }
      ]
    },
    {
      "cell_type": "markdown",
      "metadata": {
        "id": "gCkHlLqX_PF2"
      },
      "source": [
        "Para tener una idea de la precisión de la predicción del modelo de regresión logística, podemos aplicarlo a los datos de entrenamiento:"
      ]
    },
    {
      "cell_type": "code",
      "metadata": {
        "colab": {
          "base_uri": "https://localhost:8080/"
        },
        "id": "hJ4i5XKA_Q7f",
        "outputId": "e3bf4b05-6c93-485c-a9a2-12e321a3c608"
      },
      "source": [
        "for i in range (len (ys)): \n",
        "        print (\"True:\", ys [i], \"Predicted:\", LogisticRegression.classify (modelo, xs [i])) "
      ],
      "execution_count": 13,
      "outputs": [
        {
          "output_type": "stream",
          "text": [
            "True: 1 Predicted: 1\n",
            "True: 1 Predicted: 0\n",
            "True: 1 Predicted: 1\n",
            "True: 1 Predicted: 1\n",
            "True: 1 Predicted: 1\n",
            "True: 1 Predicted: 1\n",
            "True: 1 Predicted: 1\n",
            "True: 1 Predicted: 1\n",
            "True: 1 Predicted: 1\n",
            "True: 1 Predicted: 1\n",
            "True: 0 Predicted: 0\n",
            "True: 0 Predicted: 0\n",
            "True: 0 Predicted: 0\n",
            "True: 0 Predicted: 0\n",
            "True: 0 Predicted: 0\n",
            "True: 0 Predicted: 0\n",
            "True: 0 Predicted: 0\n"
          ],
          "name": "stdout"
        }
      ]
    },
    {
      "cell_type": "markdown",
      "metadata": {
        "id": "J2g8OLN2-O_K"
      },
      "source": [
        ""
      ]
    },
    {
      "cell_type": "markdown",
      "metadata": {
        "id": "FRgWtM2u_sM3"
      },
      "source": [
        "mostrando que la predicción es correcta para todos menos uno de los pares de genes. Se puede encontrar una estimación más confiable de la precisión de la predicción a partir de un análisis de omisión, en el que el modelo se vuelve a calcular a partir de los datos de entrenamiento después de eliminar el gen que se va a predecir:"
      ]
    },
    {
      "cell_type": "code",
      "metadata": {
        "colab": {
          "base_uri": "https://localhost:8080/"
        },
        "id": "SGZgeTNE_tjV",
        "outputId": "25ec8f78-1e60-4759-94b4-128775dda652"
      },
      "source": [
        "for i in range(len(ys)):\n",
        "        model = LogisticRegression.train(xs[:i]+xs[i+1:], ys[:i]+ys[i+1:])\n",
        "        print(\"True:\", ys[i], \"Predicted:\", LogisticRegression.classify(modelo, xs[i]))\n"
      ],
      "execution_count": 14,
      "outputs": [
        {
          "output_type": "stream",
          "text": [
            "True: 1 Predicted: 1\n",
            "True: 1 Predicted: 0\n",
            "True: 1 Predicted: 1\n",
            "True: 1 Predicted: 1\n",
            "True: 1 Predicted: 1\n",
            "True: 1 Predicted: 1\n",
            "True: 1 Predicted: 1\n",
            "True: 1 Predicted: 1\n",
            "True: 1 Predicted: 1\n",
            "True: 1 Predicted: 1\n",
            "True: 0 Predicted: 0\n",
            "True: 0 Predicted: 0\n",
            "True: 0 Predicted: 0\n",
            "True: 0 Predicted: 0\n",
            "True: 0 Predicted: 0\n",
            "True: 0 Predicted: 0\n",
            "True: 0 Predicted: 0\n"
          ],
          "name": "stdout"
        }
      ]
    },
    {
      "cell_type": "markdown",
      "metadata": {
        "id": "tx2l7Vh2qH84"
      },
      "source": [
        "La iteración se detiene una vez que el aumento de la función log-verosimilitud es menor que 0,01. Si no se alcanza ninguna convergencia después de 500 iteraciones, la función vuelve con un archivo .trainAssertionError\n",
        "\n",
        "La palabra clave opcional casi siempre se puede omitir. Esta palabra clave permite al usuario elegir el tipo de matriz numérica que se va a utilizar. En particular, para evitar problemas de memoria para problemas muy grandes, puede ser necesario utilizar flotadores de precisión única (Float8, Float16, etc.) en lugar de doble, que se utiliza de forma predeterminada.typecode\n",
        "\n",
        "16.1.3 Uso del modelo de regresión logística para la clasificación\n",
        "La clasificación se realiza llamando a la función. Dado un modelo de regresión logística y los valores de x1 y x2 (por ejemplo, para un par genético de estructura operon desconocida), la función devuelve o, correspondiente a la clase OP y a la clase NOP, respectivamente. Por ejemplo, consideremos los pares genéticos yxcE, yxcD y yxiB, yxiA:classifyclassify10"
      ]
    },
    {
      "cell_type": "markdown",
      "metadata": {
        "id": "Z0xvNn83qYOx"
      },
      "source": [
        "Pares genéticos adyacentes de estado de operon desconocido.\n",
        "Par genético\tDistancia intergénero x1\tPuntuación de expresión génica x2\n",
        "yxcE — yxcD\t6\t-173.143442352\n",
        "yxiB — yxiA\t309\t-271.005880394\n"
      ]
    },
    {
      "cell_type": "markdown",
      "metadata": {
        "id": "5H-e-33Oqj5R"
      },
      "source": [
        "l modelo de regresión logística clasifica yxcE, yxcD como perteneciente al mismo operon (clase OP), mientras que yxiB, yxiA se predice que pertenecen a diferentes operons:"
      ]
    },
    {
      "cell_type": "code",
      "metadata": {
        "colab": {
          "base_uri": "https://localhost:8080/"
        },
        "id": "0DAIBeJdqKai",
        "outputId": "b6a8467b-a979-4a49-afb9-de1fa28c9da0"
      },
      "source": [
        "print(\"yxcE, yxcD:\", LogisticRegression.classify(model, [6, -173.143442352]))\n",
        "print(\"yxiB, yxiA:\", LogisticRegression.classify(model, [309, -271.005880394]))\n"
      ],
      "execution_count": 16,
      "outputs": [
        {
          "output_type": "stream",
          "text": [
            "yxcE, yxcD: 1\n",
            "yxiB, yxiA: 0\n"
          ],
          "name": "stdout"
        }
      ]
    },
    {
      "cell_type": "code",
      "metadata": {
        "id": "9Ph81ADHre1Q"
      },
      "source": [
        "print(\"yxcE, yxcD:\", LogisticRegression.classify(model, [6, -173.143442352]))\n",
        "print(\"yxiB, yxiA:\", LogisticRegression.classify(model, [309, -271.005880394]))\n"
      ],
      "execution_count": null,
      "outputs": []
    },
    {
      "cell_type": "code",
      "metadata": {
        "colab": {
          "base_uri": "https://localhost:8080/"
        },
        "id": "9OG7U0btsBl1",
        "outputId": "6ea396c4-d465-4b85-9e98-d89f825655aa"
      },
      "source": [
        "print(\"ptsI, splA:\", LogisticRegression.classify(model, [93, -2.9841386725875942]))\n",
        "print(\"yfmT — yfmS:\", LogisticRegression.classify(model, [16, -182.71]))\n",
        "#hemos creado la prediccion de este par genetico \"yfmT — yfmS: la repuesta del sistema es 1  que es == que decir que pertenecen al mismo operon\n",
        "# con una exactitud de un  98 % y hemos tomado como variables independientes Distancia intergénero (x1)\tPuntuación de expresión génica (x2)\n",
        "\n"
      ],
      "execution_count": 24,
      "outputs": [
        {
          "output_type": "stream",
          "text": [
            "ptsI, splA: 1\n",
            "yfmT — yfmS: 1\n"
          ],
          "name": "stdout"
        }
      ]
    },
    {
      "cell_type": "code",
      "metadata": {
        "colab": {
          "base_uri": "https://localhost:8080/"
        },
        "id": "Zs_axx3Ks-lJ",
        "outputId": "7e4b9bae-8a8e-4eab-92b8-95da5b888f85"
      },
      "source": [
        "q, p = LogisticRegression.calculate (modelo, [16, -182.71]) \n",
        "print (\"clase OP: probabilidad =\", p, \"clase NOP: probabilidad =\", q) "
      ],
      "execution_count": 25,
      "outputs": [
        {
          "output_type": "stream",
          "text": [
            "clase OP: probabilidad = 0.9881311443932786 clase NOP: probabilidad = 0.011868855606721351\n"
          ],
          "name": "stdout"
        }
      ]
    },
    {
      "cell_type": "markdown",
      "metadata": {
        "id": "2xlE62P0wcCO"
      },
      "source": [
        "#CONCLUSION\n",
        "\n",
        "\n",
        "#hemos creado la prediccion de este par genetico \"yfmT — yfmS: la repuesta del sistema es 1  que es == que decir que pertenecen al mismo operon\n",
        "# con una exactitud de un  98 % y hemos tomado como variables independientes Distancia intergénero (x1)\tPuntuación de expresión génica (x2).creado y estudiado para ser usado en el bien de personas que puedan padecer enfermedades de tipo genetica. creado por el cientifico de datos juan cuevas vasquez.\n",
        "nota  operon de bacteria Bacillus subtilis,"
      ]
    }
  ]
}