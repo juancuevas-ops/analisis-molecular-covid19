{
  "nbformat": 4,
  "nbformat_minor": 0,
  "metadata": {
    "colab": {
      "provenance": [],
      "authorship_tag": "ABX9TyPQp5HIO/sheD1jy9kf5Jxn",
      "include_colab_link": true
    },
    "kernelspec": {
      "name": "python3",
      "display_name": "Python 3"
    },
    "language_info": {
      "name": "python"
    }
  },
  "cells": [
    {
      "cell_type": "markdown",
      "metadata": {
        "id": "view-in-github",
        "colab_type": "text"
      },
      "source": [
        "<a href=\"https://colab.research.google.com/github/juancuevas-ops/analisis-molecular-covid19/blob/main/SECUENCIACION.ipynb\" target=\"_parent\"><img src=\"https://colab.research.google.com/assets/colab-badge.svg\" alt=\"Open In Colab\"/></a>"
      ]
    },
    {
      "cell_type": "code",
      "execution_count": 1,
      "metadata": {
        "id": "gK14ABQQ89XU"
      },
      "outputs": [],
      "source": [
        "%matplotlib inline\n",
        "from __future__ import division\n",
        "import numpy as np\n",
        "np.set_printoptions(linewidth=200)\n",
        "import matplotlib.pyplot as plt\n",
        "import seaborn as sns"
      ]
    },
    {
      "cell_type": "code",
      "source": [
        "!apt-get install pymol"
      ],
      "metadata": {
        "colab": {
          "base_uri": "https://localhost:8080/"
        },
        "id": "0yBAWvZZ-0xG",
        "outputId": "f1eb3e39-712a-410a-bc74-bba5a4ada8f7"
      },
      "execution_count": 2,
      "outputs": [
        {
          "output_type": "stream",
          "name": "stdout",
          "text": [
            "Reading package lists... Done\n",
            "Building dependency tree... Done\n",
            "Reading state information... Done\n",
            "pymol is already the newest version (2.5.0+dfsg-1build1).\n",
            "0 upgraded, 0 newly installed, 0 to remove and 45 not upgraded.\n"
          ]
        }
      ]
    },
    {
      "cell_type": "code",
      "source": [
        "!cat /usr/share/pymol/data/pymol/matrices/BLOSUM62"
      ],
      "metadata": {
        "colab": {
          "base_uri": "https://localhost:8080/"
        },
        "id": "X0g-9Yz39Vil",
        "outputId": "6040018a-da41-48df-de8a-cd71d4fdc6ca"
      },
      "execution_count": 3,
      "outputs": [
        {
          "output_type": "stream",
          "name": "stdout",
          "text": [
            "#  Matrix made by matblas from blosum62.iij\n",
            "#  * column uses minimum score\n",
            "#  BLOSUM Clustered Scoring Matrix in 1/2 Bit Units\n",
            "#  Blocks Database = /data/blocks_5.0/blocks.dat\n",
            "#  Cluster Percentage: >= 62\n",
            "#  Entropy =   0.6979, Expected =  -0.5209\n",
            "   A  R  N  D  C  Q  E  G  H  I  L  K  M  F  P  S  T  W  Y  V  B  Z  X  *\n",
            "A  4 -1 -2 -2  0 -1 -1  0 -2 -1 -1 -1 -1 -2 -1  1  0 -3 -2  0 -2 -1  0 -4 \n",
            "R -1  5  0 -2 -3  1  0 -2  0 -3 -2  2 -1 -3 -2 -1 -1 -3 -2 -3 -1  0 -1 -4 \n",
            "N -2  0  6  1 -3  0  0  0  1 -3 -3  0 -2 -3 -2  1  0 -4 -2 -3  3  0 -1 -4 \n",
            "D -2 -2  1  6 -3  0  2 -1 -1 -3 -4 -1 -3 -3 -1  0 -1 -4 -3 -3  4  1 -1 -4 \n",
            "C  0 -3 -3 -3  9 -3 -4 -3 -3 -1 -1 -3 -1 -2 -3 -1 -1 -2 -2 -1 -3 -3 -2 -4 \n",
            "Q -1  1  0  0 -3  5  2 -2  0 -3 -2  1  0 -3 -1  0 -1 -2 -1 -2  0  3 -1 -4 \n",
            "E -1  0  0  2 -4  2  5 -2  0 -3 -3  1 -2 -3 -1  0 -1 -3 -2 -2  1  4 -1 -4 \n",
            "G  0 -2  0 -1 -3 -2 -2  6 -2 -4 -4 -2 -3 -3 -2  0 -2 -2 -3 -3 -1 -2 -1 -4 \n",
            "H -2  0  1 -1 -3  0  0 -2  8 -3 -3 -1 -2 -1 -2 -1 -2 -2  2 -3  0  0 -1 -4 \n",
            "I -1 -3 -3 -3 -1 -3 -3 -4 -3  4  2 -3  1  0 -3 -2 -1 -3 -1  3 -3 -3 -1 -4 \n",
            "L -1 -2 -3 -4 -1 -2 -3 -4 -3  2  4 -2  2  0 -3 -2 -1 -2 -1  1 -4 -3 -1 -4 \n",
            "K -1  2  0 -1 -3  1  1 -2 -1 -3 -2  5 -1 -3 -1  0 -1 -3 -2 -2  0  1 -1 -4 \n",
            "M -1 -1 -2 -3 -1  0 -2 -3 -2  1  2 -1  5  0 -2 -1 -1 -1 -1  1 -3 -1 -1 -4 \n",
            "F -2 -3 -3 -3 -2 -3 -3 -3 -1  0  0 -3  0  6 -4 -2 -2  1  3 -1 -3 -3 -1 -4 \n",
            "P -1 -2 -2 -1 -3 -1 -1 -2 -2 -3 -3 -1 -2 -4  7 -1 -1 -4 -3 -2 -2 -1 -2 -4 \n",
            "S  1 -1  1  0 -1  0  0  0 -1 -2 -2  0 -1 -2 -1  4  1 -3 -2 -2  0  0  0 -4 \n",
            "T  0 -1  0 -1 -1 -1 -1 -2 -2 -1 -1 -1 -1 -2 -1  1  5 -2 -2  0 -1 -1  0 -4 \n",
            "W -3 -3 -4 -4 -2 -2 -3 -2 -2 -3 -2 -3 -1  1 -4 -3 -2 11  2 -3 -4 -3 -2 -4 \n",
            "Y -2 -2 -2 -3 -2 -1 -2 -3  2 -1 -1 -2 -1  3 -3 -2 -2  2  7 -1 -3 -2 -1 -4 \n",
            "V  0 -3 -3 -3 -1 -2 -2 -3 -3  3  1 -2  1 -1 -2 -2  0 -3 -1  4 -3 -2 -1 -4 \n",
            "B -2 -1  3  4 -3  0  1 -1  0 -3 -4  0 -3 -3 -2  0 -1 -4 -3 -3  4  1 -1 -4 \n",
            "Z -1  0  0  1 -3  3  4 -2  0 -3 -3  1 -1 -3 -1  0 -1 -3 -2 -2  1  4 -1 -4 \n",
            "X  0 -1 -1 -1 -2 -1 -1 -1 -1 -1 -1 -1 -1 -1 -2  0  0 -2 -1 -1 -1 -1 -1 -4 \n",
            "* -4 -4 -4 -4 -4 -4 -4 -4 -4 -4 -4 -4 -4 -4 -4 -4 -4 -4 -4 -4 -4 -4 -4  1 \n"
          ]
        }
      ]
    },
    {
      "cell_type": "code",
      "source": [
        "BLOSUM62 = np.array([\n",
        "[ 4, -1, -2, -2,  0, -1, -1,  0, -2, -1, -1, -1, -1, -2, -1,  1,  0, -3, -2,  0],\n",
        "[-1,  5,  0, -2, -3,  1,  0, -2,  0, -3, -2,  2, -1, -3, -2, -1, -1, -3, -2, -3],\n",
        "[-2,  0,  6,  1, -3,  0,  0,  0,  1, -3, -3,  0, -2, -3, -2,  1,  0, -4, -2, -3],\n",
        "[-2, -2,  1,  6, -3,  0,  2, -1, -1, -3, -4, -1, -3, -3, -1,  0, -1, -4, -3, -3],\n",
        "[ 0, -3, -3, -3,  9, -3, -4, -3, -3, -1, -1, -3, -1, -2, -3, -1, -1, -2, -2, -1],\n",
        "[-1,  1,  0,  0, -3,  5,  2, -2,  0, -3, -2,  1,  0, -3, -1,  0, -1, -2, -1, -2],\n",
        "[-1,  0,  0,  2, -4,  2,  5, -2,  0, -3, -3,  1, -2, -3, -1,  0, -1, -3, -2, -2],\n",
        "[ 0, -2,  0, -1, -3, -2, -2,  6, -2, -4, -4, -2, -3, -3, -2,  0, -2, -2, -3, -3],\n",
        "[-2,  0,  1, -1, -3,  0,  0, -2,  8, -3, -3, -1, -2, -1, -2, -1, -2, -2,  2, -3],\n",
        "[-1, -3, -3, -3, -1, -3, -3, -4, -3,  4,  2, -3,  1,  0, -3, -2, -1, -3, -1,  3],\n",
        "[-1, -2, -3, -4, -1, -2, -3, -4, -3,  2,  4, -2,  2,  0, -3, -2, -1, -2, -1,  1],\n",
        "[-1,  2,  0, -1, -3,  1,  1, -2, -1, -3, -2,  5, -1, -3, -1,  0, -1, -3, -2, -2],\n",
        "[-1, -1, -2, -3, -1,  0, -2, -3, -2,  1,  2, -1,  5,  0, -2, -1, -1, -1, -1,  1],\n",
        "[-2, -3, -3, -3, -2, -3, -3, -3, -1,  0,  0, -3,  0,  6, -4, -2, -2,  1,  3, -1],\n",
        "[-1, -2, -2, -1, -3, -1, -1, -2, -2, -3, -3, -1, -2, -4,  7, -1, -1, -4, -3, -2],\n",
        "[ 1, -1,  1,  0, -1,  0,  0,  0, -1, -2, -2,  0, -1, -2, -1,  4,  1, -3, -2, -2],\n",
        "[ 0, -1,  0, -1, -1, -1, -1, -2, -2, -1, -1, -1, -1, -2, -1,  1,  5, -2, -2,  0],\n",
        "[-3, -3, -4, -4, -2, -2, -3, -2, -2, -3, -2, -3, -1,  1, -4, -3, -2, 11,  2, -3],\n",
        "[-2, -2, -2, -3, -2, -1, -2, -3,  2, -1, -1, -2, -1,  3, -3, -2, -2,  2,  7, -1],\n",
        "[ 0, -3, -3, -3, -1, -2, -2, -3, -3,  3,  1, -2,  1, -1, -2, -2,  0, -3, -1,  4]])\n",
        "\n",
        "mat_names ='ARNDCQEGHILKMFPSTWYV'"
      ],
      "metadata": {
        "id": "9BHTg8coALXm"
      },
      "execution_count": 4,
      "outputs": []
    },
    {
      "cell_type": "code",
      "source": [
        "seq1 = 'LIFAGKQLEDGRTLS'\n",
        "seq2 = 'QLIFAAPKQLPGRT'"
      ],
      "metadata": {
        "id": "KKAm1Vu_ANTo"
      },
      "execution_count": 5,
      "outputs": []
    },
    {
      "cell_type": "code",
      "source": [
        "n, m = 6, 6\n",
        "gap = -8\n",
        "scoring = np.zeros((n+1 ,m+1), int)\n",
        "scoring[0] = np.arange(n+1) * gap\n",
        "scoring[:,0] = np.arange(n+1) * gap\n",
        "print(scoring)\n"
      ],
      "metadata": {
        "colab": {
          "base_uri": "https://localhost:8080/"
        },
        "id": "gEEaRyKTAXpK",
        "outputId": "2dad8459-90b1-4a61-ed66-5aed4d2a6c68"
      },
      "execution_count": 6,
      "outputs": [
        {
          "output_type": "stream",
          "name": "stdout",
          "text": [
            "[[  0  -8 -16 -24 -32 -40 -48]\n",
            " [ -8   0   0   0   0   0   0]\n",
            " [-16   0   0   0   0   0   0]\n",
            " [-24   0   0   0   0   0   0]\n",
            " [-32   0   0   0   0   0   0]\n",
            " [-40   0   0   0   0   0   0]\n",
            " [-48   0   0   0   0   0   0]]\n"
          ]
        }
      ]
    },
    {
      "cell_type": "code",
      "source": [
        "def nw_matrices(seq1, seq2, mat=BLOSUM62, aa_mat=mat_names, gap=-8):\n",
        "    \"\"\"\n",
        "    Computes the Needleman-Wunsch's scoring and traceback matrices.\n",
        "\n",
        "    Parameters\n",
        "    ----------\n",
        "    seq1: String. One of the sequences to align\n",
        "    seq2: String. The other sequence to align\n",
        "    mat : Array. A substitution Matrix\n",
        "    aa_mat : List. Column and rows names of the substitution matrix\n",
        "    gap  : Int. Gap penalty\n",
        "\n",
        "    \"\"\"\n",
        "    l1, l2 = len(seq1), len(seq2)\n",
        "    # initialize scoring matrix and fill first row and first column with\n",
        "    # multiples of the gap penalty.\n",
        "    scoring = np.zeros((l1+1 ,l2+1), int)\n",
        "    scoring[0] = np.arange(l2+1) * gap\n",
        "    scoring[:,0] = np.arange( l1+1) * gap\n",
        "    # create traceback matrix, fill first row with ones\n",
        "    traceback = np.zeros( (l1+1 ,l2+1), int)\n",
        "    traceback[0] = np.ones(l2+1)\n",
        "    # fill the scoring and traceback matrix\n",
        "    f = [0, 0, 0]\n",
        "    for i in range(1, l1+1):\n",
        "        res_i = aa_mat.index(seq1[i-1])\n",
        "        for j in range(1, l2+1):\n",
        "            res_j = aa_mat.index(seq2[j-1])\n",
        "            # compute the values for a mismatch in either sequence\n",
        "            f[0] = scoring[i-1, j] + gap\n",
        "            f[1] = scoring[i, j-1] + gap\n",
        "            # compute the values for a match.\n",
        "            f[2] = scoring[i-1,j-1] + mat[res_i, res_j]\n",
        "            score = max(f)\n",
        "            scoring[i,j] = score\n",
        "            traceback[i,j] = f.index(score)\n",
        "    return scoring, traceback\n"
      ],
      "metadata": {
        "id": "2qfS0x_PAubg"
      },
      "execution_count": 7,
      "outputs": []
    },
    {
      "cell_type": "code",
      "source": [
        "nw_scoring, nw_traceback = nw_matrices(seq1, seq2)\n",
        "print(nw_scoring)\n",
        "print(nw_traceback)"
      ],
      "metadata": {
        "colab": {
          "base_uri": "https://localhost:8080/"
        },
        "id": "o8SCjMVtAwWi",
        "outputId": "1d19882b-cd5c-4012-8d39-33c56271b487"
      },
      "execution_count": 8,
      "outputs": [
        {
          "output_type": "stream",
          "name": "stdout",
          "text": [
            "[[   0   -8  -16  -24  -32  -40  -48  -56  -64  -72  -80  -88  -96 -104 -112]\n",
            " [  -8   -2   -4  -12  -20  -28  -36  -44  -52  -60  -68  -76  -84  -92 -100]\n",
            " [ -16  -10    0    0   -8  -16  -24  -32  -40  -48  -56  -64  -72  -80  -88]\n",
            " [ -24  -18   -8    0    6   -2  -10  -18  -26  -34  -42  -50  -58  -66  -74]\n",
            " [ -32  -25  -16   -8   -2   10    2   -6  -14  -22  -30  -38  -46  -54  -62]\n",
            " [ -40  -33  -24  -16  -10    2   10    2   -6  -14  -22  -30  -32  -40  -48]\n",
            " [ -48  -39  -32  -24  -18   -6    2    9    7   -1   -9  -17  -25  -30  -38]\n",
            " [ -56  -43  -40  -32  -26  -14   -6    1   10   12    4   -4  -12  -20  -28]\n",
            " [ -64  -51  -39  -38  -32  -22  -14   -7    2    8   16    8    0   -8  -16]\n",
            " [ -72  -59  -47  -42  -40  -30  -22  -15   -6    4    8   15    7    0   -8]\n",
            " [ -80  -67  -55  -50  -45  -38  -30  -23  -14   -4    0    7   14    6   -1]\n",
            " [ -88  -75  -63  -58  -53  -45  -38  -31  -22  -12   -8   -1   13   12    4]\n",
            " [ -96  -83  -71  -66  -61  -53  -46  -39  -29  -20  -14   -9    5   18   11]\n",
            " [-104  -91  -79  -72  -68  -61  -53  -47  -37  -28  -21  -15   -3   10   23]\n",
            " [-112  -99  -87  -77  -72  -69  -61  -55  -45  -36  -24  -23  -11    2   15]\n",
            " [-120 -107  -95  -85  -79  -71  -68  -62  -53  -44  -32  -25  -19   -6    7]]\n",
            "[[1 1 1 1 1 1 1 1 1 1 1 1 1 1 1]\n",
            " [0 2 2 1 1 1 1 1 1 1 1 1 1 1 1]\n",
            " [0 0 2 2 1 1 1 1 1 1 1 1 1 1 1]\n",
            " [0 0 0 2 2 1 1 1 1 1 1 1 1 1 1]\n",
            " [0 2 0 0 0 2 1 1 1 1 1 1 1 1 1]\n",
            " [0 0 0 0 0 0 2 1 1 1 1 1 2 1 1]\n",
            " [0 2 0 0 0 0 0 2 2 1 1 1 1 2 1]\n",
            " [0 2 0 0 0 0 0 0 2 2 1 1 1 1 1]\n",
            " [0 0 2 2 2 0 0 0 0 2 2 1 1 1 1]\n",
            " [0 0 0 2 0 0 0 0 0 2 0 2 1 2 1]\n",
            " [0 0 0 0 2 0 0 0 0 0 0 0 2 1 2]\n",
            " [0 0 0 0 0 2 0 0 0 0 0 0 2 2 1]\n",
            " [0 0 0 0 0 0 0 0 2 0 2 0 0 2 2]\n",
            " [0 0 0 2 2 0 2 0 0 0 2 2 0 0 2]\n",
            " [0 0 0 2 2 0 0 0 0 0 2 0 0 0 0]\n",
            " [0 0 0 0 2 2 2 2 0 0 0 2 0 0 0]]\n"
          ]
        }
      ]
    },
    {
      "cell_type": "code",
      "source": [
        "def nw_backtrace(seq1, seq2, scoring=nw_scoring, traceback=nw_traceback):\n",
        "    \"\"\"\n",
        "    Perform the Needleman-Wunsch's backtrace and returns the aligned\n",
        "    sequences and the scoring of the alignment.\n",
        "\n",
        "    Parameters\n",
        "    ----------\n",
        "    seq1: String. One of the sequences to align\n",
        "    seq2: String. The other sequence to align\n",
        "    scoring : Array. Scoring matrix computed with nw_matrices\n",
        "    traceback : Array. Traceback matrix computed with nw_matrices\n",
        "\n",
        "    \"\"\"\n",
        "    st1 = ''\n",
        "    st2 = ''\n",
        "    i, j = traceback.shape\n",
        "    i -= 1\n",
        "    j -= 1\n",
        "    max_score = scoring[i, j]\n",
        "    while True:\n",
        "        if traceback[i,j] == 0:\n",
        "            st1 += seq1[i-1]\n",
        "            st2 += '-'\n",
        "            i -= 1\n",
        "        elif traceback[i,j] == 1:\n",
        "            st1 += '-'\n",
        "            st2 += seq2[j-1]\n",
        "            j -= 1\n",
        "        elif traceback[i,j] == 2:\n",
        "            st1 += seq1[i-1]\n",
        "            st2 += seq2[j-1]\n",
        "            i -= 1\n",
        "            j -= 1\n",
        "        if i == 0 and j == 0:\n",
        "            break\n",
        "    # reverse the strings\n",
        "    st1 = st1[::-1]\n",
        "    st2 = st2[::-1]\n",
        "\n",
        "    return st1, st2, max_score"
      ],
      "metadata": {
        "id": "EqtWZU5fAwNK"
      },
      "execution_count": 9,
      "outputs": []
    },
    {
      "cell_type": "code",
      "source": [
        "seq1_aln, seq2_aln, max_score = nw_backtrace(seq1, seq2)\n",
        "\n",
        "print (seq1_aln)\n",
        "print (seq2_aln)\n",
        "max_score\n"
      ],
      "metadata": {
        "colab": {
          "base_uri": "https://localhost:8080/"
        },
        "id": "jXKJI39dBdNa",
        "outputId": "ddfa6f2f-f85c-49e1-c52f-69dc03c7deec"
      },
      "execution_count": 10,
      "outputs": [
        {
          "output_type": "stream",
          "name": "stdout",
          "text": [
            "-LIFAG-KQLEDGRTLS\n",
            "QLIFAAPKQLP-GRT--\n"
          ]
        },
        {
          "output_type": "execute_result",
          "data": {
            "text/plain": [
              "7"
            ]
          },
          "metadata": {},
          "execution_count": 10
        }
      ]
    },
    {
      "cell_type": "code",
      "source": [
        "def sw_matrices(seq1, seq2, mat=BLOSUM62, aa_mat=mat_names, gap=-8):\n",
        "    \"\"\"\n",
        "    Computes the Smith-Waterman's scoring and traceback matrices.\n",
        "\n",
        "    Parameters\n",
        "    ----------\n",
        "    seq1: String. One of the sequences to align\n",
        "    seq2: String. The other sequence to align\n",
        "    mat : Array. Substitution Matrix\n",
        "    aa_mat : List. Column and rows names of the substitution matrix\n",
        "    gap  : Int. Gap penalty\n",
        "\n",
        "    \"\"\"\n",
        "    l1, l2 = len(seq1), len(seq2)\n",
        "    # initialize scoring matrix with zeros\n",
        "    scoring = np.zeros((l1+1 ,l2+1), int)\n",
        "    # create traceback matrix, fill first row with ones\n",
        "    traceback = np.zeros((l1+1 ,l2+1), int)\n",
        "    traceback[0] = np.ones(l2+1)\n",
        "    # f matrix 4 values, the last one is always zero, as a result\n",
        "    # no negative numbers are accepted\n",
        "    f = [0, 0, 0, 0]\n",
        "    # fill the scoring and traceback matrix\n",
        "    for i in range(1, l1+1):\n",
        "        res_i = aa_mat.index(seq1[i-1])\n",
        "        for j in range(1, l2+1):\n",
        "            res_j = aa_mat.index(seq2[j-1])\n",
        "            # compute the values for a mismatch in either sequence\n",
        "            f[0] = scoring[i-1, j] + gap\n",
        "            f[1] = scoring[i, j-1] + gap\n",
        "            # compute the values for a match.\n",
        "            f[2] = scoring[i-1,j-1] + mat[res_i, res_j]\n",
        "            score = max(f)\n",
        "            scoring[i,j] = score\n",
        "            traceback[i,j] = f.index(score)\n",
        "    return scoring, traceback"
      ],
      "metadata": {
        "id": "_SPWU57rB0kM"
      },
      "execution_count": 11,
      "outputs": []
    },
    {
      "cell_type": "code",
      "source": [
        "sw_scoring, sw_traceback = sw_matrices(seq1, seq2)\n",
        "print (sw_scoring)\n",
        "print (sw_traceback)"
      ],
      "metadata": {
        "colab": {
          "base_uri": "https://localhost:8080/"
        },
        "id": "758n2mDpB2sz",
        "outputId": "86e88def-356f-4e48-c625-a4c0180f2087"
      },
      "execution_count": 47,
      "outputs": [
        {
          "output_type": "stream",
          "name": "stdout",
          "text": [
            "[[ 0  0  0  0  0  0  0  0  0  0  0  0  0  0  0]\n",
            " [ 0  0  4  2  0  0  0  0  0  0  4  0  0  0  0]\n",
            " [ 0  0  2  8  2  0  0  0  0  0  2  1  0  0  0]\n",
            " [ 0  0  0  2 14  6  0  0  0  0  0  0  0  0  0]\n",
            " [ 0  0  0  0  6 18 10  2  0  0  0  0  0  0  0]\n",
            " [ 0  0  0  0  0 10 18 10  2  0  0  0  6  0  0]\n",
            " [ 0  1  0  0  0  2 10 17 15  7  0  0  0  8  0]\n",
            " [ 0  5  0  0  0  0  2  9 18 20 12  4  0  1  7]\n",
            " [ 0  0  9  2  0  0  0  1 10 16 24 16  8  0  0]\n",
            " [ 0  2  1  6  0  0  0  0  2 12 16 23 15  8  0]\n",
            " [ 0  0  0  0  3  0  0  0  0  4  8 15 22 14  7]\n",
            " [ 0  0  0  0  0  3  0  0  0  0  0  7 21 20 12]\n",
            " [ 0  1  0  0  0  0  2  0  2  1  0  0 13 26 19]\n",
            " [ 0  0  0  0  0  0  0  1  0  1  0  0  5 18 31]\n",
            " [ 0  0  4  2  0  0  0  0  0  0  5  0  0 10 23]\n",
            " [ 0  0  0  2  0  1  1  0  0  0  0  4  0  2 15]]\n",
            "[[1 1 1 1 1 1 1 1 1 1 1 1 1 1 1]\n",
            " [0 3 2 2 2 3 3 3 3 3 2 3 3 3 3]\n",
            " [0 3 2 2 2 3 3 3 3 3 2 2 3 3 3]\n",
            " [0 3 2 2 2 1 3 3 3 3 2 3 3 3 3]\n",
            " [0 3 3 3 0 2 1 1 3 3 3 3 2 3 2]\n",
            " [0 3 3 3 3 0 2 1 1 3 3 3 2 3 3]\n",
            " [0 2 3 3 3 0 0 2 2 1 3 3 3 2 1]\n",
            " [0 2 3 3 3 3 0 0 2 2 1 1 3 2 2]\n",
            " [0 3 2 2 2 3 3 0 0 2 2 1 1 1 2]\n",
            " [0 2 0 2 3 3 3 3 0 2 0 2 1 2 1]\n",
            " [0 2 3 3 2 3 3 3 3 0 0 0 2 1 2]\n",
            " [0 3 3 3 3 2 2 3 3 3 0 0 2 2 1]\n",
            " [0 2 3 3 3 3 2 3 2 2 3 3 0 2 2]\n",
            " [0 3 2 3 3 2 2 2 3 2 2 3 0 0 2]\n",
            " [0 3 2 2 2 3 3 3 3 3 2 3 3 0 0]\n",
            " [0 2 3 2 2 2 2 3 2 2 3 2 2 0 0]]\n"
          ]
        }
      ]
    },
    {
      "cell_type": "code",
      "source": [
        "def sw_backtrace(seq1, seq2, scoring=sw_scoring, traceback=sw_traceback):\n",
        "    \"\"\"\n",
        "    Perform the Smith-Waterman's backtrace and returns the aligned\n",
        "    sequences and the scoring of the alignment.\n",
        "\n",
        "    Parameters\n",
        "    ----------\n",
        "    seq1: String. One of the sequences to align\n",
        "    seq2: String. The other sequence to align\n",
        "    scoring : Array. Scoring matrix computed with sw_matrices\n",
        "    traceback : Array. Traceback matrix computed with sw_matrices\n",
        "\n",
        "    \"\"\"\n",
        "    st1 = ''\n",
        "    st2 = ''\n",
        "    max_score = scoring.max()\n",
        "    i, j = np.where(scoring == max_score)\n",
        "    i = int(i)\n",
        "    j = int(j)\n",
        "    while True:\n",
        "        if traceback[i,j] == 0:\n",
        "            st1 += seq1[i-1]\n",
        "            st2 += '-'\n",
        "            i -= 1\n",
        "        elif traceback[i,j] == 1:\n",
        "            st1 += '-'\n",
        "            st2 += seq2[j-1]\n",
        "            j -= 1\n",
        "        elif traceback[i,j] == 2:\n",
        "            st1 += seq1[i-1]\n",
        "            st2 += seq2[j-1]\n",
        "            i -= 1\n",
        "            j -= 1\n",
        "        if i == 0 and j == 0 or scoring[i, j] == 0:\n",
        "            break\n",
        "    # reverse the strings\n",
        "    st1 = st1[::-1]\n",
        "    st2 = st2[::-1]\n",
        "    return st1, st2, max_score"
      ],
      "metadata": {
        "id": "aEz2FxkaCBW5"
      },
      "execution_count": 13,
      "outputs": []
    },
    {
      "cell_type": "code",
      "source": [
        "seq1_aln, seq2_aln, max_score = sw_backtrace(seq1, seq2)\n",
        "\n",
        "print (seq1_aln)\n",
        "print (seq2_aln)\n",
        "max_score\n"
      ],
      "metadata": {
        "colab": {
          "base_uri": "https://localhost:8080/"
        },
        "id": "SPDxAuRqCGDV",
        "outputId": "95059332-b187-4262-c616-f0d229df2fd7"
      },
      "execution_count": 14,
      "outputs": [
        {
          "output_type": "stream",
          "name": "stdout",
          "text": [
            "LIFAG-KQLEDGRT\n",
            "LIFAAPKQLP-GRT\n"
          ]
        },
        {
          "output_type": "stream",
          "name": "stderr",
          "text": [
            "<ipython-input-13-2632f3c3502e>:18: DeprecationWarning: Conversion of an array with ndim > 0 to a scalar is deprecated, and will error in future. Ensure you extract a single element from your array before performing this operation. (Deprecated NumPy 1.25.)\n",
            "  i = int(i)\n",
            "<ipython-input-13-2632f3c3502e>:19: DeprecationWarning: Conversion of an array with ndim > 0 to a scalar is deprecated, and will error in future. Ensure you extract a single element from your array before performing this operation. (Deprecated NumPy 1.25.)\n",
            "  j = int(j)\n"
          ]
        },
        {
          "output_type": "execute_result",
          "data": {
            "text/plain": [
              "31"
            ]
          },
          "metadata": {},
          "execution_count": 14
        }
      ]
    },
    {
      "cell_type": "markdown",
      "source": [
        "EXPLOSIÓN\n",
        "\n",
        "La herramienta básica de búsqueda de alineación local (BLAST) es un algoritmo para buscar secuencias en grandes bases de datos. En lugar de realizar una alineación completa como con el algoritmo Smith-Waterman (lento), BLAST utiliza un método heurístico (y rápido). La velocidad es vital para que este algoritmo sea práctico dadas las enormes bases de datos de secuencias biológicas disponibles actualmente. Incluso cuando BLAST no puede garantizar alineaciones óptimas, proporciona una precisión relativamente buena.\n",
        "\n",
        "No estudiaremos el algoritmo BLAST, pero lo mencionamos aquí por su importancia y porque está relacionado con los algoritmos Needleman-Wunsch y Smith-Waterman.\n",
        "Estrategias para el alineamiento de secuencias múltiples.\n",
        "\n",
        "La alineación de secuencias múltiples (MSA) es la generalización de la alineación por pares a más de dos secuencias. Como puedes imaginar, MSA no es tan sencillo como alinear dos secuencias. Un enfoque ingenuo para producir un MSA utiliza la técnica de programación dinámica para identificar la solución de alineación óptima global. Por lo tanto, para\n",
        "secuencias individuales, este método ingenuo requiere la construcción del equivalente de la matriz utilizada en la alineación de secuencias por pares estándar. Por lo tanto, el espacio de búsqueda aumenta exponencialmente al aumentar\n",
        "\n",
        "y también depende en gran medida de la longitud de la secuencia.\n",
        "\n",
        "Para encontrar el óptimo global para\n",
        "Se ha demostrado que las secuencias de esta manera son un problema NP-completo."
      ],
      "metadata": {
        "id": "XsNf7PFPFscP"
      }
    },
    {
      "cell_type": "markdown",
      "source": [
        "Construcción de alineación progresiva (enfoque codicioso)\n",
        "\n",
        "Este es el método más utilizado para generar múltiples alineamientos de secuencias. Es una búsqueda heurística, que comienza calculando todas las alineaciones por pares posibles, luego se determina un árbol guía mediante un método de agrupamiento eficiente como la unión de vecinos o UPGMA (ver a continuación). El árbol guía se utiliza para guiar la construcción de MSA. El MSA final se obtiene combinando primero el par más similar y avanzando hacia los menos similares.\n",
        "\n",
        "No se garantiza que las alineaciones progresivas sean globalmente óptimas. La razón principal es que los errores cometidos en cualquier etapa se propagan hasta el resultado final. El rendimiento también es particularmente malo cuando todas las secuencias del set están relacionadas de manera bastante lejana.\n",
        "Métodos iterativos (enfoque no codicioso)\n",
        "\n",
        "Los métodos iterativos son métodos que, a diferencia del método progresivo, permiten realineamientos, es decir, los alineamientos realizados en etapas anteriores se pueden modificar. Este método proporciona resultados más precisos a costa de consumir más recursos computacionales. Hay varias formas de implementar estos métodos iterativos; una posibilidad es utilizar técnicas de optimización estándar como algoritmos genéticos y recocido simulado (explicaremos estas técnicas en el capítulo final), otra posibilidad es utilizar modelos ocultos de Markov, que son modelos probabilísticos y se pueden aplicar a un gran conjunto de problemas. En el contexto de MSA, HMM se puede utilizar para asignar probabilidades a todas las combinaciones posibles de brechas, coincidencias y desajustes para determinar la MSA o el conjunto de MSA posibles más probable. Discutiremos HMM en el próximo capítulo en el contexto de la predicción de estructuras secundarias.\n",
        "Filogenética molecular computacional\n",
        "\n",
        "Un árbol filogenético es un modelo que muestra las relaciones evolutivas inferidas entre un conjunto de especies biológicas (o biomoléculas, genes o poblaciones). Las hojas (o nodos externos) del árbol representan nuestros datos actuales (por ejemplo, especies existentes) y los nodos internos representan los ancestros comunes inferidos.\n",
        "\n",
        "Existen diferentes métodos para construir tales árboles."
      ],
      "metadata": {
        "id": "HKg0ZyujFt3M"
      }
    },
    {
      "cell_type": "markdown",
      "source": [
        "Métodos basados ​​en la distancia\n",
        "\n",
        "En este tipo de métodos, un árbol se deriva de una matriz de distancias de distancias por pares. Luego se utiliza un algoritmo de agrupamiento como UPGMA (método de grupos de pares no ponderados que utiliza promedios aritméticos) o unión de vecinos. La ventaja de los métodos a distancia es que son computacionalmente rápidos. Por otro lado, estos métodos no tienen la flexibilidad de los métodos estadísticos.\n",
        "Métodos basados ​​en caracteres.\n",
        "\n",
        "En lugar de utilizar una métrica global como la distancia para agrupar los datos, estos métodos utilizan un criterio de optimización (una función objetivo) para medir qué tan bien se ajustan los árboles propuestos a los datos disponibles.\n",
        "Máxima parsimonia\n",
        "\n",
        "La máxima parsimonia es un método para identificar el árbol filogenético que requiere el menor número de eventos evolutivos (cambios de carácter) para explicar los datos observados.\n",
        "\n",
        "La forma más ingenua de identificar el árbol más parsimonioso es mediante la fuerza bruta (enumerar cada árbol posible e identificar el que tiene la puntuación más pequeña). Sin embargo, esto sólo es posible para un número relativamente pequeño de especies; de hecho, se sabe que el problema de identificar el árbol más parsimonioso es NP-duro, por lo que se han desarrollado varios métodos de búsqueda heurística. La mayoría de estos métodos implican un mecanismo de minimización de estilo de descenso más pronunciado que opera según un criterio de reordenamiento de árboles.\n",
        "Máxima verosimilitud y estadística bayesiana\n",
        "\n",
        "Los métodos bayesianos y de máxima verosimilitud utilizan técnicas estadísticas estándar para inferir árboles filogenéticos. Ambos métodos utilizan modelos de sustitución para asignar probabilidades a los árboles. En términos generales, cuantas más mutaciones se necesiten para explicar el árbol, menor será la probabilidad que tendrá un árbol. La principal ventaja de los métodos estadísticos es su flexibilidad para construir modelos que tengan en cuenta diferentes tasas de evolución entre linajes y sitios. Además, los métodos bayesianos se pueden utilizar para incluir más información a través de la definición de un previo adecuado."
      ],
      "metadata": {
        "id": "EMvmi8LfF23b"
      }
    },
    {
      "cell_type": "markdown",
      "source": [
        "Agrupación cluster\n",
        "\n",
        "La agrupación consiste en agrupar un conjunto de objetos en subconjuntos de manera que todos los elementos dentro de un grupo sean más similares entre ellos que entre sí. De esta definición resulta obvio que la definición de similitud afectará los resultados. Hay muchas situaciones en las que queremos agrupar nuestros datos, clasificar proteínas por su estructura, encontrar la historia evolutiva de secuencias/especies, entender por qué ciertos compuestos son buenos antibióticos y otros no, agrupar personas por intereses similares, etc. .\n",
        "Vecino uniéndose\n",
        "\n",
        "La unión de vecinos es un método de agrupación diseñado específicamente para la creación de árboles filogenéticos. Probablemente sea el algoritmo basado en distancia más utilizado. La unión de vecinos utiliza un enfoque aglomerativo (o ascendente) para la agrupación. Al igual que otros métodos aglomerativos se puede resumir en cuatro pasos:\n",
        "\n",
        "    Elija el par de nodos con mayor similitud\n",
        "    Fusionar el par en un nuevo nodo/clúster\n",
        "    Calcule las distancias entre el nuevo nodo y los nodos existentes anteriores.\n",
        "    Repita el procedimiento hasta que solo quede un nodo.\n",
        "\n",
        "La unión de vecinos puede verse como un algoritmo codicioso para encontrar una topología que minimice la longitud del árbol. La unión de vecinos en cada paso une con avidez el par de nodos que darán la mayor disminución en la longitud estimada del árbol. Aunque no se garantiza que este procedimiento encuentre la topología óptima (según este criterio), a menudo lo hace y, en general, está bastante cerca.\n",
        "\n",
        "La unión de vecinos requiere como entrada una matriz de distancias, de acuerdo con algún método de estimación de distancias. Al principio todos los nodos se juntan en un árbol de estrellas. El primer paso es elegir el par de nodos con mayor similitud, esto se hace calculando la matriz Q y encontrando el valor más pequeño en ella."
      ],
      "metadata": {
        "id": "BBpOTWB6F_xy"
      }
    },
    {
      "cell_type": "markdown",
      "source": [
        "Comencemos definiendo una matriz de distancias arbitraria."
      ],
      "metadata": {
        "id": "1hnZlSqZGYYd"
      }
    },
    {
      "cell_type": "markdown",
      "source": [],
      "metadata": {
        "id": "LYuSSsWtGYUo"
      }
    },
    {
      "cell_type": "code",
      "source": [
        "dist_matrix = np.array([\n",
        "[ 0, 5, 9, 9, 8],\n",
        "[ 5, 0,10,10, 9],\n",
        "[ 9,10, 0, 8, 7],\n",
        "[ 9,10, 8, 0, 3],\n",
        "[ 8, 9, 7, 3, 0]])\n"
      ],
      "metadata": {
        "id": "aPerawuOGieO"
      },
      "execution_count": 15,
      "outputs": []
    },
    {
      "cell_type": "code",
      "source": [
        "def nb_joining(d_mat):\n",
        "    \"\"\"\n",
        "    \"\"\"\n",
        "\n",
        "    n = len(d_mat)\n",
        "    if n == 2:\n",
        "        #print d_mat\n",
        "        return d_mat"
      ],
      "metadata": {
        "id": "z056GvOtIfTy"
      },
      "execution_count": 16,
      "outputs": []
    },
    {
      "source": [
        "dist_matrix = np.array([\n",
        "[ 0, 5, 9, 9, 8],\n",
        "[ 5, 0,10,10, 9],\n",
        "[ 9,10, 0, 8, 7],\n",
        "[ 9,10, 8, 0, 3],\n",
        "[ 8, 9, 7, 3, 0]])\n",
        "\n",
        "net_div = np.array([np.sum(dist_matrix, axis=1)]) # Use the dist_matrix variable directly\n",
        "print(net_div)"
      ],
      "cell_type": "code",
      "metadata": {
        "colab": {
          "base_uri": "https://localhost:8080/"
        },
        "id": "vJkGk5j0JlIv",
        "outputId": "0efed5c1-47df-418b-ed23-02214d44b459"
      },
      "execution_count": 17,
      "outputs": [
        {
          "output_type": "stream",
          "name": "stdout",
          "text": [
            "[[31 34 34 30 27]]\n"
          ]
        }
      ]
    },
    {
      "cell_type": "markdown",
      "source": [
        "Cambios sugeridos\n",
        "\n",
        "Es difícil proporcionar una solución específica sin saber qué se supone que representa q_mat en su código. Sin embargo, aquí hay un enfoque general para resolver este problema:\n",
        "\n",
        "Calcular o cargar q_mat:\n",
        "    Si q_mat es el resultado de un cálculo, debe incluir el código que lo calcula antes de la línea que causa el error.\n",
        "    Si q_mat está almacenado en un archivo, debe cargarlo utilizando las bibliotecas apropiadas como NumPy o Pandas."
      ],
      "metadata": {
        "id": "Zn2uB9coKiQz"
      }
    },
    {
      "cell_type": "code",
      "source": [
        "#lw = np.unravel_index(np.argmin(q_mat), np.shape(q_mat))"
      ],
      "metadata": {
        "id": "L0aYHGWrJ0Ev"
      },
      "execution_count": 18,
      "outputs": []
    },
    {
      "cell_type": "markdown",
      "source": [
        "Suggested Changes\n",
        "\n",
        "It's difficult to provide a specific fix without knowing what q_mat is supposed to represent in your code. However, here's a general approach to resolve this issue:\n",
        "\n",
        "    Calculate or Load q_mat:\n",
        "        If q_mat is the result of a calculation, you need to include the code that computes it before the line causing the error.\n",
        "        If q_mat is stored in a file, you need to load it using appropriate libraries like NumPy or Pandas.\n"
      ],
      "metadata": {
        "id": "omqW7kmqKLAQ"
      }
    },
    {
      "cell_type": "markdown",
      "source": [],
      "metadata": {
        "id": "YDgUMQz-KSOY"
      }
    },
    {
      "source": [
        "import numpy as np\n",
        "\n",
        "# Example: Calculate q_mat as a distance matrix (replace with your actual calculation)\n",
        "dist_matrix = np.array([\n",
        "[ 0, 5, 9, 9, 8],\n",
        "[ 5, 0,10,10, 9],\n",
        "[ 9,10, 0, 8, 7],\n",
        "[ 9,10, 8, 0, 3],\n",
        "[ 8, 9, 7, 3, 0]])\n",
        "q_mat = dist_matrix\n",
        "\n",
        "# Now you can use q_mat\n",
        "lw = np.unravel_index(np.argmin(q_mat), np.shape(q_mat))\n",
        "print(lw)"
      ],
      "cell_type": "code",
      "metadata": {
        "colab": {
          "base_uri": "https://localhost:8080/"
        },
        "id": "zndczvL-KDlu",
        "outputId": "3fb1a13b-7ec9-4902-d07a-bc73fb1f965c"
      },
      "execution_count": 19,
      "outputs": [
        {
          "output_type": "stream",
          "name": "stdout",
          "text": [
            "(0, 0)\n"
          ]
        }
      ]
    },
    {
      "cell_type": "code",
      "source": [
        "# Distance from the pair members to the new node\n",
        "d_ij = 0.5 * q_mat[lw] \\\n",
        "+ 1/(2*(n-2)) * (np.sum(q_mat[lw[0]]) - np.sum(q_mat[lw[1]]))\n",
        "d_ji = q_mat[lw] - d_ij"
      ],
      "metadata": {
        "id": "NW_k0kLJKurV"
      },
      "execution_count": 24,
      "outputs": []
    },
    {
      "cell_type": "code",
      "source": [
        "print (d_ij)"
      ],
      "metadata": {
        "colab": {
          "base_uri": "https://localhost:8080/"
        },
        "id": "bzU9Zeb2LjtB",
        "outputId": "02bc7af2-4b6c-4fc5-a109-4a9941504387"
      },
      "execution_count": 25,
      "outputs": [
        {
          "output_type": "stream",
          "name": "stdout",
          "text": [
            "0.0\n"
          ]
        }
      ]
    },
    {
      "cell_type": "markdown",
      "source": [
        "Hypothesis\n",
        "\n",
        "The error \"ValueError: could not broadcast input array from shape (4,) into shape (5,)\" arises because you're attempting to assign an array of shape (4,) to a slice of new_d_mat that expects a shape of (5,). This mismatch occurs because the dimensions of the arrays involved are not compatible for broadcasting. Specifically, new_node_d[1:] has shape (4,) while new_d_mat[0] expects an array of shape (5,). This suggests that there might be an issue with the way new_d_mat is initialized or the way new_node_d is sliced.\n",
        "Suggested Changes\n"
      ],
      "metadata": {
        "id": "wbWiYwfyM24p"
      }
    },
    {
      "source": [
        "# Compute a new distance-matrix using the new node\n",
        "# Define d_mat here with the actual distance matrix values\n",
        "d_mat = np.array([\n",
        "[ 0, 5, 9, 9, 8],\n",
        "[ 5, 0,10,10, 9],\n",
        "[ 9,10, 0, 8, 7],\n",
        "[ 9,10, 8, 0, 3],\n",
        "[ 8, 9, 7, 3, 0]])  # Replace with your actual distance matrix\n",
        "\n",
        "new_node_d = 0.5 * (d_mat[lw[0]] + d_mat[lw[1]] - d_mat[lw])\n",
        "d_mat = np.delete(d_mat, lw, axis=0)\n",
        "d_mat = np.delete(d_mat, lw, axis=1)\n",
        "\n",
        "# Adjust the size of new_d_mat to (n-1, n-1)\n",
        "new_d_mat = np.zeros((n-1, n-1))\n",
        "\n",
        "# Assign values to new_d_mat, accounting for the removed nodes\n",
        "new_d_mat[0, 1:] = new_node_d[1:] # Assign to the correct slice\n",
        "new_d_mat[1:, 0] = new_node_d[1:]\n",
        "new_d_mat[1:,1:] = d_mat\n",
        "print (new_d_mat)"
      ],
      "cell_type": "code",
      "metadata": {
        "colab": {
          "base_uri": "https://localhost:8080/"
        },
        "id": "LyE51KoiMpw_",
        "outputId": "ddd313a4-11dc-4ae6-ac4f-9aba8c197206"
      },
      "execution_count": 30,
      "outputs": [
        {
          "output_type": "stream",
          "name": "stdout",
          "text": [
            "[[ 0.  5.  9.  9.  8.]\n",
            " [ 5.  0. 10. 10.  9.]\n",
            " [ 9. 10.  0.  8.  7.]\n",
            " [ 9. 10.  8.  0.  3.]\n",
            " [ 8.  9.  7.  3.  0.]]\n"
          ]
        }
      ]
    },
    {
      "cell_type": "code",
      "source": [
        " nb_joining(new_d_mat)"
      ],
      "metadata": {
        "id": "QFV5u5AML1oJ"
      },
      "execution_count": 31,
      "outputs": []
    },
    {
      "cell_type": "code",
      "source": [
        "print (new_d_mat)\n"
      ],
      "metadata": {
        "colab": {
          "base_uri": "https://localhost:8080/"
        },
        "id": "DdZxitssM_kQ",
        "outputId": "1e430ded-8744-4134-c0ab-d6c92a336ca5"
      },
      "execution_count": 32,
      "outputs": [
        {
          "output_type": "stream",
          "name": "stdout",
          "text": [
            "[[ 0.  5.  9.  9.  8.]\n",
            " [ 5.  0. 10. 10.  9.]\n",
            " [ 9. 10.  0.  8.  7.]\n",
            " [ 9. 10.  8.  0.  3.]\n",
            " [ 8.  9.  7.  3.  0.]]\n"
          ]
        }
      ]
    },
    {
      "source": [
        "import numpy as np\n",
        "\n",
        "# Directly assign the data to a NumPy array\n",
        "data = np.array([[0.,  5.,  9.,  9.,  8.],\n",
        "                 [5.,  0., 10., 10.,  9.],\n",
        "                 [9., 10.,  0.,  8.,  7.],\n",
        "                 [9., 10.,  8.,  0.,  3.],\n",
        "                 [8.,  9.,  7.,  3.,  0.]])\n",
        "\n",
        "print(data)"
      ],
      "cell_type": "code",
      "metadata": {
        "id": "4Xx_s9BxOPb1"
      },
      "execution_count": null,
      "outputs": []
    },
    {
      "source": [
        "import numpy as np\n",
        "\n",
        "# Directly assign the data to a NumPy array\n",
        "data = np.array([[0.,  5.,  9.,  9.,  8.],\n",
        "                 [5.,  0., 10., 10.,  9.],\n",
        "                 [9., 10.,  0.,  8.,  7.],\n",
        "                 [9., 10.,  8.,  0.,  3.],\n",
        "                 [8.,  9.,  7.,  3.,  0.]])\n",
        "\n",
        "print(data)"
      ],
      "cell_type": "code",
      "metadata": {
        "colab": {
          "base_uri": "https://localhost:8080/"
        },
        "id": "ZfZu-TWNOPgY",
        "outputId": "2fed6d0b-49e7-459e-ffb4-9a1ed7d7da71"
      },
      "execution_count": 39,
      "outputs": [
        {
          "output_type": "stream",
          "name": "stdout",
          "text": [
            "[[ 0.  5.  9.  9.  8.]\n",
            " [ 5.  0. 10. 10.  9.]\n",
            " [ 9. 10.  0.  8.  7.]\n",
            " [ 9. 10.  8.  0.  3.]\n",
            " [ 8.  9.  7.  3.  0.]]\n"
          ]
        }
      ]
    },
    {
      "cell_type": "code",
      "source": [
        "# prompt: NECESITO UN GRAFICO CLUSTERB PARA ALA MATRIZ\n",
        "\n",
        "import matplotlib.pyplot as plt\n",
        "import scipy.cluster.hierarchy as sch\n",
        "\n",
        "# Generate the linkage matrix\n",
        "linkage_matrix = sch.linkage(sw_traceback, method='ward')\n",
        "\n",
        "# Create a dendrogram\n",
        "plt.figure(figsize=(15, 10))\n",
        "plt.title('Dendrogram of Clustered Data', fontsize=24)\n",
        "sch.dendrogram(linkage_matrix, orientation='top', distance_sort='descending')\n",
        "plt.xlabel('Data Point', fontsize=20)\n",
        "plt.ylabel('Distance', fontsize=20)\n",
        "plt.tick_params(axis='x', labelsize=15)\n",
        "plt.tick_params(axis='y', labelsize=15)\n",
        "plt.show()\n"
      ],
      "metadata": {
        "colab": {
          "base_uri": "https://localhost:8080/",
          "height": 635
        },
        "id": "DERwjdSEQ857",
        "outputId": "d93b856c-9cf0-48e8-f417-cc5751b160d2"
      },
      "execution_count": 48,
      "outputs": [
        {
          "output_type": "display_data",
          "data": {
            "text/plain": [
              "<Figure size 1500x1000 with 1 Axes>"
            ],
            "image/png": "[encoded data removed]"
          },
          "metadata": {}
        }
      ]
    },
    {
      "cell_type": "code",
      "source": [
        "np.genfromtxt=sw_traceback\n",
        "x = sw_traceback[:,0]\n",
        "y = sw_traceback[:,1]\n",
        "plt.plot(x, y, 's');"
      ],
      "metadata": {
        "colab": {
          "base_uri": "https://localhost:8080/",
          "height": 430
        },
        "id": "afFwEgAwRRac",
        "outputId": "4e89efe5-b894-47c5-c79d-32c4fbbe96ed"
      },
      "execution_count": 49,
      "outputs": [
        {
          "output_type": "display_data",
          "data": {
            "text/plain": [
              "<Figure size 640x480 with 1 Axes>"
            ],
            "image/png": "[encoded data removed]"
          },
          "metadata": {}
        }
      ]
    },
    {
      "cell_type": "code",
      "source": [
        "def assign(sw_traceback, centroids):\n",
        "    \"\"\"\n",
        "    Assign each point in the data set to the closer centroid.\n",
        "\n",
        "    Parameters\n",
        "    ----------\n",
        "    data: Array. data set to clusterize\n",
        "    centroids. Array. Coordinate of the centroids\n",
        "\n",
        "    \"\"\"\n",
        "    # k clusters\n",
        "    k = len(centroids)\n",
        "    # create a list of k lists\n",
        "    clusters = [[] for _ in range(k)]\n",
        "    # loop trough all the datapoints and check their\n",
        "    # distance to each centroid. Add the point to the\n",
        "    # closer centroid\n",
        "    for i in data:\n",
        "        f = []\n",
        "        for j in centroids:\n",
        "            #dist = (np.sum((j - i)**2))**0.5\n",
        "            dist = np.sum((j - i)**2)\n",
        "            f.append(dist)\n",
        "        mn = f.index(min(f))\n",
        "        clusters[mn].append(i)\n",
        "    return clusters\n",
        "\n",
        "\n",
        "def k_means(sw_traceback, k):\n",
        "    \"\"\"\n",
        "    Perform the k_means algorithm\n",
        "\n",
        "    Parameters\n",
        "    ----------\n",
        "    data: Array. data set to clusterize\n",
        "    k. Int. Number of clusters\n",
        "\n",
        "    \"\"\"\n",
        "    # initialize by selecting k data points at random\n",
        "    centroids = data[np.random.random_integers(len(data)-1, size=k)]\n",
        "    # use the k data points as the initial centroids\n",
        "    clusters = assign(data, centroids)\n",
        "    centroids_old = centroids\n",
        "\n",
        "    # loop until the clusters stops changing\n",
        "    while True:\n",
        "        centroids = []\n",
        "        for cluster in clusters:\n",
        "            centroids.append(np.mean(cluster, axis=0))\n",
        "        centroids = np.array(centroids)\n",
        "        if np.array_equal(centroids, centroids_old):\n",
        "            return clusters\n",
        "        else:\n",
        "            clusters = assign(sw_traceback, centroids)\n",
        "            centroids_old = centroids"
      ],
      "metadata": {
        "id": "8kKvQcatSUK4"
      },
      "execution_count": 50,
      "outputs": []
    },
    {
      "cell_type": "code",
      "source": [
        "clusters = k_means(sw_traceback, 1)\n",
        "for i in range(len(clusters)):\n",
        "    x = np.array(clusters[i])[:,0]\n",
        "    y = np.array(clusters[i])[:,1]\n",
        "    plt.plot(x, y, 'd')"
      ],
      "metadata": {
        "colab": {
          "base_uri": "https://localhost:8080/",
          "height": 486
        },
        "id": "qZJPv4GnSYvH",
        "outputId": "2facc788-8010-4020-f962-6c529557e78b"
      },
      "execution_count": 51,
      "outputs": [
        {
          "output_type": "stream",
          "name": "stderr",
          "text": [
            "<ipython-input-50-026e34fd1ee3>:40: DeprecationWarning: This function is deprecated. Please call randint(1, 4 + 1) instead\n",
            "  centroids = data[np.random.random_integers(len(data)-1, size=k)]\n"
          ]
        },
        {
          "output_type": "display_data",
          "data": {
            "text/plain": [
              "<Figure size 640x480 with 1 Axes>"
            ],
            "image/png": "[encoded data removed]"
          },
          "metadata": {}
        }
      ]
    },
    {
      "cell_type": "code",
      "source": [
        "def nb_joining(d_mat):\n",
        "    \"\"\"\n",
        "    \"\"\"\n",
        "\n",
        "    n = len(d_mat)\n",
        "    if n == 2:\n",
        "        #print d_mat\n",
        "        return d_mat\n",
        "    # compute the distance from each node to the rest of the nodes\n",
        "    net_div = np.array([np.sum(d_mat, axis=1)])\n",
        "    # Compute the Q matrix\n",
        "    q_mat = (n-2) * d_mat - net_div - net_div.T\n",
        "    np.fill_diagonal(q_mat, 0)\n",
        "    #print q_mat\n",
        "    # compute the indices of the lowest value.\n",
        "    # argmin flattens the arrays before computing the minimun, unravel_index\n",
        "    # returns the indeces from the unflatten array\n",
        "    lw = np.unravel_index(np.argmin(q_mat), np.shape(q_mat))\n",
        "    #print lw\n",
        "    # Distance from the pair members to the new node\n",
        "    d_ij = 0.5 * d_mat[lw] \\\n",
        "    + 1/(2*(n-2)) * (np.sum(d_mat[lw[0]]) - np.sum(d_mat[lw[1]]))\n",
        "    d_ji = d_mat[lw] - d_ij\n",
        "    #print d_ij, d_ji\n",
        "    # Compute a new distance-matrix using the new node\n",
        "    new_node_d = 0.5 * (d_mat[lw[0]] + d_mat[lw[1]] - d_mat[lw])\n",
        "    d_mat = np.delete(d_mat, lw, axis=0)\n",
        "    d_mat = np.delete(d_mat, lw, axis=1)\n",
        "    new_d_mat = np.zeros((n-1, n-1))\n",
        "    new_d_mat[0] = new_node_d[1:]\n",
        "    new_d_mat[:,0] = new_node_d[1:]\n",
        "    new_d_mat[1:,1:] = d_mat\n",
        "    #print new_d_mat\n",
        "    nb_joining(new_d_mat)\n",
        "\n",
        "\n",
        "nb_joining(dist_matrix)\n"
      ],
      "metadata": {
        "id": "BJj3-axnTnDt"
      },
      "execution_count": 54,
      "outputs": []
    },
    {
      "cell_type": "code",
      "source": [
        "import matplotlib.pyplot as plt\n",
        "import scipy.cluster.hierarchy as sch\n",
        "\n",
        "# Generate the linkage matrix\n",
        "linkage_matrix = sch.linkage(new_d_mat, method='ward')\n",
        "\n",
        "# Create a dendrogram\n",
        "plt.figure(figsize=(15, 10))\n",
        "plt.title('Dendrogram of Clustered Data', fontsize=24)\n",
        "sch.dendrogram(linkage_matrix, orientation='top', distance_sort='descending')\n",
        "plt.xlabel('Data Point', fontsize=20)\n",
        "plt.ylabel('Distance', fontsize=20)\n",
        "plt.tick_params(axis='x', labelsize=15)\n",
        "plt.tick_params(axis='y', labelsize=15)\n",
        "plt.show()"
      ],
      "metadata": {
        "colab": {
          "base_uri": "https://localhost:8080/",
          "height": 675
        },
        "id": "jQ605-8yVNRt",
        "outputId": "9b5d83e8-7a60-4b9b-cf39-825c7f083121"
      },
      "execution_count": 65,
      "outputs": [
        {
          "output_type": "stream",
          "name": "stderr",
          "text": [
            "<ipython-input-65-02e66df2f344>:5: ClusterWarning: scipy.cluster: The symmetric non-negative hollow observation matrix looks suspiciously like an uncondensed distance matrix\n",
            "  linkage_matrix = sch.linkage(new_d_mat, method='ward')\n"
          ]
        },
        {
          "output_type": "display_data",
          "data": {
            "text/plain": [
              "<Figure size 1500x1000 with 1 Axes>"
            ],
            "image/png": "[encoded data removed]"
          },
          "metadata": {}
        }
      ]
    },
    {
      "cell_type": "code",
      "source": [
        "clusters = k_means(new_d_mat, 1)\n",
        "for i in range(len(clusters)):\n",
        "    x = np.array(clusters[i])[:,0]\n",
        "    y = np.array(clusters[i])[:,1]\n",
        "    plt.plot(x, y, 'd')"
      ],
      "metadata": {
        "colab": {
          "base_uri": "https://localhost:8080/",
          "height": 486
        },
        "id": "K-eGQwq2VxjR",
        "outputId": "270cd284-e6a7-43a7-d8c9-09f5ce3dc3fe"
      },
      "execution_count": 70,
      "outputs": [
        {
          "output_type": "stream",
          "name": "stderr",
          "text": [
            "<ipython-input-50-026e34fd1ee3>:40: DeprecationWarning: This function is deprecated. Please call randint(1, 4 + 1) instead\n",
            "  centroids = data[np.random.random_integers(len(data)-1, size=k)]\n"
          ]
        },
        {
          "output_type": "display_data",
          "data": {
            "text/plain": [
              "<Figure size 640x480 with 1 Axes>"
            ],
            "image/png": "[encoded data removed]"
          },
          "metadata": {}
        }
      ]
    },
    {
      "cell_type": "markdown",
      "source": [
        "A menos que desee tener grupos que contengan partes del círculo interior y exterior, el ejemplo anterior muestra que k-means puede no ser el mejor algoritmo para este conjunto de datos en particular. De hecho, no existe un algoritmo de agrupamiento ideal que funcione para todos los conjuntos de datos posibles. Sin embargo, algunos algoritmos (como DBSCAN) tienen un rendimiento muy bueno en situaciones más diferentes que otros. Como siempre es el caso de cualquier modelo/algoritmo, es importante evaluar el resultado de un algoritmo de agrupamiento en el contexto de una aplicación particular y utilizando el conocimiento del dominio disponible.\n",
        "Otras lecturas\n",
        "\n",
        "Henikoff y Henikoff 1992. Matrices de sustitución de aminoácidos a partir de bloques de proteínas. PNAS 89:10915-10919.\n",
        "Styczynski et al 2008. Los errores de cálculo de BLOSUM62 mejoran el rendimiento de la búsqueda.\n",
        "Jason Kinser 2009. Python para bioinformática.\n",
        "Saitou N, Nei M 1987. El método de unión de vecinos: un nuevo método para reconstruir árboles filogenéticos.\n",
        "Yang 2014. Evolución molecular: un enfoque estadístico.\n",
        "Clustal. Una familia de algoritmos para el alineamiento de secuencias múltiples."
      ],
      "metadata": {
        "id": "BNita6qHWdE9"
      }
    }
  ]
}