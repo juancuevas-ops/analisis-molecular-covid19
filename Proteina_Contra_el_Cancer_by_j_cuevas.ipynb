{
  "nbformat": 4,
  "nbformat_minor": 0,
  "metadata": {
    "colab": {
      "provenance": [],
      "authorship_tag": "ABX9TyNDU5jla2w2dNHao4a/3XJf",
      "include_colab_link": true
    },
    "kernelspec": {
      "name": "python3",
      "display_name": "Python 3"
    },
    "language_info": {
      "name": "python"
    }
  },
  "cells": [
    {
      "cell_type": "markdown",
      "metadata": {
        "id": "view-in-github",
        "colab_type": "text"
      },
      "source": [
        "<a href=\"https://colab.research.google.com/github/juancuevas-ops/analisis-molecular-covid19/blob/main/Proteina_Contra_el_Cancer_by_j_cuevas.ipynb\" target=\"_parent\"><img src=\"https://colab.research.google.com/assets/colab-badge.svg\" alt=\"Open In Colab\"/></a>"
      ]
    },
    {
      "cell_type": "code",
      "execution_count": null,
      "metadata": {
        "colab": {
          "base_uri": "https://localhost:8080/"
        },
        "id": "heh9xYNcGuAc",
        "outputId": "274aedf4-baa5-4616-8869-35f2536f42d5"
      },
      "outputs": [
        {
          "output_type": "stream",
          "name": "stdout",
          "text": [
            "Looking in indexes: https://pypi.org/simple, https://us-python.pkg.dev/colab-wheels/public/simple/\n",
            "Collecting Bio\n",
            "  Downloading bio-1.4.0-py3-none-any.whl (270 kB)\n",
            "\u001b[K     |████████████████████████████████| 270 kB 21.4 MB/s \n",
            "\u001b[?25hRequirement already satisfied: requests in /usr/local/lib/python3.7/dist-packages (from Bio) (2.23.0)\n",
            "Collecting mygene\n",
            "  Downloading mygene-3.2.2-py2.py3-none-any.whl (5.4 kB)\n",
            "Collecting biopython>=1.79\n",
            "  Downloading biopython-1.79-cp37-cp37m-manylinux_2_5_x86_64.manylinux1_x86_64.whl (2.3 MB)\n",
            "\u001b[K     |████████████████████████████████| 2.3 MB 33.9 MB/s \n",
            "\u001b[?25hRequirement already satisfied: tqdm in /usr/local/lib/python3.7/dist-packages (from Bio) (4.64.0)\n",
            "Requirement already satisfied: numpy in /usr/local/lib/python3.7/dist-packages (from biopython>=1.79->Bio) (1.21.6)\n",
            "Collecting biothings-client>=0.2.6\n",
            "  Downloading biothings_client-0.2.6-py2.py3-none-any.whl (37 kB)\n",
            "Requirement already satisfied: certifi>=2017.4.17 in /usr/local/lib/python3.7/dist-packages (from requests->Bio) (2022.6.15)\n",
            "Requirement already satisfied: idna<3,>=2.5 in /usr/local/lib/python3.7/dist-packages (from requests->Bio) (2.10)\n",
            "Requirement already satisfied: urllib3!=1.25.0,!=1.25.1,<1.26,>=1.21.1 in /usr/local/lib/python3.7/dist-packages (from requests->Bio) (1.24.3)\n",
            "Requirement already satisfied: chardet<4,>=3.0.2 in /usr/local/lib/python3.7/dist-packages (from requests->Bio) (3.0.4)\n",
            "Installing collected packages: biothings-client, mygene, biopython, Bio\n",
            "Successfully installed Bio-1.4.0 biopython-1.79 biothings-client-0.2.6 mygene-3.2.2\n"
          ]
        }
      ],
      "source": [
        "!pip install Bio"
      ]
    },
    {
      "cell_type": "markdown",
      "source": [
        "# PROYECTO DE INVESTIGACION BIOTECNOLOGICO SALINISPORA CONTRA EL CANCER\n",
        "\n",
        "**BIOINFORMATICO JUAN CUEVAS VASQUEZ**"
      ],
      "metadata": {
        "id": "jIc2h1qmdDKA"
      }
    },
    {
      "cell_type": "code",
      "source": [
        "from Bio.SeqRecord import SeqRecord\n",
        "from Bio import SeqIO"
      ],
      "metadata": {
        "id": "kqLZwbNHIEYC"
      },
      "execution_count": null,
      "outputs": []
    },
    {
      "cell_type": "code",
      "source": [
        "attck_can = SeqIO.read(\"/content/cancerattack.fasta\", \"fasta\")"
      ],
      "metadata": {
        "id": "ushdNqN5IEmL"
      },
      "execution_count": null,
      "outputs": []
    },
    {
      "cell_type": "code",
      "source": [
        "attck_can"
      ],
      "metadata": {
        "colab": {
          "base_uri": "https://localhost:8080/"
        },
        "id": "za3xG1UuIEyo",
        "outputId": "741df881-70b2-4fa7-ee4e-e4d98f083928"
      },
      "execution_count": null,
      "outputs": [
        {
          "output_type": "execute_result",
          "data": {
            "text/plain": [
              "SeqRecord(seq=Seq('CGGAGGACCTGGGACCGGGACGGGTGGCGCAGCTTGGACATCGTCTTGGACTCG...AAG'), id='NZ_KB913036.1', name='NZ_KB913036.1', description='NZ_KB913036.1 Salinispora arenicola DSM 45545 strain CNS-991 scaffold1, whole genome shotgun sequence', dbxrefs=[])"
            ]
          },
          "metadata": {},
          "execution_count": 4
        }
      ]
    },
    {
      "cell_type": "code",
      "source": [
        "AR_DNA= attck_can.seq\n",
        "print( AR_DNA[:100])"
      ],
      "metadata": {
        "colab": {
          "base_uri": "https://localhost:8080/"
        },
        "id": "4pxdx5EgIE-Q",
        "outputId": "8b49a52d-56ab-4428-fff0-894552e8c91f"
      },
      "execution_count": null,
      "outputs": [
        {
          "output_type": "stream",
          "name": "stdout",
          "text": [
            "CGGAGGACCTGGGACCGGGACGGGTGGCGCAGCTTGGACATCGTCTTGGACTCGATCTGTCGGATGCGCTCCCGGGTCACCCCGTAGACCTGGCCGATTT\n"
          ]
        }
      ]
    },
    {
      "cell_type": "code",
      "source": [
        "import pandas as pd"
      ],
      "metadata": {
        "id": "C0QeBZwfIxTS"
      },
      "execution_count": null,
      "outputs": []
    },
    {
      "cell_type": "code",
      "source": [
        "#conteo de frecuencia de nucleotidos\n",
        "#Cientifico de datos Alejandro Cuevas\n",
        "DNA= AR_DNA\n",
        "nucleotides={}\n",
        "for n in DNA:\n",
        "    if n in nucleotides:\n",
        "        nucleotides[n] += 1\n",
        "    else:\n",
        "        nucleotides[n] =  1\n",
        "print(nucleotides)\n",
        "\n",
        "#Create a dataframe\n",
        "nts= pd.DataFrame(data=nucleotides, index=[0]).T.reset_index()\n",
        "nts= nts.rename(columns={0: 'frequency', 'index': 'nucleotides'})\n",
        "nts=nts.sort_values(by=['frequency'], ascending=True)\n",
        "print(nts)"
      ],
      "metadata": {
        "colab": {
          "base_uri": "https://localhost:8080/"
        },
        "id": "ZzF7Eu6HIyzu",
        "outputId": "ef75a473-3c7b-40b6-815a-2afa5d7cb9cd"
      },
      "execution_count": null,
      "outputs": [
        {
          "output_type": "stream",
          "name": "stdout",
          "text": [
            "{'C': 7782, 'G': 7712, 'A': 3853, 'T': 3833, 'N': 100}\n",
            "  nucleotides  frequency\n",
            "4           N        100\n",
            "3           T       3833\n",
            "2           A       3853\n",
            "1           G       7712\n",
            "0           C       7782\n"
          ]
        }
      ]
    },
    {
      "cell_type": "markdown",
      "source": [
        "Citocinas y sus efectos secundarios\n",
        "Las citocinas son pequeñas proteínas que son cruciales para controlar el crecimiento y la actividad de otras células del sistema inmunitario y las células sanguíneas. Cuando se liberan, le envían una señal al sistema inmunitario para que cumpla con su función. Las citocinas afectan el crecimiento de todas las células sanguíneas y otras células que ayudan a las respuestas inmunitarias e inflamatorias del organismo. También ayudan a aumentar la actividad contra el cáncer mediante el envío de señales que pueden ayudar a que las células anormales mueran y las células normales vivan más tiempo.\n",
        "\n",
        "Un tipo específico de citocina se llama quimiocina. Una quimiocina puede provocar que las células inmunitarias se muevan hacia un objetivo. Hay diferentes tipos de quimiocinas, incluyendo interleucinas, interferones, factores de necrosis tumoral, y factores de crecimiento.\n",
        "\n",
        "Algunas citocinas se pueden producir en un laboratorio y se utilizan para tratar el cáncer. Algunas se utilizan para ayudar a prevenir o controlar los efectos secundarios de la quimioterapia. Se inyectan, ya sea debajo de la piel, en un músculo o en una vena. Los más comunes son las interleucinas y los interferones.\n",
        "\n",
        "Interleucinas\n",
        "Las interleucinas son un grupo de citocinas que actúan como señales químicas entre los glóbulos blancos. La interleucina-2 (IL-2) ayuda a que las células del sistema inmunitario crezcan y se dividan con mayor rapidez. El uso de IL-2 sintética ha sido aprobado para tratar el cáncer de riñón avanzado y el melanoma metastásico. La IL-2 se puede utilizar como un tratamiento de un solo medicamento para estos tipos de cáncer, o se puede combinar con quimioterapia o con otras citocinas como el interferón alfa.\n",
        "\n",
        "Los efectos secundarios de  la IL-2 pueden incluir síntomas similares a los de la influenza (gripe), como escalofríos, fiebre, cansancio y confusión. Algunas personas presentan náuseas, vómitos o diarrea. Muchas personas desarrollan presión arterial baja que puede tratarse con otros medicamentos. Los efectos secundarios infrecuentes, pero potencialmente graves incluyen un latido cardíaco anormal, dolor en el pecho, y otros problemas cardíacos. Debido a estos posibles efectos secundarios, si la IL-2 se administra en dosis altas, debe hacerse en un hospital.\n",
        "\n",
        "Otras interleucinas, como IL-7, IL-12 y IL-21, también continúan bajo estudio para saber si se pueden usar contra el cáncer, tanto como adyuvantes o como agentes independientes.\n",
        "\n",
        "Interferones\n",
        "Los interferones son sustancias químicas que ayudan al organismo a resistir las infecciones por virus y los cánceres. Los tipos de interferón (IFN) llevan el nombre de las primeras tres letras del alfabeto griego:\n",
        "\n",
        "IFN-alfa\n",
        "IFN-beta\n",
        "IFN-gamma\n",
        "Solo el IFN-alfa se utiliza para tratar el cáncer. El IFN-alfa aumenta la capacidad de ciertas células inmunitarias para atacar las células cancerosas. También puede desacelerar el crecimiento de las células cancerosas directamente, así como de los vasos sanguíneos que los tumores necesitan para crecer.\n",
        "\n",
        "El IFN-alfa se puede utilizar para tratar estos cánceres:\n",
        "\n",
        "Leucemia de células peludas\n",
        "Leucemia mieloide crónica (CML)\n",
        "Linfoma folicular no Hodgkin\n",
        "Linfoma cutáneo (piel) de células T\n",
        "Cáncer de riñón\n",
        "Melanoma\n",
        "Sarcoma de Kaposi\n",
        "Algunos efectos secundarios de los interferones son:\n",
        "\n",
        "Síntomas similares a los de la gripe (escalofríos, fiebre, dolor de cabeza, cansancio, pérdida del apetito, náuseas, vómitos)\n",
        "Un recuento bajo en el nivel de glóbulos blancos que incrementa el riesgo de infecciones.\n",
        "Erupciones en la piel\n",
        "Cabello demasiado fino (debilitado)\n",
        "Estos efectos secundarios pueden ser graves y pueden provocar que el tratamiento con interferón sea difícil de tolerar para muchas personas. La mayoría de los efectos secundarios no duran mucho tiempo después de que el tratamiento se suspende, pero el cansancio puede durar más tiempo. Otros efectos infrecuentes a largo plazo incluyen daño a los nervios, incluyendo los del cerebro y la médula espinal."
      ],
      "metadata": {
        "id": "_XjBspmJKIfp"
      }
    },
    {
      "cell_type": "markdown",
      "source": [
        "PROCESO DE TRANSCRIPSION DE LA BACTERIA"
      ],
      "metadata": {
        "id": "QdENNYPmKdN4"
      }
    },
    {
      "cell_type": "code",
      "source": [
        "AR_DNA= attck_can.seq\n",
        "\n",
        "#Transcrpcion DNA a RNA \n",
        "ar_mRNA = AR_DNA.transcribe()\n",
        "print(ar_mRNA[:100])"
      ],
      "metadata": {
        "colab": {
          "base_uri": "https://localhost:8080/"
        },
        "id": "XCvbH2CiKKyY",
        "outputId": "becf184e-519e-46e5-d9d1-e794ba9e9d74"
      },
      "execution_count": null,
      "outputs": [
        {
          "output_type": "stream",
          "name": "stdout",
          "text": [
            "CGGAGGACCUGGGACCGGGACGGGUGGCGCAGCUUGGACAUCGUCUUGGACUCGAUCUGUCGGAUGCGCUCCCGGGUCACCCCGUAGACCUGGCCGAUUU\n"
          ]
        }
      ]
    },
    {
      "cell_type": "code",
      "source": [
        "#Identify all the Proteins (chains of amino acids)\n",
        "Proteins = ar_mRNA.split('*') # * is translated stop codon\n",
        "df = pd.DataFrame(Proteins)\n",
        "df.describe()\n",
        "print('Total proteins:', len(df))\n",
        "def conv(item):\n",
        "    return len(item)\n",
        "    def to_str(item):\n",
        "        return str(item)\n",
        "        df['sequence_str'] = df[0].apply(to_str)\n",
        "df['length'] = df[0].apply(conv)\n",
        "df.rename(columns={0: \"sequence\"}, inplace=True)\n",
        "df.head()# Take only longer than 20\n",
        "functional_proteins = df.loc[df['length'] >= 20]\n",
        "print('Total functional proteins:', len(functional_proteins))\n",
        "functional_proteins.describe()\n"
      ],
      "metadata": {
        "colab": {
          "base_uri": "https://localhost:8080/",
          "height": 335
        },
        "id": "HbM8aIvfKrdX",
        "outputId": "9d5f608a-d8f1-4ff3-fd01-4fcd9cc52b91"
      },
      "execution_count": null,
      "outputs": [
        {
          "output_type": "stream",
          "name": "stdout",
          "text": [
            "Total proteins: 1\n",
            "Total functional proteins: 1\n"
          ]
        },
        {
          "output_type": "execute_result",
          "data": {
            "text/plain": [
              "        length\n",
              "count      1.0\n",
              "mean   23280.0\n",
              "std        NaN\n",
              "min    23280.0\n",
              "25%    23280.0\n",
              "50%    23280.0\n",
              "75%    23280.0\n",
              "max    23280.0"
            ],
            "text/html": [
              "\n",
              "  <div id=\"df-bdc2b770-b956-42b3-adaa-6477e633cef0\">\n",
              "    <div class=\"colab-df-container\">\n",
              "      <div>\n",
              "<style scoped>\n",
              "    .dataframe tbody tr th:only-of-type {\n",
              "        vertical-align: middle;\n",
              "    }\n",
              "\n",
              "    .dataframe tbody tr th {\n",
              "        vertical-align: top;\n",
              "    }\n",
              "\n",
              "    .dataframe thead th {\n",
              "        text-align: right;\n",
              "    }\n",
              "</style>\n",
              "<table border=\"1\" class=\"dataframe\">\n",
              "  <thead>\n",
              "    <tr style=\"text-align: right;\">\n",
              "      <th></th>\n",
              "      <th>length</th>\n",
              "    </tr>\n",
              "  </thead>\n",
              "  <tbody>\n",
              "    <tr>\n",
              "      <th>count</th>\n",
              "      <td>1.0</td>\n",
              "    </tr>\n",
              "    <tr>\n",
              "      <th>mean</th>\n",
              "      <td>23280.0</td>\n",
              "    </tr>\n",
              "    <tr>\n",
              "      <th>std</th>\n",
              "      <td>NaN</td>\n",
              "    </tr>\n",
              "    <tr>\n",
              "      <th>min</th>\n",
              "      <td>23280.0</td>\n",
              "    </tr>\n",
              "    <tr>\n",
              "      <th>25%</th>\n",
              "      <td>23280.0</td>\n",
              "    </tr>\n",
              "    <tr>\n",
              "      <th>50%</th>\n",
              "      <td>23280.0</td>\n",
              "    </tr>\n",
              "    <tr>\n",
              "      <th>75%</th>\n",
              "      <td>23280.0</td>\n",
              "    </tr>\n",
              "    <tr>\n",
              "      <th>max</th>\n",
              "      <td>23280.0</td>\n",
              "    </tr>\n",
              "  </tbody>\n",
              "</table>\n",
              "</div>\n",
              "      <button class=\"colab-df-convert\" onclick=\"convertToInteractive('df-bdc2b770-b956-42b3-adaa-6477e633cef0')\"\n",
              "              title=\"Convert this dataframe to an interactive table.\"\n",
              "              style=\"display:none;\">\n",
              "        \n",
              "  <svg xmlns=\"http://www.w3.org/2000/svg\" height=\"24px\"viewBox=\"0 0 24 24\"\n",
              "       width=\"24px\">\n",
              "    <path d=\"M0 0h24v24H0V0z\" fill=\"none\"/>\n",
              "    <path d=\"M18.56 5.44l.94 2.06.94-2.06 2.06-.94-2.06-.94-.94-2.06-.94 2.06-2.06.94zm-11 1L8.5 8.5l.94-2.06 2.06-.94-2.06-.94L8.5 2.5l-.94 2.06-2.06.94zm10 10l.94 2.06.94-2.06 2.06-.94-2.06-.94-.94-2.06-.94 2.06-2.06.94z\"/><path d=\"M17.41 7.96l-1.37-1.37c-.4-.4-.92-.59-1.43-.59-.52 0-1.04.2-1.43.59L10.3 9.45l-7.72 7.72c-.78.78-.78 2.05 0 2.83L4 21.41c.39.39.9.59 1.41.59.51 0 1.02-.2 1.41-.59l7.78-7.78 2.81-2.81c.8-.78.8-2.07 0-2.86zM5.41 20L4 18.59l7.72-7.72 1.47 1.35L5.41 20z\"/>\n",
              "  </svg>\n",
              "      </button>\n",
              "      \n",
              "  <style>\n",
              "    .colab-df-container {\n",
              "      display:flex;\n",
              "      flex-wrap:wrap;\n",
              "      gap: 12px;\n",
              "    }\n",
              "\n",
              "    .colab-df-convert {\n",
              "      background-color: #E8F0FE;\n",
              "      border: none;\n",
              "      border-radius: 50%;\n",
              "      cursor: pointer;\n",
              "      display: none;\n",
              "      fill: #1967D2;\n",
              "      height: 32px;\n",
              "      padding: 0 0 0 0;\n",
              "      width: 32px;\n",
              "    }\n",
              "\n",
              "    .colab-df-convert:hover {\n",
              "      background-color: #E2EBFA;\n",
              "      box-shadow: 0px 1px 2px rgba(60, 64, 67, 0.3), 0px 1px 3px 1px rgba(60, 64, 67, 0.15);\n",
              "      fill: #174EA6;\n",
              "    }\n",
              "\n",
              "    [theme=dark] .colab-df-convert {\n",
              "      background-color: #3B4455;\n",
              "      fill: #D2E3FC;\n",
              "    }\n",
              "\n",
              "    [theme=dark] .colab-df-convert:hover {\n",
              "      background-color: #434B5C;\n",
              "      box-shadow: 0px 1px 3px 1px rgba(0, 0, 0, 0.15);\n",
              "      filter: drop-shadow(0px 1px 2px rgba(0, 0, 0, 0.3));\n",
              "      fill: #FFFFFF;\n",
              "    }\n",
              "  </style>\n",
              "\n",
              "      <script>\n",
              "        const buttonEl =\n",
              "          document.querySelector('#df-bdc2b770-b956-42b3-adaa-6477e633cef0 button.colab-df-convert');\n",
              "        buttonEl.style.display =\n",
              "          google.colab.kernel.accessAllowed ? 'block' : 'none';\n",
              "\n",
              "        async function convertToInteractive(key) {\n",
              "          const element = document.querySelector('#df-bdc2b770-b956-42b3-adaa-6477e633cef0');\n",
              "          const dataTable =\n",
              "            await google.colab.kernel.invokeFunction('convertToInteractive',\n",
              "                                                     [key], {});\n",
              "          if (!dataTable) return;\n",
              "\n",
              "          const docLinkHtml = 'Like what you see? Visit the ' +\n",
              "            '<a target=\"_blank\" href=https://colab.research.google.com/notebooks/data_table.ipynb>data table notebook</a>'\n",
              "            + ' to learn more about interactive tables.';\n",
              "          element.innerHTML = '';\n",
              "          dataTable['output_type'] = 'display_data';\n",
              "          await google.colab.output.renderOutput(dataTable, element);\n",
              "          const docLink = document.createElement('div');\n",
              "          docLink.innerHTML = docLinkHtml;\n",
              "          element.appendChild(docLink);\n",
              "        }\n",
              "      </script>\n",
              "    </div>\n",
              "  </div>\n",
              "  "
            ]
          },
          "metadata": {},
          "execution_count": 10
        }
      ]
    },
    {
      "cell_type": "code",
      "source": [
        "#traduccion de arn mensajero a aminoacidos \n",
        "ar_aa = ar_mRNA.translate()\n",
        "print(ar_aa[:99])"
      ],
      "metadata": {
        "colab": {
          "base_uri": "https://localhost:8080/"
        },
        "id": "AR_Uw4HQQ-UF",
        "outputId": "4b33f73f-151f-446b-ee88-3671bf129ce5"
      },
      "execution_count": null,
      "outputs": [
        {
          "output_type": "stream",
          "name": "stdout",
          "text": [
            "RRTWDRDGWRSLDIVLDSICRMRSRVTP*TWPISSSVRG*PSVRPNRRRTTPASRSDNVWSTC*SWSWRSENETASTATTASESSMKSPS*LSPSSPMV\n"
          ]
        }
      ]
    },
    {
      "cell_type": "code",
      "source": [
        "print(f\"salinipora_arenicola (organismo marino) genoma tiene una longitud de {len(ar_aa)} aminoacidos BY JUAN CUEVAS VASQUEZ\")"
      ],
      "metadata": {
        "colab": {
          "base_uri": "https://localhost:8080/"
        },
        "id": "aOe887GGRmYj",
        "outputId": "ec53db8f-0546-4a3e-de43-cb2e936b1de5"
      },
      "execution_count": null,
      "outputs": [
        {
          "output_type": "stream",
          "name": "stdout",
          "text": [
            "salinipora_arenicola (organismo marino) genoma tiene una longitud de 7760 aminoacidos BY JUAN CUEVAS VASQUEZ\n"
          ]
        }
      ]
    },
    {
      "cell_type": "code",
      "source": [
        "proteinas = ar_aa.split('*')\n",
        "proteinas[:100]"
      ],
      "metadata": {
        "colab": {
          "base_uri": "https://localhost:8080/"
        },
        "id": "k7KD7aFZShC0",
        "outputId": "9fddc73b-058d-4af4-cbe1-ef9986da409b"
      },
      "execution_count": null,
      "outputs": [
        {
          "output_type": "execute_result",
          "data": {
            "text/plain": [
              "[Seq('RRTWDRDGWRSLDIVLDSICRMRSRVTP'),\n",
              " Seq('TWPISSSVRG'),\n",
              " Seq('PSVRPNRRRTTPASRSDNVWSTC'),\n",
              " Seq('SWSWRSENETASTATTASESSMKSPS'),\n",
              " Seq('LSPSSPMVWSSEIGSRAYCWISSTFSGVISISFASSSGVGSRPRSWSSSRWIRP...QVA'),\n",
              " Seq('VENL'),\n",
              " Seq('PLV'),\n",
              " Seq('SNFSTARIRPRLPSWIRSRKAIPRPVYRLAMLTTRRRFASNRWSLAARPSTATS...STS'),\n",
              " Seq('AAVSSFVLPMP'),\n",
              " Seq('R'),\n",
              " Seq('ARTRSVDTPRSSVASRSVRLSVPLVARILWSIICRANFRHSPYPRVP'),\n",
              " Seq('SVPVVPVDNQLGGQDVKRE'),\n",
              " Seq('GAAAGSTSGGSWVPARASRSHPVLPRPCRVARAPAGRLPPGTARPVGPPPIPPC...RDG'),\n",
              " Seq('SQVVGEFGRVGRPRRW'),\n",
              " Seq('TISSSGLKPNTPSISGCLPRPAVARRA'),\n",
              " Seq('PVRMHLGRPSALVRGPAGGXXXXXXXXXXXXXXXXXXXXXXXXXXXXXXXXXWVSHWA'),\n",
              " Seq('WNGYADTCTVWAALVRGMSCQPSTCCKPFRKAVVEYSGSVICSTVPHPDDGRCW...NRG'),\n",
              " Seq('RRHSGADHASEQAGTGSSMGRHPKYLGRDGQGSTRNGANMTQVHVIANQKGGVG...QEV'),\n",
              " Seq('RGGETNQPVRPCQRAGPARGTRPHPCRVSGTDGSRTADRSQPTEYPRPRYRSRE...CGR'),\n",
              " Seq('SPLGASHRRPAPRSRTAGQPGHTRHHRQEPLG'),\n",
              " Seq('EPRDLGRCHRSREP'),\n",
              " Seq('PGELGPDRGGASSSTPGGGEQDREGSSRTPIPHSGMGDPATQPAQACPGAAVDAEVG'),\n",
              " Seq('GATTRRARPPPATTHRAT'),\n",
              " Seq('GTATAPAQARINRG'),\n",
              " Seq('RDCSPRSRCRQPRKRRTSAQGRVGHQAPRRHSRQDREVATGRDDT'),\n",
              " Seq('RPSSAGSAAAAGLHHS'),\n",
              " Seq(''),\n",
              " Seq('SGAGTGWH'),\n",
              " Seq('IGDSLLASSPG'),\n",
              " Seq('WGLDAAVGRHPVRVPANSVFPLLAE'),\n",
              " Seq(''),\n",
              " Seq('L'),\n",
              " Seq('WFSWCCALSTYRPGPAAVTGPISMPPWLRRAPQLPIPGTRRGPDQYWSGPLRA'),\n",
              " Seq('VLVATRAGPAGCCTSRRSP'),\n",
              " Seq('RGGSGSESA'),\n",
              " Seq('PEPRR'),\n",
              " Seq('PRSPGWRPCGARCCHRRPGRSCAGRAW'),\n",
              " Seq('RTR'),\n",
              " Seq('CPRRWRRGSRAARGGRRRAPAAFRQTPGGTGHAGPAA'),\n",
              " Seq('GCPRRRRRGP'),\n",
              " Seq('SPRRGSRGSRGPSRP'),\n",
              " Seq('PRRRAHVPAACRCGRRRRPRHRG'),\n",
              " Seq('GPRRAWRP'),\n",
              " Seq('GWGSWRSSGPAPGPPCP'),\n",
              " Seq('AGRG'),\n",
              " Seq('SPGPGCGWRPCCCRNGP'),\n",
              " Seq('ARWRCPWRCRQRRRTSAAPGRCWARRRCLRRPTRSPAA'),\n",
              " Seq('GGRRVDHGRRSARRSSRAWWCARSPGRSS'),\n",
              " Seq('SLRPAS'),\n",
              " Seq(''),\n",
              " Seq('SGELRGSGAGHRCSRGGIARRWPRGWSGSRSSPLCQESR'),\n",
              " Seq('KCSRRCHGPAVSARPMPRAGGCSHRTAWRAGCRPCGCPGPADRDPGAAGLRPGS...VAR'),\n",
              " Seq('RCSGAAGR'),\n",
              " Seq('SFRRRSR'),\n",
              " Seq('TK'),\n",
              " Seq('LLDSRG'),\n",
              " Seq('LN'),\n",
              " Seq('ADQ'),\n",
              " Seq('VDRRGLPRSSATASRWEK'),\n",
              " Seq('KVIRRVRRVDGHRGSCRG'),\n",
              " Seq('NALGPPAATAAGGPRRCSSSSGSGGVLINELDELERGAVAPVRKNGPL'),\n",
              " Seq('ESIDEPALDRGFEPVPFSQRVLTQACRGEVLRNVCASIWAWPSMRTGNLTRVTP...SAG'),\n",
              " Seq('ARRCGC'),\n",
              " Seq('PRPTAGPGSPGGRAPRRRRRCPPTPRPRTSASGTPGAAP'),\n",
              " Seq('PRSSSHSWTRSPRTASPATRSSPRRSPPGCGSGRSSRRRSPWPARSRPTPRTAG...STR'),\n",
              " Seq('SASAATPPSSPRWPTTWSRTAWSWRCSPGRCRASTTRPGPAGSCSRSSPPSQRP...SPT'),\n",
              " Seq('SSRPASARAATRAWPASTGPWPRTRRPGPTRTPSSRPTPNTPSRPAPPR'),\n",
              " Seq('FPARLTATSTPTRRCGTGSLNCQLTHGPGRRRWRSTTPCSPLPAGDRAMDCAQR...HQP'),\n",
              " Seq('PRESRLRTPVARRTRPVDGLDRQTARDLPQHPLQGPARTCPAAARPGPSGGADR...YVQ'),\n",
              " Seq('MTTPRRKTTGWAGRRPCEWTPWGRVERNSLLSGGSLAFTPRREDLSQGPAARWY...WMP'),\n",
              " Seq('PRSPDRRRRAIRAASPSSRGPGCRPPWCSPRCRTPRHSSSVSQTAGPRPRAAAR...TPR'),\n",
              " Seq('RLSEVRQVGPLTEDRPSVILMTIRNHERL'),\n",
              " Seq('LNA'),\n",
              " Seq('TPNDIP'),\n",
              " Seq('LLMISLTDATHSHLWPDYGASGLAFSRRAGDATQDPEGSRVRRRPTVALLTSEG...NGK'),\n",
              " Seq('TLAGISSCTTGTSSPTALV'),\n",
              " Seq('SGRKSLRRPQDWAGR'),\n",
              " Seq('GRRYARRSLSRDVERPRRSRASVHFLRCYLCCLRRCHQLRLLYRRKYLVPTVNLF'),\n",
              " Seq(''),\n",
              " Seq('PKHSQICRSSATAVRGRPEPKLRTRRGGDEGQTFECHRATRITGAAAHISH'),\n",
              " Seq('CRQDQDRNNFRILIYGRIYSCATGQYVVACRDPRHNPVPGLQGG'),\n",
              " Seq('RRGADAPSIPACVERRL'),\n",
              " Seq('PCPVTEHQTDKASYIGNQPDAKVRLSAPGKTSARLGKQLSGSDKAVSDRPSRVA...EAP'),\n",
              " Seq('TTVWPAPDRRARRLRSDVLCNRRYRPLHSSLRKGTGSTPVHFRKQRERCQPLRR...VGS'),\n",
              " Seq('STIQTSRQYCRTGRMMTGALR'),\n",
              " Seq('PIFPSMAAPSMTGSRCTRIV'),\n",
              " Seq('SLSYVHGGVPQAARRVGSLETSAFSC'),\n",
              " Seq('HSFAYGTPRVFGQASKQTSTIAGRIARHWSLPWMSSEPFIEYTNPADFPPTCRA...VPR'),\n",
              " Seq('RVAIMQSSRLNACCTRTYGSPQ'),\n",
              " Seq('PGPPSATKRSMESKAASSNIFPGYGPVATVGS'),\n",
              " Seq('WILSMAINSTCICRPVSPARNPDPAYG'),\n",
              " Seq('ICWRNSAPGYSPHSRNWSGTDINMGTYR'),\n",
              " Seq('PTSWSILTGADYRYG'),\n",
              " Seq('STLARTTYTPNEFPVTAAAPSTWPQKSGRTAPTYAAPTSTHSDSYSSTSPEPPAQ'),\n",
              " Seq('TAPSRTTSIPKHPCSPGSSKTLSMRSPAADSSCSNPPKTSLSTPR'),\n",
              " Seq('SHSLSRR'),\n",
              " Seq('RPSALPTGQT'),\n",
              " Seq('LIRTPLGTCTYANWFDHSPACPPNSAGYGNSAVSATESDTCAGSAGGD'),\n",
              " Seq('QAATASSSRPPSS'),\n",
              " Seq('CSGPAISG')]"
            ]
          },
          "metadata": {},
          "execution_count": 13
        }
      ]
    },
    {
      "cell_type": "code",
      "source": [
        "\n",
        "string=\"['RRTWDRDGWRSLDIVLDSICRMRSRVTP','TWPISSSVRG']\"\n",
        "output=eval(string)\n",
        "output"
      ],
      "metadata": {
        "colab": {
          "base_uri": "https://localhost:8080/"
        },
        "id": "4SivNTVfaH8y",
        "outputId": "78f2c48d-ed3e-42c4-ce25-c8a05e3a935d"
      },
      "execution_count": null,
      "outputs": [
        {
          "output_type": "execute_result",
          "data": {
            "text/plain": [
              "['RRTWDRDGWRSLDIVLDSICRMRSRVTP', 'TWPISSSVRG']"
            ]
          },
          "metadata": {},
          "execution_count": 40
        }
      ]
    },
    {
      "cell_type": "code",
      "source": [
        "\n",
        "np.array(string)\n"
      ],
      "metadata": {
        "colab": {
          "base_uri": "https://localhost:8080/"
        },
        "id": "4gHLix5Nb-bV",
        "outputId": "917f350b-dd7a-4516-b4ff-c90312e10aa3"
      },
      "execution_count": null,
      "outputs": [
        {
          "output_type": "execute_result",
          "data": {
            "text/plain": [
              "array(\"['RRTWDRDGWRSLDIVLDSICRMRSRVTP','TWPISSSVRG']\", dtype='<U45')"
            ]
          },
          "metadata": {},
          "execution_count": 46
        }
      ]
    },
    {
      "cell_type": "code",
      "source": [
        "#recuento de aminoacidos\n",
        "from Bio.SeqUtils.ProtParam import ProteinAnalysis"
      ],
      "metadata": {
        "id": "pyxWQj9MTIRH"
      },
      "execution_count": null,
      "outputs": []
    },
    {
      "cell_type": "code",
      "source": [
        "ar_protein = SeqIO.read(\"/content/cancerattack.fasta\",\"fasta\")"
      ],
      "metadata": {
        "id": "Z5GKD4FYTPdu"
      },
      "execution_count": null,
      "outputs": []
    },
    {
      "cell_type": "code",
      "source": [
        "print(ProteinAnalysis)"
      ],
      "metadata": {
        "colab": {
          "base_uri": "https://localhost:8080/"
        },
        "id": "klNqMOgITPmQ",
        "outputId": "aa153208-7385-4c6e-893c-7c872b3a4cbd"
      },
      "execution_count": null,
      "outputs": [
        {
          "output_type": "stream",
          "name": "stdout",
          "text": [
            "<class 'Bio.SeqUtils.ProtParam.ProteinAnalysis'>\n"
          ]
        }
      ]
    },
    {
      "cell_type": "code",
      "source": [
        "from collections import Counter"
      ],
      "metadata": {
        "id": "87Ij5ia2TPzq"
      },
      "execution_count": null,
      "outputs": []
    },
    {
      "cell_type": "code",
      "source": [
        "ar_freq = Counter(ar_protein)"
      ],
      "metadata": {
        "id": "tLSIDBd7VHsg"
      },
      "execution_count": null,
      "outputs": []
    },
    {
      "cell_type": "code",
      "source": [
        "ar_freq"
      ],
      "metadata": {
        "colab": {
          "base_uri": "https://localhost:8080/"
        },
        "id": "V2buZrf3VL9J",
        "outputId": "e23d0a4b-506f-430f-dae2-e6292f5e11a7"
      },
      "execution_count": null,
      "outputs": [
        {
          "output_type": "execute_result",
          "data": {
            "text/plain": [
              "Counter({'C': 7782, 'G': 7712, 'A': 3853, 'T': 3833, 'N': 100})"
            ]
          },
          "metadata": {},
          "execution_count": 28
        }
      ]
    },
    {
      "cell_type": "code",
      "source": [
        "Counter(ar_protein).most_common(10)"
      ],
      "metadata": {
        "colab": {
          "base_uri": "https://localhost:8080/"
        },
        "id": "i4iVqsUlVPhc",
        "outputId": "14ba0d41-58d0-47b1-baa4-d650a65278ec"
      },
      "execution_count": null,
      "outputs": [
        {
          "output_type": "execute_result",
          "data": {
            "text/plain": [
              "[('C', 7782), ('G', 7712), ('A', 3853), ('T', 3833), ('N', 100)]"
            ]
          },
          "metadata": {},
          "execution_count": 29
        }
      ]
    },
    {
      "cell_type": "code",
      "source": [
        "import numpy as np\n",
        "import matplotlib.pyplot as plt"
      ],
      "metadata": {
        "id": "bN8mtgMRVb_k"
      },
      "execution_count": null,
      "outputs": []
    },
    {
      "cell_type": "code",
      "source": [
        "plt.bar(ar_freq.keys(), ar_freq.values())\n",
        "#grafico de aminoacidos de SALINIPORA"
      ],
      "metadata": {
        "colab": {
          "base_uri": "https://localhost:8080/",
          "height": 282
        },
        "id": "k4MYFgVpVgx-",
        "outputId": "f672a579-8190-4b2b-efe4-26f5cf50e543"
      },
      "execution_count": null,
      "outputs": [
        {
          "output_type": "execute_result",
          "data": {
            "text/plain": [
              "<BarContainer object of 5 artists>"
            ]
          },
          "metadata": {},
          "execution_count": 31
        },
        {
          "output_type": "display_data",
          "data": {
            "text/plain": [
              "<Figure size 432x288 with 1 Axes>"
            ],
            "image/png": "[encoded data removed]"
          },
          "metadata": {
            "needs_background": "light"
          }
        }
      ]
    },
    {
      "cell_type": "markdown",
      "source": [
        "EN ESTE GRAFICO PODEMOS DIMENSIONAR LA GRAN CANTIDAD DE CITOCINA Y GUANINA EN ESTE SER VIVO MARINO. PARA LO CUAL LA TEORIA DE QUE LA SALINISPORA ES UN COMBATIENTE DIRECTO EN CONTRA DE LAS CELULAR CANCERIGENA, AL ENVIAR SEÑALES AL ORNANIMO PARA QUE SEAN DESTRUIDAS. Y NO SOLO ESTO SI NO QUE LAS CELULAS BUENAS LAS DEJAS VIVAS."
      ],
      "metadata": {
        "id": "ehdmP-WKWySu"
      }
    },
    {
      "cell_type": "code",
      "source": [
        "from Bio import pairwise2\n",
        "from Bio.pairwise2 import format_alignment"
      ],
      "metadata": {
        "id": "cexMzSRVWHf0"
      },
      "execution_count": null,
      "outputs": []
    },
    {
      "cell_type": "code",
      "source": [
        "from Bio import pairwise2\n",
        "from Bio.pairwise2 import format_alignment"
      ],
      "metadata": {
        "id": "4iOCyYsfWNhF"
      },
      "execution_count": null,
      "outputs": []
    },
    {
      "cell_type": "code",
      "source": [
        "alignments = pairwise2.align.globalxx(ar_protein,ar_protein)"
      ],
      "metadata": {
        "id": "HqeZCgdmWPUq"
      },
      "execution_count": null,
      "outputs": []
    },
    {
      "cell_type": "code",
      "source": [
        "print(alignments)"
      ],
      "metadata": {
        "colab": {
          "base_uri": "https://localhost:8080/"
        },
        "id": "L0UJNu0GWPoZ",
        "outputId": "5734f6db-f746-4809-ed0a-0a70f40f1e90"
      },
      "execution_count": null,
      "outputs": [
        {
          "output_type": "stream",
          "name": "stdout",
          "text": [
            "[Alignment(seqA=\"ID: NZ_KB913036.1\\nName: NZ_KB913036.1\\nDescription: NZ_KB913036.1 Salinispora arenicola DSM 45545 strain CNS-991 scaffold1, whole genome shotgun sequence\\nNumber of features: 0\\nSeq('CGGAGGACCTGGGACCGGGACGGGTGGCGCAGCTTGGACATCGTCTTGGACTCG...AAG')\", seqB=\"ID: NZ_KB913036.1\\nName: NZ_KB913036.1\\nDescription: NZ_KB913036.1 Salinispora arenicola DSM 45545 strain CNS-991 scaffold1, whole genome shotgun sequence\\nNumber of features: 0\\nSeq('CGGAGGACCTGGGACCGGGACGGGTGGCGCAGCTTGGACATCGTCTTGGACTCG...AAG')\", score=242.0, start=0, end=242)]\n"
          ]
        }
      ]
    },
    {
      "cell_type": "code",
      "source": [
        "print(format_alignment(*alignments[0]))"
      ],
      "metadata": {
        "colab": {
          "base_uri": "https://localhost:8080/"
        },
        "id": "_rNW8BY0Wjxn",
        "outputId": "1cdede45-0c0a-4a70-c3be-da32be87ecad"
      },
      "execution_count": null,
      "outputs": [
        {
          "output_type": "stream",
          "name": "stdout",
          "text": [
            "ID: NZ_KB913036.1\n",
            "Name: NZ_KB913036.1\n",
            "Description: NZ_KB913036.1 Salinispora arenicola DSM 45545 strain CNS-991 scaffold1, whole genome shotgun sequence\n",
            "Number of features: 0\n",
            "Seq('CGGAGGACCTGGGACCGGGACGGGTGGCGCAGCTTGGACATCGTCTTGGACTCG...AAG')\n",
            "||||||||||||||||||||||||||||||||||||||||||||||||||||||||||||||||||||||||||||||||||||||||||||||||||||||||||||||||||||||||||||||||||||||||||||||||||||||||||||||||||||||||||||||||||||||||||||||||||||||||||||||||||||||||||||||||||||||||||||||||||\n",
            "ID: NZ_KB913036.1\n",
            "Name: NZ_KB913036.1\n",
            "Description: NZ_KB913036.1 Salinispora arenicola DSM 45545 strain CNS-991 scaffold1, whole genome shotgun sequence\n",
            "Number of features: 0\n",
            "Seq('CGGAGGACCTGGGACCGGGACGGGTGGCGCAGCTTGGACATCGTCTTGGACTCG...AAG')\n",
            "  Score=242\n",
            "\n"
          ]
        }
      ]
    },
    {
      "cell_type": "markdown",
      "source": [
        "Codigo QR DE Proyecto"
      ],
      "metadata": {
        "id": "SkeB33JEgGOR"
      }
    },
    {
      "cell_type": "markdown",
      "source": [
        "![image.png](data:image/png;base64,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)"
      ],
      "metadata": {
        "id": "WmIDyfQ9gA4G"
      }
    }
  ]
}