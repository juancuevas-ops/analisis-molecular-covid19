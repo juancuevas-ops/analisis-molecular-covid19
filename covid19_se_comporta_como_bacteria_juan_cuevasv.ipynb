{
  "nbformat": 4,
  "nbformat_minor": 0,
  "metadata": {
    "colab": {
      "name": "covid19_se_comporta_como_bacteria_juan_cuevasv.ipynb",
      "provenance": [],
      "collapsed_sections": [],
      "authorship_tag": "ABX9TyMlOXyeSh5/QKQIhMiqMMSp",
      "include_colab_link": true
    },
    "kernelspec": {
      "name": "python3",
      "display_name": "Python 3"
    },
    "language_info": {
      "name": "python"
    }
  },
  "cells": [
    {
      "cell_type": "markdown",
      "metadata": {
        "id": "view-in-github",
        "colab_type": "text"
      },
      "source": [
        "<a href=\"https://colab.research.google.com/github/juancuevas-ops/analisis-molecular-covid19/blob/main/covid19_se_comporta_como_bacteria_juan_cuevasv.ipynb\" target=\"_parent\"><img src=\"https://colab.research.google.com/assets/colab-badge.svg\" alt=\"Open In Colab\"/></a>"
      ]
    },
    {
      "cell_type": "code",
      "metadata": {
        "colab": {
          "base_uri": "https://localhost:8080/",
          "height": 0
        },
        "id": "GZixXpxK7Y_w",
        "outputId": "952427af-1477-4fa4-d4f3-e01ee4549c1f"
      },
      "source": [
        "!pip install Bio"
      ],
      "execution_count": 1,
      "outputs": [
        {
          "output_type": "stream",
          "text": [
            "Collecting Bio\n",
            "\u001b[?25l  Downloading https://files.pythonhosted.org/packages/85/84/13d3aa585fcaa010577cfdc40f3211933fa4468e98f8e63576066b2a7ad1/bio-0.4.1-py3-none-any.whl (73kB)\n",
            "\r\u001b[K     |████▌                           | 10kB 15.4MB/s eta 0:00:01\r\u001b[K     |█████████                       | 20kB 10.7MB/s eta 0:00:01\r\u001b[K     |█████████████▍                  | 30kB 8.1MB/s eta 0:00:01\r\u001b[K     |█████████████████▉              | 40kB 7.0MB/s eta 0:00:01\r\u001b[K     |██████████████████████▎         | 51kB 4.1MB/s eta 0:00:01\r\u001b[K     |██████████████████████████▊     | 61kB 4.8MB/s eta 0:00:01\r\u001b[K     |███████████████████████████████▏| 71kB 4.8MB/s eta 0:00:01\r\u001b[K     |████████████████████████████████| 81kB 3.4MB/s \n",
            "\u001b[?25hRequirement already satisfied: requests in /usr/local/lib/python3.7/dist-packages (from Bio) (2.23.0)\n",
            "Collecting biopython>=1.78\n",
            "\u001b[?25l  Downloading https://files.pythonhosted.org/packages/3a/cd/0098eaff841850c01da928c7f509b72fd3e1f51d77b772e24de9e2312471/biopython-1.78-cp37-cp37m-manylinux1_x86_64.whl (2.3MB)\n",
            "\u001b[K     |████████████████████████████████| 2.3MB 8.0MB/s \n",
            "\u001b[?25hRequirement already satisfied: numpy<1.20 in /usr/local/lib/python3.7/dist-packages (from Bio) (1.19.5)\n",
            "Requirement already satisfied: certifi>=2017.4.17 in /usr/local/lib/python3.7/dist-packages (from requests->Bio) (2020.12.5)\n",
            "Requirement already satisfied: idna<3,>=2.5 in /usr/local/lib/python3.7/dist-packages (from requests->Bio) (2.10)\n",
            "Requirement already satisfied: urllib3!=1.25.0,!=1.25.1,<1.26,>=1.21.1 in /usr/local/lib/python3.7/dist-packages (from requests->Bio) (1.24.3)\n",
            "Requirement already satisfied: chardet<4,>=3.0.2 in /usr/local/lib/python3.7/dist-packages (from requests->Bio) (3.0.4)\n",
            "Installing collected packages: biopython, Bio\n",
            "Successfully installed Bio-0.4.1 biopython-1.78\n"
          ],
          "name": "stdout"
        }
      ]
    },
    {
      "cell_type": "code",
      "metadata": {
        "id": "iSdo0fQJ8N-s"
      },
      "source": [
        "from Bio import SeqIO"
      ],
      "execution_count": 2,
      "outputs": []
    },
    {
      "cell_type": "code",
      "metadata": {
        "id": "-jZ6rfyF8QDr"
      },
      "source": [
        "covid =  SeqIO.read(\"/content/covid_19.fasta\",\"fasta\")\n",
        "bacteria = SeqIO.read(\"/content/bacteria.fasta\",\"fasta\")"
      ],
      "execution_count": 3,
      "outputs": []
    },
    {
      "cell_type": "code",
      "metadata": {
        "colab": {
          "base_uri": "https://localhost:8080/",
          "height": 0
        },
        "id": "VIiFCPlJ9Fcr",
        "outputId": "94a9f4ae-e119-4261-88ab-b9e673f8d855"
      },
      "source": [
        "covid"
      ],
      "execution_count": 4,
      "outputs": [
        {
          "output_type": "execute_result",
          "data": {
            "text/plain": [
              "SeqRecord(seq=Seq('ATATTAGGTTTTTACCTACCCAGGAAAAGCCAACCAACCTCGATCTCTTGTAGA...AAA'), id='NC_004718.3', name='NC_004718.3', description='NC_004718.3 SARS coronavirus Tor2, complete genome', dbxrefs=[])"
            ]
          },
          "metadata": {
            "tags": []
          },
          "execution_count": 4
        }
      ]
    },
    {
      "cell_type": "code",
      "metadata": {
        "colab": {
          "base_uri": "https://localhost:8080/",
          "height": 0
        },
        "id": "rKWCcXVM9K1J",
        "outputId": "baef8d71-250e-4b1e-dff1-d1b41a9de821"
      },
      "source": [
        "bacteria"
      ],
      "execution_count": 5,
      "outputs": [
        {
          "output_type": "execute_result",
          "data": {
            "text/plain": [
              "SeqRecord(seq=Seq('MKLKNQDKHQSFSSNAKVDKISTDSLKNETDIELQNINHEDCLKMSEYENVEPF...RNM'), id='AAP86782.1', name='AAP86782.1', description='AAP86782.1 Cry1I [Bacillus thuringiensis]', dbxrefs=[])"
            ]
          },
          "metadata": {
            "tags": []
          },
          "execution_count": 5
        }
      ]
    },
    {
      "cell_type": "code",
      "metadata": {
        "id": "grqtjrEE_EQA"
      },
      "source": [
        "covid_seq = covid.seq"
      ],
      "execution_count": 6,
      "outputs": []
    },
    {
      "cell_type": "code",
      "metadata": {
        "id": "bA71kNvA_JQF"
      },
      "source": [
        "bacteria_seq = bacteria.seq"
      ],
      "execution_count": 7,
      "outputs": []
    },
    {
      "cell_type": "code",
      "metadata": {
        "colab": {
          "base_uri": "https://localhost:8080/",
          "height": 0
        },
        "id": "vFs4xUht_qkM",
        "outputId": "b862e74f-a9f9-4976-9f64-8019c7c6e74c"
      },
      "source": [
        "print(\"covid_seq ::\",len(covid_seq))\n",
        "print(\"bacteria_seq ::\",len(bacteria_seq))"
      ],
      "execution_count": 9,
      "outputs": [
        {
          "output_type": "stream",
          "text": [
            "covid_seq :: 29751\n",
            "bacteria_seq :: 719\n"
          ],
          "name": "stdout"
        }
      ]
    },
    {
      "cell_type": "code",
      "metadata": {
        "id": "97nPLdCDAzfD"
      },
      "source": [
        "from Bio.SeqUtils import GC #cual es mas estable"
      ],
      "execution_count": 11,
      "outputs": []
    },
    {
      "cell_type": "code",
      "metadata": {
        "colab": {
          "base_uri": "https://localhost:8080/",
          "height": 0
        },
        "id": "SYa9oSp8AkRk",
        "outputId": "b83931a1-5e51-4471-b4c7-012884dbc8a8"
      },
      "source": [
        "print(\"GC contenido de covid_seq ::\",GC(covid_seq))\n",
        "print(\"GC contenido de bacteria_seq ::\",GC(bacteria_seq)) #37% de similitud en este dato"
      ],
      "execution_count": 12,
      "outputs": [
        {
          "output_type": "stream",
          "text": [
            "GC contenido de covid_seq :: 40.7616550704178\n",
            "GC contenido de bacteria_seq :: 14.881780250347704\n"
          ],
          "name": "stdout"
        }
      ]
    },
    {
      "cell_type": "markdown",
      "metadata": {
        "id": "yv5HX0uaHi01"
      },
      "source": [
        "covid es mas estable que la bacteria Bacillus thuringiensis con 40.76"
      ]
    },
    {
      "cell_type": "markdown",
      "metadata": {
        "id": "1mICtHrjILQC"
      },
      "source": [
        "NOTA: En genética, GC, Contenido GC o Porcentaje GC (contenido de guanina y citosina) es una característica del genoma de un organismo o de cualquier pedazo de ADN o ARN. G y C denotan guanina y citosina, respectivamente. Expresado generalmente como porcentaje, representa la cantidad de pares Guanina-Citosina en la molécula de ADN o genoma que está siendo investigado. La fracción restante de cualquier molécula de ADN contendrá bases A (adenina) y T (timina), de forma que el contenido GC da también el contenido AT (por ejemplo, un GC del 58% implica un contenido AT del 42%).1​ Los pares GC en el ADN están conectados por tres enlaces de hidrógeno en vez de dos de los pares AT. Esto hace el enlace GC más fuerte y más resistente a la desnaturalización por efecto de la temperatura por lo que el contenido GC tiende así a ser mayor en los hipertermófilos.\n",
        "\n",
        "El contenido GC se utiliza a veces para clasificar organismos en taxonomía. Por ejemplo, las Actinobacteria se caracterizan por ser “bacterias de GC alto”. En Streptomyces coelicolor el GC es del 72%, en la levadura Saccharomyces cerevisiae del 38%, mientras que en el organismo modelo Arabidopsis thaliana es del 36%. y en este primer acercamiento podemos ver al virus covid con porcentaje muy cercano a las bacterias"
      ]
    },
    {
      "cell_type": "markdown",
      "metadata": {
        "id": "Zr3aqvx_IrfJ"
      },
      "source": [
        "ahora veremos el proceso de traslacion"
      ]
    },
    {
      "cell_type": "code",
      "metadata": {
        "colab": {
          "base_uri": "https://localhost:8080/",
          "height": 0
        },
        "id": "F5RN2ax-Igfg",
        "outputId": "31a5d071-e561-4dd4-f06b-58ef1f2c8aa3"
      },
      "source": [
        "covid_protein = covid_seq.translate()\n",
        "covid_protein"
      ],
      "execution_count": 20,
      "outputs": [
        {
          "output_type": "execute_result",
          "data": {
            "text/plain": [
              "Seq('ILGFYLPRKSQPTSISCRSVL*TNFKICVAVARLHA*CTYAV*TIINFTVVDKK...KKK')"
            ]
          },
          "metadata": {
            "tags": []
          },
          "execution_count": 20
        }
      ]
    },
    {
      "cell_type": "code",
      "metadata": {
        "id": "WOwjsNaaJwVI"
      },
      "source": [
        ""
      ],
      "execution_count": null,
      "outputs": []
    },
    {
      "cell_type": "code",
      "metadata": {
        "id": "oEnCtSJfIN6Z"
      },
      "source": [
        "bacteria_protein = bacteria_seq.translate()# Codon 'MKL' is invalid 1 error se debe analizar"
      ],
      "execution_count": null,
      "outputs": []
    },
    {
      "cell_type": "code",
      "metadata": {
        "id": "MeXU6EenHvVa"
      },
      "source": [
        "from Bio.SeqUtils.ProtParam import ProteinAnalysis"
      ],
      "execution_count": 26,
      "outputs": []
    },
    {
      "cell_type": "code",
      "metadata": {
        "id": "wST41u6dKFoj"
      },
      "source": [
        "covid_analysed = ProteinAnalysis(str(covid_protein))\n",
        "bacteria_analysed = ProteinAnalysis(str(bacteria_seq))"
      ],
      "execution_count": 28,
      "outputs": []
    },
    {
      "cell_type": "code",
      "metadata": {
        "colab": {
          "base_uri": "https://localhost:8080/",
          "height": 0
        },
        "id": "lRIBq2GjK8Vw",
        "outputId": "0eff0195-4004-440b-a327-e2f80b9c4f8d"
      },
      "source": [
        "covid_analysed\n",
        "bacteria_analysed"
      ],
      "execution_count": 30,
      "outputs": [
        {
          "output_type": "execute_result",
          "data": {
            "text/plain": [
              "<Bio.SeqUtils.ProtParam.ProteinAnalysis at 0x7fefdd7b4990>"
            ]
          },
          "metadata": {
            "tags": []
          },
          "execution_count": 30
        }
      ]
    },
    {
      "cell_type": "markdown",
      "metadata": {
        "id": "ZK4hsGT6LelC"
      },
      "source": [
        "veremos la frecuencia de aminoacidos"
      ]
    },
    {
      "cell_type": "code",
      "metadata": {
        "colab": {
          "base_uri": "https://localhost:8080/",
          "height": 0
        },
        "id": "TmHPVxsaLdqz",
        "outputId": "28cea6ae-eda7-4882-f6bf-4f3c38b94242"
      },
      "source": [
        "covid_analysed.count_amino_acids()"
      ],
      "execution_count": 31,
      "outputs": [
        {
          "output_type": "execute_result",
          "data": {
            "text/plain": [
              "{'A': 575,\n",
              " 'C': 313,\n",
              " 'D': 320,\n",
              " 'E': 365,\n",
              " 'F': 437,\n",
              " 'G': 438,\n",
              " 'H': 298,\n",
              " 'I': 566,\n",
              " 'K': 503,\n",
              " 'L': 1368,\n",
              " 'M': 365,\n",
              " 'N': 418,\n",
              " 'P': 314,\n",
              " 'Q': 388,\n",
              " 'R': 417,\n",
              " 'S': 737,\n",
              " 'T': 689,\n",
              " 'V': 683,\n",
              " 'W': 110,\n",
              " 'Y': 341}"
            ]
          },
          "metadata": {
            "tags": []
          },
          "execution_count": 31
        }
      ]
    },
    {
      "cell_type": "code",
      "metadata": {
        "colab": {
          "base_uri": "https://localhost:8080/",
          "height": 0
        },
        "id": "Cm8GiLZSLm9Z",
        "outputId": "59129b6a-f25e-4b6e-c7f4-cc427282e92f"
      },
      "source": [
        "bacteria_analysed.count_amino_acids()"
      ],
      "execution_count": 32,
      "outputs": [
        {
          "output_type": "execute_result",
          "data": {
            "text/plain": [
              "{'A': 44,\n",
              " 'C': 2,\n",
              " 'D': 34,\n",
              " 'E': 43,\n",
              " 'F': 37,\n",
              " 'G': 44,\n",
              " 'H': 19,\n",
              " 'I': 42,\n",
              " 'K': 31,\n",
              " 'L': 62,\n",
              " 'M': 11,\n",
              " 'N': 47,\n",
              " 'P': 29,\n",
              " 'Q': 29,\n",
              " 'R': 35,\n",
              " 'S': 61,\n",
              " 'T': 58,\n",
              " 'V': 47,\n",
              " 'W': 12,\n",
              " 'Y': 32}"
            ]
          },
          "metadata": {
            "tags": []
          },
          "execution_count": 32
        }
      ]
    },
    {
      "cell_type": "code",
      "metadata": {
        "colab": {
          "base_uri": "https://localhost:8080/",
          "height": 0
        },
        "id": "ZuQALYwrNDh3",
        "outputId": "da3b3613-ff9b-4c10-9465-1ba91a5ae050"
      },
      "source": [
        "from collections import Counter\n",
        "Counter(covid_protein).most_common(10)#las 10 proteinas mas comunes"
      ],
      "execution_count": 37,
      "outputs": [
        {
          "output_type": "execute_result",
          "data": {
            "text/plain": [
              "[('L', 1368),\n",
              " ('S', 737),\n",
              " ('T', 689),\n",
              " ('V', 683),\n",
              " ('A', 575),\n",
              " ('I', 566),\n",
              " ('K', 503),\n",
              " ('G', 438),\n",
              " ('F', 437),\n",
              " ('N', 418)]"
            ]
          },
          "metadata": {
            "tags": []
          },
          "execution_count": 37
        }
      ]
    },
    {
      "cell_type": "code",
      "metadata": {
        "colab": {
          "base_uri": "https://localhost:8080/",
          "height": 0
        },
        "id": "VPtZCenFNya-",
        "outputId": "44307645-37e0-4e37-e3f6-11b21f14f341"
      },
      "source": [
        "covid_freq = Counter(covid_protein)\n",
        "covid_freq"
      ],
      "execution_count": 39,
      "outputs": [
        {
          "output_type": "execute_result",
          "data": {
            "text/plain": [
              "Counter({'*': 272,\n",
              "         'A': 575,\n",
              "         'C': 313,\n",
              "         'D': 320,\n",
              "         'E': 365,\n",
              "         'F': 437,\n",
              "         'G': 438,\n",
              "         'H': 298,\n",
              "         'I': 566,\n",
              "         'K': 503,\n",
              "         'L': 1368,\n",
              "         'M': 365,\n",
              "         'N': 418,\n",
              "         'P': 314,\n",
              "         'Q': 388,\n",
              "         'R': 417,\n",
              "         'S': 737,\n",
              "         'T': 689,\n",
              "         'V': 683,\n",
              "         'W': 110,\n",
              "         'Y': 341})"
            ]
          },
          "metadata": {
            "tags": []
          },
          "execution_count": 39
        }
      ]
    },
    {
      "cell_type": "code",
      "metadata": {
        "colab": {
          "base_uri": "https://localhost:8080/",
          "height": 0
        },
        "id": "MEd5wfNCN8yH",
        "outputId": "2b8cca8e-627b-4f33-d59c-3daba3720157"
      },
      "source": [
        "bacteria_freq = Counter(bacteria_seq)\n",
        "bacteria_freq"
      ],
      "execution_count": 40,
      "outputs": [
        {
          "output_type": "execute_result",
          "data": {
            "text/plain": [
              "Counter({'A': 44,\n",
              "         'C': 2,\n",
              "         'D': 34,\n",
              "         'E': 43,\n",
              "         'F': 37,\n",
              "         'G': 44,\n",
              "         'H': 19,\n",
              "         'I': 42,\n",
              "         'K': 31,\n",
              "         'L': 62,\n",
              "         'M': 11,\n",
              "         'N': 47,\n",
              "         'P': 29,\n",
              "         'Q': 29,\n",
              "         'R': 35,\n",
              "         'S': 61,\n",
              "         'T': 58,\n",
              "         'V': 47,\n",
              "         'W': 12,\n",
              "         'Y': 32})"
            ]
          },
          "metadata": {
            "tags": []
          },
          "execution_count": 40
        }
      ]
    },
    {
      "cell_type": "code",
      "metadata": {
        "colab": {
          "base_uri": "https://localhost:8080/",
          "height": 0
        },
        "id": "IakBsi-vNc8B",
        "outputId": "3f054463-6a0f-4d22-b124-0a7fcf1dca64"
      },
      "source": [
        "Counter(bacteria_seq).most_common(10)"
      ],
      "execution_count": 36,
      "outputs": [
        {
          "output_type": "execute_result",
          "data": {
            "text/plain": [
              "[('L', 62),\n",
              " ('S', 61),\n",
              " ('T', 58),\n",
              " ('N', 47),\n",
              " ('V', 47),\n",
              " ('A', 44),\n",
              " ('G', 44),\n",
              " ('E', 43),\n",
              " ('I', 42),\n",
              " ('F', 37)]"
            ]
          },
          "metadata": {
            "tags": []
          },
          "execution_count": 36
        }
      ]
    },
    {
      "cell_type": "code",
      "metadata": {
        "colab": {
          "base_uri": "https://localhost:8080/",
          "height": 282
        },
        "id": "Z5nDQrZoOWGc",
        "outputId": "8775b4f6-7203-4b1a-d08f-d6ab5bc66a1b"
      },
      "source": [
        "import numpy as np\n",
        "import matplotlib.pyplot as plt\n",
        "plt.bar(covid_freq.keys(), covid_freq.values())#grafico de la frecuencia de proteinas"
      ],
      "execution_count": 41,
      "outputs": [
        {
          "output_type": "execute_result",
          "data": {
            "text/plain": [
              "<BarContainer object of 21 artists>"
            ]
          },
          "metadata": {
            "tags": []
          },
          "execution_count": 41
        },
        {
          "output_type": "display_data",
          "data": {
            "image/png": "[encoded data removed]",
            "text/plain": [
              "<Figure size 432x288 with 1 Axes>"
            ]
          },
          "metadata": {
            "tags": [],
            "needs_background": "light"
          }
        }
      ]
    },
    {
      "cell_type": "code",
      "metadata": {
        "colab": {
          "base_uri": "https://localhost:8080/",
          "height": 282
        },
        "id": "0MelnyJMOpNU",
        "outputId": "b6614876-6588-458f-a90f-e531558ddd5c"
      },
      "source": [
        "plt.bar(bacteria_freq.keys(), bacteria_freq.values())#grafico de la frecuencia de proteinaas de la bacteria"
      ],
      "execution_count": 43,
      "outputs": [
        {
          "output_type": "execute_result",
          "data": {
            "text/plain": [
              "<BarContainer object of 20 artists>"
            ]
          },
          "metadata": {
            "tags": []
          },
          "execution_count": 43
        },
        {
          "output_type": "display_data",
          "data": {
            "image/png": "[encoded data removed]",
            "text/plain": [
              "<Figure size 432x288 with 1 Axes>"
            ]
          },
          "metadata": {
            "tags": [],
            "needs_background": "light"
          }
        }
      ]
    },
    {
      "cell_type": "markdown",
      "metadata": {
        "id": "_vbCgxN_RZam"
      },
      "source": [
        "Tipos de alineación Alineación global: encuentra la mejor concordancia / acuerdo entre todos los caracteres en dos secuencias Alineación local: encuentra solo las subsecuencias que se alinean mejor"
      ]
    },
    {
      "cell_type": "code",
      "metadata": {
        "id": "z4sowp8KQJDE"
      },
      "source": [
        "from Bio import pairwise2\n",
        "from Bio.pairwise2 import format_alignment\n",
        "\n",
        "cov_n_bact = pairwise2.align.globalxx(covid_seq[0:100],bacteria_seq[0:100],one_alignment_only=True,score_only=True)"
      ],
      "execution_count": 49,
      "outputs": []
    },
    {
      "cell_type": "code",
      "metadata": {
        "colab": {
          "base_uri": "https://localhost:8080/",
          "height": 0
        },
        "id": "t-c2XhDvQpNf",
        "outputId": "628e4f87-030d-46f8-aa27-6fcb47a7696b"
      },
      "source": [
        "print(cov_n_bact)"
      ],
      "execution_count": 50,
      "outputs": [
        {
          "output_type": "stream",
          "text": [
            "18.0\n"
          ],
          "name": "stdout"
        }
      ]
    },
    {
      "cell_type": "code",
      "metadata": {
        "id": "573Mxw8LTHOD"
      },
      "source": [
        "#3D Structure\n",
        "from Bio.PDB import PDBParser,MMCIFParser#grafico de porcentaje  concordancia \n",
        "#entre una bacteria escogida al azar como lo es Bacillus thuringiensis y el virus covid19"
      ],
      "execution_count": 73,
      "outputs": []
    },
    {
      "cell_type": "code",
      "metadata": {
        "colab": {
          "base_uri": "https://localhost:8080/",
          "height": 336
        },
        "id": "1Pobxe3nUDIc",
        "outputId": "4559d0f7-82e1-4b95-fadb-64b49adfd9e9"
      },
      "source": [
        "from mpl_toolkits.mplot3d import Axes3D\n",
        "\n",
        "fig = plt.figure()\n",
        "ax = Axes3D(fig)\n",
        "X = np.arange(18.0)\n",
        "Y = np.arange(18.0)\n",
        "X, Y = np.meshgrid(X, Y)\n",
        "R = np.sqrt(X**2 + Y**2)\n",
        "Z = np.sin(R)\n",
        "\n",
        "ax.plot_surface(X, Y, Z, rstride=1, cstride=1, cmap='hot')"
      ],
      "execution_count": 70,
      "outputs": [
        {
          "output_type": "execute_result",
          "data": {
            "text/plain": [
              "<mpl_toolkits.mplot3d.art3d.Poly3DCollection at 0x7fefd4ab24d0>"
            ]
          },
          "metadata": {
            "tags": []
          },
          "execution_count": 70
        },
        {
          "output_type": "display_data",
          "data": {
            "image/png": "[encoded data removed]",
            "text/plain": [
              "<Figure size 432x288 with 1 Axes>"
            ]
          },
          "metadata": {
            "tags": [],
            "needs_background": "light"
          }
        }
      ]
    },
    {
      "cell_type": "markdown",
      "metadata": {
        "id": "mAEeNv5WVDE3"
      },
      "source": [
        "Conclusion el virud covid 19 se puede tratar con antibioticos como cualquier bacteria peligrosa en el organismo humana... esta investigacion es solo inicial para lo cual se relizaran analisis con bacteria que producen los mismos sintomas que el covid19.....saludos\n",
        "CREADO POR JUAN CUEVAS VASQUEZ."
      ]
    }
  ]
}