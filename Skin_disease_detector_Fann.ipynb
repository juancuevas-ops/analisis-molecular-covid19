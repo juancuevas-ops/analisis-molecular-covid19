{
  "nbformat": 4,
  "nbformat_minor": 0,
  "metadata": {
    "colab": {
      "provenance": [],
      "authorship_tag": "ABX9TyNxo8FK+XGuPgmZHPq1kHNu",
      "include_colab_link": true
    },
    "kernelspec": {
      "name": "python3",
      "display_name": "Python 3"
    },
    "language_info": {
      "name": "python"
    }
  },
  "cells": [
    {
      "cell_type": "markdown",
      "metadata": {
        "id": "view-in-github",
        "colab_type": "text"
      },
      "source": [
        "<a href=\"https://colab.research.google.com/github/juancuevas-ops/analisis-molecular-covid19/blob/main/Skin_disease_detector_Fann.ipynb\" target=\"_parent\"><img src=\"https://colab.research.google.com/assets/colab-badge.svg\" alt=\"Open In Colab\"/></a>"
      ]
    },
    {
      "cell_type": "code",
      "source": [
        "# prompt: quiero instalar tensorflow para usar keras model y layer intalalo\n",
        "\n",
        "!pip install tensorflow\n",
        "import tensorflow as tf\n",
        "from tensorflow import keras\n",
        "from tensorflow.keras import layers\n",
        "print(tf.__version__)\n",
        "print(\"TensorFlow installation successful\")\n"
      ],
      "metadata": {
        "colab": {
          "base_uri": "https://localhost:8080/",
          "height": 0
        },
        "id": "CSMQ4AJn6Mp_",
        "outputId": "e5c037b2-4ce4-48fe-a913-a2a798331a00"
      },
      "execution_count": 15,
      "outputs": [
        {
          "output_type": "stream",
          "name": "stdout",
          "text": [
            "Requirement already satisfied: tensorflow in /usr/local/lib/python3.11/dist-packages (2.18.0)\n",
            "Requirement already satisfied: absl-py>=1.0.0 in /usr/local/lib/python3.11/dist-packages (from tensorflow) (1.4.0)\n",
            "Requirement already satisfied: astunparse>=1.6.0 in /usr/local/lib/python3.11/dist-packages (from tensorflow) (1.6.3)\n",
            "Requirement already satisfied: flatbuffers>=24.3.25 in /usr/local/lib/python3.11/dist-packages (from tensorflow) (25.1.24)\n",
            "Requirement already satisfied: gast!=0.5.0,!=0.5.1,!=0.5.2,>=0.2.1 in /usr/local/lib/python3.11/dist-packages (from tensorflow) (0.6.0)\n",
            "Requirement already satisfied: google-pasta>=0.1.1 in /usr/local/lib/python3.11/dist-packages (from tensorflow) (0.2.0)\n",
            "Requirement already satisfied: libclang>=13.0.0 in /usr/local/lib/python3.11/dist-packages (from tensorflow) (18.1.1)\n",
            "Requirement already satisfied: opt-einsum>=2.3.2 in /usr/local/lib/python3.11/dist-packages (from tensorflow) (3.4.0)\n",
            "Requirement already satisfied: packaging in /usr/local/lib/python3.11/dist-packages (from tensorflow) (24.2)\n",
            "Requirement already satisfied: protobuf!=4.21.0,!=4.21.1,!=4.21.2,!=4.21.3,!=4.21.4,!=4.21.5,<6.0.0dev,>=3.20.3 in /usr/local/lib/python3.11/dist-packages (from tensorflow) (4.25.6)\n",
            "Requirement already satisfied: requests<3,>=2.21.0 in /usr/local/lib/python3.11/dist-packages (from tensorflow) (2.32.3)\n",
            "Requirement already satisfied: setuptools in /usr/local/lib/python3.11/dist-packages (from tensorflow) (75.1.0)\n",
            "Requirement already satisfied: six>=1.12.0 in /usr/local/lib/python3.11/dist-packages (from tensorflow) (1.17.0)\n",
            "Requirement already satisfied: termcolor>=1.1.0 in /usr/local/lib/python3.11/dist-packages (from tensorflow) (2.5.0)\n",
            "Requirement already satisfied: typing-extensions>=3.6.6 in /usr/local/lib/python3.11/dist-packages (from tensorflow) (4.12.2)\n",
            "Requirement already satisfied: wrapt>=1.11.0 in /usr/local/lib/python3.11/dist-packages (from tensorflow) (1.17.2)\n",
            "Requirement already satisfied: grpcio<2.0,>=1.24.3 in /usr/local/lib/python3.11/dist-packages (from tensorflow) (1.70.0)\n",
            "Requirement already satisfied: tensorboard<2.19,>=2.18 in /usr/local/lib/python3.11/dist-packages (from tensorflow) (2.18.0)\n",
            "Requirement already satisfied: keras>=3.5.0 in /usr/local/lib/python3.11/dist-packages (from tensorflow) (3.8.0)\n",
            "Requirement already satisfied: numpy<2.1.0,>=1.26.0 in /usr/local/lib/python3.11/dist-packages (from tensorflow) (1.26.4)\n",
            "Requirement already satisfied: h5py>=3.11.0 in /usr/local/lib/python3.11/dist-packages (from tensorflow) (3.12.1)\n",
            "Requirement already satisfied: ml-dtypes<0.5.0,>=0.4.0 in /usr/local/lib/python3.11/dist-packages (from tensorflow) (0.4.1)\n",
            "Requirement already satisfied: tensorflow-io-gcs-filesystem>=0.23.1 in /usr/local/lib/python3.11/dist-packages (from tensorflow) (0.37.1)\n",
            "Requirement already satisfied: wheel<1.0,>=0.23.0 in /usr/local/lib/python3.11/dist-packages (from astunparse>=1.6.0->tensorflow) (0.45.1)\n",
            "Requirement already satisfied: rich in /usr/local/lib/python3.11/dist-packages (from keras>=3.5.0->tensorflow) (13.9.4)\n",
            "Requirement already satisfied: namex in /usr/local/lib/python3.11/dist-packages (from keras>=3.5.0->tensorflow) (0.0.8)\n",
            "Requirement already satisfied: optree in /usr/local/lib/python3.11/dist-packages (from keras>=3.5.0->tensorflow) (0.14.0)\n",
            "Requirement already satisfied: charset-normalizer<4,>=2 in /usr/local/lib/python3.11/dist-packages (from requests<3,>=2.21.0->tensorflow) (3.4.1)\n",
            "Requirement already satisfied: idna<4,>=2.5 in /usr/local/lib/python3.11/dist-packages (from requests<3,>=2.21.0->tensorflow) (3.10)\n",
            "Requirement already satisfied: urllib3<3,>=1.21.1 in /usr/local/lib/python3.11/dist-packages (from requests<3,>=2.21.0->tensorflow) (2.3.0)\n",
            "Requirement already satisfied: certifi>=2017.4.17 in /usr/local/lib/python3.11/dist-packages (from requests<3,>=2.21.0->tensorflow) (2024.12.14)\n",
            "Requirement already satisfied: markdown>=2.6.8 in /usr/local/lib/python3.11/dist-packages (from tensorboard<2.19,>=2.18->tensorflow) (3.7)\n",
            "Requirement already satisfied: tensorboard-data-server<0.8.0,>=0.7.0 in /usr/local/lib/python3.11/dist-packages (from tensorboard<2.19,>=2.18->tensorflow) (0.7.2)\n",
            "Requirement already satisfied: werkzeug>=1.0.1 in /usr/local/lib/python3.11/dist-packages (from tensorboard<2.19,>=2.18->tensorflow) (3.1.3)\n",
            "Requirement already satisfied: MarkupSafe>=2.1.1 in /usr/local/lib/python3.11/dist-packages (from werkzeug>=1.0.1->tensorboard<2.19,>=2.18->tensorflow) (2.1.5)\n",
            "Requirement already satisfied: markdown-it-py>=2.2.0 in /usr/local/lib/python3.11/dist-packages (from rich->keras>=3.5.0->tensorflow) (3.0.0)\n",
            "Requirement already satisfied: pygments<3.0.0,>=2.13.0 in /usr/local/lib/python3.11/dist-packages (from rich->keras>=3.5.0->tensorflow) (2.18.0)\n",
            "Requirement already satisfied: mdurl~=0.1 in /usr/local/lib/python3.11/dist-packages (from markdown-it-py>=2.2.0->rich->keras>=3.5.0->tensorflow) (0.1.2)\n",
            "2.18.0\n",
            "TensorFlow installation successful\n"
          ]
        }
      ]
    },
    {
      "cell_type": "code",
      "source": [
        "import gradio as gr\n",
        "import tensorflow as tf\n",
        "import numpy as np\n",
        "import cv2\n",
        "from tensorflow.keras.layers import DepthwiseConv2D\n",
        "from tensorflow.keras.models import Model\n",
        "from PIL import Image\n",
        "\n",
        "# Función personalizada para DepthwiseConv2D\n",
        "def custom_depthwise_conv2d(**kwargs):\n",
        "    kwargs.pop('groups', None)\n",
        "    return DepthwiseConv2D(**kwargs)\n",
        "\n",
        "custom_objects = {'DepthwiseConv2D': custom_depthwise_conv2d}\n",
        "\n",
        "# Ruta del modelo\n",
        "path_to_model = \"/content/modelo_jeysshon_iaderm.h5\"\n",
        "\n",
        "# Cargar el modelo con custom_objects\n",
        "try:\n",
        "    model = tf.keras.models.load_model(path_to_model, custom_objects=custom_objects)\n",
        "    print(\"Modelo cargado exitosamente.\")\n",
        "except Exception as e:\n",
        "    print(f\"Error al cargar el modelo: {e}\")\n",
        "    raise\n",
        "\n",
        "# Definir las etiquetas\n",
        "labels = [\n",
        "    'Acné / Rosácea', 'Queratosis Actínica / Carcinoma Basocelular',\n",
        "    'Dermatitis Atópica', 'Enfermedad Bullosa',\n",
        "    'Celulitis Impétigo (Infecciones Bacterianas)',\n",
        "    'Eczema', 'Exanthems (Erupciones Cutáneas por Medicamentos)', 'Pérdida de Cabello (Alopecia)',\n",
        "    'Herpes HPV', 'Trastornos de Pigmentación',\n",
        "    'Lupus',\n",
        "    'Melanoma (Cáncer de Piel)', 'Hongos en las Uñas',\n",
        "    'Hiedra Venenosa',\n",
        "    'Psoriasis (Lichen Planus)', 'Sarna Lyme',\n",
        "    'Queratosis Seborreica', 'Enfermedad Sistémica',\n",
        "    'Tinea Ringworm (Infecciones Fúngicas)',\n",
        "    'Urticaria Ronchas', 'Tumores Vasculares', 'Vasculitis', 'Verrugas Molusco'\n",
        "]\n",
        "\n",
        "# Función Grad-CAM para generar el mapa de calor de activación\n",
        "def grad_cam(model, img_array, last_conv_layer_name=\"top_conv\", pred_index=None):\n",
        "    grad_model = Model([model.inputs], [model.get_layer(last_conv_layer_name).output, model.output])\n",
        "\n",
        "    with tf.GradientTape() as tape:\n",
        "        last_conv_layer_output, preds = grad_model(img_array)\n",
        "        if pred_index is None:\n",
        "            pred_index = tf.argmax(preds[0])\n",
        "        class_channel = preds[:, pred_index]\n",
        "\n",
        "    grads = tape.gradient(class_channel, last_conv_layer_output)\n",
        "    pooled_grads = tf.reduce_mean(grads, axis=(0, 1, 2))\n",
        "\n",
        "    last_conv_layer_output = last_conv_layer_output[0]\n",
        "    heatmap = last_conv_layer_output @ pooled_grads[..., tf.newaxis]\n",
        "    heatmap = tf.squeeze(heatmap)\n",
        "    heatmap = tf.maximum(heatmap, 0) / tf.math.reduce_max(heatmap)\n",
        "    return heatmap.numpy()\n",
        "\n",
        "# Generar el mapa de calor de activación usando Grad-CAM\n",
        "def generate_heatmap(image, last_conv_layer_name=\"top_conv\"):\n",
        "    img_array = tf.image.resize(image, (224, 224))\n",
        "    img_array = tf.expand_dims(img_array, axis=0)\n",
        "    heatmap = grad_cam(model, img_array, last_conv_layer_name)\n",
        "    heatmap = cv2.resize(heatmap, (image.shape[1], image.shape[0]))\n",
        "    heatmap = np.uint8(255 * heatmap)\n",
        "    heatmap = cv2.applyColorMap(heatmap, cv2.COLORMAP_JET)\n",
        "    superimposed_image = cv2.addWeighted(np.array(image), 0.6, heatmap, 0.4, 0)\n",
        "    return Image.fromarray(superimposed_image)\n",
        "\n",
        "# Función principal para clasificar la imagen y generar el mapa de calor\n",
        "def classify_image(image):\n",
        "    # Redimensionar y preparar la imagen para predicción\n",
        "    image_resized = tf.image.resize(image, (224, 224))\n",
        "    image_resized = tf.expand_dims(image_resized, axis=0)\n",
        "    prediction = model.predict(image_resized).flatten()\n",
        "    confidences = {labels[i]: float(prediction[i]) for i in range(len(labels))}\n",
        "\n",
        "    # Generar mapa de calor\n",
        "    heatmap_image = generate_heatmap(np.array(image))\n",
        "    return confidences, heatmap_image\n",
        "\n",
        "# Configuración de la interfaz de Gradio\n",
        "title = \"AI-DERM DETECTION: Diagnóstico Automatizado de Enfermedades Cutáneas con Mapa de Calor\"\n",
        "\n",
        "article = (\n",
        "    \"Se propone un sistema automatizado para el diagnóstico de las 23 enfermedades comunes de la piel:\\n\\n\"\n",
        "    \"1. Acné / Rosácea\\n\"\n",
        "    \"2. Queratosis Actínica / Carcinoma Basocelular\\n\"\n",
        "    \"3. Dermatitis Atópica\\n\"\n",
        "    \"4. Enfermedades Bullosas\\n\"\n",
        "    \"5. Celulitis / Impétigo (Infecciones Bacterianas)\\n\"\n",
        "    \"6. Eccema\\n\"\n",
        "    \"7. Exantemas (Erupciones Cutáneas por Medicamentos)\\n\"\n",
        "    \"8. Pérdida de Cabello (Alopecia)\\n\"\n",
        "    \"9. Herpes / VPH\\n\"\n",
        "    \"10. Trastornos de la Pigmentación\\n\"\n",
        "    \"11. Lupus\\n\"\n",
        "    \"12. Melanoma (Cáncer de Piel)\\n\"\n",
        "    \"13. Hongos en las Uñas\\n\"\n",
        "    \"14. Hiedra Venenosa\\n\"\n",
        "    \"15. Psoriasis (liquen plano)\\n\"\n",
        "    \"16. Sarna / Enfermedad de Lyme\\n\"\n",
        "    \"17. Queratosis Seborreica\\n\"\n",
        "    \"18. Enfermedad Sistémica\\n\"\n",
        "    \"19. Tiña / Tiña (Infecciones Fúngicas)\\n\"\n",
        "    \"20. Urticaria / Ronchas\\n\"\n",
        "    \"21. Tumores Vasculares\\n\"\n",
        "    \"22. Vasculitis\\n\"\n",
        "    \"23. Verrugas / Molusco\\n\\n\"\n",
        "    \"Este sistema automatizado se basa en un modelo preentrenado EfficientNetB7, capaz de diagnosticar 23 enfermedades cutáneas comunes. La interfaz te permite cargar una imagen y obtener las probabilidades de cada enfermedad detectada.\\n\\n\"\n",
        "    \"Además, el sistema incorpora Grad-CAM, una técnica de visualización que genera un mapa de calor superpuesto a la imagen de entrada, \"\n",
        "    \"destacando las áreas clave que el modelo considera relevantes para el diagnóstico. Esto permite a los profesionales de la salud y usuarios \"\n",
        "    \"comprender mejor el razonamiento del modelo al realizar una predicción, facilitando la interpretación y confianza en el diagnóstico automatizado.\\n\\n\"\n",
        "    \"<p style='text-align: center'>\"\n",
        "    \"<span style='font-size: 15pt;'>AI-DERM . Jeysshon Bustos . 2023.</span>\"\n",
        "    \"</p>\"\n",
        ")\n",
        "\n",
        "description = (\n",
        "    \"AI-DERM DETECTION es una herramienta avanzada que permite cargar imágenes de afecciones cutáneas para su diagnóstico automático. \"\n",
        "    \"El modelo clasifica la imagen en una de las 23 categorías de enfermedades cutáneas más comunes. Además, gracias a la implementación de Grad-CAM, \"\n",
        "    \"se muestra un mapa de calor superpuesto sobre la imagen, resaltando las zonas donde el modelo ha encontrado patrones que contribuyen a la clasificación. \"\n",
        "    \"Esta visualización permite entender mejor el diagnóstico y proporciona información adicional sobre las áreas afectadas en la piel.\"\n",
        ")\n",
        "\n",
        "examples = [\n",
        "    ['./123.jpg'],\n",
        "    ['./acne-closed-comedo-2.jpg'],\n",
        "    ['./distal-subungual-onychomycosis-86.jpeg'],\n",
        "    ['./cherry-angioma-16.jpg'],\n",
        "    ['./malignant-melanoma-16.jpg'],\n",
        "    ['./tinea-primary-lesion-15.jpeg'],\n",
        "    ['./congenital-nevus-35.jpg'],\n",
        "    ['./tinea-body-137.jpg'],\n",
        "    ['./atopic-13.jpg'],\n",
        "    ['./atopic-7.jpg']\n",
        "]\n",
        "\n",
        "# Lanzar la interfaz de Gradio\n",
        "gr.Interface(\n",
        "    fn=classify_image,\n",
        "    title=title,\n",
        "    article=article,\n",
        "    description=description,\n",
        "    inputs=gr.Image(),\n",
        "    outputs=[gr.Label(num_top_classes=4), gr.Image(label=\"Mapa de Calor\")],\n",
        "    examples=examples\n",
        ").launch()"
      ],
      "metadata": {
        "colab": {
          "base_uri": "https://localhost:8080/",
          "height": 732
        },
        "id": "OnCu-we44Q_a",
        "outputId": "5937b29c-689e-4c72-f0b5-ff32113243a5"
      },
      "execution_count": 16,
      "outputs": [
        {
          "output_type": "stream",
          "name": "stderr",
          "text": [
            "/usr/local/lib/python3.11/dist-packages/keras/src/optimizers/base_optimizer.py:86: UserWarning: Argument `decay` is no longer supported and will be ignored.\n",
            "  warnings.warn(\n",
            "WARNING:absl:Compiled the loaded model, but the compiled metrics have yet to be built. `model.compile_metrics` will be empty until you train or evaluate the model.\n",
            "WARNING:absl:Error in loading the saved optimizer state. As a result, your model is starting with a freshly initialized optimizer.\n"
          ]
        },
        {
          "output_type": "stream",
          "name": "stdout",
          "text": [
            "Modelo cargado exitosamente.\n",
            "Running Gradio in a Colab notebook requires sharing enabled. Automatically setting `share=True` (you can turn this off by setting `share=False` in `launch()` explicitly).\n",
            "\n",
            "Colab notebook detected. To show errors in colab notebook, set debug=True in launch()\n",
            "* Running on public URL: https://d22a5f75d00181e9a7.gradio.live\n",
            "\n",
            "This share link expires in 72 hours. For free permanent hosting and GPU upgrades, run `gradio deploy` from the terminal in the working directory to deploy to Hugging Face Spaces (https://huggingface.co/spaces)\n"
          ]
        },
        {
          "output_type": "display_data",
          "data": {
            "text/plain": [
              "<IPython.core.display.HTML object>"
            ],
            "text/html": [
              "<div><iframe src=\"https://d22a5f75d00181e9a7.gradio.live\" width=\"100%\" height=\"500\" allow=\"autoplay; camera; microphone; clipboard-read; clipboard-write;\" frameborder=\"0\" allowfullscreen></iframe></div>"
            ]
          },
          "metadata": {}
        },
        {
          "output_type": "execute_result",
          "data": {
            "text/plain": []
          },
          "metadata": {},
          "execution_count": 16
        }
      ]
    }
  ]
}