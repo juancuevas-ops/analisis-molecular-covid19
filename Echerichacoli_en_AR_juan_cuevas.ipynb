{
  "nbformat": 4,
  "nbformat_minor": 0,
  "metadata": {
    "colab": {
      "name": "Echerichacoli_en_AR_juan_cuevas.ipynb",
      "provenance": [],
      "authorship_tag": "ABX9TyN2M9vixiVevCPDJ4TdZBIf",
      "include_colab_link": true
    },
    "kernelspec": {
      "name": "python3",
      "display_name": "Python 3"
    },
    "language_info": {
      "name": "python"
    }
  },
  "cells": [
    {
      "cell_type": "markdown",
      "metadata": {
        "id": "view-in-github",
        "colab_type": "text"
      },
      "source": [
        "<a href=\"https://colab.research.google.com/github/juancuevas-ops/analisis-molecular-covid19/blob/main/Echerichacoli_en_AR_juan_cuevas.ipynb\" target=\"_parent\"><img src=\"https://colab.research.google.com/assets/colab-badge.svg\" alt=\"Open In Colab\"/></a>"
      ]
    },
    {
      "cell_type": "code",
      "metadata": {
        "colab": {
          "base_uri": "https://localhost:8080/"
        },
        "id": "m_miqfUA6l78",
        "outputId": "991050d5-7369-48c2-db51-73de5f8ba384"
      },
      "source": [
        "!pip install Bio"
      ],
      "execution_count": 1,
      "outputs": [
        {
          "output_type": "stream",
          "name": "stdout",
          "text": [
            "Collecting Bio\n",
            "  Downloading bio-1.1.1-py3-none-any.whl (220 kB)\n",
            "\u001b[?25l\r\u001b[K     |█▌                              | 10 kB 27.8 MB/s eta 0:00:01\r\u001b[K     |███                             | 20 kB 36.2 MB/s eta 0:00:01\r\u001b[K     |████▌                           | 30 kB 25.2 MB/s eta 0:00:01\r\u001b[K     |██████                          | 40 kB 19.3 MB/s eta 0:00:01\r\u001b[K     |███████▍                        | 51 kB 17.2 MB/s eta 0:00:01\r\u001b[K     |█████████                       | 61 kB 13.1 MB/s eta 0:00:01\r\u001b[K     |██████████▍                     | 71 kB 12.1 MB/s eta 0:00:01\r\u001b[K     |████████████                    | 81 kB 13.0 MB/s eta 0:00:01\r\u001b[K     |█████████████▍                  | 92 kB 14.3 MB/s eta 0:00:01\r\u001b[K     |██████████████▉                 | 102 kB 11.1 MB/s eta 0:00:01\r\u001b[K     |████████████████▍               | 112 kB 11.1 MB/s eta 0:00:01\r\u001b[K     |█████████████████▉              | 122 kB 11.1 MB/s eta 0:00:01\r\u001b[K     |███████████████████▎            | 133 kB 11.1 MB/s eta 0:00:01\r\u001b[K     |████████████████████▉           | 143 kB 11.1 MB/s eta 0:00:01\r\u001b[K     |██████████████████████▎         | 153 kB 11.1 MB/s eta 0:00:01\r\u001b[K     |███████████████████████▉        | 163 kB 11.1 MB/s eta 0:00:01\r\u001b[K     |█████████████████████████▎      | 174 kB 11.1 MB/s eta 0:00:01\r\u001b[K     |██████████████████████████▊     | 184 kB 11.1 MB/s eta 0:00:01\r\u001b[K     |████████████████████████████▎   | 194 kB 11.1 MB/s eta 0:00:01\r\u001b[K     |█████████████████████████████▊  | 204 kB 11.1 MB/s eta 0:00:01\r\u001b[K     |███████████████████████████████▏| 215 kB 11.1 MB/s eta 0:00:01\r\u001b[K     |████████████████████████████████| 220 kB 11.1 MB/s \n",
            "\u001b[?25hRequirement already satisfied: requests in /usr/local/lib/python3.7/dist-packages (from Bio) (2.23.0)\n",
            "Collecting biopython>=1.79\n",
            "  Downloading biopython-1.79-cp37-cp37m-manylinux_2_5_x86_64.manylinux1_x86_64.whl (2.3 MB)\n",
            "\u001b[K     |████████████████████████████████| 2.3 MB 71.3 MB/s \n",
            "\u001b[?25hCollecting mygene\n",
            "  Downloading mygene-3.2.2-py2.py3-none-any.whl (5.4 kB)\n",
            "Requirement already satisfied: tqdm>=4.62 in /usr/local/lib/python3.7/dist-packages (from Bio) (4.62.3)\n",
            "Requirement already satisfied: numpy in /usr/local/lib/python3.7/dist-packages (from biopython>=1.79->Bio) (1.19.5)\n",
            "Collecting biothings-client>=0.2.6\n",
            "  Downloading biothings_client-0.2.6-py2.py3-none-any.whl (37 kB)\n",
            "Requirement already satisfied: idna<3,>=2.5 in /usr/local/lib/python3.7/dist-packages (from requests->Bio) (2.10)\n",
            "Requirement already satisfied: certifi>=2017.4.17 in /usr/local/lib/python3.7/dist-packages (from requests->Bio) (2021.5.30)\n",
            "Requirement already satisfied: urllib3!=1.25.0,!=1.25.1,<1.26,>=1.21.1 in /usr/local/lib/python3.7/dist-packages (from requests->Bio) (1.24.3)\n",
            "Requirement already satisfied: chardet<4,>=3.0.2 in /usr/local/lib/python3.7/dist-packages (from requests->Bio) (3.0.4)\n",
            "Installing collected packages: biothings-client, mygene, biopython, Bio\n",
            "Successfully installed Bio-1.1.1 biopython-1.79 biothings-client-0.2.6 mygene-3.2.2\n"
          ]
        }
      ]
    },
    {
      "cell_type": "code",
      "metadata": {
        "id": "ALI-Uo3Z_NHY"
      },
      "source": [
        "#Import biopython libraries\n",
        "from Bio.SeqRecord import SeqRecord\n",
        "from Bio import SeqIO\n",
        "\n"
      ],
      "execution_count": 2,
      "outputs": []
    },
    {
      "cell_type": "code",
      "metadata": {
        "colab": {
          "base_uri": "https://localhost:8080/"
        },
        "id": "IrB8G8or_NQh",
        "outputId": "0ccb9939-5d9e-47c2-d53e-3f39026ad00e"
      },
      "source": [
        "#LECTURA  the DNA sequence\n",
        "AR2 = SeqIO.read(\"/content/ar2.fasta\", \"fasta\")\n",
        "\n",
        "#Display the first 1000 nucleotides in the Covid-19's DNA\n",
        "AR_DNA= AR2.seq\n",
        "print( AR_DNA[:100])"
      ],
      "execution_count": 3,
      "outputs": [
        {
          "output_type": "stream",
          "name": "stdout",
          "text": [
            "GAGTGTCATTTCTTCAATGGGACGGAGCGGGTGCGGTTCCTGGACAGATACTTCTATAACCAGGAGGAGTCCGTGCGCTTCGACAGCGACGTGGGGGAGT\n"
          ]
        }
      ]
    },
    {
      "cell_type": "code",
      "metadata": {
        "id": "weFTay4V_NZ3"
      },
      "source": [
        "import pandas as pd"
      ],
      "execution_count": 4,
      "outputs": []
    },
    {
      "cell_type": "code",
      "metadata": {
        "colab": {
          "base_uri": "https://localhost:8080/"
        },
        "id": "uLZfhBkZ76Cg",
        "outputId": "664e83ca-be2c-4131-92a1-96a14ec6ed8f"
      },
      "source": [
        "#conteo de frecuencia de nucleotidos\n",
        "DNA= AR_DNA\n",
        "nucleotides={}\n",
        "for n in DNA:\n",
        "    if n in nucleotides:\n",
        "        nucleotides[n] += 1\n",
        "    else:\n",
        "        nucleotides[n] =  1\n",
        "print(nucleotides)\n",
        "\n",
        "#Create a dataframe\n",
        "nts= pd.DataFrame(data=nucleotides, index=[0]).T.reset_index()\n",
        "nts= nts.rename(columns={0: 'frequency', 'index': 'nucleotides'})\n",
        "nts=nts.sort_values(by=['frequency'], ascending=True)\n",
        "print(nts)"
      ],
      "execution_count": 5,
      "outputs": [
        {
          "output_type": "stream",
          "name": "stdout",
          "text": [
            "{'G': 1322, 'A': 1352, 'T': 1625, 'C': 1175}\n",
            "  nucleotides  frequency\n",
            "3           C       1175\n",
            "0           G       1322\n",
            "1           A       1352\n",
            "2           T       1625\n"
          ]
        }
      ]
    },
    {
      "cell_type": "code",
      "metadata": {
        "colab": {
          "base_uri": "https://localhost:8080/"
        },
        "id": "yNp_Ky2SEGht",
        "outputId": "bcefbf47-f98d-46dc-e4c7-ee4937ef7746"
      },
      "source": [
        "AR_DNA= AR2.seq\n",
        "\n",
        "#Transcrpcion DNA a RNA CON  transcribe() funcion\n",
        "ar_mRNA = AR_DNA.transcribe()\n",
        "print(ar_mRNA[:100])"
      ],
      "execution_count": 7,
      "outputs": [
        {
          "output_type": "stream",
          "name": "stdout",
          "text": [
            "GAGUGUCAUUUCUUCAAUGGGACGGAGCGGGUGCGGUUCCUGGACAGAUACUUCUAUAACCAGGAGGAGUCCGUGCGCUUCGACAGCGACGUGGGGGAGU\n"
          ]
        }
      ]
    },
    {
      "cell_type": "code",
      "metadata": {
        "colab": {
          "base_uri": "https://localhost:8080/"
        },
        "id": "VMdOd7rRFBlG",
        "outputId": "01c34008-e9f9-4262-bf16-070790908dda"
      },
      "source": [
        "#traduccion de arn mensajero a aminoacidos \n",
        "ar_aa = ar_mRNA.translate()\n",
        "print(ar_aa[:99])"
      ],
      "execution_count": 8,
      "outputs": [
        {
          "output_type": "stream",
          "name": "stdout",
          "text": [
            "ECHFFNGTERVRFLDRYFYNQEESVRFDSDVGEYRAVTELGRPDAEYWNSQKDLLEDRRAAVDTYCRHNYGVGESFTVQRRGEHGGGRGLGPCELGI*V\n"
          ]
        },
        {
          "output_type": "stream",
          "name": "stderr",
          "text": [
            "/usr/local/lib/python3.7/dist-packages/Bio/Seq.py:2983: BiopythonWarning: Partial codon, len(sequence) not a multiple of three. Explicitly trim the sequence or add trailing N before translation. This may become an error in future.\n",
            "  BiopythonWarning,\n"
          ]
        }
      ]
    },
    {
      "cell_type": "markdown",
      "metadata": {
        "id": "nRcTpsP6-s4C"
      },
      "source": [
        "SE DETECTA LA PRESENCIA DE LA BACTERIA Escherichia coli] atravez del analisis secuencial de aminoacidos de persona enferma de AR."
      ]
    }
  ]
}