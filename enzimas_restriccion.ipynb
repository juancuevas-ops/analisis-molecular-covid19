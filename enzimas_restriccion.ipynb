{
  "nbformat": 4,
  "nbformat_minor": 0,
  "metadata": {
    "colab": {
      "name": "enzimas_restriccion.ipynb",
      "provenance": [],
      "collapsed_sections": [],
      "authorship_tag": "ABX9TyPK6m2MTJZlrT3CVtZHe4XZ",
      "include_colab_link": true
    },
    "kernelspec": {
      "name": "python3",
      "display_name": "Python 3"
    },
    "language_info": {
      "name": "python"
    }
  },
  "cells": [
    {
      "cell_type": "markdown",
      "metadata": {
        "id": "view-in-github",
        "colab_type": "text"
      },
      "source": [
        "<a href=\"https://colab.research.google.com/github/juancuevas-ops/analisis-molecular-covid19/blob/main/enzimas_restriccion.ipynb\" target=\"_parent\"><img src=\"https://colab.research.google.com/assets/colab-badge.svg\" alt=\"Open In Colab\"/></a>"
      ]
    },
    {
      "cell_type": "code",
      "metadata": {
        "colab": {
          "base_uri": "https://localhost:8080/"
        },
        "id": "VpASdHWrEwUx",
        "outputId": "85382388-b71a-4462-e82c-218e5a433d32"
      },
      "source": [
        "!pip install Bio\n",
        "from Bio import Restriction"
      ],
      "execution_count": null,
      "outputs": [
        {
          "output_type": "stream",
          "text": [
            "Collecting Bio\n",
            "\u001b[?25l  Downloading https://files.pythonhosted.org/packages/85/84/13d3aa585fcaa010577cfdc40f3211933fa4468e98f8e63576066b2a7ad1/bio-0.4.1-py3-none-any.whl (73kB)\n",
            "\u001b[K     |████████████████████████████████| 81kB 3.7MB/s \n",
            "\u001b[?25hRequirement already satisfied: requests in /usr/local/lib/python3.7/dist-packages (from Bio) (2.23.0)\n",
            "Collecting biopython>=1.78\n",
            "\u001b[?25l  Downloading https://files.pythonhosted.org/packages/3a/cd/0098eaff841850c01da928c7f509b72fd3e1f51d77b772e24de9e2312471/biopython-1.78-cp37-cp37m-manylinux1_x86_64.whl (2.3MB)\n",
            "\u001b[K     |████████████████████████████████| 2.3MB 7.8MB/s \n",
            "\u001b[?25hRequirement already satisfied: numpy<1.20 in /usr/local/lib/python3.7/dist-packages (from Bio) (1.19.5)\n",
            "Requirement already satisfied: urllib3!=1.25.0,!=1.25.1,<1.26,>=1.21.1 in /usr/local/lib/python3.7/dist-packages (from requests->Bio) (1.24.3)\n",
            "Requirement already satisfied: certifi>=2017.4.17 in /usr/local/lib/python3.7/dist-packages (from requests->Bio) (2020.12.5)\n",
            "Requirement already satisfied: idna<3,>=2.5 in /usr/local/lib/python3.7/dist-packages (from requests->Bio) (2.10)\n",
            "Requirement already satisfied: chardet<4,>=3.0.2 in /usr/local/lib/python3.7/dist-packages (from requests->Bio) (3.0.4)\n",
            "Installing collected packages: biopython, Bio\n",
            "Successfully installed Bio-0.4.1 biopython-1.78\n"
          ],
          "name": "stdout"
        }
      ]
    },
    {
      "cell_type": "markdown",
      "metadata": {
        "id": "0flB6wtKFcHu"
      },
      "source": [
        " Este paquete le permitirá trabajar con enzimas de restricción y realizar análisis de restricción en su secuencia. La restricción hace uso de las instalaciones que ofrece REBASE y contiene clases para más de 800 enzimas de restricción. Este capítulo lo guiará a través de una descripción general rápida de las facilidades que ofrece el Restrictionpaquete de Biopython. El capítulo está construido como una sesión interactiva de Python y la mejor manera de leerlo es con un shell de Python abierto junto a usted.\n",
        "\n",
        "1.1 Importación de enzimas\n",
        "Para importar las enzimas, abra un shell de Python y escriba:"
      ]
    },
    {
      "cell_type": "code",
      "metadata": {
        "colab": {
          "base_uri": "https://localhost:8080/"
        },
        "id": "FwbGmUW8E_Hf",
        "outputId": "872c89c9-a783-4cb0-9342-909c0622192a"
      },
      "source": [
        "dir()"
      ],
      "execution_count": null,
      "outputs": [
        {
          "output_type": "execute_result",
          "data": {
            "text/plain": [
              "['In',\n",
              " 'Out',\n",
              " 'Restriction',\n",
              " '_',\n",
              " '__',\n",
              " '___',\n",
              " '__builtin__',\n",
              " '__builtins__',\n",
              " '__doc__',\n",
              " '__loader__',\n",
              " '__name__',\n",
              " '__package__',\n",
              " '__spec__',\n",
              " '_dh',\n",
              " '_exit_code',\n",
              " '_i',\n",
              " '_i1',\n",
              " '_i2',\n",
              " '_i3',\n",
              " '_ih',\n",
              " '_ii',\n",
              " '_iii',\n",
              " '_oh',\n",
              " '_sh',\n",
              " 'exit',\n",
              " 'get_ipython',\n",
              " 'quit']"
            ]
          },
          "metadata": {
            "tags": []
          },
          "execution_count": 3
        }
      ]
    },
    {
      "cell_type": "code",
      "metadata": {
        "colab": {
          "base_uri": "https://localhost:8080/"
        },
        "id": "hINIPxEnFKwN",
        "outputId": "7720658a-4fa7-4533-f0ae-15ac14c019eb"
      },
      "source": [
        "Restriction.EcoRI"
      ],
      "execution_count": null,
      "outputs": [
        {
          "output_type": "execute_result",
          "data": {
            "text/plain": [
              "EcoRI"
            ]
          },
          "metadata": {
            "tags": []
          },
          "execution_count": 22
        }
      ]
    },
    {
      "cell_type": "code",
      "metadata": {
        "colab": {
          "base_uri": "https://localhost:8080/",
          "height": 35
        },
        "id": "aHx9qSDNFQEu",
        "outputId": "c5a8e00a-51f0-4c79-abe4-7d774e41c7a2"
      },
      "source": [
        "Restriction.EcoRI.site"
      ],
      "execution_count": null,
      "outputs": [
        {
          "output_type": "execute_result",
          "data": {
            "application/vnd.google.colaboratory.intrinsic+json": {
              "type": "string"
            },
            "text/plain": [
              "'GAATTC'"
            ]
          },
          "metadata": {
            "tags": []
          },
          "execution_count": 23
        }
      ]
    },
    {
      "cell_type": "code",
      "metadata": {
        "colab": {
          "base_uri": "https://localhost:8080/",
          "height": 35
        },
        "id": "HhcoqEQzLKx6",
        "outputId": "c5ba89b8-c231-4a2e-a5c3-f023f7a8c466"
      },
      "source": [
        "Restriction.KpnI.site"
      ],
      "execution_count": null,
      "outputs": [
        {
          "output_type": "execute_result",
          "data": {
            "application/vnd.google.colaboratory.intrinsic+json": {
              "type": "string"
            },
            "text/plain": [
              "'GGTACC'"
            ]
          },
          "metadata": {
            "tags": []
          },
          "execution_count": 31
        }
      ]
    },
    {
      "cell_type": "markdown",
      "metadata": {
        "id": "2mGmcROELeEX"
      },
      "source": [
        "Entonces, ¿qué podemos hacer con estas enzimas de restricción? Para ver eso, necesitaremos una secuencia de ADN. Las enzimas de restricción soportan tanto Bio.Seq.MutableSeqy Bio.Seq.Seqobjetos. Puede utilizar cualquier alfabeto de ADN que cumpla con el alfabeto de la IUPAC."
      ]
    },
    {
      "cell_type": "code",
      "metadata": {
        "colab": {
          "base_uri": "https://localhost:8080/"
        },
        "id": "8jyEhWiDLthO",
        "outputId": "a3b6cc37-50e8-41a8-f54b-b34931482f21"
      },
      "source": [
        "from Bio.Seq import Seq\n",
        "from Bio.Restriction import *\n",
        "pBs_mcs = 'GGTACCGGGCCCCCCCTCGAGGTCGACGGTATCGATAAGCTTGATATCGAATTCCTG'\n",
        "pBs_mcs += 'CAGCCCGGGGGATCCACTAGTTCTAGAGCGGCCGCCACCGCGGTGGAGCTC'\n",
        "seq = Seq(pBs_mcs)  # Multiple-cloning site of pBluescript SK(-)\n",
        "a = Analysis(AllEnzymes, seq)\n",
        "a.print_that()"
      ],
      "execution_count": null,
      "outputs": [
        {
          "output_type": "stream",
          "text": [
            "AbaSI      :  10, 12, 13, 16, 17, 18, 19, 20, 22, 23, 24, 25, 25, 26, 27, 28,\n",
            "               30, 30, 34, 36, 39, 40, 45, 48, 51, 52, 55, 56, 57, 58, 59, 60,\n",
            "               66, 67, 68, 70, 73, 74, 74, 75, 76, 78, 79, 82, 83, 84, 86, 88,\n",
            "               90, 91, 92, 93, 94, 96, 98, 101, 102, 104, 105, 107, 108.\n",
            "BmeDI      :  2, 7, 8, 8, 9, 9, 13, 14, 15, 16, 17, 18, 19, 19, 21, 21, 22, 25,\n",
            "               27, 28, 29, 30, 34, 36, 39, 43, 43, 49, 51, 57, 57, 58, 60, 61,\n",
            "               64, 64, 65, 65, 66, 66, 67, 68, 74, 75, 77, 77, 83, 83, 85, 87,\n",
            "               88, 89, 91, 92, 93, 95, 96, 97, 98, 99, 99, 100, 101, 102, 103,\n",
            "               105.\n",
            "YkrI       :  10, 12, 13, 16, 16, 17, 19, 20, 21, 22, 23, 24, 25, 25, 26, 27,\n",
            "               29, 30, 34, 35, 38, 40, 44, 48, 51, 51, 55, 56, 57, 58, 59, 59,\n",
            "               65, 66, 68, 69, 72, 73, 74, 74, 76, 78, 79, 82, 82, 83, 85, 88,\n",
            "               90, 91, 91, 93, 94, 96, 97, 100, 101, 103, 104, 106, 107.\n",
            "FspEI      :  5, 12, 19, 24, 25, 26, 27, 28, 29, 48, 49, 50, 51, 68, 71, 75,\n",
            "               76, 83, 85, 86, 103, 106.\n",
            "RlaI       :  15, 20, 38, 39, 54, 56, 57, 59, 71, 73, 76, 84, 92, 101, 104,\n",
            "               105.\n",
            "AccII      :  98.\n",
            "AciI       :  86, 90, 96, 98.\n",
            "AfaI       :  4.\n",
            "AluBI      :  40, 106.\n",
            "AluI       :  40, 106.\n",
            "AoxI       :  8, 87.\n",
            "Asi256I    :  69.\n",
            "BfaI       :  75, 81.\n",
            "Bsh1236I   :  98.\n",
            "BshFI      :  10, 89.\n",
            "BsiSI      :  6, 63.\n",
            "BsnI       :  10, 89.\n",
            "Bsp143I    :  68.\n",
            "BspACI     :  86, 90, 96, 98.\n",
            "BspANI     :  10, 89.\n",
            "BspFNI     :  98.\n",
            "BssMI      :  68.\n",
            "BstFNI     :  98.\n",
            "BstKTI     :  71.\n",
            "BstMBI     :  68.\n",
            "BstUI      :  98.\n",
            "BsuRI      :  10, 89.\n",
            "ChaI       :  72.\n",
            "Csp6I      :  3.\n",
            "CviJI      :  10, 40, 61, 89, 106.\n",
            "CviKI_1    :  10, 40, 61, 89, 106.\n",
            "CviQI      :  3.\n",
            "CviRI      :  58.\n",
            "DpnI       :  70.\n",
            "DpnII      :  68.\n",
            "EsaBC3I    :  19, 25, 34, 49.\n",
            "FnuDII     :  98.\n",
            "FspBI      :  75, 81.\n",
            "HaeIII     :  10, 89.\n",
            "HapII      :  6, 63.\n",
            "HpaII      :  6, 63.\n",
            "HpyCH4V    :  58.\n",
            "Kzo9I      :  68.\n",
            "LpnPI      :  19, 68, 76.\n",
            "MaeI       :  75, 81.\n",
            "MalI       :  70.\n",
            "MboI       :  68.\n",
            "MluCI      :  50.\n",
            "MnlI       :  13, 26.\n",
            "MspI       :  6, 63.\n",
            "MspJI      :  18, 19, 23, 29, 31, 53, 61, 67, 74, 75, 76, 87, 93.\n",
            "MvnI       :  98.\n",
            "NdeII      :  68.\n",
            "PabI       :  5.\n",
            "RsaI       :  4.\n",
            "RsaNI      :  3.\n",
            "Sau3AI     :  68.\n",
            "SelI       :  96.\n",
            "SetI       :  24, 42, 108.\n",
            "SgeI       :  18, 19, 29, 31, 53, 67, 74, 75, 76, 87, 93.\n",
            "SgrTI      :  5, 19, 29, 68, 71, 76, 83, 85, 86, 103, 106.\n",
            "Sse9I      :  50.\n",
            "SsiI       :  86, 90, 96, 98.\n",
            "SspMI      :  75, 81.\n",
            "Sth132I    :  55, 69.\n",
            "Sth302II   :  7, 64.\n",
            "TaqI       :  18, 24, 33, 48.\n",
            "TasI       :  50.\n",
            "TspEI      :  50.\n",
            "XspI       :  75, 81.\n",
            "AclWI      :  63, 76.\n",
            "AlwI       :  63, 76.\n",
            "ApeKI      :  58.\n",
            "AspBHI     :  23, 24, 25, 27, 43, 50, 51, 52, 53, 66, 69, 71, 74, 83, 83, 88.\n",
            "AspS9I     :  8, 9.\n",
            "AsuC2I     :  7, 63, 64.\n",
            "AsuI       :  8, 9.\n",
            "BbuB31II   :  3, 27, 30, 33, 45.\n",
            "BbvI       :  70.\n",
            "BceSIV     :  50, 71.\n",
            "BcnI       :  7, 63, 64.\n",
            "BinI       :  63, 76.\n",
            "BisI       :  59, 87, 90.\n",
            "BlsI       :  60, 88, 91.\n",
            "Bme1390I   :  7, 63, 64.\n",
            "BmgT120I   :  8, 9.\n",
            "BmrFI      :  7, 63, 64.\n",
            "BpuMI      :  7, 63, 64.\n",
            "BseXI      :  70.\n",
            "BspPI      :  63, 76.\n",
            "Bst4CI     :  29.\n",
            "BstSCI     :  5, 61, 62.\n",
            "BstV1I     :  70.\n",
            "BthCI      :  61, 89, 92.\n",
            "CauII      :  7, 63, 64.\n",
            "Cfr13I     :  8, 9.\n",
            "EcoBLMcrX  :  87, 90, 93, 96, 99.\n",
            "EcoHI      :  5, 61, 62.\n",
            "FmuI       :  11, 12.\n",
            "Fnu4HI     :  59, 87, 90.\n",
            "Fsp4HI     :  59, 87, 90.\n",
            "GluI       :  59, 87, 90.\n",
            "Hpy99I     :  29.\n",
            "HpyCH4III  :  29.\n",
            "LmnI       :  103.\n",
            "Lsp1109I   :  70.\n",
            "MspR9I     :  7, 63, 64.\n",
            "NciI       :  7, 63, 64.\n",
            "NgoAVII    :  78, 100.\n",
            "NhoI       :  57.\n",
            "PkrI       :  60, 88, 91.\n",
            "PspPI      :  8, 9.\n",
            "PsuGI      :  5, 16, 17, 22, 23, 47, 61, 62, 89, 95, 96.\n",
            "SatI       :  59, 87, 90.\n",
            "Sau96I     :  8, 9.\n",
            "ScrFI      :  7, 63, 64.\n",
            "SpnRII     :  16, 17.\n",
            "StyD4I     :  5, 61, 62.\n",
            "TaaI       :  29.\n",
            "TauI       :  89, 92.\n",
            "TseI       :  58.\n",
            "Tsp4CI     :  29.\n",
            "UnbI       :  7, 8.\n",
            "AbaUMB2I   :  61.\n",
            "Acc65I     :  2.\n",
            "AccB1I     :  2.\n",
            "AccBSI     :  86.\n",
            "AccI       :  24.\n",
            "AcoI       :  87.\n",
            "AcsI       :  50.\n",
            "AhlI       :  74.\n",
            "Alw21I     :  108.\n",
            "Ama87I     :  17, 62.\n",
            "AmaCSI     :  92.\n",
            "ApaI       :  12.\n",
            "ApoI       :  50.\n",
            "Asp718I    :  2.\n",
            "AvaI       :  17, 62.\n",
            "BaeGI      :  12.\n",
            "BamHI      :  68.\n",
            "BanI       :  2.\n",
            "BanII      :  12, 108.\n",
            "Bbv12I     :  108.\n",
            "BcuI       :  74.\n",
            "BfmI       :  56.\n",
            "BmeT110I   :  17, 62.\n",
            "BmgI       :  7.\n",
            "BmiI       :  4, 10, 11, 70.\n",
            "Bsa29I     :  33.\n",
            "BsaJI      :  62, 63, 96.\n",
            "BseCI      :  33.\n",
            "BseDI      :  62, 63, 96.\n",
            "BseSI      :  12.\n",
            "BseX3I     :  87.\n",
            "Bsh1285I   :  90.\n",
            "BshNI      :  2.\n",
            "BshVI      :  33.\n",
            "BsiEI      :  90.\n",
            "BsiHKAI    :  108.\n",
            "BsiHKCI    :  17, 62.\n",
            "BsoBI      :  17, 62.\n",
            "Bsp120I    :  8.\n",
            "Bsp1286I   :  12, 108.\n",
            "BspDI      :  33.\n",
            "BspLI      :  4, 10, 11, 70.\n",
            "BspMAI     :  60.\n",
            "BspT107I   :  2.\n",
            "BsrBI      :  86.\n",
            "BssECI     :  62, 63, 96.\n",
            "BstDSI     :  96.\n",
            "BstMCI     :  90.\n",
            "BstSFI     :  56.\n",
            "BstSLI     :  12.\n",
            "BstX2I     :  68.\n",
            "BstYI      :  68.\n",
            "BstZI      :  87.\n",
            "Bsu15I     :  33.\n",
            "BsuTUI     :  33.\n",
            "BtgI       :  96.\n",
            "Cba13II    :  51.\n",
            "Cfr42I     :  99.\n",
            "Cfr9I      :  62.\n",
            "CfrI       :  87.\n",
            "ClaI       :  33.\n",
            "DsaI       :  96.\n",
            "EaeI       :  87.\n",
            "EagI       :  87.\n",
            "Ecl136II   :  106.\n",
            "EclXI      :  87.\n",
            "Eco24I     :  12, 108.\n",
            "Eco32I     :  46.\n",
            "Eco52I     :  87.\n",
            "Eco53kI    :  106.\n",
            "Eco88I     :  17, 62.\n",
            "EcoICRI    :  106.\n",
            "EcoRI      :  50.\n",
            "EcoRV      :  46.\n",
            "EcoT38I    :  12, 108.\n",
            "FblI       :  24.\n",
            "FriOI      :  12, 108.\n",
            "GdiII      :  87.\n",
            "HgiAI      :  108.\n",
            "HgiCI      :  2.\n",
            "HgiJII     :  12, 108.\n",
            "HincII     :  25.\n",
            "HindII     :  25.\n",
            "HindIII    :  38.\n",
            "Hpy166II   :  25.\n",
            "Hpy178III  :  81.\n",
            "Hpy188III  :  81.\n",
            "Hpy300XI   :  15, 17.\n",
            "Hpy8I      :  25.\n",
            "Hpy99XIV_mut1 :  21.\n",
            "HpyAXVI_mut2 :  23.\n",
            "KpnI       :  6.\n",
            "KpnNH25III :  80.\n",
            "KspI       :  99.\n",
            "MbiI       :  86.\n",
            "McrI       :  90.\n",
            "MflI       :  68.\n",
            "MhlI       :  12, 108.\n",
            "MjaIV      :  22.\n",
            "MspA1I     :  98.\n",
            "NlaIV      :  4, 10, 11, 70.\n",
            "Nli3877I   :  21, 66.\n",
            "NspBII     :  98.\n",
            "PaeR7I     :  17.\n",
            "Psp124BI   :  108.\n",
            "PspN4I     :  4, 10, 11, 70.\n",
            "PspOMI     :  8.\n",
            "PstI       :  60.\n",
            "PsuI       :  68.\n",
            "SacI       :  108.\n",
            "SacII      :  99.\n",
            "SalI       :  23.\n",
            "SciI       :  19.\n",
            "SduI       :  12, 108.\n",
            "SecI       :  62, 63, 96.\n",
            "SfcI       :  56.\n",
            "SfeI       :  56.\n",
            "Sfr274I    :  17.\n",
            "Sfr303I    :  99.\n",
            "SgrBI      :  99.\n",
            "SlaI       :  17.\n",
            "SmaI       :  64.\n",
            "SmlI       :  17.\n",
            "SmoI       :  17.\n",
            "SpeI       :  74.\n",
            "SstI       :  108.\n",
            "TspMI      :  62.\n",
            "UcoMSI     :  96.\n",
            "XapI       :  50.\n",
            "XbaI       :  80.\n",
            "XhoI       :  17.\n",
            "XhoII      :  68.\n",
            "XmaI       :  62.\n",
            "XmaIII     :  87.\n",
            "XmiI       :  24.\n",
            "Aba6411II  :  33.\n",
            "Aod1I      :  68.\n",
            "DraII      :  9.\n",
            "EcoO109I   :  9.\n",
            "Lra68I     :  77.\n",
            "PssI       :  12.\n",
            "RpaTI      :  99.\n",
            "AbsI       :  17.\n",
            "CciNI      :  87.\n",
            "NotI       :  87.\n",
            "PspXI      :  17.\n",
            "AleI       :  98.\n",
            "MslI       :  98.\n",
            "OliI       :  98.\n",
            "RseI       :  98.\n",
            "SmiMI      :  98.\n",
            "AfiI       :  19.\n",
            "Bsc4I      :  19.\n",
            "BseLI      :  19.\n",
            "BsiYI      :  19.\n",
            "BslI       :  19.\n",
            "BstMWI     :  95.\n",
            "HpyF10VI   :  95.\n",
            "MwoI       :  95.\n",
            "BstXI      :  100.\n",
            "HpyUM032XIII :  71.\n",
            "PcsI       :  30.\n",
            "\n",
            "   Enzymes which do not cut the sequence.\n",
            "\n",
            "AspLEI    BstHHI    CfoI      CviAII    FaeI      FaiI      FatI      GlaI      \n",
            "HhaI      Hin1II    Hin6I     HinP1I    HpyCH4IV  HpySE526I Hsp92II   HspAI     \n",
            "MaeII     MseI      NlaIII    SaqAI     TaiI      Tru1I     Tru9I     AgsI      \n",
            "AjnI      Alw26I    AsuHPI    AvaII     BccI      BceAI     BcefI     BciT130I  \n",
            "BcoDI     Bme18I    BmsI      BscAI     BscGI     Bse1I     BseBI     BseGI     \n",
            "BseMII    BseNI     BslFI     BsmAI     BsmFI     BspCNI    BspD6I    BspNCI    \n",
            "BsrI      Bst2UI    BstDEI    BstF5I    BstMAI    BstNI     BtsCI     BtsIMutI  \n",
            "Cco14983VICdiI      CjeFV     CjeNV     Cla11845IIICseI      Dde51507I \n",
            "DdeI      Eco47I    EcoRII    FaqI      FauI      FinI      FokI      HgaI      \n",
            "Hin4II    HinfI     HphI      Hpy188I   Hpy99XIII HpyAV     HpyAXIV   HpyF3I    \n",
            "HpyUM032XIVLweI      MaeIII    MboII     MlyI      MvaI      NmuCI     \n",
            "ObaBS10I  Pba2294I  PenI      PfeI      PleI      PpsI      Psp03I    Psp6I     \n",
            "PspGI     Sbo46I    SchI      SfaNI     SimI      SinI      Spe19205IVSspD5I    \n",
            "SthSt3II  StsI      TfiI      TscAI     TseFI     Tsp45I    TspDTI    TspGWI    \n",
            "TspRI     TsuI      UbaF11I   VpaK11AI  VpaK11BI  AanI      AatII     AbaB8342IV\n",
            "Acc16I    Acc36I    Acc65V    AccIII    AceIII    AchA6III  AclI      Aco12261II\n",
            "AcuI      AcvI      AcyI      AfeI      AflII     AflIII    AgeI      AhaIII    \n",
            "AjiI      Alw44I    Aor13HI   Aor51HI   ApaLI     ApyPI     AquIII    AseI      \n",
            "AsiGI     AspA2I    AspAMDIV  AspSLV7IIIAsu14238IVAsuII     AsuNHI    AteTI     \n",
            "AvaIII    AvrII     Awo1030IV Bag18758I BalI      BanLI     Bau1417V  BauI      \n",
            "Bbr52II   Bbr7017II Bbr7017IIIBbrPI     BbsI      BbuB31I   BbvII     Bce3081I  \n",
            "Bce83I    BciVI     BclI      BetI      BfiI      BfoI      BfrI      BfuAI     \n",
            "BfuI      Bga514I   BglII     BlnI      BloAII    BmcAI     BmgBI     BmrI      \n",
            "BmtI      BmuI      BpiI      BpmI      Bpu14I    BpuEI     BsaAI     BsaHI     \n",
            "BsaI      BsaWI     BsbI      Bse118I   Bse3DI    BseAI     BseMI     BsePI     \n",
            "BseRI     BseYI     BsgI      BshTI     BsiI      BsiWI     BsmBI     BsmI      \n",
            "Bso31I    Bsp119I   Bsp13I    Bsp1407I  Bsp19I    Bsp3004IV Bsp68I    BspEI     \n",
            "BspGI     BspHI     BspLU11I  BspMI     BspMII    BspOI     BspT104I  BspTI     \n",
            "BspTNI    BsrDI     BsrFI     BsrGI     BssAI     BssHII    BssNAI    BssNI     \n",
            "BssSI     BssT1I    Bst1107I  Bst2BI    Bst6I     BstACI    BstAFI    BstAUI    \n",
            "BstBAI    BstBI     BstC8I    BstH2I    BstNSI    BstSNI    BstV2I    BstZ17I   \n",
            "BsuI      BtgZI     BtrI      BtsI      BtuMI     BveI      Cac8I     Cal14237I \n",
            "Cau10061IICchII     CchIII    CciI      Cco14983V Cdi11397I CdpI      Cdu23823II\n",
            "Cfr10I    CfrMH16VI Cfupf3II  Cgl13032I Cje265V   Cje54107IIICjeFIII   \n",
            "CjeNIII   Cma23826I Csp2014I  CspAI     CstMI     DinI      DraI      DrdII     \n",
            "DrdIV     Eam1104I  EarI      EciI      Eco105I   Eco130I   Eco147I   Eco31I    \n",
            "Eco47III  Eco57I    Eco57MI   Eco72I    EcoE1140I EcoHSI    EcoNIH6II EcoT14I   \n",
            "EcoT22I   EgeI      EheI      Eli8509II ErhI      EsaSSI    Esp3007I  Esp3I     \n",
            "FauNDI    Fba202Z8IIFbaI      Fco1691IV FspI      FtnUV     Gba708II  GsaI      \n",
            "GsuI      HaeI      HaeII     HauII     HbaII     Hin1I     HpaI      Hpy99XIV  \n",
            "HpyAXVI_mut1Hsp92I    KasI      Kor51II   Kpn2I     Kpn327I   KpnNIH50I \n",
            "KroI      Ksp22I    Ksp632I   KspAI     Lde4408II LlaG50I   Lmo911II  Lpl1004II \n",
            "LpnI      LsaDS4I   Lsp48III  Mba11I    McaTI     MfeI      MlsI      Mlu211III \n",
            "MluI      MluNI     Mly113I   MmeI      Mox20I    Mph1103I  MroI      MroNI     \n",
            "MscI      Msp20I    MspCI     MspGI     MspI7II   MstI      MunI      Mva1269I  \n",
            "NaeI      Nal45188IINarI      Nbr128II  NcoI      NdeI      NgoMIV    NheI      \n",
            "NlaCI     NmeA6CIII NmeAIII   NmeDI     NruI      NsbI      NsiI      NspI      \n",
            "NspV      OspHL35IIIPac19842IIPacIII    PaeI      PaePA99IIIPagI      PauI      \n",
            "PcaII     PceI      PciI      Pcr308II  PctI      PdiI      Pdu1735I  Pfl1108I  \n",
            "Pfl23II   Pfl8569I  PfrJS12IV Pin17FIII PinAI     PlaDI     Ple19I    PluTI     \n",
            "PmaCI     PmlI      Ppu10I    Ppu21I    PscI      PshBI     PsiI      Psp0357II \n",
            "Psp1406I  PspCI     PspFI     PspLI     PspPRI    PteI      PvuI      PvuII     \n",
            "RdeGBI    RdeGBII   RdeGBIII  RflFIII   RlaII     RleAI     Rmu369III RruI      \n",
            "Rsp008IV  Rsp008V   Rsp531II  Sag901I   ScaI      ScoDS2II  SdeAI     Sen17963III\n",
            "SenSARA26IIISenTFIV   SfoI      SfuI      SmaUMH5I  SnaBI     SnaI      \n",
            "SphI      SplI      SseBI     Ssp6803IV SspDI     SspI      StuI      StyI      \n",
            "SurP32aII TaqII     TaqIII    TatI      TpyTP2I   TsoI      Tth111II  UbaPI     \n",
            "Van9116I  Vha464I   VneI      VspI      WviI      Xca85IV   XceI      XmaJI     \n",
            "ZraI      ZrmI      Zsp2I     AarI      AbaCIII   AcoY31II  Adh6U21I  AhyRBAHI  \n",
            "AhyYL17I  AquII     AquIV     Asp103I   Asp114pII Asp337I   AspDUT2V  AspJHL3II \n",
            "AspNIH4IIIAxyI      Bbr57III  BbvCI     BfaSII    Ble402II  BlpI      Bpu10I    \n",
            "Bpu1102I  Bse21I    Bsp1720I  Bsp460III BspQI     BstEII    BstPI     Bsu36I    \n",
            "CalB3II   Cbo67071IVCch467III CcrNAIII  CfrMH13II Cgl13032IICly7489II CpoI      \n",
            "CsiI      CspI      DraRI     DvuIII    Ecl234I   Ecl35734I Eco43896IIEco4465II \n",
            "Eco81I    Eco91I    EcoMVII   EcoO65I   EspI      FspPK15I  HpyAXVIII HpyUM037X \n",
            "HspMHR1II Jma19592I Jma19592IIJsp2502II KflI      Kpn156V   KpnNIH30III\n",
            "Lba2029IIILbr124II  LguI      Lmo370I   Lsp6406VI MabI      MaqI      MkaDII    \n",
            "MspI7IV   MspSC27II MtuHN878IINhaXI     NpeUS61II OgrI      Pal408I   PasI      \n",
            "PciSI     Pdi8503IIIPflPt14I  PfoI      PfrJS12V  PfrJS15IIIPinP23II  PinP59III \n",
            "PliMI     PpiP13II  PpuMI     Pse18267I Psp5II    PspEI     PspOMII   PspPPI    \n",
            "Pst14472I Pst145I   Pst273I   Rba2021I  RceI      RpaB5I    RpaBI     RpaI      \n",
            "RspPBTS2IIIRsr2I     RsrII     Saf8902IIISanDI     SapI      SauI      \n",
            "Sba460II  SenA1673IIISexAI     SgrAII    SmaUMH8I  Sna507VIIISno506I   \n",
            "SpoDI     Sse8647I  Ssp714II  SspJOR1II SstE37I   Sth20745IIITspARh3I  \n",
            "VchE4II   Vdi96II   Vtu19109I Abr4036II AscI      AsiSI     BkrAM31DI Cba16038I \n",
            "FseI      FspAI     GauT27I   MauBI     MreI      MssI      PacI      PalAI     \n",
            "PmeI      RgaI      RigI      SbfI      SdaI      SfaAI     SgfI      SgrAI     \n",
            "SgrDI     SgsI      SmiI      SrfI      Sse232I   Sse8387I  SwaI      AdeI      \n",
            "AlwNI     CaiI      DraIII    MteI      PflFI     PstNI     PsyI      TssI      \n",
            "Tth111I   Asp700I   BoxI      BsaBI     Bse8I     BseJI     BstPAI    CjeNII    \n",
            "MroXI     PdmI      PshAI     UbaF12I   XmnI      AccB7I    AhdI      ApaBI     \n",
            "BaeI      BglI      BmeRI     BplI      BsaXI     BstAPI    BstENI    Bve1B23I  \n",
            "CjeI      CjuI      CjuII     DriI      Eam1105I  EcoNI     FalI      Hin4I     \n",
            "Hso63250IVNgoAVIII  PflMI     SdeOSI    UbaF14I   Van91I    XagI      AasI      \n",
            "AlfI      BcgI      BdaI      Bsp24I    CjePI     CspCI     DrdI      DseDI     \n",
            "HdeNY26I  HdeZA17I  HgiEII    Hpy99XXII Hso63373IIIMcr10I    PpiI      \n",
            "Rtr1953I  Sau64037IVTstI      UbaF9I    AloI      AlwFI     ArsI      BarI      \n",
            "CjeP659IV HpyUM032XIII_mut1PsrI      SfiI      UbaF13I   AjuI      XcmI      \n",
            "\n",
            "\n"
          ],
          "name": "stdout"
        }
      ]
    },
    {
      "cell_type": "code",
      "metadata": {
        "id": "mVov-gCIef6X"
      },
      "source": [
        ""
      ],
      "execution_count": null,
      "outputs": []
    },
    {
      "cell_type": "code",
      "metadata": {
        "id": "19f56YzYeYl3"
      },
      "source": [
        "ecoseq = pBs_mcs + Seq(EcoRI.site) + pBs_mcs"
      ],
      "execution_count": null,
      "outputs": []
    },
    {
      "cell_type": "code",
      "metadata": {
        "colab": {
          "base_uri": "https://localhost:8080/"
        },
        "id": "COIxxL9weux-",
        "outputId": "4bc436e6-38a3-4493-8683-2e9face254f8"
      },
      "source": [
        "ecoseq"
      ],
      "execution_count": null,
      "outputs": [
        {
          "output_type": "execute_result",
          "data": {
            "text/plain": [
              "Seq('GGTACCGGGCCCCCCCTCGAGGTCGACGGTATCGATAAGCTTGATATCGAATTC...CTC')"
            ]
          },
          "metadata": {
            "tags": []
          },
          "execution_count": 38
        }
      ]
    },
    {
      "cell_type": "markdown",
      "metadata": {
        "id": "ls7y81pZf5LM"
      },
      "source": [
        "Recuperar las secuencias producidas por una digestión.\n",
        "Este método devolverá una tupla que contiene todos los fragmentos producidos por una digestión completa de la secuencia"
      ]
    },
    {
      "cell_type": "code",
      "metadata": {
        "colab": {
          "base_uri": "https://localhost:8080/"
        },
        "id": "TrXIv1HNgHeq",
        "outputId": "822becb2-e818-40a8-c48b-0ae7ebe9aceb"
      },
      "source": [
        "EcoRI.catalyse(ecoseq)"
      ],
      "execution_count": null,
      "outputs": [
        {
          "output_type": "execute_result",
          "data": {
            "text/plain": [
              "(Seq('GGTACCGGGCCCCCCCTCGAGGTCGACGGTATCGATAAGCTTGATATCG'),\n",
              " Seq('AATTCCTGCAGCCCGGGGGATCCACTAGTTCTAGAGCGGCCGCCACCGCGGTGGAGCTCG'),\n",
              " Seq('AATTCGGTACCGGGCCCCCCCTCGAGGTCGACGGTATCGATAAGCTTGATATCG'),\n",
              " Seq('AATTCCTGCAGCCCGGGGGATCCACTAGTTCTAGAGCGGCCGCCACCGCGGTGGAGCTC'))"
            ]
          },
          "metadata": {
            "tags": []
          },
          "execution_count": 41
        }
      ]
    },
    {
      "cell_type": "markdown",
      "metadata": {
        "id": "3Isbcx2Igm96"
      },
      "source": [
        "Análisis de secuencias circulares\n",
        "Ahora, si ha ingresado el comando anterior en su shell, es posible que haya notado que ambos searchy catalysepueden tomar un segundo argumento linearque por defecto es True. Usar esto le permitirá simular secuencias circulares como plásmidos. El ajuste lineara Falseinforma a la enzima para que realice la búsqueda en una secuencia circular y busque sitios potenciales que se extiendan más allá de los límites de la secuencia."
      ]
    },
    {
      "cell_type": "code",
      "metadata": {
        "colab": {
          "base_uri": "https://localhost:8080/"
        },
        "id": "lOLpff23goCw",
        "outputId": "b6b31a0d-297c-4dac-b9ec-55703d57f77b"
      },
      "source": [
        " EcoRI.search(ecoseq, linear=False)"
      ],
      "execution_count": null,
      "outputs": [
        {
          "output_type": "execute_result",
          "data": {
            "text/plain": [
              "[50, 110, 164]"
            ]
          },
          "metadata": {
            "tags": []
          },
          "execution_count": 42
        }
      ]
    },
    {
      "cell_type": "markdown",
      "metadata": {
        "id": "iuvGXrnjg8Zw"
      },
      "source": [
        ""
      ]
    },
    {
      "cell_type": "markdown",
      "metadata": {
        "id": "-_lWJOt0fOYm"
      },
      "source": [
        "Por tanto, tenemos un sitio en la posición 50,110,164 de la secuencia ecoseq . La posición devuelta por la búsqueda del método es la primera base del segmento aguas abajo producido por una restricción (es decir, la primera base después de la posición donde cortará la enzima). El Restrictionpaquete sigue la convención biológica (la primera base de una secuencia es la base 1). No es necesario realizar conversiones difíciles entre los datos biológicos registrados y los resultados producidos por las enzimas de este paquete."
      ]
    },
    {
      "cell_type": "code",
      "metadata": {
        "colab": {
          "base_uri": "https://localhost:8080/"
        },
        "id": "hhBL5prLhP8-",
        "outputId": "7df58738-61ec-46ba-a43e-8f250e114dda"
      },
      "source": [
        "Acc65I.isoschizomers()"
      ],
      "execution_count": null,
      "outputs": [
        {
          "output_type": "execute_result",
          "data": {
            "text/plain": [
              "[Asp718I, KpnI]"
            ]
          },
          "metadata": {
            "tags": []
          },
          "execution_count": 43
        }
      ]
    }
  ]
}