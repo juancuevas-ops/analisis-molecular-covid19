{
  "nbformat": 4,
  "nbformat_minor": 0,
  "metadata": {
    "colab": {
      "name": "regrersion_logistica_molecular_jcuevas.ipynb",
      "provenance": [],
      "collapsed_sections": [],
      "authorship_tag": "ABX9TyNi3lraeuY4fbfGN157ve0g",
      "include_colab_link": true
    },
    "kernelspec": {
      "name": "python3",
      "display_name": "Python 3"
    },
    "language_info": {
      "name": "python"
    }
  },
  "cells": [
    {
      "cell_type": "markdown",
      "metadata": {
        "id": "view-in-github",
        "colab_type": "text"
      },
      "source": [
        "<a href=\"https://colab.research.google.com/github/juancuevas-ops/analisis-molecular-covid19/blob/main/regrersion_logistica_molecular_jcuevas.ipynb\" target=\"_parent\"><img src=\"https://colab.research.google.com/assets/colab-badge.svg\" alt=\"Open In Colab\"/></a>"
      ]
    },
    {
      "cell_type": "code",
      "metadata": {
        "colab": {
          "base_uri": "https://localhost:8080/"
        },
        "id": "4ni30JhI2qpt",
        "outputId": "4e7027af-f869-49ae-d7c9-a7dc1d3b719d"
      },
      "source": [
        "!pip install Bio\n",
        "from Bio import LogisticRegression\n",
        "xs =    [[-53, -200.78],\n",
        "          [117, -267.14],\n",
        "          [57, -163.47],\n",
        "          [16, -190.30],\n",
        "          [11, -220.94],\n",
        "          [85, -193.94],\n",
        "          [16, -182.71],\n",
        "          [15, -180.41],\n",
        "          [-26, -181.73],\n",
        "          [58, -259.87],\n",
        "          [126, -414.53],\n",
        "          [191, -249.57],\n",
        "          [113, -265.28],\n",
        "          [145, -312.99],\n",
        "          [154, -213.83],\n",
        "          [147, -380.85],\n",
        "          [93, -291.13]]"
      ],
      "execution_count": null,
      "outputs": [
        {
          "output_type": "stream",
          "text": [
            "Requirement already satisfied: Bio in /usr/local/lib/python3.7/dist-packages (0.5.0)\n",
            "Requirement already satisfied: biopython>=1.78 in /usr/local/lib/python3.7/dist-packages (from Bio) (1.78)\n",
            "Requirement already satisfied: numpy<1.20 in /usr/local/lib/python3.7/dist-packages (from Bio) (1.19.5)\n",
            "Requirement already satisfied: requests in /usr/local/lib/python3.7/dist-packages (from Bio) (2.23.0)\n",
            "Requirement already satisfied: plac in /usr/local/lib/python3.7/dist-packages (from Bio) (1.1.3)\n",
            "Requirement already satisfied: certifi>=2017.4.17 in /usr/local/lib/python3.7/dist-packages (from requests->Bio) (2020.12.5)\n",
            "Requirement already satisfied: chardet<4,>=3.0.2 in /usr/local/lib/python3.7/dist-packages (from requests->Bio) (3.0.4)\n",
            "Requirement already satisfied: urllib3!=1.25.0,!=1.25.1,<1.26,>=1.21.1 in /usr/local/lib/python3.7/dist-packages (from requests->Bio) (1.24.3)\n",
            "Requirement already satisfied: idna<3,>=2.5 in /usr/local/lib/python3.7/dist-packages (from requests->Bio) (2.10)\n"
          ],
          "name": "stdout"
        }
      ]
    },
    {
      "cell_type": "code",
      "metadata": {
        "colab": {
          "base_uri": "https://localhost:8080/"
        },
        "id": "eE4XD98Q27j1",
        "outputId": "ca5cd29a-b567-43f2-d2d3-76ef55848c0a"
      },
      "source": [
        "xs"
      ],
      "execution_count": null,
      "outputs": [
        {
          "output_type": "execute_result",
          "data": {
            "text/plain": [
              "[[-53, -200.78],\n",
              " [117, -267.14],\n",
              " [57, -163.47],\n",
              " [16, -190.3],\n",
              " [11, -220.94],\n",
              " [85, -193.94],\n",
              " [16, -182.71],\n",
              " [15, -180.41],\n",
              " [-26, -181.73],\n",
              " [58, -259.87],\n",
              " [126, -414.53],\n",
              " [191, -249.57],\n",
              " [113, -265.28],\n",
              " [145, -312.99],\n",
              " [154, -213.83],\n",
              " [147, -380.85],\n",
              " [93, -291.13]]"
            ]
          },
          "metadata": {
            "tags": []
          },
          "execution_count": 20
        }
      ]
    },
    {
      "cell_type": "code",
      "metadata": {
        "id": "lpDACTma3Eti"
      },
      "source": [
        " ys = [1,1,1,1,1,1,1,1,1,1,0,0,0,0,0,0,0]\n"
      ],
      "execution_count": null,
      "outputs": []
    },
    {
      "cell_type": "code",
      "metadata": {
        "colab": {
          "base_uri": "https://localhost:8080/"
        },
        "id": "FQjzg1XF3ZxJ",
        "outputId": "3dd9ecf6-bef1-4e2c-9f87-c5f44298e731"
      },
      "source": [
        "ys"
      ],
      "execution_count": null,
      "outputs": [
        {
          "output_type": "execute_result",
          "data": {
            "text/plain": [
              "[1, 1, 1, 1, 1, 1, 1, 1, 1, 1, 0, 0, 0, 0, 0, 0, 0]"
            ]
          },
          "metadata": {
            "tags": []
          },
          "execution_count": 22
        }
      ]
    },
    {
      "cell_type": "code",
      "metadata": {
        "id": "_1tw9kuN3WQr"
      },
      "source": [
        "modelo =  LogisticRegression.train(xs, ys)"
      ],
      "execution_count": null,
      "outputs": []
    },
    {
      "cell_type": "markdown",
      "metadata": {
        "id": "uxZhyu8f6Sqx"
      },
      "source": [
        "Aquí, (xs ) y (ys) están los datos de entrenamiento: xs contiene las variables predictoras para cada par de genes y (ys) especifica si el par de genes pertenece al mismo operón ( 1, clase OP) oa diferentes operones ( 0, clase NOP). El modelo de regresión logística resultante se almacena en model, que contiene los pesos β 0 , β 1 y β 2 :"
      ]
    },
    {
      "cell_type": "code",
      "metadata": {
        "colab": {
          "base_uri": "https://localhost:8080/"
        },
        "id": "vTYBqOfk6Gmb",
        "outputId": "c6fd8ef4-a47f-4d21-e6d8-1e679d1fb1e8"
      },
      "source": [
        "modelo.beta"
      ],
      "execution_count": null,
      "outputs": [
        {
          "output_type": "execute_result",
          "data": {
            "text/plain": [
              "[8.98302901571447, -0.03596896044485089, 0.021813956629835193]"
            ]
          },
          "metadata": {
            "tags": []
          },
          "execution_count": 25
        }
      ]
    },
    {
      "cell_type": "markdown",
      "metadata": {
        "id": "V7QJOWiR64qe"
      },
      "source": [
        "Tenga en cuenta que β 1 es negativo, ya que los pares de genes con una distancia entre genes más corta tienen una mayor probabilidad de pertenecer al mismo operón (clase OP). Por otro lado, β 2 es positivo, ya que los pares de genes que pertenecen al mismo operón suelen tener una puntuación de similitud más alta de sus perfiles de expresión génica. El parámetro β 0 es positivo debido a la mayor prevalencia de pares de genes de operón que de pares de genes sin operón en los datos de entrenamiento.\n",
        "\n",
        "La función traintiene dos argumentos opcionales: update_fny typecode. Laupdate_fn puede usar para especificar una función de devolución de llamada, tomando como argumentos el número de iteración y la probabilidad de registro. Con la función de devolución de llamada, podemos, por ejemplo, realizar un seguimiento del progreso del cálculo del modelo (que utiliza una iteración de Newton-Raphson para maximizar la función de probabilidad logarítmica del modelo de regresión logística):"
      ]
    },
    {
      "cell_type": "code",
      "metadata": {
        "id": "PRbbxOON66Df"
      },
      "source": [
        "def show_progress (iteración, loglikelihood):\n",
        "        print (\"Iteración:\", iteración, \"Función de probabilidad logarítmica:\",loglikelihood)"
      ],
      "execution_count": null,
      "outputs": []
    },
    {
      "cell_type": "code",
      "metadata": {
        "colab": {
          "base_uri": "https://localhost:8080/"
        },
        "id": "E33Hja3372iV",
        "outputId": "7e3eaf3a-c37d-407a-fec9-fd96533d0c87"
      },
      "source": [
        "modelo = LogisticRegression.train (xs, ys, update_fn = show_progress)"
      ],
      "execution_count": null,
      "outputs": [
        {
          "output_type": "stream",
          "text": [
            "Iteración: <built-in function iter> Función de probabilidad logarítmica: -11.78350206951907\n",
            "Iteración: <built-in function iter> Función de probabilidad logarítmica: -7.158867676721056\n",
            "Iteración: <built-in function iter> Función de probabilidad logarítmica: -5.76877209867943\n",
            "Iteración: <built-in function iter> Función de probabilidad logarítmica: -5.113622943382592\n",
            "Iteración: <built-in function iter> Función de probabilidad logarítmica: -4.748706424325651\n",
            "Iteración: <built-in function iter> Función de probabilidad logarítmica: -4.5002607714604785\n",
            "Iteración: <built-in function iter> Función de probabilidad logarítmica: -4.311277737371034\n",
            "Iteración: <built-in function iter> Función de probabilidad logarítmica: -4.160150433955946\n",
            "Iteración: <built-in function iter> Función de probabilidad logarítmica: -4.035617197847365\n",
            "Iteración: <built-in function iter> Función de probabilidad logarítmica: -3.93073282192017\n",
            "Iteración: <built-in function iter> Función de probabilidad logarítmica: -3.8408766092914277\n",
            "Iteración: <built-in function iter> Función de probabilidad logarítmica: -3.7628256060505034\n",
            "Iteración: <built-in function iter> Función de probabilidad logarítmica: -3.6942502715443513\n",
            "Iteración: <built-in function iter> Función de probabilidad logarítmica: -3.6334178601959204\n",
            "Iteración: <built-in function iter> Función de probabilidad logarítmica: -3.5790085583661533\n",
            "Iteración: <built-in function iter> Función de probabilidad logarítmica: -3.529996713864591\n",
            "Iteración: <built-in function iter> Función de probabilidad logarítmica: -3.4855714516343355\n",
            "Iteración: <built-in function iter> Función de probabilidad logarítmica: -3.4450820613931006\n",
            "Iteración: <built-in function iter> Función de probabilidad logarítmica: -3.4079994844651087\n",
            "Iteración: <built-in function iter> Función de probabilidad logarítmica: -3.373888562399737\n",
            "Iteración: <built-in function iter> Función de probabilidad logarítmica: -3.34238765810203\n",
            "Iteración: <built-in function iter> Función de probabilidad logarítmica: -3.3131934376911234\n",
            "Iteración: <built-in function iter> Función de probabilidad logarítmica: -3.286049334600596\n",
            "Iteración: <built-in function iter> Función de probabilidad logarítmica: -3.2607366863005263\n",
            "Iteración: <built-in function iter> Función de probabilidad logarítmica: -3.2370678409148415\n",
            "Iteración: <built-in function iter> Función de probabilidad logarítmica: -3.214880736138567\n",
            "Iteración: <built-in function iter> Función de probabilidad logarítmica: -3.1940345925857243\n",
            "Iteración: <built-in function iter> Función de probabilidad logarítmica: -3.1744064605163893\n",
            "Iteración: <built-in function iter> Función de probabilidad logarítmica: -3.155888427031874\n",
            "Iteración: <built-in function iter> Función de probabilidad logarítmica: -3.1383853394732353\n",
            "Iteración: <built-in function iter> Función de probabilidad logarítmica: -3.12181293594603\n",
            "Iteración: <built-in function iter> Función de probabilidad logarítmica: -3.10609629965671\n",
            "Iteración: <built-in function iter> Función de probabilidad logarítmica: -3.0911685728203997\n",
            "Iteración: <built-in function iter> Función de probabilidad logarítmica: -3.0769698801700422\n",
            "Iteración: <built-in function iter> Función de probabilidad logarítmica: -3.0634464228770595\n",
            "Iteración: <built-in function iter> Función de probabilidad logarítmica: -3.050549711911315\n",
            "Iteración: <built-in function iter> Función de probabilidad logarítmica: -3.0382359161858665\n",
            "Iteración: <built-in function iter> Función de probabilidad logarítmica: -3.0264653057277124\n",
            "Iteración: <built-in function iter> Función de probabilidad logarítmica: -3.015201773938085\n",
            "Iteración: <built-in function iter> Función de probabilidad logarítmica: -3.0044124260112413\n",
            "Iteración: <built-in function iter> Función de probabilidad logarítmica: -2.9940672229595724\n",
            "Iteración: <built-in function iter> Función de probabilidad logarítmica: -2.9841386725875942\n"
          ],
          "name": "stdout"
        }
      ]
    },
    {
      "cell_type": "markdown",
      "metadata": {
        "id": "4nB_RAk0985c"
      },
      "source": [
        "El modelo de regresión logística clasifica yxcE , yxcD como pertenecientes al mismo operón (clase OP), mientras que se predice que yxiB , yxiA pertenecen a diferentes operones:"
      ]
    },
    {
      "cell_type": "code",
      "metadata": {
        "colab": {
          "base_uri": "https://localhost:8080/"
        },
        "id": "T2QspCe59PY2",
        "outputId": "6eb6407f-56bc-4c04-95dc-a72a6f0ed65a"
      },
      "source": [
        "print (\"yxcE, yxcD:\", LogisticRegression.classify (modelo, [6, -173.143442352])) "
      ],
      "execution_count": null,
      "outputs": [
        {
          "output_type": "stream",
          "text": [
            "yxcE, yxcD: 1\n"
          ],
          "name": "stdout"
        }
      ]
    },
    {
      "cell_type": "code",
      "metadata": {
        "colab": {
          "base_uri": "https://localhost:8080/"
        },
        "id": "54nnE6Od9Xcp",
        "outputId": "935a69bf-b363-46ee-f929-0935ab75af8c"
      },
      "source": [
        "print (\"yxiB, yxiA:\", LogisticRegression.classify (modelo, [ 309, -271.005880394])) "
      ],
      "execution_count": null,
      "outputs": [
        {
          "output_type": "stream",
          "text": [
            "yxiB, yxiA: 0\n"
          ],
          "name": "stdout"
        }
      ]
    },
    {
      "cell_type": "markdown",
      "metadata": {
        "id": "j-xyCF-89q6G"
      },
      "source": [
        "abla 16.2: Pares de genes adyacentes de estado de operón desconocido.\n",
        "Par de genes\tDistancia intergene x 1\tPuntuación de expresión genética x 2\n",
        "yxcE - yxcD\t6\t-173.143442352\n",
        "yxiB - yxiA\t309\t-271.005880394"
      ]
    },
    {
      "cell_type": "markdown",
      "metadata": {
        "id": "V5n_37An-Pyy"
      },
      "source": [
        "que, por cierto, concuerda con la literatura biológica).\n",
        "\n",
        "Para averiguar qué tan seguros podemos estar en estas predicciones, podemos llamar a la calculatefunción para obtener las probabilidades (ecuaciones ( 16.2 ) y 16.3 ) para las clases OP y NOP. Para yxcE , yxcD encontramos"
      ]
    },
    {
      "cell_type": "code",
      "metadata": {
        "colab": {
          "base_uri": "https://localhost:8080/"
        },
        "id": "gZ-MKsvN9sou",
        "outputId": "35d13fcf-27cf-4749-d9a7-6c3021ee0a62"
      },
      "source": [
        "q, p = LogisticRegression.calculate (modelo, [6, -173.143442352]) \n",
        "print (\"clase OP: probabilidad =\", p, \"clase NOP: probabilidad =\", q) "
      ],
      "execution_count": null,
      "outputs": [
        {
          "output_type": "stream",
          "text": [
            "clase OP: probabilidad = 0.9932421635025626 clase NOP: probabilidad = 0.006757836497437442\n"
          ],
          "name": "stdout"
        }
      ]
    },
    {
      "cell_type": "markdown",
      "metadata": {
        "id": "IBm3PkgQ-3Qg"
      },
      "source": [
        "y para yxiB , yxiA"
      ]
    },
    {
      "cell_type": "code",
      "metadata": {
        "colab": {
          "base_uri": "https://localhost:8080/"
        },
        "id": "-HQ4_e7A-4U5",
        "outputId": "a16e08fd-3e56-421e-bee1-c8831bf196e4"
      },
      "source": [
        "q, p = LogisticRegression.calculate (modelo, [309, -271.005880394]) \n",
        "print (\"clase OP: probabilidad =\", p, \"clase NOP: probabilidad =\", q) "
      ],
      "execution_count": null,
      "outputs": [
        {
          "output_type": "stream",
          "text": [
            "clase OP: probabilidad = 0.00032121125181733257 clase NOP: probabilidad = 0.9996787887481827\n"
          ],
          "name": "stdout"
        }
      ]
    },
    {
      "cell_type": "markdown",
      "metadata": {
        "id": "gCkHlLqX_PF2"
      },
      "source": [
        "Para tener una idea de la precisión de la predicción del modelo de regresión logística, podemos aplicarlo a los datos de entrenamiento:"
      ]
    },
    {
      "cell_type": "code",
      "metadata": {
        "colab": {
          "base_uri": "https://localhost:8080/"
        },
        "id": "hJ4i5XKA_Q7f",
        "outputId": "423c997c-49c5-474c-b555-a552d97c010e"
      },
      "source": [
        "for i in range (len (ys)): \n",
        "        print (\"True:\", ys [i], \"Predicted:\", LogisticRegression.classify (modelo, xs [i])) "
      ],
      "execution_count": null,
      "outputs": [
        {
          "output_type": "stream",
          "text": [
            "True: 1 Predicted: 1\n",
            "True: 1 Predicted: 0\n",
            "True: 1 Predicted: 1\n",
            "True: 1 Predicted: 1\n",
            "True: 1 Predicted: 1\n",
            "True: 1 Predicted: 1\n",
            "True: 1 Predicted: 1\n",
            "True: 1 Predicted: 1\n",
            "True: 1 Predicted: 1\n",
            "True: 1 Predicted: 1\n",
            "True: 0 Predicted: 0\n",
            "True: 0 Predicted: 0\n",
            "True: 0 Predicted: 0\n",
            "True: 0 Predicted: 0\n",
            "True: 0 Predicted: 0\n",
            "True: 0 Predicted: 0\n",
            "True: 0 Predicted: 0\n"
          ],
          "name": "stdout"
        }
      ]
    },
    {
      "cell_type": "markdown",
      "metadata": {
        "id": "J2g8OLN2-O_K"
      },
      "source": [
        ""
      ]
    },
    {
      "cell_type": "markdown",
      "metadata": {
        "id": "FRgWtM2u_sM3"
      },
      "source": [
        "mostrando que la predicción es correcta para todos menos uno de los pares de genes. Se puede encontrar una estimación más confiable de la precisión de la predicción a partir de un análisis de omisión, en el que el modelo se vuelve a calcular a partir de los datos de entrenamiento después de eliminar el gen que se va a predecir:"
      ]
    },
    {
      "cell_type": "code",
      "metadata": {
        "colab": {
          "base_uri": "https://localhost:8080/"
        },
        "id": "SGZgeTNE_tjV",
        "outputId": "50a22fc6-f5cd-4ed5-fddf-50da362a9d0b"
      },
      "source": [
        "for i in range(len(ys)):\n",
        "        model = LogisticRegression.train(xs[:i]+xs[i+1:], ys[:i]+ys[i+1:])\n",
        "        print(\"True:\", ys[i], \"Predicted:\", LogisticRegression.classify(modelo, xs[i]))\n"
      ],
      "execution_count": null,
      "outputs": [
        {
          "output_type": "stream",
          "text": [
            "True: 1 Predicted: 1\n",
            "True: 1 Predicted: 0\n",
            "True: 1 Predicted: 1\n",
            "True: 1 Predicted: 1\n",
            "True: 1 Predicted: 1\n",
            "True: 1 Predicted: 1\n",
            "True: 1 Predicted: 1\n",
            "True: 1 Predicted: 1\n",
            "True: 1 Predicted: 1\n",
            "True: 1 Predicted: 1\n",
            "True: 0 Predicted: 0\n",
            "True: 0 Predicted: 0\n",
            "True: 0 Predicted: 0\n",
            "True: 0 Predicted: 0\n",
            "True: 0 Predicted: 0\n",
            "True: 0 Predicted: 0\n",
            "True: 0 Predicted: 0\n"
          ],
          "name": "stdout"
        }
      ]
    },
    {
      "cell_type": "code",
      "metadata": {
        "id": "UV9oEQr-BewH"
      },
      "source": [
        "\n",
        "\n",
        "\n",
        "from Bio import SeqIO\n"
      ],
      "execution_count": null,
      "outputs": []
    },
    {
      "cell_type": "code",
      "metadata": {
        "id": "7CW2zv_3CFsJ"
      },
      "source": [
        "record = SeqIO.read(\"/content/sequencebank.gb\", \"genbank\")"
      ],
      "execution_count": null,
      "outputs": []
    },
    {
      "cell_type": "code",
      "metadata": {
        "colab": {
          "base_uri": "https://localhost:8080/"
        },
        "id": "1Z-zvaIyCKyu",
        "outputId": "f554092b-b607-48a3-dfa8-81fd3629c0e4"
      },
      "source": [
        "record"
      ],
      "execution_count": null,
      "outputs": [
        {
          "output_type": "execute_result",
          "data": {
            "text/plain": [
              "SeqRecord(seq=UnknownSeq(9609, character='N'), id='NC_005816.1', name='NC_005816', description='Yersinia pestis biovar Microtus str. 91001 plasmid pPCP1, complete sequence', dbxrefs=['BioProject:PRJNA224116', 'BioSample:SAMN02602970', 'Assembly:GCF_000007885.1'])"
            ]
          },
          "metadata": {
            "tags": []
          },
          "execution_count": 46
        }
      ]
    },
    {
      "cell_type": "code",
      "metadata": {
        "colab": {
          "base_uri": "https://localhost:8080/"
        },
        "id": "PMlrMykOC3W-",
        "outputId": "34043dc9-2410-41fa-a683-7ba1675925b7"
      },
      "source": [
        "!pip install reportlab\n",
        "from reportlab.lib import colors\n",
        "from reportlab.lib.units import cm\n",
        "from Bio.Graphics import GenomeDiagram\n",
        "from Bio import SeqIO\n",
        "from Bio.SeqFeature import SeqFeature, FeatureLocation\n",
        "\n",
        "record = SeqIO.read(\"/content/sequencebank.gb\", \"genbank\")\n",
        "\n",
        "gd_diagram = GenomeDiagram.Diagram(record.id)\n",
        "gd_track_for_features = gd_diagram.new_track(1, name=\"Annotated Features\")\n",
        "gd_feature_set = gd_track_for_features.new_set()\n",
        "\n",
        "for feature in record.features:\n",
        "    if feature.type != \"gene\":\n",
        "        # Exclude this feature\n",
        "        continue\n",
        "    if len(gd_feature_set) % 2 == 0:\n",
        "        color = colors.blue\n",
        "    else:\n",
        "        color = colors.lightblue\n",
        "    gd_feature_set.add_feature(\n",
        "        feature, sigil=\"ARROW\", color=color, label=True, label_size=14, label_angle=0\n",
        "    )\n",
        "\n",
        "# I want to include some strandless features, so for an example\n",
        "# will use EcoRI recognition sites etc.\n",
        "for site, name, color in [\n",
        "    (\"GAATTC\", \"EcoRI\", colors.green),\n",
        "    (\"CCCGGG\", \"SmaI\", colors.orange),\n",
        "    (\"AAGCTT\", \"HindIII\", colors.red),\n",
        "    (\"GGATCC\", \"BamHI\", colors.purple),\n",
        "]:\n",
        "    index = 0\n",
        "    while True:\n",
        "        index = record.seq.find(site, start=index)\n",
        "        if index == -1:\n",
        "            break\n",
        "        feature = SeqFeature(FeatureLocation(index, index + len(site)))\n",
        "        gd_feature_set.add_feature(\n",
        "            feature,\n",
        "            color=color,\n",
        "            name=name,\n",
        "            label=True,\n",
        "            label_size=10,\n",
        "            label_color=color,\n",
        "        )\n",
        "        index += len(site)\n",
        "\n",
        "gd_diagram.draw(format=\"linear\", pagesize=\"A4\", fragments=4, start=0, end=len(record))\n",
        "gd_diagram.write(\"plasmid_linear_nice.pdf\", \"PDF\")\n",
        "gd_diagram.write(\"plasmid_linear_nice.eps\", \"EPS\")\n",
        "gd_diagram.write(\"plasmid_linear_nice.svg\", \"SVG\")\n",
        "\n",
        "gd_diagram.draw(\n",
        "    format=\"circular\",\n",
        "    circular=True,\n",
        "    pagesize=(20 * cm, 20 * cm),\n",
        "    start=0,\n",
        "    end=len(record),\n",
        "    circle_core=0.5,\n",
        ")\n",
        "gd_diagram.write(\"plasmid_circular_nice.pdf\", \"PDF\")\n",
        "gd_diagram.write(\"plasmid_circular_nice.eps\", \"EPS\")\n",
        "gd_diagram.write(\"plasmid_circular_nice.svg\", \"SVG\")\n",
        "#And the output:"
      ],
      "execution_count": null,
      "outputs": [
        {
          "output_type": "stream",
          "text": [
            "Requirement already satisfied: reportlab in /usr/local/lib/python3.7/dist-packages (3.5.67)\n",
            "Requirement already satisfied: pillow>=4.0.0 in /usr/local/lib/python3.7/dist-packages (from reportlab) (7.1.2)\n"
          ],
          "name": "stdout"
        }
      ]
    },
    {
      "cell_type": "code",
      "metadata": {
        "colab": {
          "base_uri": "https://localhost:8080/"
        },
        "id": "KF7U_nhKD4dC",
        "outputId": "81965b8d-dc6e-4473-acea-1615063d480c"
      },
      "source": [
        "print(record)"
      ],
      "execution_count": null,
      "outputs": [
        {
          "output_type": "stream",
          "text": [
            "ID: NC_005816.1\n",
            "Name: NC_005816\n",
            "Description: Yersinia pestis biovar Microtus str. 91001 plasmid pPCP1, complete sequence\n",
            "Database cross-references: BioProject:PRJNA224116, BioSample:SAMN02602970, Assembly:GCF_000007885.1\n",
            "Number of features: 19\n",
            "/molecule_type=DNA\n",
            "/topology=circular\n",
            "/data_file_division=CON\n",
            "/date=25-OCT-2020\n",
            "/accessions=['NC_005816']\n",
            "/sequence_version=1\n",
            "/keywords=['RefSeq']\n",
            "/source=Yersinia pestis biovar Microtus str. 91001\n",
            "/organism=Yersinia pestis biovar Microtus str. 91001\n",
            "/taxonomy=['Bacteria', 'Proteobacteria', 'Gammaproteobacteria', 'Enterobacterales', 'Yersiniaceae', 'Yersinia']\n",
            "/references=[Reference(title='Genetics of metabolic variations between Yersinia pestis biovars and the proposal of a new biovar, microtus', ...), Reference(title='Complete genome sequence of Yersinia pestis strain 91001, an isolate avirulent to humans', ...), Reference(title='Direct Submission', ...)]\n",
            "/comment=REFSEQ INFORMATION: The reference sequence is identical to\n",
            "AE017046.1.\n",
            "The annotation was added by the NCBI Prokaryotic Genome Annotation\n",
            "Pipeline (PGAP). Information about PGAP can be found here:\n",
            "https://www.ncbi.nlm.nih.gov/genome/annotation_prok/\n",
            "COMPLETENESS: full length.\n",
            "/structured_comment=OrderedDict([('Genome-Annotation-Data', OrderedDict([('Annotation Provider', 'NCBI RefSeq'), ('Annotation Date', '10/25/2020 11:06:08'), ('Annotation Pipeline', 'NCBI Prokaryotic Genome Annotation Pipeline (PGAP)'), ('Annotation Method', 'Best-placed reference protein set; GeneMarkS-2+'), ('Annotation Software revision', '4.13'), ('Features Annotated', 'Gene; CDS; rRNA; tRNA; ncRNA; repeat_region'), ('Genes (total)', '4,315'), ('CDSs (total)', '4,211'), ('Genes (coding)', '4,029'), ('CDSs (with protein)', '4,029'), ('Genes (RNA)', '104'), ('rRNAs', '8, 7, 7 (5S, 16S, 23S)'), ('complete rRNAs', '8, 7, 7 (5S, 16S, 23S)'), ('tRNAs', '72'), ('ncRNAs', '10'), ('Pseudo Genes (total)', '182'), ('CDSs (without protein)', '182'), ('Pseudo Genes (ambiguous residues)', '0 of 182'), ('Pseudo Genes (frameshifted)', '87 of 182'), ('Pseudo Genes (incomplete)', '102 of 182'), ('Pseudo Genes (internal stop)', '24 of 182'), ('Pseudo Genes (multiple problems)', '28 of 182'), ('CRISPR Arrays', '1')]))])\n",
            "/contig=join(AE017046.1:1..9609)\n",
            "UnknownSeq(9609, character='N')\n"
          ],
          "name": "stdout"
        }
      ]
    }
  ]
}